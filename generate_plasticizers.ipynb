{
 "cells": [
  {
   "cell_type": "markdown",
   "metadata": {},
   "source": [
    "# Notebook for structure generation and parameterization of small-molecule plasticizers"
   ]
  },
  {
   "cell_type": "code",
   "execution_count": 1,
   "metadata": {},
   "outputs": [],
   "source": [
    "import logging\n",
    "logging.basicConfig(\n",
    "    level=logging.INFO\n",
    ")\n",
    "\n",
    "from pathlib import Path\n",
    "\n",
    "WORKING_DIR : Path = Path('plasticizer_project')\n",
    "WORKING_DIR.mkdir(exist_ok=True)"
   ]
  },
  {
   "cell_type": "markdown",
   "metadata": {},
   "source": [
    "## Functionalizing and parameterizing plasticizers"
   ]
  },
  {
   "cell_type": "code",
   "execution_count": 2,
   "metadata": {},
   "outputs": [
    {
     "name": "stderr",
     "output_type": "stream",
     "text": [
      "INFO:rdkit:Enabling RDKit 2023.09.5 jupyter extensions\n",
      "INFO:numexpr.utils:Note: NumExpr detected 20 cores but \"NUMEXPR_MAX_THREADS\" not set, so enforcing safe limit of 8.\n",
      "INFO:numexpr.utils:NumExpr defaulting to 8 threads.\n"
     ]
    },
    {
     "data": {
      "application/vnd.jupyter.widget-view+json": {
       "model_id": "c22577fe049e4e828d367a5dd7c890ed",
       "version_major": 2,
       "version_minor": 0
      },
      "text/plain": []
     },
     "metadata": {},
     "output_type": "display_data"
    },
    {
     "name": "stderr",
     "output_type": "stream",
     "text": [
      "[16:00:17] WARNING: not removing hydrogen atom with dummy atom neighbors\n",
      "INFO:polymerist.smileslib.functgroups:Loading functional group SMARTS data from LUT\n"
     ]
    }
   ],
   "source": [
    "from typing import Optional\n",
    "from rdkit import Chem\n",
    "\n",
    "from polymerist.polymers.monomers import specification\n",
    "from polymerist.rdutils.labeling import molwise\n",
    "from polymerist.rdutils.bonding.substitution import saturate_ports\n",
    "from polymerist.rdutils.bonding import portlib\n",
    "\n",
    "\n",
    "def functionalize_phenyl(substituent_map : dict[int, Chem.Mol], default_cap : Chem.Mol=None) -> Chem.Mol:\n",
    "    '''Accepts a dict keyed by port flavors 1-6 (corresponding to phenyl substitution sites) and mapping to single-port cap fragments. \n",
    "    Returns the resulting substituted benzene-derived molecule'''\n",
    "    if default_cap is None:\n",
    "        default_cap = Chem.MolFromSmiles('[7*]-[H]', sanitize=False) # use lone hydrogen as default cap\n",
    "        Chem.SanitizeMol(default_cap, sanitizeOps=specification.SANITIZE_AS_KEKULE)\n",
    "\n",
    "    phenyl_template_smiles = 'c([1*])1c([2*])c([3*])c([4*])c([5*])c([6*])1'\n",
    "    phenyl_template = Chem.MolFromSmiles(phenyl_template_smiles, sanitize=False)\n",
    "    Chem.SanitizeMol(phenyl_template, sanitizeOps=specification.SANITIZE_AS_KEKULE)\n",
    "\n",
    "    for port in portlib.get_ports(phenyl_template):\n",
    "        cap_group = substituent_map.get(port.flavor, default_cap)\n",
    "        if cap_group is not None:\n",
    "            cap_port = portlib.get_single_port(cap_group)\n",
    "            flavor_pair = (port.flavor, cap_port.flavor)\n",
    "            portlib.Port.bondable_flavors.insert(flavor_pair)\n",
    "\n",
    "            phenyl_template = saturate_ports(phenyl_template, cap=cap_group, flavor_to_saturate=port.flavor)\n",
    "            molwise.clear_atom_map_nums(phenyl_template, in_place=True)\n",
    "            Chem.SanitizeMol(phenyl_template, sanitizeOps=specification.SANITIZE_AS_KEKULE)\n",
    "\n",
    "            portlib.Port.bondable_flavors.pop(flavor_pair) # deregister flavor pair once substitution is made\n",
    "\n",
    "    return phenyl_template"
   ]
  },
  {
   "cell_type": "code",
   "execution_count": 3,
   "metadata": {},
   "outputs": [
    {
     "name": "stdout",
     "output_type": "stream",
     "text": [
      "hydrogen\n"
     ]
    },
    {
     "data": {
      "image/png": "[encoded data removed]",
      "text/plain": [
       "<rdkit.Chem.rdchem.Mol at 0x7f0ca756af10>"
      ]
     },
     "metadata": {},
     "output_type": "display_data"
    },
    {
     "name": "stdout",
     "output_type": "stream",
     "text": [
      "methoxyl\n"
     ]
    },
    {
     "data": {
      "image/png": "[encoded data removed]",
      "text/plain": [
       "<rdkit.Chem.rdchem.Mol at 0x7f0ca756ae30>"
      ]
     },
     "metadata": {},
     "output_type": "display_data"
    },
    {
     "name": "stdout",
     "output_type": "stream",
     "text": [
      "butyl_ester\n"
     ]
    },
    {
     "data": {
      "image/png": "[encoded data removed]",
      "text/plain": [
       "<rdkit.Chem.rdchem.Mol at 0x7f0ca756ace0>"
      ]
     },
     "metadata": {},
     "output_type": "display_data"
    },
    {
     "name": "stdout",
     "output_type": "stream",
     "text": [
      "hexan-3-yl_ester\n"
     ]
    },
    {
     "data": {
      "image/png": "[encoded data removed]",
      "text/plain": [
       "<rdkit.Chem.rdchem.Mol at 0x7f0ca756b140>"
      ]
     },
     "metadata": {},
     "output_type": "display_data"
    }
   ],
   "source": [
    "sidechain_smi = {\n",
    "    'hydrogen'         : '[7*]-[H]',\n",
    "    'methoxyl'         : '[8*]OC',\n",
    "    'butyl_ester'      : '[9*]C(=O)OCCCC',\n",
    "    'hexan-3-yl_ester' : '[10*]C(=O)OCC(CC)CCCC',\n",
    "}\n",
    "\n",
    "substituent_templates = {}\n",
    "for fragname, smi in sidechain_smi.items():\n",
    "    mol = Chem.MolFromSmiles(smi, sanitize=False)\n",
    "    Chem.SanitizeMol(mol, sanitizeOps=specification.SANITIZE_AS_KEKULE)\n",
    "    print(fragname)\n",
    "    display(mol)\n",
    "    substituent_templates[fragname] = mol"
   ]
  },
  {
   "cell_type": "code",
   "execution_count": 4,
   "metadata": {},
   "outputs": [],
   "source": [
    "substituents : tuple[dict[int, Chem.Mol]] = (\n",
    "    {\n",
    "        1 : substituent_templates['butyl_ester'],\n",
    "        4 : substituent_templates['butyl_ester'],\n",
    "    },\n",
    "    {\n",
    "        1 : substituent_templates['butyl_ester'],\n",
    "        2 : substituent_templates['butyl_ester'],\n",
    "    },\n",
    "    {\n",
    "        1 : substituent_templates['hexan-3-yl_ester'],\n",
    "        4 : substituent_templates['hexan-3-yl_ester'],\n",
    "    },\n",
    "    {\n",
    "        1 : substituent_templates['hexan-3-yl_ester'],\n",
    "        2 : substituent_templates['hexan-3-yl_ester'],\n",
    "    },\n",
    "    {\n",
    "        1 : substituent_templates['butyl_ester'],\n",
    "        2 : substituent_templates['methoxyl'],\n",
    "        4 : substituent_templates['butyl_ester'],\n",
    "    },\n",
    "    {\n",
    "        1 : substituent_templates['hexan-3-yl_ester'],\n",
    "        2 : substituent_templates['methoxyl'],\n",
    "        4 : substituent_templates['hexan-3-yl_ester'],\n",
    "    },\n",
    "    {\n",
    "        1 : substituent_templates['butyl_ester'],\n",
    "        2 : substituent_templates['methoxyl'],\n",
    "        4 : substituent_templates['butyl_ester'],\n",
    "        6 : substituent_templates['methoxyl'],\n",
    "    },\n",
    "    {\n",
    "        1 : substituent_templates['hexan-3-yl_ester'],\n",
    "        2 : substituent_templates['methoxyl'],\n",
    "        4 : substituent_templates['hexan-3-yl_ester'],\n",
    "        6 : substituent_templates['methoxyl'],\n",
    "    },\n",
    ")"
   ]
  },
  {
   "cell_type": "code",
   "execution_count": 5,
   "metadata": {},
   "outputs": [
    {
     "name": "stderr",
     "output_type": "stream",
     "text": [
      "INFO:polymerist.mdtools.openfftools.partialcharge.molchargers:Assigning partial charges via the \"Espaloma-AM1-BCC\" method\n",
      "/home/timber/miniconda3/envs/polymerist-env/lib/python3.11/site-packages/espaloma_charge/openff_wrapper.py:112: IncorrectNumConformersWarning: Molecule 'Molecule with name 'dibutyl benzene-1,4-dicarboxylate' and SMILES '[H]c1c(c(c(c(c1C(=O)OC([H])([H])C([H])([H])C([H])([H])C([H])([H])[H])[H])[H])C(=O)OC([H])([H])C([H])([H])C([H])([H])C([H])([H])[H])[H]'' has 1 conformers, but charge method 'espaloma-am1bcc' expects exactly 0.\n",
      "  self._check_n_conformers(\n",
      "/home/timber/miniconda3/envs/polymerist-env/lib/python3.11/site-packages/dgl/heterograph.py:92: DGLWarning: Recommend creating graphs by `dgl.graph(data)` instead of `dgl.DGLGraph(data)`.\n",
      "  dgl_warning(\n",
      "INFO:polymerist.mdtools.openfftools.partialcharge.molchargers:Successfully assigned \"Espaloma-AM1-BCC\" charges\n",
      "INFO:polymerist.mdtools.openfftools.topology:Successfully serialized SDF Topology to plasticizer_project/plasticizers/hJYwC0UNOuZrhDsqTbuULg.sdf\n",
      "INFO:polymerist.mdtools.openfftools.partialcharge.molchargers:Assigning partial charges via the \"Espaloma-AM1-BCC\" method\n",
      "/home/timber/miniconda3/envs/polymerist-env/lib/python3.11/site-packages/espaloma_charge/openff_wrapper.py:112: IncorrectNumConformersWarning: Molecule 'Molecule with name 'dibutyl benzene-1,2-dicarboxylate' and SMILES '[H]c1c(c(c(c(c1[H])C(=O)OC([H])([H])C([H])([H])C([H])([H])C([H])([H])[H])C(=O)OC([H])([H])C([H])([H])C([H])([H])C([H])([H])[H])[H])[H]'' has 1 conformers, but charge method 'espaloma-am1bcc' expects exactly 0.\n",
      "  self._check_n_conformers(\n",
      "INFO:polymerist.mdtools.openfftools.partialcharge.molchargers:Successfully assigned \"Espaloma-AM1-BCC\" charges\n",
      "INFO:polymerist.mdtools.openfftools.topology:Successfully serialized SDF Topology to plasticizer_project/plasticizers/ooUN9MZtC1As1pj23WrqoA.sdf\n",
      "INFO:polymerist.mdtools.openfftools.partialcharge.molchargers:Assigning partial charges via the \"Espaloma-AM1-BCC\" method\n",
      "/home/timber/miniconda3/envs/polymerist-env/lib/python3.11/site-packages/espaloma_charge/openff_wrapper.py:112: IncorrectNumConformersWarning: Molecule 'Molecule with name 'bis(2-ethylhexyl) benzene-1,4-dicarboxylate' and SMILES '[H]c1c(c(c(c(c1C(=O)OC([H])([H])C([H])(C([H])([H])C([H])([H])[H])C([H])([H])C([H])([H])C([H])([H])C([H])([H])[H])[H])[H])C(=O)OC([H])([H])C([H])(C([H])([H])C([H])([H])[H])C([H])([H])C([H])([H])C([H])([H])C([H])([H])[H])[H]'' has 1 conformers, but charge method 'espaloma-am1bcc' expects exactly 0.\n",
      "  self._check_n_conformers(\n",
      "INFO:polymerist.mdtools.openfftools.partialcharge.molchargers:Successfully assigned \"Espaloma-AM1-BCC\" charges\n",
      "INFO:polymerist.mdtools.openfftools.topology:Successfully serialized SDF Topology to plasticizer_project/plasticizers/WDxVw9rUCKHru_Z0NBVNTA.sdf\n",
      "INFO:polymerist.mdtools.openfftools.partialcharge.molchargers:Assigning partial charges via the \"Espaloma-AM1-BCC\" method\n",
      "/home/timber/miniconda3/envs/polymerist-env/lib/python3.11/site-packages/espaloma_charge/openff_wrapper.py:112: IncorrectNumConformersWarning: Molecule 'Molecule with name 'bis(2-ethylhexyl) benzene-1,2-dicarboxylate' and SMILES '[H]c1c(c(c(c(c1[H])C(=O)OC([H])([H])C([H])(C([H])([H])C([H])([H])[H])C([H])([H])C([H])([H])C([H])([H])C([H])([H])[H])C(=O)OC([H])([H])C([H])(C([H])([H])C([H])([H])[H])C([H])([H])C([H])([H])C([H])([H])C([H])([H])[H])[H])[H]'' has 1 conformers, but charge method 'espaloma-am1bcc' expects exactly 0.\n",
      "  self._check_n_conformers(\n",
      "INFO:polymerist.mdtools.openfftools.partialcharge.molchargers:Successfully assigned \"Espaloma-AM1-BCC\" charges\n",
      "INFO:polymerist.mdtools.openfftools.topology:Successfully serialized SDF Topology to plasticizer_project/plasticizers/VBEVI-2YNATeZukwVwMhCA.sdf\n",
      "INFO:polymerist.mdtools.openfftools.partialcharge.molchargers:Assigning partial charges via the \"Espaloma-AM1-BCC\" method\n",
      "/home/timber/miniconda3/envs/polymerist-env/lib/python3.11/site-packages/espaloma_charge/openff_wrapper.py:112: IncorrectNumConformersWarning: Molecule 'Molecule with name '' and SMILES '[H]c1c(c(c(c(c1C(=O)OC([H])([H])C([H])([H])C([H])([H])C([H])([H])[H])[H])OC([H])([H])[H])C(=O)OC([H])([H])C([H])([H])C([H])([H])C([H])([H])[H])[H]'' has 1 conformers, but charge method 'espaloma-am1bcc' expects exactly 0.\n",
      "  self._check_n_conformers(\n",
      "INFO:polymerist.mdtools.openfftools.partialcharge.molchargers:Successfully assigned \"Espaloma-AM1-BCC\" charges\n",
      "INFO:polymerist.mdtools.openfftools.topology:Successfully serialized SDF Topology to plasticizer_project/plasticizers/6gQskIFGlwxoXvTu9OZRLg.sdf\n",
      "INFO:polymerist.mdtools.openfftools.partialcharge.molchargers:Assigning partial charges via the \"Espaloma-AM1-BCC\" method\n",
      "/home/timber/miniconda3/envs/polymerist-env/lib/python3.11/site-packages/espaloma_charge/openff_wrapper.py:112: IncorrectNumConformersWarning: Molecule 'Molecule with name '' and SMILES '[H]c1c(c(c(c(c1C(=O)OC([H])([H])C([H])(C([H])([H])C([H])([H])[H])C([H])([H])C([H])([H])C([H])([H])C([H])([H])[H])[H])OC([H])([H])[H])C(=O)OC([H])([H])C([H])(C([H])([H])C([H])([H])[H])C([H])([H])C([H])([H])C([H])([H])C([H])([H])[H])[H]'' has 1 conformers, but charge method 'espaloma-am1bcc' expects exactly 0.\n",
      "  self._check_n_conformers(\n",
      "INFO:polymerist.mdtools.openfftools.partialcharge.molchargers:Successfully assigned \"Espaloma-AM1-BCC\" charges\n",
      "INFO:polymerist.mdtools.openfftools.topology:Successfully serialized SDF Topology to plasticizer_project/plasticizers/AJUnLZqagPP4CnSzHu5eRg.sdf\n",
      "INFO:polymerist.mdtools.openfftools.partialcharge.molchargers:Assigning partial charges via the \"Espaloma-AM1-BCC\" method\n",
      "/home/timber/miniconda3/envs/polymerist-env/lib/python3.11/site-packages/espaloma_charge/openff_wrapper.py:112: IncorrectNumConformersWarning: Molecule 'Molecule with name '' and SMILES '[H]c1c(c(c(c(c1OC([H])([H])[H])C(=O)OC([H])([H])C([H])([H])C([H])([H])C([H])([H])[H])OC([H])([H])[H])[H])C(=O)OC([H])([H])C([H])([H])C([H])([H])C([H])([H])[H]'' has 1 conformers, but charge method 'espaloma-am1bcc' expects exactly 0.\n",
      "  self._check_n_conformers(\n",
      "INFO:polymerist.mdtools.openfftools.partialcharge.molchargers:Successfully assigned \"Espaloma-AM1-BCC\" charges\n",
      "INFO:polymerist.mdtools.openfftools.topology:Successfully serialized SDF Topology to plasticizer_project/plasticizers/qtVuhe4TDJ6-Ca5heNmZvg.sdf\n",
      "INFO:polymerist.mdtools.openfftools.partialcharge.molchargers:Assigning partial charges via the \"Espaloma-AM1-BCC\" method\n",
      "/home/timber/miniconda3/envs/polymerist-env/lib/python3.11/site-packages/espaloma_charge/openff_wrapper.py:112: IncorrectNumConformersWarning: Molecule 'Molecule with name '' and SMILES '[H]c1c(c(c(c(c1OC([H])([H])[H])C(=O)OC([H])([H])C([H])(C([H])([H])C([H])([H])[H])C([H])([H])C([H])([H])C([H])([H])C([H])([H])[H])OC([H])([H])[H])[H])C(=O)OC([H])([H])C([H])(C([H])([H])C([H])([H])[H])C([H])([H])C([H])([H])C([H])([H])C([H])([H])[H]'' has 1 conformers, but charge method 'espaloma-am1bcc' expects exactly 0.\n",
      "  self._check_n_conformers(\n",
      "INFO:polymerist.mdtools.openfftools.partialcharge.molchargers:Successfully assigned \"Espaloma-AM1-BCC\" charges\n",
      "INFO:polymerist.mdtools.openfftools.topology:Successfully serialized SDF Topology to plasticizer_project/plasticizers/xJ4C92y_SwklnvxriIZmIQ.sdf\n"
     ]
    }
   ],
   "source": [
    "from pathlib import Path\n",
    "\n",
    "from rdkit.Chem.AllChem import EmbedMolecule\n",
    "from openff.toolkit import Molecule, Topology\n",
    "\n",
    "from polymerist.genutils.textual.encoding import hash_as_alphanumeric\n",
    "from polymerist.genutils.fileutils.pathutils import assemble_path\n",
    "from polymerist.smileslib.chemdbqueries import get_property_from_smiles\n",
    "from polymerist.mdtools.openfftools import topology, TKREGS\n",
    "from polymerist.mdtools.openfftools.partialcharge.molchargers import MolCharger\n",
    "\n",
    "\n",
    "# build execution\n",
    "charge_method : str = 'Espaloma-AM1-BCC'\n",
    "CHARGER = MolCharger.subclass_registry[charge_method]()\n",
    "\n",
    "plast_dir : Path = WORKING_DIR / 'plasticizers'\n",
    "plast_dir.mkdir(exist_ok=True)\n",
    "\n",
    "for substituent_map in substituents:\n",
    "    plasticizer = functionalize_phenyl(substituent_map, default_cap=substituent_templates['hydrogen'])\n",
    "    plasticizer_smi = Chem.MolToSmiles(plasticizer, canonical=True)\n",
    "    plasticizer_smi_exp = specification.expanded_SMILES(plasticizer_smi, assign_map_nums=False)\n",
    "\n",
    "    plasticizer_full = Chem.MolFromSmiles(plasticizer_smi_exp, sanitize=False)\n",
    "    Chem.SanitizeMol(plasticizer_full, sanitizeOps=specification.SANITIZE_AS_KEKULE)\n",
    "    errcode = EmbedMolecule(plasticizer_full)\n",
    "    assert(errcode == 0)\n",
    "    \n",
    "    offmol = Molecule.from_rdkit(plasticizer_full, allow_undefined_stereo=True)\n",
    "    iupac_name = get_property_from_smiles(plasticizer_smi, prop_name='iupac_name')\n",
    "    if iupac_name is not None:\n",
    "        offmol.name = iupac_name\n",
    "    cmol = CHARGER.charge_molecule(offmol, in_place=False)\n",
    "\n",
    "    hashname = hash_as_alphanumeric(plasticizer_smi)\n",
    "    topo_path = assemble_path(plast_dir, hashname, extension='sdf')\n",
    "    topology.topology_to_sdf(topo_path, cmol.to_topology(), toolkit_registry=TKREGS['The RDKit'])"
   ]
  },
  {
   "cell_type": "markdown",
   "metadata": {},
   "source": [
    "# Generating single oligomers for melts"
   ]
  },
  {
   "cell_type": "code",
   "execution_count": 6,
   "metadata": {},
   "outputs": [],
   "source": [
    "from rdkit import Chem\n",
    "import numpy as np\n",
    "\n",
    "import mdtraj as mdt\n",
    "from openff.toolkit import Topology, Molecule, ForceField\n",
    "from openff.units import unit as offunit\n",
    "from openmm.unit import femtosecond, picosecond, nanosecond, kelvin, atmosphere\n",
    "from openmm.unit import Quantity, Unit, nanometer\n",
    "\n",
    "from polymerist.genutils.fileutils.pathutils import assemble_path\n",
    "from polymerist.unitutils.interop import openmm_to_openff, openff_to_openmm\n",
    "\n",
    "from polymerist.rdutils.rdcoords.tiling import rdmol_effective_radius\n",
    "from polymerist.polymers.monomers import specification, MonomerGroup\n",
    "from polymerist.polymers.building import build_linear_polymer, mbmol_to_openmm_pdb\n",
    "\n",
    "from polymerist.mdtools.openfftools import topology, boxvectors\n",
    "from polymerist.mdtools.openfftools.partialcharge.molchargers import MolCharger\n",
    "\n",
    "from polymerist.mdtools.openmmtools.parameters import SimulationParameters, ThermoParameters, IntegratorParameters, ReporterParameters\n",
    "from polymerist.mdtools.openmmtools.thermo import EnsembleFactory\n",
    "from polymerist.mdtools.openmmtools.execution import run_simulation_schedule\n",
    "\n",
    "from polybuild_utils import generate_uniform_subpopulated_lattice, initialize_polymer_progress"
   ]
  },
  {
   "cell_type": "markdown",
   "metadata": {},
   "source": [
    "### Simulation and topology parameters"
   ]
  },
  {
   "cell_type": "code",
   "execution_count": 7,
   "metadata": {},
   "outputs": [],
   "source": [
    "# topology parameters\n",
    "DOP : int = 100\n",
    "MAX_NUM_ATOMS : int = 80_000\n",
    "substructs = {\n",
    "    'polyvinylchloride' : {\n",
    "        'MID'   : '*C(Cl)C*',\n",
    "        'TERM1' : 'ClC=C*',\n",
    "        'TERM2' : '*C(Cl)C',\n",
    "    },\n",
    "    # 'polylactic_acid' : {\n",
    "    #     'MID'   : '*C(C)C(=O)O*',\n",
    "    #     'TERM1' : 'OC(C)C(=O)O*',\n",
    "    #     'TERM2' : '*C(C)C(=O)O',\n",
    "    # },\n",
    "}\n",
    "\n",
    "# global MD setup parameters\n",
    "switching_function : bool = False\n",
    "exclusion : Quantity = 0.0 * nanometer \n",
    "nonbond_cutoff : Quantity = 0.9 * nanometer\n",
    "\n",
    "charge_method : str = 'Espaloma-AM1-BCC'\n",
    "force_field_name : str = 'openff_unconstrained-2.0.0.offxml' # 'openff-2.0.0.offxml'\n",
    "\n",
    "sim_params = SimulationParameters( # for conformer anneal\n",
    "    integ_params=IntegratorParameters(\n",
    "        time_step=1*femtosecond,\n",
    "        total_time=1*nanosecond,\n",
    "        num_samples=100\n",
    "    ),\n",
    "    thermo_params=ThermoParameters(\n",
    "        ensemble='NVT',\n",
    "        temperature=600*kelvin,\n",
    "        friction_coeff=1*picosecond**-1,\n",
    "    ),\n",
    "    reporter_params=ReporterParameters(),\n",
    ")"
   ]
  },
  {
   "cell_type": "code",
   "execution_count": 8,
   "metadata": {},
   "outputs": [
    {
     "name": "stderr",
     "output_type": "stream",
     "text": [
      "INFO:openff.toolkit.typing.engines.smirnoff.parameters:Attempting to up-convert vdW section from 0.3 to 0.4\n",
      "INFO:openff.toolkit.typing.engines.smirnoff.parameters:Successfully up-converted vdW section from 0.3 to 0.4. `method=\"cutoff\"` is now split into `periodic_method=\"cutoff\"` and `nonperiodic_method=\"no-cutoff\"`.\n",
      "INFO:openff.toolkit.typing.engines.smirnoff.parameters:Attempting to up-convert Electrostatics section from 0.3 to 0.4\n",
      "INFO:openff.toolkit.typing.engines.smirnoff.parameters:Successfully up-converted Electrostatics section from 0.3 to 0.4. `method=\"PME\"` is now split into `periodic_potential=\"Ewald3D-ConductingBoundary\"`, `nonperiodic_potential=\"Coulomb\"`, and `exception_potential=\"Coulomb\"`.\n"
     ]
    }
   ],
   "source": [
    "# pre-init from parameters\n",
    "CHARGER = MolCharger.subclass_registry[charge_method]()\n",
    "FORCEFIELD = ForceField(force_field_name)\n",
    "ENSFAC = EnsembleFactory.from_thermo_params(sim_params.thermo_params)\n",
    "\n",
    "min_box_dim : Quantity = 2 * nonbond_cutoff # should be at least twice the nonbonded cutoff to avoid self-interaction\n",
    "MIN_BBOX = openmm_to_openff(min_box_dim * np.eye(3))\n",
    "\n",
    "ommsim_schedule = {\n",
    "    'high_T_anneal' : sim_params\n",
    "}"
   ]
  },
  {
   "cell_type": "code",
   "execution_count": 9,
   "metadata": {},
   "outputs": [
    {
     "name": "stderr",
     "output_type": "stream",
     "text": [
      "WARNING:polymerist.polymers.monomers.specification:Cleaned 8 SMARTS atom query aberrations introduced by RDKit\n",
      "WARNING:polymerist.polymers.monomers.specification:Cleaned 6 SMARTS atom query aberrations introduced by RDKit\n",
      "WARNING:polymerist.polymers.monomers.specification:Cleaned 8 SMARTS atom query aberrations introduced by RDKit\n",
      "INFO:polymerist.polymers.building:Using pre-defined terminal group orientation {'polyvinylchloride_TERM1': 'head', 'polyvinylchloride_TERM2': 'tail'}\n",
      "INFO:polymerist.polymers.building:Registering middle monomer polyvinylchloride_MID (block identifier \"A\")\n",
      "INFO:polymerist.polymers.building:Registering terminal monomer polyvinylchloride_TERM1 (orientation \"head\")\n",
      "INFO:polymerist.polymers.building:Registering terminal monomer polyvinylchloride_TERM2 (orientation \"tail\")\n",
      "INFO:polymerist.polymers.building:Assembling linear polymer chain with 100 monomers (600 atoms)\n",
      "INFO:polymerist.polymers.building:Successfully assembled linear polymer chain with 100 monomers (600 atoms)\n",
      "INFO:polymerist.mdtools.openfftools.partialcharge.molchargers:Assigning partial charges via the \"Espaloma-AM1-BCC\" method\n",
      "/home/timber/miniconda3/envs/polymerist-env/lib/python3.11/site-packages/espaloma_charge/openff_wrapper.py:112: IncorrectNumConformersWarning: Molecule 'Molecule with name '' and SMILES '[H]/C(=C(/[H])\\Cl)/[C@]([H])(C([H])([H])[C@]([H])(C([H])([H])[C@]([H])(C([H])([H])[C@]([H])(C([H])([H])[C@]([H])(C([H])([H])[C@]([H])(C([H])([H])[C@]([H])(C([H])([H])[C@]([H])(C([H])([H])[C@]([H])(C([H])([H])[C@]([H])(C([H])([H])[C@]([H])(C([H])([H])[C@]([H])(C([H])([H])[C@]([H])(C([H])([H])[C@]([H])(C([H])([H])[C@]([H])(C([H])([H])[C@]([H])(C([H])([H])[C@]([H])(C([H])([H])[C@]([H])(C([H])([H])[C@]([H])(C([H])([H])[C@]([H])(C([H])([H])[C@]([H])(C([H])([H])[C@]([H])(C([H])([H])[C@]([H])(C([H])([H])[C@]([H])(C([H])([H])[C@]([H])(C([H])([H])[C@]([H])(C([H])([H])[C@]([H])(C([H])([H])[C@]([H])(C([H])([H])[C@]([H])(C([H])([H])[C@]([H])(C([H])([H])[C@]([H])(C([H])([H])[C@]([H])(C([H])([H])[C@]([H])(C([H])([H])[C@]([H])(C([H])([H])[C@]([H])(C([H])([H])[C@]([H])(C([H])([H])[C@]([H])(C([H])([H])[C@]([H])(C([H])([H])[C@]([H])(C([H])([H])[C@]([H])(C([H])([H])[C@]([H])(C([H])([H])[C@]([H])(C([H])([H])[C@]([H])(C([H])([H])[C@]([H])(C([H])([H])[C@]([H])(C([H])([H])[C@]([H])(C([H])([H])[C@]([H])(C([H])([H])[C@]([H])(C([H])([H])[C@]([H])(C([H])([H])[C@]([H])(C([H])([H])[C@]([H])(C([H])([H])[C@]([H])(C([H])([H])[C@]([H])(C([H])([H])[C@]([H])(C([H])([H])[C@]([H])(C([H])([H])[C@]([H])(C([H])([H])[C@]([H])(C([H])([H])[C@]([H])(C([H])([H])[C@]([H])(C([H])([H])[C@]([H])(C([H])([H])[C@]([H])(C([H])([H])[C@]([H])(C([H])([H])[C@]([H])(C([H])([H])[C@]([H])(C([H])([H])[C@]([H])(C([H])([H])[C@]([H])(C([H])([H])[C@]([H])(C([H])([H])[C@]([H])(C([H])([H])[C@]([H])(C([H])([H])[C@]([H])(C([H])([H])[C@]([H])(C([H])([H])[C@]([H])(C([H])([H])[C@]([H])(C([H])([H])[C@]([H])(C([H])([H])[C@]([H])(C([H])([H])[C@]([H])(C([H])([H])[C@]([H])(C([H])([H])[C@]([H])(C([H])([H])[C@]([H])(C([H])([H])[C@]([H])(C([H])([H])[C@]([H])(C([H])([H])[C@]([H])(C([H])([H])[C@]([H])(C([H])([H])[C@]([H])(C([H])([H])[C@]([H])(C([H])([H])[C@]([H])(C([H])([H])[C@]([H])(C([H])([H])[C@]([H])(C([H])([H])[C@]([H])(C([H])([H])[C@]([H])(C([H])([H])[C@]([H])(C([H])([H])[C@]([H])(C([H])([H])[C@]([H])(C([H])([H])[C@]([H])(C([H])([H])[C@]([H])(C([H])([H])[C@]([H])(C([H])([H])[C@]([H])(C([H])([H])[C@]([H])(C([H])([H])[C@]([H])(C([H])([H])[H])Cl)Cl)Cl)Cl)Cl)Cl)Cl)Cl)Cl)Cl)Cl)Cl)Cl)Cl)Cl)Cl)Cl)Cl)Cl)Cl)Cl)Cl)Cl)Cl)Cl)Cl)Cl)Cl)Cl)Cl)Cl)Cl)Cl)Cl)Cl)Cl)Cl)Cl)Cl)Cl)Cl)Cl)Cl)Cl)Cl)Cl)Cl)Cl)Cl)Cl)Cl)Cl)Cl)Cl)Cl)Cl)Cl)Cl)Cl)Cl)Cl)Cl)Cl)Cl)Cl)Cl)Cl)Cl)Cl)Cl)Cl)Cl)Cl)Cl)Cl)Cl)Cl)Cl)Cl)Cl)Cl)Cl)Cl)Cl)Cl)Cl)Cl)Cl)Cl)Cl)Cl)Cl)Cl)Cl)Cl)Cl)Cl)Cl)Cl'' has 1 conformers, but charge method 'espaloma-am1bcc' expects exactly 0.\n",
      "  self._check_n_conformers(\n",
      "INFO:polymerist.mdtools.openfftools.partialcharge.molchargers:Successfully assigned \"Espaloma-AM1-BCC\" charges\n",
      "INFO:polymerist.mdtools.openfftools.topology:Successfully serialized SDF Topology to plasticizer_project/polymers/polyvinylchloride/polyvinylchloride.sdf\n",
      "INFO:polymerist.mdtools.openmmtools.execution:Initializing simulation 1/1 (\"high_T_anneal\")\n",
      "INFO:polymerist.mdtools.openmmtools.thermo:Created LangevinMiddleIntegrator for NVT (Canonical) ensemble\n",
      "WARNING:polymerist.mdtools.openmmtools.preparation:No valid State/State file provided, initializing State as None\n",
      "INFO:polymerist.mdtools.openmmtools.reporters:Prepared DCDReporter which reports to plasticizer_project/polymers/polyvinylchloride/polyvinylchloride_openmm/high_T_anneal/high_T_anneal_trajectory.dcd\n",
      "INFO:polymerist.mdtools.openmmtools.reporters:Prepared CheckpointReporter which reports to plasticizer_project/polymers/polyvinylchloride/polyvinylchloride_openmm/high_T_anneal/high_T_anneal_checkpoint.chk\n",
      "INFO:polymerist.mdtools.openmmtools.reporters:Prepared StateReporter which reports to plasticizer_project/polymers/polyvinylchloride/polyvinylchloride_openmm/high_T_anneal/high_T_anneal_state.xml\n",
      "INFO:polymerist.mdtools.openmmtools.reporters:Prepared StateDataReporter which reports to plasticizer_project/polymers/polyvinylchloride/polyvinylchloride_openmm/high_T_anneal/high_T_anneal_state_data.csv\n",
      "INFO:polymerist.mdtools.openmmtools.preparation:Setting positions in Context\n",
      "INFO:polymerist.mdtools.openmmtools.execution:Performing energy minimization (initial PE = 11043444.466757111 kJ/mol)\n",
      "INFO:polymerist.mdtools.openmmtools.execution:Energy successfully minimized (final PE = 5012.659726828337 kJ/mol)\n",
      "INFO:polymerist.mdtools.openmmtools.execution:Saved energy-minimized Simulation Topology at plasticizer_project/polymers/polyvinylchloride/polyvinylchloride_openmm/high_T_anneal/high_T_anneal_topology.pdb\n",
      "INFO:polymerist.mdtools.openmmtools.execution:Saved serialized Simulation System at plasticizer_project/polymers/polyvinylchloride/polyvinylchloride_openmm/high_T_anneal/high_T_anneal_system.xml\n",
      "INFO:polymerist.mdtools.openmmtools.execution:Integrating 1 ns OpenMM Simulation for 1000000 steps\n",
      "INFO:polymerist.mdtools.openmmtools.execution:Simulation integration completed successfully\n",
      "INFO:polymerist.mdtools.openmmtools.execution:\n",
      "INFO:polymerist.mdtools.openfftools.topology:Successfully serialized SDF Topology to plasticizer_project/polymers/polyvinylchloride/polyvinylchloride_annealed.sdf\n",
      "INFO:polymerist.mdtools.openfftools.topology:Loading serialized SDF Topology from plasticizer_project/polymers/polyvinylchloride/polyvinylchloride_annealed.sdf\n",
      "INFO:polymerist.mdtools.openfftools.topology:Successfully serialized SDF Topology to plasticizer_project/topologies/polyvinylchloride/polyvinylchloride_80000_atoms.sdf\n"
     ]
    }
   ],
   "source": [
    "oligomer_dir = WORKING_DIR / 'polymers'\n",
    "oligomer_dir.mkdir(exist_ok=True)\n",
    "\n",
    "topology_dir = WORKING_DIR / 'topologies'\n",
    "topology_dir.mkdir(exist_ok=True)\n",
    "\n",
    "sim_params_path = assemble_path(oligomer_dir, 'sim_params', extension='json')\n",
    "sim_params.to_file(sim_params_path)\n",
    "\n",
    "orient_kwds = ['head', 'tail']\n",
    "for polymer_name, frag_dict in substructs.items():\n",
    "    olig_chem_dir = oligomer_dir / polymer_name\n",
    "    olig_chem_dir.mkdir(exist_ok=True)\n",
    "\n",
    "    melt_chem_dir = topology_dir / polymer_name\n",
    "    melt_chem_dir.mkdir(exist_ok=True)\n",
    "\n",
    "    # CLEAN UP SMILES MONOMERS INTO MONOMER SPEC-COMPLIANT SMARTS\n",
    "    monomers = {}\n",
    "    term_orient = {}\n",
    "    for orient_name, smi in frag_dict.items():\n",
    "        resname = f'{polymer_name}_{orient_name}'\n",
    "\n",
    "        exp_smi = specification.expanded_SMILES(smi, assign_map_nums=True)\n",
    "        sma = specification.compliant_mol_SMARTS(exp_smi)\n",
    "        mol = Chem.MolFromSmarts(sma)\n",
    "        # display(mol)\n",
    "\n",
    "        monomers[resname] = [sma]\n",
    "        if 'TERM' in orient_name:\n",
    "            rank = int(orient_name[-1]) - 1\n",
    "            term_orient[resname] = orient_kwds[rank]\n",
    "\n",
    "    # INITIALIZE AND SAVE MONOMER GROUP\n",
    "    monogrp = MonomerGroup(monomers=monomers, term_orient=term_orient)\n",
    "    monogrp_path = assemble_path(olig_chem_dir, polymer_name, postfix='fragments', extension='json')\n",
    "    monogrp.to_file(monogrp_path)\n",
    "\n",
    "    # GENERATE INITIAL COORDINATES USING MBUILD, SAVE TO PDB\n",
    "    chain = build_linear_polymer(monogrp, DOP=DOP, energy_minimize=False)\n",
    "    pdb_path = assemble_path(olig_chem_dir, polymer_name, extension='pdb')\n",
    "    mbmol_to_openmm_pdb(pdb_path, chain)\n",
    "\n",
    "    # LOAD CHEMICAL INFO INTO PDB, ASSIGN PARTIAL CHARGES, AND SAVE TO SDF\n",
    "    offtop = Topology.from_pdb(pdb_path, _custom_substructures=monogrp.monomers)\n",
    "    offmol = topology.get_largest_offmol(offtop)\n",
    "    cmol = CHARGER.charge_molecule(offmol)\n",
    "    ctop = cmol.to_topology()\n",
    "\n",
    "    sdf_path = assemble_path(olig_chem_dir, polymer_name, extension='sdf')\n",
    "    topology.topology_to_sdf(sdf_path, ctop)\n",
    "\n",
    "    # CREATE INTERCHANGE AND OPENMM ANNEAL SIMULATION\n",
    "    ommdir = olig_chem_dir / f'{polymer_name}_openmm'\n",
    "    ommdir.mkdir(exist_ok=True)\n",
    "    \n",
    "    omminc = FORCEFIELD.create_interchange(ctop, charge_from_molecules=[cmol])\n",
    "    history = run_simulation_schedule(\n",
    "        ommdir,\n",
    "        schedule=ommsim_schedule,\n",
    "        init_top=omminc.to_openmm_topology(),\n",
    "        init_sys=omminc.to_openmm_system(combine_nonbonded_forces=False),\n",
    "        init_pos=openff_to_openmm(omminc.positions),\n",
    "        return_history=True\n",
    "    )\n",
    "\n",
    "    # EXTRACT POSITIONS OF FINAL ANNEAL SNAPSHOT AND SET AS NEW CONFORMER\n",
    "    sim_paths = history[list(ommsim_schedule.keys())[-1]]['paths']\n",
    "    traj = mdt.load(sim_paths.trajectory_path, top=sim_paths.topology_path)\n",
    "    final_conformer_coords = traj.xyz[-1, :, :] # take last frame, all atoms, all dimensions as final conformer\n",
    "    final_conformer_offunit = (final_conformer_coords * offunit.nanometer)\n",
    "\n",
    "    ctop.set_positions(final_conformer_offunit)\n",
    "    conf_sdf_path = assemble_path(olig_chem_dir, polymer_name, postfix='annealed', extension='sdf')\n",
    "    topology.topology_to_sdf(conf_sdf_path, ctop)\n",
    "\n",
    "    # SIZE LATTICE FOR TARGET NUMBER OF ATOMS CAP\n",
    "    ## need to reload to avoid issues when exporting largest molecule to RDKit (something gets messed up with conformers during conversion)\n",
    "    ctop = topology.topology_from_sdf(conf_sdf_path)\n",
    "    cmol = topology.get_largest_offmol(ctop)\n",
    "    \n",
    "    int_lattice = generate_uniform_subpopulated_lattice(max_num_atoms=MAX_NUM_ATOMS, num_atoms_in_mol=cmol.n_atoms)\n",
    "    r_eff = rdmol_effective_radius(cmol.to_rdkit())\n",
    "    lattice = int_lattice.linear_transformation(2.0*r_eff*np.eye(3), as_coords=True) # scale integer lattice my effective diameter\n",
    "\n",
    "    # PACK OLIGOMERS ONTO LATTICE\n",
    "    tiled_offtop = topology.topology_from_molecule_onto_lattice(cmol, lattice_points=lattice.points, rotate_randomly=True)\n",
    "    tiled_sdf_path = assemble_path(melt_chem_dir, polymer_name, postfix=f'{MAX_NUM_ATOMS}_atoms', extension='sdf')\n",
    "    topology.topology_to_sdf(tiled_sdf_path, tiled_offtop)\n",
    "\n",
    "    tiled_pdb_path = assemble_path(melt_chem_dir, polymer_name, postfix=f'{MAX_NUM_ATOMS}_atoms', extension='pdb')\n",
    "    tiled_offtop.to_file(tiled_pdb_path, file_format='pdb') # purley for visualization\n",
    "\n",
    "    # SET BOX SIZE AND NONBONDED PARAMETERS\n",
    "    top_box_vectors = boxvectors.get_topology_bbox(tiled_offtop) # determine tight box size\n",
    "    top_box_vectors = boxvectors.pad_box_vectors_uniform(top_box_vectors, exclusion) # apply periodic box (with padding) to Interchange\n",
    "    top_box_vectors = np.maximum(MIN_BBOX, top_box_vectors) # enusre the box is no smaller than the minimum determined by the cutoff distance\n",
    "\n",
    "    inc_topo = FORCEFIELD.create_interchange(tiled_offtop, charge_from_molecules=[cmol])\n",
    "    inc_topo.box = top_box_vectors # apply periodic box to Interchange\n",
    "\n",
    "    # PACK SMALL MOLECULE LIGANDS IN BETWEEN LATTICE\n",
    "    ...\n",
    "\n",
    "    # CREATE FINAL INTERCHANGE, WRITE LAMMPS FILES\n",
    "    ..."
   ]
  },
  {
   "cell_type": "code",
   "execution_count": 10,
   "metadata": {},
   "outputs": [
    {
     "data": {
      "text/plain": [
       "Interchange with 7 collections, periodic topology with 79800 atoms."
      ]
     },
     "execution_count": 10,
     "metadata": {},
     "output_type": "execute_result"
    }
   ],
   "source": [
    "inc_topo"
   ]
  },
  {
   "cell_type": "code",
   "execution_count": 20,
   "metadata": {},
   "outputs": [],
   "source": [
    "plast_wt_fract : float = 0.10\n",
    "\n",
    "melt_mass = sum(atom.mass for atom in tiled_offtop.atoms)\n",
    "plast_mass = plast_wt_fract * melt_mass\n",
    "\n",
    "for plast_"
   ]
  },
  {
   "cell_type": "code",
   "execution_count": null,
   "metadata": {},
   "outputs": [
    {
     "data": {
      "text/html": [
       "831231.3932995328 dalton"
      ],
      "text/latex": [
       "$831231.3932995328\\ \\mathrm{dalton}$"
      ],
      "text/plain": [
       "831231.3932995328 <Unit('dalton')>"
      ]
     },
     "execution_count": 21,
     "metadata": {},
     "output_type": "execute_result"
    }
   ],
   "source": [
    "melt_mass"
   ]
  },
  {
   "cell_type": "code",
   "execution_count": 22,
   "metadata": {},
   "outputs": [
    {
     "name": "stderr",
     "output_type": "stream",
     "text": [
      "INFO:polymerist.mdtools.openfftools.topology:Loading serialized SDF Topology from plasticizer_project/plasticizers/6gQskIFGlwxoXvTu9OZRLg.sdf\n"
     ]
    }
   ],
   "source": [
    "p = WORKING_DIR / 'plasticizers' / '6gQskIFGlwxoXvTu9OZRLg.sdf'\n",
    "plast_offtop = topology.topology_from_sdf(p)\n",
    "plast_offmol = topology.get_largest_offmol(plast_offtop)"
   ]
  },
  {
   "cell_type": "code",
   "execution_count": null,
   "metadata": {},
   "outputs": [],
   "source": []
  },
  {
   "cell_type": "code",
   "execution_count": null,
   "metadata": {},
   "outputs": [],
   "source": []
  }
 ],
 "metadata": {
  "kernelspec": {
   "display_name": "polymerist-env",
   "language": "python",
   "name": "python3"
  },
  "language_info": {
   "codemirror_mode": {
    "name": "ipython",
    "version": 3
   },
   "file_extension": ".py",
   "mimetype": "text/x-python",
   "name": "python",
   "nbconvert_exporter": "python",
   "pygments_lexer": "ipython3",
   "version": "3.11.0"
  }
 },
 "nbformat": 4,
 "nbformat_minor": 2
}
