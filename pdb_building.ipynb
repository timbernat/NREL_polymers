{
 "cells": [
  {
   "cell_type": "markdown",
   "metadata": {},
   "source": [
    "# Core Imports"
   ]
  },
  {
   "cell_type": "code",
   "execution_count": 1,
   "metadata": {},
   "outputs": [
    {
     "name": "stderr",
     "output_type": "stream",
     "text": [
      "/home/timber/miniconda3/envs/openff-dev-updated/lib/python3.10/site-packages/numpy/core/getlimits.py:518: UserWarning: The value of the smallest subnormal for <class 'numpy.float64'> type is zero.\n",
      "  setattr(self, word, getattr(machar, word).flat[0])\n",
      "/home/timber/miniconda3/envs/openff-dev-updated/lib/python3.10/site-packages/numpy/core/getlimits.py:89: UserWarning: The value of the smallest subnormal for <class 'numpy.float64'> type is zero.\n",
      "  return self._float_to_str(self.smallest_subnormal)\n",
      "/home/timber/miniconda3/envs/openff-dev-updated/lib/python3.10/site-packages/numpy/core/getlimits.py:518: UserWarning: The value of the smallest subnormal for <class 'numpy.float32'> type is zero.\n",
      "  setattr(self, word, getattr(machar, word).flat[0])\n",
      "/home/timber/miniconda3/envs/openff-dev-updated/lib/python3.10/site-packages/numpy/core/getlimits.py:89: UserWarning: The value of the smallest subnormal for <class 'numpy.float32'> type is zero.\n",
      "  return self._float_to_str(self.smallest_subnormal)\n",
      "Warning on use of the timeseries module: If the inherent timescales of the system are long compared to those being analyzed, this statistical inefficiency may be an underestimate.  The estimate presumes the use of many statistically independent samples.  Tests should be performed to assess whether this condition is satisfied.   Be cautious in the interpretation of the data.\n",
      "WARNING:root:Warning: importing 'simtk.openmm' is deprecated.  Import 'openmm' instead.\n"
     ]
    }
   ],
   "source": [
    "# Custom Imports\n",
    "from polysaccharide import general\n",
    "from polysaccharide.molutils.rdmol import rdconvert, rdkdraw, rdbond, rdlabels\n",
    "from polysaccharide.polymer.monomer import MonomerInfo\n",
    "from polysaccharide.polymer import building\n",
    "\n",
    "import mbuild as mb\n",
    "\n",
    "# File I/O\n",
    "from pathlib import Path\n",
    "\n",
    "# Cheminformatics\n",
    "from rdkit import Chem\n",
    "\n",
    "# Static Paths\n",
    "RAW_DATA_PATH  = Path('raw_monomer_data')\n",
    "PROC_DATA_PATH = Path('processed_monomer_data')\n",
    "RXN_FILES_PATH = Path('rxn_smarts')\n",
    "MONO_INFO_DIR  = Path('monomer_files')"
   ]
  },
  {
   "cell_type": "markdown",
   "metadata": {},
   "source": [
    "# File and chemistry type definitions"
   ]
  },
  {
   "cell_type": "code",
   "execution_count": 2,
   "metadata": {},
   "outputs": [],
   "source": [
    "pdb_path = Path('pdb_files')\n",
    "pdb_path.mkdir(exist_ok=True)\n",
    "\n",
    "coll_path = Path('Collections')\n",
    "coll_path.mkdir(exist_ok=True)\n",
    "\n",
    "lammps_path = Path('LAMMPS')\n",
    "lammps_path.mkdir(exist_ok=True)\n",
    "\n",
    "omm_path = Path('OpenMM')\n",
    "omm_path.mkdir(exist_ok=True)"
   ]
  },
  {
   "cell_type": "code",
   "execution_count": 3,
   "metadata": {},
   "outputs": [],
   "source": [
    "# defining reacting functional groups\n",
    "reaction_pairs = {\n",
    "    'NIPU' : ('cyclocarbonate', 'amine'),\n",
    "    'urethane' : ('isocyanate', 'hydroxyl')\n",
    "}\n",
    "# chemistries = ('urethane', 'NIPU')\n",
    "chemistries = [i for i in reaction_pairs.keys()]"
   ]
  },
  {
   "cell_type": "markdown",
   "metadata": {},
   "source": [
    "# Building PDB files from monomer fragments"
   ]
  },
  {
   "cell_type": "code",
   "execution_count": null,
   "metadata": {},
   "outputs": [],
   "source": [
    "from polysaccharide.polymer.exceptions import SubstructMatchFailedError\n",
    "\n",
    "DOP = 10\n",
    "\n",
    "failed = general.RecursiveDict()\n",
    "for chemistry in chemistries:\n",
    "    mono_src_dir = MONO_INFO_DIR / chemistry\n",
    "    pdb_out_dir = pdb_path / chemistry\n",
    "    pdb_out_dir.mkdir(exist_ok=True)\n",
    "\n",
    "    for mono_path in mono_src_dir.iterdir():\n",
    "        mono_info = MonomerInfo.from_file(mono_path)\n",
    "        try:\n",
    "            polymer = building.build_linear_polymer(mono_info.SMARTS, DOP=DOP, sequence='AB')  \n",
    "            savepath = pdb_out_dir / f'{mono_path.stem}.pdb'\n",
    "            polymer.save(general.asstrpath(savepath))\n",
    "        except Exception as e:\n",
    "            failed[chemistry][e.__class__.__name__][mono_path.stem] = mono_info"
   ]
  },
  {
   "cell_type": "code",
   "execution_count": null,
   "metadata": {},
   "outputs": [],
   "source": [
    "failed"
   ]
  },
  {
   "cell_type": "markdown",
   "metadata": {},
   "source": [
    "## Testing sanitization of monomers prior to mbuild conversion"
   ]
  },
  {
   "cell_type": "code",
   "execution_count": null,
   "metadata": {},
   "outputs": [],
   "source": [
    "rdkdraw.set_rdkdraw_size(500, 3/2)\n",
    "cvtr = rdconvert.SMILESConverter()\n",
    "\n",
    "chemistry = 'urethane'\n",
    "idx = 10\n",
    "\n",
    "mono_info = MonomerInfo.from_file(MONO_INFO_DIR / chemistry / f'{chemistry}_{idx}.json')\n",
    "\n",
    "mbmols = {}\n",
    "def show(mono_info : MonomerInfo) -> None:\n",
    "    for resname, smarts in mono_info.SMARTS.items():\n",
    "        print(resname, smarts)\n",
    "        mol = Chem.MolFromSmarts(smarts)\n",
    "        mol = cvtr.convert(mol)\n",
    "        Chem.SanitizeMol(mol)\n",
    "        rdlabels.clear_atom_map_nums(mol, in_place=True)\n",
    "        display(mol)\n",
    "\n",
    "        # mbmol, ports = building.mbmol_from_mono_smarts(new_smarts)\n",
    "\n",
    "        prot_mol = rdbond.hydrogenate_rdmol_ports(mol, in_place=False)\n",
    "        mbmols[resname] = mb.conversion.from_rdkit(prot_mol)\n",
    "\n",
    "show(mono_info)"
   ]
  },
  {
   "cell_type": "code",
   "execution_count": null,
   "metadata": {},
   "outputs": [],
   "source": []
  }
 ],
 "metadata": {
  "kernelspec": {
   "display_name": "openff-dev-updated",
   "language": "python",
   "name": "python3"
  },
  "language_info": {
   "codemirror_mode": {
    "name": "ipython",
    "version": 3
   },
   "file_extension": ".py",
   "mimetype": "text/x-python",
   "name": "python",
   "nbconvert_exporter": "python",
   "pygments_lexer": "ipython3",
   "version": "3.10.9"
  },
  "orig_nbformat": 4
 },
 "nbformat": 4,
 "nbformat_minor": 2
}
