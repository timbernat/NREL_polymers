{
 "cells": [
  {
   "cell_type": "markdown",
   "metadata": {},
   "source": [
    "# Core Imports"
   ]
  },
  {
   "cell_type": "code",
   "execution_count": 1,
   "metadata": {},
   "outputs": [],
   "source": [
    "# Generic Imports\n",
    "import re\n",
    "from functools import partial, cached_property\n",
    "from collections import defaultdict\n",
    "from itertools import combinations, chain\n",
    "from ast import literal_eval\n",
    "\n",
    "# Numeric imports\n",
    "import matplotlib.pyplot as plt\n",
    "import pandas as pd\n",
    "import numpy as np\n",
    "\n",
    "# File I/O\n",
    "from pathlib import Path\n",
    "import csv, json, openpyxl\n",
    "\n",
    "# Typing and Subclassing\n",
    "from typing import Any, Callable, ClassVar, Generator, Iterable, Optional, Union\n",
    "from dataclasses import dataclass, field\n",
    "from abc import ABC, abstractmethod, abstractproperty\n",
    "from openmm.unit import Unit, Quantity\n",
    "\n",
    "# Cheminformatics\n",
    "from rdkit import Chem\n",
    "from rdkit.Chem import rdChemReactions\n",
    "from rdkit.Chem.Draw import IPythonConsole\n",
    "\n",
    "import pubchempy as pcp\n",
    "\n",
    "DIM    = 300\n",
    "ASPECT = 3/2\n",
    "IPythonConsole.molSize = (int(ASPECT*DIM), DIM)   # Change image size\n",
    "\n",
    "# Static Paths\n",
    "RAW_DATA_DIR  = Path('monomer_data_raw')\n",
    "FMT_DATA_DIR  = Path('monomer_data_formatted')\n",
    "PROC_DATA_DIR = Path('monomer_data_processed')\n",
    "RXN_FILES_DIR = Path('poly_rxns')"
   ]
  },
  {
   "cell_type": "markdown",
   "metadata": {},
   "source": [
    "# Inspecting monomer dataset"
   ]
  },
  {
   "cell_type": "code",
   "execution_count": null,
   "metadata": {},
   "outputs": [],
   "source": [
    "# input_data_path = FMT_DATA_DIR / '20231114_polyid_data_density_DP2-6 - 1,2 monomers.csv'\n",
    "# input_data_path = FMT_DATA_DIR / 'polyurethanes.csv'\n",
    "# input_data_path = FMT_DATA_DIR / '221010_trainingdata_DP-18_expanded_FMT.csv'\n",
    "input_data_path = PROC_DATA_DIR / '20231114_polyid_data_density_DP2-6 - 1,2 monomers_FILTERED.csv'\n",
    "# input_data_path = PROC_DATA_DIR / 'monomer_data_MASTER.csv'\n",
    "# input_data_path = FMT_DATA_DIR / 'nipu_urethanes_FMT.csv'\n",
    "df = pd.read_csv(input_data_path, index_col=0)\n",
    "len(df)"
   ]
  },
  {
   "cell_type": "markdown",
   "metadata": {},
   "source": [
    "## Sort by polymerization mechanism and #monomers, obtain respective counts and colors"
   ]
  },
  {
   "cell_type": "code",
   "execution_count": null,
   "metadata": {},
   "outputs": [],
   "source": [
    "from polymerist.graphics import plotutils\n",
    "\n",
    "if 'num_monomers' not in df.columns:\n",
    "    df['num_monomers'] = df.smiles_monomer.map(lambda smiles : len(smiles.split('.')))\n",
    "\n",
    "# keys = ['num_monomers', 'mechanism']\n",
    "keys = ['mechanism', 'num_monomers']\n",
    "\n",
    "df_grouper = df.groupby(keys)\n",
    "frames = {\n",
    "    mech : df_grouper.get_group(mech)\n",
    "        for mech in df_grouper.groups\n",
    "}"
   ]
  },
  {
   "cell_type": "code",
   "execution_count": null,
   "metadata": {},
   "outputs": [],
   "source": [
    "counts = df_grouper.size().to_dict()\n",
    "cdict, carr = plotutils.label_discrete_cmap(\n",
    "    cmap=plt.get_cmap('tab10'),\n",
    "    color_names=df.mechanism.unique(),\n",
    "    hues_per_color=1\n",
    ")"
   ]
  },
  {
   "cell_type": "code",
   "execution_count": null,
   "metadata": {},
   "outputs": [],
   "source": [
    "counts"
   ]
  },
  {
   "cell_type": "code",
   "execution_count": null,
   "metadata": {},
   "outputs": [],
   "source": [
    "colors = []\n",
    "plot_counts = {}\n",
    "for (mech, num_mono), count_val in counts.items():\n",
    "    plot_counts[f'{mech}-{num_mono}'] = count_val\n",
    "    colors.append(cdict[mech])"
   ]
  },
  {
   "cell_type": "markdown",
   "metadata": {},
   "source": [
    "### Plot Histogram by number of monomers and mechanism"
   ]
  },
  {
   "cell_type": "code",
   "execution_count": null,
   "metadata": {},
   "outputs": [],
   "source": [
    "plt.imshow(carr)\n",
    "\n",
    "plotutils.presize_subplots(1, 1, scale=10, elongation=1/2)\n",
    "\n",
    "plt.bar(plot_counts.keys(), plot_counts.values(), color=colors)\n",
    "plt.xticks(np.arange(len(counts))+0, rotation=-45)\n",
    "\n",
    "plt.title(f'Number of SMILES by {\" & \".join(keys)} ({len(df)} total)')"
   ]
  },
  {
   "cell_type": "markdown",
   "metadata": {},
   "source": [
    "# Visually inspecting monomer and oligomer units"
   ]
  },
  {
   "cell_type": "code",
   "execution_count": null,
   "metadata": {},
   "outputs": [],
   "source": [
    "from polymerist.monomers import specification\n",
    "\n",
    "# mech = 'ester'\n",
    "mech = 'carbonate'\n",
    "# mech = 'urethane'\n",
    "# mech = 'vinyl'\n",
    "# mech = 'imide'\n",
    "num_mono = 2 # 1\n",
    "\n",
    "frame = frames[(mech, num_mono)]\n",
    "\n",
    "# ids = (23, 223)\n",
    "ids = ()\n",
    "n = 10\n",
    "spacer = '=' * 25\n",
    "\n",
    "test = defaultdict(list)\n",
    "smaller = set()\n",
    "for idx, row in frame.head(n).iterrows():\n",
    "    if (not ids) or (idx in ids):\n",
    "        # extract and visualize structures\n",
    "        print(f'\\n{spacer} {row[\"mechanism\"]}-{idx} {spacer}\\n')\n",
    "        combined_smiles = row['smiles_monomer']\n",
    "        combined_monomer = Chem.MolFromSmiles(combined_smiles, sanitize=False)\n",
    "        display(combined_monomer)\n",
    "\n",
    "        # dimer_smiles  = row['smiles_polymer_DP2']\n",
    "        # dimer = Chem.MolFromSmiles(dimer_smiles)\n",
    "        # display(dimer)\n",
    "\n",
    "        # trimer_smiles = row['smiles_polymer_DP3']\n",
    "        # trimer = Chem.MolFromSmiles(trimer_smiles)\n",
    "        # display(trimer)\n",
    "\n",
    "        for id in (1, 2):\n",
    "            exp_mono_smi = row[f'smiles_expanded_monomer_{id}']\n",
    "            monomer = Chem.MolFromSmiles(exp_mono_smi, sanitize=False)\n",
    "            iupac_name = row[f'IUPAC_monomer_{id}']\n",
    "\n",
    "            display(monomer)\n",
    "            print(iupac_name)"
   ]
  },
  {
   "cell_type": "markdown",
   "metadata": {},
   "source": [
    "# Concatenating PU and Density data sets into \"master\" data set"
   ]
  },
  {
   "cell_type": "code",
   "execution_count": 9,
   "metadata": {},
   "outputs": [],
   "source": [
    "p1 = PROC_DATA_DIR/'20231114_polyid_data_density_DP2-6 - 1,2 monomers_FILTERED.csv'\n",
    "p2 = PROC_DATA_DIR/'nipu_urethanes_FILTERED.csv'\n",
    "\n",
    "df1 = pd.read_csv(p1, index_col=[0,1])\n",
    "df2 = pd.read_csv(p2, index_col=[0,1])\n",
    "\n",
    "pd.concat([df1, df2], axis=0).to_csv(PROC_DATA_DIR/'monomer_data_MASTER.csv')"
   ]
  },
  {
   "cell_type": "code",
   "execution_count": null,
   "metadata": {},
   "outputs": [],
   "source": []
  }
 ],
 "metadata": {
  "kernelspec": {
   "display_name": "openff-dev-updated",
   "language": "python",
   "name": "python3"
  },
  "language_info": {
   "codemirror_mode": {
    "name": "ipython",
    "version": 3
   },
   "file_extension": ".py",
   "mimetype": "text/x-python",
   "name": "python",
   "nbconvert_exporter": "python",
   "pygments_lexer": "ipython3",
   "version": "3.11.5"
  },
  "orig_nbformat": 4
 },
 "nbformat": 4,
 "nbformat_minor": 2
}
