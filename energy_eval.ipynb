{
 "cells": [
  {
   "cell_type": "markdown",
   "metadata": {},
   "source": [
    "# Core Imports"
   ]
  },
  {
   "cell_type": "code",
   "execution_count": 10,
   "metadata": {},
   "outputs": [],
   "source": [
    "# Generic Imports\n",
    "import re\n",
    "from functools import partial, cached_property\n",
    "from collections import defaultdict\n",
    "from itertools import combinations, chain\n",
    "from ast import literal_eval\n",
    "\n",
    "# Numeric imports\n",
    "import pandas as pd\n",
    "import numpy as np\n",
    "\n",
    "# File I/O\n",
    "from pathlib import Path\n",
    "import csv, json, openpyxl\n",
    "\n",
    "# Logging\n",
    "from tqdm import tqdm as tqdm_text\n",
    "from tqdm.notebook import tqdm as tqdm_notebook\n",
    "\n",
    "# Typing and Subclassing\n",
    "from typing import Any, Callable, ClassVar, Generator, Iterable, Optional, Union\n",
    "from dataclasses import dataclass, field\n",
    "from abc import ABC, abstractmethod, abstractproperty\n",
    "\n",
    "# Cheminformatics\n",
    "from rdkit import Chem\n",
    "from rdkit.Chem import rdChemReactions\n",
    "\n",
    "from openff.toolkit import ForceField\n",
    "from openff.toolkit.topology import Topology, Molecule\n",
    "\n",
    "from openforcefields.openforcefields import get_forcefield_dirs_paths\n",
    "OPENFF_DIR = Path(get_forcefield_dirs_paths()[0])"
   ]
  },
  {
   "cell_type": "markdown",
   "metadata": {},
   "source": [
    "# File and chemistry type definitions"
   ]
  },
  {
   "cell_type": "code",
   "execution_count": 11,
   "metadata": {},
   "outputs": [],
   "source": [
    "topo_dir = Path('Topologies')\n",
    "topo_dir.mkdir(exist_ok=True)\n",
    "\n",
    "# lammps_dir = Path('LAMMPS')\n",
    "lammps_dir = Path('LAMMPS')\n",
    "lammps_dir.mkdir(exist_ok=True)\n",
    "\n",
    "omm_dir = Path('OpenMM')\n",
    "omm_dir.mkdir(exist_ok=True)"
   ]
  },
  {
   "cell_type": "markdown",
   "metadata": {},
   "source": [
    "# Creating OpenMM and LAMMPS systems"
   ]
  },
  {
   "cell_type": "markdown",
   "metadata": {},
   "source": [
    "## Generating Interchange dict"
   ]
  },
  {
   "cell_type": "code",
   "execution_count": 12,
   "metadata": {},
   "outputs": [
    {
     "data": {
      "application/vnd.jupyter.widget-view+json": {
       "model_id": "b604436bdc37449ca22a1b40a6973146",
       "version_major": 2,
       "version_minor": 0
      },
      "text/plain": [
       "  0%|          | 0/36 [00:00<?, ?it/s]"
      ]
     },
     "metadata": {},
     "output_type": "display_data"
    },
    {
     "data": {
      "application/vnd.jupyter.widget-view+json": {
       "model_id": "78db5438769744e38082144c2b6f3f70",
       "version_major": 2,
       "version_minor": 0
      },
      "text/plain": [
       "  0%|          | 0/46 [00:00<?, ?it/s]"
      ]
     },
     "metadata": {},
     "output_type": "display_data"
    },
    {
     "name": "stderr",
     "output_type": "stream",
     "text": [
      "Warning (not error because allow_undefined_stereo=True): OEMol has unspecified stereochemistry. oemol.GetTitle(): poly(1,4-diisocyanatobutane-co-2-(2-hydroxyethyl-phenylamino)ethanol)\n",
      "Problematic atoms are:\n",
      "Atom atomic num: 7, name: , idx: 23, aromatic: False, chiral: True with bonds:\n",
      "bond order: 1, chiral: False to atom atomic num: 6, name: , idx: 22, aromatic: False, chiral: False\n",
      "bond order: 1, chiral: False to atom atomic num: 6, name: , idx: 24, aromatic: True, chiral: False\n",
      "bond order: 1, chiral: False to atom atomic num: 6, name: , idx: 35, aromatic: False, chiral: False\n",
      "Atom atomic num: 7, name: , idx: 68, aromatic: False, chiral: True with bonds:\n",
      "bond order: 1, chiral: False to atom atomic num: 6, name: , idx: 67, aromatic: False, chiral: False\n",
      "bond order: 1, chiral: False to atom atomic num: 6, name: , idx: 69, aromatic: True, chiral: False\n",
      "bond order: 1, chiral: False to atom atomic num: 6, name: , idx: 80, aromatic: False, chiral: False\n",
      "\n",
      "Warning (not error because allow_undefined_stereo=True): OEMol has unspecified stereochemistry. oemol.GetTitle(): poly(1-isocyanato-4-[(4-isocyanatophenyl)methyl]benzene-co-2-(2-hydroxyethyl-phe\n",
      "Problematic atoms are:\n",
      "Atom atomic num: 7, name: , idx: 34, aromatic: False, chiral: True with bonds:\n",
      "bond order: 1, chiral: False to atom atomic num: 6, name: , idx: 33, aromatic: False, chiral: False\n",
      "bond order: 1, chiral: False to atom atomic num: 6, name: , idx: 35, aromatic: True, chiral: False\n",
      "bond order: 1, chiral: False to atom atomic num: 6, name: , idx: 46, aromatic: False, chiral: False\n",
      "Atom atomic num: 7, name: , idx: 90, aromatic: False, chiral: True with bonds:\n",
      "bond order: 1, chiral: False to atom atomic num: 6, name: , idx: 89, aromatic: False, chiral: False\n",
      "bond order: 1, chiral: False to atom atomic num: 6, name: , idx: 91, aromatic: True, chiral: False\n",
      "bond order: 1, chiral: False to atom atomic num: 6, name: , idx: 102, aromatic: False, chiral: False\n",
      "\n"
     ]
    },
    {
     "data": {
      "application/vnd.jupyter.widget-view+json": {
       "model_id": "4ce5406b9b6f45c3b2a645686698c58d",
       "version_major": 2,
       "version_minor": 0
      },
      "text/plain": [
       "  0%|          | 0/27 [00:00<?, ?it/s]"
      ]
     },
     "metadata": {},
     "output_type": "display_data"
    },
    {
     "data": {
      "application/vnd.jupyter.widget-view+json": {
       "model_id": "63c9876e56284175990a18e2a8b1c6fc",
       "version_major": 2,
       "version_minor": 0
      },
      "text/plain": [
       "  0%|          | 0/26 [00:00<?, ?it/s]"
      ]
     },
     "metadata": {},
     "output_type": "display_data"
    }
   ],
   "source": [
    "# specify forcefield\n",
    "# ff_name = 'openff-2.0.0.offxml'\n",
    "ff_name = 'openff_unconstrained-2.0.0.offxml'\n",
    "ff_path = OPENFF_DIR / ff_name\n",
    "forcefield = ForceField(ff_path)\n",
    "\n",
    "# Interchange generation\n",
    "success_ics = defaultdict(defaultdict)\n",
    "failed_ics  = defaultdict(list)\n",
    "\n",
    "for chem_dir in topo_dir.iterdir():\n",
    "    chemistry = chem_dir.stem\n",
    "    progress = tqdm_notebook([path for path in chem_dir.iterdir()]) # unpack into list for progress bar\n",
    "\n",
    "    for sdf_path in progress:\n",
    "        mol_name = sdf_path.stem\n",
    "        progress.set_postfix_str(f'{chemistry} : {mol_name}')\n",
    "\n",
    "        try:\n",
    "            offmol = Molecule.from_file(sdf_path, allow_undefined_stereo=True)\n",
    "            offtop = Topology.from_molecules(offmol) \n",
    "            ic = forcefield.create_interchange(offtop, charge_from_molecules=[offmol])\n",
    "            success_ics[chemistry][mol_name] = ic\n",
    "        except Exception as e:\n",
    "            print(e)\n",
    "            failed_ics[e.__class__.__name__].append(sdf_path)\n",
    "\n",
    "for err_name, err_list in failed_ics.items():\n",
    "    for sdf_path in err_list:\n",
    "        sdf_path.unlink() # delete dud files"
   ]
  },
  {
   "cell_type": "markdown",
   "metadata": {},
   "source": [
    "## Defining utility functions"
   ]
  },
  {
   "cell_type": "code",
   "execution_count": 13,
   "metadata": {},
   "outputs": [],
   "source": [
    "from openmm import XmlSerializer\n",
    "from openmm import System, Context, State\n",
    "from openmm import Integrator, Force\n",
    "from openmm.app import Simulation\n",
    "from openmm.unit import nanometer\n",
    "\n",
    "from openff.interchange import Interchange\n",
    "from openff.units import unit as offunit\n",
    "\n",
    "\n",
    "DEFAULT_STATE_PARAMS : dict[str, bool] = {\n",
    "    'getPositions'  : True,\n",
    "    'getVelocities' : True,\n",
    "    'getForces'     : True,\n",
    "    'getEnergy'     : True,\n",
    "    'getParameters' : True,\n",
    "    'getParameterDerivatives' : False,\n",
    "    'getIntegratorParameters' : False\n",
    "}\n",
    "\n",
    "\n",
    "def serialize_state_and_sys(sim : Simulation, out_dir : Path, out_name : str, state_params : dict[str, bool]=DEFAULT_STATE_PARAMS) -> None:\n",
    "    '''For saving State and System info of a Simulation to disc'''\n",
    "    sim_dict = {\n",
    "        'system' : sim.system,\n",
    "        'state' : sim.context.getState(**state_params)\n",
    "    }\n",
    "    \n",
    "    for affix, save_data in sim_dict.items():\n",
    "        save_path = out_dir / f'{out_name}_{affix}.xml'\n",
    "        save_path.touch()\n",
    "\n",
    "        with save_path.open('w') as file:\n",
    "            file.write( XmlSerializer.serialize(save_data) )\n",
    "\n",
    "def apply_state_to_context(state : State, context : Context) -> None:\n",
    "    '''For applying saved State data to an existing OpenMM Simulation'''\n",
    "    context.setPeriodicBoxVectors(*state.getPeriodicBoxVectors())\n",
    "    context.setPositions(state.getPositions())\n",
    "    context.setVelocities(state.getVelocities())\n",
    "    context.setTime(state.getTime())\n",
    "\n",
    "    context.reinitialize(preserveState=True)    \n",
    "\n",
    "def load_openmm_system(sys_path : Path, extra_forces : Optional[Union[Force, Iterable[Force]]]=None, sep_force_grps : bool=True, remove_constrs : bool=False) -> System:\n",
    "    '''Load and configure a serialized OpenMM system, with optional additional parameters'''\n",
    "    assert(sys_path.suffix == '.xml')\n",
    "    with sys_path.open('r') as file:\n",
    "        ommsys = XmlSerializer.deserialize(file.read())\n",
    "\n",
    "    if extra_forces: # deliberately sparse to handle both Nonetype and empty list\n",
    "        for force in extra_forces: \n",
    "            ommsys.addForce(force)\n",
    "\n",
    "    if sep_force_grps:\n",
    "        for i, force in enumerate(ommsys.getForces()):\n",
    "            force.setForceGroup(i)\n",
    "\n",
    "    if remove_constrs:\n",
    "        for i in range(ommsys.getNumConstraints())[::-1]: # need to remove in reverse order to avoid having prior constraints \"fall back down\"\n",
    "            ommsys.removeConstraint(i)\n",
    "\n",
    "    return ommsys\n",
    "\n",
    "def create_simulation2(interchange : Interchange, integrator : Integrator, forces : Optional[Iterable[Force]]=None,\n",
    "                        sep_force_grps : bool=True, remove_constrs : bool=True, combine_nonbonded_forces : bool=True) -> Simulation:\n",
    "    '''Specifies configuration for an OpenMM Simulation - Interchange load alows many routes for creation'''\n",
    "    openmm_sys = interchange.to_openmm(combine_nonbonded_forces=combine_nonbonded_forces) \n",
    "    openmm_top = interchange.topology.to_openmm()\n",
    "    openmm_pos = interchange.positions.m_as(offunit.nanometer) * nanometer\n",
    "\n",
    "    if forces: # deliberately sparse to handle both Nonetype and empty list\n",
    "        for force in forces: \n",
    "            openmm_sys.addForce(force)\n",
    "\n",
    "    if sep_force_grps:\n",
    "        for i, force in enumerate(openmm_sys.getForces()):\n",
    "            force.setForceGroup(i)\n",
    "\n",
    "    if remove_constrs:\n",
    "        for i in range(openmm_sys.getNumConstraints())[::-1]: # need to remove in reverse order to avoid having prior constraints \"fall back down\"\n",
    "            openmm_sys.removeConstraint(i)\n",
    "\n",
    "    simulation = Simulation(openmm_top, openmm_sys, integrator)\n",
    "    simulation.context.setPositions(openmm_pos)\n",
    "\n",
    "    return simulation"
   ]
  },
  {
   "cell_type": "markdown",
   "metadata": {},
   "source": [
    "## Manually create OpenMM sims from Interchange"
   ]
  },
  {
   "cell_type": "code",
   "execution_count": 14,
   "metadata": {},
   "outputs": [
    {
     "data": {
      "application/vnd.jupyter.widget-view+json": {
       "model_id": "9a1657a26a564b7eb9da9691eed3bd33",
       "version_major": 2,
       "version_minor": 0
      },
      "text/plain": [
       "  0%|          | 0/36 [00:00<?, ?it/s]"
      ]
     },
     "metadata": {},
     "output_type": "display_data"
    },
    {
     "data": {
      "application/vnd.jupyter.widget-view+json": {
       "model_id": "70a8ddf7c5064215a7b4622dbf53576d",
       "version_major": 2,
       "version_minor": 0
      },
      "text/plain": [
       "  0%|          | 0/46 [00:00<?, ?it/s]"
      ]
     },
     "metadata": {},
     "output_type": "display_data"
    },
    {
     "data": {
      "application/vnd.jupyter.widget-view+json": {
       "model_id": "c0edde9c50ab41c4b3c36eb1dc52b301",
       "version_major": 2,
       "version_minor": 0
      },
      "text/plain": [
       "  0%|          | 0/27 [00:00<?, ?it/s]"
      ]
     },
     "metadata": {},
     "output_type": "display_data"
    }
   ],
   "source": [
    "# specifying simulation and ensemble parameters\n",
    "from openff.interchange.components.mdconfig import MDConfig\n",
    "\n",
    "from openmm.app import Simulation\n",
    "from openmm import NonbondedForce, CustomNonbondedForce\n",
    "from openmm import MonteCarloBarostat, LangevinMiddleIntegrator\n",
    "\n",
    "from openmm.unit import atmosphere, kelvin, nanometer\n",
    "from openmm.unit import femtosecond, picosecond\n",
    "from openff.units import unit as offunit\n",
    "\n",
    "# Box sizes\n",
    "BOX_VECS = np.eye(3) * 10 * nanometer\n",
    "\n",
    "# Long-range parameters\n",
    "# CUTOFF = 2.0 * nanometer\n",
    "CUTOFF = 0.9 * nanometer\n",
    "# CUTOFF_METHOD = NonbondedForce.NoCutoff\n",
    "# CUTOFF_METHOD = NonbondedForce.CutoffNonPeriodic\n",
    "CUTOFF_METHOD = NonbondedForce.CutoffPeriodic\n",
    "\n",
    "DISPERSION = True\n",
    "SWITCHING  = False\n",
    "\n",
    "# Thermodynamic/integrator parameters\n",
    "T = 300*kelvin\n",
    "P = 1*atmosphere\n",
    "\n",
    "timestep = 2*femtosecond\n",
    "friction = 1*picosecond**-1\n",
    "\n",
    "# ======================================\n",
    "\n",
    "force_names = (\n",
    "    'vdW',\n",
    "    'Electrostatic',\n",
    "    'vdW 1-4',\n",
    "    'Electrostatic 1-4',\n",
    "    'Dihedral',\n",
    "    'Angle',\n",
    "    'Bond'\n",
    ")\n",
    "\n",
    "# looping over all urethanes\n",
    "omm_sims = defaultdict(defaultdict)\n",
    "for chemistry, ic_dict in success_ics.items():\n",
    "    lmp_chem_dir = lammps_dir / chemistry\n",
    "    lmp_chem_dir.mkdir(exist_ok=True)\n",
    "    \n",
    "    omm_chem_dir = omm_dir/ chemistry\n",
    "    omm_chem_dir.mkdir(exist_ok=True)\n",
    "\n",
    "    progress = tqdm_notebook(ic_dict.items())\n",
    "    for mol_name, interchange in progress:\n",
    "        progress.set_postfix_str(f'{chemistry} : {mol_name}')\n",
    "        omm_mol_dir = omm_chem_dir / mol_name\n",
    "        omm_mol_dir.mkdir(exist_ok=True)\n",
    "\n",
    "        if omm_mol_dir.exists() and any(omm_mol_dir.iterdir()): # skip over if dir exists and is non-empty\n",
    "            continue\n",
    "        \n",
    "    # creating OpenMM Simulation\n",
    "        progress.set_description('Building OpenMM Simulation')\n",
    "        # specifying thermo/baro to determine ensemble\n",
    "        integrator = LangevinMiddleIntegrator(T, friction, timestep)\n",
    "        # extra_forces = [MonteCarloBarostat(P, T, baro_freq)]\n",
    "        extra_forces = None\n",
    "\n",
    "        # loading OpenMM sim components from Interchange\n",
    "        interchange.box = BOX_VECS\n",
    "        omm_top = interchange.topology.to_openmm()\n",
    "        omm_sys = interchange.to_openmm(combine_nonbonded_forces=False)\n",
    "        omm_pos = interchange.positions.m_as(offunit.nanometer)\n",
    "\n",
    "        ## Setting box vectors for periodic forces\n",
    "        omm_top.setPeriodicBoxVectors(BOX_VECS)\n",
    "        omm_sys.setDefaultPeriodicBoxVectors(*BOX_VECS)\n",
    "\n",
    "        # configuring bound Force objects\n",
    "        if extra_forces:\n",
    "            for force in extra_forces:\n",
    "                omm_sys.addForce(force)\n",
    "\n",
    "        ## number all forces into separate force groups for separability\n",
    "        for i, force in enumerate(omm_sys.getForces()):\n",
    "            force.setForceGroup(i)\n",
    "\n",
    "        ## Add labels to default forces\n",
    "        for force, name in zip(omm_sys.getForces(), force_names):\n",
    "            force.setName(name)\n",
    "\n",
    "        ## reconfiguring non-bonded forces\n",
    "        ### Custom nonbonded\n",
    "        # nonbond_custom = omm_sys.getForce(0)\n",
    "        # assert(isinstance(nonbond_custom, CustomNonbondedForce))\n",
    "\n",
    "        # nonbond_custom.setCutoffDistance(CUTOFF)\n",
    "        # nonbond_custom.setUseSwitchingFunction(SWITCHING)\n",
    "        # nonbond_custom.setNonbondedMethod(CUTOFF_METHOD)\n",
    "        # nonbond_custom.setUseLongRangeCorrection(DISPERSION)\n",
    " \n",
    "        # ### Default nonbonded\n",
    "        # nonbond = omm_sys.getForce(1)\n",
    "        # assert(isinstance(nonbond, NonbondedForce))\n",
    "\n",
    "        # nonbond.setCutoffDistance(CUTOFF)\n",
    "        # nonbond.setNonbondedMethod(CUTOFF_METHOD)\n",
    "        # nonbond.setUseSwitchingFunction(SWITCHING)\n",
    "        # nonbond.setUseDispersionCorrection(DISPERSION)\n",
    "\n",
    "        # create OpenMM Simulation\n",
    "        sim = Simulation(omm_top, omm_sys, integrator)\n",
    "        sim.context.setPositions(omm_pos)\n",
    "        omm_sims[chemistry][mol_name] = sim\n",
    "\n",
    "    # saving OpenMM files\n",
    "        progress.set_description('Generating OpenMM files')\n",
    "\n",
    "        sdf_out_path = omm_mol_dir / f'{mol_name}_topology.sdf'\n",
    "        sdf_out_path.touch()\n",
    "\n",
    "        for mol in interchange.topology.molecules: # use OpenFF format for saving Molecules (much more convenient to work with)\n",
    "            mol.to_file(str(sdf_out_path), file_format=sdf_out_path.suffix[1:])\n",
    "        serialize_state_and_sys(sim, out_dir=omm_mol_dir, out_name=mol_name)\n",
    "\n",
    "    # saving LAMMPS files\n",
    "        progress.set_description('Generating LAMMPS files')\n",
    "        lmp_mol_dir = lmp_chem_dir / mol_name\n",
    "        lmp_mol_dir.mkdir(exist_ok=True)\n",
    "\n",
    "        lmp_path = lmp_mol_dir / f'{mol_name}.lammps'\n",
    "        lmp_in_path = lmp_mol_dir / f'{mol_name}.in'\n",
    "\n",
    "        ### creating .lmp file\n",
    "        lmp = interchange.to_lammps(lmp_path)\n",
    "        mdc = MDConfig.from_interchange(interchange)\n",
    "        mdc.write_lammps_input(lmp_in_path)\n",
    "\n",
    "        ### creating .in file, replacing input file with .lmp from above\n",
    "        with lmp_in_path.open('r') as in_file:\n",
    "            in_file_block = in_file.read()\n",
    "\n",
    "        in_file_block = in_file_block.replace('out.lmp', str(lmp_path))\n",
    "\n",
    "        with lmp_in_path.open('w') as in_file:\n",
    "            in_file.write(in_file_block)"
   ]
  },
  {
   "cell_type": "markdown",
   "metadata": {},
   "source": [
    "# Evaluating LAMMPS energies"
   ]
  },
  {
   "cell_type": "code",
   "execution_count": null,
   "metadata": {},
   "outputs": [],
   "source": [
    "ENERGY_EVAL_INP = Path('in.urethane') # path to \n",
    "\n",
    "E_MAP = {\n",
    "    'ebond'  : 'Bond',\n",
    "    'eangle' : 'Angle',\n",
    "    'edihed' : 'Proper Torsion',\n",
    "    'eimp'   : 'Improper Torsion',\n",
    "    'ecoul'  : 'Coulomb Short',\n",
    "    'elong'  : 'Coulomb Long',\n",
    "    'evdwl'  : 'vdW',\n",
    "    'etail'  : 'Dispersion',\n",
    "    'epair'  : 'Nonbonded',\n",
    "    'pe'     : 'Potential',\n",
    "    'ke'     : 'Kinetic',\n",
    "    'etotal' : 'Total'\n",
    "}\n",
    "\n",
    "CELL_KW = ( # keywords for probing unit cell sizes and angles\n",
    "    'cella',\n",
    "    'cellb',\n",
    "    'cellc',\n",
    "    'cellalpha',\n",
    "    'cellbeta',\n",
    "    'cellgamma',\n",
    ")"
   ]
  },
  {
   "cell_type": "code",
   "execution_count": null,
   "metadata": {},
   "outputs": [],
   "source": [
    "def get_calc_lmp_energies(lmp_block : str) -> tuple[str, list[str]]:\n",
    "    '''Read which thermodynamic energy contributions will be calculated from a LAMMPS input file block'''\n",
    "    ENERGY_CONTRIB_REGEX = re.compile(r'^thermo_style\\s(?P<thermo_style>\\b\\w*?\\b)\\s(?P<calc_energies>.*$)')\n",
    "\n",
    "    for line in lmp_block.split('\\n'):\n",
    "        if (match := re.search(ENERGY_CONTRIB_REGEX, line)):\n",
    "            groups = match.groupdict()\n",
    "            return groups['thermo_style'], groups['calc_energies'].split(' ')\n",
    "    else:\n",
    "        raise ValueError('No thermo_style energy commands found in input file')"
   ]
  },
  {
   "cell_type": "code",
   "execution_count": null,
   "metadata": {},
   "outputs": [],
   "source": [
    "import lammps\n",
    "from IPython.display import clear_output\n",
    "\n",
    "\n",
    "records = {}\n",
    "cell_sizes = {}\n",
    "for subdir in lammps_dir.iterdir():\n",
    "    if subdir.is_dir():\n",
    "        chemistry = subdir.name\n",
    "        for mol_dir in subdir.iterdir():\n",
    "            mol_name = mol_dir.stem\n",
    "            lammps_file = mol_dir / f'{mol_name}.lammps'\n",
    "            lammps_in   = mol_dir / f'{mol_name}.in'\n",
    "            \n",
    "            # craete LAMMPS wrapper and execute input calc\n",
    "            with lammps.lammps() as lmp: # need to create new lammps() object instance for each run\n",
    "                # lmp.commands_string( ENERGY_EVAL_STR.replace('$INP_FILE', str(lammps_file)) )\n",
    "                # lmp.file(str(ENERGY_EVAL_INP))\n",
    "                lmp.file(str(lammps_in)) # read input file and calculate energies\n",
    "\n",
    "                ## Getting energies\n",
    "                with lammps_in.open('r') as in_file:\n",
    "                    thermo_style, calc_energies = get_calc_lmp_energies(in_file.read())\n",
    "\n",
    "                energies = {\n",
    "                    E_MAP[contrib] : lmp.get_thermo(contrib)\n",
    "                        for contrib in calc_energies\n",
    "                }\n",
    "\n",
    "                ## Getting unit cell dimensions\n",
    "                cell_params = {\n",
    "                    cp : lmp.get_thermo(cp)\n",
    "                        for cp in CELL_KW\n",
    "                }\n",
    "\n",
    "            # reformatting energies\n",
    "            energies = {\n",
    "                f'{contrib} (kcal/mol)' : energy # add units to labels\n",
    "                    for contrib, energy in energies.items()\n",
    "            }\n",
    "            \n",
    "            # save records for Pandas DataFrames\n",
    "            records[(chemistry, mol_name)] = energies\n",
    "            cell_sizes[(chemistry, mol_name)] = cell_params\n",
    "            clear_output() # wipe lengthy LAMMPS printouts"
   ]
  },
  {
   "cell_type": "code",
   "execution_count": null,
   "metadata": {},
   "outputs": [],
   "source": [
    "lmp_table = pd.DataFrame.from_dict(records, 'index')\n",
    "lmp_table.index.names  = ['Chemistry', 'Molecule'] # ensure index labels are labelled consistently\n",
    "lmp_table.sort_values('Molecule', inplace=True)\n",
    "lmp_table.to_csv(lammps_dir/f'{lammps_dir.name}_PEs.csv')"
   ]
  },
  {
   "cell_type": "markdown",
   "metadata": {},
   "source": [
    "# Evaluating OpenMM energies"
   ]
  },
  {
   "cell_type": "markdown",
   "metadata": {},
   "source": [
    "## Loading simulations from file"
   ]
  },
  {
   "cell_type": "code",
   "execution_count": null,
   "metadata": {},
   "outputs": [],
   "source": [
    "skip = True\n",
    "\n",
    "# parameters\n",
    "sep_force_grps : bool = True\n",
    "remove_constrs : bool = False\n",
    "\n",
    "# iterate over serialized directory tree and load\n",
    "if not skip:\n",
    "    omm_sims = defaultdict(defaultdict)\n",
    "    for subdir in omm_dir.iterdir():\n",
    "        if subdir.is_dir():\n",
    "            chemistry = subdir.name\n",
    "            for mol_dir in subdir.iterdir():\n",
    "                mol_name = mol_dir.name\n",
    "\n",
    "                state_file = mol_dir / f'{mol_name}_state.xml'\n",
    "                sys_file   = mol_dir / f'{mol_name}_system.xml'\n",
    "                top_file   = mol_dir / f'{mol_name}_topology.sdf'\n",
    "\n",
    "                offmol = Molecule.from_file(top_file)\n",
    "                offtop = Topology.from_molecules(offmol)\n",
    "                \n",
    "                integrator = LangevinMiddleIntegrator(T, friction, timestep)\n",
    "                # extra_forces = [MonteCarloBarostat(P, T, baro_freq)]\n",
    "                extra_forces = None\n",
    "\n",
    "                # load and configure System\n",
    "                omm_top = offtop.to_openmm()\n",
    "                omm_sys = load_openmm_system(\n",
    "                    sys_file,\n",
    "                    extra_forces=extra_forces,\n",
    "                    sep_force_grps=sep_force_grps,\n",
    "                    remove_constrs=remove_constrs\n",
    "                )\n",
    "\n",
    "                # putting it all together into a Simulation\n",
    "                sim = Simulation(\n",
    "                    topology=omm_top,\n",
    "                    system=omm_sys,\n",
    "                    integrator=integrator,\n",
    "                    state=state_file\n",
    "                )\n",
    "                omm_sims[chemistry][mol_name] = sim"
   ]
  },
  {
   "cell_type": "markdown",
   "metadata": {},
   "source": [
    "## Evaluating starting structure energies"
   ]
  },
  {
   "cell_type": "code",
   "execution_count": null,
   "metadata": {},
   "outputs": [],
   "source": [
    "from openmm.unit import kilojoule_per_mole, kilocalorie_per_mole\n",
    "\n",
    "NULL_ENERGY = 0.0*kilojoule_per_mole\n",
    "PRECISION : int = 4\n",
    "\n",
    "data_dicts = []\n",
    "for chemistry, mol_dict in omm_sims.items():\n",
    "    progress = tqdm_notebook(mol_dict.items())\n",
    "    for mol_name, sim in progress:\n",
    "        progress.set_postfix_str(f'{chemistry} : {mol_name}')\n",
    "        \n",
    "        # extract total and component energies from OpenMM force groups\n",
    "        data_dict = {\n",
    "            'Chemistry' : chemistry,\n",
    "            'Molecule'  : mol_name\n",
    "        }\n",
    "        omm_energies = {}\n",
    "\n",
    "        ## Total Potential\n",
    "        overall_state = sim.context.getState(getEnergy=True) # get total potential energy\n",
    "        PE = overall_state.getPotentialEnergy()\n",
    "        omm_energies['Potential'] = PE\n",
    "\n",
    "        ## Total Kinetic (to verify no integration is being done)\n",
    "        KE = overall_state.getKineticEnergy()\n",
    "        omm_energies['Kinetic'] = KE\n",
    "        assert(KE == NULL_ENERGY)\n",
    "\n",
    "        ## Individual force contributions\n",
    "        for i, force in enumerate(sim.system.getForces()):\n",
    "            state = sim.context.getState(getEnergy=True, groups={i})\n",
    "            omm_energies[force.getName()] = state.getPotentialEnergy()\n",
    "\n",
    "        # reformat to desired units and precision\n",
    "        omm_energies_kcal = {}\n",
    "        for contrib_name, energy_kj in omm_energies.items():\n",
    "            energy_kcal = energy_kj.in_units_of(kilocalorie_per_mole)\n",
    "            omm_energies_kcal[f'{contrib_name} ({energy_kcal.unit.get_symbol()})'] = round(energy_kcal._value, PRECISION)\n",
    "\n",
    "        # compile data\n",
    "        data_dict = {**data_dict, **omm_energies_kcal}\n",
    "        data_dicts.append(data_dict)\n",
    "\n",
    "omm_table = pd.DataFrame.from_records(data_dicts)\n",
    "omm_table.sort_values('Molecule', inplace=True)\n",
    "omm_table.set_index(['Chemistry', 'Molecule'], inplace=True)\n",
    "omm_table.to_csv(omm_dir / f'{omm_dir.name}_PEs.csv')"
   ]
  },
  {
   "cell_type": "markdown",
   "metadata": {},
   "source": [
    "# Comparing energies"
   ]
  },
  {
   "cell_type": "markdown",
   "metadata": {},
   "source": [
    "## Loading energy tables and comparing contributions"
   ]
  },
  {
   "cell_type": "code",
   "execution_count": null,
   "metadata": {},
   "outputs": [],
   "source": [
    "pd.options.display.float_format = '{:.4f}'.format # disable scientific notation\n",
    "\n",
    "@dataclass\n",
    "class TableFormats:\n",
    "    table_key : str\n",
    "    sum_terms : dict[str, list[str]]\n",
    "    del_terms : list[str]\n",
    "\n",
    "omm_formats = TableFormats(\n",
    "    table_key = omm_dir.stem,\n",
    "    sum_terms = {\n",
    "        'vdW (kcal/mol)' : ['vdW (kcal/mol)', 'vdW 1-4 (kcal/mol)'],\n",
    "        'Coulomb (kcal/mol)' : ['Electrostatic (kcal/mol)', 'Electrostatic 1-4 (kcal/mol)']\n",
    "    },\n",
    "    del_terms = ['Kinetic (kcal/mol)']\n",
    ")\n",
    "\n",
    "lmp_formats = TableFormats(\n",
    "    table_key = lammps_dir.stem,\n",
    "    sum_terms = {\n",
    "        'vdW (kcal/mol)' : ['vdW (kcal/mol)', 'Dispersion (kcal/mol)'],\n",
    "        'Dihedral (kcal/mol)' : ['Proper Torsion (kcal/mol)', 'Improper Torsion (kcal/mol)'],\n",
    "        'Coulomb (kcal/mol)' : ['Coulomb Short (kcal/mol)', 'Coulomb Long (kcal/mol)']\n",
    "    },\n",
    "    del_terms = ['Nonbonded (kcal/mol)']\n",
    ")\n",
    "\n",
    "# apply reformatting to respective tables\n",
    "for fmt in (omm_formats, lmp_formats):\n",
    "    table_in_path  = Path(fmt.table_key) / f'{fmt.table_key}_PEs.csv'\n",
    "    table_out_path = Path(fmt.table_key) / f'{fmt.table_key}_PEs_processed.csv'\n",
    "    table = pd.read_csv(table_in_path, index_col=(0, 1)).sort_index(axis=1)\n",
    "\n",
    "    # combine selected terms\n",
    "    for combined_contrib, contribs in fmt.sum_terms.items():\n",
    "        new_term = sum(\n",
    "            table[contrib]\n",
    "                for contrib in contribs\n",
    "        ) # merge contributions into a single new named term\n",
    "        table.drop(columns=contribs, inplace=True) # clear contributions\n",
    "        table[combined_contrib] = new_term # done after drop to ensure name clashes don;t result in extra deletion\n",
    "    \n",
    "    # delete redundant terms\n",
    "    for del_contrib in fmt.del_terms:\n",
    "        table.drop(columns=[del_contrib], inplace=True) # clear contributions\n",
    "\n",
    "    globals()[f'{fmt.table_key.lower()}_table'] = table\n",
    "    table.to_csv(table_out_path)"
   ]
  },
  {
   "cell_type": "code",
   "execution_count": null,
   "metadata": {},
   "outputs": [],
   "source": [
    "openmm_table"
   ]
  },
  {
   "cell_type": "code",
   "execution_count": null,
   "metadata": {},
   "outputs": [],
   "source": [
    "lammps_table"
   ]
  },
  {
   "cell_type": "code",
   "execution_count": null,
   "metadata": {},
   "outputs": [],
   "source": [
    "diff = openmm_table - lammps_table\n",
    "diff"
   ]
  },
  {
   "cell_type": "code",
   "execution_count": null,
   "metadata": {},
   "outputs": [],
   "source": [
    "common_cols = ['Angle (kcal/mol)', 'Bond (kcal/mol)']# 'Torsion (kcal/mol)']\n",
    "\n",
    "omm_redux = omm_table.drop(columns=common_cols)\n",
    "lmp_redux = lmp_table.drop(columns=common_cols)"
   ]
  },
  {
   "cell_type": "code",
   "execution_count": null,
   "metadata": {},
   "outputs": [],
   "source": [
    "omm_table[common_cols] - lmp_table[common_cols]"
   ]
  },
  {
   "cell_type": "code",
   "execution_count": null,
   "metadata": {},
   "outputs": [],
   "source": [
    "omm_redux"
   ]
  },
  {
   "cell_type": "markdown",
   "metadata": {},
   "source": [
    "## Evaluating energies with drivers"
   ]
  },
  {
   "cell_type": "code",
   "execution_count": null,
   "metadata": {},
   "outputs": [],
   "source": [
    "from openff.interchange.drivers.openmm import get_openmm_energies, _get_openmm_energies\n",
    "from openff.interchange.drivers.lammps import get_lammps_energies, _get_lammps_energies,  _find_lammps_executable\n",
    "from openff.units.openmm import to_openmm as openff_units_to_openmm"
   ]
  },
  {
   "cell_type": "code",
   "execution_count": null,
   "metadata": {},
   "outputs": [],
   "source": [
    "{\n",
    "    contrib : openff_units_to_openmm(value).in_units_of(kilocalorie_per_mole)\n",
    "        for contrib, value in get_openmm_energies(interchange, detailed=True, combine_nonbonded_forces=False).energies.items()\n",
    "}"
   ]
  },
  {
   "cell_type": "code",
   "execution_count": null,
   "metadata": {},
   "outputs": [],
   "source": [
    "get_lammps_energies(interchange).energies"
   ]
  },
  {
   "cell_type": "markdown",
   "metadata": {},
   "source": [
    "## Comparing ParmEd energy decomposition to native OpenMM force-group-based decomposition"
   ]
  },
  {
   "cell_type": "code",
   "execution_count": null,
   "metadata": {},
   "outputs": [],
   "source": [
    "import parmed\n",
    "from openmm.openmm import Force\n",
    "\n",
    "NULL_ENERGY = 0.0*kilojoule_per_mole\n",
    "\n",
    "sim = omm_sims['urethane']['urethane_41']\n",
    "# assign and initialize unique force groups for simulation\n",
    "for i, force in enumerate(sim.system.getForces()):\n",
    "    force.setForceGroup(i)\n",
    "    # print(force.getName(), force.getForceGroup())\n",
    "sim.context.reinitialize(preserveState=True) # need to reinitialize to get force labelling changes to \"stick\"\n",
    "\n",
    "# energies from OpenMM force groups\n",
    "print('\\nOpenMM:')\n",
    "print('='*30)\n",
    "omm_energies = {}\n",
    "\n",
    "## extract total energies for state\n",
    "overall_state = sim.context.getState(getEnergy=True) # get total potential energy\n",
    "PE = overall_state.getPotentialEnergy()\n",
    "omm_energies['Total Potential Energy'] = PE\n",
    "\n",
    "KE = overall_state.getKineticEnergy()\n",
    "assert(KE == NULL_ENERGY)\n",
    "\n",
    "for i, force in enumerate(sim.system.getForces()):\n",
    "    state = sim.context.getState(getEnergy=True, groups={i})\n",
    "    force_name = force.getName().removesuffix('Force')\n",
    "    pe = state.getPotentialEnergy()\n",
    "\n",
    "    omm_energies[force_name] = pe\n",
    "    print(f'{force_name} : {pe}')\n",
    "\n",
    "## converting name to match with ParmEd for comparison\n",
    "namemap = {\n",
    "    'Nonbonded' : 'bond',\n",
    "    'PeriodicTorsion' : 'angle',\n",
    "    'HarmonicAngle' : 'dihedral',\n",
    "    'HarmonicBond' : 'urey_bradley',\n",
    "    'Total Potential Energy' : 'total'\n",
    "}\n",
    "compat_omm_energies = {\n",
    "    namemap[contrib] : energy\n",
    "        for contrib, energy in omm_energies.items()\n",
    "}\n",
    "\n",
    "total = sum(omm_energies.values(), start=NULL_ENERGY) # need \"seed\" to have Quantity datatype to sum\n",
    "print(f'{general.GREEK_UPPER[\"delta\"]}E_contrib: ', PE - total)\n",
    "\n",
    "# ParmEd energy decomposition\n",
    "print('\\nParmEd:')\n",
    "print('='*30)\n",
    "parm_energies = {}\n",
    "parm_struct = parmed.openmm.load_topology(sim.topology, sim.system)\n",
    "for contrib, energy_val in parmed.openmm.energy_decomposition(parm_struct, sim.context).items():\n",
    "    parm_energies[contrib] = energy = energy_val*kilocalorie_per_mole # assign proper units\n",
    "    print(contrib, energy.in_units_of(kilojoule_per_mole))"
   ]
  },
  {
   "cell_type": "code",
   "execution_count": null,
   "metadata": {},
   "outputs": [],
   "source": []
  }
 ],
 "metadata": {
  "kernelspec": {
   "display_name": "openff-dev-updated",
   "language": "python",
   "name": "python3"
  },
  "language_info": {
   "codemirror_mode": {
    "name": "ipython",
    "version": 3
   },
   "file_extension": ".py",
   "mimetype": "text/x-python",
   "name": "python",
   "nbconvert_exporter": "python",
   "pygments_lexer": "ipython3",
   "version": "3.11.5"
  },
  "orig_nbformat": 4
 },
 "nbformat": 4,
 "nbformat_minor": 2
}
