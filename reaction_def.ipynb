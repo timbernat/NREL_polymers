{
 "cells": [
  {
   "cell_type": "markdown",
   "metadata": {},
   "source": [
    "# Description"
   ]
  },
  {
   "cell_type": "markdown",
   "metadata": {},
   "source": [
    "For defining functional groups and reaction mechanisms for polymerization"
   ]
  },
  {
   "cell_type": "markdown",
   "metadata": {},
   "source": [
    "# Core Imports"
   ]
  },
  {
   "cell_type": "code",
   "execution_count": null,
   "metadata": {},
   "outputs": [],
   "source": [
    "# Custom Imports\n",
    "from polymerist.rdutils import rdkdraw\n",
    "from polymerist.rdutils.labeling import molwise\n",
    "from polymerist.rdutils.amalgamation import portlib, bonding\n",
    "from polymerist.rdutils.reactions import reactions\n",
    "\n",
    "# File I/O\n",
    "from pathlib import Path\n",
    "import json\n",
    "\n",
    "# Cheminformatics\n",
    "from rdkit import Chem\n",
    "from rdkit.Chem import rdChemReactions\n",
    "\n",
    "# Static Paths\n",
    "# RXN_FILES_PATH = Path('rxn_smarts')\n",
    "RXN_FILES_PATH = Path('rxn_smarts')\n",
    "RXN_FILES_PATH.mkdir(exist_ok=True)"
   ]
  },
  {
   "cell_type": "markdown",
   "metadata": {},
   "source": [
    "## Defining target functional groups"
   ]
  },
  {
   "cell_type": "code",
   "execution_count": null,
   "metadata": {},
   "outputs": [],
   "source": [
    "rdkdraw.set_rdkdraw_size(200, 5)\n",
    "\n",
    "fn_group_smiles_base = {\n",
    "    'amine'          : '[NH3]',\n",
    "    'cyclocarbonate' : 'C1OC(=O)OC1',\n",
    "    'hydroxyl'       : '[OH2]',\n",
    "    'isocyanate'     : 'O=C=N'\n",
    "}\n",
    "\n",
    "fn_group_smarts_portless = {}\n",
    "for group_name, smiles in fn_group_smiles_base.items():\n",
    "    rdmol = Chem.MolFromSmiles(smiles)\n",
    "    rdmol = Chem.AddHs(rdmol)\n",
    "    rdmol = molwise.assign_ordered_atom_map_nums(rdmol, in_place=False)\n",
    "    display(rdmol)\n",
    "\n",
    "    fn_group_smarts_portless[group_name] = Chem.MolToSmarts(rdmol)"
   ]
  },
  {
   "cell_type": "code",
   "execution_count": null,
   "metadata": {},
   "outputs": [],
   "source": [
    "fn_group_smarts = { # add ports\n",
    "    'amine'          : '[#7D3:1](-[#1:2])(-[#1:3])-[*:4]',\n",
    "    'cyclocarbonate' : '[#6:1]1(-[#8:2]-[#6:3](=[#8:4])-[#8:5]-[#6:6]-1(-[#1:9])-[*:10])(-[#1:7])-[*:8]',\n",
    "    'hydroxyl'       : '[#8:1](-[#1:2])-[*:3]',\n",
    "    'isocyanate'     : '[#8:1]=[#6:2]=[#7D2:3]-[*:4]'\n",
    "}\n",
    "\n",
    "with (RXN_FILES_PATH / 'fn_group_smarts.json').open('w') as file:\n",
    "    json.dump(fn_group_smarts, file, indent=4)\n",
    "\n",
    "fn_groups = {}\n",
    "for group, smarts in fn_group_smarts.items():\n",
    "    group_mol = Chem.MolFromSmarts(smarts)\n",
    "    display(group_mol)\n",
    "    fn_groups[group] = group_mol"
   ]
  },
  {
   "cell_type": "markdown",
   "metadata": {},
   "source": [
    "# Defining polymerization reactions"
   ]
  },
  {
   "cell_type": "code",
   "execution_count": null,
   "metadata": {},
   "outputs": [],
   "source": [
    "rdkdraw.set_rdkdraw_size(400, 3/2)\n",
    "rxns, rxn_smarts = {}, {}\n",
    "portlib.Port.bondable_flavors.insert((1, 2)) # allows for specificity when re-bonding cleaved groups"
   ]
  },
  {
   "cell_type": "markdown",
   "metadata": {},
   "source": [
    "## NIPU reaction"
   ]
  },
  {
   "cell_type": "code",
   "execution_count": null,
   "metadata": {},
   "outputs": [],
   "source": [
    "# defining targets\n",
    "reactive_groups = (\n",
    "    fn_groups['cyclocarbonate'],\n",
    "    fn_groups['amine']\n",
    ")\n",
    "chemistry = 'NIPU'\n",
    "\n",
    "bond_break_map_nums = (\n",
    "    (11, 12),\n",
    "    (2, 3)\n",
    ")\n",
    "\n",
    "bond_make_map_nums = (\n",
    "    (11, 3),\n",
    "    (2, 12)\n",
    ")\n",
    "\n",
    "# 1) extracting and labelling reactants\n",
    "reactant1, reactant2 = molwise.assign_contiguous_atom_map_nums(*reactive_groups, in_place=False)\n",
    "reactant1_SMARTS = Chem.MolToSmarts(reactant1) \n",
    "reactant2_SMARTS = Chem.MolToSmarts(reactant2) \n",
    "reactants = Chem.MolFromSmarts(f'{reactant1_SMARTS}.{reactant2_SMARTS}')\n",
    "display(reactants)\n",
    "\n",
    "# 2) cleaving broken bonds\n",
    "product = Chem.RWMol(reactants) # create editable Mol\n",
    "for i, atom_pair in enumerate(bond_break_map_nums):\n",
    "    bonding.decrease_bond_order(\n",
    "        product,\n",
    "        *molwise.atom_ids_by_map_nums(product, *atom_pair),\n",
    "        new_port_flavor=(i + 1),\n",
    "        in_place=True\n",
    "    )\n",
    "display(product)\n",
    "\n",
    "# 3) forming new bonds with cleaved groups\n",
    "for atom_pair in bond_make_map_nums:\n",
    "    bonding.increase_bond_order(\n",
    "        product,\n",
    "        *molwise.atom_ids_by_map_nums(product, *atom_pair),\n",
    "        flavor_pair=(1, 2),\n",
    "        in_place=True\n",
    "    )\n",
    "molwise.clear_atom_isotopes(product, in_place=True)\n",
    "display(product)\n",
    "\n",
    "# defining reaction\n",
    "rxn = reactions.AnnotatedReaction.from_rdmols(reactant_templates=[reactant1, reactant2], product_templates=[product])\n",
    "rxns[chemistry] = rxn\n",
    "rxn_smarts[chemistry] = rdChemReactions.ReactionToSmarts(rxn)"
   ]
  },
  {
   "cell_type": "markdown",
   "metadata": {},
   "source": [
    "## Urethane reaction"
   ]
  },
  {
   "cell_type": "code",
   "execution_count": null,
   "metadata": {},
   "outputs": [],
   "source": [
    "# defining targets\n",
    "reactive_groups = (\n",
    "    fn_groups['isocyanate'],\n",
    "    fn_groups['hydroxyl']\n",
    ")\n",
    "chemistry = 'urethane'\n",
    "\n",
    "bond_break_map_nums = (\n",
    "    (5, 6),\n",
    "    (2, 3)\n",
    ")\n",
    "\n",
    "bond_make_map_nums = (\n",
    "    (3, 6),\n",
    "    (5, 2)\n",
    ")\n",
    "\n",
    "# 1) extracting and labelling reactants\n",
    "reactant1, reactant2 = molwise.assign_contiguous_atom_map_nums(*reactive_groups, in_place=False)\n",
    "reactant1_SMARTS = Chem.MolToSmarts(reactant1) \n",
    "reactant2_SMARTS = Chem.MolToSmarts(reactant2) \n",
    "reactants = Chem.MolFromSmarts(f'{reactant1_SMARTS}.{reactant2_SMARTS}')\n",
    "display(reactants)\n",
    "\n",
    "# 2) cleaving broken bonds\n",
    "product = Chem.RWMol(reactants) # create editable Mol\n",
    "for i, atom_pair in enumerate(bond_break_map_nums):\n",
    "    product = bonding.decrease_bond_order(\n",
    "        product,\n",
    "        *molwise.atom_ids_by_map_nums(product, *atom_pair),\n",
    "        new_port_flavor=(i + 1),\n",
    "        in_place=False\n",
    "    )\n",
    "display(product)\n",
    "\n",
    "# 3) forming new bonds with cleaved groups\n",
    "for atom_pair in bond_make_map_nums:\n",
    "    bonding.increase_bond_order(\n",
    "        product,\n",
    "        *molwise.atom_ids_by_map_nums(product, *atom_pair),\n",
    "        flavor_pair=(1,2),\n",
    "        in_place=True\n",
    "    )\n",
    "molwise.clear_atom_isotopes(product, in_place=True)\n",
    "display(product)\n",
    "\n",
    "# defining reaction\n",
    "rxn = reactions.AnnotatedReaction.from_rdmols(reactant_templates=[reactant1, reactant2], product_templates=[product])\n",
    "rxns[chemistry] = rxn\n",
    "rxn_smarts[chemistry] = rdChemReactions.ReactionToSmarts(rxn)"
   ]
  },
  {
   "cell_type": "markdown",
   "metadata": {},
   "source": [
    "## Saving SMARTS-based reaction equations to file"
   ]
  },
  {
   "cell_type": "code",
   "execution_count": null,
   "metadata": {},
   "outputs": [],
   "source": [
    "with (RXN_FILES_PATH / 'rxn_smarts.json').open('w') as file:\n",
    "    json.dump(rxn_smarts, file, indent=4)\n",
    "\n",
    "for chemistry, rxn in rxns.items():\n",
    "    rxn.to_rxnfile(RXN_FILES_PATH / f'{chemistry}.rxn')"
   ]
  },
  {
   "cell_type": "code",
   "execution_count": 9,
   "metadata": {},
   "outputs": [
    {
     "data": {
      "image/png": "[encoded data removed]",
      "text/plain": [
       "<polymerist.rdutils.reactions.reactions.AnnotatedReaction at 0x7f5142825800>"
      ]
     },
     "execution_count": 9,
     "metadata": {},
     "output_type": "execute_result"
    }
   ],
   "source": [
    "rxn"
   ]
  }
 ],
 "metadata": {
  "kernelspec": {
   "display_name": "openff-dev-updated",
   "language": "python",
   "name": "python3"
  },
  "language_info": {
   "codemirror_mode": {
    "name": "ipython",
    "version": 3
   },
   "file_extension": ".py",
   "mimetype": "text/x-python",
   "name": "python",
   "nbconvert_exporter": "python",
   "pygments_lexer": "ipython3",
   "version": "3.11.5"
  },
  "orig_nbformat": 4
 },
 "nbformat": 4,
 "nbformat_minor": 2
}
