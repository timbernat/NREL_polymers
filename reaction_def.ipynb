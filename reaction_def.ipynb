{
 "cells": [
  {
   "cell_type": "markdown",
   "metadata": {},
   "source": [
    "# For defining reaction templates used in polymer fragment generation"
   ]
  },
  {
   "cell_type": "markdown",
   "metadata": {},
   "source": [
    "# Core Imports"
   ]
  },
  {
   "cell_type": "code",
   "execution_count": null,
   "metadata": {},
   "outputs": [],
   "source": [
    "# Custom Imports\n",
    "from polymerist.rdutils import rdkdraw\n",
    "from polymerist.rdutils.reactions import reactions\n",
    "from polymerist.rdutils.amalgamation import portlib\n",
    "\n",
    "from polymerist.rdutils.smileslib.functgroups import FN_GROUP_TABLE\n",
    "from polymerist.monomers import specification\n",
    "\n",
    "# File I/O\n",
    "import json\n",
    "from collections import defaultdict\n",
    "from pathlib import Path\n",
    "\n",
    "# Cheminformatics\n",
    "from rdkit import Chem\n",
    "from rdkit.Chem import rdChemReactions\n",
    "\n",
    "# Static Paths\n",
    "# RXN_FILES_PATH = Path('rxn_smarts')\n",
    "RXN_FILES_PATH = Path('poly_rxns')\n",
    "RXN_FILES_PATH.mkdir(exist_ok=True)"
   ]
  },
  {
   "cell_type": "markdown",
   "metadata": {},
   "source": [
    "## Defining target functional groups"
   ]
  },
  {
   "cell_type": "markdown",
   "metadata": {},
   "source": [
    "### Locate base SMARTS to build off of"
   ]
  },
  {
   "cell_type": "code",
   "execution_count": null,
   "metadata": {},
   "outputs": [],
   "source": [
    "gb = FN_GROUP_TABLE.groupby('group_name')\n",
    "smarts_keys = {\n",
    "    'hydroxyl'      : ('Hydroxyl', 156),\n",
    "    'carboxyl'      : ('Carboxylic acid', 51),\n",
    "    'carbamate'     : ('Carbamate.', 46),\n",
    "    'acyl_chloride' : ('Acyl Halide', 237),\n",
    "    'isocyanate'    : ('Cyanamide', 54),\n",
    "    'ester'         : ('Ester Also hits anhydrides', 58)\n",
    "}\n",
    "\n",
    "smarts_dict, mol_dict = {}, {}\n",
    "for fn_group_name, (group_key, idx) in smarts_keys.items():\n",
    "    smarts = gb.get_group(group_key).loc[idx].SMARTS\n",
    "    rdmol = Chem.MolFromSmarts(smarts)\n",
    "\n",
    "    print(fn_group_name, smarts)\n",
    "    # display(rdmol)\n",
    "\n",
    "    smarts_dict[fn_group_name] = smarts \n",
    "    mol_dict[fn_group_name] = rdmol "
   ]
  },
  {
   "cell_type": "markdown",
   "metadata": {},
   "source": [
    "### Define functional groups (with R-group linkers) as basis for desired reactions"
   ]
  },
  {
   "cell_type": "code",
   "execution_count": null,
   "metadata": {},
   "outputs": [],
   "source": [
    "rdkdraw.set_rdkdraw_size(200, 5/2)\n",
    "\n",
    "fn_group_smarts_bare = { # TODO : add specificity vis-a-vis bond degree and stereo\n",
    "    'phthalimide'    : '*C(=O)N(*)C(=O)*',\n",
    "    'carbamate'      : '*[NH]C(=O)O*',\n",
    "    'cyclocarbonate' : '*C1OC(=O)OC1*',\n",
    "    'anhydride'      : '*C(=O)OC(=O)*',\n",
    "    'vinyl'          : '*C=C',\n",
    "    'terminal_alkene': '*C(-*)=C',\n",
    "    'acyl_chloride'  : 'Cl-C(=O)*',\n",
    "    'carboxyl'       : 'OC(=O)*',\n",
    "    'ester'          : '*OC(=O)*',\n",
    "    'amine'          : '[NH2]*',\n",
    "    'hydroxyl'       : '[OH]*',\n",
    "    'isocyanate'     : 'O=C=N*',\n",
    "}\n",
    "\n",
    "fn_group_smarts, fn_groups = {}, {}\n",
    "for group_name, smiles in fn_group_smarts_bare.items():\n",
    "    exp_smiles = specification.expanded_SMILES(smiles, assign_map_nums=True)\n",
    "    fn_group_mol = Chem.MolFromSmiles(exp_smiles, sanitize=False)\n",
    "    fn_group_mol.SetProp('_Name', group_name) # shows up as MDL mol label in file\n",
    "\n",
    "    for atom in fn_group_mol.GetAtoms():\n",
    "        if portlib.is_linker(atom):\n",
    "            atom.SetProp('molFileValue', group_name)\n",
    "            break # ensure this is only set once\n",
    "    \n",
    "    print(group_name)\n",
    "    display(fn_group_mol)\n",
    "\n",
    "    fn_group_smarts[group_name] = exp_smiles\n",
    "    fn_groups[      group_name] = fn_group_mol"
   ]
  },
  {
   "cell_type": "markdown",
   "metadata": {},
   "source": [
    "### Define complete small-molecule byproducts (as query mols)"
   ]
  },
  {
   "cell_type": "code",
   "execution_count": null,
   "metadata": {},
   "outputs": [],
   "source": [
    "byproduct_smarts_bare = {\n",
    "    'water' : 'O',\n",
    "    'hcl'   : '[ClH]',\n",
    "    'alcohol' : 'O*'\n",
    "}\n",
    "\n",
    "byproduct_smarts, byproducts = {}, {}\n",
    "for group_name, smiles in byproduct_smarts_bare.items():\n",
    "    exp_smiles = specification.expanded_SMILES(smiles, assign_map_nums=False)\n",
    "    byproduct = Chem.MolFromSmarts(exp_smiles) # must be SMARTS for successful query\n",
    "\n",
    "    byproduct_smarts[group_name] = exp_smiles\n",
    "    byproducts[group_name] = byproduct\n",
    "    display(byproduct)"
   ]
  },
  {
   "cell_type": "markdown",
   "metadata": {},
   "source": [
    "## Export functional group and byproduct smiles to files"
   ]
  },
  {
   "cell_type": "code",
   "execution_count": null,
   "metadata": {},
   "outputs": [],
   "source": [
    "with (RXN_FILES_PATH / 'fn_group_smarts.json').open('w') as file:\n",
    "    json.dump(fn_group_smarts, file, indent=4)\n",
    "\n",
    "with (RXN_FILES_PATH / 'byprod_smarts.json').open('w') as file:\n",
    "    json.dump(byproduct_smarts, file, indent=4)"
   ]
  },
  {
   "cell_type": "markdown",
   "metadata": {},
   "source": [
    "# Defining polymerization reactions"
   ]
  },
  {
   "cell_type": "code",
   "execution_count": null,
   "metadata": {},
   "outputs": [],
   "source": [
    "from polymerist.rdutils.reactions.assembly import ReactionAssembler\n",
    "\n",
    "rdkdraw.set_rdkdraw_size(400, 3/2)\n",
    "portlib.Port.bondable_flavors.insert((1, 2)) # allows for specificity when re-bonding cleaved groups\n",
    "\n",
    "\n",
    "mechanisms : dict[str, ReactionAssembler] = {\n",
    "    'polyester' : ReactionAssembler(\n",
    "        reactive_groups=(\n",
    "            fn_groups['hydroxyl'],\n",
    "            fn_groups['carboxyl'],\n",
    "        ),\n",
    "        bond_derangement= {\n",
    "            1 : (3, 5),\n",
    "            4 : (5, 3)\n",
    "        },\n",
    "        byproducts=(\n",
    "            byproducts['water'],\n",
    "        )\n",
    "    ),\n",
    "    'polyamide' : ReactionAssembler(\n",
    "        reactive_groups=(\n",
    "            fn_groups['amine'],\n",
    "            fn_groups['carboxyl'],\n",
    "        ),\n",
    "        bond_derangement= {\n",
    "            1 : (3, 6),\n",
    "            5 : (6, 3)\n",
    "        },\n",
    "        byproducts=(\n",
    "            byproducts['water'],\n",
    "        )\n",
    "    ),\n",
    "    'polyimide' : ReactionAssembler(\n",
    "        reactive_groups=(\n",
    "            fn_groups['amine'],\n",
    "            fn_groups['anhydride'],\n",
    "        ),\n",
    "        bond_derangement={\n",
    "            4 : (1, 8),\n",
    "            6 : (8, 1),\n",
    "            3 : (1, 8), # doubles up carbonyl transfer - must have target atoms as beginning to maintain canonical derangement form\n",
    "            9 : (8, 1),\n",
    "        },\n",
    "        byproducts=(\n",
    "            byproducts['water'],\n",
    "        )\n",
    "    ),\n",
    "    'polycarbonate_phosgene' : ReactionAssembler(\n",
    "        reactive_groups=(\n",
    "            fn_groups['hydroxyl'],\n",
    "            fn_groups['acyl_chloride'],\n",
    "        ),\n",
    "        bond_derangement= {\n",
    "            1 : (3, 5),\n",
    "            4 : (5, 3)\n",
    "        },\n",
    "        byproducts=(\n",
    "            byproducts['hcl'],\n",
    "        )\n",
    "    ),\n",
    "    'polycarbonate_nonphosgene' : ReactionAssembler(\n",
    "        reactive_groups=(\n",
    "            fn_groups['hydroxyl'],\n",
    "            fn_groups['ester'],\n",
    "        ),\n",
    "        bond_derangement= {\n",
    "            5 : (6, 3),\n",
    "            1 : (3, 6)\n",
    "        },\n",
    "        # bond_derangement= { # technically would give desired end products but is...\n",
    "        #     4 : (5, 1), # ... inconsistent w/ mechanism of action (relative to phosgene route)...\n",
    "        #     2 : (1, 5)  # ...AND prohibited by the Port spec (would produce 2 neutronium fragments which are unbondable)\n",
    "        # },\n",
    "        byproducts=(\n",
    "            byproducts['alcohol'],\n",
    "        )\n",
    "    ),\n",
    "    'polyurethane_isocyanate' : ReactionAssembler(\n",
    "        reactive_groups=(\n",
    "            fn_groups['isocyanate'],\n",
    "            fn_groups['hydroxyl'],\n",
    "        ),\n",
    "        bond_derangement={\n",
    "            7 : (5, 3),\n",
    "            2 : (3, 5)\n",
    "        }\n",
    "    ),\n",
    "    'polyurethane_nonisocyanate' : ReactionAssembler(\n",
    "        reactive_groups=(\n",
    "            fn_groups['cyclocarbonate'],\n",
    "            fn_groups['amine'],\n",
    "        ),\n",
    "        bond_derangement= {\n",
    "            5  : (4, 13),\n",
    "            11 : (13, 4)\n",
    "        }\n",
    "    ),\n",
    "    'polyvinyl_head_tail' : ReactionAssembler(\n",
    "        reactive_groups=(\n",
    "            fn_groups['terminal_alkene'],\n",
    "            fn_groups['vinyl'],\n",
    "        ),\n",
    "        bond_derangement= {\n",
    "            4  : (2, 8),\n",
    "            12 : (8, 2)\n",
    "        }\n",
    "    ),\n",
    "}"
   ]
  },
  {
   "cell_type": "code",
   "execution_count": null,
   "metadata": {},
   "outputs": [],
   "source": [
    "# display mechanism schemata prior to generating reactions (allows for inspection of derangement IDs)\n",
    "for mech_name, mech_schema in mechanisms.items():\n",
    "    print(mech_name, mech_schema.bond_derangement)\n",
    "    display(mech_schema.reactants)"
   ]
  },
  {
   "cell_type": "markdown",
   "metadata": {},
   "source": [
    "## Generating rxn MDL templates and SMARTS equations and saving to file"
   ]
  },
  {
   "cell_type": "code",
   "execution_count": null,
   "metadata": {},
   "outputs": [],
   "source": [
    "rxns : dict[str, reactions.AnnotatedReaction] = {} \n",
    "rxn_smarts : dict[str, str] = {} \n",
    "rxn_groups = defaultdict(list)\n",
    "\n",
    "for mech_name, mech_schema in mechanisms.items():\n",
    "    # assemble reaction\n",
    "    print(mech_name)\n",
    "    rxn = mech_schema.assemble_rxn(show_steps=False)\n",
    "    display(rxn)\n",
    "\n",
    "    # add functional group names to reactants (can't be done prior due to CombineMols() calls)\n",
    "    for template in rxn.GetReactants():\n",
    "        for group_name, fn_group in fn_groups.items():\n",
    "            if template.HasSubstructMatch(fn_group):\n",
    "                template.SetProp('_Name', group_name)\n",
    "                rxn_groups[mech_name].append(group_name)\n",
    "                print(f'\\tReactant match with {group_name}')\n",
    "\n",
    "    rxns[mech_name] = rxn\n",
    "    rxn_smarts[mech_name] = rdChemReactions.ReactionToSmarts(rxn)"
   ]
  },
  {
   "cell_type": "code",
   "execution_count": null,
   "metadata": {},
   "outputs": [],
   "source": [
    "with (RXN_FILES_PATH / 'rxn_smarts.json').open('w') as file:\n",
    "    json.dump(rxn_smarts, file, indent=4)\n",
    "\n",
    "with (RXN_FILES_PATH / 'rxn_groups.json').open('w') as file:\n",
    "    json.dump(rxn_groups, file, indent=4)\n",
    "\n",
    "for chemistry, rxn in rxns.items():\n",
    "    rxn.to_rxnfile(RXN_FILES_PATH / f'{chemistry}.rxn', rxnname=chemistry)"
   ]
  },
  {
   "cell_type": "markdown",
   "metadata": {},
   "source": [
    "# Testing that reaction actually behave as intended"
   ]
  },
  {
   "cell_type": "code",
   "execution_count": null,
   "metadata": {},
   "outputs": [],
   "source": [
    "test_reactants = {\n",
    "    'polyvinyl_head_tail' : ('C=C(CF)', 'C=C(CF)'),\n",
    "    'polycarbonate_phosgene' : ('OCCO', 'ClC(=O)Cl'), \n",
    "    'polycarbonate_nonphosgene' : ('CC(C)(c1ccc(cc1)O)c2ccc(cc2)O', 'O=C(Oc1ccccc1)Oc2ccccc2'), \n",
    "}"
   ]
  },
  {
   "cell_type": "code",
   "execution_count": null,
   "metadata": {},
   "outputs": [],
   "source": [
    "targ_rxn = 'polycarbonate_nonphosgene'\n",
    "\n",
    "reactants = []        \n",
    "for sm in test_reactants[targ_rxn]:\n",
    "    exp_smiles = specification.expanded_SMILES(sm, assign_map_nums=False)\n",
    "    reactant = Chem.MolFromSmiles(exp_smiles, sanitize=False)\n",
    "    display(reactant)\n",
    "    reactants.append(reactant)"
   ]
  },
  {
   "cell_type": "code",
   "execution_count": null,
   "metadata": {},
   "outputs": [],
   "source": [
    "rxn = reactions.AnnotatedReaction.from_rxnfile(RXN_FILES_PATH / f'{targ_rxn}.rxn')\n",
    "rxn.Initialize()\n",
    "num_warnings, num_errors = rxn.Validate()\n",
    "\n",
    "print(num_warnings, num_errors)\n",
    "display(rxn)"
   ]
  },
  {
   "cell_type": "code",
   "execution_count": null,
   "metadata": {},
   "outputs": [],
   "source": [
    "from polymerist.rdutils.reactions import reactors\n",
    "\n",
    "reactor = reactors.PolymerizationReactor(rxn)\n",
    "for dimer, frags in reactor.propagate(reactants):\n",
    "    display(dimer)\n",
    "    for frag in frags:\n",
    "        display(frag)\n",
    "    print('='*50)"
   ]
  },
  {
   "cell_type": "markdown",
   "metadata": {},
   "source": [
    "# Playing with Stereo"
   ]
  },
  {
   "cell_type": "code",
   "execution_count": null,
   "metadata": {},
   "outputs": [],
   "source": [
    "mech = mechanisms['polyvinyl_head_tail']\n",
    "product = mech.products_by_importance()[0]\n",
    "product"
   ]
  },
  {
   "cell_type": "code",
   "execution_count": null,
   "metadata": {},
   "outputs": [],
   "source": [
    "print(Chem.StereoType.names)\n",
    "print(Chem.ChiralType.names)\n",
    "print(Chem.BondStereo.names)\n",
    "print(Chem.BondDir.names)"
   ]
  },
  {
   "cell_type": "code",
   "execution_count": null,
   "metadata": {},
   "outputs": [],
   "source": [
    "for atom in product.GetAtoms():\n",
    "    print(atom.GetAtomMapNum(), atom.GetChiralTag())"
   ]
  },
  {
   "cell_type": "code",
   "execution_count": null,
   "metadata": {},
   "outputs": [],
   "source": [
    "from rdkit.Chem.rdchem import StereoType, ChiralType, BondStereo, BondDir\n",
    "from polymerist.rdutils.labeling import molwise\n",
    "\n",
    "for stereo_info in Chem.FindPotentialStereo(product):\n",
    "    print(f'  Type: {stereo_info.type}, Which: {stereo_info.centeredOn}, Specified: {stereo_info.specified}, Descriptor: {stereo_info.descriptor} ')\n",
    "    print(stereo_info.centeredOn, next(molwise.map_nums_by_atom_ids(product, stereo_info.centeredOn)))"
   ]
  },
  {
   "cell_type": "code",
   "execution_count": null,
   "metadata": {},
   "outputs": [],
   "source": [
    "from rdkit.Chem.EnumerateStereoisomers import EnumerateStereoisomers, StereoEnumerationOptions\n",
    "from rdkit.Chem.AllChem import EmbedMolecule\n",
    "\n",
    "options = StereoEnumerationOptions(\n",
    "    onlyUnassigned=False\n",
    ")\n",
    "\n",
    "Chem.AssignStereochemistry(product, flagPossibleStereoCenters=True)\n",
    "Chem.FindPotentialStereoBonds(product)\n",
    "\n",
    "for isomer in EnumerateStereoisomers(product):\n",
    "    display(isomer)\n",
    "    print(Chem.MolToSmiles(isomer, isomericSmiles=True))"
   ]
  },
  {
   "cell_type": "code",
   "execution_count": null,
   "metadata": {},
   "outputs": [],
   "source": [
    "import pubchempy as pcp\n",
    "\n",
    "\n",
    "smiles = ('CC(=O)', 'c1ccccc1C=O')\n",
    "\n",
    "mols = {}\n",
    "for smi in smiles:\n",
    "    pcquery = pcp.get_compounds(smi, namespace='smiles')\n",
    "    pccomp = pcquery.pop()\n",
    "    iupac_name = getattr(pccomp, 'iupac_name')\n",
    "\n",
    "    mol = Chem.MolFromSmiles(smi)\n",
    "    mol.SetProp('_Name', iupac_name)\n",
    "    Chem.MolToMolFile(mol, f'{iupac_name}.mol')\n",
    "\n",
    "    mols[iupac_name] = mol\n",
    "\n",
    "\n",
    "mols"
   ]
  },
  {
   "cell_type": "markdown",
   "metadata": {},
   "source": [
    "# Reverse-engineering example reactions from RDKit"
   ]
  },
  {
   "cell_type": "code",
   "execution_count": null,
   "metadata": {},
   "outputs": [],
   "source": [
    "# rxn = rdChemReactions.ReactionFromRxnFile('test.rxn')\n",
    "rxn = rdChemReactions.ReactionFromRxnFile('azide.rxn')\n",
    "nWarn,nError,nReacts,nProds,reactantLabels = rdChemReactions.PreprocessReaction(rxn)\n",
    "print(reactantLabels)\n",
    "display(rxn)"
   ]
  },
  {
   "cell_type": "code",
   "execution_count": null,
   "metadata": {},
   "outputs": [],
   "source": [
    "from polymerist.rdutils import rdprops\n",
    "\n",
    "r1 = rxn.GetReactantTemplate(1)\n",
    "print(Chem.MolToSmarts(r1))\n",
    "display(r1)\n",
    "\n",
    "\n",
    "rdprops.aggregate_atom_prop(r1, 'molFileValue', prop_type=str)"
   ]
  },
  {
   "cell_type": "code",
   "execution_count": null,
   "metadata": {},
   "outputs": [],
   "source": []
  }
 ],
 "metadata": {
  "kernelspec": {
   "display_name": "openff-dev-updated",
   "language": "python",
   "name": "python3"
  },
  "language_info": {
   "codemirror_mode": {
    "name": "ipython",
    "version": 3
   },
   "file_extension": ".py",
   "mimetype": "text/x-python",
   "name": "python",
   "nbconvert_exporter": "python",
   "pygments_lexer": "ipython3",
   "version": "3.11.5"
  },
  "orig_nbformat": 4
 },
 "nbformat": 4,
 "nbformat_minor": 2
}
