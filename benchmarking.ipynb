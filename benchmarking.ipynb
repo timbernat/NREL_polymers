{
 "cells": [
  {
   "cell_type": "code",
   "execution_count": 1,
   "metadata": {},
   "outputs": [],
   "source": [
    "import cProfile\n",
    "import json\n",
    "\n",
    "from pathlib import Path\n",
    "import pandas as pd"
   ]
  },
  {
   "cell_type": "markdown",
   "metadata": {},
   "source": [
    "# Loading polymer and profiling data"
   ]
  },
  {
   "cell_type": "code",
   "execution_count": 2,
   "metadata": {},
   "outputs": [],
   "source": [
    "import pstats\n",
    "# from openff.interchange.interop.internal import lammps\n",
    "\n",
    "\n",
    "MOL_MASTER_DIR = Path('polymer_benchmark_fastlmp')\n",
    "TAGS = (\n",
    "    'mechanism',\n",
    "    'polymer_name',\n",
    "    'oligomer_size',\n",
    "    'lattice_size',\n",
    "    'MD_platform'\n",
    ")\n",
    "time_attr = 'cumtime'\n",
    "\n",
    "records = []\n",
    "for path in MOL_MASTER_DIR.glob('**/*.txt'):\n",
    "    mol_dir = path.parents[1]\n",
    "    mol_info = {\n",
    "        tag : value\n",
    "            for tag, value in zip(TAGS, path.relative_to(MOL_MASTER_DIR).parts)\n",
    "    }\n",
    "    mol_info['profile_path'] = path\n",
    "\n",
    "    stats = pstats.Stats(str(path))\n",
    "    stats = stats.sort_stats(pstats.SortKey.CUMULATIVE)\n",
    "    stat_prof = stats.get_stats_profile()\n",
    "\n",
    "    lmp_writer_times = {\n",
    "        fn_name : getattr(fn_profile, time_attr)\n",
    "            for fn_name, fn_profile in stat_prof.func_profiles.items()\n",
    "                if ('_write' in fn_name) or ('_process' in fn_name)# and (fn_profile.file_name == lammps.__file__)\n",
    "    }\n",
    "    mol_info.update(lmp_writer_times)\n",
    "    \n",
    "    record_path = mol_dir / f'{mol_info[\"lattice_size\"]}_{mol_info[\"oligomer_size\"]}_{mol_info[\"polymer_name\"]}_RECORD.json'\n",
    "    if record_path.exists:\n",
    "        with record_path.open('r') as record_file:\n",
    "            mol_info.update(json.load(record_file))\n",
    "\n",
    "    records.append(mol_info)\n",
    "\n",
    "pframe = pd.DataFrame.from_records(records)\n",
    "pframe.set_index(['mechanism', 'polymer_name'], inplace=True)\n",
    "# for str_path_col in ('profile_path', 'topology_path', 'interchange_path', 'directory'):\n",
    "#     pframe[str_path_col] = pframe[str_path_col].map(Path) # de-stringify file Paths\n",
    "\n",
    "print(len(pframe))\n",
    "pframe"
   ]
  },
  {
   "cell_type": "markdown",
   "metadata": {},
   "source": [
    "## Plot runtimes for various Interchange MD write components"
   ]
  },
  {
   "cell_type": "code",
   "execution_count": null,
   "metadata": {},
   "outputs": [],
   "source": [
    "import matplotlib.pyplot as plt\n",
    "from collections import defaultdict\n",
    "\n",
    "dim = 6\n",
    "n = pframe['n_atoms_in_topology']\n",
    "benchdir = Path('benchmark_data')\n",
    "benchdir.mkdir(exist_ok=True)\n",
    "\n",
    "lmp_writer_names = []\n",
    "lmp_writer_names_no_propers = []\n",
    "lmp_writer_names_coeffs = []\n",
    "\n",
    "lmp_str = 'LAMMPS_quickerlammps'\n",
    "omm_str = 'OpenMM'\n",
    "fn_dict = defaultdict(lambda : defaultdict(list))\n",
    "for colname in pframe.columns:\n",
    "    if '_write' in colname:\n",
    "        fn_dict[lmp_str]['all writers'].append(colname)\n",
    "        if 'propers' not in colname:\n",
    "            fn_dict[lmp_str]['without propers'].append(colname)\n",
    "        if 'coeffs' in colname:\n",
    "            fn_dict[lmp_str]['coeffs only'].append(colname)\n",
    "\n",
    "    if '_process' in colname:\n",
    "        fn_dict[omm_str]['all writers'].append(colname)\n",
    "        if ('proper' not in colname) and ('nonbonded' not in colname):\n",
    "            fn_dict[omm_str]['without propers+nonbondeds'].append(colname)\n",
    "        if 'forces' not in colname:\n",
    "            fn_dict[omm_str]['no forces'].append(colname)\n",
    "\n",
    "for platform, fn_name_map in fn_dict.items():\n",
    "    for header, fn_names in fn_name_map.items():\n",
    "        fig, ax = plt.subplots(1, figsize=(dim, dim))\n",
    "        for colname in fn_names:\n",
    "            ax.scatter(n, pframe[colname], label=' ' + colname, marker='o')\n",
    "                    \n",
    "        ax.set_xlabel('n_atoms_in_topology')\n",
    "        ax.set_ylabel('Cumulative time (sec)')\n",
    "        ax.set_title(f'Profile times ({platform}, {header})')\n",
    "\n",
    "        leg = ax.legend(loc='best')\n",
    "        fig.savefig(benchdir / f'Cumultimes_{platform}_{header.replace(\" \", \"_\")}.png')"
   ]
  },
  {
   "cell_type": "markdown",
   "metadata": {},
   "source": [
    "# Honing in on _write_propers hangups"
   ]
  },
  {
   "cell_type": "code",
   "execution_count": null,
   "metadata": {},
   "outputs": [],
   "source": [
    "l = 3\n",
    "# plat = 'OpenMM'\n",
    "plat = 'LAMMPS'\n",
    "spec = pframe[(pframe['lattice_size'] == f'{l}x{l}x{l}') & (pframe['MD_platform'] == plat)]"
   ]
  },
  {
   "cell_type": "code",
   "execution_count": null,
   "metadata": {},
   "outputs": [],
   "source": [
    "row = spec.iloc[1]\n",
    "stats = pstats.Stats(str(row.profile_path))\n",
    "stats = stats.sort_stats(pstats.SortKey.CUMULATIVE)\n",
    "stat_prof = stats.get_stats_profile()\n",
    "\n",
    "omm_frame = pd.DataFrame.from_dict(\n",
    "    {\n",
    "        # fn_name : getattr(fn_profile, time_attr)\n",
    "        fn_name : fn_profile.__dict__\n",
    "            for fn_name, fn_profile in stat_prof.func_profiles.items()\n",
    "                # if '_write' in fn_name\n",
    "                # if '_process' in fn_name\n",
    "    },\n",
    "    orient='index'\n",
    ")\n",
    "omm_frame.to_csv(f'LAMMPS_profile_{spec.index[1][0]}_{row.n_atoms_in_topology}_atoms.csv')"
   ]
  },
  {
   "cell_type": "code",
   "execution_count": null,
   "metadata": {},
   "outputs": [],
   "source": [
    "omm_frame"
   ]
  },
  {
   "cell_type": "code",
   "execution_count": null,
   "metadata": {},
   "outputs": [],
   "source": [
    "stats.print_stats()"
   ]
  },
  {
   "cell_type": "code",
   "execution_count": null,
   "metadata": {},
   "outputs": [],
   "source": [
    "stat_prof.func_profiles"
   ]
  },
  {
   "cell_type": "code",
   "execution_count": null,
   "metadata": {},
   "outputs": [],
   "source": [
    "import pickle\n",
    "from openff.interchange.interop.internal import lammps\n",
    "\n",
    "row = spec.iloc[-1]\n",
    "with Path(row.interchange_path).open('rb') as file:\n",
    "    interchange = pickle.load(file)\n",
    "\n",
    "outpath = Path('dummy.lmp')\n",
    "profiler = cProfile.Profile()\n",
    "with outpath.open('w') as outfile:\n",
    "    ret = profiler.runcall(lammps._write_propers, outfile, interchange)\n",
    "\n",
    "profiler.print_stats(pstats.SortKey.CUMULATIVE)"
   ]
  },
  {
   "cell_type": "markdown",
   "metadata": {},
   "source": [
    "# Plotting Interchange output times for various MD platforms"
   ]
  },
  {
   "cell_type": "code",
   "execution_count": null,
   "metadata": {},
   "outputs": [],
   "source": [
    "import matplotlib.pyplot as plt\n",
    "from mpl_toolkits.axes_grid1.inset_locator import inset_axes\n",
    "\n",
    "dim = 8\n",
    "fig, ax = plt.subplots(figsize=(dim, dim))\n",
    "inset_ax = inset_axes(ax, width='30%', height='30%', loc='upper left', bbox_to_anchor=(0.1,0.15,0.8,0.8), bbox_transform=ax.transAxes)\n",
    "\n",
    "ax.scatter(pframe['n_atoms_in_topology'], pframe['lammps_time'], color='r', marker='o', label='to_lammps')\n",
    "ax.scatter(pframe['n_atoms_in_topology'], pframe['openmm_time'], color='b', marker='o', label='to_openmm')\n",
    "ax.set_xlabel('# atoms in topology')\n",
    "ax.set_ylabel('Interchange output time (sec)')\n",
    "\n",
    "small = pframe[pframe['lattice_size'] == '1x1x1']\n",
    "inset_ax.set_title('single oligomers')\n",
    "inset_ax.scatter(small['n_atoms_in_topology'], small['lammps_time'], color='r', marker='.', label='to_lammps')\n",
    "inset_ax.scatter(small['n_atoms_in_topology'], small['openmm_time'], color='b', marker='.', label='to_openmm')\n",
    "inset_ax.set_xlabel('# atoms')\n",
    "inset_ax.set_ylabel('time (sec)')\n",
    "ax.legend(loc='upper center')\n",
    "\n",
    "fig.savefig('interchange_MD_benchmark.png')"
   ]
  },
  {
   "cell_type": "code",
   "execution_count": null,
   "metadata": {},
   "outputs": [],
   "source": []
  },
  {
   "cell_type": "markdown",
   "metadata": {},
   "source": [
    "### Selecting smallest, most average, and largest oligomers as benchmarking points ONLY DO THIS WITH POLYMER_UPDATE!!"
   ]
  },
  {
   "cell_type": "code",
   "execution_count": null,
   "metadata": {},
   "outputs": [],
   "source": [
    "def output_olig_samples() -> None:\n",
    "    olig_by_size = groups.get_group('1x1x1').sort_values('n_atoms_in_topology')\n",
    "    sizes = olig_by_size['n_atoms_in_topology'].to_numpy()\n",
    "\n",
    "    edges = [0, -1]\n",
    "    size_tol : int = 1\n",
    "\n",
    "    avg_size = round(sizes.mean())\n",
    "    avg_idx_candidates = ((np.abs(olig_by_size['n_atoms_in_topology'] - avg_size) <= size_tol)                # midpoint oligomer should be within a tolerance of the true average size...\n",
    "        & (~olig_by_size.index.get_level_values(0).isin(olig_by_size.iloc[edges].index.get_level_values(0)))) # ...and not belong to the sae chemical classes as the endpoints\n",
    "    midpt_idx = avg_idx_candidates.argmax()\n",
    "    edges.insert(1, midpt_idx)\n",
    "    print(edges)\n",
    "\n",
    "    subsampled_oligs = olig_by_size.iloc[edges]\n",
    "    subsampled_oligs.to_csv('oligomers_for_benchmark.csv')\n",
    "\n",
    "output_olig_samples()"
   ]
  }
 ],
 "metadata": {
  "kernelspec": {
   "display_name": "polymerist-dev-env",
   "language": "python",
   "name": "python3"
  },
  "language_info": {
   "codemirror_mode": {
    "name": "ipython",
    "version": 3
   },
   "file_extension": ".py",
   "mimetype": "text/x-python",
   "name": "python",
   "nbconvert_exporter": "python",
   "pygments_lexer": "ipython3",
   "version": "3.11.0"
  }
 },
 "nbformat": 4,
 "nbformat_minor": 2
}
