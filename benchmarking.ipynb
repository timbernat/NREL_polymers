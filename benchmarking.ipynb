{
 "cells": [
  {
   "cell_type": "code",
   "execution_count": 1,
   "metadata": {},
   "outputs": [],
   "source": [
    "import cProfile\n",
    "import json\n",
    "\n",
    "from pathlib import Path\n",
    "import pandas as pd"
   ]
  },
  {
   "cell_type": "code",
   "execution_count": 2,
   "metadata": {},
   "outputs": [],
   "source": [
    "from openff.interchange.interop.internal import lammps"
   ]
  },
  {
   "cell_type": "markdown",
   "metadata": {},
   "source": [
    "# Loading polymer and profiling data"
   ]
  },
  {
   "cell_type": "code",
   "execution_count": null,
   "metadata": {},
   "outputs": [],
   "source": [
    "import pstats\n",
    "# from openff.interchange.interop.internal import lammps\n",
    "\n",
    "\n",
    "TAGS = (\n",
    "    'mechanism',\n",
    "    'polymer_name',\n",
    "    'oligomer_size',\n",
    "    'lattice_size',\n",
    "    'MD_platform'\n",
    ")\n",
    "time_attr = 'cumtime'\n",
    "\n",
    "p = Path('polymer_benchmark')\n",
    "records = []\n",
    "for path in p.glob('**/*.txt'):\n",
    "    mol_dir = path.parents[1]\n",
    "    mol_info = {\n",
    "        tag : value\n",
    "            for tag, value in zip(TAGS, path.relative_to(p).parts)\n",
    "    }\n",
    "\n",
    "    stats = pstats.Stats(str(path))\n",
    "    stats = stats.sort_stats(pstats.SortKey.CUMULATIVE)\n",
    "    stat_prof = stats.get_stats_profile()\n",
    "\n",
    "    lmp_writer_times = {\n",
    "        fn_name : getattr(fn_profile, time_attr)\n",
    "            for fn_name, fn_profile in stat_prof.func_profiles.items()\n",
    "                if ('_write' in fn_name)# and (fn_profile.file_name == lammps.__file__)\n",
    "    }\n",
    "    mol_info.update(lmp_writer_times)\n",
    "    \n",
    "    record_path = mol_dir / f'{mol_info[\"lattice_size\"]}_{mol_info[\"oligomer_size\"]}_{mol_info[\"polymer_name\"]}_RECORD.json'\n",
    "    if record_path.exists:\n",
    "        with record_path.open('r') as record_file:\n",
    "            mol_info.update(json.load(record_file))\n",
    "\n",
    "    records.append(mol_info)\n",
    "\n",
    "pframe = pd.DataFrame.from_records(records)\n",
    "pframe.set_index(['mechanism', 'polymer_name'], inplace=True)\n",
    "# for str_path_col in ('profile_path', 'topology_path', 'interchange_path', 'directory'):\n",
    "#     pframe[str_path_col] = pframe[str_path_col].map(Path) # de-stringify file Paths\n",
    "\n",
    "print(len(pframe))\n",
    "pframe"
   ]
  },
  {
   "cell_type": "code",
   "execution_count": null,
   "metadata": {},
   "outputs": [],
   "source": [
    "import matplotlib.pyplot as plt\n",
    "from collections import defaultdict\n",
    "\n",
    "dim = 6\n",
    "n = pframe['n_atoms_in_topology']\n",
    "\n",
    "lmp_writer_names = []\n",
    "lmp_writer_names_no_propers = []\n",
    "lmp_writer_names_coeffs = []\n",
    "\n",
    "lmp_fn_dict = defaultdict(list)\n",
    "for colname in pframe.columns:\n",
    "    if '_write' in colname:\n",
    "        lmp_fn_dict['all writers'].append(colname)\n",
    "        if 'propers' not in colname:\n",
    "            lmp_fn_dict['without propers'].append(colname)\n",
    "        if 'coeffs' in colname:\n",
    "            lmp_fn_dict['coeffs only'].append(colname)\n",
    "lmp_fn_dict = {\n",
    "    label + ' (fast LAMMPS)' : fn_names\n",
    "        for label, fn_names in lmp_fn_dict.items()\n",
    "}\n",
    "\n",
    "for header, fn_names in lmp_fn_dict.items():\n",
    "    fig, ax = plt.subplots(1, figsize=(dim, dim))\n",
    "    for colname in fn_names:\n",
    "        ax.scatter(n, pframe[colname], label=' ' + colname, marker='o')\n",
    "                \n",
    "    ax.set_xlabel('n_atoms_in_topology')\n",
    "    ax.set_ylabel('Cumulative time (sec)')\n",
    "    ax.set_title(f'Profile times ({header})')\n",
    "\n",
    "    leg = ax.legend(loc='best')\n",
    "    fig.savefig(f'Cumultimes_{header.replace(\" \", \"_\")}.png')"
   ]
  },
  {
   "cell_type": "markdown",
   "metadata": {},
   "source": [
    "# Honing in on _write_propesr hangups"
   ]
  },
  {
   "cell_type": "code",
   "execution_count": null,
   "metadata": {},
   "outputs": [],
   "source": [
    "l = 2\n",
    "spec = pframe[(pframe['lattice_size'] == f'{l}x{l}x{l}') & (pframe['MD_platform'] == 'LAMMPS')]"
   ]
  },
  {
   "cell_type": "code",
   "execution_count": null,
   "metadata": {},
   "outputs": [],
   "source": [
    "import pickle\n",
    "\n",
    "row = spec.iloc[-1]\n",
    "with Path(row.interchange_path).open('rb') as file:\n",
    "    interchange = pickle.load(file)\n",
    "\n",
    "outpath = Path('dummy.lmp')\n",
    "profiler = cProfile.Profile()\n",
    "with outpath.open('w') as outfile:\n",
    "    ret = profiler.runcall(lammps._write_propers, outfile, interchange)\n",
    "\n",
    "profiler.print_stats(pstats.SortKey.CUMULATIVE)"
   ]
  },
  {
   "cell_type": "markdown",
   "metadata": {},
   "source": [
    "# Plotting Interchange output times for various MD platforms"
   ]
  },
  {
   "cell_type": "code",
   "execution_count": null,
   "metadata": {},
   "outputs": [],
   "source": [
    "import matplotlib.pyplot as plt\n",
    "from mpl_toolkits.axes_grid1.inset_locator import inset_axes\n",
    "\n",
    "dim = 8\n",
    "fig, ax = plt.subplots(figsize=(dim, dim))\n",
    "inset_ax = inset_axes(ax, width='30%', height='30%', loc='upper left', bbox_to_anchor=(0.1,0.15,0.8,0.8), bbox_transform=ax.transAxes)\n",
    "\n",
    "ax.scatter(pframe['n_atoms_in_topology'], pframe['lammps_time'], color='r', marker='o', label='to_lammps')\n",
    "ax.scatter(pframe['n_atoms_in_topology'], pframe['openmm_time'], color='b', marker='o', label='to_openmm')\n",
    "ax.set_xlabel('# atoms in topology')\n",
    "ax.set_ylabel('Interchange output time (sec)')\n",
    "\n",
    "small = pframe[pframe['lattice_size'] == '1x1x1']\n",
    "inset_ax.set_title('single oligomers')\n",
    "inset_ax.scatter(small['n_atoms_in_topology'], small['lammps_time'], color='r', marker='.', label='to_lammps')\n",
    "inset_ax.scatter(small['n_atoms_in_topology'], small['openmm_time'], color='b', marker='.', label='to_openmm')\n",
    "inset_ax.set_xlabel('# atoms')\n",
    "inset_ax.set_ylabel('time (sec)')\n",
    "ax.legend(loc='upper center')\n",
    "\n",
    "fig.savefig('interchange_MD_benchmark.png')"
   ]
  },
  {
   "cell_type": "code",
   "execution_count": null,
   "metadata": {},
   "outputs": [],
   "source": []
  }
 ],
 "metadata": {
  "kernelspec": {
   "display_name": "polymerist-dev-env",
   "language": "python",
   "name": "python3"
  },
  "language_info": {
   "codemirror_mode": {
    "name": "ipython",
    "version": 3
   },
   "file_extension": ".py",
   "mimetype": "text/x-python",
   "name": "python",
   "nbconvert_exporter": "python",
   "pygments_lexer": "ipython3",
   "version": "3.11.5"
  }
 },
 "nbformat": 4,
 "nbformat_minor": 2
}
