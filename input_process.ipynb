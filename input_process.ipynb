{
 "cells": [
  {
   "cell_type": "markdown",
   "metadata": {},
   "source": [
    "# Filtering expanded dataset"
   ]
  },
  {
   "cell_type": "markdown",
   "metadata": {},
   "source": [
    "## Core Imports"
   ]
  },
  {
   "cell_type": "code",
   "execution_count": 1,
   "metadata": {},
   "outputs": [
    {
     "data": {
      "application/vnd.jupyter.widget-view+json": {
       "model_id": "343a8d64113046c08d72481086bf7ccd",
       "version_major": 2,
       "version_minor": 0
      },
      "text/plain": []
     },
     "metadata": {},
     "output_type": "display_data"
    }
   ],
   "source": [
    "# Generic Imports\n",
    "import matplotlib.pyplot as plt\n",
    "import pandas as pd\n",
    "\n",
    "# File I/O\n",
    "from pathlib import Path\n",
    "import csv, json\n",
    "\n",
    "# Typing and Subclassing\n",
    "from typing import Iterable, Optional, Union\n",
    "from dataclasses import dataclass, field\n",
    "\n",
    "# Cheminformatics\n",
    "from rdkit import Chem\n",
    "\n",
    "# Custom imports\n",
    "from polymerist.rdutils import rdkdraw\n",
    "from polymerist.smileslib import substructures\n",
    "from polymerist.monomers import specification\n",
    "\n",
    "DIM    = 300\n",
    "ASPECT = 3/2\n",
    "rdkdraw.set_rdkdraw_size(DIM, ASPECT)\n",
    "rdkdraw.disable_substruct_highlights()\n",
    "\n",
    "# Static Paths\n",
    "RAW_DATA_DIR  = Path('monomer_data_raw')\n",
    "FMT_DATA_DIR  = Path('monomer_data_formatted')\n",
    "PROC_DATA_DIR = Path('monomer_data_processed')\n",
    "RXN_FILES_DIR = Path('poly_rxns')\n",
    "# RXN_FILES_DIR = Path('rxn_smarts')"
   ]
  },
  {
   "cell_type": "markdown",
   "metadata": {},
   "source": [
    "## Loading desired dataset"
   ]
  },
  {
   "cell_type": "code",
   "execution_count": 2,
   "metadata": {},
   "outputs": [],
   "source": [
    "input_data_path = FMT_DATA_DIR / 'nipu_urethanes_FMT.csv'\n",
    "# input_data_path = FMT_DATA_DIR / '20231114_polyid_data_density_DP2-6 - 1,2 monomers.csv'\n",
    "# input_data_path = FMT_DATA_DIR / '221010_trainingdata_DP-18_expanded_FMT.csv'\n",
    "df = pd.read_csv(input_data_path)"
   ]
  },
  {
   "cell_type": "markdown",
   "metadata": {},
   "source": [
    "## Defining queries for illegal chemistries"
   ]
  },
  {
   "cell_type": "code",
   "execution_count": 3,
   "metadata": {},
   "outputs": [],
   "source": [
    "illegal_chem_queries = {\n",
    "    'silicon' : Chem.MolFromSmarts('[Si]'),\n",
    "    'sulfur'  : Chem.MolFromSmarts('[S]'),\n",
    "    'metal'   : substructures.SPECIAL_QUERY_MOLS['metal'],\n",
    "    # 'halogen' : substructures.SPECIAL_QUERY_MOLS['halogen'],\n",
    "}"
   ]
  },
  {
   "cell_type": "markdown",
   "metadata": {},
   "source": [
    "## Loading and backmapping premade reaction functional groups and templates"
   ]
  },
  {
   "cell_type": "code",
   "execution_count": 4,
   "metadata": {},
   "outputs": [],
   "source": [
    "rxn_backmap = { # map NREL dataset mechanism names to pre-made rxn template names\n",
    "    'amide'     : 'polyamide',\n",
    "    'carbonate' : 'polycarbonate_phosgene',\n",
    "    'ester'     : 'polyester',\n",
    "    'imide'     : 'polyimide',\n",
    "    'urethane'  : 'polyurethane_isocyanate',\n",
    "    'NIPU'      : 'polyurethane_nonisocyanate',\n",
    "    'vinyl'     : 'polyvinyl_head_tail'\n",
    "}\n",
    "assert(set(df['mechanism'].unique()).issubset(set(rxn_backmap.keys()))) # verify that we've mapped all reactions\n",
    "\n",
    "with (RXN_FILES_DIR / 'rxn_backmap.json').open('w') as backmap_file:\n",
    "    json.dump(rxn_backmap, backmap_file, indent=4)"
   ]
  },
  {
   "cell_type": "code",
   "execution_count": 5,
   "metadata": {},
   "outputs": [],
   "source": [
    "from polymerist.rdutils.reactions import reactions\n",
    "\n",
    "with (RXN_FILES_DIR / 'fn_group_smarts.json').open('r') as file:\n",
    "    fn_group_smarts  = json.load(file)\n",
    "    \n",
    "fn_group_queries = { # RDKit Mols generated from SMARTS queries\n",
    "    group_name : Chem.MolFromSmarts(smarts)\n",
    "        for group_name, smarts in fn_group_smarts.items()\n",
    "}\n",
    "\n",
    "with (RXN_FILES_DIR / 'rxn_groups.json').open('r') as file: # load table of functional group for each reaction\n",
    "    rxn_groups = json.load(file)\n",
    "\n",
    "rxns = {\n",
    "    rxnname : reactions.AnnotatedReaction.from_rxnfile(RXN_FILES_DIR / f'{rxnname}.rxn')\n",
    "        for rxnname in rxn_groups.keys()\n",
    "}\n",
    "\n",
    "rxn_smarts_by_mech = {\n",
    "    mechanism : rxns[rxnname].to_smarts()\n",
    "        for mechanism, rxnname in rxn_backmap.items()\n",
    "}"
   ]
  },
  {
   "cell_type": "code",
   "execution_count": 6,
   "metadata": {},
   "outputs": [],
   "source": [
    "banned_monomers = [ # monomers which are, for one reason or another, disallowed\n",
    "    'CC(C)(C)c1cc(c(Oc2ccc(cc2)N(c3ccc(N)cc3)c4ccc(N)cc4)c(c1)C(C)(C)C)C(C)(C)C'  # the extraordinary number of symmetries of this amine (\"4-N-(4-aminophenyl)-4-N-[4-(2,4,6-tritert-butylphenoxy)phenyl]benzene-1,4-diamine\")... \n",
    "]                                                                                 # ...mean it takes impractically long to isomorphism match during the Topology partition step\n",
    "\n",
    "banned_monomer_queries = {}\n",
    "for smiles in banned_monomers:\n",
    "    exp_spi = specification.expanded_SMILES(smiles, assign_map_nums=False)\n",
    "    banned_monomer_queries[smiles] = Chem.MolFromSmiles(exp_spi, sanitize=False)"
   ]
  },
  {
   "cell_type": "markdown",
   "metadata": {},
   "source": [
    "## Utility functions"
   ]
  },
  {
   "cell_type": "code",
   "execution_count": 7,
   "metadata": {},
   "outputs": [],
   "source": [
    "from enum import Enum, auto\n",
    "\n",
    "@dataclass\n",
    "class MonomerInfo:\n",
    "    '''For encapsulating salient info about an individual monomer'''\n",
    "    smiles        : str\n",
    "    fn_group_name : str\n",
    "    IUPAC_name    : str\n",
    "\n",
    "@dataclass\n",
    "class MonomersInfo:\n",
    "    '''For encapsulating information about a collection of reacting monomers'''\n",
    "    reactant_smiles  : str\n",
    "    canonical_smiles : str\n",
    "    polymer_name     : str = field(default_factory=str)\n",
    "    iupac_names      : list[str] = field(default_factory=list)\n",
    "\n",
    "class FilterRejectionReason(Enum):\n",
    "    '''For capturing information about which filtering step a monomer didn't pass'''\n",
    "    BAD_NUM_MONOMERS      = auto()\n",
    "    ILLEGAL_ATOMS         = auto()\n",
    "    NO_RXN_TEMPLATE_MATCH = auto()\n",
    "    BAD_NUM_FN_GRPS       = auto()\n",
    "    BANNED_MONOMER        = auto()"
   ]
  },
  {
   "cell_type": "code",
   "execution_count": 8,
   "metadata": {},
   "outputs": [],
   "source": [
    "from polymerist.monomers import specification\n",
    "from polymerist.rdutils.bonding import combined_rdmol\n",
    "from polymerist.genutils.textual.encoding import hash_as_alphanum\n",
    "from polymerist.smileslib.chemdbqueries import get_property_from_smiles\n",
    "\n",
    "\n",
    "def process_monomer_input(monomer_smiles : str, rxn_smarts : str, allowed_functionalities : set[int]=None) -> Union[FilterRejectionReason, MonomersInfo]:\n",
    "    '''For screening and expanding SMILES input to the MD polymer building workflow'''\n",
    "    # set mutable defaults, initialize objects\n",
    "    canon_smi = Chem.CanonSmiles(monomer_smiles)\n",
    "    canon_smi_indiv = canon_smi.split('.')\n",
    "    if allowed_functionalities is None:\n",
    "        allowed_functionalities = {2}\n",
    "\n",
    "    indiv_smiles = monomer_smiles.split('.') # opting for direct string-based approach here rather than RDKit Mol fragmenting for speed, and to avoid clunky str -> Mol -> str conversion\n",
    "    rxn = reactions.AnnotatedReaction.from_smarts(rxn_smarts)\n",
    "\n",
    "    # 1) Determine number of distrinct monomers in passed SMILES string\n",
    "    if len(indiv_smiles) != rxn.GetNumReactantTemplates():\n",
    "        return FilterRejectionReason.BAD_NUM_MONOMERS\n",
    "    \n",
    "    # Generate expanded SMILES string and corresponding RDKit Mol for all monomers\n",
    "    monomers_by_exp_smiles : dict[str, Chem.Mol] = {}\n",
    "    exp_smiles_by_monomers : dict[Chem.Mol, str] = {} # reverse lookup to figure out the correct smiles given a molecule\n",
    "    indiv_monomers         : list[Chem.Mol] = []\n",
    "    \n",
    "    for smi in indiv_smiles: # wait to expand SMILES until after count filtering for speed\n",
    "        exp_smi = specification.expanded_SMILES(smi, assign_map_nums=False)\n",
    "        monomer = Chem.MolFromSmiles(exp_smi, sanitize=False)\n",
    "\n",
    "        # 2) Catch monomers with illegal atoms or, if none are present, generate expanded SMILES string and corresponding RDKit Mol for all monomers\n",
    "        if any(substructures.matching_labels_from_substruct_dict(monomer, illegal_chem_queries)): # if any illegal atoms are detected in the current monomer, return and exit\n",
    "            return FilterRejectionReason.ILLEGAL_ATOMS\n",
    "\n",
    "        # 3) Exclude any monomers which are structurally disallowed\n",
    "        if any(substructures.matching_labels_from_substruct_dict(monomer, banned_monomer_queries)): # if any illegal atoms are detected in the current monomer, return and exit\n",
    "            return FilterRejectionReason.BANNED_MONOMER\n",
    "        \n",
    "        indiv_monomers.append(monomer)\n",
    "        monomers_by_exp_smiles[exp_smi] = monomer\n",
    "        exp_smiles_by_monomers[monomer] = exp_smi\n",
    "\n",
    "    # 4) Determine if monomer functionalizations match the advertised rxn, and if so in what order they should appear\n",
    "    ordered_monomers = rxn.valid_reactant_ordering(indiv_monomers)\n",
    "    if ordered_monomers is None:\n",
    "        return FilterRejectionReason.NO_RXN_TEMPLATE_MATCH\n",
    "\n",
    "    # produce monomers based on a valid ordering if one is found\n",
    "    reactant_smis : list[str] = []\n",
    "    iupac_names     : list[str] = []\n",
    "\n",
    "    for i, monomer in enumerate(ordered_monomers):\n",
    "        # 5) Determine if all monomers are only have the desired functionalization numbers \n",
    "        react_templ = rxn.GetReactantTemplate(i)\n",
    "        if substructures.num_substruct_queries_distinct(monomer, react_templ) not in allowed_functionalities:\n",
    "            return FilterRejectionReason.BAD_NUM_FN_GRPS\n",
    "        \n",
    "        smiles = exp_smiles_by_monomers[monomer]\n",
    "        reactant_smis.append(smiles)\n",
    "\n",
    "        # Query IUPAC names for each monomer - NOTE: not done in the monomer expansion loop as the name query is the slowest step and should preferably alled as few times as possible\n",
    "        iupac_name = get_property_from_smiles(smiles, prop_name='iupac_name') # returns NoneType if no query is found\n",
    "        if iupac_name is None:\n",
    "            iupac_name = hash_as_alphanum(canon_smi_indiv[i]) # if no name can be queried, generate hash of name for individual canonicalized SMILES as stand-in \n",
    "        iupac_names.append(iupac_name)\n",
    "\n",
    "    # if a monomer has gotten here, that means it's passed!\n",
    "    return MonomersInfo(\n",
    "        reactant_smiles='.'.join(reactant_smis),\n",
    "        canonical_smiles=canon_smi,\n",
    "        polymer_name=hash_as_alphanum(canon_smi),  # Produce unique identifier hash from canonical (incomplete) SMILES of monomers as fragments of single mol\n",
    "        iupac_names=iupac_names\n",
    "    )"
   ]
  },
  {
   "cell_type": "markdown",
   "metadata": {},
   "source": [
    "# Filter dataset"
   ]
  },
  {
   "cell_type": "markdown",
   "metadata": {},
   "source": [
    "## Generate filtered Series (either error codes or MonomerInfo) from initial dataset"
   ]
  },
  {
   "cell_type": "code",
   "execution_count": 9,
   "metadata": {},
   "outputs": [
    {
     "data": {
      "application/vnd.jupyter.widget-view+json": {
       "model_id": "3b9231a53cb242f99505c1c52daa3c25",
       "version_major": 2,
       "version_minor": 0
      },
      "text/plain": [
       "Output()"
      ]
     },
     "metadata": {},
     "output_type": "display_data"
    },
    {
     "data": {
      "text/html": [
       "<pre style=\"white-space:pre;overflow-x:auto;line-height:normal;font-family:Menlo,'DejaVu Sans Mono',consolas,'Courier New',monospace\"></pre>\n"
      ],
      "text/plain": []
     },
     "metadata": {},
     "output_type": "display_data"
    },
    {
     "data": {
      "text/html": [
       "<pre style=\"white-space:pre;overflow-x:auto;line-height:normal;font-family:Menlo,'DejaVu Sans Mono',consolas,'Courier New',monospace\">\n",
       "</pre>\n"
      ],
      "text/plain": [
       "\n"
      ]
     },
     "metadata": {},
     "output_type": "display_data"
    }
   ],
   "source": [
    "from rich.progress import track\n",
    "\n",
    "targ_df = df\n",
    "# targ_df = df.head(20)\n",
    "# targ_df = df[df.mechanism == 'vinyl']\n",
    "\n",
    "proc_output = []\n",
    "for (i, row) in track(targ_df.iterrows(), total=len(targ_df), description='Processing SMILES dataset...'):\n",
    "    proc = process_monomer_input(row.smiles_monomer, rxn_smarts_by_mech[row.mechanism])\n",
    "    proc_output.append(proc)\n",
    "\n",
    "proc_output = pd.Series(proc_output) # convert from list to Series, partition by failure state - NOTE: done in pandas to givee access to indices of passed monomers in original frame\n",
    "rejected = proc_output.map(lambda out : isinstance(out, FilterRejectionReason))\n",
    "is_valid = ~rejected"
   ]
  },
  {
   "cell_type": "markdown",
   "metadata": {},
   "source": [
    "## Expand successful monomers into labelled DataFrame"
   ]
  },
  {
   "cell_type": "code",
   "execution_count": 10,
   "metadata": {},
   "outputs": [
    {
     "data": {
      "text/html": [
       "<div>\n",
       "<style scoped>\n",
       "    .dataframe tbody tr th:only-of-type {\n",
       "        vertical-align: middle;\n",
       "    }\n",
       "\n",
       "    .dataframe tbody tr th {\n",
       "        vertical-align: top;\n",
       "    }\n",
       "\n",
       "    .dataframe thead th {\n",
       "        text-align: right;\n",
       "    }\n",
       "</style>\n",
       "<table border=\"1\" class=\"dataframe\">\n",
       "  <thead>\n",
       "    <tr style=\"text-align: right;\">\n",
       "      <th></th>\n",
       "      <th></th>\n",
       "      <th>reactant_smiles</th>\n",
       "      <th>canonical_smiles</th>\n",
       "      <th>iupac_names</th>\n",
       "      <th>reaction_smarts</th>\n",
       "      <th>mechanism_original</th>\n",
       "      <th>smiles_monomer</th>\n",
       "    </tr>\n",
       "    <tr>\n",
       "      <th>mechanism</th>\n",
       "      <th>polymer_name</th>\n",
       "      <th></th>\n",
       "      <th></th>\n",
       "      <th></th>\n",
       "      <th></th>\n",
       "      <th></th>\n",
       "      <th></th>\n",
       "    </tr>\n",
       "  </thead>\n",
       "  <tbody>\n",
       "    <tr>\n",
       "      <th rowspan=\"5\" valign=\"top\">polyurethane_nonisocyanate</th>\n",
       "      <th>vl-PLN0bPA2tzuKT3JB7YQ</th>\n",
       "      <td>[H]-[C](-[H])(-[H])-[C](-[H])(-[H])-[C](-[H])(...</td>\n",
       "      <td>CCCCCCCC1C(CCCCC)CCC(CCCCCCCCC(=O)OCC2COC(=O)O...</td>\n",
       "      <td>[v35HIbEmMbbN8eIfDhdNzw, butane-1,4-diamine]</td>\n",
       "      <td>[*:1]-[#6:2]1(-[#1:3])-[#8:4]-[#6:5](=[#8:6])-...</td>\n",
       "      <td>NIPU</td>\n",
       "      <td>NCCCCN.CCCCCCCC1C(CCCCC)CCC(CCCCCCCCC(=O)OCC2C...</td>\n",
       "    </tr>\n",
       "    <tr>\n",
       "      <th>sKEMIdfcMiFe18aNI2Z-ww</th>\n",
       "      <td>[H]-[C](-[H])(-[H])-[C](-[H])(-[H])-[C](-[H])(...</td>\n",
       "      <td>CCCCCCCC1C(CCCCC)CCC(CCCCCCCCC(=O)OCC2COC(=O)O...</td>\n",
       "      <td>[v35HIbEmMbbN8eIfDhdNzw, N-(3-aminopropyl)prop...</td>\n",
       "      <td>[*:1]-[#6:2]1(-[#1:3])-[#8:4]-[#6:5](=[#8:6])-...</td>\n",
       "      <td>NIPU</td>\n",
       "      <td>NCCCNCCCN.CCCCCCCC1C(CCCCC)CCC(CCCCCCCCC(=O)OC...</td>\n",
       "    </tr>\n",
       "    <tr>\n",
       "      <th>NIbNm49MnycXz0lh7f4HtQ</th>\n",
       "      <td>[H]-[C](-[H])(-[O]-[C](-[H])(-[H])-[C]1(-[H])-...</td>\n",
       "      <td>CCCCCCNC(=O)C(O)(CC(=O)NCCCCCCN)CC(=O)NCCCCCCN...</td>\n",
       "      <td>[4-[6-[(2-oxo-1,3-dioxolan-4-yl)methoxy]hexoxy...</td>\n",
       "      <td>[*:1]-[#6:2]1(-[#1:3])-[#8:4]-[#6:5](=[#8:6])-...</td>\n",
       "      <td>NIPU</td>\n",
       "      <td>O=C1OCC(COCCCCCCOCC2COC(=O)O2)O1.CCCCCCNC(=O)C...</td>\n",
       "    </tr>\n",
       "    <tr>\n",
       "      <th>zf53ra19MfoVs1yNmHleqg</th>\n",
       "      <td>[H]-[C](-[H])(-[O]-[C](-[H])(-[H])-[C]1(-[H])-...</td>\n",
       "      <td>CCCCCCCC1C(CCCCC)CCC(CCCCCCCCC(=O)NCCCCNC(=O)C...</td>\n",
       "      <td>[4-[6-[(2-oxo-1,3-dioxolan-4-yl)methoxy]hexoxy...</td>\n",
       "      <td>[*:1]-[#6:2]1(-[#1:3])-[#8:4]-[#6:5](=[#8:6])-...</td>\n",
       "      <td>NIPU</td>\n",
       "      <td>O=C1OCC(COCCCCCCOCC2COC(=O)O2)O1.CCCCCCCC1C(CC...</td>\n",
       "    </tr>\n",
       "    <tr>\n",
       "      <th>B5IBuyC_m2byA9hty44ioQ</th>\n",
       "      <td>[H]-[C](-[H])(-[H])-[C](-[H])(-[H])-[C](-[H])(...</td>\n",
       "      <td>CCCCCCCC1C(CCCCC)CCC(CCCCCCCCC(=O)OCC2COC(=O)O...</td>\n",
       "      <td>[v35HIbEmMbbN8eIfDhdNzw, 2-[2-(2-aminoethoxy)e...</td>\n",
       "      <td>[*:1]-[#6:2]1(-[#1:3])-[#8:4]-[#6:5](=[#8:6])-...</td>\n",
       "      <td>NIPU</td>\n",
       "      <td>NCCOCCOCCN.CCCCCCCC1C(CCCCC)CCC(CCCCCCCCC(=O)O...</td>\n",
       "    </tr>\n",
       "    <tr>\n",
       "      <th>...</th>\n",
       "      <th>...</th>\n",
       "      <td>...</td>\n",
       "      <td>...</td>\n",
       "      <td>...</td>\n",
       "      <td>...</td>\n",
       "      <td>...</td>\n",
       "      <td>...</td>\n",
       "    </tr>\n",
       "    <tr>\n",
       "      <th rowspan=\"5\" valign=\"top\">polyurethane_isocyanate</th>\n",
       "      <th>gY6V1-UHX6G_zFY7My9sKA</th>\n",
       "      <td>[H]-[C](-[H])(-[N]=[C]=[O])-[C](-[H])(-[H])-[C...</td>\n",
       "      <td>O=C=NCCCCCCN=C=O.OCCCCCCO</td>\n",
       "      <td>[1,6-Diisocyanatohexane, HEXANE-1,6-DIOL]</td>\n",
       "      <td>[#8:1]=[#6:2]=[#7:3]-[*:4].[#8:5](-[*:6])-[#1:...</td>\n",
       "      <td>urethane</td>\n",
       "      <td>OCCCCCCO.O=C=NCCCCCCN=C=O</td>\n",
       "    </tr>\n",
       "    <tr>\n",
       "      <th>CrOScU8xBe76G9vvTa5HgA</th>\n",
       "      <td>[H]-[C]1=[C](-[N]=[C]=[O])-[C](-[H])=[C](-[H])...</td>\n",
       "      <td>O=C=Nc1ccc(Cc2ccc(N=C=O)cc2)cc1.OCCO</td>\n",
       "      <td>[1-isocyanato-4-[(4-isocyanatophenyl)methyl]be...</td>\n",
       "      <td>[#8:1]=[#6:2]=[#7:3]-[*:4].[#8:5](-[*:6])-[#1:...</td>\n",
       "      <td>urethane</td>\n",
       "      <td>OCCO.O=C=Nc1ccc(Cc2ccc(N=C=O)cc2)cc1</td>\n",
       "    </tr>\n",
       "    <tr>\n",
       "      <th>yjU1SBlPBhkC6xhjiVT9-g</th>\n",
       "      <td>[H]-[C](-[H])(-[N]=[C]=[O])-[C](-[H])(-[H])-[C...</td>\n",
       "      <td>O=C=NCCCCCCN=C=O.OCCCCO</td>\n",
       "      <td>[1,6-Diisocyanatohexane, Butane-1,4-diol]</td>\n",
       "      <td>[#8:1]=[#6:2]=[#7:3]-[*:4].[#8:5](-[*:6])-[#1:...</td>\n",
       "      <td>urethane</td>\n",
       "      <td>OCCCCO.O=C=NCCCCCCN=C=O</td>\n",
       "    </tr>\n",
       "    <tr>\n",
       "      <th>WxHoFQhYXdUbNLa4uRZZ5Q</th>\n",
       "      <td>[H]-[C](-[H])(-[N]=[C]=[O])-[C](-[H])(-[H])-[C...</td>\n",
       "      <td>O=C=NCCCCCCN=C=O.OCCO</td>\n",
       "      <td>[1,6-Diisocyanatohexane, Ethane-1,2-diol]</td>\n",
       "      <td>[#8:1]=[#6:2]=[#7:3]-[*:4].[#8:5](-[*:6])-[#1:...</td>\n",
       "      <td>urethane</td>\n",
       "      <td>OCCO.O=C=NCCCCCCN=C=O</td>\n",
       "    </tr>\n",
       "    <tr>\n",
       "      <th>E0pcQoLp3ltjWNM_7Z2j5A</th>\n",
       "      <td>[H]-[C](-[H])(-[H])-[C]1(-[C](-[H])(-[H])-[H])...</td>\n",
       "      <td>CC1(C)CC(N=C=O)CC(C)(CN=C=O)C1.OCC1CCC(CO)CC1</td>\n",
       "      <td>[5-Isocyanato-1-(isocyanatomethyl)-1,3,3-trime...</td>\n",
       "      <td>[#8:1]=[#6:2]=[#7:3]-[*:4].[#8:5](-[*:6])-[#1:...</td>\n",
       "      <td>urethane</td>\n",
       "      <td>OCC1CCC(CO)CC1.CC1(C)CC(N=C=O)CC(C)(CN=C=O)C1</td>\n",
       "    </tr>\n",
       "  </tbody>\n",
       "</table>\n",
       "<p>74 rows × 6 columns</p>\n",
       "</div>"
      ],
      "text/plain": [
       "                                                                                     reactant_smiles  \\\n",
       "mechanism                  polymer_name                                                                \n",
       "polyurethane_nonisocyanate vl-PLN0bPA2tzuKT3JB7YQ  [H]-[C](-[H])(-[H])-[C](-[H])(-[H])-[C](-[H])(...   \n",
       "                           sKEMIdfcMiFe18aNI2Z-ww  [H]-[C](-[H])(-[H])-[C](-[H])(-[H])-[C](-[H])(...   \n",
       "                           NIbNm49MnycXz0lh7f4HtQ  [H]-[C](-[H])(-[O]-[C](-[H])(-[H])-[C]1(-[H])-...   \n",
       "                           zf53ra19MfoVs1yNmHleqg  [H]-[C](-[H])(-[O]-[C](-[H])(-[H])-[C]1(-[H])-...   \n",
       "                           B5IBuyC_m2byA9hty44ioQ  [H]-[C](-[H])(-[H])-[C](-[H])(-[H])-[C](-[H])(...   \n",
       "...                                                                                              ...   \n",
       "polyurethane_isocyanate    gY6V1-UHX6G_zFY7My9sKA  [H]-[C](-[H])(-[N]=[C]=[O])-[C](-[H])(-[H])-[C...   \n",
       "                           CrOScU8xBe76G9vvTa5HgA  [H]-[C]1=[C](-[N]=[C]=[O])-[C](-[H])=[C](-[H])...   \n",
       "                           yjU1SBlPBhkC6xhjiVT9-g  [H]-[C](-[H])(-[N]=[C]=[O])-[C](-[H])(-[H])-[C...   \n",
       "                           WxHoFQhYXdUbNLa4uRZZ5Q  [H]-[C](-[H])(-[N]=[C]=[O])-[C](-[H])(-[H])-[C...   \n",
       "                           E0pcQoLp3ltjWNM_7Z2j5A  [H]-[C](-[H])(-[H])-[C]1(-[C](-[H])(-[H])-[H])...   \n",
       "\n",
       "                                                                                    canonical_smiles  \\\n",
       "mechanism                  polymer_name                                                                \n",
       "polyurethane_nonisocyanate vl-PLN0bPA2tzuKT3JB7YQ  CCCCCCCC1C(CCCCC)CCC(CCCCCCCCC(=O)OCC2COC(=O)O...   \n",
       "                           sKEMIdfcMiFe18aNI2Z-ww  CCCCCCCC1C(CCCCC)CCC(CCCCCCCCC(=O)OCC2COC(=O)O...   \n",
       "                           NIbNm49MnycXz0lh7f4HtQ  CCCCCCNC(=O)C(O)(CC(=O)NCCCCCCN)CC(=O)NCCCCCCN...   \n",
       "                           zf53ra19MfoVs1yNmHleqg  CCCCCCCC1C(CCCCC)CCC(CCCCCCCCC(=O)NCCCCNC(=O)C...   \n",
       "                           B5IBuyC_m2byA9hty44ioQ  CCCCCCCC1C(CCCCC)CCC(CCCCCCCCC(=O)OCC2COC(=O)O...   \n",
       "...                                                                                              ...   \n",
       "polyurethane_isocyanate    gY6V1-UHX6G_zFY7My9sKA                          O=C=NCCCCCCN=C=O.OCCCCCCO   \n",
       "                           CrOScU8xBe76G9vvTa5HgA               O=C=Nc1ccc(Cc2ccc(N=C=O)cc2)cc1.OCCO   \n",
       "                           yjU1SBlPBhkC6xhjiVT9-g                            O=C=NCCCCCCN=C=O.OCCCCO   \n",
       "                           WxHoFQhYXdUbNLa4uRZZ5Q                              O=C=NCCCCCCN=C=O.OCCO   \n",
       "                           E0pcQoLp3ltjWNM_7Z2j5A      CC1(C)CC(N=C=O)CC(C)(CN=C=O)C1.OCC1CCC(CO)CC1   \n",
       "\n",
       "                                                                                         iupac_names  \\\n",
       "mechanism                  polymer_name                                                                \n",
       "polyurethane_nonisocyanate vl-PLN0bPA2tzuKT3JB7YQ       [v35HIbEmMbbN8eIfDhdNzw, butane-1,4-diamine]   \n",
       "                           sKEMIdfcMiFe18aNI2Z-ww  [v35HIbEmMbbN8eIfDhdNzw, N-(3-aminopropyl)prop...   \n",
       "                           NIbNm49MnycXz0lh7f4HtQ  [4-[6-[(2-oxo-1,3-dioxolan-4-yl)methoxy]hexoxy...   \n",
       "                           zf53ra19MfoVs1yNmHleqg  [4-[6-[(2-oxo-1,3-dioxolan-4-yl)methoxy]hexoxy...   \n",
       "                           B5IBuyC_m2byA9hty44ioQ  [v35HIbEmMbbN8eIfDhdNzw, 2-[2-(2-aminoethoxy)e...   \n",
       "...                                                                                              ...   \n",
       "polyurethane_isocyanate    gY6V1-UHX6G_zFY7My9sKA          [1,6-Diisocyanatohexane, HEXANE-1,6-DIOL]   \n",
       "                           CrOScU8xBe76G9vvTa5HgA  [1-isocyanato-4-[(4-isocyanatophenyl)methyl]be...   \n",
       "                           yjU1SBlPBhkC6xhjiVT9-g          [1,6-Diisocyanatohexane, Butane-1,4-diol]   \n",
       "                           WxHoFQhYXdUbNLa4uRZZ5Q          [1,6-Diisocyanatohexane, Ethane-1,2-diol]   \n",
       "                           E0pcQoLp3ltjWNM_7Z2j5A  [5-Isocyanato-1-(isocyanatomethyl)-1,3,3-trime...   \n",
       "\n",
       "                                                                                     reaction_smarts  \\\n",
       "mechanism                  polymer_name                                                                \n",
       "polyurethane_nonisocyanate vl-PLN0bPA2tzuKT3JB7YQ  [*:1]-[#6:2]1(-[#1:3])-[#8:4]-[#6:5](=[#8:6])-...   \n",
       "                           sKEMIdfcMiFe18aNI2Z-ww  [*:1]-[#6:2]1(-[#1:3])-[#8:4]-[#6:5](=[#8:6])-...   \n",
       "                           NIbNm49MnycXz0lh7f4HtQ  [*:1]-[#6:2]1(-[#1:3])-[#8:4]-[#6:5](=[#8:6])-...   \n",
       "                           zf53ra19MfoVs1yNmHleqg  [*:1]-[#6:2]1(-[#1:3])-[#8:4]-[#6:5](=[#8:6])-...   \n",
       "                           B5IBuyC_m2byA9hty44ioQ  [*:1]-[#6:2]1(-[#1:3])-[#8:4]-[#6:5](=[#8:6])-...   \n",
       "...                                                                                              ...   \n",
       "polyurethane_isocyanate    gY6V1-UHX6G_zFY7My9sKA  [#8:1]=[#6:2]=[#7:3]-[*:4].[#8:5](-[*:6])-[#1:...   \n",
       "                           CrOScU8xBe76G9vvTa5HgA  [#8:1]=[#6:2]=[#7:3]-[*:4].[#8:5](-[*:6])-[#1:...   \n",
       "                           yjU1SBlPBhkC6xhjiVT9-g  [#8:1]=[#6:2]=[#7:3]-[*:4].[#8:5](-[*:6])-[#1:...   \n",
       "                           WxHoFQhYXdUbNLa4uRZZ5Q  [#8:1]=[#6:2]=[#7:3]-[*:4].[#8:5](-[*:6])-[#1:...   \n",
       "                           E0pcQoLp3ltjWNM_7Z2j5A  [#8:1]=[#6:2]=[#7:3]-[*:4].[#8:5](-[*:6])-[#1:...   \n",
       "\n",
       "                                                  mechanism_original  \\\n",
       "mechanism                  polymer_name                                \n",
       "polyurethane_nonisocyanate vl-PLN0bPA2tzuKT3JB7YQ               NIPU   \n",
       "                           sKEMIdfcMiFe18aNI2Z-ww               NIPU   \n",
       "                           NIbNm49MnycXz0lh7f4HtQ               NIPU   \n",
       "                           zf53ra19MfoVs1yNmHleqg               NIPU   \n",
       "                           B5IBuyC_m2byA9hty44ioQ               NIPU   \n",
       "...                                                              ...   \n",
       "polyurethane_isocyanate    gY6V1-UHX6G_zFY7My9sKA           urethane   \n",
       "                           CrOScU8xBe76G9vvTa5HgA           urethane   \n",
       "                           yjU1SBlPBhkC6xhjiVT9-g           urethane   \n",
       "                           WxHoFQhYXdUbNLa4uRZZ5Q           urethane   \n",
       "                           E0pcQoLp3ltjWNM_7Z2j5A           urethane   \n",
       "\n",
       "                                                                                      smiles_monomer  \n",
       "mechanism                  polymer_name                                                               \n",
       "polyurethane_nonisocyanate vl-PLN0bPA2tzuKT3JB7YQ  NCCCCN.CCCCCCCC1C(CCCCC)CCC(CCCCCCCCC(=O)OCC2C...  \n",
       "                           sKEMIdfcMiFe18aNI2Z-ww  NCCCNCCCN.CCCCCCCC1C(CCCCC)CCC(CCCCCCCCC(=O)OC...  \n",
       "                           NIbNm49MnycXz0lh7f4HtQ  O=C1OCC(COCCCCCCOCC2COC(=O)O2)O1.CCCCCCNC(=O)C...  \n",
       "                           zf53ra19MfoVs1yNmHleqg  O=C1OCC(COCCCCCCOCC2COC(=O)O2)O1.CCCCCCCC1C(CC...  \n",
       "                           B5IBuyC_m2byA9hty44ioQ  NCCOCCOCCN.CCCCCCCC1C(CCCCC)CCC(CCCCCCCCC(=O)O...  \n",
       "...                                                                                              ...  \n",
       "polyurethane_isocyanate    gY6V1-UHX6G_zFY7My9sKA                          OCCCCCCO.O=C=NCCCCCCN=C=O  \n",
       "                           CrOScU8xBe76G9vvTa5HgA               OCCO.O=C=Nc1ccc(Cc2ccc(N=C=O)cc2)cc1  \n",
       "                           yjU1SBlPBhkC6xhjiVT9-g                            OCCCCO.O=C=NCCCCCCN=C=O  \n",
       "                           WxHoFQhYXdUbNLa4uRZZ5Q                              OCCO.O=C=NCCCCCCN=C=O  \n",
       "                           E0pcQoLp3ltjWNM_7Z2j5A      OCC1CCC(CO)CC1.CC1(C)CC(N=C=O)CC(C)(CN=C=O)C1  \n",
       "\n",
       "[74 rows x 6 columns]"
      ]
     },
     "execution_count": 10,
     "metadata": {},
     "output_type": "execute_result"
    }
   ],
   "source": [
    "# extract original data, processed smiles monomers, and reaction info from indices of valid chemistries \n",
    "passes_raw = proc_output[is_valid]\n",
    "passes_index = proc_output.index[is_valid]\n",
    "passes_orig_data = df.iloc[passes_index].rename(columns={'mechanism' : 'mechanism_original'}, inplace=False) # rename prior mechanism column to free up the label for the assigned reaction name\n",
    "\n",
    "passes_reactant_info = pd.DataFrame.from_records(passes_raw.map(lambda x : x.__dict__).tolist(), index=passes_index) # tolist() seems to be necessary to avoid weird indexing exceptions\n",
    "passes_rxn_names  = passes_orig_data['mechanism_original'].map(rxn_backmap).rename('mechanism')           # make the newly-assigned reaction name the \"true\" mechanism\n",
    "passes_rxn_smarts = passes_rxn_names.map(lambda rxnname : rxns[rxnname].to_smarts()).rename('reaction_smarts') # changes name to be distinct (name is kept by default after map())\n",
    "\n",
    "# concatenate all passing data along columns, indexed by mechanism and hashname\n",
    "passes = pd.concat([passes_reactant_info, passes_rxn_names, passes_rxn_smarts, passes_orig_data], axis=1)\n",
    "passes.set_index(['mechanism', 'polymer_name'], inplace=True)\n",
    "passes"
   ]
  },
  {
   "cell_type": "markdown",
   "metadata": {},
   "source": [
    "## Show distribution of failure cases"
   ]
  },
  {
   "cell_type": "code",
   "execution_count": 11,
   "metadata": {},
   "outputs": [
    {
     "data": {
      "image/png": "[encoded data removed]",
      "text/plain": [
       "<Figure size 900x600 with 1 Axes>"
      ]
     },
     "metadata": {},
     "output_type": "display_data"
    }
   ],
   "source": [
    "dim = 6\n",
    "aspect= 3/2\n",
    "\n",
    "plt.figure(figsize=(dim*aspect, dim))\n",
    "\n",
    "rejects_reasons = proc_output[rejected]\n",
    "rejects     = rejects_reasons.map(lambda r : r.name)\n",
    "rejects_ids = rejects_reasons.map(lambda x : x.value)\n",
    "\n",
    "ax = rejects_ids.plot(kind='hist')\n",
    "ax.set_xticks([(i.value + 0.25) for i in FilterRejectionReason])\n",
    "ax.set_xticklabels([i.name for i in FilterRejectionReason], rotation=-30)\n",
    "\n",
    "plt.show()"
   ]
  },
  {
   "cell_type": "markdown",
   "metadata": {},
   "source": [
    "## Save filtered DataFrame for next steps to avoid reprocessing"
   ]
  },
  {
   "cell_type": "code",
   "execution_count": 12,
   "metadata": {},
   "outputs": [],
   "source": [
    "from polymerist.genutils.fileutils.pathutils import assemble_path, dotless\n",
    "\n",
    "PROC_DATA_DIR.mkdir(exist_ok=True)\n",
    "clean_input_stem = input_data_path.stem.removesuffix('_FMT')\n",
    "extension = dotless(input_data_path)\n",
    "\n",
    "# save filtered dataset to filtered directory to store caclulations\n",
    "passes_path  = assemble_path(PROC_DATA_DIR, input_data_path.stem.replace(' ', '_'), postfix='FILTERED_NEWSTYLE', extension=extension)\n",
    "passes.to_csv(passes_path)\n",
    "\n",
    "rejects_path = assemble_path(PROC_DATA_DIR, input_data_path.stem.replace(' ', '_'), postfix='REJECTED_NEWSTYLE', extension=extension)\n",
    "rejects.to_csv(rejects_path)"
   ]
  },
  {
   "cell_type": "code",
   "execution_count": null,
   "metadata": {},
   "outputs": [],
   "source": []
  }
 ],
 "metadata": {
  "kernelspec": {
   "display_name": "openff-dev-updated",
   "language": "python",
   "name": "python3"
  },
  "language_info": {
   "codemirror_mode": {
    "name": "ipython",
    "version": 3
   },
   "file_extension": ".py",
   "mimetype": "text/x-python",
   "name": "python",
   "nbconvert_exporter": "python",
   "pygments_lexer": "ipython3",
   "version": "3.11.0"
  },
  "orig_nbformat": 4
 },
 "nbformat": 4,
 "nbformat_minor": 2
}
