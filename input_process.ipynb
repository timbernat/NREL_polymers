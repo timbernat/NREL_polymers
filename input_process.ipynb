{
 "cells": [
  {
   "cell_type": "markdown",
   "metadata": {},
   "source": [
    "# Filtering expanded dataset"
   ]
  },
  {
   "cell_type": "markdown",
   "metadata": {},
   "source": [
    "## Core Imports"
   ]
  },
  {
   "cell_type": "code",
   "execution_count": 1,
   "metadata": {},
   "outputs": [
    {
     "data": {
      "application/vnd.jupyter.widget-view+json": {
       "model_id": "b8a4aede705343c28937561e7a3df66f",
       "version_major": 2,
       "version_minor": 0
      },
      "text/plain": []
     },
     "metadata": {},
     "output_type": "display_data"
    }
   ],
   "source": [
    "# Generic Imports\n",
    "import matplotlib.pyplot as plt\n",
    "import pandas as pd\n",
    "\n",
    "# File I/O\n",
    "from pathlib import Path\n",
    "import csv, json\n",
    "\n",
    "# Typing and Subclassing\n",
    "from typing import Iterable, Optional, Union\n",
    "from dataclasses import dataclass, field\n",
    "\n",
    "# Cheminformatics\n",
    "from rdkit import Chem\n",
    "\n",
    "# Custom imports\n",
    "from polymerist.rdutils import rdkdraw\n",
    "from polymerist.smileslib import substructures\n",
    "from polymerist.monomers import specification\n",
    "\n",
    "DIM    = 300\n",
    "ASPECT = 3/2\n",
    "rdkdraw.set_rdkdraw_size(DIM, ASPECT)\n",
    "rdkdraw.disable_substruct_highlights()\n",
    "\n",
    "# Static Paths\n",
    "RAW_DATA_DIR  = Path('monomer_data_raw')\n",
    "FMT_DATA_DIR  = Path('monomer_data_formatted')\n",
    "PROC_DATA_DIR = Path('monomer_data_processed')\n",
    "RXN_FILES_DIR = Path('poly_rxns')\n",
    "# RXN_FILES_DIR = Path('rxn_smarts')"
   ]
  },
  {
   "cell_type": "markdown",
   "metadata": {},
   "source": [
    "## Loading desired dataset"
   ]
  },
  {
   "cell_type": "code",
   "execution_count": 2,
   "metadata": {},
   "outputs": [],
   "source": [
    "# input_data_path = FMT_DATA_DIR / 'nipu_urethanes_FMT.csv'\n",
    "input_data_path = FMT_DATA_DIR / '20231114_polyid_data_density_DP2-6 - 1,2 monomers.csv'\n",
    "# input_data_path = FMT_DATA_DIR / '221010_trainingdata_DP-18_expanded_FMT.csv'\n",
    "df = pd.read_csv(input_data_path)"
   ]
  },
  {
   "cell_type": "markdown",
   "metadata": {},
   "source": [
    "## Defining queries for illegal chemistries"
   ]
  },
  {
   "cell_type": "code",
   "execution_count": 3,
   "metadata": {},
   "outputs": [],
   "source": [
    "illegal_chem_queries = {\n",
    "    'silicon' : Chem.MolFromSmarts('[Si]'),\n",
    "    'sulfur'  : Chem.MolFromSmarts('[S]'),\n",
    "    'metal'   : substructures.SPECIAL_QUERY_MOLS['metal'],\n",
    "    # 'halogen' : substructures.SPECIAL_QUERY_MOLS['halogen'],\n",
    "}"
   ]
  },
  {
   "cell_type": "markdown",
   "metadata": {},
   "source": [
    "## Loading and backmapping premade reaction functional groups and templates"
   ]
  },
  {
   "cell_type": "code",
   "execution_count": 4,
   "metadata": {},
   "outputs": [],
   "source": [
    "rxn_backmap = { # map NREL dataset mechanism names to pre-made rxn template names\n",
    "    'amide'     : 'polyamide',\n",
    "    'carbonate' : 'polycarbonate_phosgene',\n",
    "    'ester'     : 'polyester',\n",
    "    'imide'     : 'polyimide',\n",
    "    'urethane'  : 'polyurethane_isocyanate',\n",
    "    'NIPU'      : 'polyurethane_nonisocyanate',\n",
    "    'vinyl'     : 'polyvinyl_head_tail'\n",
    "}\n",
    "assert(set(df['mechanism'].unique()).issubset(set(rxn_backmap.keys()))) # verify that we've mapped all reactions\n",
    "\n",
    "with (RXN_FILES_DIR / 'rxn_backmap.json').open('w') as backmap_file:\n",
    "    json.dump(rxn_backmap, backmap_file, indent=4)"
   ]
  },
  {
   "cell_type": "code",
   "execution_count": 5,
   "metadata": {},
   "outputs": [],
   "source": [
    "from polymerist.rdutils.reactions import reactions\n",
    "\n",
    "with (RXN_FILES_DIR / 'fn_group_smarts.json').open('r') as file:\n",
    "    fn_group_smarts  = json.load(file)\n",
    "    \n",
    "fn_group_queries = { # RDKit Mols generated from SMARTS queries\n",
    "    group_name : Chem.MolFromSmarts(smarts)\n",
    "        for group_name, smarts in fn_group_smarts.items()\n",
    "}\n",
    "\n",
    "with (RXN_FILES_DIR / 'rxn_groups.json').open('r') as file: # load table of functional group for each reaction\n",
    "    rxn_groups = json.load(file)\n",
    "\n",
    "rxns = {\n",
    "    rxnname : reactions.AnnotatedReaction.from_rxnfile(RXN_FILES_DIR / f'{rxnname}.rxn')\n",
    "        for rxnname in rxn_groups.keys()\n",
    "}"
   ]
  },
  {
   "cell_type": "code",
   "execution_count": 6,
   "metadata": {},
   "outputs": [],
   "source": [
    "banned_monomers = [ # monomers which are, for one reason or another, disallowed\n",
    "    'CC(C)(C)c1cc(c(Oc2ccc(cc2)N(c3ccc(N)cc3)c4ccc(N)cc4)c(c1)C(C)(C)C)C(C)(C)C'  # the extraordinary number of symmetries of this amine (\"4-N-(4-aminophenyl)-4-N-[4-(2,4,6-tritert-butylphenoxy)phenyl]benzene-1,4-diamine\")... \n",
    "]                                                                                 # ...mean it takes impractically long to isomorphism match during the Topology partition step\n",
    "\n",
    "banned_monomer_queries = {}\n",
    "for smiles in banned_monomers:\n",
    "    exp_spi = specification.expanded_SMILES(smiles, assign_map_nums=False)\n",
    "    banned_monomer_queries[smiles] = Chem.MolFromSmiles(exp_spi, sanitize=False)"
   ]
  },
  {
   "cell_type": "markdown",
   "metadata": {},
   "source": [
    "## Utility functions"
   ]
  },
  {
   "cell_type": "code",
   "execution_count": 7,
   "metadata": {},
   "outputs": [],
   "source": [
    "from enum import Enum, auto\n",
    "\n",
    "@dataclass\n",
    "class MonomerInfo:\n",
    "    '''For encapsulating salient info about an individual monomer'''\n",
    "    smiles        : str\n",
    "    fn_group_name : str\n",
    "    IUPAC_name    : str\n",
    "\n",
    "class FilterRejectionReason(Enum):\n",
    "    '''For capturing information about which filtering step a monomer didn't pass'''\n",
    "    BAD_NUM_MONOMERS      = auto()\n",
    "    ILLEGAL_ATOMS         = auto()\n",
    "    NO_RXN_TEMPLATE_MATCH = auto()\n",
    "    BAD_NUM_FN_GRPS       = auto()\n",
    "    NO_IUPAC_NAME         = auto()\n",
    "    BANNED_MONOMER        = auto()"
   ]
  },
  {
   "cell_type": "code",
   "execution_count": 8,
   "metadata": {},
   "outputs": [],
   "source": [
    "from polymerist.monomers import specification\n",
    "from polymerist.smileslib.chemdbqueries import get_property_from_smiles\n",
    "\n",
    "\n",
    "def process_monomer_input(smiles : str, mech_name : str) -> Union[FilterRejectionReason, list[MonomerInfo]]:\n",
    "    '''For screening and expanding SMILES input to the MD polymer building workflow'''\n",
    "    # 1) Determine number of distrinct monomers in passed SMILES string\n",
    "    indiv_smiles = smiles.split('.') # opting for direct string-based approach here rather than RDKit Mol fragmenting for speed, and to avoid clunky str -> Mol -> str conversion\n",
    "    num_monomers = len(indiv_smiles)\n",
    "    if num_monomers != 2:\n",
    "        return FilterRejectionReason.BAD_NUM_MONOMERS\n",
    "    \n",
    "    # Generate expanded SMILES string and corresponding RDKit Mol for all monomers\n",
    "    monomers_by_exp_smiles : dict[str, Chem.Mol] = {}\n",
    "    exp_smiles_by_monomers : dict[Chem.Mol, str] = {} # reverse lookup to figure out the correct smiles given a molecule\n",
    "    indiv_monomers         : list[Chem.Mol] = []\n",
    "    \n",
    "    for smi in indiv_smiles: # wait to expand SMILES until after count filtering for speed\n",
    "        exp_smi = specification.expanded_SMILES(smi, assign_map_nums=False)\n",
    "        monomer = Chem.MolFromSmiles(exp_smi, sanitize=False)\n",
    "\n",
    "        # 2) Catch monomers with illegal atoms or, if none are present, generate expanded SMILES string and corresponding RDKit Mol for all monomers\n",
    "        if any(substructures.matching_labels_from_substruct_dict(monomer, illegal_chem_queries)): # if any illegal atoms are detected in the current monomer, return and exit\n",
    "            return FilterRejectionReason.ILLEGAL_ATOMS\n",
    "\n",
    "        # 3) Exclude any monomers which are structurally disallowed\n",
    "        if any(substructures.matching_labels_from_substruct_dict(monomer, banned_monomer_queries)): # if any illegal atoms are detected in the current monomer, return and exit\n",
    "            return FilterRejectionReason.BANNED_MONOMER\n",
    "        \n",
    "        indiv_monomers.append(monomer)\n",
    "        monomers_by_exp_smiles[exp_smi] = monomer\n",
    "        exp_smiles_by_monomers[monomer] = exp_smi\n",
    "\n",
    "    # 4) Determine if monomer functionalizations match the advertised rxn, and if so in what order they should appear\n",
    "    reactive_groups : list[str] = rxn_groups[rxn_backmap[mech_name]]\n",
    "    rxn = rxns[rxn_backmap[mech_name]]\n",
    "    mono_order = rxn.valid_reactant_ordering(indiv_monomers)\n",
    "    if mono_order is None:\n",
    "        return FilterRejectionReason.NO_RXN_TEMPLATE_MATCH\n",
    "\n",
    "    # produce monomers based on a valid ordering if one is found\n",
    "    mono_info_list : list[MonomerInfo] = []\n",
    "    for monomer, mono_fn_group in zip(mono_order, reactive_groups, strict=True): # strict just gives one further safeguard that a 1:1 reactive group to monomer mapping has been found\n",
    "        smiles = exp_smiles_by_monomers[monomer]\n",
    "        # 5) Determine if all monomers are only have the desired functionalization numbers \n",
    "        if substructures.num_substruct_queries_distinct(monomer, fn_group_queries[mono_fn_group]) != 2:\n",
    "            return FilterRejectionReason.BAD_NUM_FN_GRPS\n",
    "        \n",
    "        # 6) Query IUPAC names for each monomer - NOTE: not done in the monomer expansion loop as the name query is the slowest step and should preferably alled as few times as possible\n",
    "        iupac_name = get_property_from_smiles(smiles, prop_name='iupac_name')\n",
    "        if iupac_name is None:\n",
    "            return FilterRejectionReason.NO_IUPAC_NAME\n",
    "        \n",
    "        # if a monomer has gotten here, that means it's passed!\n",
    "        mono_info = MonomerInfo(\n",
    "            smiles=smiles,\n",
    "            fn_group_name=mono_fn_group,\n",
    "            IUPAC_name=iupac_name.lower() # enforce lower-casing for consistency\n",
    "        )\n",
    "        mono_info_list.append(mono_info)\n",
    "\n",
    "    return mono_info_list"
   ]
  },
  {
   "cell_type": "markdown",
   "metadata": {},
   "source": [
    "## Generalizing and simplifying monomer screening procedure"
   ]
  },
  {
   "cell_type": "code",
   "execution_count": null,
   "metadata": {},
   "outputs": [],
   "source": [
    "def process_monomer_input_updated(monomer_smiles : str, rxn_smarts : str) -> Union[FilterRejectionReason, MonomerInfo]:\n",
    "    indiv_smiles = monomer_smiles.split('.') \n",
    "    rxn_template = reactions.AnnotatedReaction.from_smarts(rxn_smarts)\n",
    "\n",
    "    # 0) perform initial quick-and-dirty string-based monomer count for speed\n",
    "    if len(indiv_smiles) != rxn_template.GetNumReactantTemplates():\n",
    "        return FilterRejectionReason.BAD_NUM_MONOMERS\n",
    "    ..."
   ]
  },
  {
   "cell_type": "code",
   "execution_count": 15,
   "metadata": {},
   "outputs": [
    {
     "data": {
      "text/plain": [
       "{'amide': '[#7:1](-[*:2])(-[#1])-[#1:3].[#8](-[#6:4](=[#8:5])-[*:6])-[#1]>>[#7:1](-[*:2])(-[#1:3])-[#6:4](=[#8:5])-[*:6]',\n",
       " 'carbonate': '[#8:1](-[*:2])-[#1].[#17]-[#6:3](=[#8:4])-[*:5]>>[#8:1](-[*:2])-[#6:3](=[#8:4])-[*:5]',\n",
       " 'ester': '[#8:1](-[*:2])-[#1].[#8](-[#6:3](=[#8:4])-[*:5])-[#1]>>[#8:1](-[*:2])-[#6:3](=[#8:4])-[*:5]',\n",
       " 'imide': '[#7:1](-[*:2])(-[#1])-[#1].[*:3]-[#6:4](=[#8:5])-[#8]-[#6:6](=[#8:7])-[*:8]>>[#7:1](-[*:2])(-[#6:4](-[*:3])=[#8:5])-[#6:6](=[#8:7])-[*:8]',\n",
       " 'urethane': '[#8:1]=[#6:2]=[#7:3]-[*:4].[#8:5](-[*:6])-[#1:7]>>[#8:1]=[#6:2](-[#7:3](-[*:4])-[#1:7])-[#8:5]-[*:6]',\n",
       " 'NIPU': '[*:1]-[#6:2]1(-[#1:3])-[#8:4]-[#6:5](=[#8:6])-[#8:7]-[#6:8]-1(-[#1:9])-[#1:10].[#7:11](-[*:12])(-[#1:13])-[#1:14]>>[*:1]-[#6:2](-[#1:3])(-[#8:4]-[#1:13])-[#6:8](-[#8:7]-[#6:5](=[#8:6])-[#7:11](-[*:12])-[#1:14])(-[#1:9])-[#1:10]',\n",
       " 'vinyl': '[*:1]/[#6:2](-[*:3])=[#6:4](/[#1:5])-[#1:6].[*:7]/[#6:8](=[#6:9](/[#1:10])-[#1:11])-[#1:12]>>[*:1]-[#6:2](-[*:3])(-[#6:4](-[#1:5])(-[#1:6])/[#6:8](-[*:7])=[#6:9](/[#1:10])-[#1:11])-[#1:12]'}"
      ]
     },
     "execution_count": 15,
     "metadata": {},
     "output_type": "execute_result"
    }
   ],
   "source": [
    "rxn_smarts = {\n",
    "    mechanism : rxns[rxnname].to_smarts()\n",
    "        for mechanism, rxnname in rxn_backmap.items()\n",
    "}\n",
    "rxn_smarts"
   ]
  },
  {
   "cell_type": "code",
   "execution_count": 11,
   "metadata": {},
   "outputs": [
    {
     "data": {
      "text/plain": [
       "smiles_monomer            Nc1cccc(N)c1.CC(C)(C)c1cc(C(=O)c2ccc3c(c2)C(=O...\n",
       "smiles_polymer_DP2        CC(C)(C)c1cc(C(=O)c2ccc3c(c2)C(=O)OC3=O)cc(C(=...\n",
       "smiles_polymer_DP3        CC(C)(C)c1cc(C(=O)c2ccc3c(c2)C(=O)N(c2cccc(N)c...\n",
       "smiles_polymer_DP6        CC(C)(C)c1cc(C(=O)c2ccc3c(c2)C(=O)OC3=O)cc(C(=...\n",
       "smiles_polymer_DP18       CC(C)(C)c1cc(C(=O)c2ccc3c(c2)C(=O)OC3=O)cc(C(=...\n",
       "num_monomers                                                              2\n",
       "mechanism                                                             imide\n",
       "Glass_Transition                                                      264.5\n",
       "Melt_Temp                                                               NaN\n",
       "Cp_solid_slope                                                          NaN\n",
       "Cp_solid_intercept                                                      NaN\n",
       "Cp_liquid_slope                                                         NaN\n",
       "Cp_liquid_intercept                                                     NaN\n",
       "log10_ElongBreak                                                        NaN\n",
       "YoungMod                                                             1350.0\n",
       "Tensile_Strength                                                        NaN\n",
       "Density                                                               1.278\n",
       "log10_Permeability_CH4                                                 -1.0\n",
       "log10_Permeability_CO2                                             0.568202\n",
       "log10_Permeability_N2                                             -0.886057\n",
       "log10_Permeability_O2                                                   0.0\n",
       "log10_Permeability_H2                                                   NaN\n",
       "log10_Permeability_H2O                                                  NaN\n",
       "Name: 10, dtype: object"
      ]
     },
     "execution_count": 11,
     "metadata": {},
     "output_type": "execute_result"
    }
   ],
   "source": [
    "targ_df = df.head(20)\n",
    "row = df.iloc[10]\n",
    "row"
   ]
  },
  {
   "cell_type": "code",
   "execution_count": 12,
   "metadata": {},
   "outputs": [
    {
     "data": {
      "image/png": "[encoded data removed]",
      "text/plain": [
       "<polymerist.rdutils.reactions.reactions.AnnotatedReaction at 0x7f5ac751a430>"
      ]
     },
     "metadata": {},
     "output_type": "display_data"
    },
    {
     "data": {
      "image/png": "[encoded data removed]",
      "text/plain": [
       "<rdkit.Chem.rdchem.Mol at 0x7f5ac7570120>"
      ]
     },
     "metadata": {},
     "output_type": "display_data"
    },
    {
     "data": {
      "image/png": "[encoded data removed]",
      "text/plain": [
       "<rdkit.Chem.rdchem.Mol at 0x7f5ac75709e0>"
      ]
     },
     "metadata": {},
     "output_type": "display_data"
    }
   ],
   "source": [
    "from rdkit.Chem import rdChemReactions\n",
    "\n",
    "\n",
    "smis = row.smiles_monomer\n",
    "rxnname = rxn_backmap[row.mechanism]\n",
    "rxn = rxns[rxnname]\n",
    "rxn_other = reactions.AnnotatedReaction.from_smarts(rdChemReactions.ReactionToSmarts(rxn))\n",
    "display(rxn)\n",
    "\n",
    "indiv_smis = smis.split('.')\n",
    "indiv_mono = []\n",
    "for smi in indiv_smis:\n",
    "    exp_smi = specification.expanded_SMILES(smi, assign_map_nums=False)\n",
    "    monomer = Chem.MolFromSmiles(exp_smi, sanitize=False)\n",
    "    display(monomer)\n",
    "    indiv_mono.append(monomer)"
   ]
  },
  {
   "cell_type": "code",
   "execution_count": 13,
   "metadata": {},
   "outputs": [
    {
     "data": {
      "image/png": "[encoded data removed]",
      "text/plain": [
       "<polymerist.rdutils.reactions.reactions.AnnotatedReaction at 0x7f5ac7560ae0>"
      ]
     },
     "execution_count": 13,
     "metadata": {},
     "output_type": "execute_result"
    }
   ],
   "source": [
    "reactions.AnnotatedReaction.from_smarts(rxn.to_smarts())"
   ]
  },
  {
   "cell_type": "code",
   "execution_count": 14,
   "metadata": {},
   "outputs": [
    {
     "data": {
      "text/plain": [
       "'O([C:4]([*:3])=[O:5])[C:6](=[O:7])[*:8].[H][N:1]([H])[*:2]>>[N:1]([*:2])([C:4]([*:3])=[O:5])[C:6](=[O:7])[*:8]'"
      ]
     },
     "execution_count": 14,
     "metadata": {},
     "output_type": "execute_result"
    }
   ],
   "source": [
    "rxn.smiles"
   ]
  },
  {
   "cell_type": "code",
   "execution_count": null,
   "metadata": {},
   "outputs": [],
   "source": [
    "rxn_other.valid_reactant_ordering(indiv_mono)"
   ]
  },
  {
   "cell_type": "code",
   "execution_count": null,
   "metadata": {},
   "outputs": [],
   "source": [
    "len(indiv_smis), rxn.GetNumReactantTemplates()"
   ]
  },
  {
   "cell_type": "code",
   "execution_count": null,
   "metadata": {},
   "outputs": [],
   "source": [
    "combo = Chem.CombineMols(*indiv_mono)\n",
    "combo"
   ]
  },
  {
   "cell_type": "code",
   "execution_count": null,
   "metadata": {},
   "outputs": [],
   "source": [
    "full_smi = Chem.MolToSmiles(combo, canonical=False)\n",
    "full_smi"
   ]
  },
  {
   "cell_type": "code",
   "execution_count": null,
   "metadata": {},
   "outputs": [],
   "source": [
    "for i, monomer in enumerate(indiv_mono):\n",
    "    rxn_template = rxn.GetReactantTemplate(i)\n",
    "    n_fn_groups = substructures.num_substruct_queries_distinct(monomer, rxn_template)\n",
    "    print(n_fn_groups)\n",
    "    # display(monomer)\n",
    "    # display(rxn_template)"
   ]
  },
  {
   "cell_type": "code",
   "execution_count": null,
   "metadata": {},
   "outputs": [],
   "source": [
    "canon_smi = Chem.CanonSmiles(full_smi)\n",
    "canon_smi"
   ]
  },
  {
   "cell_type": "code",
   "execution_count": null,
   "metadata": {},
   "outputs": [],
   "source": [
    "monomers_in_order = rxn.valid_reactant_ordering(indiv_mono)"
   ]
  },
  {
   "cell_type": "code",
   "execution_count": null,
   "metadata": {},
   "outputs": [],
   "source": []
  },
  {
   "cell_type": "markdown",
   "metadata": {},
   "source": [
    "# Filter dataset"
   ]
  },
  {
   "cell_type": "markdown",
   "metadata": {},
   "source": [
    "## Generate filtered Series (either error codes or MonomerInfo) from initial dataset"
   ]
  },
  {
   "cell_type": "code",
   "execution_count": null,
   "metadata": {},
   "outputs": [],
   "source": [
    "from rich.progress import track\n",
    "\n",
    "targ_df = df\n",
    "# targ_df = df.head(20)\n",
    "# targ_df = df[df.mechanism == 'vinyl']\n",
    "\n",
    "proc_output = []\n",
    "for (i, row) in track(targ_df.iterrows(), total=len(targ_df), description='Processing SMILES dataset...'):\n",
    "    proc = process_monomer_input(row.smiles_monomer, row.mechanism) # TODO : move mechanism backmap lookup here\n",
    "    proc_output.append(proc)\n",
    "\n",
    "proc_output = pd.Series(proc_output) # convert from list to Series, partition by failure state\n",
    "was_rejected = proc_output.map(lambda out : isinstance(out, FilterRejectionReason))\n",
    "rejects = proc_output[ was_rejected]\n",
    "passes  = proc_output[~was_rejected]"
   ]
  },
  {
   "cell_type": "markdown",
   "metadata": {},
   "source": [
    "## Expand successful monomers into labelled DataFrame"
   ]
  },
  {
   "cell_type": "code",
   "execution_count": null,
   "metadata": {},
   "outputs": [],
   "source": [
    "def expand_mono_info_list(all_info : list[MonomerInfo]) -> list[str]:\n",
    "    return {\n",
    "        f'{attr}_monomer_{j}' : getattr(mono_info, attr)\n",
    "            for j, mono_info in enumerate(all_info) # NOTE: the index \"j\" here is NOT the position as determined by monomer sort, but rather the index in the rxn groups ordering\n",
    "                for attr in ('smiles', 'fn_group_name', 'IUPAC_name')\n",
    "    }\n",
    "\n",
    "def get_polymer_name(*monomer_names : list[str]) -> str:\n",
    "    return f'poly({\"-co-\".join(monomer_names)})'\n",
    "\n",
    "\n",
    "passes_as_dict = passes.map(expand_mono_info_list)\n",
    "passes_df = pd.DataFrame.from_records(passes_as_dict.values, index=passes_as_dict.index)\n",
    "\n",
    "result_df = pd.concat([passes_df, df.loc[passes_df.index]], axis=1) # combine expanded monomer info with original dataframe\n",
    "result_df['polymer_name'] = result_df[['IUPAC_name_monomer_0', 'IUPAC_name_monomer_1']].apply(lambda row : get_polymer_name(*row.to_list()), axis=1)\n",
    "\n",
    "result_df['rxn_name'] = result_df['mechanism'].map(rxn_backmap) # backmap to rxn template name, and assert this name to take precedence as \"mechanism\"\n",
    "result_df.rename(columns={'mechanism' : 'mechanism_orig', 'rxn_name' : 'mechanism'}, inplace=True) \n",
    "\n",
    "result_df.set_index(['mechanism', 'polymer_name'], inplace=True)\n",
    "result_df"
   ]
  },
  {
   "cell_type": "markdown",
   "metadata": {},
   "source": [
    "## Show distribution of failure cases"
   ]
  },
  {
   "cell_type": "code",
   "execution_count": null,
   "metadata": {},
   "outputs": [],
   "source": [
    "dim = 6\n",
    "aspect= 3/2\n",
    "\n",
    "plt.figure(figsize=(dim*aspect, dim))\n",
    "\n",
    "ax = rejects.map(lambda x : x.value).plot(kind='hist')\n",
    "ax.set_xticks([i.value for i in FilterRejectionReason])\n",
    "ax.set_xticklabels([i.name for i in FilterRejectionReason], rotation=-30)\n",
    "\n",
    "plt.show()"
   ]
  },
  {
   "cell_type": "markdown",
   "metadata": {},
   "source": [
    "## Save filtered DataFrame for next steps to avoid reprocessing"
   ]
  },
  {
   "cell_type": "code",
   "execution_count": null,
   "metadata": {},
   "outputs": [],
   "source": [
    "PROC_DATA_DIR.mkdir(exist_ok=True)\n",
    "clean_input_stem = input_data_path.stem.removesuffix('_FMT')\n",
    "\n",
    "# save filtered dataset to filtered directory to store caclulations\n",
    "out_data_path = PROC_DATA_DIR / f'{clean_input_stem}_FILTERED{input_data_path.suffix}'\n",
    "result_df.to_csv(out_data_path)\n",
    "\n",
    "# also keep record of the rejected monomers (and the reasons for rejection)\n",
    "rejects_data_path = PROC_DATA_DIR / f'{clean_input_stem}_REJECTED{input_data_path.suffix}'\n",
    "rejects.map(lambda r : r.name).to_csv(rejects_data_path)"
   ]
  },
  {
   "cell_type": "code",
   "execution_count": null,
   "metadata": {},
   "outputs": [],
   "source": []
  }
 ],
 "metadata": {
  "kernelspec": {
   "display_name": "openff-dev-updated",
   "language": "python",
   "name": "python3"
  },
  "language_info": {
   "codemirror_mode": {
    "name": "ipython",
    "version": 3
   },
   "file_extension": ".py",
   "mimetype": "text/x-python",
   "name": "python",
   "nbconvert_exporter": "python",
   "pygments_lexer": "ipython3",
   "version": "3.11.0"
  },
  "orig_nbformat": 4
 },
 "nbformat": 4,
 "nbformat_minor": 2
}
