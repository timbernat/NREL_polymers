{
 "cells": [
  {
   "cell_type": "markdown",
   "metadata": {},
   "source": [
    "# For assigning chemical info and partial charges to PDB structures (saves to well-defined SDF files)"
   ]
  },
  {
   "cell_type": "markdown",
   "metadata": {},
   "source": [
    "## Imports"
   ]
  },
  {
   "cell_type": "code",
   "execution_count": 5,
   "metadata": {},
   "outputs": [],
   "source": [
    "# Generic Imports\n",
    "from collections import defaultdict\n",
    "import json\n",
    "\n",
    "# Logging\n",
    "import logging\n",
    "from polymerist.genutils.logutils.IOHandlers import LOG_FORMATTER\n",
    "\n",
    "logging.basicConfig(\n",
    "    level=logging.WARNING,\n",
    "    format =LOG_FORMATTER._fmt,\n",
    "    datefmt=LOG_FORMATTER.datefmt,\n",
    "    force=True\n",
    ")\n",
    "\n",
    "# File I/O\n",
    "from pathlib import Path\n",
    "from tqdm.notebook import tqdm\n",
    "from rich.progress import Progress, track # TODO : convert from tqdm\n",
    "\n",
    "# Cheminformatics\n",
    "from openff.toolkit.topology import Topology, Molecule\n",
    "\n",
    "# Static Paths\n",
    "MONO_DIR = Path('monomer_fragments')\n",
    "PDB_DIR  = Path('pdb_files_new/trimers')"
   ]
  },
  {
   "cell_type": "markdown",
   "metadata": {},
   "source": [
    "## Obtaining complete PDB-monomer pairs for iteration"
   ]
  },
  {
   "cell_type": "code",
   "execution_count": null,
   "metadata": {},
   "outputs": [],
   "source": [
    "chem_paths = defaultdict(defaultdict)\n",
    "\n",
    "for chem_mono in MONO_DIR.iterdir():\n",
    "    chemistry = chem_mono.stem\n",
    "    chem_pdb  = PDB_DIR / chemistry\n",
    "\n",
    "    has_pdb  = set(path.stem for path in chem_pdb.glob( '*.pdb'))\n",
    "    has_mono = set(path.stem for path in chem_mono.glob('*.json'))\n",
    "\n",
    "    for valid_mol_name in (has_pdb & has_mono):\n",
    "        pdb_path  = chem_pdb  / f'{valid_mol_name}.pdb'\n",
    "        mono_path = chem_mono / f'{valid_mol_name}.json'\n",
    "\n",
    "        chem_paths[chemistry][valid_mol_name] = (pdb_path, mono_path)"
   ]
  },
  {
   "cell_type": "markdown",
   "metadata": {},
   "source": [
    "## Parameterizing and saving to SDF, recording mols where match fails"
   ]
  },
  {
   "cell_type": "code",
   "execution_count": null,
   "metadata": {},
   "outputs": [],
   "source": [
    "from polymerist.openfftools import topology\n",
    "from polymerist.openfftools.pcharge import MolCharger\n",
    "\n",
    "from polymerist.monomers import MonomerGroup\n",
    "from polymerist.residues.partition import partition\n",
    "\n",
    "# catch annoying warnings\n",
    "import warnings \n",
    "from openff.toolkit.utils.exceptions import IncorrectNumConformersWarning\n",
    "warnings.catch_warnings(record=True)\n",
    "warnings.filterwarnings('ignore', category=IncorrectNumConformersWarning)\n",
    "\n",
    "group_blacklist = [\n",
    "    'poly(4-N-(4-aminophenyl)-4-N-[4-(2,4,6-tritert-butylphenoxy)phenyl]benzene-1,4-diamine' # for some reason, these compounds are unable to be parameterized in a reasonable amount of time\n",
    "]\n",
    "\n",
    "\n",
    "topo_dir = Path('Topologies_new')\n",
    "topo_dir.mkdir(exist_ok=True)\n",
    "\n",
    "charge_method = 'Espaloma-AM1-BCC'\n",
    "charger = MolCharger.subclass_registry[charge_method]()\n",
    "\n",
    "\n",
    "unmatched_pdb_mols = defaultdict(defaultdict)\n",
    "cancelled = defaultdict(list)\n",
    "for chemistry, path_dict in chem_paths.items():\n",
    "    chem_dir = topo_dir / chemistry\n",
    "    chem_dir.mkdir(exist_ok=True)\n",
    "\n",
    "    progress = tqdm(path_dict.items())\n",
    "    for mol_name, (pdb_path, mono_path) in progress:\n",
    "        progress.set_description_str(f'{chemistry} : {mol_name}')\n",
    "        if any(group_name in mol_name for group_name in group_blacklist):\n",
    "            progress.set_postfix_str('Cancelled')\n",
    "            cancelled[chemistry].append(mol_name)\n",
    "            continue\n",
    "\n",
    "        try:\n",
    "            progress.set_postfix_str('Loading files')\n",
    "            monogrp = MonomerGroup.from_file(mono_path)\n",
    "            offtop = Topology.from_pdb(pdb_path, _custom_substructures=monogrp.monomers)\n",
    "            progress.set_postfix_str('Partitioning')\n",
    "            was_partitioned = partition(offtop)\n",
    "            assert(was_partitioned)\n",
    "\n",
    "            progress.set_postfix_str('Assigning Charges')\n",
    "            offmol = topology.get_largest_offmol(offtop)\n",
    "            offmol.name = mol_name\n",
    "            cmol = charger.charge_molecule(offmol)\n",
    "\n",
    "            progress.set_postfix_str('Saving SDF')\n",
    "            offtop = cmol.to_topology()\n",
    "            sdf_path = chem_dir / f'{mol_name}.sdf'\n",
    "            topology.topology_to_sdf(sdf_path, offtop)\n",
    "        except Exception as e:\n",
    "            print(f'{mol_name} : {e}')\n",
    "            unmatched_pdb_mols[str(e)][chemistry] = mol_name"
   ]
  },
  {
   "cell_type": "code",
   "execution_count": 8,
   "metadata": {},
   "outputs": [
    {
     "data": {
      "text/plain": [
       "defaultdict(list,\n",
       "            {'polyamide': ['poly(4-N-(4-aminophenyl)-4-N-[4-(2,4,6-tritert-butylphenoxy)phenyl]benzene-1,4-diamine,benzene-1,3-dicarboxylic acid)',\n",
       "              'poly(4-N-(4-aminophenyl)-4-N-[4-(2,4,6-tritert-butylphenoxy)phenyl]benzene-1,4-diamine,4-[2-(4-carboxyphenyl)-1,1,1,3,3,3-hexafluoropropan-2-yl]benzoic acid)',\n",
       "              'poly(4-N-(4-aminophenyl)-4-N-[4-(2,4,6-tritert-butylphenoxy)phenyl]benzene-1,4-diamine,naphthalene-2,6-dicarboxylic acid)',\n",
       "              'poly(4-N-(4-aminophenyl)-4-N-[4-(2,4,6-tritert-butylphenoxy)phenyl]benzene-1,4-diamine,5-propan-2-ylbenzene-1,3-dicarboxylic acid)',\n",
       "              'poly(4-N-(4-aminophenyl)-4-N-[4-(2,4,6-tritert-butylphenoxy)phenyl]benzene-1,4-diamine,terephthalic acid)']})"
      ]
     },
     "execution_count": 8,
     "metadata": {},
     "output_type": "execute_result"
    }
   ],
   "source": [
    "cancelled"
   ]
  },
  {
   "cell_type": "code",
   "execution_count": null,
   "metadata": {},
   "outputs": [],
   "source": []
  }
 ],
 "metadata": {
  "kernelspec": {
   "display_name": "openff-dev-updated",
   "language": "python",
   "name": "python3"
  },
  "language_info": {
   "codemirror_mode": {
    "name": "ipython",
    "version": 3
   },
   "file_extension": ".py",
   "mimetype": "text/x-python",
   "name": "python",
   "nbconvert_exporter": "python",
   "pygments_lexer": "ipython3",
   "version": "3.11.5"
  },
  "orig_nbformat": 4
 },
 "nbformat": 4,
 "nbformat_minor": 2
}
