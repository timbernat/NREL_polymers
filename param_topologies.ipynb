{
 "cells": [
  {
   "cell_type": "markdown",
   "metadata": {},
   "source": [
    "# For assigning chemical info and partial charges to PDB structures (saves to well-defined SDF files)"
   ]
  },
  {
   "cell_type": "markdown",
   "metadata": {},
   "source": [
    "## Imports"
   ]
  },
  {
   "cell_type": "code",
   "execution_count": 1,
   "metadata": {},
   "outputs": [
    {
     "name": "stderr",
     "output_type": "stream",
     "text": [
      "/home/timber/miniconda3/envs/polymerist-env/lib/python3.11/site-packages/numpy/core/getlimits.py:500: UserWarning: The value of the smallest subnormal for <class 'numpy.float64'> type is zero.\n",
      "  setattr(self, word, getattr(machar, word).flat[0])\n",
      "/home/timber/miniconda3/envs/polymerist-env/lib/python3.11/site-packages/numpy/core/getlimits.py:89: UserWarning: The value of the smallest subnormal for <class 'numpy.float64'> type is zero.\n",
      "  return self._float_to_str(self.smallest_subnormal)\n",
      "/home/timber/miniconda3/envs/polymerist-env/lib/python3.11/site-packages/numpy/core/getlimits.py:500: UserWarning: The value of the smallest subnormal for <class 'numpy.float32'> type is zero.\n",
      "  setattr(self, word, getattr(machar, word).flat[0])\n",
      "/home/timber/miniconda3/envs/polymerist-env/lib/python3.11/site-packages/numpy/core/getlimits.py:89: UserWarning: The value of the smallest subnormal for <class 'numpy.float32'> type is zero.\n",
      "  return self._float_to_str(self.smallest_subnormal)\n"
     ]
    },
    {
     "data": {
      "application/vnd.jupyter.widget-view+json": {
       "model_id": "2fb006a24e9346268ff865c80fb42b00",
       "version_major": 2,
       "version_minor": 0
      },
      "text/plain": []
     },
     "metadata": {},
     "output_type": "display_data"
    }
   ],
   "source": [
    "# Generic Imports\n",
    "from collections import defaultdict\n",
    "import json\n",
    "\n",
    "# Logging\n",
    "import logging\n",
    "from polymerist.genutils.logutils.IOHandlers import LOG_FORMATTER\n",
    "\n",
    "logging.basicConfig(\n",
    "    level=logging.WARNING,\n",
    "    format =LOG_FORMATTER._fmt,\n",
    "    datefmt=LOG_FORMATTER.datefmt,\n",
    "    force=True\n",
    ")\n",
    "\n",
    "# File I/O\n",
    "from pathlib import Path\n",
    "from tqdm.notebook import tqdm\n",
    "from rich.progress import Progress, track # TODO : convert from tqdm\n",
    "\n",
    "# Cheminformatics\n",
    "from openff.toolkit.topology import Topology, Molecule\n",
    "\n",
    "# Static Paths\n",
    "MONO_DIR = Path('monomer_fragments')\n",
    "PDB_DIR  = Path('pdb_files/trimers')\n",
    "# PDB_DIR  = Path('pdb_files_new/pentamers')\n",
    "TOPO_DIR = Path('Topologies')\n",
    "TOPO_DIR.mkdir(exist_ok=True)"
   ]
  },
  {
   "cell_type": "markdown",
   "metadata": {},
   "source": [
    "## Obtaining complete PDB-monomer pairs for iteration"
   ]
  },
  {
   "cell_type": "code",
   "execution_count": 2,
   "metadata": {},
   "outputs": [],
   "source": [
    "chem_paths = defaultdict(defaultdict)\n",
    "\n",
    "for chem_mono in MONO_DIR.iterdir():\n",
    "    chemistry = chem_mono.stem\n",
    "    chem_pdb  = PDB_DIR / chemistry\n",
    "\n",
    "    has_pdb  = set(path.stem for path in chem_pdb.glob( '*.pdb'))\n",
    "    has_mono = set(path.stem for path in chem_mono.glob('*.json'))\n",
    "\n",
    "    for valid_mol_name in (has_pdb & has_mono):\n",
    "        pdb_path  = chem_pdb  / f'{valid_mol_name}.pdb'\n",
    "        mono_path = chem_mono / f'{valid_mol_name}.json'\n",
    "\n",
    "        chem_paths[chemistry][valid_mol_name] = (pdb_path, mono_path)"
   ]
  },
  {
   "cell_type": "code",
   "execution_count": 3,
   "metadata": {},
   "outputs": [],
   "source": [
    "# chem_paths = {\n",
    "#     k : paths\n",
    "#         for k, paths in chem_paths.items()\n",
    "#             if k == 'polyurethane_isocyanate'\n",
    "# }\n",
    "# chem_paths"
   ]
  },
  {
   "cell_type": "markdown",
   "metadata": {},
   "source": [
    "## Parameterizing and saving to SDF, recording mols where match fails"
   ]
  },
  {
   "cell_type": "code",
   "execution_count": 4,
   "metadata": {},
   "outputs": [
    {
     "data": {
      "application/vnd.jupyter.widget-view+json": {
       "model_id": "d7c9e4a19dd44354b777fa77a2ce405b",
       "version_major": 2,
       "version_minor": 0
      },
      "text/plain": [
       "  0%|          | 0/36 [00:00<?, ?it/s]"
      ]
     },
     "metadata": {},
     "output_type": "display_data"
    },
    {
     "name": "stderr",
     "output_type": "stream",
     "text": [
      "/home/timber/miniconda3/envs/polymerist-env/lib/python3.11/site-packages/dgl/heterograph.py:92: DGLWarning: Recommend creating graphs by `dgl.graph(data)` instead of `dgl.DGLGraph(data)`.\n",
      "  dgl_warning(\n"
     ]
    },
    {
     "data": {
      "application/vnd.jupyter.widget-view+json": {
       "model_id": "fdbf8634a2764f43b38da25075687696",
       "version_major": 2,
       "version_minor": 0
      },
      "text/plain": [
       "  0%|          | 0/46 [00:00<?, ?it/s]"
      ]
     },
     "metadata": {},
     "output_type": "display_data"
    },
    {
     "name": "stderr",
     "output_type": "stream",
     "text": [
      "Warning: Truncating title to 80 characters for poly(1-isocyanato-4-[(4-isocyanatophenyl)methyl]benzene-co-[6-(hydroxymethyl)pyridin-2-yl]methanol)\n",
      "Warning: Truncating title to 80 characters for poly(5-Isocyanato-1-(isocyanatomethyl)-1,3,3-trimethylcyclohexane-co-Butane-1,4-diol)\n",
      "Warning: Truncating title to 80 characters for poly(5-isocyanato-2-[4-[6-[4-(5-isocyanato-1,3-dioxoisoindol-2-yl)phenyl]-4-(4-phenylphenyl)pyridin-2-yl]phenyl]isoindole-1,3-dione-co-benzene-1,3-diol)\n",
      "Warning: Truncating title to 80 characters for poly(5-Isocyanato-1-(isocyanatomethyl)-1,3,3-trimethylcyclohexane-co-Ethane-1,2-diol)\n",
      "Warning: Truncating title to 80 characters for poly(1-isocyanato-4-[(4-isocyanatophenyl)methyl]benzene-co-4-[[4-[(4-hydroxyphenyl)iminomethyl]phenyl]methylideneamino]phenol)\n",
      "Warning: Truncating title to 80 characters for poly(5-Isocyanato-1-(isocyanatomethyl)-1,3,3-trimethylcyclohexane-co-Propane-1,3-diol)\n",
      "Warning: Truncating title to 80 characters for poly(5-Isocyanato-1-(isocyanatomethyl)-1,3,3-trimethylcyclohexane-co-2-[2-[2-(2-hydroxyethoxy)ethoxy]ethoxy]ethanol)\n",
      "Warning: Truncating title to 80 characters for poly(5-Isocyanato-1-(isocyanatomethyl)-1,3,3-trimethylcyclohexane-co-4-[[4-[(4-hydroxyphenyl)iminomethyl]phenyl]methylideneamino]phenol)\n",
      "Warning: Truncating title to 80 characters for poly(1-isocyanato-4-[(4-isocyanatophenyl)methyl]benzene-co-2-(dimethylaminomethyl)-2-methylpropane-1,3-diol)\n",
      "Warning: Truncating title to 80 characters for poly(5-Isocyanato-1-(isocyanatomethyl)-1,3,3-trimethylcyclohexane-co-[4-(hydroxymethyl)cyclohexyl]methanol)\n",
      "Warning: Truncating title to 80 characters for poly(1,6-Diisocyanatohexane-co-[8-(hydroxymethyl)-4-tricyclo[5.2.1.02,6]decanyl]methanol)\n",
      "Warning: Truncating title to 80 characters for poly(1,3-Bis(isocyanatomethyl)cyclohexane-co-[4-(hydroxymethyl)cyclohexyl]methanol)\n",
      "Warning: Truncating title to 80 characters for poly(1-isocyanato-4-[(4-isocyanatophenyl)methyl]benzene-co-2-(2-hydroxyethyl-phenylamino)ethanol)\n",
      "Warning: Truncating title to 80 characters for poly(5-Isocyanato-1-(isocyanatomethyl)-1,3,3-trimethylcyclohexane-co-[8-(hydroxymethyl)-4-tricyclo[5.2.1.02,6]decanyl]methanol)\n",
      "Warning: Truncating title to 80 characters for poly(1,3-Bis(isocyanatomethyl)cyclohexane-co-[8-(hydroxymethyl)-4-tricyclo[5.2.1.02,6]decanyl]methanol)\n",
      "Warning: Truncating title to 80 characters for poly(2,4-Diisocyanato-1-methylbenzene-co-6-[4-[4-(6-hydroxyhexoxy)phenyl]phenoxy]hexan-1-ol)\n",
      "Warning: Truncating title to 80 characters for poly(5-Isocyanato-1-(isocyanatomethyl)-1,3,3-trimethylcyclohexane-co-HEXANE-1,6-DIOL)\n",
      "Warning: Truncating title to 80 characters for poly(1,4-Diisocyanatocyclohexane-co-[8-(hydroxymethyl)-3-tricyclo[5.2.1.02,6]decanyl]methanol)\n"
     ]
    },
    {
     "data": {
      "application/vnd.jupyter.widget-view+json": {
       "model_id": "986f24557866451489449ea9b2bd2930",
       "version_major": 2,
       "version_minor": 0
      },
      "text/plain": [
       "  0%|          | 0/32 [00:00<?, ?it/s]"
      ]
     },
     "metadata": {},
     "output_type": "display_data"
    },
    {
     "name": "stderr",
     "output_type": "stream",
     "text": [
      "Warning: Truncating title to 80 characters for poly(4-[4-[4-[1-[4-[4-(4-aminophenyl)-2-(trifluoromethyl)phenoxy]phenyl]cyclohexyl]phenoxy]-3-(trifluoromethyl)phenyl]aniline-co-Benzene-1,3-dicarboxylic acid)\n",
      "Warning: Truncating title to 80 characters for poly(4-[4-[6'-[4-(4-aminophenyl)-2-(trifluoromethyl)phenoxy]spiro[fluorene-9,9'-xanthene]-3'-yl]oxy-3-(trifluoromethyl)phenyl]aniline-co-5-tert-butylbenzene-1,3-dicarboxylic acid)\n",
      "Warning: Truncating title to 80 characters for poly(4-[4-[2-[4-(4-aminophenoxy)phenyl]propan-2-yl]phenoxy]aniline-co-1-(4-carboxyphenyl)-1,3,3-trimethyl-2H-indene-5-carboxylic acid)\n",
      "Warning: Truncating title to 80 characters for poly(4-[4-[4-[1-[4-[4-(4-aminophenyl)-2-(trifluoromethyl)phenoxy]phenyl]cyclohexyl]phenoxy]-3-(trifluoromethyl)phenyl]aniline-co-naphthalene-2,6-dicarboxylic acid)\n",
      "Warning: Truncating title to 80 characters for poly(4-[4-[6'-[4-(4-aminophenyl)-2-(trifluoromethyl)phenoxy]spiro[fluorene-9,9'-xanthene]-3'-yl]oxy-3-(trifluoromethyl)phenyl]aniline-co-4-[2-(4-carboxyphenyl)-1,1,1,3,3,3-hexafluoropropan-2-yl]benzoic acid)\n",
      "Warning: Truncating title to 80 characters for poly(3,3-bis[4-[4-(4-aminophenyl)-2-(trifluoromethyl)phenoxy]phenyl]-2-phenylisoindol-1-one-co-Benzene-1,3-dicarboxylic acid)\n",
      "Warning: Truncating title to 80 characters for poly(4-[4-[4-[2-[4-[4-(4-aminophenyl)-2-(trifluoromethyl)phenoxy]phenyl]propan-2-yl]phenoxy]-3-(trifluoromethyl)phenyl]aniline-co-Benzene-1,3-dicarboxylic acid)\n",
      "Warning: Truncating title to 80 characters for poly(4-[4-amino-2-(trifluoromethyl)phenyl]-3-(trifluoromethyl)aniline-co-1-(4-carboxyphenyl)-1,3,3-trimethyl-2H-indene-5-carboxylic acid)\n",
      "Warning: Truncating title to 80 characters for poly(4-[4-[6'-[4-(4-aminophenyl)-2-(trifluoromethyl)phenoxy]spiro[fluorene-9,9'-xanthene]-3'-yl]oxy-3-(trifluoromethyl)phenyl]aniline-co-naphthalene-2,6-dicarboxylic acid)\n",
      "Warning: Truncating title to 80 characters for poly(naphthalene-1,5-diamine-co-1-(4-carboxyphenyl)-1,3,3-trimethyl-2H-indene-5-carboxylic acid)\n",
      "Warning: Truncating title to 80 characters for poly(1,5-bis(3-aminophenyl)penta-1,4-dien-3-one-co-Benzene-1,3-dicarboxylic acid)\n",
      "Warning: Truncating title to 80 characters for poly(benzene-1,3-diamine-co-1-(4-carboxyphenyl)-1,3,3-trimethyl-2H-indene-5-carboxylic acid)\n",
      "Warning: Truncating title to 80 characters for poly(4-[4-[4-[9-[4-[4-(4-aminophenyl)-2-(trifluoromethyl)phenoxy]phenyl]fluoren-9-yl]phenoxy]-3-(trifluoromethyl)phenyl]aniline-co-Benzene-1,3-dicarboxylic acid)\n",
      "Warning: Truncating title to 80 characters for poly(4-[4-[6'-[4-(4-aminophenyl)-2-(trifluoromethyl)phenoxy]spiro[fluorene-9,9'-xanthene]-3'-yl]oxy-3-(trifluoromethyl)phenyl]aniline-co-Terephthalic acid)\n",
      "Warning: Truncating title to 80 characters for poly(4-[4-[4-[1-[4-[4-(4-aminophenyl)-2-(trifluoromethyl)phenoxy]phenyl]cyclohexyl]phenoxy]-3-(trifluoromethyl)phenyl]aniline-co-Terephthalic acid)\n",
      "Warning: Truncating title to 80 characters for poly(4-[4-[4-[2-[4-[4-(4-aminophenyl)-2-(trifluoromethyl)phenoxy]phenyl]-1,1,1,3,3,3-hexafluoropropan-2-yl]phenoxy]-3-(trifluoromethyl)phenyl]aniline-co-Benzene-1,3-dicarboxylic acid)\n",
      "Warning: Truncating title to 80 characters for poly(4-[4-[4-[1-[4-[4-(4-aminophenyl)-2-(trifluoromethyl)phenoxy]phenyl]cyclohexyl]phenoxy]-3-(trifluoromethyl)phenyl]aniline-co-4-[2-(4-carboxyphenyl)-1,1,1,3,3,3-hexafluoropropan-2-yl]benzoic acid)\n",
      "Warning: Truncating title to 80 characters for poly(4-(4-amino-2-methylphenyl)-3-methylaniline-co-5-(3-carboxy-4-methoxycarbonylbenzoyl)-2-methoxycarbonylbenzoic acid)\n",
      "Warning: Truncating title to 80 characters for poly(4-[4-[4-[1-[4-[4-(4-aminophenyl)-2-(trifluoromethyl)phenoxy]phenyl]cyclohexyl]phenoxy]-3-(trifluoromethyl)phenyl]aniline-co-5-tert-butylbenzene-1,3-dicarboxylic acid)\n",
      "Warning: Truncating title to 80 characters for poly(4-[2-(4-aminophenyl)-1,1,1,3,3,3-hexafluoropropan-2-yl]aniline-co-1-(4-carboxyphenyl)-1,3,3-trimethyl-2H-indene-5-carboxylic acid)\n",
      "Warning: Truncating title to 80 characters for poly(benzene-1,4-diamine-co-1-(4-carboxyphenyl)-1,3,3-trimethyl-2H-indene-5-carboxylic acid)\n",
      "Warning: Truncating title to 80 characters for poly(4-(4-aminophenoxy)aniline-co-1-(4-carboxyphenyl)-1,3,3-trimethyl-2H-indene-5-carboxylic acid)\n",
      "Warning: Truncating title to 80 characters for poly(4-[4-[6'-[4-(4-aminophenyl)-2-(trifluoromethyl)phenoxy]spiro[fluorene-9,9'-xanthene]-3'-yl]oxy-3-(trifluoromethyl)phenyl]aniline-co-Benzene-1,3-dicarboxylic acid)\n"
     ]
    },
    {
     "data": {
      "application/vnd.jupyter.widget-view+json": {
       "model_id": "12c189473b2846db8abf891fe07784c5",
       "version_major": 2,
       "version_minor": 0
      },
      "text/plain": [
       "  0%|          | 0/26 [00:00<?, ?it/s]"
      ]
     },
     "metadata": {},
     "output_type": "display_data"
    },
    {
     "name": "stderr",
     "output_type": "stream",
     "text": [
      "Warning: Truncating title to 80 characters for poly(4-[6-(4-hydroxyphenyl)-6-bicyclo[2.2.1]heptanyl]phenol-co-Carbonyl dichloride)\n",
      "Warning: Truncating title to 80 characters for poly(4-[1,1,1,3,3,3-hexafluoro-2-(4-hydroxy-3,5-dimethylphenyl)propan-2-yl]-2,6-dimethylphenol-co-Carbonyl dichloride)\n",
      "Warning: Truncating title to 80 characters for poly(4-[2-(4-hydroxy-3-propan-2-ylphenyl)propan-2-yl]-2-propan-2-ylphenol-co-Carbonyl dichloride)\n",
      "Warning: Truncating title to 80 characters for poly(4-[1,1,1,3,3,3-hexafluoro-2-(4-hydroxyphenyl)propan-2-yl]phenol-co-Carbonyl dichloride)\n",
      "Warning: Truncating title to 80 characters for poly(4-[4-(4-hydroxy-3-methylphenyl)heptan-4-yl]-2-methylphenol-co-Carbonyl dichloride)\n",
      "Warning: Truncating title to 80 characters for poly(4-[1-(4-hydroxy-3-methylphenyl)cyclohexyl]-2-methylphenol-co-Carbonyl dichloride)\n",
      "Warning: Truncating title to 80 characters for poly(2,6-dibromo-4-[2-(3,5-dibromo-4-hydroxyphenyl)-1,1,1,3,3,3-hexafluoropropan-2-yl]phenol-co-Carbonyl dichloride)\n",
      "Warning: Truncating title to 80 characters for poly(1,1,1',1'-tetramethyl-3,3'-spirobi[2H-indene]-5,5'-diol-co-Carbonyl dichloride)\n",
      "Warning: Truncating title to 80 characters for poly(2,6-dibromo-4-[2-(3,5-dibromo-4-hydroxyphenyl)propan-2-yl]phenol-co-Carbonyl dichloride)\n",
      "Warning: Truncating title to 80 characters for poly(2-ethyl-4-[2-(3-ethyl-4-hydroxyphenyl)propan-2-yl]phenol-co-Carbonyl dichloride)\n",
      "Warning: Truncating title to 80 characters for poly(3,3,3',3'-tetramethyl-1,1'-spirobi[2H-indene]-5,5'-diol-co-Carbonyl dichloride)\n",
      "Warning: Truncating title to 80 characters for poly(4-[2-(4-hydroxy-3,5-dimethylphenyl)propan-2-yl]-2,6-dimethylphenol-co-Carbonyl dichloride)\n",
      "Warning: Truncating title to 80 characters for poly(2,6-dichloro-4-[2-(3,5-dichloro-4-hydroxyphenyl)propan-2-yl]phenol-co-Carbonyl dichloride)\n",
      "Warning: Truncating title to 80 characters for poly(4-[2-(4-hydroxy-3-methylphenyl)propan-2-yl]-2-methylphenol-co-Carbonyl dichloride)\n"
     ]
    }
   ],
   "source": [
    "from polymerist.openfftools import topology\n",
    "from polymerist.openfftools.pcharge import MolCharger\n",
    "\n",
    "from polymerist.monomers import MonomerGroup\n",
    "from polymerist.residues.partition import partition\n",
    "\n",
    "# catch annoying warnings\n",
    "import warnings \n",
    "from openff.toolkit.utils.exceptions import IncorrectNumConformersWarning\n",
    "warnings.catch_warnings(record=True)\n",
    "warnings.filterwarnings('ignore', category=IncorrectNumConformersWarning)\n",
    "\n",
    "group_blacklist = [\n",
    "    'poly(4-N-(4-aminophenyl)-4-N-[4-(2,4,6-tritert-butylphenoxy)phenyl]benzene-1,4-diamine' # for some reason, these compounds are unable to be parameterized in a reasonable amount of time\n",
    "]\n",
    "\n",
    "charge_method = 'Espaloma-AM1-BCC'\n",
    "charger = MolCharger.subclass_registry[charge_method]()\n",
    "\n",
    "unmatched_pdb_mols = defaultdict(defaultdict)\n",
    "num_successful = 0\n",
    "cancelled = defaultdict(list)\n",
    "for chemistry, path_dict in chem_paths.items():\n",
    "    chem_dir = TOPO_DIR / chemistry\n",
    "    chem_dir.mkdir(exist_ok=True)\n",
    "\n",
    "    progress = tqdm(path_dict.items())\n",
    "    for mol_name, (pdb_path, mono_path) in progress:\n",
    "        progress.set_description_str(f'{chemistry} : {mol_name}')\n",
    "        if any(group_name in mol_name for group_name in group_blacklist):\n",
    "            progress.set_postfix_str('Cancelled')\n",
    "            cancelled[chemistry].append(mol_name)\n",
    "            continue\n",
    "\n",
    "        try:\n",
    "            progress.set_postfix_str('Loading files')\n",
    "            monogrp = MonomerGroup.from_file(mono_path)\n",
    "            offtop = Topology.from_pdb(pdb_path, _custom_substructures=monogrp.monomers)\n",
    "            progress.set_postfix_str('Partitioning')\n",
    "            was_partitioned = partition(offtop)\n",
    "            assert(was_partitioned)\n",
    "\n",
    "            progress.set_postfix_str('Assigning Charges')\n",
    "            offmol = topology.get_largest_offmol(offtop)\n",
    "            offmol.name = mol_name\n",
    "            cmol = charger.charge_molecule(offmol)\n",
    "\n",
    "            progress.set_postfix_str('Saving SDF')\n",
    "            offtop = cmol.to_topology()\n",
    "            sdf_path = chem_dir / f'{mol_name}.sdf'\n",
    "            topology.topology_to_sdf(sdf_path, offtop)\n",
    "\n",
    "            num_successful += 1\n",
    "        except Exception as e:\n",
    "            print(f'{mol_name} : {e}')\n",
    "            unmatched_pdb_mols[str(e)][chemistry] = mol_name"
   ]
  },
  {
   "cell_type": "code",
   "execution_count": 5,
   "metadata": {},
   "outputs": [
    {
     "name": "stdout",
     "output_type": "stream",
     "text": [
      "135\n",
      "{'polyamide': ['poly(4-N-(4-aminophenyl)-4-N-[4-(2,4,6-tritert-butylphenoxy)phenyl]benzene-1,4-diamine-co-4-[2-(4-carboxyphenyl)-1,1,1,3,3,3-hexafluoropropan-2-yl]benzoic acid)', 'poly(4-N-(4-aminophenyl)-4-N-[4-(2,4,6-tritert-butylphenoxy)phenyl]benzene-1,4-diamine-co-naphthalene-2,6-dicarboxylic acid)', 'poly(4-N-(4-aminophenyl)-4-N-[4-(2,4,6-tritert-butylphenoxy)phenyl]benzene-1,4-diamine-co-5-propan-2-ylbenzene-1,3-dicarboxylic acid)', 'poly(4-N-(4-aminophenyl)-4-N-[4-(2,4,6-tritert-butylphenoxy)phenyl]benzene-1,4-diamine-co-Benzene-1,3-dicarboxylic acid)', 'poly(4-N-(4-aminophenyl)-4-N-[4-(2,4,6-tritert-butylphenoxy)phenyl]benzene-1,4-diamine-co-Terephthalic acid)']}\n"
     ]
    }
   ],
   "source": [
    "print(num_successful)\n",
    "print(dict(cancelled))"
   ]
  },
  {
   "cell_type": "code",
   "execution_count": null,
   "metadata": {},
   "outputs": [],
   "source": []
  }
 ],
 "metadata": {
  "kernelspec": {
   "display_name": "openff-dev-updated",
   "language": "python",
   "name": "python3"
  },
  "language_info": {
   "codemirror_mode": {
    "name": "ipython",
    "version": 3
   },
   "file_extension": ".py",
   "mimetype": "text/x-python",
   "name": "python",
   "nbconvert_exporter": "python",
   "pygments_lexer": "ipython3",
   "version": "3.11.5"
  },
  "orig_nbformat": 4
 },
 "nbformat": 4,
 "nbformat_minor": 2
}
