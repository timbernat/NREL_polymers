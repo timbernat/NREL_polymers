{
 "cells": [
  {
   "cell_type": "markdown",
   "metadata": {},
   "source": [
    "# For assigning chemical info and partial charges to PDB structures (saves to well-defined SDF files)"
   ]
  },
  {
   "cell_type": "markdown",
   "metadata": {},
   "source": [
    "## Imports"
   ]
  },
  {
   "cell_type": "code",
   "execution_count": 1,
   "metadata": {},
   "outputs": [
    {
     "name": "stderr",
     "output_type": "stream",
     "text": [
      "/home/timber/miniconda3/envs/polymerist-env/lib/python3.11/site-packages/numpy/core/getlimits.py:500: UserWarning: The value of the smallest subnormal for <class 'numpy.float64'> type is zero.\n",
      "  setattr(self, word, getattr(machar, word).flat[0])\n",
      "/home/timber/miniconda3/envs/polymerist-env/lib/python3.11/site-packages/numpy/core/getlimits.py:89: UserWarning: The value of the smallest subnormal for <class 'numpy.float64'> type is zero.\n",
      "  return self._float_to_str(self.smallest_subnormal)\n",
      "/home/timber/miniconda3/envs/polymerist-env/lib/python3.11/site-packages/numpy/core/getlimits.py:500: UserWarning: The value of the smallest subnormal for <class 'numpy.float32'> type is zero.\n",
      "  setattr(self, word, getattr(machar, word).flat[0])\n",
      "/home/timber/miniconda3/envs/polymerist-env/lib/python3.11/site-packages/numpy/core/getlimits.py:89: UserWarning: The value of the smallest subnormal for <class 'numpy.float32'> type is zero.\n",
      "  return self._float_to_str(self.smallest_subnormal)\n"
     ]
    },
    {
     "data": {
      "application/vnd.jupyter.widget-view+json": {
       "model_id": "6b807943edb34941bc8609fa73def454",
       "version_major": 2,
       "version_minor": 0
      },
      "text/plain": []
     },
     "metadata": {},
     "output_type": "display_data"
    }
   ],
   "source": [
    "# Generic Imports\n",
    "from collections import defaultdict\n",
    "\n",
    "# Logging\n",
    "import logging\n",
    "from polymerist.genutils.logutils.IOHandlers import LOG_FORMATTER\n",
    "\n",
    "logging.basicConfig(\n",
    "    level=logging.WARNING,\n",
    "    format =LOG_FORMATTER._fmt,\n",
    "    datefmt=LOG_FORMATTER.datefmt,\n",
    "    force=True\n",
    ")\n",
    "\n",
    "# File I/O\n",
    "from pathlib import Path\n",
    "from tqdm.notebook import tqdm\n",
    "from rich.progress import Progress, track # TODO : convert from tqdm\n",
    "\n",
    "# Cheminformatics\n",
    "from openff.toolkit.topology import Topology, Molecule\n",
    "\n",
    "# Static Paths\n",
    "MONO_DIR = Path('monomer_fragments')\n",
    "PDB_DIR  = Path('pdb_files_new/trimers')"
   ]
  },
  {
   "cell_type": "markdown",
   "metadata": {},
   "source": [
    "## Obtaining complete PDB-monomer pairs for iteration"
   ]
  },
  {
   "cell_type": "code",
   "execution_count": 2,
   "metadata": {},
   "outputs": [],
   "source": [
    "chem_paths = defaultdict(defaultdict)\n",
    "\n",
    "for chem_mono in MONO_DIR.iterdir():\n",
    "    chemistry = chem_mono.stem\n",
    "    chem_pdb  = PDB_DIR / chemistry\n",
    "\n",
    "    has_pdb  = set(path.stem for path in chem_pdb.glob( '*.pdb'))\n",
    "    has_mono = set(path.stem for path in chem_mono.glob('*.json'))\n",
    "\n",
    "    for valid_mol_name in (has_pdb & has_mono):\n",
    "        pdb_path  = chem_pdb  / f'{valid_mol_name}.pdb'\n",
    "        mono_path = chem_mono / f'{valid_mol_name}.json'\n",
    "\n",
    "        chem_paths[chemistry][valid_mol_name] = (pdb_path, mono_path)"
   ]
  },
  {
   "cell_type": "markdown",
   "metadata": {},
   "source": [
    "## Parameterizing and saving to SDF, recording mols where match fails"
   ]
  },
  {
   "cell_type": "code",
   "execution_count": 3,
   "metadata": {},
   "outputs": [
    {
     "data": {
      "application/vnd.jupyter.widget-view+json": {
       "model_id": "06c42203c9e24a7c96a527fa006eef11",
       "version_major": 2,
       "version_minor": 0
      },
      "text/plain": [
       "  0%|          | 0/36 [00:00<?, ?it/s]"
      ]
     },
     "metadata": {},
     "output_type": "display_data"
    },
    {
     "name": "stderr",
     "output_type": "stream",
     "text": [
      "/home/timber/miniconda3/envs/polymerist-env/lib/python3.11/site-packages/dgl/heterograph.py:92: DGLWarning: Recommend creating graphs by `dgl.graph(data)` instead of `dgl.DGLGraph(data)`.\n",
      "  dgl_warning(\n"
     ]
    },
    {
     "data": {
      "application/vnd.jupyter.widget-view+json": {
       "model_id": "30a195ff57bf4ee7a6027a5707efc405",
       "version_major": 2,
       "version_minor": 0
      },
      "text/plain": [
       "  0%|          | 0/3 [00:00<?, ?it/s]"
      ]
     },
     "metadata": {},
     "output_type": "display_data"
    },
    {
     "data": {
      "application/vnd.jupyter.widget-view+json": {
       "model_id": "4455ef2d7c354674bf89b5ab8ecac8e5",
       "version_major": 2,
       "version_minor": 0
      },
      "text/plain": [
       "  0%|          | 0/43 [00:00<?, ?it/s]"
      ]
     },
     "metadata": {},
     "output_type": "display_data"
    },
    {
     "name": "stderr",
     "output_type": "stream",
     "text": [
      "Warning: Truncating title to 80 characters for poly(4-[4-[4-[1-[4-[4-(4-aminophenyl)-2-(trifluoromethyl)phenoxy]phenyl]cyclohexyl]phenoxy]-3-(trifluoromethyl)phenyl]aniline,4-[2-(4-carboxyphenyl)-1,1,1,3,3,3-hexafluoropropan-2-yl]benzoic acid)\n",
      "Warning: Truncating title to 80 characters for poly(4-[4-[6'-[4-(4-aminophenyl)-2-(trifluoromethyl)phenoxy]spiro[fluorene-9,9'-xanthene]-3'-yl]oxy-3-(trifluoromethyl)phenyl]aniline,terephthalic acid)\n",
      "Warning: Truncating title to 80 characters for poly(4-[4-[6'-[4-(4-aminophenyl)-2-(trifluoromethyl)phenoxy]spiro[fluorene-9,9'-xanthene]-3'-yl]oxy-3-(trifluoromethyl)phenyl]aniline,5-tert-butylbenzene-1,3-dicarboxylic acid)\n",
      "Warning: Truncating title to 80 characters for poly(3,3-bis[4-[4-(4-aminophenyl)-2-(trifluoromethyl)phenoxy]phenyl]-2-phenylisoindol-1-one,4-[4-[2-[4-(3,4-dicarboxyphenoxy)phenyl]propan-2-yl]phenoxy]phthalic acid)\n",
      "Warning: Truncating title to 80 characters for poly(3,3-bis[4-[4-(4-aminophenyl)-2-(trifluoromethyl)phenoxy]phenyl]-2-phenylisoindol-1-one,4-[2-(3,4-dicarboxyphenyl)-1,1,1,3,3,3-hexafluoropropan-2-yl]phthalic acid)\n",
      "Warning: Truncating title to 80 characters for poly(4-[4-[4-[6-[4-(4-aminophenyl)-2-(trifluoromethyl)phenoxy]-1,3,3-trimethyl-2H-inden-1-yl]phenoxy]-3-(trifluoromethyl)phenyl]aniline,4-[2-(3,4-dicarboxyphenyl)-1,1,1,3,3,3-hexafluoropropan-2-yl]phthalic acid)\n",
      "Warning: Truncating title to 80 characters for poly(4-[4-[4-[1-[4-[4-(4-aminophenyl)-2-(trifluoromethyl)phenoxy]phenyl]cyclohexyl]phenoxy]-3-(trifluoromethyl)phenyl]aniline,naphthalene-2,6-dicarboxylic acid)\n",
      "Warning: Truncating title to 80 characters for poly(4-(4-aminophenoxy)aniline,1-(4-carboxyphenyl)-1,3,3-trimethyl-2H-indene-5-carboxylic acid)\n",
      "Warning: Truncating title to 80 characters for poly(4-[4-amino-2-(trifluoromethyl)phenyl]-3-(trifluoromethyl)aniline,1-(4-carboxyphenyl)-1,3,3-trimethyl-2H-indene-5-carboxylic acid)\n",
      "Warning: Truncating title to 80 characters for poly(2-amino-5-(4-amino-3-hydroxyphenyl)phenol,4-[2-(3,4-dicarboxyphenyl)-1,1,1,3,3,3-hexafluoropropan-2-yl]phthalic acid)\n",
      "Warning: Truncating title to 80 characters for poly(benzene-1,4-diamine,1-(4-carboxyphenyl)-1,3,3-trimethyl-2H-indene-5-carboxylic acid)\n",
      "Warning: Truncating title to 80 characters for poly(3,3-bis[4-[4-(4-aminophenyl)-2-(trifluoromethyl)phenoxy]phenyl]-2-phenylisoindol-1-one,benzene-1,3-dicarboxylic acid)\n",
      "Warning: Truncating title to 80 characters for poly(3,3-bis[4-[4-(4-aminophenyl)-2-(trifluoromethyl)phenoxy]phenyl]-2-phenylisoindol-1-one,benzene-1,2,4,5-tetracarboxylic acid)\n",
      "Warning: Truncating title to 80 characters for poly(4-[4-[6'-[4-(4-aminophenyl)-2-(trifluoromethyl)phenoxy]spiro[fluorene-9,9'-xanthene]-3'-yl]oxy-3-(trifluoromethyl)phenyl]aniline,benzene-1,3-dicarboxylic acid)\n",
      "Warning: Truncating title to 80 characters for poly(4-[4-[4-[6-[4-(4-aminophenyl)-2-(trifluoromethyl)phenoxy]-1,3,3-trimethyl-2H-inden-1-yl]phenoxy]-3-(trifluoromethyl)phenyl]aniline,benzene-1,2,4,5-tetracarboxylic acid)\n",
      "Warning: Truncating title to 80 characters for poly(4-[4-[4-[6-[4-(4-aminophenyl)-2-(trifluoromethyl)phenoxy]-1,3,3-trimethyl-2H-inden-1-yl]phenoxy]-3-(trifluoromethyl)phenyl]aniline,4-(3,4-dicarboxybenzoyl)phthalic acid)\n",
      "Warning: Truncating title to 80 characters for poly(benzene-1,3-diamine,1-(4-carboxyphenyl)-1,3,3-trimethyl-2H-indene-5-carboxylic acid)\n",
      "Warning: Truncating title to 80 characters for poly(4-[4-[6'-[4-(4-aminophenyl)-2-(trifluoromethyl)phenoxy]spiro[fluorene-9,9'-xanthene]-3'-yl]oxy-3-(trifluoromethyl)phenyl]aniline,4-[2-(4-carboxyphenyl)-1,1,1,3,3,3-hexafluoropropan-2-yl]benzoic acid)\n",
      "Warning: Truncating title to 80 characters for poly(4-[4-[4-[6-[4-(4-aminophenyl)-2-(trifluoromethyl)phenoxy]-1,3,3-trimethyl-2H-inden-1-yl]phenoxy]-3-(trifluoromethyl)phenyl]aniline,4-(3,4-dicarboxyphenoxy)phthalic acid)\n",
      "Warning: Truncating title to 80 characters for poly(4-[4-[2-[4-(4-aminophenoxy)phenyl]propan-2-yl]phenoxy]aniline,1-(4-carboxyphenyl)-1,3,3-trimethyl-2H-indene-5-carboxylic acid)\n",
      "Warning: Truncating title to 80 characters for poly(3,3-bis[4-[4-(4-aminophenyl)-2-(trifluoromethyl)phenoxy]phenyl]-2-phenylisoindol-1-one,4-(3,4-dicarboxyphenoxy)phthalic acid)\n",
      "Warning: Truncating title to 80 characters for poly(4-[4-[4-[6-[4-(4-aminophenyl)-2-(trifluoromethyl)phenoxy]-1,3,3-trimethyl-2H-inden-1-yl]phenoxy]-3-(trifluoromethyl)phenyl]aniline,4-[4-[2-[4-(3,4-dicarboxyphenoxy)phenyl]propan-2-yl]phenoxy]phthalic acid)\n",
      "Warning: Truncating title to 80 characters for poly(4-(4-amino-2-methylphenyl)-3-methylaniline,5-(3-carboxy-4-methoxycarbonylbenzoyl)-2-methoxycarbonylbenzoic acid)\n",
      "Warning: Truncating title to 80 characters for poly(4-[4-[4-[9-[4-[4-(4-aminophenyl)-2-(trifluoromethyl)phenoxy]phenyl]fluoren-9-yl]phenoxy]-3-(trifluoromethyl)phenyl]aniline,benzene-1,3-dicarboxylic acid)\n",
      "Warning: Truncating title to 80 characters for poly(4-[4-[4-[1-[4-[4-(4-aminophenyl)-2-(trifluoromethyl)phenoxy]phenyl]cyclohexyl]phenoxy]-3-(trifluoromethyl)phenyl]aniline,benzene-1,3-dicarboxylic acid)\n",
      "Warning: Truncating title to 80 characters for poly(4-[4-[4-[1-[4-[4-(4-aminophenyl)-2-(trifluoromethyl)phenoxy]phenyl]cyclohexyl]phenoxy]-3-(trifluoromethyl)phenyl]aniline,5-tert-butylbenzene-1,3-dicarboxylic acid)\n",
      "Warning: Truncating title to 80 characters for poly(4-[4-[4-[2-[4-[4-(4-aminophenyl)-2-(trifluoromethyl)phenoxy]phenyl]propan-2-yl]phenoxy]-3-(trifluoromethyl)phenyl]aniline,benzene-1,3-dicarboxylic acid)\n",
      "Warning: Truncating title to 80 characters for poly(4-[4-[4-[2-[4-[4-(4-aminophenyl)-2-(trifluoromethyl)phenoxy]phenyl]-1,1,1,3,3,3-hexafluoropropan-2-yl]phenoxy]-3-(trifluoromethyl)phenyl]aniline,benzene-1,3-dicarboxylic acid)\n",
      "Warning: Truncating title to 80 characters for poly(4-[2-(4-aminophenyl)-1,1,1,3,3,3-hexafluoropropan-2-yl]aniline,1-(4-carboxyphenyl)-1,3,3-trimethyl-2H-indene-5-carboxylic acid)\n",
      "Warning: Truncating title to 80 characters for poly(4-[4-[6'-[4-(4-aminophenyl)-2-(trifluoromethyl)phenoxy]spiro[fluorene-9,9'-xanthene]-3'-yl]oxy-3-(trifluoromethyl)phenyl]aniline,naphthalene-2,6-dicarboxylic acid)\n",
      "Warning: Truncating title to 80 characters for poly(naphthalene-1,5-diamine,1-(4-carboxyphenyl)-1,3,3-trimethyl-2H-indene-5-carboxylic acid)\n",
      "Warning: Truncating title to 80 characters for poly(3,3-bis[4-[4-(4-aminophenyl)-2-(trifluoromethyl)phenoxy]phenyl]-2-phenylisoindol-1-one,4-(3,4-dicarboxybenzoyl)phthalic acid)\n",
      "Warning: Truncating title to 80 characters for poly(4-[4-[4-[1-[4-[4-(4-aminophenyl)-2-(trifluoromethyl)phenoxy]phenyl]cyclohexyl]phenoxy]-3-(trifluoromethyl)phenyl]aniline,terephthalic acid)\n"
     ]
    },
    {
     "data": {
      "application/vnd.jupyter.widget-view+json": {
       "model_id": "5329c68b8d69444282c50f2deb53ec59",
       "version_major": 2,
       "version_minor": 0
      },
      "text/plain": [
       "  0%|          | 0/26 [00:00<?, ?it/s]"
      ]
     },
     "metadata": {},
     "output_type": "display_data"
    },
    {
     "name": "stderr",
     "output_type": "stream",
     "text": [
      "Warning: Truncating title to 80 characters for poly(2,6-dichloro-4-[2-(3,5-dichloro-4-hydroxyphenyl)propan-2-yl]phenol,carbonyl dichloride)\n",
      "Warning: Truncating title to 80 characters for poly(2,6-dibromo-4-[2-(3,5-dibromo-4-hydroxyphenyl)propan-2-yl]phenol,carbonyl dichloride)\n",
      "Warning: Truncating title to 80 characters for poly(2,6-dibromo-4-[2-(3,5-dibromo-4-hydroxyphenyl)-1,1,1,3,3,3-hexafluoropropan-2-yl]phenol,carbonyl dichloride)\n",
      "Warning: Truncating title to 80 characters for poly(4-[1,1,1,3,3,3-hexafluoro-2-(4-hydroxyphenyl)propan-2-yl]phenol,carbonyl dichloride)\n",
      "Warning: Truncating title to 80 characters for poly(3,3,3',3'-tetramethyl-1,1'-spirobi[2H-indene]-5,5'-diol,carbonyl dichloride)\n",
      "Warning: Truncating title to 80 characters for poly(2-ethyl-4-[2-(3-ethyl-4-hydroxyphenyl)propan-2-yl]phenol,carbonyl dichloride)\n",
      "Warning: Truncating title to 80 characters for poly(4-[1,1,1,3,3,3-hexafluoro-2-(4-hydroxy-3,5-dimethylphenyl)propan-2-yl]-2,6-dimethylphenol,carbonyl dichloride)\n",
      "Warning: Truncating title to 80 characters for poly(1,1,1',1'-tetramethyl-3,3'-spirobi[2H-indene]-5,5'-diol,carbonyl dichloride)\n",
      "Warning: Truncating title to 80 characters for poly(4-[2-(4-hydroxy-3,5-dimethylphenyl)propan-2-yl]-2,6-dimethylphenol,carbonyl dichloride)\n",
      "Warning: Truncating title to 80 characters for poly(4-[2-(4-hydroxy-3-propan-2-ylphenyl)propan-2-yl]-2-propan-2-ylphenol,carbonyl dichloride)\n",
      "Warning: Truncating title to 80 characters for poly(4-[1-(4-hydroxy-3-methylphenyl)cyclohexyl]-2-methylphenol,carbonyl dichloride)\n",
      "Warning: Truncating title to 80 characters for poly(4-[4-(4-hydroxy-3-methylphenyl)heptan-4-yl]-2-methylphenol,carbonyl dichloride)\n",
      "Warning: Truncating title to 80 characters for poly(4-[2-(4-hydroxy-3-methylphenyl)propan-2-yl]-2-methylphenol,carbonyl dichloride)\n"
     ]
    }
   ],
   "source": [
    "from polymerist.openfftools import topology\n",
    "from polymerist.openfftools.pcharge import MolCharger\n",
    "\n",
    "from polymerist.monomers import MonomerGroup\n",
    "from polymerist.residues.partition import partition\n",
    "\n",
    "# catch annoying warnings\n",
    "import warnings \n",
    "from openff.toolkit.utils.exceptions import IncorrectNumConformersWarning\n",
    "warnings.catch_warnings(record=True)\n",
    "warnings.filterwarnings('ignore', category=IncorrectNumConformersWarning)\n",
    "\n",
    "group_blacklist = [\n",
    "    'poly(4-N-(4-aminophenyl)-4-N-[4-(2,4,6-tritert-butylphenoxy)phenyl]benzene-1,4-diamine' # for some reason, these compounds are unable to be parameterized in a reasonable amount of time\n",
    "]\n",
    "\n",
    "\n",
    "topo_dir = Path('Topologies_new')\n",
    "topo_dir.mkdir(exist_ok=True)\n",
    "\n",
    "charge_method = 'Espaloma-AM1-BCC'\n",
    "charger = MolCharger.subclass_registry[charge_method]()\n",
    "\n",
    "\n",
    "unmatched_pdb_mols = defaultdict(defaultdict)\n",
    "cancelled = defaultdict(list)\n",
    "for chemistry, path_dict in chem_paths.items():\n",
    "    chem_dir = topo_dir / chemistry\n",
    "    chem_dir.mkdir(exist_ok=True)\n",
    "\n",
    "    progress = tqdm(path_dict.items())\n",
    "    for mol_name, (pdb_path, mono_path) in progress:\n",
    "        progress.set_description_str(f'{chemistry} : {mol_name}')\n",
    "        if any(group_name in mol_name for group_name in group_blacklist):\n",
    "            progress.set_postfix_str('Cancelled')\n",
    "            cancelled[chemistry].append(mol_name)\n",
    "            continue\n",
    "\n",
    "        try:\n",
    "            progress.set_postfix_str('Loading files')\n",
    "            monogrp = MonomerGroup.from_file(mono_path)\n",
    "            offtop = Topology.from_pdb(pdb_path, _custom_substructures=monogrp.monomers)\n",
    "            progress.set_postfix_str('Partitioning')\n",
    "            was_partitioned = partition(offtop)\n",
    "            assert(was_partitioned)\n",
    "\n",
    "            progress.set_postfix_str('Assigning Charges')\n",
    "            offmol = topology.get_largest_offmol(offtop)\n",
    "            offmol.name = mol_name\n",
    "            cmol = charger.charge_molecule(offmol)\n",
    "\n",
    "            progress.set_postfix_str('Saving SDF')\n",
    "            offtop = cmol.to_topology()\n",
    "            sdf_path = chem_dir / f'{mol_name}.sdf'\n",
    "            topology.topology_to_sdf(sdf_path, offtop)\n",
    "        except Exception as e:\n",
    "            print(f'{mol_name} : {e}')\n",
    "            unmatched_pdb_mols[str(e)][chemistry] = mol_name"
   ]
  },
  {
   "cell_type": "code",
   "execution_count": null,
   "metadata": {},
   "outputs": [],
   "source": [
    "unmatched_pdb_mols"
   ]
  },
  {
   "cell_type": "markdown",
   "metadata": {},
   "source": [
    "## Probing PDB mismatches"
   ]
  },
  {
   "cell_type": "code",
   "execution_count": null,
   "metadata": {},
   "outputs": [],
   "source": [
    "unmatched_pdb_mols['urethane']['urethane_13']"
   ]
  },
  {
   "cell_type": "code",
   "execution_count": null,
   "metadata": {},
   "outputs": [],
   "source": [
    "for mol_name, mol in unmatched_pdb_mols['urethane'].items():\n",
    "    mol.name = mol_name\n",
    "\n",
    "mols_by_len = sorted(unmatched_pdb_mols['urethane'].values(), key=lambda mol : mol.n_atoms)"
   ]
  },
  {
   "cell_type": "code",
   "execution_count": null,
   "metadata": {},
   "outputs": [],
   "source": [
    "mol = mols_by_len[-1]\n",
    "\n",
    "rdmol = mol.to_rdkit()\n",
    "for i, atom in enumerate(mol.atoms):\n",
    "    if not atom.metadata['already_matched']:\n",
    "        print(atom.metadata)\n",
    "        rdmol.GetAtomWithIdx(i).SetProp('atomNote', 'unmatched')\n",
    "\n",
    "display(rdmol)"
   ]
  },
  {
   "cell_type": "code",
   "execution_count": null,
   "metadata": {},
   "outputs": [],
   "source": []
  }
 ],
 "metadata": {
  "kernelspec": {
   "display_name": "openff-dev-updated",
   "language": "python",
   "name": "python3"
  },
  "language_info": {
   "codemirror_mode": {
    "name": "ipython",
    "version": 3
   },
   "file_extension": ".py",
   "mimetype": "text/x-python",
   "name": "python",
   "nbconvert_exporter": "python",
   "pygments_lexer": "ipython3",
   "version": "3.11.5"
  },
  "orig_nbformat": 4
 },
 "nbformat": 4,
 "nbformat_minor": 2
}
