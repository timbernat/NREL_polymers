{
 "cells": [
  {
   "cell_type": "markdown",
   "metadata": {},
   "source": [
    "# For assigning chemical info and partial charges to PDB structures (saves to well-defined SDF files)"
   ]
  },
  {
   "cell_type": "markdown",
   "metadata": {},
   "source": [
    "## Imports"
   ]
  },
  {
   "cell_type": "code",
   "execution_count": 1,
   "metadata": {},
   "outputs": [],
   "source": [
    "# Generic Imports\n",
    "from collections import defaultdict\n",
    "\n",
    "# File I/O\n",
    "from pathlib import Path\n",
    "from tqdm.notebook import tqdm\n",
    "\n",
    "# Cheminformatics\n",
    "from openff.toolkit.topology import Topology, Molecule\n",
    "\n",
    "# Static Paths\n",
    "MONO_DIR = Path('monomer_files')\n",
    "PDB_DIR  = Path('pdb_files')"
   ]
  },
  {
   "cell_type": "markdown",
   "metadata": {},
   "source": [
    "## Chemistries"
   ]
  },
  {
   "cell_type": "code",
   "execution_count": 2,
   "metadata": {},
   "outputs": [],
   "source": [
    "# defining reacting functional groups\n",
    "reaction_pairs = {\n",
    "    'NIPU' : ('cyclocarbonate', 'amine'),\n",
    "    'urethane' : ('isocyanate', 'hydroxyl')\n",
    "}\n",
    "# chemistries = ('urethane', 'NIPU')\n",
    "chemistries = [i for i in reaction_pairs.keys()]"
   ]
  },
  {
   "cell_type": "markdown",
   "metadata": {},
   "source": [
    "## Obtaining complete PDB-monomer pairs for iteration"
   ]
  },
  {
   "cell_type": "code",
   "execution_count": 3,
   "metadata": {},
   "outputs": [],
   "source": [
    "chem_paths = defaultdict(defaultdict)\n",
    "for chemistry in chemistries:\n",
    "    chem_pdb  = PDB_DIR / chemistry\n",
    "    chem_mono = MONO_DIR / chemistry\n",
    "\n",
    "    has_pdb  = set(path.stem for path in chem_pdb.glob( '*.pdb'))\n",
    "    has_mono = set(path.stem for path in chem_mono.glob('*.json'))\n",
    "\n",
    "    for valid_mol_name in (has_pdb & has_mono):\n",
    "        pdb_path  = chem_pdb  / f'{valid_mol_name}.pdb'\n",
    "        mono_path = chem_mono / f'{valid_mol_name}.json'\n",
    "\n",
    "        chem_paths[chemistry][valid_mol_name] = (pdb_path, mono_path)"
   ]
  },
  {
   "cell_type": "markdown",
   "metadata": {},
   "source": [
    "## Paramaterizing and saving to SDF, recording mols where match fails"
   ]
  },
  {
   "cell_type": "code",
   "execution_count": 6,
   "metadata": {},
   "outputs": [
    {
     "data": {
      "application/vnd.jupyter.widget-view+json": {
       "model_id": "00cc31e3cbcd4db7b3434eb9a32877bc",
       "version_major": 2,
       "version_minor": 0
      },
      "text/plain": [
       "  0%|          | 0/6 [00:00<?, ?it/s]"
      ]
     },
     "metadata": {},
     "output_type": "display_data"
    },
    {
     "name": "stderr",
     "output_type": "stream",
     "text": [
      "/home/timber/miniconda3/envs/polymerist_env/lib/python3.11/site-packages/dgl/heterograph.py:92: DGLWarning: Recommend creating graphs by `dgl.graph(data)` instead of `dgl.DGLGraph(data)`.\n",
      "  dgl_warning(\n"
     ]
    },
    {
     "data": {
      "application/vnd.jupyter.widget-view+json": {
       "model_id": "4df45d20f5364a408a3ae64159b193eb",
       "version_major": 2,
       "version_minor": 0
      },
      "text/plain": [
       "  0%|          | 0/63 [00:00<?, ?it/s]"
      ]
     },
     "metadata": {},
     "output_type": "display_data"
    }
   ],
   "source": [
    "from polymerist.openfftools import topology\n",
    "from polymerist.openfftools.pcharge import MolCharger\n",
    "\n",
    "from polymerist.monomers import MonomerGroup\n",
    "from polymerist.residues.partition import partition\n",
    "\n",
    "# catch annoying warnings\n",
    "import warnings \n",
    "from openff.toolkit.utils.exceptions import IncorrectNumConformersWarning\n",
    "warnings.catch_warnings(record=True)\n",
    "warnings.filterwarnings('ignore', category=IncorrectNumConformersWarning)\n",
    "\n",
    "\n",
    "topo_dir = Path('Topologies')\n",
    "topo_dir.mkdir(exist_ok=True)\n",
    "\n",
    "charge_method = 'Espaloma-AM1-BCC'\n",
    "charger = MolCharger.subclass_registry[charge_method]()\n",
    "\n",
    "\n",
    "unmatched_pdb_mols = defaultdict(defaultdict)\n",
    "for chemistry, path_dict in chem_paths.items():\n",
    "    chem_dir = topo_dir / chemistry\n",
    "    chem_dir.mkdir(exist_ok=True)\n",
    "\n",
    "    progress = tqdm(path_dict.items())\n",
    "    for mol_name, (pdb_path, mono_path) in progress:\n",
    "        progress.set_description_str(f'{chemistry} : {mol_name}')\n",
    "        try:\n",
    "            progress.set_postfix_str('Loading files')\n",
    "            monogrp = MonomerGroup.from_file(mono_path)\n",
    "            offtop = Topology.from_pdb(pdb_path, _custom_substructures=monogrp.monomers)\n",
    "            progress.set_postfix_str('Partitioning')\n",
    "            was_partitioned = partition(offtop)\n",
    "            assert(was_partitioned)\n",
    "\n",
    "            progress.set_postfix_str('Assigning Charges')\n",
    "            offmol = topology.get_largest_offmol(offtop)\n",
    "            offmol.name = mol_name\n",
    "            cmol = charger.charge_molecule(offmol)\n",
    "\n",
    "            progress.set_postfix_str('Saving SDF')\n",
    "            offtop = cmol.to_topology()\n",
    "            sdf_path = chem_dir / f'{mol_name}.sdf'\n",
    "            topology.topology_to_sdf(sdf_path, offtop)\n",
    "        except Exception as e:\n",
    "            print(f'{mol_name} : {e}')\n",
    "\n",
    "        # except UnmatchedAtomsError:\n",
    "        #     offtop_unmatched, *_ = Topology.from_pdb_and_monomer_info(\n",
    "        #         str(pdb_path),\n",
    "        #         monomer_info_json=mono_path,\n",
    "        #         strict=False,\n",
    "        #         verbose=False\n",
    "        #     )\n",
    "        #     offmol_unmatched = next(offtop_unmatched.molecules)\n",
    "        #     unmatched_pdb_mols[chemistry][mol_name] = offmol_unmatched\n"
   ]
  },
  {
   "cell_type": "markdown",
   "metadata": {},
   "source": [
    "## Probing PDB mismatches"
   ]
  },
  {
   "cell_type": "code",
   "execution_count": 5,
   "metadata": {},
   "outputs": [
    {
     "ename": "KeyError",
     "evalue": "'urethane_13'",
     "output_type": "error",
     "traceback": [
      "\u001b[0;31m---------------------------------------------------------------------------\u001b[0m",
      "\u001b[0;31mKeyError\u001b[0m                                  Traceback (most recent call last)",
      "\u001b[1;32m/home/timber/Documents/Python/NREL_polymers/param_topologies.ipynb Cell 12\u001b[0m line \u001b[0;36m1\n\u001b[0;32m----> <a href='vscode-notebook-cell:/home/timber/Documents/Python/NREL_polymers/param_topologies.ipynb#X15sZmlsZQ%3D%3D?line=0'>1</a>\u001b[0m unmatched_pdb_mols[\u001b[39m'\u001b[39;49m\u001b[39murethane\u001b[39;49m\u001b[39m'\u001b[39;49m][\u001b[39m'\u001b[39;49m\u001b[39murethane_13\u001b[39;49m\u001b[39m'\u001b[39;49m]\n",
      "\u001b[0;31mKeyError\u001b[0m: 'urethane_13'"
     ]
    }
   ],
   "source": [
    "unmatched_pdb_mols['urethane']['urethane_13']"
   ]
  },
  {
   "cell_type": "code",
   "execution_count": null,
   "metadata": {},
   "outputs": [],
   "source": [
    "for mol_name, mol in unmatched_pdb_mols['urethane'].items():\n",
    "    mol.name = mol_name\n",
    "\n",
    "mols_by_len = sorted(unmatched_pdb_mols['urethane'].values(), key=lambda mol : mol.n_atoms)"
   ]
  },
  {
   "cell_type": "code",
   "execution_count": null,
   "metadata": {},
   "outputs": [],
   "source": [
    "mol = mols_by_len[-1]\n",
    "\n",
    "rdmol = mol.to_rdkit()\n",
    "for i, atom in enumerate(mol.atoms):\n",
    "    if not atom.metadata['already_matched']:\n",
    "        print(atom.metadata)\n",
    "        rdmol.GetAtomWithIdx(i).SetProp('atomNote', 'unmatched')\n",
    "\n",
    "display(rdmol)"
   ]
  }
 ],
 "metadata": {
  "kernelspec": {
   "display_name": "openff-dev-updated",
   "language": "python",
   "name": "python3"
  },
  "language_info": {
   "codemirror_mode": {
    "name": "ipython",
    "version": 3
   },
   "file_extension": ".py",
   "mimetype": "text/x-python",
   "name": "python",
   "nbconvert_exporter": "python",
   "pygments_lexer": "ipython3",
   "version": "3.11.5"
  },
  "orig_nbformat": 4
 },
 "nbformat": 4,
 "nbformat_minor": 2
}
