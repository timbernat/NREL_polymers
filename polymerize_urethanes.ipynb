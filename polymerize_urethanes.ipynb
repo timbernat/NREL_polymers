{
 "cells": [
  {
   "cell_type": "markdown",
   "metadata": {},
   "source": [
    "# Imports"
   ]
  },
  {
   "cell_type": "code",
   "execution_count": 1,
   "metadata": {},
   "outputs": [
    {
     "name": "stderr",
     "output_type": "stream",
     "text": [
      "INFO:numexpr.utils:Note: NumExpr detected 20 cores but \"NUMEXPR_MAX_THREADS\" not set, so enforcing safe limit of 8.\n",
      "INFO:numexpr.utils:NumExpr defaulting to 8 threads.\n",
      "INFO:rdkit:Enabling RDKit 2023.03.3 jupyter extensions\n"
     ]
    }
   ],
   "source": [
    "## Logging and Shell\n",
    "import logging\n",
    "logging.basicConfig(\n",
    "    level=logging.INFO,\n",
    "    force=True\n",
    ")\n",
    "\n",
    "## Numeric imports\n",
    "import pandas as pd\n",
    "\n",
    "## File I/O\n",
    "from pathlib import Path\n",
    "import json\n",
    "\n",
    "## Cheminformatics\n",
    "from rdkit import Chem"
   ]
  },
  {
   "cell_type": "markdown",
   "metadata": {},
   "source": [
    "# Param input"
   ]
  },
  {
   "cell_type": "code",
   "execution_count": 2,
   "metadata": {},
   "outputs": [],
   "source": [
    "mono_data_path : Path = Path('processed_monomer_data') / 'clean_smarts_digroup.csv'\n",
    "rxn_mech_dir   : Path = Path('rxn_smarts')\n",
    "\n",
    "rxns_from_smarts : bool = True#False"
   ]
  },
  {
   "cell_type": "markdown",
   "metadata": {},
   "source": [
    "## Load processed monomer starting structures"
   ]
  },
  {
   "cell_type": "code",
   "execution_count": 3,
   "metadata": {},
   "outputs": [
    {
     "name": "stderr",
     "output_type": "stream",
     "text": [
      "INFO:root:Loading processed data from clean_smarts_digroup\n"
     ]
    }
   ],
   "source": [
    "logging.info(f'Loading processed data from {mono_data_path.stem}')\n",
    "digroup_table = pd.read_csv(mono_data_path, index_col=[0])\n",
    "tables_by_chem = {\n",
    "    chemistry : digroup_table[digroup_table['Chemistry'] == chemistry].dropna(axis=1).reset_index(drop=True)\n",
    "        for chemistry in set(digroup_table['Chemistry'])\n",
    "}"
   ]
  },
  {
   "cell_type": "code",
   "execution_count": 4,
   "metadata": {},
   "outputs": [
    {
     "data": {
      "text/html": [
       "<div>\n",
       "<style scoped>\n",
       "    .dataframe tbody tr th:only-of-type {\n",
       "        vertical-align: middle;\n",
       "    }\n",
       "\n",
       "    .dataframe tbody tr th {\n",
       "        vertical-align: top;\n",
       "    }\n",
       "\n",
       "    .dataframe thead th {\n",
       "        text-align: right;\n",
       "    }\n",
       "</style>\n",
       "<table border=\"1\" class=\"dataframe\">\n",
       "  <thead>\n",
       "    <tr style=\"text-align: right;\">\n",
       "      <th></th>\n",
       "      <th>Chemistry</th>\n",
       "      <th>amine</th>\n",
       "      <th>cyclocarbonate</th>\n",
       "      <th>hydroxyl</th>\n",
       "      <th>isocyanate</th>\n",
       "    </tr>\n",
       "  </thead>\n",
       "  <tbody>\n",
       "    <tr>\n",
       "      <th>0</th>\n",
       "      <td>NIPU</td>\n",
       "      <td>[#7](-[#6](-[#6](-[#6](-[#6](-[#7](-[H])-[H])(...</td>\n",
       "      <td>[#6](-[#6](-[#6](-[#6](-[#6](-[#6](-[#6](-[#6]...</td>\n",
       "      <td>NaN</td>\n",
       "      <td>NaN</td>\n",
       "    </tr>\n",
       "    <tr>\n",
       "      <th>1</th>\n",
       "      <td>NIPU</td>\n",
       "      <td>[#7](-[#6](-[#6](-[#6](-[#7](-[#6](-[#6](-[#6]...</td>\n",
       "      <td>[#6](-[#6](-[#6](-[#6](-[#6](-[#6](-[#6](-[#6]...</td>\n",
       "      <td>NaN</td>\n",
       "      <td>NaN</td>\n",
       "    </tr>\n",
       "    <tr>\n",
       "      <th>2</th>\n",
       "      <td>NIPU</td>\n",
       "      <td>[#6](-[#6](-[#6](-[#6](-[#6](-[#6](-[#7](-[#6]...</td>\n",
       "      <td>[#8]=[#6]1-[#8]-[#6](-[#6](-[#6](-[#8]-[#6](-[...</td>\n",
       "      <td>NaN</td>\n",
       "      <td>NaN</td>\n",
       "    </tr>\n",
       "    <tr>\n",
       "      <th>3</th>\n",
       "      <td>NIPU</td>\n",
       "      <td>[#6](-[#6](-[#6](-[#6](-[#6](-[#6](-[#6](-[#6]...</td>\n",
       "      <td>[#8]=[#6]1-[#8]-[#6](-[#6](-[#6](-[#8]-[#6](-[...</td>\n",
       "      <td>NaN</td>\n",
       "      <td>NaN</td>\n",
       "    </tr>\n",
       "    <tr>\n",
       "      <th>4</th>\n",
       "      <td>NIPU</td>\n",
       "      <td>[#7](-[#6](-[#6](-[#8]-[#6](-[#6](-[#8]-[#6](-...</td>\n",
       "      <td>[#6](-[#6](-[#6](-[#6](-[#6](-[#6](-[#6](-[#6]...</td>\n",
       "      <td>NaN</td>\n",
       "      <td>NaN</td>\n",
       "    </tr>\n",
       "    <tr>\n",
       "      <th>...</th>\n",
       "      <td>...</td>\n",
       "      <td>...</td>\n",
       "      <td>...</td>\n",
       "      <td>...</td>\n",
       "      <td>...</td>\n",
       "    </tr>\n",
       "    <tr>\n",
       "      <th>71</th>\n",
       "      <td>urethane</td>\n",
       "      <td>NaN</td>\n",
       "      <td>NaN</td>\n",
       "      <td>[#8](-[#6](-[#6](-[#6](-[#6](-[#6](-[#6](-[#8]...</td>\n",
       "      <td>[#8]=[#6]=[#7]-[#6](-[#6](-[#6](-[#6](-[#6](-[...</td>\n",
       "    </tr>\n",
       "    <tr>\n",
       "      <th>72</th>\n",
       "      <td>urethane</td>\n",
       "      <td>NaN</td>\n",
       "      <td>NaN</td>\n",
       "      <td>[#8](-[#6](-[#6](-[#8]-[H])(-[H])-[H])(-[H])-[...</td>\n",
       "      <td>[#8]=[#6]=[#7]-[#6]1=[#6](-[#6](=[#6](-[#6](-[...</td>\n",
       "    </tr>\n",
       "    <tr>\n",
       "      <th>73</th>\n",
       "      <td>urethane</td>\n",
       "      <td>NaN</td>\n",
       "      <td>NaN</td>\n",
       "      <td>[#8](-[#6](-[#6](-[#6](-[#6](-[#8]-[H])(-[H])-...</td>\n",
       "      <td>[#8]=[#6]=[#7]-[#6](-[#6](-[#6](-[#6](-[#6](-[...</td>\n",
       "    </tr>\n",
       "    <tr>\n",
       "      <th>74</th>\n",
       "      <td>urethane</td>\n",
       "      <td>NaN</td>\n",
       "      <td>NaN</td>\n",
       "      <td>[#8](-[#6](-[#6](-[#8]-[H])(-[H])-[H])(-[H])-[...</td>\n",
       "      <td>[#8]=[#6]=[#7]-[#6](-[#6](-[#6](-[#6](-[#6](-[...</td>\n",
       "    </tr>\n",
       "    <tr>\n",
       "      <th>75</th>\n",
       "      <td>urethane</td>\n",
       "      <td>NaN</td>\n",
       "      <td>NaN</td>\n",
       "      <td>[#8](-[#6](-[#6]1(-[#6](-[#6](-[#6](-[#6](-[#8...</td>\n",
       "      <td>[#6](-[#6]1(-[#6](-[H])(-[H])-[H])-[#6](-[#6](...</td>\n",
       "    </tr>\n",
       "  </tbody>\n",
       "</table>\n",
       "<p>76 rows × 5 columns</p>\n",
       "</div>"
      ],
      "text/plain": [
       "   Chemistry                                              amine  \\\n",
       "0       NIPU  [#7](-[#6](-[#6](-[#6](-[#6](-[#7](-[H])-[H])(...   \n",
       "1       NIPU  [#7](-[#6](-[#6](-[#6](-[#7](-[#6](-[#6](-[#6]...   \n",
       "2       NIPU  [#6](-[#6](-[#6](-[#6](-[#6](-[#6](-[#7](-[#6]...   \n",
       "3       NIPU  [#6](-[#6](-[#6](-[#6](-[#6](-[#6](-[#6](-[#6]...   \n",
       "4       NIPU  [#7](-[#6](-[#6](-[#8]-[#6](-[#6](-[#8]-[#6](-...   \n",
       "..       ...                                                ...   \n",
       "71  urethane                                                NaN   \n",
       "72  urethane                                                NaN   \n",
       "73  urethane                                                NaN   \n",
       "74  urethane                                                NaN   \n",
       "75  urethane                                                NaN   \n",
       "\n",
       "                                       cyclocarbonate  \\\n",
       "0   [#6](-[#6](-[#6](-[#6](-[#6](-[#6](-[#6](-[#6]...   \n",
       "1   [#6](-[#6](-[#6](-[#6](-[#6](-[#6](-[#6](-[#6]...   \n",
       "2   [#8]=[#6]1-[#8]-[#6](-[#6](-[#6](-[#8]-[#6](-[...   \n",
       "3   [#8]=[#6]1-[#8]-[#6](-[#6](-[#6](-[#8]-[#6](-[...   \n",
       "4   [#6](-[#6](-[#6](-[#6](-[#6](-[#6](-[#6](-[#6]...   \n",
       "..                                                ...   \n",
       "71                                                NaN   \n",
       "72                                                NaN   \n",
       "73                                                NaN   \n",
       "74                                                NaN   \n",
       "75                                                NaN   \n",
       "\n",
       "                                             hydroxyl  \\\n",
       "0                                                 NaN   \n",
       "1                                                 NaN   \n",
       "2                                                 NaN   \n",
       "3                                                 NaN   \n",
       "4                                                 NaN   \n",
       "..                                                ...   \n",
       "71  [#8](-[#6](-[#6](-[#6](-[#6](-[#6](-[#6](-[#8]...   \n",
       "72  [#8](-[#6](-[#6](-[#8]-[H])(-[H])-[H])(-[H])-[...   \n",
       "73  [#8](-[#6](-[#6](-[#6](-[#6](-[#8]-[H])(-[H])-...   \n",
       "74  [#8](-[#6](-[#6](-[#8]-[H])(-[H])-[H])(-[H])-[...   \n",
       "75  [#8](-[#6](-[#6]1(-[#6](-[#6](-[#6](-[#6](-[#8...   \n",
       "\n",
       "                                           isocyanate  \n",
       "0                                                 NaN  \n",
       "1                                                 NaN  \n",
       "2                                                 NaN  \n",
       "3                                                 NaN  \n",
       "4                                                 NaN  \n",
       "..                                                ...  \n",
       "71  [#8]=[#6]=[#7]-[#6](-[#6](-[#6](-[#6](-[#6](-[...  \n",
       "72  [#8]=[#6]=[#7]-[#6]1=[#6](-[#6](=[#6](-[#6](-[...  \n",
       "73  [#8]=[#6]=[#7]-[#6](-[#6](-[#6](-[#6](-[#6](-[...  \n",
       "74  [#8]=[#6]=[#7]-[#6](-[#6](-[#6](-[#6](-[#6](-[...  \n",
       "75  [#6](-[#6]1(-[#6](-[H])(-[H])-[H])-[#6](-[#6](...  \n",
       "\n",
       "[76 rows x 5 columns]"
      ]
     },
     "execution_count": 4,
     "metadata": {},
     "output_type": "execute_result"
    }
   ],
   "source": [
    "digroup_table"
   ]
  },
  {
   "cell_type": "markdown",
   "metadata": {},
   "source": [
    "## Load rxn mechanisms"
   ]
  },
  {
   "cell_type": "code",
   "execution_count": 5,
   "metadata": {},
   "outputs": [
    {
     "name": "stderr",
     "output_type": "stream",
     "text": [
      "/home/timber/miniconda3/envs/polymerist-env/lib/python3.11/site-packages/numpy/core/getlimits.py:500: UserWarning: The value of the smallest subnormal for <class 'numpy.float64'> type is zero.\n",
      "  setattr(self, word, getattr(machar, word).flat[0])\n",
      "/home/timber/miniconda3/envs/polymerist-env/lib/python3.11/site-packages/numpy/core/getlimits.py:89: UserWarning: The value of the smallest subnormal for <class 'numpy.float64'> type is zero.\n",
      "  return self._float_to_str(self.smallest_subnormal)\n",
      "/home/timber/miniconda3/envs/polymerist-env/lib/python3.11/site-packages/numpy/core/getlimits.py:500: UserWarning: The value of the smallest subnormal for <class 'numpy.float32'> type is zero.\n",
      "  setattr(self, word, getattr(machar, word).flat[0])\n",
      "/home/timber/miniconda3/envs/polymerist-env/lib/python3.11/site-packages/numpy/core/getlimits.py:89: UserWarning: The value of the smallest subnormal for <class 'numpy.float32'> type is zero.\n",
      "  return self._float_to_str(self.smallest_subnormal)\n",
      "INFO:torch.distributed.nn.jit.instantiator:Created a temporary directory at /tmp/tmp33e1atg6\n",
      "INFO:torch.distributed.nn.jit.instantiator:Writing /tmp/tmp33e1atg6/_remote_module_non_scriptable.py\n"
     ]
    },
    {
     "data": {
      "application/vnd.jupyter.widget-view+json": {
       "model_id": "5ef76b6e6c2845f0a06a0c83ef9d5468",
       "version_major": 2,
       "version_minor": 0
      },
      "text/plain": []
     },
     "metadata": {},
     "output_type": "display_data"
    },
    {
     "name": "stderr",
     "output_type": "stream",
     "text": [
      "INFO:polymerist.rdutils.smileslib.functgroups:Loading functional group SMARTS data from LUT\n",
      "INFO:root:Loading reaction mechanisms (from SMARTS)\n"
     ]
    }
   ],
   "source": [
    "from polymerist.rdutils.reactions import reactions, reactors\n",
    "\n",
    "\n",
    "reaction_pairs = {\n",
    "    'NIPU' : ('cyclocarbonate', 'amine'),\n",
    "    'urethane' : ('isocyanate', 'hydroxyl')\n",
    "}\n",
    "\n",
    "logging.info(f'Loading reaction mechanisms (from {\"SMARTS\" if rxns_from_smarts else \"MDL files\"})')\n",
    "if rxns_from_smarts:\n",
    "    with (rxn_mech_dir / 'rxn_smarts.json').open('r') as rxn_file:\n",
    "        rxns = {\n",
    "            chemistry : reactions.AnnotatedReaction.from_smarts(rxn_SMARTS)\n",
    "                for chemistry, rxn_SMARTS in json.load(rxn_file).items()\n",
    "        }\n",
    "else:\n",
    "    # from files\n",
    "    rxns = {\n",
    "        chemistry : reactions.AnnotatedReaction.from_rxnfile(rxn_mech_dir / f'{chemistry}.rxn')\n",
    "            for chemistry in reaction_pairs.keys()\n",
    "    }"
   ]
  },
  {
   "cell_type": "markdown",
   "metadata": {},
   "source": [
    "# Polymerizing fragments"
   ]
  },
  {
   "cell_type": "markdown",
   "metadata": {},
   "source": [
    "## Example for polymerization of individual molecule"
   ]
  },
  {
   "cell_type": "code",
   "execution_count": 6,
   "metadata": {},
   "outputs": [],
   "source": [
    "chemistry = 'urethane'\n",
    "idx = 3\n",
    "\n",
    "rxn_pathway = rxns[chemistry]\n",
    "chem_tab = tables_by_chem[chemistry]\n",
    "chem_entry = chem_tab.loc[idx]\n",
    "\n",
    "reactants = {\n",
    "    react_name : Chem.MolFromSmarts(chem_entry[react_name])\n",
    "        for react_name in reaction_pairs[chemistry]\n",
    "}\n",
    "\n",
    "reactor = reactors.PolymerizationReactor(rxn_pathway)\n",
    "for (dimer, pair) in reactor.propagate([i for i in reactants.values()]):\n",
    "    display(dimer)\n",
    "    for frag in pair:\n",
    "        display(frag)\n",
    "    print('='*50)"
   ]
  },
  {
   "cell_type": "markdown",
   "metadata": {},
   "source": [
    "## Polymerize all SMILES into well-specified fragments with ports"
   ]
  },
  {
   "cell_type": "code",
   "execution_count": null,
   "metadata": {},
   "outputs": [],
   "source": [
    "from polymerist.monomers import MonomerGroup\n",
    "from polymerist.monomers import specification\n",
    "from polymerist.rdutils.labeling import molwise\n",
    "\n",
    "\n",
    "mono_info_dir  : Path = Path('monomer_files')\n",
    "mono_info_dir.mkdir(exist_ok=True)\n",
    "\n",
    "for chemistry, smarts_table in tables_by_chem.items():\n",
    "    chem_dir = mono_info_dir / chemistry\n",
    "    chem_dir.mkdir(exist_ok=True)\n",
    "\n",
    "    for i, sample in smarts_table.iterrows():\n",
    "        logging.info(f'Generating fragments for {chemistry} #{i}')\n",
    "        # look up reactive groups and pathway by chemistry\n",
    "        rxn_group_names = reaction_pairs[chemistry]\n",
    "        rxn = rxns[chemistry]\n",
    "\n",
    "        # read reactant monomers from digroup_table\n",
    "        initial_reactants = []\n",
    "        for j, group_name in enumerate(rxn_group_names):\n",
    "            reactant = Chem.MolFromSmiles(sample[group_name], sanitize=False)\n",
    "            for atom in reactant.GetAtoms():\n",
    "                atom.SetProp('reactant_group', group_name)\n",
    "            \n",
    "            initial_reactants.append(reactant)\n",
    "        monogrp = MonomerGroup()\n",
    "\n",
    "        # first round of polymerization (initiation)\n",
    "        reactor = reactors.PolymerizationReactor(rxn)\n",
    "        for dimer, frags in reactor.propagate(initial_reactants):\n",
    "            for assoc_group_name, rdfragment in zip(rxn_group_names, frags):\n",
    "                # label and sanitize fragments\n",
    "                molwise.clear_atom_isotopes(rdfragment, in_place=True)\n",
    "                molwise.assign_ordered_atom_map_nums(rdfragment, in_place=True) # number monomers\n",
    "                Chem.Kekulize(rdfragment, clearAromaticFlags=True) # convert aromatic bonds to single-double\n",
    "                Chem.SanitizeMol(rdfragment, sanitizeOps=specification.SANITIZE_AS_KEKULE)\n",
    "\n",
    "                # generate spec-compliant SMARTS\n",
    "                raw_smarts = Chem.MolToSmarts(rdfragment)\n",
    "                spec_smarts = specification.compliant_mol_SMARTS(smarts=raw_smarts)\n",
    "\n",
    "                # record to monomer group\n",
    "                affix = 'TERM' if MonomerGroup.is_terminal(rdfragment) else 'MID'\n",
    "                monogrp.monomers[f'{assoc_group_name}_{affix}'] = [spec_smarts]\n",
    "\n",
    "        monogrp.to_file(chem_dir / f'{chemistry}_{i}.json')"
   ]
  },
  {
   "cell_type": "code",
   "execution_count": 15,
   "metadata": {},
   "outputs": [
    {
     "data": {
      "text/plain": [
       "[]"
      ]
     },
     "execution_count": 15,
     "metadata": {},
     "output_type": "execute_result"
    }
   ],
   "source": [
    "l = list(reactor.propagate(initial_reactants))\n",
    "l"
   ]
  },
  {
   "cell_type": "code",
   "execution_count": 16,
   "metadata": {},
   "outputs": [
    {
     "data": {
      "image/png": "[encoded data removed]",
      "text/plain": [
       "<rdkit.Chem.rdchem.Mol at 0x7f8103a6e570>"
      ]
     },
     "metadata": {},
     "output_type": "display_data"
    },
    {
     "data": {
      "image/png": "[encoded data removed]",
      "text/plain": [
       "<rdkit.Chem.rdchem.Mol at 0x7f8103a6e880>"
      ]
     },
     "metadata": {},
     "output_type": "display_data"
    }
   ],
   "source": [
    "for r in initial_reactants:\n",
    "    display(r)"
   ]
  },
  {
   "cell_type": "code",
   "execution_count": 18,
   "metadata": {},
   "outputs": [
    {
     "data": {
      "image/png": "[encoded data removed]",
      "text/plain": [
       "<polymerist.rdutils.reactions.reactions.AnnotatedReaction at 0x7f805b99d2b0>"
      ]
     },
     "execution_count": 18,
     "metadata": {},
     "output_type": "execute_result"
    }
   ],
   "source": [
    "reactor.rxn_schema"
   ]
  },
  {
   "cell_type": "code",
   "execution_count": 17,
   "metadata": {},
   "outputs": [],
   "source": [
    "reactor.react(initial_reactants)"
   ]
  },
  {
   "cell_type": "code",
   "execution_count": null,
   "metadata": {},
   "outputs": [],
   "source": []
  }
 ],
 "metadata": {
  "kernelspec": {
   "display_name": "openff-dev-updated",
   "language": "python",
   "name": "python3"
  },
  "language_info": {
   "codemirror_mode": {
    "name": "ipython",
    "version": 3
   },
   "file_extension": ".py",
   "mimetype": "text/x-python",
   "name": "python",
   "nbconvert_exporter": "python",
   "pygments_lexer": "ipython3",
   "version": "3.11.5"
  },
  "orig_nbformat": 4
 },
 "nbformat": 4,
 "nbformat_minor": 2
}
