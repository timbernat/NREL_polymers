{
 "cells": [
  {
   "cell_type": "markdown",
   "metadata": {},
   "source": [
    "# Developing maximally-symmetric lattice population algorithm"
   ]
  },
  {
   "cell_type": "code",
   "execution_count": null,
   "metadata": {},
   "outputs": [],
   "source": [
    "from polymerist.graphics.plotutils import presize_subplots\n",
    "\n",
    "max_n_atoms : int = 10_000\n",
    "\n",
    "records = {}\n",
    "for mol_name, n_atoms in counts.items():\n",
    "    n_oligomers = max_n_atoms // n_atoms\n",
    "    cubic_lattice_dim = np.ceil(n_oligomers**(1/3))\n",
    "\n",
    "    lattice_info = {\n",
    "        'n_atoms'  : n_atoms,\n",
    "        'n_oligomers' : n_oligomers,\n",
    "        'occupancy' : n_oligomers / cubic_lattice_dim**3,\n",
    "        'vacancy' : cubic_lattice_dim**3 - n_oligomers,\n",
    "    }\n",
    "    records[mol_name] = lattice_info\n",
    "\n",
    "df = pd.DataFrame.from_dict(records, orient='index')\n",
    "\n",
    "fig, ax = presize_subplots(nrows=2, ncols=2, scale=10, elongation=1.0)\n",
    "for colname, axis in zip(df.columns, ax.flatten()):\n",
    "    heights, bins, patches = axis.hist(df[colname])\n",
    "    axis.set_xlabel(colname)\n",
    "    axis.set_ylabel('Counts')\n",
    "\n",
    "plt.show()"
   ]
  },
  {
   "cell_type": "markdown",
   "metadata": {},
   "source": [
    "# Playing with lattice generation (i.e. generating non-cubic lattices)"
   ]
  },
  {
   "cell_type": "code",
   "execution_count": null,
   "metadata": {},
   "outputs": [],
   "source": [
    "import numpy as np\n",
    "import matplotlib.pyplot as plt\n",
    "\n",
    "from polymerist.maths.lattices import generate_int_lattice"
   ]
  },
  {
   "cell_type": "code",
   "execution_count": null,
   "metadata": {},
   "outputs": [],
   "source": [
    "from polymerist.graphics import plotutils\n",
    "\n",
    "coords = np.array([3, 3, 3])\n",
    "num_points = coords.prod()\n",
    "\n",
    "lattice = generate_int_lattice(*coords)\n",
    "plotutils.scatter_3D(lattice)"
   ]
  },
  {
   "cell_type": "code",
   "execution_count": null,
   "metadata": {},
   "outputs": [],
   "source": [
    "A = np.array([\n",
    "    [1.0, 0.0, 0.0],\n",
    "    [0.0, 1.0, 0.0],\n",
    "    [1/2, 1/2, 1/np.sqrt(2)],\n",
    "])\n",
    "shear = lattice @ A\n",
    "plotutils.scatter_3D(shear)"
   ]
  },
  {
   "cell_type": "code",
   "execution_count": null,
   "metadata": {},
   "outputs": [],
   "source": [
    "dims = np.tile(coords, reps=(num_points, 1))\n",
    "FCC = np.mod(shear, dims-0.99)\n",
    "plotutils.scatter_3D(FCC)"
   ]
  },
  {
   "cell_type": "markdown",
   "metadata": {},
   "source": [
    "# Playing with rich progress"
   ]
  },
  {
   "cell_type": "code",
   "execution_count": null,
   "metadata": {},
   "outputs": [],
   "source": [
    "from rich.progress import track, Progress\n",
    "from time import sleep\n",
    "\n",
    "with Progress() as progress:\n",
    "\n",
    "    task1 = progress.add_task(\"[red]Downloading...\", total=1000)\n",
    "    task2 = progress.add_task(\"[green]Processing...\", total=1000)\n",
    "    task3 = progress.add_task(\"[cyan]Cooking...\", total=1000)\n",
    "\n",
    "    while not progress.finished:\n",
    "        progress.update(task1, advance=0.5)\n",
    "        progress.update(task2, advance=0.3)\n",
    "        progress.update(task3, advance=0.9)\n",
    "        sleep(0.02)\n"
   ]
  },
  {
   "cell_type": "code",
   "execution_count": null,
   "metadata": {},
   "outputs": [],
   "source": [
    "import time\n",
    "import random\n",
    "from rich.progress import (\n",
    "    BarColumn,\n",
    "    Progress,\n",
    "    SpinnerColumn,\n",
    "    TaskProgressColumn,\n",
    "    TimeElapsedColumn,\n",
    "    TimeRemainingColumn,\n",
    ")\n",
    "\n",
    "def process(chunks):\n",
    "    for chunk in chunks:\n",
    "        time.sleep(0.1)\n",
    "        yield chunk\n",
    "\n",
    "chunks = [random.randint(1,20) for _ in range(100)]\n",
    "\n",
    "progress_columns = (\n",
    "    SpinnerColumn(),\n",
    "    \"[progress.description]{task.description}\",\n",
    "    BarColumn(),\n",
    "    TaskProgressColumn(),\n",
    "    \"Elapsed:\",\n",
    "    TimeElapsedColumn(),\n",
    "    \"Remaining:\",\n",
    "    TimeRemainingColumn(),\n",
    ")\n",
    "\n",
    "with Progress(*progress_columns) as progress_bar:\n",
    "    task = progress_bar.add_task(\"[blue]Downloading...\", total=sum(chunks))\n",
    "    for chunk in process(chunks):\n",
    "        progress_bar.update(task, advance=chunk)"
   ]
  },
  {
   "cell_type": "code",
   "execution_count": null,
   "metadata": {},
   "outputs": [],
   "source": [
    "import random\n",
    "import time\n",
    "\n",
    "from rich.live import Live\n",
    "from rich.table import Table\n",
    "\n",
    "\n",
    "def generate_table() -> Table:\n",
    "    \"\"\"Make a new table.\"\"\"\n",
    "    table = Table()\n",
    "    table.add_column(\"ID\")\n",
    "    table.add_column(\"Value\")\n",
    "    table.add_column(\"Status\")\n",
    "\n",
    "    for row in range(random.randint(2, 6)):\n",
    "        value = random.random() * 100\n",
    "        table.add_row(\n",
    "            f\"{row}\", f\"{value:3.2f}\", \"[red]ERROR\" if value < 50 else \"[green]SUCCESS\"\n",
    "        )\n",
    "    return table\n",
    "\n",
    "\n",
    "with Live(generate_table(), refresh_per_second=4) as live:\n",
    "    for _ in range(40):\n",
    "        time.sleep(0.4)\n",
    "        live.update(generate_table())"
   ]
  },
  {
   "cell_type": "code",
   "execution_count": null,
   "metadata": {},
   "outputs": [],
   "source": [
    "from dataclasses import dataclass\n",
    "from rich.console import Console, ConsoleOptions, RenderResult\n",
    "from rich.table import Table\n",
    "\n",
    "@dataclass\n",
    "class Student:\n",
    "    id: int\n",
    "    name: str\n",
    "    age: int\n",
    "    def __rich_console__(self, console: Console, options: ConsoleOptions) -> RenderResult:\n",
    "        yield f\"[b]Student:[/b] #{self.id}\"\n",
    "        my_table = Table(\"Attribute\", \"Value\")\n",
    "        my_table.add_row(\"name\", self.name)\n",
    "        my_table.add_row(\"age\", str(self.age))\n",
    "        yield my_table"
   ]
  },
  {
   "cell_type": "markdown",
   "metadata": {},
   "source": [
    "# Playing with cubic/octahedral symmetry groups"
   ]
  },
  {
   "cell_type": "code",
   "execution_count": null,
   "metadata": {},
   "outputs": [],
   "source": [
    "import numpy as np\n",
    "from rdkit import Chem\n",
    "from rdkit.Chem.AllChem import EmbedMolecule\n",
    "from polymerist.monomers import specification\n",
    "\n",
    "smi = '[Br]-[C]12-[C]3(-[I])-[C]4(-[Cl])-[C]-1(-[N])-[C]1(-[I])-[C]-2(-[Cl])-[C]-3(-[N])-[C]-4-1-[Br]'\n",
    "print(smi)\n",
    "mol = Chem.MolFromSmiles(smi, sanitize=True)\n",
    "mol = Chem.AddHs(mol)\n",
    "EmbedMolecule(mol)\n",
    "display(mol)\n",
    "\n",
    "Chem.MolToMolFile(mol, 'cubane.mol')"
   ]
  },
  {
   "cell_type": "code",
   "execution_count": null,
   "metadata": {},
   "outputs": [],
   "source": [
    "import numpy as np\n",
    "from polymerist.graphics.plotutils import scatter_3D\n",
    "from polymerist.maths.lattices import generate_int_lattice\n",
    "\n",
    "d : int = 4\n",
    "\n",
    "# produce integer lattice\n",
    "dims = np.array([d, d, d])\n",
    "num_points = dims.prod()\n",
    "lattice = generate_int_lattice(*dims)\n",
    "\n",
    "# sort lexicographically\n",
    "order = np.lexsort(lattice.T)\n",
    "lattice = lattice[order]\n",
    "\n",
    "# determine even and odd positions after sorting\n",
    "index_is_odd = lattice.sum(axis=1) % 2\n",
    "index_is_odd = index_is_odd.astype(bool)\n",
    "\n",
    "# center lattice at the origin\n",
    "COM = lattice.mean(axis=0)\n",
    "lattice = lattice - COM # sort lexicographically and translate center of grid to origin\n",
    "\n",
    "# print(order, lattice[order])"
   ]
  },
  {
   "cell_type": "code",
   "execution_count": null,
   "metadata": {},
   "outputs": [],
   "source": [
    "import matplotlib.pyplot as plt\n",
    "\n",
    "fig = plt.figure()\n",
    "ax = fig.add_subplot(projection='3d')\n",
    "\n",
    "labels = np.lexsort(lattice.T)\n",
    "ax.scatter(*lattice.T, color='r')\n",
    "for i, coords in zip(labels, lattice):\n",
    "    ax.text(*coords, str(i))\n",
    "\n",
    "ax.set_xlabel('x')\n",
    "ax.set_ylabel('y')\n",
    "ax.set_zlabel('z')\n",
    "\n",
    "plt.show()"
   ]
  },
  {
   "cell_type": "code",
   "execution_count": null,
   "metadata": {},
   "outputs": [],
   "source": [
    "from typing import Generator, Iterable\n",
    "from itertools import permutations, product as cartesian_product\n",
    "from scipy.spatial.transform import Rotation, Slerp\n",
    "\n",
    "\n",
    "def sign_alternations(n : int) -> Generator[tuple[int, int, int], None, None]:\n",
    "    '''Generate every possible n-tuple containing either 1 or -1'''\n",
    "    for signs in cartesian_product(*([1, -1] for _ in range(n))):\n",
    "        yield signs\n",
    "\n",
    "def symmetric_group(n : int) -> Generator[tuple[int, int, int], None, None]:\n",
    "    '''Generates all permutations of n elements as tuples of the integers [0, n-1]'''\n",
    "    for perm in permutations(range(n), n):\n",
    "        yield perm\n",
    "\n",
    "def orthogonal_basis_transforms(n : int=3) -> Generator[np.ndarray, None, None]:\n",
    "    '''Generate all matrices in n-dimensions which permute or invert the standard basis vectors'''\n",
    "    for signs in sign_alternations(n):\n",
    "        matr = np.diag(signs)\n",
    "        for perm in symmetric_group(n):\n",
    "            yield matr[list(perm)]\n",
    "\n",
    "def cycle_decomposition(permutation : Iterable[int]) -> list[tuple[int]]:\n",
    "    '''Return the disjoint cycles of a permutation'''\n",
    "    N = len(permutation)\n",
    "    assert(N == len(set(permutation))) # uniqueness check\n",
    "    visited : list[bool] = [False] * N\n",
    "\n",
    "    cycles = []\n",
    "    for elem in permutation:\n",
    "        cycle = []\n",
    "        while not visited[elem]:\n",
    "            cycle.append(elem)\n",
    "            visited[elem] = True\n",
    "            elem = permutation[elem]\n",
    "        if cycle:\n",
    "            cycles.append(tuple(cycle))\n",
    "\n",
    "    return cycles\n",
    "\n",
    "def interpolate_linear_transformation(trans : np.ndarray, n_frames : int=10) -> np.ndarray:\n",
    "    '''Accepts a linear transformation matrix (of size MxN) and a number of frames F\n",
    "    Returns an FxMxN array containing uniforms \"steps\" between the identity and the desired transformation'''\n",
    "    I = Rotation.identity()\n",
    "    rot = Rotation.from_matrix(trans)\n",
    "    full_rot = Rotation.concatenate([I, rot])\n",
    "    interpolator = Slerp(np.linspace(0, 1, num=len(full_rot), dtype=int), full_rot)\n",
    "\n",
    "    return interpolator(np.linspace(0, 1, num=n_frames)).as_matrix()"
   ]
  },
  {
   "cell_type": "code",
   "execution_count": null,
   "metadata": {},
   "outputs": [],
   "source": [
    "from pathlib import Path\n",
    "from math import ceil\n",
    "from matplotlib.animation import FuncAnimation, ArtistAnimation, writers\n",
    "from rich.progress import track\n",
    "\n",
    "\n",
    "n_frames = 20\n",
    "\n",
    "dir = Path('gif_frames')\n",
    "dir.mkdir(exist_ok=True)\n",
    "\n",
    "ax_max = ceil(d / 2)\n",
    "ax_min = -ax_max\n",
    "\n",
    "fig = plt.figure()\n",
    "ax = fig.add_subplot(projection='3d')\n",
    "ax.autoscale(False)\n",
    "\n",
    "def update(frame_no : int):\n",
    "    partial_rot = keyframes[frame_no, :, :]\n",
    "    latt_pos = lattice @ partial_rot\n",
    "\n",
    "    ax.clear()\n",
    "    ax.set(xlim3d=(ax_min, ax_max), xlabel='X')\n",
    "    ax.set(ylim3d=(ax_min, ax_max), ylabel='Y')\n",
    "    ax.set(zlim3d=(ax_min, ax_max), zlabel='Z')\n",
    "\n",
    "    return ax.scatter(*latt_pos.T)\n",
    "\n",
    "group_matrices = [el for el in orthogonal_basis_transforms(3)]\n",
    "for i, trans in track(enumerate(group_matrices), total=len(group_matrices), description='Visualizing symmetry group actions...'):\n",
    "    keyframes = interpolate_linear_transformation(trans, n_frames=n_frames)\n",
    "    ani = FuncAnimation(fig=fig, func=update, frames=len(keyframes), interval=10)\n",
    "    ani.save(dir/f'symmetry_{i+1}.gif', writer='pillow')\n",
    "    plt.close(fig)"
   ]
  },
  {
   "cell_type": "code",
   "execution_count": null,
   "metadata": {},
   "outputs": [],
   "source": [
    "from collections import defaultdict\n",
    "\n",
    "perms  = {}\n",
    "all_cycles = {}\n",
    "\n",
    "orbits = defaultdict(set)\n",
    "stabilizers = defaultdict(list)\n",
    "\n",
    "init_order = np.lexsort(lattice.T)\n",
    "for i, trans in enumerate(group_matrices):\n",
    "    new = lattice @ trans\n",
    "    perm = np.lexsort(new.T).tolist()\n",
    "    perms[i] = perm\n",
    "    all_cycles[i] = cycles = cycle_decomposition(perm)\n",
    "    \n",
    "    for cycle in cycles:\n",
    "        if len(cycle) == 1:\n",
    "            point_idx = cycle[0]\n",
    "            stabilizers[point_idx].append(trans)\n",
    "\n",
    "        for point_idx in cycle:\n",
    "            orbits[point_idx].update(cycle)\n",
    "\n",
    "unique_orbits = set(tuple(orbit) for orbit in orbits.values())\n",
    "sum(len(i) for i in unique_orbits) == num_points"
   ]
  },
  {
   "cell_type": "code",
   "execution_count": null,
   "metadata": {},
   "outputs": [],
   "source": [
    "fig = plt.figure()\n",
    "ax = fig.add_subplot(projection='3d')\n",
    "\n",
    "# cube_indices = list(np.ndindex(tuple(dims)))\n",
    "\n",
    "labels = np.lexsort(lattice.T)\n",
    "ax.scatter(*lattice[ index_is_odd].T, color='r')\n",
    "ax.scatter(*lattice[~index_is_odd].T, color='b')\n",
    "# ax.scatter(*lattice[1::2].T, color='b')\n",
    "for i, coords in zip(labels, lattice):\n",
    "    ax.text(*coords, str(i))\n",
    "\n",
    "ax.set_xlabel('x')\n",
    "ax.set_ylabel('y')\n",
    "ax.set_zlabel('z')\n",
    "\n",
    "plt.show()\n",
    "fig.savefig('alternating_sites.png')"
   ]
  },
  {
   "cell_type": "code",
   "execution_count": null,
   "metadata": {},
   "outputs": [],
   "source": []
  },
  {
   "cell_type": "code",
   "execution_count": 1,
   "metadata": {},
   "outputs": [],
   "source": [
    "from typing import Generator, Iterable, Sequence, TypeAlias, TypeVar\n",
    "from dataclasses import dataclass, field\n",
    "T = TypeVar('T')\n",
    "Cycles : TypeAlias = list[tuple[int, ...]]\n",
    "\n",
    "import numpy as np\n",
    "from math import lcm\n",
    "from operator import mul\n",
    "\n",
    "from functools import reduce\n",
    "from collections import Counter\n",
    "from itertools import permutations, cycle, islice\n",
    "\n",
    "\n",
    "def int_to_factoradic(n : int) -> list[int]:\n",
    "    '''Determine the digits of the factorial base representation of an integer'''\n",
    "    if n < 0:\n",
    "        raise ValueError('Cannot generate factoradic digits of a negative integer')\n",
    "    if n == 0:\n",
    "        return [0]\n",
    "\n",
    "    digits : list[int] = []\n",
    "    quotient, divisor = n, 1\n",
    "    while quotient > 0:\n",
    "        quotient, digit = divmod(quotient, divisor)\n",
    "        digits.append(digit)\n",
    "        divisor += 1\n",
    "    return digits[::-1]\n",
    "\n",
    "def factoradic_to_int(digits : Sequence[int]) -> int:\n",
    "    '''Convert the digits of the factorial base representation of an integer back to a standard base-10 integer'''\n",
    "    n = 0\n",
    "    place = 1\n",
    "    for i, digit in enumerate(reversed(digits), start=1):\n",
    "        if not (0 <= digit <= i):\n",
    "            raise ValueError(f'Digit {digit} in {place}!-place exceeds max allowed factoradic value of {i} for that place')\n",
    "        n += place * digit\n",
    "        place *= i\n",
    "    return n\n",
    "\n",
    "\n",
    "@dataclass\n",
    "class Permutation:\n",
    "    '''For representing actions on a permutation'''\n",
    "    elems  : Sequence[int] = field(default_factory=list)\n",
    "    degree : int           = field(default_factory=int)\n",
    "\n",
    "    def __init__(self, *elems : Sequence[int]) -> None: # implemented manual init method to allow unpacking for inputs while retaining the dataclass boilerplate for __repr__, __eq__, etc\n",
    "        self.degree = len(elems)\n",
    "        if set(elems) != self.element_set:\n",
    "            raise ValueError\n",
    "        self.elems = elems\n",
    "\n",
    "    # RELATED ELEMENTARY PERMUTATIONS\n",
    "    @staticmethod\n",
    "    def _natural_order(N : int) -> list[int]:\n",
    "        '''Get the first N natural numbers'''\n",
    "        return [i for i in range(N)]\n",
    "\n",
    "    @property\n",
    "    def natural_order(self) -> list[int]:\n",
    "        return self._natural_order(self.degree)\n",
    "    \n",
    "    @property\n",
    "    def element_set(self) -> set[int]:\n",
    "        return set(self.natural_order)\n",
    "    \n",
    "    def identity(self) -> 'Permutation':\n",
    "        '''The identity permutation with the same degree as the current Permutation'''\n",
    "        return self.__class__(*self.natural_order)\n",
    "\n",
    "    @property\n",
    "    def inverse(self) -> 'Permutation':\n",
    "        '''The permutation which, when composed with this permutation from either the left or the right, yields the identity permutation'''\n",
    "        return self.__class__(*np.argsort(self.elems))\n",
    "    \n",
    "    @property\n",
    "    def reverse(self) -> 'Permutation':\n",
    "        '''The reversed-order of a permutation'''\n",
    "        return self.__class__(*reversed(self.elems))\n",
    "\n",
    "\n",
    "    # METHODS OF INSTANTIATION\n",
    "    @staticmethod\n",
    "    def _is_valid_permutation_matrix(matrix : np.ndarray) -> bool:\n",
    "        return (                                  # A valid permutation matrix must be:\n",
    "            (matrix.ndim == 2)                        # 1) 2-dimensional\n",
    "            and (matrix.shape[0] == matrix.shape[1])  # 2) square\n",
    "            and (np.in1d(matrix, [0 ,1])).all()       # 3) contain ONLY ones and zeroes\n",
    "            and (matrix.sum(axis=0) == 1).all()       # 4) have exactly a single 1 in each column\n",
    "            and (matrix.sum(axis=1) == 1).all()       # 4) have exactly a single 1 in each row\n",
    "        )\n",
    "\n",
    "    @classmethod\n",
    "    def from_degree(cls, degree : int, random : bool=False) -> 'Permutation':\n",
    "        '''Construct a permutation of the given degree. Is just the identity by default, but can be made random with the \"random\" flag'''\n",
    "        elems = cls._natural_order(degree)\n",
    "        if random:\n",
    "            np.random.shuffle(elems)\n",
    "        return cls(*elems)\n",
    "\n",
    "    @classmethod\n",
    "    def cyclic(cls, degree : int) -> 'Permutation':\n",
    "        ...\n",
    "\n",
    "    @classmethod\n",
    "    def from_word(cls, word : str) -> 'Permutation':\n",
    "        '''Create a permutation from a string with a total ordering'''\n",
    "        return cls(*np.argsort(list(word))).inverse # need to invert to produce expected result, as argsort gives the permutation which restores the identity\n",
    "\n",
    "    @classmethod\n",
    "    def from_matrix(cls, matrix : np.ndarray) -> 'Permutation':\n",
    "        '''Create a permutation from a permutation matrix'''\n",
    "        if not cls._is_valid_permutation_matrix(matrix):\n",
    "            raise ValueError('Provided matrix is not a valid permutation matrix')\n",
    "        \n",
    "        _, elems = np.nonzero(matrix.T)\n",
    "        return cls(*elems)\n",
    "        # _, elems = np.nonzero(matrix) # alternate, equally-valid implementation\n",
    "        # return cls(*elems).inverse\n",
    "\n",
    "    @classmethod\n",
    "    def from_cycles(cls, cycles : Cycles) -> 'Permutation':\n",
    "        '''Stitch together Permutation from disjoint cycle representation'''\n",
    "        ...\n",
    "\n",
    "    @classmethod\n",
    "    def from_lehmer(cls, lehmer_code : Sequence[int]) -> 'Permutation':\n",
    "        '''Stitch together permutation from an inversion vector'''\n",
    "        elems = [elem for elem in reversed(lehmer_code)] # create reversed copy to simplify iteration indexing avoid modifying original lehmer code\n",
    "        for i, elem in enumerate(elems):\n",
    "            for j, right_elem in enumerate(elems[:i]):\n",
    "                if right_elem >= elem:\n",
    "                    elems[j] += 1\n",
    "        return cls(*reversed(elems)) # reverse final result to recover permutation order\n",
    "\n",
    "    @classmethod\n",
    "    def symmetric_group(cls, order : int) -> Generator['Permutation', None, None]:\n",
    "        '''Generate all permutations of a given order'''\n",
    "        for elems in permutations(range(order), order):\n",
    "            yield cls(*elems)\n",
    "\n",
    "\n",
    "    # CYCLES\n",
    "    def cycle_decomposition(self) -> Cycles:\n",
    "        '''Return the disjoint cycles of a Permutation'''\n",
    "        visited : list[bool] = [False] * self.degree\n",
    "        cycles = []\n",
    "        for elem in self.elems:\n",
    "            cycle = []\n",
    "            while not visited[elem]:\n",
    "                cycle.append(elem)\n",
    "                visited[elem] = True\n",
    "                elem = self.elems[elem]\n",
    "            if cycle:\n",
    "                cycles.append(tuple(cycle))\n",
    "\n",
    "        return cycles\n",
    "    \n",
    "    @property\n",
    "    def cycle_type(self) -> dict[int, int]:\n",
    "        '''Returns a dict of cycle lengths and the number of cycle in the permutation with that length'''\n",
    "        cycle_len_counts = Counter()\n",
    "        for cycle in self.cycle_decomposition():\n",
    "            cycle_len_counts[len(cycle)] += 1\n",
    "        longest_cycle_len = max(cycle_len_counts.keys())\n",
    "\n",
    "        return {\n",
    "            cycle_len : cycle_len_counts[cycle_len]\n",
    "                for cycle_len in range(1, longest_cycle_len + 1) # include zeros for intermediate sizes, 1-index to make use of counts\n",
    "        }\n",
    "    \n",
    "    @staticmethod\n",
    "    def cycles_are_disjoint(cycles : Cycles) -> bool:\n",
    "        '''Check if a cycle decomposition is disjoint'''\n",
    "        return set.intersection(*map(set, cycles)) == set() # check that the intersection of all cycles is the empty set\n",
    "\n",
    "    @staticmethod\n",
    "    def cycles_form_partition(cycles : Cycles) -> bool:\n",
    "        '''Check if a cycle decomposition forms a partition of some set of integers'''\n",
    "        degree = np.max(cycles) # find total maximum to use as order\n",
    "        all_elems = set.union(*map(set, cycles)) # check that the intersection of all cycles is the empty set\n",
    "\n",
    "        return set(Permutation._natural_order(degree + 1)) == all_elems\n",
    "\n",
    "\n",
    "    # REPRESENTATIONS\n",
    "    def to_word(self) -> str:\n",
    "        return ' '.join(str(i) for i in self.elems) # TODO : find best way to deal with multi-digit numbers\n",
    "\n",
    "    def to_matrix(self) -> np.ndarray:\n",
    "        '''Obtain permutation matrix representation'''\n",
    "        return np.eye(self.degree, dtype=int)[:, self.elems]\n",
    "    \n",
    "    @property\n",
    "    def matrix(self) -> np.ndarray:\n",
    "        return self.to_matrix()\n",
    "\n",
    "    def to_cycles(self, canonicalize : bool=True) -> Cycles:\n",
    "        ...\n",
    "\n",
    "    def to_lehmer_code(self) -> list[int]:\n",
    "        '''Construct the left lehmer code for a permutation\n",
    "        Each position in the code gives the number of inversions to the right of the permutation element at the corresponding position'''\n",
    "        vector = [elem for elem in self.elems] # initialize witha  copy of the positions\n",
    "        for i, elem in enumerate(vector):\n",
    "            for j, right_elem in enumerate(vector[i:], start=i): # start indices at i to preserve correct absolute position in list\n",
    "                if right_elem > elem:\n",
    "                    vector[j] -= 1\n",
    "        return vector\n",
    "    \n",
    "    @property\n",
    "    def lehmer_code(self) -> list[int]:\n",
    "        return self.to_lehmer_code()\n",
    "    inversion_vector = lehmer = lehmer_code # aliases for convenience\n",
    "\n",
    "\n",
    "    # COMPOSITIONS AND MAPS\n",
    "    def image(self, coll : Iterable[T]) -> Iterable[T]:\n",
    "        '''The image of an ordered collection under the defined permutation'''\n",
    "        if len(coll) != self.degree:\n",
    "            raise ValueError\n",
    "        return [coll[i] for i in self.elems]\n",
    "    \n",
    "    def __call__(self, elem : int) -> int:\n",
    "        '''Return the image of a single element under the permutation'''\n",
    "        if not isinstance(elem, int):\n",
    "            raise TypeError\n",
    "        \n",
    "        if (elem < 0) or (elem > (self.degree - 1)):\n",
    "            raise ValueError(f'Integer {elem} has no image under s permutation of degree {self.degree}')\n",
    "        \n",
    "        return self.elems[elem]\n",
    "\n",
    "    def __mul__(self, other : 'Permutation') -> 'Permutation':\n",
    "        if not isinstance(other, Permutation):\n",
    "            raise TypeError(f'Cannot compose {self.__class__.__name__} with {other.__class__.__name__}')\n",
    "        return self.__class__(*self.image(other.elems))\n",
    "    compose = __mul__\n",
    "\n",
    "    def __pow__(self, exp : int) -> 'Permutation':\n",
    "        if exp == 0:\n",
    "            return self.__class__(*self.elems) # identity composition, return copy of self to avoid mutation\n",
    "        elif exp < 0:\n",
    "            return self.inverse.__pow__(abs(exp))\n",
    "        else:\n",
    "            return reduce(mul, [self for _ in range(exp)]) # TODO : see if there's a more efficient way to do this\n",
    "        \n",
    "    @property\n",
    "    def order(self) -> int:\n",
    "        '''Smallest power of a permutation which generates the identity permutation'''\n",
    "        return lcm(*(len(cycle) for cycle in self.cycle_decomposition()))\n",
    "\n",
    "\n",
    "    # ASCENTS AND DESCENTS\n",
    "    @property\n",
    "    def ascents(self) -> list[int]:\n",
    "        '''The positions of elements which are followed by a greater element'''\n",
    "        return [\n",
    "            i for i, elem in enumerate(self.elems[:-1])\n",
    "                if elem < self.elems[i + 1]\n",
    "        ]\n",
    "        \n",
    "    @property\n",
    "    def num_ascents(self) -> int:\n",
    "        '''The number of elements which are followed by a greater element'''\n",
    "        return len(self.ascents)\n",
    "\n",
    "    @property\n",
    "    def descents(self) -> list[int]:\n",
    "        '''The positions of elements which are followed by a lesser element'''\n",
    "        return [\n",
    "            i for i, elem in enumerate(self.elems[:-1])\n",
    "                if elem > self.elems[i + 1]\n",
    "        ]\n",
    "        \n",
    "    @property\n",
    "    def num_descents(self) -> int:\n",
    "        '''The number of elements which are followed by a lesser element'''\n",
    "        return len(self.descents)\n",
    "\n",
    "\n",
    "    # INVERSIONS AND SIGN\n",
    "    @property\n",
    "    def num_inversions(self) -> int:\n",
    "        '''Get total number of \"out-of-order\" elements in the permutation'''\n",
    "        return sum(self.lehmer)\n",
    "\n",
    "    @property\n",
    "    def sign(self) -> int:\n",
    "        '''The parity of the number of inversion of a permutation'''\n",
    "        return -1 if (self.num_inversions % 2) else 1\n",
    "    parity = sign\n",
    "\n",
    "    @property\n",
    "    def is_even(self) -> bool:\n",
    "        return (self.sign == 1)\n",
    "\n",
    "    @property\n",
    "    def is_odd(self) -> bool:\n",
    "        return (self.sign == -1)"
   ]
  },
  {
   "cell_type": "code",
   "execution_count": null,
   "metadata": {},
   "outputs": [],
   "source": []
  },
  {
   "cell_type": "code",
   "execution_count": 6,
   "metadata": {},
   "outputs": [],
   "source": [
    "from itertools import cycle, islice\n",
    "\n",
    "c = cycle('ABC')"
   ]
  },
  {
   "cell_type": "code",
   "execution_count": 11,
   "metadata": {},
   "outputs": [
    {
     "data": {
      "text/plain": [
       "['B', 'C', 'A']"
      ]
     },
     "execution_count": 11,
     "metadata": {},
     "output_type": "execute_result"
    }
   ],
   "source": [
    "list(islice(c, 2, 5))"
   ]
  },
  {
   "cell_type": "code",
   "execution_count": null,
   "metadata": {},
   "outputs": [],
   "source": [
    "[]"
   ]
  },
  {
   "cell_type": "code",
   "execution_count": null,
   "metadata": {},
   "outputs": [],
   "source": [
    "str(c)"
   ]
  },
  {
   "cell_type": "code",
   "execution_count": null,
   "metadata": {},
   "outputs": [],
   "source": []
  },
  {
   "cell_type": "code",
   "execution_count": null,
   "metadata": {},
   "outputs": [],
   "source": [
    "p = Permutation(1,5,0,6,3,4,2)\n",
    "print(p.lehmer_code)\n",
    "q = Permutation.from_lehmer(p.lehmer_code)\n",
    "print(q)"
   ]
  },
  {
   "cell_type": "code",
   "execution_count": null,
   "metadata": {},
   "outputs": [],
   "source": [
    "p.ascents"
   ]
  },
  {
   "cell_type": "code",
   "execution_count": null,
   "metadata": {},
   "outputs": [],
   "source": [
    "p.descents"
   ]
  },
  {
   "cell_type": "code",
   "execution_count": null,
   "metadata": {},
   "outputs": [],
   "source": [
    "p.from_matrix(p.matrix)"
   ]
  },
  {
   "cell_type": "code",
   "execution_count": null,
   "metadata": {},
   "outputs": [],
   "source": [
    "p.matrix"
   ]
  },
  {
   "cell_type": "code",
   "execution_count": null,
   "metadata": {},
   "outputs": [],
   "source": [
    "p.matrix.T"
   ]
  },
  {
   "cell_type": "code",
   "execution_count": null,
   "metadata": {},
   "outputs": [],
   "source": [
    "np.nonzero(p.matrix.T)"
   ]
  },
  {
   "cell_type": "code",
   "execution_count": null,
   "metadata": {},
   "outputs": [],
   "source": [
    "help(list.extend)"
   ]
  },
  {
   "cell_type": "code",
   "execution_count": null,
   "metadata": {},
   "outputs": [],
   "source": [
    "from typing import Union\n",
    "U = TypeVar('U')\n",
    "\n"
   ]
  },
  {
   "cell_type": "code",
   "execution_count": null,
   "metadata": {},
   "outputs": [],
   "source": [
    "pad_list([1,2,3], 2, 0, from_left=True)"
   ]
  },
  {
   "cell_type": "code",
   "execution_count": null,
   "metadata": {},
   "outputs": [],
   "source": [
    "from math import factorial\n",
    "\n",
    "degree = 5\n",
    "for i in range(factorial(degree)):\n",
    "    digits = int_to_factoradic(i)\n",
    "    # digits = pad_list(digits, degree)\n",
    "    print(digits)\n",
    "    print(i, Permutation.from_lehmer(digits))"
   ]
  },
  {
   "cell_type": "code",
   "execution_count": null,
   "metadata": {},
   "outputs": [],
   "source": [
    "f"
   ]
  },
  {
   "cell_type": "code",
   "execution_count": null,
   "metadata": {},
   "outputs": [],
   "source": [
    "_is_valid_permutation_matrix(p.to_matrix())"
   ]
  },
  {
   "cell_type": "code",
   "execution_count": null,
   "metadata": {},
   "outputs": [],
   "source": [
    "p.to_matrix"
   ]
  },
  {
   "cell_type": "code",
   "execution_count": null,
   "metadata": {},
   "outputs": [],
   "source": [
    "Permutation(0,2,1,3).is_even"
   ]
  },
  {
   "cell_type": "code",
   "execution_count": null,
   "metadata": {},
   "outputs": [],
   "source": [
    "p.cycle_type"
   ]
  },
  {
   "cell_type": "code",
   "execution_count": null,
   "metadata": {},
   "outputs": [],
   "source": [
    "from typing import Sequence\n",
    "\n"
   ]
  },
  {
   "cell_type": "code",
   "execution_count": null,
   "metadata": {},
   "outputs": [],
   "source": [
    "f = int_to_factoradic(720)\n",
    "f"
   ]
  },
  {
   "cell_type": "code",
   "execution_count": null,
   "metadata": {},
   "outputs": [],
   "source": [
    "# f[3] = 5"
   ]
  },
  {
   "cell_type": "code",
   "execution_count": null,
   "metadata": {},
   "outputs": [],
   "source": [
    "factoradic_to_int(f)"
   ]
  },
  {
   "cell_type": "code",
   "execution_count": null,
   "metadata": {},
   "outputs": [],
   "source": [
    "p.cycle_decomposition()"
   ]
  },
  {
   "cell_type": "code",
   "execution_count": null,
   "metadata": {},
   "outputs": [],
   "source": [
    "p.num_inversions"
   ]
  },
  {
   "cell_type": "code",
   "execution_count": null,
   "metadata": {},
   "outputs": [],
   "source": [
    "q = Permutation.from_word('dcba')\n",
    "q.lehmer"
   ]
  },
  {
   "cell_type": "code",
   "execution_count": null,
   "metadata": {},
   "outputs": [],
   "source": [
    "cycles = p.cycle_decomposition()\n",
    "\n",
    "set.union(*map(set, cycles))"
   ]
  },
  {
   "cell_type": "code",
   "execution_count": null,
   "metadata": {},
   "outputs": [],
   "source": [
    "p.cycles_form_partition(cycles)"
   ]
  },
  {
   "cell_type": "code",
   "execution_count": null,
   "metadata": {},
   "outputs": [],
   "source": [
    "cycles = p.cycle_decomposition()"
   ]
  },
  {
   "cell_type": "code",
   "execution_count": null,
   "metadata": {},
   "outputs": [],
   "source": [
    "p.cycles_are_disjoint(cycles)"
   ]
  },
  {
   "cell_type": "code",
   "execution_count": null,
   "metadata": {},
   "outputs": [],
   "source": []
  }
 ],
 "metadata": {
  "kernelspec": {
   "display_name": "polymerist-env",
   "language": "python",
   "name": "python3"
  },
  "language_info": {
   "codemirror_mode": {
    "name": "ipython",
    "version": 3
   },
   "file_extension": ".py",
   "mimetype": "text/x-python",
   "name": "python",
   "nbconvert_exporter": "python",
   "pygments_lexer": "ipython3",
   "version": "3.11.5"
  }
 },
 "nbformat": 4,
 "nbformat_minor": 2
}
