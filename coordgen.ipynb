{
 "cells": [
  {
   "cell_type": "markdown",
   "metadata": {},
   "source": [
    "# Developing maximally-symmetric lattice population algorithm"
   ]
  },
  {
   "cell_type": "code",
   "execution_count": null,
   "metadata": {},
   "outputs": [],
   "source": [
    "from polymerist.graphics.plotutils import presize_subplots\n",
    "\n",
    "max_n_atoms : int = 10_000\n",
    "\n",
    "records = {}\n",
    "for mol_name, n_atoms in counts.items():\n",
    "    n_oligomers = max_n_atoms // n_atoms\n",
    "    cubic_lattice_dim = np.ceil(n_oligomers**(1/3))\n",
    "\n",
    "    lattice_info = {\n",
    "        'n_atoms'  : n_atoms,\n",
    "        'n_oligomers' : n_oligomers,\n",
    "        'occupancy' : n_oligomers / cubic_lattice_dim**3,\n",
    "        'vacancy' : cubic_lattice_dim**3 - n_oligomers,\n",
    "    }\n",
    "    records[mol_name] = lattice_info\n",
    "\n",
    "df = pd.DataFrame.from_dict(records, orient='index')\n",
    "\n",
    "fig, ax = presize_subplots(nrows=2, ncols=2, scale=10, elongation=1.0)\n",
    "for colname, axis in zip(df.columns, ax.flatten()):\n",
    "    heights, bins, patches = axis.hist(df[colname])\n",
    "    axis.set_xlabel(colname)\n",
    "    axis.set_ylabel('Counts')\n",
    "\n",
    "plt.show()"
   ]
  },
  {
   "cell_type": "markdown",
   "metadata": {},
   "source": [
    "# Playing with lattice generation (i.e. generating non-cubic lattices)"
   ]
  },
  {
   "cell_type": "code",
   "execution_count": null,
   "metadata": {},
   "outputs": [],
   "source": [
    "import numpy as np\n",
    "import matplotlib.pyplot as plt\n",
    "\n",
    "from polymerist.maths.lattices import generate_int_lattice"
   ]
  },
  {
   "cell_type": "code",
   "execution_count": null,
   "metadata": {},
   "outputs": [],
   "source": [
    "from polymerist.graphics import plotutils\n",
    "\n",
    "coords = np.array([3, 3, 3])\n",
    "num_points = coords.prod()\n",
    "\n",
    "lattice = generate_int_lattice(*coords)\n",
    "plotutils.scatter_3D(lattice)"
   ]
  },
  {
   "cell_type": "code",
   "execution_count": null,
   "metadata": {},
   "outputs": [],
   "source": [
    "A = np.array([\n",
    "    [1.0, 0.0, 0.0],\n",
    "    [0.0, 1.0, 0.0],\n",
    "    [1/2, 1/2, 1/np.sqrt(2)],\n",
    "])\n",
    "shear = lattice @ A\n",
    "plotutils.scatter_3D(shear)"
   ]
  },
  {
   "cell_type": "code",
   "execution_count": null,
   "metadata": {},
   "outputs": [],
   "source": [
    "dims = np.tile(coords, reps=(num_points, 1))\n",
    "FCC = np.mod(shear, dims-0.99)\n",
    "plotutils.scatter_3D(FCC)"
   ]
  },
  {
   "cell_type": "markdown",
   "metadata": {},
   "source": [
    "# Playing with rich progress"
   ]
  },
  {
   "cell_type": "code",
   "execution_count": null,
   "metadata": {},
   "outputs": [],
   "source": [
    "from rich.progress import track, Progress\n",
    "from time import sleep\n",
    "\n",
    "with Progress() as progress:\n",
    "\n",
    "    task1 = progress.add_task(\"[red]Downloading...\", total=1000)\n",
    "    task2 = progress.add_task(\"[green]Processing...\", total=1000)\n",
    "    task3 = progress.add_task(\"[cyan]Cooking...\", total=1000)\n",
    "\n",
    "    while not progress.finished:\n",
    "        progress.update(task1, advance=0.5)\n",
    "        progress.update(task2, advance=0.3)\n",
    "        progress.update(task3, advance=0.9)\n",
    "        sleep(0.02)\n"
   ]
  },
  {
   "cell_type": "code",
   "execution_count": null,
   "metadata": {},
   "outputs": [],
   "source": [
    "import time\n",
    "import random\n",
    "from rich.progress import (\n",
    "    BarColumn,\n",
    "    Progress,\n",
    "    SpinnerColumn,\n",
    "    TaskProgressColumn,\n",
    "    TimeElapsedColumn,\n",
    "    TimeRemainingColumn,\n",
    ")\n",
    "\n",
    "def process(chunks):\n",
    "    for chunk in chunks:\n",
    "        time.sleep(0.1)\n",
    "        yield chunk\n",
    "\n",
    "chunks = [random.randint(1,20) for _ in range(100)]\n",
    "\n",
    "progress_columns = (\n",
    "    SpinnerColumn(),\n",
    "    \"[progress.description]{task.description}\",\n",
    "    BarColumn(),\n",
    "    TaskProgressColumn(),\n",
    "    \"Elapsed:\",\n",
    "    TimeElapsedColumn(),\n",
    "    \"Remaining:\",\n",
    "    TimeRemainingColumn(),\n",
    ")\n",
    "\n",
    "with Progress(*progress_columns) as progress_bar:\n",
    "    task = progress_bar.add_task(\"[blue]Downloading...\", total=sum(chunks))\n",
    "    for chunk in process(chunks):\n",
    "        progress_bar.update(task, advance=chunk)"
   ]
  },
  {
   "cell_type": "code",
   "execution_count": null,
   "metadata": {},
   "outputs": [],
   "source": [
    "import random\n",
    "import time\n",
    "\n",
    "from rich.live import Live\n",
    "from rich.table import Table\n",
    "\n",
    "\n",
    "def generate_table() -> Table:\n",
    "    \"\"\"Make a new table.\"\"\"\n",
    "    table = Table()\n",
    "    table.add_column(\"ID\")\n",
    "    table.add_column(\"Value\")\n",
    "    table.add_column(\"Status\")\n",
    "\n",
    "    for row in range(random.randint(2, 6)):\n",
    "        value = random.random() * 100\n",
    "        table.add_row(\n",
    "            f\"{row}\", f\"{value:3.2f}\", \"[red]ERROR\" if value < 50 else \"[green]SUCCESS\"\n",
    "        )\n",
    "    return table\n",
    "\n",
    "\n",
    "with Live(generate_table(), refresh_per_second=4) as live:\n",
    "    for _ in range(40):\n",
    "        time.sleep(0.4)\n",
    "        live.update(generate_table())"
   ]
  },
  {
   "cell_type": "code",
   "execution_count": null,
   "metadata": {},
   "outputs": [],
   "source": [
    "from dataclasses import dataclass\n",
    "from rich.console import Console, ConsoleOptions, RenderResult\n",
    "from rich.table import Table\n",
    "\n",
    "@dataclass\n",
    "class Student:\n",
    "    id: int\n",
    "    name: str\n",
    "    age: int\n",
    "    def __rich_console__(self, console: Console, options: ConsoleOptions) -> RenderResult:\n",
    "        yield f\"[b]Student:[/b] #{self.id}\"\n",
    "        my_table = Table(\"Attribute\", \"Value\")\n",
    "        my_table.add_row(\"name\", self.name)\n",
    "        my_table.add_row(\"age\", str(self.age))\n",
    "        yield my_table"
   ]
  },
  {
   "cell_type": "markdown",
   "metadata": {},
   "source": [
    "# Playing with cubic/octahedral symmetry groups"
   ]
  },
  {
   "cell_type": "code",
   "execution_count": null,
   "metadata": {},
   "outputs": [],
   "source": [
    "import numpy as np\n",
    "from rdkit import Chem\n",
    "from rdkit.Chem.AllChem import EmbedMolecule\n",
    "from polymerist.monomers import specification\n",
    "\n",
    "smi = '[Br]-[C]12-[C]3(-[I])-[C]4(-[Cl])-[C]-1(-[N])-[C]1(-[I])-[C]-2(-[Cl])-[C]-3(-[N])-[C]-4-1-[Br]'\n",
    "print(smi)\n",
    "mol = Chem.MolFromSmiles(smi, sanitize=True)\n",
    "mol = Chem.AddHs(mol)\n",
    "EmbedMolecule(mol)\n",
    "display(mol)\n",
    "\n",
    "Chem.MolToMolFile(mol, 'cubane.mol')"
   ]
  },
  {
   "cell_type": "code",
   "execution_count": null,
   "metadata": {},
   "outputs": [],
   "source": [
    "from polymerist.graphics.plotutils import scatter_3D\n",
    "from polymerist.maths.lattices import generate_int_lattice\n",
    "\n",
    "d : int = 2\n",
    "dims = [d, d, d]\n",
    "\n",
    "lattice = generate_int_lattice(*dims)\n",
    "COM = lattice.mean(axis=0)\n",
    "order = np.lexsort(lattice.T)\n",
    "lattice = lattice[order] - COM # sort lexicographically and translate center of grid to origin\n",
    "\n",
    "print(order, lattice[order])"
   ]
  },
  {
   "cell_type": "code",
   "execution_count": null,
   "metadata": {},
   "outputs": [],
   "source": [
    "import matplotlib.pyplot as plt\n",
    "\n",
    "fig = plt.figure()\n",
    "ax = fig.add_subplot(projection='3d')\n",
    "\n",
    "labels = np.lexsort(lattice.T)\n",
    "ax.scatter(*lattice.T, color='r')\n",
    "for i, coords in zip(labels, lattice):\n",
    "    ax.text(*coords, str(i))\n",
    "\n",
    "ax.set_xlabel('x')\n",
    "ax.set_ylabel('y')\n",
    "ax.set_zlabel('z')\n",
    "\n",
    "plt.show()"
   ]
  },
  {
   "cell_type": "code",
   "execution_count": null,
   "metadata": {},
   "outputs": [],
   "source": [
    "from typing import Generator, Iterable\n",
    "from itertools import permutations, product as cartesian_product\n",
    "\n",
    "\n",
    "def sign_alternations(n : int) -> Generator[tuple[int, int, int], None, None]:\n",
    "    '''Generate every possible n-tuple containing either 1 or -1'''\n",
    "    for signs in cartesian_product(*([1, -1] for _ in range(n))):\n",
    "        yield signs\n",
    "\n",
    "def symmetric_group(n : int) -> Generator[tuple[int, int, int], None, None]:\n",
    "    '''Generates all permutations of n elements as tuples of the integers [0, n-1]'''\n",
    "    for perm in permutations(range(n), n):\n",
    "        yield perm\n",
    "\n",
    "def orthogonal_basis_transforms(n : int=3) -> Generator[np.ndarray, None, None]:\n",
    "    '''Generate all matrices in n-dimensions which permute or invert the standard basis vectors'''\n",
    "    for signs in sign_alternations(n):\n",
    "        matr = np.diag(signs)\n",
    "        for perm in symmetric_group(n):\n",
    "            yield matr[list(perm)]\n",
    "\n",
    "\n",
    "def cycle_decomposition(permutation : Iterable[int]) -> list[tuple[int]]:\n",
    "    '''Return the disjoint cycles of a permutation'''\n",
    "    N = len(permutation)\n",
    "    assert(N == len(set(permutation))) # uniqueness check\n",
    "    visited : list[bool] = [False] * N\n",
    "\n",
    "    cycles = []\n",
    "    for elem in permutation:\n",
    "        cycle = []\n",
    "        while not visited[elem]:\n",
    "            cycle.append(elem)\n",
    "            visited[elem] = True\n",
    "            elem = permutation[elem]\n",
    "        if cycle:\n",
    "            cycles.append(tuple(cycle))\n",
    "\n",
    "    return cycles"
   ]
  },
  {
   "cell_type": "code",
   "execution_count": 244,
   "metadata": {},
   "outputs": [],
   "source": [
    "g = [el for el in orthogonal_basis_transforms(3)]"
   ]
  },
  {
   "cell_type": "code",
   "execution_count": null,
   "metadata": {},
   "outputs": [],
   "source": [
    "g"
   ]
  },
  {
   "cell_type": "code",
   "execution_count": 278,
   "metadata": {},
   "outputs": [],
   "source": [
    "from scipy.spatial.transform import Rotation, Slerp\n",
    "\n",
    "trans = g[-1]\n",
    "\n",
    "I = Rotation.identity()\n",
    "rot = Rotation.from_matrix(trans)\n",
    "full_rot = Rotation.concatenate([I, rot])\n",
    "interpolator = Slerp(np.linspace(0, 1, num=len(full_rot), dtype=int), full_rot)"
   ]
  },
  {
   "cell_type": "code",
   "execution_count": 279,
   "metadata": {},
   "outputs": [],
   "source": [
    "from pathlib import Path\n",
    "\n",
    "dir = Path('gif_frames')\n",
    "dir.mkdir(exist_ok=True)\n",
    "\n",
    "n_frames = 20\n",
    "keyframes = interpolator(np.linspace(0, 1, num=n_frames)).as_matrix()\n",
    "\n",
    "fig = plt.figure()\n",
    "ax = fig.add_subplot(projection='3d')\n",
    "ax.autoscale(False)\n",
    "\n",
    "\n",
    "a = np.copy(lattice)\n",
    "for i, partial_rot in enumerate(keyframes):\n",
    "    ax.scatter(*(a @ partial_rot).T)\n",
    "    ax.set(xlim3d=(-1, 1), xlabel='X')\n",
    "    ax.set(ylim3d=(-1, 1), ylabel='Y')\n",
    "    ax.set(zlim3d=(-1, 1), zlabel='Z')\n",
    "    \n",
    "    fig.savefig(dir / f'frame_{i}.png')\n",
    "    ax.clear()\n",
    "plt.close()"
   ]
  },
  {
   "cell_type": "code",
   "execution_count": 285,
   "metadata": {},
   "outputs": [
    {
     "data": {
      "text/plain": [
       "array([[ 0,  0, -1],\n",
       "       [ 0, -1,  0],\n",
       "       [-1,  0,  0]])"
      ]
     },
     "execution_count": 285,
     "metadata": {},
     "output_type": "execute_result"
    }
   ],
   "source": [
    "trans"
   ]
  },
  {
   "cell_type": "code",
   "execution_count": 286,
   "metadata": {},
   "outputs": [
    {
     "data": {
      "text/plain": [
       "array([0, 4, 2, 6, 1, 5, 3, 7])"
      ]
     },
     "execution_count": 286,
     "metadata": {},
     "output_type": "execute_result"
    }
   ],
   "source": [
    "order"
   ]
  },
  {
   "cell_type": "code",
   "execution_count": 295,
   "metadata": {},
   "outputs": [
    {
     "name": "stdout",
     "output_type": "stream",
     "text": [
      "defaultdict(<class 'list'>, {1: [array([0, 1, 4, 5, 2, 3, 6, 7])], 2: [array([0, 2, 1, 3, 4, 6, 5, 7])], 3: [array([0, 4, 1, 5, 2, 6, 3, 7]), array([0, 2, 4, 6, 1, 3, 5, 7])], 4: [array([0, 2, 4, 6, 1, 3, 5, 7]), array([0, 4, 1, 5, 2, 6, 3, 7])], 5: [array([0, 4, 2, 6, 1, 5, 3, 7])], 6: [array([4, 5, 6, 7, 0, 1, 2, 3])], 7: [array([2, 3, 6, 7, 0, 1, 4, 5]), array([6, 7, 4, 5, 2, 3, 0, 1]), array([4, 5, 0, 1, 6, 7, 2, 3])], 8: [array([4, 6, 5, 7, 0, 2, 1, 3])], 9: [array([2, 6, 3, 7, 0, 4, 1, 5]), array([3, 1, 7, 5, 2, 0, 6, 4]), array([7, 6, 5, 4, 3, 2, 1, 0]), array([5, 1, 4, 0, 7, 3, 6, 2]), array([4, 6, 0, 2, 5, 7, 1, 3])], 10: [array([1, 3, 5, 7, 0, 2, 4, 6]), array([3, 7, 2, 6, 1, 5, 0, 4]), array([7, 6, 5, 4, 3, 2, 1, 0]), array([6, 4, 2, 0, 7, 5, 3, 1]), array([4, 0, 5, 1, 6, 2, 7, 3])], 11: [array([1, 5, 3, 7, 0, 4, 2, 6]), array([5, 4, 7, 6, 1, 0, 3, 2]), array([4, 0, 6, 2, 5, 1, 7, 3])], 12: [array([2, 3, 0, 1, 6, 7, 4, 5])], 13: [array([4, 5, 0, 1, 6, 7, 2, 3]), array([6, 7, 4, 5, 2, 3, 0, 1]), array([2, 3, 6, 7, 0, 1, 4, 5])], 14: [array([1, 3, 0, 2, 5, 7, 4, 6]), array([3, 2, 1, 0, 7, 6, 5, 4]), array([2, 0, 3, 1, 6, 4, 7, 5])], 15: [array([1, 5, 0, 4, 3, 7, 2, 6]), array([5, 7, 1, 3, 4, 6, 0, 2]), array([7, 6, 5, 4, 3, 2, 1, 0]), array([6, 2, 7, 3, 4, 0, 5, 1]), array([2, 0, 6, 4, 3, 1, 7, 5])], 16: [array([4, 6, 0, 2, 5, 7, 1, 3]), array([5, 1, 4, 0, 7, 3, 6, 2]), array([7, 6, 5, 4, 3, 2, 1, 0]), array([3, 1, 7, 5, 2, 0, 6, 4]), array([2, 6, 3, 7, 0, 4, 1, 5])], 17: [array([2, 6, 0, 4, 3, 7, 1, 5])], 18: [array([6, 7, 4, 5, 2, 3, 0, 1])], 19: [array([6, 7, 2, 3, 4, 5, 0, 1])], 20: [array([5, 7, 4, 6, 1, 3, 0, 2]), array([3, 2, 1, 0, 7, 6, 5, 4]), array([6, 4, 7, 5, 2, 0, 3, 1])], 21: [array([3, 7, 2, 6, 1, 5, 0, 4]), array([6, 4, 2, 0, 7, 5, 3, 1])], 22: [array([5, 7, 1, 3, 4, 6, 0, 2]), array([6, 2, 7, 3, 4, 0, 5, 1])], 23: [array([3, 7, 1, 5, 2, 6, 0, 4]), array([5, 4, 7, 6, 1, 0, 3, 2]), array([6, 2, 4, 0, 7, 3, 5, 1])], 24: [array([1, 0, 3, 2, 5, 4, 7, 6])], 25: [array([1, 0, 5, 4, 3, 2, 7, 6])], 26: [array([2, 0, 3, 1, 6, 4, 7, 5]), array([3, 2, 1, 0, 7, 6, 5, 4]), array([1, 3, 0, 2, 5, 7, 4, 6])], 27: [array([4, 0, 5, 1, 6, 2, 7, 3]), array([6, 4, 2, 0, 7, 5, 3, 1]), array([7, 6, 5, 4, 3, 2, 1, 0]), array([3, 7, 2, 6, 1, 5, 0, 4]), array([1, 3, 5, 7, 0, 2, 4, 6])], 28: [array([2, 0, 6, 4, 3, 1, 7, 5]), array([6, 2, 7, 3, 4, 0, 5, 1]), array([7, 6, 5, 4, 3, 2, 1, 0]), array([5, 7, 1, 3, 4, 6, 0, 2]), array([1, 5, 0, 4, 3, 7, 2, 6])], 29: [array([4, 0, 6, 2, 5, 1, 7, 3]), array([5, 4, 7, 6, 1, 0, 3, 2]), array([1, 5, 3, 7, 0, 4, 2, 6])], 30: [array([5, 4, 7, 6, 1, 0, 3, 2])], 31: [array([3, 2, 7, 6, 1, 0, 5, 4]), array([6, 7, 4, 5, 2, 3, 0, 1]), array([5, 4, 1, 0, 7, 6, 3, 2])], 32: [array([6, 4, 7, 5, 2, 0, 3, 1]), array([3, 2, 1, 0, 7, 6, 5, 4]), array([5, 7, 4, 6, 1, 3, 0, 2])], 33: [array([6, 2, 7, 3, 4, 0, 5, 1]), array([5, 7, 1, 3, 4, 6, 0, 2])], 34: [array([3, 1, 7, 5, 2, 0, 6, 4]), array([5, 1, 4, 0, 7, 3, 6, 2])], 35: [array([5, 1, 7, 3, 4, 0, 6, 2])], 36: [array([3, 2, 1, 0, 7, 6, 5, 4])], 37: [array([5, 4, 1, 0, 7, 6, 3, 2]), array([6, 7, 4, 5, 2, 3, 0, 1]), array([3, 2, 7, 6, 1, 0, 5, 4])], 38: [array([3, 1, 2, 0, 7, 5, 6, 4])], 39: [array([5, 1, 4, 0, 7, 3, 6, 2]), array([3, 1, 7, 5, 2, 0, 6, 4])], 40: [array([6, 4, 2, 0, 7, 5, 3, 1]), array([3, 7, 2, 6, 1, 5, 0, 4])], 41: [array([6, 2, 4, 0, 7, 3, 5, 1]), array([5, 4, 7, 6, 1, 0, 3, 2]), array([3, 7, 1, 5, 2, 6, 0, 4])], 42: [array([7, 6, 5, 4, 3, 2, 1, 0])], 43: [array([7, 6, 3, 2, 5, 4, 1, 0])], 44: [array([7, 5, 6, 4, 3, 1, 2, 0])], 45: [array([7, 3, 6, 2, 5, 1, 4, 0]), array([0, 2, 4, 6, 1, 3, 5, 7]), array([7, 6, 5, 4, 3, 2, 1, 0]), array([0, 4, 1, 5, 2, 6, 3, 7]), array([7, 5, 3, 1, 6, 4, 2, 0])], 46: [array([7, 5, 3, 1, 6, 4, 2, 0]), array([0, 4, 1, 5, 2, 6, 3, 7]), array([7, 6, 5, 4, 3, 2, 1, 0]), array([0, 2, 4, 6, 1, 3, 5, 7]), array([7, 3, 6, 2, 5, 1, 4, 0])], 47: [array([7, 3, 5, 1, 6, 2, 4, 0])]})\n"
     ]
    }
   ],
   "source": [
    "from collections import defaultdict, Counter\n",
    "perms = defaultdict(list)\n",
    "\n",
    "for i, trans in enumerate(g):\n",
    "    new = lattice.copy()\n",
    "    init_order = np.lexsort(lattice.T)\n",
    "    while True:\n",
    "        new = new @ trans\n",
    "        perm = np.lexsort(new.T)\n",
    "        if np.all(perm == init_order):\n",
    "            break\n",
    "        perms[i].append(perm)\n",
    "\n",
    "print(perms)"
   ]
  },
  {
   "cell_type": "code",
   "execution_count": 348,
   "metadata": {},
   "outputs": [],
   "source": []
  },
  {
   "cell_type": "code",
   "execution_count": 349,
   "metadata": {},
   "outputs": [
    {
     "name": "stdout",
     "output_type": "stream",
     "text": [
      "[2 6 3 7 4 1 0 5]\n"
     ]
    },
    {
     "data": {
      "text/plain": [
       "[(2, 3, 7, 5, 1, 6, 0), (4,)]"
      ]
     },
     "execution_count": 349,
     "metadata": {},
     "output_type": "execute_result"
    }
   ],
   "source": [
    "np.random.shuffle(perm)\n",
    "print(perm)\n",
    "cycle_decomposition(perm)"
   ]
  },
  {
   "cell_type": "code",
   "execution_count": null,
   "metadata": {},
   "outputs": [],
   "source": []
  }
 ],
 "metadata": {
  "kernelspec": {
   "display_name": "polymerist-env",
   "language": "python",
   "name": "python3"
  },
  "language_info": {
   "codemirror_mode": {
    "name": "ipython",
    "version": 3
   },
   "file_extension": ".py",
   "mimetype": "text/x-python",
   "name": "python",
   "nbconvert_exporter": "python",
   "pygments_lexer": "ipython3",
   "version": "3.11.5"
  }
 },
 "nbformat": 4,
 "nbformat_minor": 2
}
