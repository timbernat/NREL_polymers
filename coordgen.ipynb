{
 "cells": [
  {
   "cell_type": "markdown",
   "metadata": {},
   "source": [
    "# Developing maximally-symmetric lattice population algorithm"
   ]
  },
  {
   "cell_type": "code",
   "execution_count": null,
   "metadata": {},
   "outputs": [],
   "source": [
    "from polymerist.graphics.plotutils import presize_subplots\n",
    "\n",
    "max_n_atoms : int = 10_000\n",
    "\n",
    "records = {}\n",
    "for mol_name, n_atoms in counts.items():\n",
    "    n_oligomers = max_n_atoms // n_atoms\n",
    "    cubic_lattice_dim = np.ceil(n_oligomers**(1/3))\n",
    "\n",
    "    lattice_info = {\n",
    "        'n_atoms'  : n_atoms,\n",
    "        'n_oligomers' : n_oligomers,\n",
    "        'occupancy' : n_oligomers / cubic_lattice_dim**3,\n",
    "        'vacancy' : cubic_lattice_dim**3 - n_oligomers,\n",
    "    }\n",
    "    records[mol_name] = lattice_info\n",
    "\n",
    "df = pd.DataFrame.from_dict(records, orient='index')\n",
    "\n",
    "fig, ax = presize_subplots(nrows=2, ncols=2, scale=10, elongation=1.0)\n",
    "for colname, axis in zip(df.columns, ax.flatten()):\n",
    "    heights, bins, patches = axis.hist(df[colname])\n",
    "    axis.set_xlabel(colname)\n",
    "    axis.set_ylabel('Counts')\n",
    "\n",
    "plt.show()"
   ]
  },
  {
   "cell_type": "markdown",
   "metadata": {},
   "source": [
    "## Experimenting with RDKit conformers"
   ]
  },
  {
   "cell_type": "code",
   "execution_count": null,
   "metadata": {},
   "outputs": [],
   "source": [
    "from rdkit import Chem\n",
    "from rdkit.Chem.AllChem import EmbedMolecule\n",
    "from rdkit.Chem import rdMolTransforms"
   ]
  },
  {
   "cell_type": "code",
   "execution_count": null,
   "metadata": {},
   "outputs": [],
   "source": [
    "from polymerist.monomers import specification\n",
    "\n",
    "smi = 'CC(=O)OC'\n",
    "smi = specification.expanded_SMILES(smi, assign_map_nums=False)\n",
    "rdmol = Chem.MolFromSmiles(smi, sanitize=False)\n",
    "display(rdmol)"
   ]
  },
  {
   "cell_type": "code",
   "execution_count": null,
   "metadata": {},
   "outputs": [],
   "source": [
    "err = EmbedMolecule(rdmol)\n",
    "assert(err == 0)\n",
    "display(rdmol)"
   ]
  },
  {
   "cell_type": "code",
   "execution_count": null,
   "metadata": {},
   "outputs": [],
   "source": [
    "conf = rdmol.GetConformer(0)\n",
    "pos  = conf.GetPositions() \n",
    "pos"
   ]
  },
  {
   "cell_type": "markdown",
   "metadata": {},
   "source": [
    "# Playing with lattice generation (i.e. generating non-cubic lattices)"
   ]
  },
  {
   "cell_type": "code",
   "execution_count": null,
   "metadata": {},
   "outputs": [],
   "source": [
    "from typing import Annotated, Any, Literal, Optional, TypeAlias, TypeVar\n",
    "import numpy as np\n",
    "import numpy.typing as npt\n",
    "from polymerist.genutils.typetools.numpytypes import Shape, DType, N, M\n",
    "\n",
    "\n",
    "def mean_coord(coords : np.ndarray[Shape[M, N], DType]) -> np.ndarray[Shape[N], DType]:\n",
    "    '''Compute the average (center-of-mass) coordinate of a vector of coordinates'''\n",
    "    return coords.mean(axis=0)\n",
    "center_of_mass = COM = mean_coord\n",
    "\n",
    "def dists_to_point(coords : np.ndarray[Shape[M, N], DType], point : np.ndarray[Shape[N], DType], norm_order : Optional[int]=None) -> np.ndarray[Shape[M], DType]:\n",
    "    '''Compute the distance between each point in a coordinate array and a single arbitrary point'''\n",
    "    return np.linalg.norm(coords - point, ord=norm_order, axis=1)\n",
    "\n",
    "def dists_to_centroid(coords : np.ndarray[Shape[M, N], DType], norm_order : Optional[int]=None) -> np.ndarray[Shape[M], DType]:\n",
    "    '''Compute the distance of each coordinate in an array of coordinates to the coordinates' centroid'''\n",
    "    return dists_to_point(coords, point=mean_coord(coords), norm_order=norm_order)\n",
    "\n",
    "\n",
    "def bounding_box(coords : np.ndarray[Shape[M, N], DType]) -> np.ndarray[Shape[2, N], DType]:\n",
    "    '''Compute the tight bounding box around an array of coordinates'''\n",
    "    return np.vstack([coords.min(axis=0), coords.max(axis=0)])\n",
    "\n",
    "def bounding_box_dims(coords : np.ndarray[Shape[M, N], DType]) -> np.ndarray[Shape[N], DType]:\n",
    "    '''Compute the tight bounding box dimensions around an array of coordinates'''\n",
    "    return coords.ptp(axis=0)"
   ]
  },
  {
   "cell_type": "code",
   "execution_count": null,
   "metadata": {},
   "outputs": [],
   "source": [
    "from dataclasses import dataclass, field\n",
    "from polymerist.genutils.decorators.functional import flexible_listlike_input\n",
    "\n",
    "import numpy as np\n",
    "from polymerist.maths import lattices\n",
    "from polymerist.maths.linearalg.decomposition import inv_left, inv_right\n",
    "from polymerist.genutils.typetools.numpytypes import Shape, DType, N, M\n",
    "\n",
    "\n",
    "class CubicIntegerLattice:\n",
    "    '''For representing an n-dimensional integer lattice, consisting of all \n",
    "    n-tuples of integers with values constrained by side lengths in each dimension'''\n",
    "    def __init__(self, sidelens : np.ndarray[Shape[N], int]) -> None: # TODO: implement more flexible input support (i.e. star-unpacking, listlikes, etc.)\n",
    "        assert(sidelens.ndim == 1)\n",
    "        self.sidelens = sidelens # ordered vector of the number of points along each dimension\n",
    "        self.points : np.ndarray[Shape[M, N], int] = lattices.generate_int_lattice(*self.sidelens)\n",
    "\n",
    "    def sidelens_as_str(self, multip_char : str='x') -> str:\n",
    "        '''Stringify the lattice sidelengths'''\n",
    "        return multip_char.join(str(i) for i in self.sidelens)\n",
    "\n",
    "    def __repr__(self) -> str:\n",
    "        return f'{self.__class__.__name__}({self.n_dims}-dimensional, {self.sidelens_as_str()})'\n",
    "\n",
    "    # LATTICE DIMENSIONS\n",
    "    @property\n",
    "    def n_dims(self) -> int: # referred to as \"N\" in typehints\n",
    "        '''The number of dimensions of the lattice'''\n",
    "        return self.sidelens.size\n",
    "    \n",
    "    @property\n",
    "    def capacity(self) -> int: # referred to as \"M\" in typehints\n",
    "        '''The maximum number of points that the lattice could contains'''\n",
    "        return np.product(self.sidelens)\n",
    "\n",
    "    @property\n",
    "    def n_points(self) -> int: \n",
    "        '''The actual number of points currently contained in the lattice'''\n",
    "        return np.product(self.sidelens)\n",
    "\n",
    "    @property    \n",
    "    def bounding_box_extrema(self) -> tuple[np.ndarray[Shape[N], int], np.ndarray[Shape[N], int]]:\n",
    "        '''The minimal and maximal coordinates of the tight bounding box around the lattice'''\n",
    "        return self.points.min(axis=0), self.points.max(axis=0)\n",
    "\n",
    "    @property\n",
    "    def bounding_box_sidelens(self) -> np.ndarray[Shape[N], int]:\n",
    "        '''The side lengths of the tight bounding box around the points currently in the lattice'''\n",
    "        return self.points.ptp(axis=0)\n",
    "    \n",
    "    # LEXICOGRAPHIC ORDERING\n",
    "    @property\n",
    "    def lex_ordered_weights(self) -> np.ndarray[Shape[N], int]:\n",
    "        '''Vector of the number of points corresponding\n",
    "        Can be viewed as a linear transformation between indices and point coordinates when coords are placed in lexicographic order'''\n",
    "        return np.concatenate(([1], np.cumprod(self.sidelens)[:-1]))\n",
    "    \n",
    "    @property\n",
    "    def lex_ordered_idxs(self) -> np.ndarray[Shape[M, N], int]:\n",
    "        '''Returns a vector of the position that each point in self.points occupies when ordered lexicographically'''\n",
    "        return np.lexsort(self.points.T)\n",
    "\n",
    "    def lex_order_points(self) -> None:\n",
    "        '''Sort points in the lattice in lexicographic order'''\n",
    "        self.points = self.points[self.lex_order_idxs]\n",
    "\n",
    "    # SUBLATTICE DECOMPOSITION\n",
    "    @property\n",
    "    def odd_even_idxs(self) -> tuple[np.ndarray[Shape[M], int], np.ndarray[Shape[M], int]]: # TOSELF: each subarray actually has length M/2 (+1 if capacity is odd), not sure how to typehint that though\n",
    "        '''Return two vectors of indices, corresponding to points in the \"odd\" and \"even\" non-neighboring sublattices, respectively'''\n",
    "        parity_vector = np.mod(self.points.sum(axis=1), 2) # remainder of sum of coordinates of each point; corresponds to the condition that a single step along any dimension should invert parity\n",
    "        is_odd = parity_vector.astype(bool) # typecast as booleans to permit indexing (and make intent a bit clearer)\n",
    "\n",
    "        return np.where(is_odd), np.where(~is_odd)\n",
    "\n",
    "    @property\n",
    "    def odd_idxs(self) -> np.ndarray[Shape[M], int]:\n",
    "        '''Indices of the point in the in \"odd\" sublattice'''\n",
    "        return self.odd_even_idxs[0]\n",
    "\n",
    "    @property\n",
    "    def even_idxs(self) -> np.ndarray[Shape[M], int]:\n",
    "        '''Indices of the point in the in \"even\" sublattice'''\n",
    "        return self.odd_even_idxs[1]\n",
    "\n",
    "    @property\n",
    "    def odd_sublattice(self) -> np.ndarray[Shape[M, N], int]:\n",
    "        '''Returns points within the odd sublattice of the lattice points'''\n",
    "        return self.points[self.odd_idxs]\n",
    "    odd_points = odd_sublattice # alias for convenience\n",
    "\n",
    "    @property\n",
    "    def even_sublattice(self) -> np.ndarray[Shape[M, N], int]:\n",
    "        '''Returns points within the even sublattice of the lattice points'''\n",
    "        return self.points[self.even_idxs]\n",
    "    even_points = even_sublattice # alias for convenience\n",
    "\n",
    "    # LATTICE TRANSFORMATIONS\n",
    "    def transformed_points(self, matrix : np.ndarray[Shape[N,N], float]) -> np.ndarray[Shape[M, N], float]:\n",
    "        '''\n",
    "        Accepts an NxN matrix (where N is the dimension of the lattice)\n",
    "        Returns a linearly-transformed copy of the points currently in the lattice'''\n",
    "        assert(matrix.shape == (self.n_dims, self.n_dims))\n",
    "        return self.points @ matrix # NOTE: need to right-multiply multiply, since ROWS of self.points need to be tranformed "
   ]
  },
  {
   "cell_type": "code",
   "execution_count": 69,
   "metadata": {},
   "outputs": [
    {
     "data": {
      "text/plain": [
       "CubicIntegerLattice(3-dimensional, 3x3x3)"
      ]
     },
     "execution_count": 69,
     "metadata": {},
     "output_type": "execute_result"
    }
   ],
   "source": [
    "%matplotlib inline\n",
    "import matplotlib.pyplot as plt\n",
    "# %matplotlib notebook\n",
    "\n",
    "d = 3\n",
    "dims = np.array([d, d, d])\n",
    "latt = CubicIntegerLattice(dims)\n",
    "latt\n"
   ]
  },
  {
   "cell_type": "code",
   "execution_count": 70,
   "metadata": {},
   "outputs": [
    {
     "ename": "AttributeError",
     "evalue": "'CubicIntegerLattice' object has no attribute 'even_points'",
     "output_type": "error",
     "traceback": [
      "\u001b[0;31m---------------------------------------------------------------------------\u001b[0m",
      "\u001b[0;31mAttributeError\u001b[0m                            Traceback (most recent call last)",
      "Cell \u001b[0;32mIn[70], line 1\u001b[0m\n\u001b[0;32m----> 1\u001b[0m \u001b[43mlatt\u001b[49m\u001b[38;5;241;43m.\u001b[39;49m\u001b[43meven_points\u001b[49m\n",
      "\u001b[0;31mAttributeError\u001b[0m: 'CubicIntegerLattice' object has no attribute 'even_points'"
     ]
    }
   ],
   "source": [
    "latt.even_points"
   ]
  },
  {
   "cell_type": "code",
   "execution_count": null,
   "metadata": {},
   "outputs": [],
   "source": [
    "\n",
    "fig = plt.figure()\n",
    "ax = fig.add_subplot(projection='3d')\n",
    "ax.scatter( *odd.T, color='b')\n",
    "ax.scatter(*even.T, color='r')\n",
    "plt.ion()\n",
    "plt.show(block=True)"
   ]
  },
  {
   "cell_type": "code",
   "execution_count": null,
   "metadata": {},
   "outputs": [],
   "source": [
    "plt.plot(range(10))\n",
    "plt.show()"
   ]
  },
  {
   "cell_type": "code",
   "execution_count": null,
   "metadata": {},
   "outputs": [],
   "source": []
  },
  {
   "cell_type": "code",
   "execution_count": null,
   "metadata": {},
   "outputs": [],
   "source": [
    "plt.plot(range(10))\n",
    "plt.show()"
   ]
  },
  {
   "cell_type": "code",
   "execution_count": null,
   "metadata": {},
   "outputs": [],
   "source": [
    "odd = latt[odd_indices]\n",
    "even = latt[even_indices]"
   ]
  },
  {
   "cell_type": "markdown",
   "metadata": {},
   "source": [
    "### Dynamically registering common unit vector geenrators"
   ]
  },
  {
   "cell_type": "code",
   "execution_count": null,
   "metadata": {},
   "outputs": [],
   "source": [
    "import matplotlib.pyplot as plt\n",
    "fig = plt.figure()\n",
    "ax = fig.add_subplot(projection='3d')\n",
    "\n",
    "A = np.array([\n",
    "    [1, -1, 3],\n",
    "    [1, 0, 5],\n",
    "    [1, 2, 6],\n",
    "])\n",
    "R = np.array([\n",
    "    [0, 1, -1],\n",
    "    [1, 0, 0],\n",
    "    [0, 1, 2],\n",
    "])\n",
    "sheared = latt @ A.T\n",
    "sheared_redux = latt @ R.T\n",
    "\n",
    "fig = plt.figure()\n",
    "ax = fig.add_subplot(projection='3d')\n",
    "ax.scatter(*sheared.T, color='b')\n",
    "ax.scatter(*sheared_redux.T, color='r')"
   ]
  },
  {
   "cell_type": "code",
   "execution_count": null,
   "metadata": {},
   "outputs": [],
   "source": [
    "sheared"
   ]
  },
  {
   "cell_type": "code",
   "execution_count": null,
   "metadata": {},
   "outputs": [],
   "source": [
    "A_inv = np.linalg.inv(A)\n",
    "inv_left(A) - A_inv, inv_right(A) - A_inv"
   ]
  },
  {
   "cell_type": "markdown",
   "metadata": {},
   "source": [
    "# Playing with cubic/octahedral symmetry groups"
   ]
  },
  {
   "cell_type": "code",
   "execution_count": null,
   "metadata": {},
   "outputs": [],
   "source": [
    "import numpy as np\n",
    "from polymerist.graphics.plotutils import scatter_3D\n",
    "from polymerist.maths.lattices import generate_int_lattice\n",
    "\n",
    "d : int = 4\n",
    "\n",
    "# produce integer lattice\n",
    "dims = np.array([d, d, d])\n",
    "num_points = dims.prod()\n",
    "lattice = generate_int_lattice(*dims)\n",
    "\n",
    "# sort lexicographically\n",
    "order = np.lexsort(lattice.T)\n",
    "lattice = lattice[order]\n",
    "\n",
    "# determine even and odd positions after sorting\n",
    "index_is_odd = lattice.sum(axis=1) % 2\n",
    "index_is_odd = index_is_odd.astype(bool)\n",
    "\n",
    "# center lattice at the origin\n",
    "COM = lattice.mean(axis=0)\n",
    "lattice = lattice - COM # sort lexicographically and translate center of grid to origin\n",
    "\n",
    "# print(order, lattice[order])"
   ]
  },
  {
   "cell_type": "code",
   "execution_count": null,
   "metadata": {},
   "outputs": [],
   "source": [
    "import matplotlib.pyplot as plt\n",
    "\n",
    "alternate : bool = not False\n",
    "fig = plt.figure()\n",
    "ax = fig.add_subplot(projection='3d')\n",
    "\n",
    "if alternate:\n",
    "    ax.scatter(*lattice[ index_is_odd].T, color='r')\n",
    "    ax.scatter(*lattice[~index_is_odd].T, color='b')\n",
    "else:\n",
    "    ax.scatter(*lattice.T, color='r')\n",
    "\n",
    "labels = np.lexsort(lattice.T)\n",
    "for i, coords in zip(labels, lattice):\n",
    "    ax.text(*coords, str(i))\n",
    "\n",
    "ax.set_xlabel('x')\n",
    "ax.set_ylabel('y')\n",
    "ax.set_zlabel('z')\n",
    "\n",
    "plt.show()"
   ]
  },
  {
   "cell_type": "code",
   "execution_count": null,
   "metadata": {},
   "outputs": [],
   "source": [
    "from typing import Generator, Iterable\n",
    "from itertools import permutations, product as cartesian_product\n",
    "from polymerist.maths.combinatorics.permutations import Permutation, Cycle\n",
    "from scipy.spatial.transform import Rotation, Slerp\n",
    "\n",
    "\n",
    "def sign_alternations(n : int) -> Generator[tuple[int, int, int], None, None]:\n",
    "    '''Generate every possible n-tuple containing either 1 or -1'''\n",
    "    for signs in cartesian_product(*([1, -1] for _ in range(n))):\n",
    "        yield signs\n",
    "\n",
    "def orthogonal_basis_transforms(n : int=3) -> Generator[np.ndarray, None, None]:\n",
    "    '''Generate all matrices in n-dimensions which permute or invert the standard basis vectors'''\n",
    "    for signs in sign_alternations(n):\n",
    "        matr = np.diag(signs)\n",
    "        for perm in Permutation.symmetric_group(n):\n",
    "            yield matr @ perm.matrix\n",
    "\n",
    "def interpolate_linear_transformation(trans : np.ndarray, n_frames : int=10) -> np.ndarray:\n",
    "    '''Accepts a linear transformation matrix (of size MxN) and a number of frames F\n",
    "    Returns an FxMxN array containing uniforms \"steps\" between the identity and the desired transformation'''\n",
    "    I = Rotation.identity()\n",
    "    rot = Rotation.from_matrix(trans)\n",
    "    full_rot = Rotation.concatenate([I, rot])\n",
    "    interpolator = Slerp(np.linspace(0, 1, num=len(full_rot), dtype=int), full_rot)\n",
    "\n",
    "    return interpolator(np.linspace(0, 1, num=n_frames)).as_matrix()"
   ]
  },
  {
   "cell_type": "code",
   "execution_count": null,
   "metadata": {},
   "outputs": [],
   "source": [
    "from collections import defaultdict\n",
    "\n",
    "perms  = {}\n",
    "all_cycles = {}\n",
    "\n",
    "orbits = defaultdict(set)\n",
    "stabilizers = defaultdict(list)\n",
    "\n",
    "init_order = np.lexsort(lattice.T)\n",
    "group_matrices = [el for el in orthogonal_basis_transforms(3)]\n",
    "for i, trans in enumerate(group_matrices):\n",
    "    new = lattice @ trans\n",
    "    perms[i]      = perm   = Permutation(*np.lexsort(new.T))\n",
    "    all_cycles[i] = cycles = perm.to_cycles(canonicalize=False)\n",
    "    \n",
    "    for cycle in cycles:\n",
    "        if len(cycle) == 1:\n",
    "            point_idx = cycle[0] # get the one element in the singleton cycle\n",
    "            stabilizers[point_idx].append(trans)\n",
    "\n",
    "        for point_idx in cycle:\n",
    "            orbits[point_idx].update(cycle)\n",
    "\n",
    "unique_orbits = set(tuple(sorted(orbit)) for orbit in orbits.values())\n",
    "sum(len(i) for i in unique_orbits) == num_points"
   ]
  },
  {
   "cell_type": "code",
   "execution_count": null,
   "metadata": {},
   "outputs": [],
   "source": [
    "stab_sizes = {k : len(v) for k, v in stabilizers.items()}\n",
    "for i in unique_orbits:\n",
    "    print([stab_sizes[j] for j in i])"
   ]
  },
  {
   "cell_type": "markdown",
   "metadata": {},
   "source": [
    "## Visualize all symmetry actions as GIFs"
   ]
  },
  {
   "cell_type": "code",
   "execution_count": null,
   "metadata": {},
   "outputs": [],
   "source": [
    "from pathlib import Path\n",
    "from math import ceil\n",
    "from matplotlib.animation import FuncAnimation, ArtistAnimation, writers\n",
    "from rich.progress import track\n",
    "\n",
    "\n",
    "n_frames = 20\n",
    "\n",
    "dir = Path('gif_frames')\n",
    "dir.mkdir(exist_ok=True)\n",
    "\n",
    "ax_max = ceil(d / 2)\n",
    "ax_min = -ax_max\n",
    "\n",
    "fig = plt.figure()\n",
    "ax = fig.add_subplot(projection='3d')\n",
    "ax.autoscale(False)\n",
    "\n",
    "def update(frame_no : int):\n",
    "    partial_rot = keyframes[frame_no, :, :]\n",
    "    latt_pos = lattice @ partial_rot\n",
    "\n",
    "    ax.clear()\n",
    "    ax.set(xlim3d=(ax_min, ax_max), xlabel='X')\n",
    "    ax.set(ylim3d=(ax_min, ax_max), ylabel='Y')\n",
    "    ax.set(zlim3d=(ax_min, ax_max), zlabel='Z')\n",
    "\n",
    "    return ax.scatter(*latt_pos.T)\n",
    "\n",
    "for i, trans in track(enumerate(group_matrices), total=len(group_matrices), description='Visualizing symmetry group actions...'):\n",
    "    keyframes = interpolate_linear_transformation(trans, n_frames=n_frames)\n",
    "    ani = FuncAnimation(fig=fig, func=update, frames=len(keyframes), interval=10)\n",
    "    ani.save(dir/f'symmetry_{i+1}.gif', writer='pillow')\n",
    "    plt.close(fig)"
   ]
  },
  {
   "cell_type": "markdown",
   "metadata": {},
   "source": [
    "# Playing with rich progress"
   ]
  },
  {
   "cell_type": "code",
   "execution_count": null,
   "metadata": {},
   "outputs": [],
   "source": [
    "from rich.progress import track, Progress\n",
    "from time import sleep\n",
    "\n",
    "with Progress() as progress:\n",
    "\n",
    "    task1 = progress.add_task(\"[red]Downloading...\", total=1000)\n",
    "    task2 = progress.add_task(\"[green]Processing...\", total=1000)\n",
    "    task3 = progress.add_task(\"[cyan]Cooking...\", total=1000)\n",
    "\n",
    "    while not progress.finished:\n",
    "        progress.update(task1, advance=0.5)\n",
    "        progress.update(task2, advance=0.3)\n",
    "        progress.update(task3, advance=0.9)\n",
    "        sleep(0.02)"
   ]
  },
  {
   "cell_type": "code",
   "execution_count": null,
   "metadata": {},
   "outputs": [],
   "source": [
    "import time\n",
    "import random\n",
    "from rich.progress import (\n",
    "    BarColumn,\n",
    "    Progress,\n",
    "    SpinnerColumn,\n",
    "    TaskProgressColumn,\n",
    "    TimeElapsedColumn,\n",
    "    TimeRemainingColumn,\n",
    ")\n",
    "\n",
    "def process(chunks):\n",
    "    for chunk in chunks:\n",
    "        time.sleep(0.1)\n",
    "        yield chunk\n",
    "\n",
    "chunks = [random.randint(1,20) for _ in range(100)]\n",
    "\n",
    "progress_columns = (\n",
    "    SpinnerColumn(),\n",
    "    \"[progress.description]{task.description}\",\n",
    "    BarColumn(),\n",
    "    TaskProgressColumn(),\n",
    "    \"Elapsed:\",\n",
    "    TimeElapsedColumn(),\n",
    "    \"Remaining:\",\n",
    "    TimeRemainingColumn(),\n",
    ")\n",
    "\n",
    "with Progress(*progress_columns) as progress_bar:\n",
    "    task = progress_bar.add_task(\"[blue]Downloading...\", total=sum(chunks))\n",
    "    for chunk in process(chunks):\n",
    "        progress_bar.update(task, advance=chunk)"
   ]
  },
  {
   "cell_type": "code",
   "execution_count": null,
   "metadata": {},
   "outputs": [],
   "source": [
    "import random\n",
    "import time\n",
    "\n",
    "from rich.live import Live\n",
    "from rich.table import Table\n",
    "\n",
    "\n",
    "def generate_table() -> Table:\n",
    "    \"\"\"Make a new table.\"\"\"\n",
    "    table = Table()\n",
    "    table.add_column(\"ID\")\n",
    "    table.add_column(\"Value\")\n",
    "    table.add_column(\"Status\")\n",
    "\n",
    "    for row in range(random.randint(2, 6)):\n",
    "        value = random.random() * 100\n",
    "        table.add_row(\n",
    "            f\"{row}\", f\"{value:3.2f}\", \"[red]ERROR\" if value < 50 else \"[green]SUCCESS\"\n",
    "        )\n",
    "    return table\n",
    "\n",
    "\n",
    "with Live(generate_table(), refresh_per_second=4) as live:\n",
    "    for _ in range(40):\n",
    "        time.sleep(0.4)\n",
    "        live.update(generate_table())"
   ]
  },
  {
   "cell_type": "code",
   "execution_count": null,
   "metadata": {},
   "outputs": [],
   "source": [
    "from dataclasses import dataclass\n",
    "from rich.console import Console, ConsoleOptions, RenderResult\n",
    "from rich.table import Table\n",
    "\n",
    "@dataclass\n",
    "class Student:\n",
    "    id: int\n",
    "    name: str\n",
    "    age: int\n",
    "    def __rich_console__(self, console: Console, options: ConsoleOptions) -> RenderResult:\n",
    "        yield f\"[b]Student:[/b] #{self.id}\"\n",
    "        my_table = Table(\"Attribute\", \"Value\")\n",
    "        my_table.add_row(\"name\", self.name)\n",
    "        my_table.add_row(\"age\", str(self.age))\n",
    "        yield my_table"
   ]
  },
  {
   "cell_type": "code",
   "execution_count": null,
   "metadata": {},
   "outputs": [],
   "source": []
  }
 ],
 "metadata": {
  "kernelspec": {
   "display_name": "polymerist-env",
   "language": "python",
   "name": "python3"
  },
  "language_info": {
   "codemirror_mode": {
    "name": "ipython",
    "version": 3
   },
   "file_extension": ".py",
   "mimetype": "text/x-python",
   "name": "python",
   "nbconvert_exporter": "python",
   "pygments_lexer": "ipython3",
   "version": "3.11.0"
  }
 },
 "nbformat": 4,
 "nbformat_minor": 2
}
