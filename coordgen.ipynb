{
 "cells": [
  {
   "cell_type": "markdown",
   "metadata": {},
   "source": [
    "# Developing maximally-symmetric lattice population algorithm"
   ]
  },
  {
   "cell_type": "code",
   "execution_count": null,
   "metadata": {},
   "outputs": [],
   "source": [
    "from polymerist.graphics.plotutils import presize_subplots\n",
    "\n",
    "max_n_atoms : int = 10_000\n",
    "\n",
    "records = {}\n",
    "for mol_name, n_atoms in counts.items():\n",
    "    n_oligomers = max_n_atoms // n_atoms\n",
    "    cubic_lattice_dim = np.ceil(n_oligomers**(1/3))\n",
    "\n",
    "    lattice_info = {\n",
    "        'n_atoms'  : n_atoms,\n",
    "        'n_oligomers' : n_oligomers,\n",
    "        'occupancy' : n_oligomers / cubic_lattice_dim**3,\n",
    "        'vacancy' : cubic_lattice_dim**3 - n_oligomers,\n",
    "    }\n",
    "    records[mol_name] = lattice_info\n",
    "\n",
    "df = pd.DataFrame.from_dict(records, orient='index')\n",
    "\n",
    "fig, ax = presize_subplots(nrows=2, ncols=2, scale=10, elongation=1.0)\n",
    "for colname, axis in zip(df.columns, ax.flatten()):\n",
    "    heights, bins, patches = axis.hist(df[colname])\n",
    "    axis.set_xlabel(colname)\n",
    "    axis.set_ylabel('Counts')\n",
    "\n",
    "plt.show()"
   ]
  },
  {
   "cell_type": "code",
   "execution_count": null,
   "metadata": {},
   "outputs": [],
   "source": [
    "import numpy as np\n",
    "from rdkit import Chem\n",
    "from rdkit.Chem.AllChem import EmbedMolecule\n",
    "from polymerist.monomers import specification\n",
    "\n",
    "smi = '[Br]-[C]12-[C]3(-[I])-[C]4(-[Cl])-[C]-1(-[N])-[C]1(-[I])-[C]-2(-[Cl])-[C]-3(-[N])-[C]-4-1-[Br]'\n",
    "print(smi)\n",
    "mol = Chem.MolFromSmiles(smi, sanitize=True)\n",
    "mol = Chem.AddHs(mol)\n",
    "EmbedMolecule(mol)\n",
    "display(mol)\n",
    "\n",
    "Chem.MolToMolFile(mol, 'cubane.mol')"
   ]
  },
  {
   "cell_type": "markdown",
   "metadata": {},
   "source": [
    "# Playing with lattice generation (i.e. generating non-cubic lattices)"
   ]
  },
  {
   "cell_type": "code",
   "execution_count": null,
   "metadata": {},
   "outputs": [],
   "source": [
    "from rdkit import Chem\n",
    "from rdkit.Chem.AllChem import EmbedMolecule\n",
    "from rdkit.Chem import rdMolTransforms"
   ]
  },
  {
   "cell_type": "code",
   "execution_count": 1,
   "metadata": {},
   "outputs": [],
   "source": [
    "from typing import Annotated, Any, Literal, Optional, TypeAlias, TypeVar\n",
    "import numpy as np\n",
    "import numpy.typing as npt\n",
    "\n",
    "\n",
    "N = TypeVar('N', bound=int) # for typing arbitrary array dimension\n",
    "M = TypeVar('M', bound=int) # for typing arbitrary array dimension\n",
    "DType = TypeVar('DType', bound=np.generic)\n",
    "Shape : TypeAlias = tuple\n",
    "\n",
    "Coords2D : TypeAlias = np.ndarray[Shape[M, 2], DType] # an Mx2 array of M 3D coordinates\n",
    "Coords3D : TypeAlias = np.ndarray[Shape[M, 3], DType] # an Mx3 array of M 3D coordinates\n",
    "CoordsND : TypeAlias = np.ndarray[Shape[M, N], DType] # an MxN array of M ND coordinates\n",
    "\n",
    "Vector2D : TypeAlias = np.ndarray[Shape[2], DType] # a 1x2 array of M 3D coordinates\n",
    "Vector3D : TypeAlias = np.ndarray[Shape[3], DType] # a 1x3 array of M 3D coordinates\n",
    "VectorND : TypeAlias = np.ndarray[Shape[N], DType] # a 1xN array of M ND coordinates\n",
    "\n",
    "\n",
    "\n",
    "T = TypeVar('T')\n",
    "def inv_left(matrix : np.ndarray[Shape[M, N], DType]) -> np.ndarray[Shape[N, M], DType]:\n",
    "    '''Return the left-inverse of a non-square matrix'''\n",
    "    return np.linalg.inv(matrix.T @ matrix) @ matrix.T\n",
    "\n",
    "def inv_right(matrix : np.ndarray[Shape[M, N], DType]) -> np.ndarray[Shape[N, M], DType]:\n",
    "    '''Return the right-inverse of a non-square matrix'''\n",
    "    return matrix.T @ np.linalg.inv(matrix @ matrix.T)\n",
    "\n",
    "from typing import Any\n",
    "Shape : TypeAlias = tuple\n",
    "\n",
    "\n",
    "def mean_coord(coords : np.ndarray[Shape[M, N], DType]) -> np.ndarray[Shape[N], DType]:\n",
    "    '''Compute the average (center-of-mass) coordinate of a vector of coordinates'''\n",
    "    return coords.mean(axis=0)\n",
    "\n",
    "def dists_to_point(coords : np.ndarray[Shape[M, N], DType], point : np.ndarray[Shape[N], DType], norm_order : Optional[int]=None) -> np.ndarray[Shape[M], DType]:\n",
    "    '''Compute the distance between each point in a coordinate array and a single arbitrary point'''\n",
    "    return np.linalg.norm(coords - point, ord=norm_order, axis=1)\n",
    "\n",
    "def dists_to_centroid(coords : np.ndarray[Shape[M, N], DType], norm_order : Optional[int]=None) -> np.ndarray[Shape[M], DType]:\n",
    "    '''Compute the distance of each coordinate in an array of coordinates to the coordinates' centroid'''\n",
    "    return dists_to_point(coords, point=mean_coord(coords), norm_order=norm_order)\n",
    "\n",
    "\n",
    "def bounding_box(coords : np.ndarray[Shape[M, N], DType]) -> np.ndarray[Shape[2, N], DType]:\n",
    "    '''Compute the tight bounding box around an array of coordinates'''\n",
    "    return np.vstack([coords.min(axis=0), coords.max(axis=0)])\n",
    "\n",
    "def bounding_box_dims(coords : np.ndarray[Shape[M, N], DType]) -> np.ndarray[Shape[N], DType]:\n",
    "    '''Compute the tight bounding box dimensions around an array of coordinates'''\n",
    "    return coords.ptp(axis=0)\n",
    "\n",
    "\n",
    "def lex_order_coords(coords : np.ndarray[Shape[M, N]]) -> np.ndarray[Shape[M], int]:\n",
    "    '''determine the lexicographic ordering of a coordinate array'''\n",
    "    return np.lexsort(coords.T)\n",
    "\n",
    "def odd_even_lattice(coords : np.ndarray[Shape[M, N]]) -> tuple[np.ndarray[Shape[M, N]], np.ndarray[Shape[M, N]]]:\n",
    "    '''Partition a lattice into odd and even indexed sublattices, returned as two coordinate arrays\n",
    "    Sublattices have the property that an odd points 1-connected nearest neighbors are all even, and vice-versa'''\n",
    "    pass"
   ]
  },
  {
   "cell_type": "code",
   "execution_count": 143,
   "metadata": {},
   "outputs": [],
   "source": [
    "from dataclasses import dataclass\n",
    "\n",
    "@dataclass\n",
    "class LatticeParameters:\n",
    "    '''For storing the lengths of and the angles between the 3 lattice vectors of a crystallographic unit cell'''\n",
    "    a : float\n",
    "    b : float\n",
    "    c : float\n",
    "\n",
    "    alpha : float\n",
    "    beta  : float\n",
    "    gamma : float\n",
    "\n",
    "    def __post_init__(self) -> None:\n",
    "        '''Validating initialized values'''\n",
    "        for axial_length in self.axial_lengths:\n",
    "            assert(axial_length > 0) # ensure vector lengths are positive\n",
    "\n",
    "        for angle_attr in ('alpha', 'beta', 'gamma'):\n",
    "            angle = getattr(self, angle_attr)\n",
    "            setattr(self, angle_attr, angle % (2*np.pi)) # ensure angles are within [0, 2*pi)\n",
    "\n",
    "    # LATTICE VECTOR METHODS\n",
    "    @classmethod\n",
    "    def from_lattice_vectors(cls, vectors : np.ndarray[Shape[3,3], float]) -> 'LatticeParameters':\n",
    "        '''Obtain axial lengths and inter-vector angles from a matrix of lattice vectors'''\n",
    "        axial_lengths = np.linalg.norm(vectors, axis=1)\n",
    "        vectors = vectors / axial_lengths[:, None] # normalize along rows\n",
    "        print(vectors, np.linalg.norm(vectors, axis=1))\n",
    "\n",
    "        cycled_dots = np.sum(np.roll(vectors, 1, axis=0) * np.roll(vectors, -1, axis=0), axis=1) # row-wise dot product between cycles rows, giving [vectors.C, C.A, and A.vectors] as result\n",
    "        print(cycled_dots)\n",
    "        angles = np.arccos(cycled_dots) # invert cosine from dot product expression to recover angles\n",
    "\n",
    "        return cls(*axial_lengths, *angles)\n",
    "\n",
    "    def to_lattice_vectors(self) -> np.ndarray[Shape[3,3], float]:\n",
    "        '''\n",
    "        The restricted lattice vectors corresponding to the lattice parameters,\n",
    "        where vector A lies along the x-axis and vector B is in the xy-plane\n",
    "        \n",
    "        Vectors are returned as a 3x3 matrix, where each row represents a lattice vector\n",
    "        '''\n",
    "        # formula taken from https://www.aflowlib.org/prototype-encyclopedia/triclinic_lattice.html \n",
    "        ax = 1.0\n",
    "        bx = np.cos(self.gamma)\n",
    "        by = np.sin(self.gamma)\n",
    "        cx = np.cos(self.beta)\n",
    "        cy = (np.cos(self.alpha) - np.cos(self.beta)*np.cos(self.gamma)) / np.sin(self.gamma)\n",
    "        cz = np.sqrt(1.0 - cx**2 - cy**2)\n",
    "\n",
    "        unit_matr = np.array([\n",
    "            [ax, 0.0, 0.0],\n",
    "            [bx, by, 0.0],\n",
    "            [cx, cy, cz],\n",
    "        ]).astype(np.float64)\n",
    "        return unit_matr @ np.diag(self.lengths).astype(np.float64) # order matters here!\n",
    "\n",
    "    @property\n",
    "    def lattice_vectors(self) ->np.ndarray[Shape[3,3], float]:\n",
    "        '''Property alias of to_lattice_vectors() method for convenience'''\n",
    "        return self.to_lattice_vectors()\n",
    "\n",
    "    def volume(self) -> float:\n",
    "        '''The volume of the unit cell (in arbitrary units)'''\n",
    "        return np.linalg.det(self.lattice_vectors)\n",
    "    \n",
    "    # PROPERTY VIEWS\n",
    "    @property\n",
    "    def axial_lengths(self) -> np.ndarray[Shape[3], float]:\n",
    "        '''View of just the axial lengths'''\n",
    "        return np.array([self.a, self.b, self.c])\n",
    "    lengths = axial_lengths\n",
    "\n",
    "    def axial_angles(self, in_degrees : bool=False) -> np.ndarray[Shape[3], float]:\n",
    "        '''View of just the angles'''\n",
    "        angles = np.array([self.alpha, self.beta, self.gamma])\n",
    "        if in_degrees:\n",
    "            angles = np.rad2deg(angles)\n",
    "        return angles\n",
    "    \n",
    "    @property\n",
    "    def angles(self) -> np.ndarray[Shape[3], float]:\n",
    "        '''Property alias of angles() method for convenience'''\n",
    "        return self.axial_angles(in_degrees=False)"
   ]
  },
  {
   "cell_type": "code",
   "execution_count": 144,
   "metadata": {},
   "outputs": [
    {
     "data": {
      "text/plain": [
       "array([[ 1.        ,  0.        ,  0.        ],\n",
       "       [ 0.33333333,  0.94280904,  0.        ],\n",
       "       [-0.33333333,  0.47140452,  0.81649658]])"
      ]
     },
     "execution_count": 144,
     "metadata": {},
     "output_type": "execute_result"
    }
   ],
   "source": [
    "TO = np.array([\n",
    "    [1, 0, 0],\n",
    "    [1/3, np.sqrt(2)*2/3, 0],\n",
    "    [-1/3, np.sqrt(2)/3, np.sqrt(6)/3],\n",
    "])\n",
    "RDC = np.array([\n",
    "    [1.0, 0.0, 0.0],\n",
    "    [0.0, 1.0, 0.0],\n",
    "    [1/2, 1/2, 1/np.sqrt(2)],\n",
    "])\n",
    "TO"
   ]
  },
  {
   "cell_type": "code",
   "execution_count": 149,
   "metadata": {},
   "outputs": [
    {
     "data": {
      "text/plain": [
       "LatticeParameters(a=8.508, b=11.185, c=7.3, alpha=1.5856316254368483, beta=1.99142067652553, gamma=1.3962634015954636)"
      ]
     },
     "execution_count": 149,
     "metadata": {},
     "output_type": "execute_result"
    }
   ],
   "source": [
    "lens = np.array([8.508, 11.185, 7.3], dtype=np.float64)\n",
    "angs = np.deg2rad(np.array([90.85, 114.1, 80.0], dtype=np.float64))\n",
    "lp = LatticeParameters(*lens, *angs)\n",
    "lp"
   ]
  },
  {
   "cell_type": "code",
   "execution_count": 150,
   "metadata": {},
   "outputs": [
    {
     "data": {
      "text/plain": [
       "array([[ 8.508     ,  0.        ,  0.        ],\n",
       "       [ 1.4773987 , 11.01507472,  0.        ],\n",
       "       [-3.47407556,  0.63682997,  6.65071474]])"
      ]
     },
     "execution_count": 150,
     "metadata": {},
     "output_type": "execute_result"
    }
   ],
   "source": [
    "matr = lp.lattice_vectors\n",
    "matr"
   ]
  },
  {
   "cell_type": "code",
   "execution_count": 151,
   "metadata": {},
   "outputs": [
    {
     "name": "stdout",
     "output_type": "stream",
     "text": [
      "[[ 1.          0.          0.        ]\n",
      " [ 0.13293477  0.99112479  0.        ]\n",
      " [-0.46134078  0.084568    0.88318341]] [1. 1. 1.]\n",
      "[ 0.02248921 -0.46134078  0.13293477]\n"
     ]
    },
    {
     "data": {
      "text/plain": [
       "LatticeParameters(a=8.508, b=11.113711258465901, c=7.530389099802367, alpha=1.5483052178059842, beta=2.050302138657309, gamma=1.4374668764441623)"
      ]
     },
     "execution_count": 151,
     "metadata": {},
     "output_type": "execute_result"
    }
   ],
   "source": [
    "lp2 = LatticeParameters.from_lattice_vectors(matr)\n",
    "lp2"
   ]
  },
  {
   "cell_type": "code",
   "execution_count": 152,
   "metadata": {},
   "outputs": [
    {
     "data": {
      "text/plain": [
       "array([ 88.71135438, 117.47365927,  82.36078521])"
      ]
     },
     "execution_count": 152,
     "metadata": {},
     "output_type": "execute_result"
    }
   ],
   "source": [
    "lp2.axial_angles(in_degrees=True)"
   ]
  },
  {
   "cell_type": "code",
   "execution_count": null,
   "metadata": {},
   "outputs": [],
   "source": [
    "def "
   ]
  },
  {
   "cell_type": "code",
   "execution_count": 70,
   "metadata": {},
   "outputs": [],
   "source": [
    "ang2 = []\n",
    "for rowpair in ((1,2), (0,2), (0,1)):\n",
    "    row1, row2 = matr[rowpair, :]\n",
    "    angle = np.dot(row1, row2)\n",
    "    ang2.append(angle)"
   ]
  },
  {
   "cell_type": "code",
   "execution_count": 74,
   "metadata": {},
   "outputs": [
    {
     "data": {
      "text/plain": [
       "array([0.        , 3.14159265, 0.        ])"
      ]
     },
     "execution_count": 74,
     "metadata": {},
     "output_type": "execute_result"
    }
   ],
   "source": [
    "np.arccos(np.clip(ang2, -1, 1))"
   ]
  },
  {
   "cell_type": "code",
   "execution_count": 66,
   "metadata": {},
   "outputs": [
    {
     "data": {
      "text/plain": [
       "(array([8.508, 0.   , 0.   ]), array([ 1.4773987 , 11.01507472,  0.        ]))"
      ]
     },
     "execution_count": 66,
     "metadata": {},
     "output_type": "execute_result"
    }
   ],
   "source": [
    "row1, row2"
   ]
  },
  {
   "cell_type": "code",
   "execution_count": 63,
   "metadata": {},
   "outputs": [
    {
     "name": "stderr",
     "output_type": "stream",
     "text": [
      "/tmp/ipykernel_227791/901799723.py:31: RuntimeWarning: invalid value encountered in arccos\n",
      "  angles = np.arccos(cycled_dots) # invert cosine from dot product expression to recover angles\n"
     ]
    },
    {
     "data": {
      "text/plain": [
       "LatticeParameters(a=8.508, b=11.113711258465901, c=7.530389099802367, alpha=nan, beta=nan, gamma=nan)"
      ]
     },
     "execution_count": 63,
     "metadata": {},
     "output_type": "execute_result"
    }
   ],
   "source": [
    "lp2 = LatticeParameters.from_lattice_vectors(matr)\n",
    "lp2"
   ]
  },
  {
   "cell_type": "code",
   "execution_count": 39,
   "metadata": {},
   "outputs": [
    {
     "name": "stdout",
     "output_type": "stream",
     "text": [
      "[[ 1.          0.          0.        ]\n",
      " [ 0.33333333  0.94280904  0.        ]\n",
      " [-0.33333333  0.47140452  0.81649658]]\n"
     ]
    },
    {
     "data": {
      "text/plain": [
       "LatticeParameters(a=1.0, b=1.0, c=0.9999999999999999, alpha=3.8671730623849494, beta=6.002431338704408, gamma=3.8671730623849503)"
      ]
     },
     "execution_count": 39,
     "metadata": {},
     "output_type": "execute_result"
    }
   ],
   "source": [
    "# A = np.random.rand(3,3) * np.random.rand(3)\n",
    "A = RDC\n",
    "A = TO\n",
    "# A = 10.0 * np.eye(3)\n",
    "A[0,1] = A[0,2] = A[1,2] = 0\n",
    "print(A)\n",
    "\n",
    "lp = LatticeParameters.from_lattice_vectors(A)\n",
    "lp"
   ]
  },
  {
   "cell_type": "code",
   "execution_count": 34,
   "metadata": {},
   "outputs": [
    {
     "data": {
      "text/plain": [
       "array([ 70.52877937, 109.47122063,  70.52877937])"
      ]
     },
     "execution_count": 34,
     "metadata": {},
     "output_type": "execute_result"
    }
   ],
   "source": [
    "lp.axial_angles(in_degrees=True)"
   ]
  },
  {
   "cell_type": "code",
   "execution_count": 35,
   "metadata": {},
   "outputs": [
    {
     "data": {
      "text/plain": [
       "(array([[ 1.        ,  0.        ,  0.        ],\n",
       "        [ 0.33333333,  0.94280904,  0.        ],\n",
       "        [-0.33333333,  0.47140452,  0.81649658]]),\n",
       " array([[ 1.        ,  0.        ,  0.        ],\n",
       "        [ 0.33333333,  0.94280904,  0.        ],\n",
       "        [-0.33333333,  0.47140452,  0.81649658]]))"
      ]
     },
     "execution_count": 35,
     "metadata": {},
     "output_type": "execute_result"
    }
   ],
   "source": [
    "lp.lattice_vectors, A"
   ]
  },
  {
   "cell_type": "code",
   "execution_count": 36,
   "metadata": {},
   "outputs": [
    {
     "data": {
      "text/plain": [
       "array([[ 0.00000000e+00,  0.00000000e+00,  0.00000000e+00],\n",
       "       [-5.55111512e-17, -1.11022302e-16,  0.00000000e+00],\n",
       "       [ 1.66533454e-16,  5.55111512e-17,  0.00000000e+00]])"
      ]
     },
     "execution_count": 36,
     "metadata": {},
     "output_type": "execute_result"
    }
   ],
   "source": [
    "(lp.lattice_vectors - A).astype(np.float64)"
   ]
  },
  {
   "cell_type": "code",
   "execution_count": null,
   "metadata": {},
   "outputs": [],
   "source": [
    "np.sin(lp.angles), np.cos(lp.angles)"
   ]
  },
  {
   "cell_type": "code",
   "execution_count": null,
   "metadata": {},
   "outputs": [],
   "source": []
  },
  {
   "cell_type": "code",
   "execution_count": null,
   "metadata": {},
   "outputs": [],
   "source": [
    "latt = generate_int_lattice(2,2,2)\n",
    "order = lex_order_coords(latt)\n",
    "latt = latt[order]\n",
    "\n",
    "nest = latt.reshape(2,2,2,3)\n",
    "nest.reshape(-1, nest.shape[-1])"
   ]
  },
  {
   "cell_type": "code",
   "execution_count": null,
   "metadata": {},
   "outputs": [],
   "source": [
    "theta = np.pi / 3#np.arccos(1/2)\n",
    "theta\n",
    "\n",
    "# A = np.array([\n",
    "#     [1, np.cos(theta)],\n",
    "#     [0, np.sin(theta)],\n",
    "# ])\n",
    "A = np.array([\n",
    "    [1.0, 0.0, 0.0],\n",
    "    [0.0, 1.0, 0.0],\n",
    "    [1/2, 1/2, 1/np.sqrt(2)],\n",
    "])\n",
    "sheared = latt @ TO.T\n",
    "\n",
    "fig = plt.figure()\n",
    "ax = fig.add_subplot(projection='3d')\n",
    "ax.scatter(*sheared.T)"
   ]
  },
  {
   "cell_type": "code",
   "execution_count": null,
   "metadata": {},
   "outputs": [],
   "source": [
    "A_inv = np.linalg.inv(A)\n",
    "inv_left(A) - A_inv, inv_right(A) - A_inv"
   ]
  },
  {
   "cell_type": "code",
   "execution_count": null,
   "metadata": {},
   "outputs": [],
   "source": [
    "np.indices(*latt)"
   ]
  },
  {
   "cell_type": "code",
   "execution_count": null,
   "metadata": {},
   "outputs": [],
   "source": [
    "from polymerist.monomers import specification\n",
    "\n",
    "smi = 'CC(=O)OC'\n",
    "smi = specification.expanded_SMILES(smi, assign_map_nums=False)\n",
    "rdmol = Chem.MolFromSmiles(smi, sanitize=False)\n",
    "display(rdmol)"
   ]
  },
  {
   "cell_type": "code",
   "execution_count": null,
   "metadata": {},
   "outputs": [],
   "source": [
    "err = EmbedMolecule(rdmol)\n",
    "assert(err == 0)\n",
    "display(rdmol)"
   ]
  },
  {
   "cell_type": "code",
   "execution_count": null,
   "metadata": {},
   "outputs": [],
   "source": [
    "conf = rdmol.GetConformer(0)\n",
    "pos  = conf.GetPositions() \n",
    "pos"
   ]
  },
  {
   "cell_type": "markdown",
   "metadata": {},
   "source": [
    "# Playing with cubic/octahedral symmetry groups"
   ]
  },
  {
   "cell_type": "code",
   "execution_count": null,
   "metadata": {},
   "outputs": [],
   "source": [
    "import numpy as np\n",
    "from polymerist.graphics.plotutils import scatter_3D\n",
    "from polymerist.maths.lattices import generate_int_lattice\n",
    "\n",
    "d : int = 4\n",
    "\n",
    "# produce integer lattice\n",
    "dims = np.array([d, d, d])\n",
    "num_points = dims.prod()\n",
    "lattice = generate_int_lattice(*dims)\n",
    "\n",
    "# sort lexicographically\n",
    "order = np.lexsort(lattice.T)\n",
    "lattice = lattice[order]\n",
    "\n",
    "# determine even and odd positions after sorting\n",
    "index_is_odd = lattice.sum(axis=1) % 2\n",
    "index_is_odd = index_is_odd.astype(bool)\n",
    "\n",
    "# center lattice at the origin\n",
    "COM = lattice.mean(axis=0)\n",
    "lattice = lattice - COM # sort lexicographically and translate center of grid to origin\n",
    "\n",
    "# print(order, lattice[order])"
   ]
  },
  {
   "cell_type": "code",
   "execution_count": null,
   "metadata": {},
   "outputs": [],
   "source": [
    "import matplotlib.pyplot as plt\n",
    "\n",
    "alternate : bool = not False\n",
    "fig = plt.figure()\n",
    "ax = fig.add_subplot(projection='3d')\n",
    "\n",
    "if alternate:\n",
    "    ax.scatter(*lattice[ index_is_odd].T, color='r')\n",
    "    ax.scatter(*lattice[~index_is_odd].T, color='b')\n",
    "else:\n",
    "    ax.scatter(*lattice.T, color='r')\n",
    "\n",
    "labels = np.lexsort(lattice.T)\n",
    "for i, coords in zip(labels, lattice):\n",
    "    ax.text(*coords, str(i))\n",
    "\n",
    "ax.set_xlabel('x')\n",
    "ax.set_ylabel('y')\n",
    "ax.set_zlabel('z')\n",
    "\n",
    "plt.show()"
   ]
  },
  {
   "cell_type": "code",
   "execution_count": null,
   "metadata": {},
   "outputs": [],
   "source": [
    "from typing import Generator, Iterable\n",
    "from itertools import permutations, product as cartesian_product\n",
    "from polymerist.maths.combinatorics.permutations import Permutation, Cycle\n",
    "from scipy.spatial.transform import Rotation, Slerp\n",
    "\n",
    "\n",
    "def sign_alternations(n : int) -> Generator[tuple[int, int, int], None, None]:\n",
    "    '''Generate every possible n-tuple containing either 1 or -1'''\n",
    "    for signs in cartesian_product(*([1, -1] for _ in range(n))):\n",
    "        yield signs\n",
    "\n",
    "def orthogonal_basis_transforms(n : int=3) -> Generator[np.ndarray, None, None]:\n",
    "    '''Generate all matrices in n-dimensions which permute or invert the standard basis vectors'''\n",
    "    for signs in sign_alternations(n):\n",
    "        matr = np.diag(signs)\n",
    "        for perm in Permutation.symmetric_group(n):\n",
    "            yield matr @ perm.matrix\n",
    "\n",
    "def interpolate_linear_transformation(trans : np.ndarray, n_frames : int=10) -> np.ndarray:\n",
    "    '''Accepts a linear transformation matrix (of size MxN) and a number of frames F\n",
    "    Returns an FxMxN array containing uniforms \"steps\" between the identity and the desired transformation'''\n",
    "    I = Rotation.identity()\n",
    "    rot = Rotation.from_matrix(trans)\n",
    "    full_rot = Rotation.concatenate([I, rot])\n",
    "    interpolator = Slerp(np.linspace(0, 1, num=len(full_rot), dtype=int), full_rot)\n",
    "\n",
    "    return interpolator(np.linspace(0, 1, num=n_frames)).as_matrix()"
   ]
  },
  {
   "cell_type": "code",
   "execution_count": null,
   "metadata": {},
   "outputs": [],
   "source": [
    "from collections import defaultdict\n",
    "\n",
    "perms  = {}\n",
    "all_cycles = {}\n",
    "\n",
    "orbits = defaultdict(set)\n",
    "stabilizers = defaultdict(list)\n",
    "\n",
    "init_order = np.lexsort(lattice.T)\n",
    "group_matrices = [el for el in orthogonal_basis_transforms(3)]\n",
    "for i, trans in enumerate(group_matrices):\n",
    "    new = lattice @ trans\n",
    "    perms[i]      = perm   = Permutation(*np.lexsort(new.T))\n",
    "    all_cycles[i] = cycles = perm.to_cycles(canonicalize=False)\n",
    "    \n",
    "    for cycle in cycles:\n",
    "        if len(cycle) == 1:\n",
    "            point_idx = cycle[0] # get the one element in the singleton cycle\n",
    "            stabilizers[point_idx].append(trans)\n",
    "\n",
    "        for point_idx in cycle:\n",
    "            orbits[point_idx].update(cycle)\n",
    "\n",
    "unique_orbits = set(tuple(sorted(orbit)) for orbit in orbits.values())\n",
    "sum(len(i) for i in unique_orbits) == num_points"
   ]
  },
  {
   "cell_type": "code",
   "execution_count": null,
   "metadata": {},
   "outputs": [],
   "source": [
    "stab_sizes = {k : len(v) for k, v in stabilizers.items()}\n",
    "for i in unique_orbits:\n",
    "    print([stab_sizes[j] for j in i])"
   ]
  },
  {
   "cell_type": "markdown",
   "metadata": {},
   "source": [
    "## Visualize all symmetry actions as GIFs"
   ]
  },
  {
   "cell_type": "code",
   "execution_count": null,
   "metadata": {},
   "outputs": [],
   "source": [
    "from pathlib import Path\n",
    "from math import ceil\n",
    "from matplotlib.animation import FuncAnimation, ArtistAnimation, writers\n",
    "from rich.progress import track\n",
    "\n",
    "\n",
    "n_frames = 20\n",
    "\n",
    "dir = Path('gif_frames')\n",
    "dir.mkdir(exist_ok=True)\n",
    "\n",
    "ax_max = ceil(d / 2)\n",
    "ax_min = -ax_max\n",
    "\n",
    "fig = plt.figure()\n",
    "ax = fig.add_subplot(projection='3d')\n",
    "ax.autoscale(False)\n",
    "\n",
    "def update(frame_no : int):\n",
    "    partial_rot = keyframes[frame_no, :, :]\n",
    "    latt_pos = lattice @ partial_rot\n",
    "\n",
    "    ax.clear()\n",
    "    ax.set(xlim3d=(ax_min, ax_max), xlabel='X')\n",
    "    ax.set(ylim3d=(ax_min, ax_max), ylabel='Y')\n",
    "    ax.set(zlim3d=(ax_min, ax_max), zlabel='Z')\n",
    "\n",
    "    return ax.scatter(*latt_pos.T)\n",
    "\n",
    "for i, trans in track(enumerate(group_matrices), total=len(group_matrices), description='Visualizing symmetry group actions...'):\n",
    "    keyframes = interpolate_linear_transformation(trans, n_frames=n_frames)\n",
    "    ani = FuncAnimation(fig=fig, func=update, frames=len(keyframes), interval=10)\n",
    "    ani.save(dir/f'symmetry_{i+1}.gif', writer='pillow')\n",
    "    plt.close(fig)"
   ]
  },
  {
   "cell_type": "markdown",
   "metadata": {},
   "source": [
    "# Playing with rich progress"
   ]
  },
  {
   "cell_type": "code",
   "execution_count": null,
   "metadata": {},
   "outputs": [],
   "source": [
    "from rich.progress import track, Progress\n",
    "from time import sleep\n",
    "\n",
    "with Progress() as progress:\n",
    "\n",
    "    task1 = progress.add_task(\"[red]Downloading...\", total=1000)\n",
    "    task2 = progress.add_task(\"[green]Processing...\", total=1000)\n",
    "    task3 = progress.add_task(\"[cyan]Cooking...\", total=1000)\n",
    "\n",
    "    while not progress.finished:\n",
    "        progress.update(task1, advance=0.5)\n",
    "        progress.update(task2, advance=0.3)\n",
    "        progress.update(task3, advance=0.9)\n",
    "        sleep(0.02)"
   ]
  },
  {
   "cell_type": "code",
   "execution_count": null,
   "metadata": {},
   "outputs": [],
   "source": [
    "import time\n",
    "import random\n",
    "from rich.progress import (\n",
    "    BarColumn,\n",
    "    Progress,\n",
    "    SpinnerColumn,\n",
    "    TaskProgressColumn,\n",
    "    TimeElapsedColumn,\n",
    "    TimeRemainingColumn,\n",
    ")\n",
    "\n",
    "def process(chunks):\n",
    "    for chunk in chunks:\n",
    "        time.sleep(0.1)\n",
    "        yield chunk\n",
    "\n",
    "chunks = [random.randint(1,20) for _ in range(100)]\n",
    "\n",
    "progress_columns = (\n",
    "    SpinnerColumn(),\n",
    "    \"[progress.description]{task.description}\",\n",
    "    BarColumn(),\n",
    "    TaskProgressColumn(),\n",
    "    \"Elapsed:\",\n",
    "    TimeElapsedColumn(),\n",
    "    \"Remaining:\",\n",
    "    TimeRemainingColumn(),\n",
    ")\n",
    "\n",
    "with Progress(*progress_columns) as progress_bar:\n",
    "    task = progress_bar.add_task(\"[blue]Downloading...\", total=sum(chunks))\n",
    "    for chunk in process(chunks):\n",
    "        progress_bar.update(task, advance=chunk)"
   ]
  },
  {
   "cell_type": "code",
   "execution_count": null,
   "metadata": {},
   "outputs": [],
   "source": [
    "import random\n",
    "import time\n",
    "\n",
    "from rich.live import Live\n",
    "from rich.table import Table\n",
    "\n",
    "\n",
    "def generate_table() -> Table:\n",
    "    \"\"\"Make a new table.\"\"\"\n",
    "    table = Table()\n",
    "    table.add_column(\"ID\")\n",
    "    table.add_column(\"Value\")\n",
    "    table.add_column(\"Status\")\n",
    "\n",
    "    for row in range(random.randint(2, 6)):\n",
    "        value = random.random() * 100\n",
    "        table.add_row(\n",
    "            f\"{row}\", f\"{value:3.2f}\", \"[red]ERROR\" if value < 50 else \"[green]SUCCESS\"\n",
    "        )\n",
    "    return table\n",
    "\n",
    "\n",
    "with Live(generate_table(), refresh_per_second=4) as live:\n",
    "    for _ in range(40):\n",
    "        time.sleep(0.4)\n",
    "        live.update(generate_table())"
   ]
  },
  {
   "cell_type": "code",
   "execution_count": null,
   "metadata": {},
   "outputs": [],
   "source": [
    "from dataclasses import dataclass\n",
    "from rich.console import Console, ConsoleOptions, RenderResult\n",
    "from rich.table import Table\n",
    "\n",
    "@dataclass\n",
    "class Student:\n",
    "    id: int\n",
    "    name: str\n",
    "    age: int\n",
    "    def __rich_console__(self, console: Console, options: ConsoleOptions) -> RenderResult:\n",
    "        yield f\"[b]Student:[/b] #{self.id}\"\n",
    "        my_table = Table(\"Attribute\", \"Value\")\n",
    "        my_table.add_row(\"name\", self.name)\n",
    "        my_table.add_row(\"age\", str(self.age))\n",
    "        yield my_table"
   ]
  }
 ],
 "metadata": {
  "kernelspec": {
   "display_name": "polymerist-env",
   "language": "python",
   "name": "python3"
  },
  "language_info": {
   "codemirror_mode": {
    "name": "ipython",
    "version": 3
   },
   "file_extension": ".py",
   "mimetype": "text/x-python",
   "name": "python",
   "nbconvert_exporter": "python",
   "pygments_lexer": "ipython3",
   "version": "3.11.0"
  }
 },
 "nbformat": 4,
 "nbformat_minor": 2
}
