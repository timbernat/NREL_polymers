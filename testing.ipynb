{
 "cells": [
  {
   "cell_type": "markdown",
   "metadata": {},
   "source": [
    "## Testing SMILES hashing"
   ]
  },
  {
   "cell_type": "code",
   "execution_count": null,
   "metadata": {},
   "outputs": [],
   "source": [
    "from rdkit import Chem\n",
    "from polymerist.monomers import specification\n",
    "\n",
    "\n",
    "smi = 'Oc1ccc(cc1)C(c2ccc(O)cc2)(C)C'\n",
    "mol = Chem.MolFromSmiles(smi, sanitize=True)\n",
    "\n",
    "exp_smi = specification.expanded_SMILES(smi, assign_map_nums=False)\n",
    "exp_mol = Chem.MolFromSmiles(exp_smi, sanitize=False)\n",
    "\n",
    "display(mol)\n",
    "display(exp_mol)"
   ]
  },
  {
   "cell_type": "code",
   "execution_count": null,
   "metadata": {},
   "outputs": [],
   "source": [
    "help(Chem.CanonSmiles)"
   ]
  },
  {
   "cell_type": "code",
   "execution_count": null,
   "metadata": {},
   "outputs": [],
   "source": [
    "from polymerist.genutils.textual.encoding import hash_to_alphanumeric\n",
    "\n",
    "for atom in exp_mol.GetAtoms():\n",
    "    newsmi = Chem.MolToSmiles(exp_mol, rootedAtAtom=atom.GetIdx(), canonical=True)\n",
    "    print(newsmi, hash_to_alphanumeric(newsmi))\n",
    "\n",
    "    canonsmi = Chem.CanonSmiles(newsmi)\n",
    "    print(canonsmi, hash_to_alphanumeric(canonsmi))\n",
    "    print('-'*50)"
   ]
  },
  {
   "cell_type": "markdown",
   "metadata": {},
   "source": [
    "# Reaction-related development"
   ]
  },
  {
   "cell_type": "markdown",
   "metadata": {},
   "source": [
    "## Loading reference reaction templates and test reactants"
   ]
  },
  {
   "cell_type": "code",
   "execution_count": null,
   "metadata": {},
   "outputs": [],
   "source": [
    "import json\n",
    "from pathlib import Path\n",
    "from polymerist.rdutils.reactions import reactions\n",
    "\n",
    "\n",
    "# Static Paths\n",
    "RAW_DATA_DIR  = Path('monomer_data_raw')\n",
    "FMT_DATA_DIR  = Path('monomer_data_formatted')\n",
    "PROC_DATA_DIR = Path('monomer_data_processed')\n",
    "RXN_FILES_DIR = Path('poly_rxns')\n",
    "\n",
    "with (RXN_FILES_DIR / 'rxn_groups.json').open('r') as rxnfile: # load table of functional group for each reaction\n",
    "    rxn_groups = json.load(rxnfile)\n",
    "\n",
    "rxns = {\n",
    "    rxnname : reactions.AnnotatedReaction.from_rxnfile(RXN_FILES_DIR / f'{rxnname}.rxn')\n",
    "        for rxnname in rxn_groups.keys()\n",
    "}\n",
    "\n",
    "with (RXN_FILES_DIR / 'test_reactants.json').open('r') as smifile:\n",
    "    test_reactant_smiles = json.load(smifile)\n",
    "    test_reactants = {\n",
    "        rxn_name : tuple(Chem.MolFromSmiles(smi, sanitize=False) for smi in smi_tup)\n",
    "            for rxn_name, smi_tup in test_reactant_smiles.items()\n",
    "    }"
   ]
  },
  {
   "cell_type": "markdown",
   "metadata": {},
   "source": [
    "## Developing more robust IBIS which can handle rings"
   ]
  },
  {
   "cell_type": "code",
   "execution_count": null,
   "metadata": {},
   "outputs": [],
   "source": [
    "import pandas as pd\n",
    "import networkx as nx\n",
    "from rdkit import Chem\n",
    "\n",
    "from polymerist.rdutils.rdgraphs import rdmol_to_networkx\n",
    "from polymerist.rdutils.rdkdraw import set_rdkdraw_size, disable_substruct_highlights\n",
    "from polymerist.rdutils.reactions import reactors, reactions, fragment"
   ]
  },
  {
   "cell_type": "markdown",
   "metadata": {},
   "source": [
    "### Load rxn reference data"
   ]
  },
  {
   "cell_type": "code",
   "execution_count": null,
   "metadata": {},
   "outputs": [],
   "source": [
    "df = pd.read_csv(PROC_DATA_DIR / 'monomer_data_MASTER.csv', index_col=[0,1])\n",
    "frames_by_mech = {\n",
    "    mechanism : df.xs(mechanism)\n",
    "        for mechanism in df.index.unique(level=0)\n",
    "}"
   ]
  },
  {
   "cell_type": "markdown",
   "metadata": {},
   "source": [
    "### Individual reaction"
   ]
  },
  {
   "cell_type": "code",
   "execution_count": null,
   "metadata": {},
   "outputs": [],
   "source": [
    "from polymerist.monomers import specification\n",
    "from polymerist.rdutils.rdkdraw import set_rdkdraw_size\n",
    "set_rdkdraw_size(300, 3/2)\n",
    "\n",
    "\n",
    "# mech = 'polyurethane_isocyanate'\n",
    "mech = 'polyamide'\n",
    "mech = 'polyurethane_nonisocyanate'\n",
    "mech = 'polyester'\n",
    "mech = 'polycarbonate_phosgene'\n",
    "mech = 'polyimide'\n",
    "# mech = 'vinyl'\n",
    "\n",
    "frame = frames_by_mech[mech]\n",
    "row = frame.iloc[3]\n",
    "rxn = rxns[mech]\n",
    "reactor = reactors.PolymerizationReactor(rxn)\n",
    "display(rxn)\n",
    "\n",
    "reactants = []\n",
    "for index in range(2):\n",
    "    smi = row[f'smiles_monomer_{index}']\n",
    "    exp_smi = specification.expanded_SMILES(smi, assign_map_nums=False)\n",
    "    mol = Chem.MolFromSmiles(exp_smi, sanitize=False)\n",
    "    display(mol)\n",
    "\n",
    "    reactants.append(mol)"
   ]
  },
  {
   "cell_type": "code",
   "execution_count": null,
   "metadata": {},
   "outputs": [],
   "source": [
    "set_rdkdraw_size(500)\n",
    "\n",
    "products = reactor.react(reactants)\n",
    "for product in products:\n",
    "    Chem.SanitizeMol(product, sanitizeOps=specification.SANITIZE_AS_KEKULE)\n",
    "    display(product)"
   ]
  },
  {
   "cell_type": "code",
   "execution_count": null,
   "metadata": {},
   "outputs": [],
   "source": [
    "G = rdmol_to_networkx(product)\n",
    "\n",
    "elem_colors = {\n",
    "    'C' : 'gray',\n",
    "    'O' : 'red',\n",
    "    'N' : 'blue',\n",
    "    'H' : 'green',\n",
    "    'Cl' : 'purple'\n",
    "}\n",
    "\n",
    "nx.draw(\n",
    "    G,\n",
    "    pos=nx.spring_layout(G),\n",
    "    node_color=[elem_colors[symbol] for symbol in nx.get_node_attributes(G, 'symbol').values()],\n",
    "    with_labels=True\n",
    ")"
   ]
  },
  {
   "cell_type": "code",
   "execution_count": null,
   "metadata": {},
   "outputs": [],
   "source": [
    "S = G.subgraph(nx.get_node_attributes(G, 'molRxnRole').keys())\n",
    "# S = G.subgraph(i for i, symbol in nx.get_node_attributes(G, 'atomic_num').items() if symbol > 1)\n",
    "\n",
    "pos = nx.spring_layout(S)\n",
    "nx.draw(\n",
    "    S,\n",
    "    pos=pos,\n",
    "    node_color=[elem_colors[symbol] for symbol in nx.get_node_attributes(S, 'symbol').values()],\n",
    "    with_labels=True\n",
    ")\n",
    "\n",
    "edge_labels = { # label by RDKit bond number\n",
    "    (u, v) : data['idx']\n",
    "        for u, v, data in S.edges(data=True)\n",
    "}\n",
    "# edge_labels = { # label by distint chains in chain decomposition\n",
    "#     (u, v) : i\n",
    "#         for i, chain in enumerate(nx.chain_decomposition(S)) \n",
    "#             for u, v in chain\n",
    "# }\n",
    "list(nx.chain_decomposition(S))\n",
    "_ = nx.draw_networkx_edge_labels(\n",
    "    S,\n",
    "    pos=pos,\n",
    "    edge_labels=edge_labels\n",
    ")"
   ]
  },
  {
   "cell_type": "code",
   "execution_count": null,
   "metadata": {},
   "outputs": [],
   "source": [
    "nx.get_node_attributes(S, 'was_dummy').keys(), nx.get_node_attributes(S, 'molRxnRole').keys()"
   ]
  },
  {
   "cell_type": "code",
   "execution_count": null,
   "metadata": {},
   "outputs": [],
   "source": [
    "from itertools import combinations\n",
    "from polymerist.genutils.iteration import sliding_window\n",
    "\n",
    "node_pairs_to_edges = lambda pairs : [S.edges[*edge]['idx'] for edge in pairs]\n",
    "\n",
    "\n",
    "bridges = set(node_pairs_to_edges(nx.bridges(S)))\n",
    "former_bh_ids = nx.get_node_attributes(S, 'was_dummy').keys() # not checking for heavies here\n",
    "new_bond_ids = {i for i in rxn.product_info_maps[0].new_bond_ids_to_map_nums}\n",
    "\n",
    "for bh_id_pair in combinations(former_bh_ids, 2):\n",
    "    path_edges = node_pairs_to_edges(nx.utils.pairwise(nx.shortest_path(S, *bh_id_pair)))\n",
    "    print(bh_id_pair, path_edges, set.intersection(set(path_edges), bridges))"
   ]
  },
  {
   "cell_type": "code",
   "execution_count": null,
   "metadata": {},
   "outputs": [],
   "source": [
    "from openff.interchange import Interchange"
   ]
  },
  {
   "cell_type": "code",
   "execution_count": null,
   "metadata": {},
   "outputs": [],
   "source": [
    "new_bond_ids"
   ]
  },
  {
   "cell_type": "code",
   "execution_count": null,
   "metadata": {},
   "outputs": [],
   "source": [
    "former_bh_ids = nx.get_node_attributes(S, 'was_dummy').keys() # not checking for heavies here"
   ]
  },
  {
   "cell_type": "code",
   "execution_count": null,
   "metadata": {},
   "outputs": [],
   "source": [
    "\n",
    "bridge_edge_ids = [G.edges[*edge]['idx'] for edge in bridges]\n",
    "new_edge_ids = [i for i in rxn.product_info_maps[0].new_bond_ids_to_map_nums]\n",
    "former_bh_ids = nx.get_node_attributes(S, 'was_dummy').keys() # not checking for heavies here\n",
    "\n",
    "bh_paths = {}\n",
    "bh_bridges = {}\n",
    "for bh_id_pair in combinations(former_bh_ids, 2):\n",
    "    paths = [\n",
    "        [S.edges[*path_edges]['idx'] for path_edges in path]\n",
    "            for path in nx.all_simple_edge_paths(S, *bh_id_pair) \n",
    "    ]\n",
    "    bh_paths[bh_id_pair] = paths\n",
    "\n",
    "    \n"
   ]
  },
  {
   "cell_type": "code",
   "execution_count": null,
   "metadata": {},
   "outputs": [],
   "source": [
    "\n",
    "class CutBridgesNearReactingAtoms(reactors.IBIS):\n",
    "    '''IBIS which looks for bridges occurring within the activate portion of a reaction product to minimize the number of cuts made'''\n",
    "    def locate_intermonomer_bonds(self, product: Chem.Mol, product_info: reactors.RxnProductInfo) -> reactors.Generator[int, None, None]:\n",
    "        return super().locate_intermonomer_bonds(product, product_info)"
   ]
  },
  {
   "cell_type": "code",
   "execution_count": null,
   "metadata": {},
   "outputs": [],
   "source": [
    "def test():\n",
    "    former_bh_ids = [atom_id for match in prod.GetSubstructMatches(fragment.HEAVY_FORMER_LINKER_QUERY) for atom_id in match]\n",
    "    bridge_bond_ids = {prod.GetBondBetweenAtoms(*pair).GetIdx() for pair in bridges}\n",
    "    print(bridge_bond_ids)\n",
    "    new_bond_ids = set(rxn.product_info_maps[0].new_bond_ids_to_map_nums)\n",
    "\n",
    "    new_bridge_bond_ids = set.intersection(bridge_bond_ids, new_bond_ids)\n",
    "    if new_bridge_bond_ids:\n",
    "        yield from new_bridge_bond_ids\n",
    "    else:\n",
    "        for bh_id_pair in combinations(former_bh_ids, 2):\n",
    "            for path in nx.all_simple_edge_paths(S, *bh_id_pair):\n",
    "                path_edges = set(S.edges[*pair]['idx'] for pair in path)\n",
    "                if set.intersection(path_edges, new_bond_ids):\n",
    "                    yield from set.intersection(path_edges, bridge_bond_ids)"
   ]
  },
  {
   "cell_type": "code",
   "execution_count": null,
   "metadata": {},
   "outputs": [],
   "source": [
    "BUFFER = '='*10\n",
    "for i, (dimers, frags) in enumerate(reactor.propagate(reactants)):\n",
    "    print(f'{BUFFER}STEP {i}{BUFFER}')\n",
    "    for j, dim in enumerate(dimers):\n",
    "        print(f'Dimer {i}-{j}')\n",
    "        display(dim)\n",
    "    bins = []\n",
    "    for j, frag in enumerate(frags):\n",
    "        print(f'Fragment {i}-{j}')\n",
    "        display(frag)"
   ]
  },
  {
   "cell_type": "markdown",
   "metadata": {},
   "source": [
    "## Playing with Stereo detection/enumeration"
   ]
  },
  {
   "cell_type": "code",
   "execution_count": null,
   "metadata": {},
   "outputs": [],
   "source": [
    "from polymerist.rdutils.labeling import molwise\n",
    "from polymerist.rdutils.reactions import reactions, reactors\n",
    "\n",
    "\n",
    "rxn_name = 'polyurethane_nonisocyanate'\n",
    "rxn = rxns[rxn_name]\n",
    "reactants = test_reactants[rxn_name]\n",
    "\n",
    "reactor = reactors.PolymerizationReactor(rxn)\n",
    "products = reactor.react(reactants)\n",
    "product = molwise.clear_atom_map_nums(products[0])\n",
    "display(product)"
   ]
  },
  {
   "cell_type": "code",
   "execution_count": null,
   "metadata": {},
   "outputs": [],
   "source": [
    "print(Chem.StereoType.names)\n",
    "print(Chem.ChiralType.names)\n",
    "print(Chem.BondStereo.names)\n",
    "print(Chem.BondDir.names)"
   ]
  },
  {
   "cell_type": "code",
   "execution_count": null,
   "metadata": {},
   "outputs": [],
   "source": [
    "for atom in product.GetAtoms():\n",
    "    print(atom.GetAtomMapNum(), atom.GetChiralTag())"
   ]
  },
  {
   "cell_type": "code",
   "execution_count": null,
   "metadata": {},
   "outputs": [],
   "source": [
    "from rdkit.Chem.rdchem import StereoType, ChiralType, BondStereo, BondDir\n",
    "from polymerist.rdutils.labeling import molwise\n",
    "\n",
    "for stereo_info in Chem.FindPotentialStereo(product):\n",
    "    print(f'  Type: {stereo_info.type}, Which: {stereo_info.centeredOn}, Specified: {stereo_info.specified}, Descriptor: {stereo_info.descriptor} ')\n",
    "    print(stereo_info.centeredOn, next(molwise.map_nums_by_atom_ids(product, stereo_info.centeredOn)))"
   ]
  },
  {
   "cell_type": "code",
   "execution_count": null,
   "metadata": {},
   "outputs": [],
   "source": [
    "from rdkit.Chem.EnumerateStereoisomers import EnumerateStereoisomers, StereoEnumerationOptions\n",
    "from rdkit.Chem.AllChem import EmbedMolecule\n",
    "\n",
    "options = StereoEnumerationOptions(\n",
    "    onlyUnassigned=False\n",
    ")\n",
    "\n",
    "Chem.AssignStereochemistry(product, flagPossibleStereoCenters=True)\n",
    "Chem.FindPotentialStereoBonds(product)\n",
    "\n",
    "for isomer in EnumerateStereoisomers(product):\n",
    "    display(isomer)\n",
    "    print(Chem.MolToSmiles(isomer, isomericSmiles=True))"
   ]
  },
  {
   "cell_type": "code",
   "execution_count": null,
   "metadata": {},
   "outputs": [],
   "source": []
  }
 ],
 "metadata": {
  "kernelspec": {
   "display_name": "polymerist-env-updated",
   "language": "python",
   "name": "python3"
  },
  "language_info": {
   "codemirror_mode": {
    "name": "ipython",
    "version": 3
   },
   "file_extension": ".py",
   "mimetype": "text/x-python",
   "name": "python",
   "nbconvert_exporter": "python",
   "pygments_lexer": "ipython3",
   "version": "3.11.0"
  }
 },
 "nbformat": 4,
 "nbformat_minor": 2
}
