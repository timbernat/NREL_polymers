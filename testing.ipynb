{
 "cells": [
  {
   "cell_type": "markdown",
   "metadata": {},
   "source": [
    "# Developing more robust IBIS which can handle rings"
   ]
  },
  {
   "cell_type": "code",
   "execution_count": null,
   "metadata": {},
   "outputs": [],
   "source": [
    "import json\n",
    "import pandas as pd\n",
    "from pathlib import Path\n",
    "\n",
    "from polymerist.rdutils.reactions import reactions\n",
    "\n",
    "import networkx as nx\n",
    "from rdkit import Chem\n",
    "\n",
    "from polymerist.rdutils.rdtypes import RDMol\n",
    "from polymerist.rdutils.rdgraphs import rdmol_to_networkx\n",
    "from polymerist.rdutils.rdkdraw import set_rdkdraw_size, disable_substruct_highlights\n",
    "from polymerist.rdutils.reactions import reactors, reactions, fragment"
   ]
  },
  {
   "cell_type": "markdown",
   "metadata": {},
   "source": [
    "### Load rxn reference data"
   ]
  },
  {
   "cell_type": "code",
   "execution_count": null,
   "metadata": {},
   "outputs": [],
   "source": [
    "# Static Paths\n",
    "RAW_DATA_DIR  = Path('monomer_data_raw')\n",
    "FMT_DATA_DIR  = Path('monomer_data_formatted')\n",
    "PROC_DATA_DIR = Path('monomer_data_processed')\n",
    "RXN_FILES_DIR = Path('poly_rxns')\n",
    "\n",
    "with (RXN_FILES_DIR / 'rxn_groups.json').open('r') as file: # load table of functional group for each reaction\n",
    "    rxn_groups = json.load(file)\n",
    "\n",
    "rxns = {\n",
    "    rxnname : reactions.AnnotatedReaction.from_rxnfile(RXN_FILES_DIR / f'{rxnname}.rxn')\n",
    "        for rxnname in rxn_groups.keys()\n",
    "}"
   ]
  },
  {
   "cell_type": "code",
   "execution_count": null,
   "metadata": {},
   "outputs": [],
   "source": [
    "df = pd.read_csv(PROC_DATA_DIR / 'monomer_data_MASTER.csv', index_col=[0,1])\n",
    "frames_by_mech = {\n",
    "    mechanism : df.xs(mechanism)\n",
    "        for mechanism in df.index.unique(level=0)\n",
    "}"
   ]
  },
  {
   "cell_type": "markdown",
   "metadata": {},
   "source": [
    "### Individual reaction"
   ]
  },
  {
   "cell_type": "code",
   "execution_count": null,
   "metadata": {},
   "outputs": [],
   "source": [
    "from polymerist.monomers import specification\n",
    "from polymerist.rdutils.rdkdraw import set_rdkdraw_size\n",
    "set_rdkdraw_size(300, 3/2)\n",
    "\n",
    "\n",
    "# mech = 'polyurethane_isocyanate'\n",
    "mech = 'polyamide'\n",
    "mech = 'polyurethane_nonisocyanate'\n",
    "mech = 'polyester'\n",
    "mech = 'polycarbonate_phosgene'\n",
    "mech = 'polyimide'\n",
    "# mech = 'vinyl'\n",
    "\n",
    "frame = frames_by_mech[mech]\n",
    "row = frame.iloc[3]\n",
    "rxn = rxns[mech]\n",
    "reactor = reactors.PolymerizationReactor(rxn)\n",
    "display(rxn)\n",
    "\n",
    "reactants = []\n",
    "for index in range(2):\n",
    "    smi = row[f'smiles_monomer_{index}']\n",
    "    exp_smi = specification.expanded_SMILES(smi, assign_map_nums=False)\n",
    "    mol = Chem.MolFromSmiles(exp_smi, sanitize=False)\n",
    "    display(mol)\n",
    "\n",
    "    reactants.append(mol)"
   ]
  },
  {
   "cell_type": "code",
   "execution_count": null,
   "metadata": {},
   "outputs": [],
   "source": [
    "set_rdkdraw_size(500)\n",
    "\n",
    "products = reactor.react(reactants)\n",
    "for product in products:\n",
    "    Chem.SanitizeMol(product, sanitizeOps=specification.SANITIZE_AS_KEKULE)\n",
    "    display(product)"
   ]
  },
  {
   "cell_type": "code",
   "execution_count": null,
   "metadata": {},
   "outputs": [],
   "source": [
    "G = rdmol_to_networkx(product)\n",
    "\n",
    "elem_colors = {\n",
    "    'C' : 'gray',\n",
    "    'O' : 'red',\n",
    "    'N' : 'blue',\n",
    "    'H' : 'green',\n",
    "    'Cl' : 'purple'\n",
    "}\n",
    "\n",
    "nx.draw(\n",
    "    G,\n",
    "    pos=nx.spring_layout(G),\n",
    "    node_color=[elem_colors[symbol] for symbol in nx.get_node_attributes(G, 'symbol').values()],\n",
    "    with_labels=True\n",
    ")"
   ]
  },
  {
   "cell_type": "code",
   "execution_count": null,
   "metadata": {},
   "outputs": [],
   "source": [
    "S = G.subgraph(nx.get_node_attributes(G, 'molRxnRole').keys())\n",
    "# S = G.subgraph(i for i, symbol in nx.get_node_attributes(G, 'atomic_num').items() if symbol > 1)\n",
    "\n",
    "pos = nx.spring_layout(S)\n",
    "nx.draw(\n",
    "    S,\n",
    "    pos=pos,\n",
    "    node_color=[elem_colors[symbol] for symbol in nx.get_node_attributes(S, 'symbol').values()],\n",
    "    with_labels=True\n",
    ")\n",
    "\n",
    "edge_labels = { # label by RDKit bond number\n",
    "    (u, v) : data['idx']\n",
    "        for u, v, data in S.edges(data=True)\n",
    "}\n",
    "# edge_labels = { # label by distint chains in chain decomposition\n",
    "#     (u, v) : i\n",
    "#         for i, chain in enumerate(nx.chain_decomposition(S)) \n",
    "#             for u, v in chain\n",
    "# }\n",
    "list(nx.chain_decomposition(S))\n",
    "_ = nx.draw_networkx_edge_labels(\n",
    "    S,\n",
    "    pos=pos,\n",
    "    edge_labels=edge_labels\n",
    ")"
   ]
  },
  {
   "cell_type": "code",
   "execution_count": null,
   "metadata": {},
   "outputs": [],
   "source": [
    "nx.get_node_attributes(S, 'was_dummy').keys(), nx.get_node_attributes(S, 'molRxnRole').keys()"
   ]
  },
  {
   "cell_type": "code",
   "execution_count": null,
   "metadata": {},
   "outputs": [],
   "source": [
    "from itertools import combinations\n",
    "from polymerist.genutils.iteration import sliding_window\n",
    "\n",
    "node_pairs_to_edges = lambda pairs : [S.edges[*edge]['idx'] for edge in pairs]\n",
    "\n",
    "\n",
    "bridges = set(node_pairs_to_edges(nx.bridges(S)))\n",
    "former_bh_ids = nx.get_node_attributes(S, 'was_dummy').keys() # not checking for heavies here\n",
    "new_bond_ids = {i for i in rxn.product_info_maps[0].new_bond_ids_to_map_nums}\n",
    "\n",
    "for bh_id_pair in combinations(former_bh_ids, 2):\n",
    "    path_edges = node_pairs_to_edges(nx.utils.pairwise(nx.shortest_path(S, *bh_id_pair)))\n",
    "    print(bh_id_pair, path_edges, set.intersection(set(path_edges), bridges))"
   ]
  },
  {
   "cell_type": "code",
   "execution_count": null,
   "metadata": {},
   "outputs": [],
   "source": [
    "from openff.interchange import Interchange"
   ]
  },
  {
   "cell_type": "code",
   "execution_count": null,
   "metadata": {},
   "outputs": [],
   "source": [
    "new_bond_ids"
   ]
  },
  {
   "cell_type": "code",
   "execution_count": null,
   "metadata": {},
   "outputs": [],
   "source": [
    "former_bh_ids = nx.get_node_attributes(S, 'was_dummy').keys() # not checking for heavies here"
   ]
  },
  {
   "cell_type": "code",
   "execution_count": null,
   "metadata": {},
   "outputs": [],
   "source": [
    "\n",
    "bridge_edge_ids = [G.edges[*edge]['idx'] for edge in bridges]\n",
    "new_edge_ids = [i for i in rxn.product_info_maps[0].new_bond_ids_to_map_nums]\n",
    "former_bh_ids = nx.get_node_attributes(S, 'was_dummy').keys() # not checking for heavies here\n",
    "\n",
    "bh_paths = {}\n",
    "bh_bridges = {}\n",
    "for bh_id_pair in combinations(former_bh_ids, 2):\n",
    "    paths = [\n",
    "        [S.edges[*path_edges]['idx'] for path_edges in path]\n",
    "            for path in nx.all_simple_edge_paths(S, *bh_id_pair) \n",
    "    ]\n",
    "    bh_paths[bh_id_pair] = paths\n",
    "\n",
    "    \n"
   ]
  },
  {
   "cell_type": "code",
   "execution_count": null,
   "metadata": {},
   "outputs": [],
   "source": [
    "list(sliding_window(nx.shortest_path(S, 1, 7), n=2))"
   ]
  },
  {
   "cell_type": "code",
   "execution_count": null,
   "metadata": {},
   "outputs": [],
   "source": [
    "bridges"
   ]
  },
  {
   "cell_type": "code",
   "execution_count": null,
   "metadata": {},
   "outputs": [],
   "source": [
    "Chem.GetShortestPath(product, 0,12)"
   ]
  },
  {
   "cell_type": "code",
   "execution_count": null,
   "metadata": {},
   "outputs": [],
   "source": [
    "nx.shortest_path(G, 0, 12)"
   ]
  },
  {
   "cell_type": "code",
   "execution_count": null,
   "metadata": {},
   "outputs": [],
   "source": [
    "bridges"
   ]
  },
  {
   "cell_type": "code",
   "execution_count": null,
   "metadata": {},
   "outputs": [],
   "source": [
    "\n",
    "class CutBridgesNearReactingAtoms(reactors.IBIS):\n",
    "    '''IBIS which looks for bridges occurring within the activate portion of a reaction product to minimize the number of cuts made'''\n",
    "    def locate_intermonomer_bonds(self, product: RDMol, product_info: reactors.RxnProductInfo) -> reactors.Generator[int, None, None]:\n",
    "        return super().locate_intermonomer_bonds(product, product_info)"
   ]
  },
  {
   "cell_type": "code",
   "execution_count": null,
   "metadata": {},
   "outputs": [],
   "source": [
    "def test():\n",
    "    former_bh_ids = [atom_id for match in prod.GetSubstructMatches(fragment.HEAVY_FORMER_LINKER_QUERY) for atom_id in match]\n",
    "    bridge_bond_ids = {prod.GetBondBetweenAtoms(*pair).GetIdx() for pair in bridges}\n",
    "    print(bridge_bond_ids)\n",
    "    new_bond_ids = set(rxn.product_info_maps[0].new_bond_ids_to_map_nums)\n",
    "\n",
    "    new_bridge_bond_ids = set.intersection(bridge_bond_ids, new_bond_ids)\n",
    "    if new_bridge_bond_ids:\n",
    "        yield from new_bridge_bond_ids\n",
    "    else:\n",
    "        for bh_id_pair in combinations(former_bh_ids, 2):\n",
    "            for path in nx.all_simple_edge_paths(S, *bh_id_pair):\n",
    "                path_edges = set(S.edges[*pair]['idx'] for pair in path)\n",
    "                if set.intersection(path_edges, new_bond_ids):\n",
    "                    yield from set.intersection(path_edges, bridge_bond_ids)"
   ]
  },
  {
   "cell_type": "code",
   "execution_count": null,
   "metadata": {},
   "outputs": [],
   "source": [
    "BUFFER = '='*10\n",
    "for i, (dimers, frags) in enumerate(reactor.propagate(reactants)):\n",
    "    print(f'{BUFFER}STEP {i}{BUFFER}')\n",
    "    for j, dim in enumerate(dimers):\n",
    "        print(f'Dimer {i}-{j}')\n",
    "        display(dim)\n",
    "    bins = []\n",
    "    for j, frag in enumerate(frags):\n",
    "        print(f'Fragment {i}-{j}')\n",
    "        display(frag)"
   ]
  },
  {
   "cell_type": "code",
   "execution_count": null,
   "metadata": {},
   "outputs": [],
   "source": []
  }
 ],
 "metadata": {
  "kernelspec": {
   "display_name": "polymerist-env-updated",
   "language": "python",
   "name": "python3"
  },
  "language_info": {
   "codemirror_mode": {
    "name": "ipython",
    "version": 3
   },
   "file_extension": ".py",
   "mimetype": "text/x-python",
   "name": "python",
   "nbconvert_exporter": "python",
   "pygments_lexer": "ipython3",
   "version": "3.11.0"
  }
 },
 "nbformat": 4,
 "nbformat_minor": 2
}
