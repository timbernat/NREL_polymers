{
 "cells": [
  {
   "cell_type": "markdown",
   "metadata": {},
   "source": [
    "# NREL Lignin structures"
   ]
  },
  {
   "cell_type": "code",
   "execution_count": null,
   "metadata": {},
   "outputs": [],
   "source": [
    "from rdkit import Chem\n",
    "import cirpy\n",
    "from polymerist.monomers import specification"
   ]
  },
  {
   "cell_type": "code",
   "execution_count": null,
   "metadata": {},
   "outputs": [],
   "source": [
    "arene_sub_smi = {\n",
    "    'phenyl_ortho' : '[1*]c1c([1*])cccc1',\n",
    "    'phenyl_meta'  : '[1*]c1cc([1*])ccc1',\n",
    "    'phenyl_para'  : '[1*]c1ccc([1*])cc1',\n",
    "}\n",
    "sidechain_smi = {\n",
    "    'methoxy_group'     : '[2*]OC',\n",
    "    'butyl_ester'       : '[2*]C(=O)OCCCC',\n",
    "    'hexan-3-yl_ester' : '[2*]C(=O)OCC(CC)CCCC',\n",
    "}\n",
    "all_smi = {**arene_sub_smi, **sidechain_smi}\n",
    "\n",
    "all_mols = {}\n",
    "for fragname, smi in all_smi.items():\n",
    "    mol = Chem.MolFromSmiles(smi, sanitize=False)\n",
    "    Chem.SanitizeMol(mol, sanitizeOps=specification.SANITIZE_AS_KEKULE)\n",
    "    print(fragname)\n",
    "    display(mol)\n",
    "    all_mols[fragname] = mol"
   ]
  },
  {
   "cell_type": "code",
   "execution_count": null,
   "metadata": {},
   "outputs": [],
   "source": [
    "from polymerist.rdutils.labeling import molwise\n",
    "from polymerist.rdutils.bonding.substitution import saturate_ports\n",
    "\n",
    "from polymerist.rdutils.bonding import portlib\n",
    "portlib.Port.bondable_flavors.insert((1,2))\n",
    "\n",
    "\n",
    "frags_to_link = (\n",
    "    ('phenyl_ortho', 'butyl_ester'),\n",
    "    ('phenyl_para',  'butyl_ester'),\n",
    "    ('phenyl_ortho', 'hexan-3-yl_ester'),\n",
    "    ('phenyl_para',  'hexan-3-yl_ester'),\n",
    ")\n",
    "\n",
    "plasticizer_smi     : dict[str, str] = {}\n",
    "plasticizer_smi_exp : dict[str, str] = {}\n",
    "for core_name, cap_name in frags_to_link:\n",
    "    coremol = all_mols[core_name]\n",
    "    capmol  = all_mols[cap_name]\n",
    "    \n",
    "    spliced_mol = saturate_ports(coremol, cap=capmol, flavor_to_saturate=1)\n",
    "    Chem.SanitizeMol(spliced_mol, sanitizeOps=specification.SANITIZE_AS_KEKULE)\n",
    "    molwise.clear_atom_map_nums(spliced_mol, in_place=True)\n",
    "\n",
    "    smi = Chem.MolToSmiles(spliced_mol)\n",
    "    exp_smi = specification.expanded_SMILES(smi, assign_map_nums=False)\n",
    "    iupac_name = cirpy.resolve(smi, 'iupac_name')\n",
    "    plasticizer_smi[iupac_name] = smi\n",
    "    plasticizer_smi_exp[iupac_name] = exp_smi\n",
    "\n",
    "    print(iupac_name)\n",
    "    display(spliced_mol)"
   ]
  },
  {
   "cell_type": "code",
   "execution_count": null,
   "metadata": {},
   "outputs": [],
   "source": [
    "newmol = saturate_ports(all_mols['phenyl_ortho'], cap=Chem.MolFromSmiles('[2*]-[H]'), flavor_to_saturate=1)\n",
    "molwise.clear_atom_map_nums(newmol, in_place=True)\n",
    "Chem.SanitizeMol(newmol, sanitizeOps=specification.SANITIZE_AS_KEKULE)\n",
    "smi = Chem.MolToSmiles(newmol)\n",
    "\n",
    "print(smi)\n",
    "display(newmol)"
   ]
  },
  {
   "cell_type": "code",
   "execution_count": null,
   "metadata": {},
   "outputs": [],
   "source": [
    "heavy = Chem.RemoveHs(newmol, updateExplicitCount=True, sanitize=False)\n",
    "Chem.SanitizeMol(heavy, sanitizeOps=specification.SANITIZE_AS_KEKULE)\n",
    "heavy"
   ]
  },
  {
   "cell_type": "markdown",
   "metadata": {},
   "source": [
    "# Developing monomer graphs"
   ]
  },
  {
   "cell_type": "code",
   "execution_count": 3,
   "metadata": {},
   "outputs": [],
   "source": [
    "import networkx as nx\n",
    "from rdkit import Chem\n",
    "\n",
    "import mbuild\n",
    "from mbuild.compound import Compound\n",
    "from mbuild.conversion import load, load_smiles, from_rdkit, to_smiles, to_pybel\n",
    "from mbuild.lib.recipes.polymer import Polymer\n",
    "\n",
    "comp = mbuild.Compound()"
   ]
  },
  {
   "cell_type": "code",
   "execution_count": 9,
   "metadata": {},
   "outputs": [
    {
     "data": {
      "image/png": "[encoded data removed]",
      "text/plain": [
       "<Figure size 640x480 with 1 Axes>"
      ]
     },
     "metadata": {},
     "output_type": "display_data"
    }
   ],
   "source": [
    "from polymerist.rdutils.rdgraphs import rdmol_to_networkx\n",
    "from polymerist.monomers import specification\n",
    "\n",
    "smi = 'c1ccccc1'\n",
    "exp_smi = specification.expanded_SMILES(smi, assign_map_nums=False)\n",
    "rdmol = Chem.MolFromSmiles(exp_smi, sanitize=False)\n",
    "Chem.SanitizeMol(rdmol, sanitizeOps=specification.SANITIZE_AS_KEKULE)\n",
    "\n",
    "G = rdmol_to_networkx(rdmol)\n",
    "nx.draw(G)"
   ]
  },
  {
   "cell_type": "markdown",
   "metadata": {},
   "source": [
    "## Representing monomer fragment linkages as a graph"
   ]
  },
  {
   "cell_type": "code",
   "execution_count": 28,
   "metadata": {},
   "outputs": [],
   "source": [
    "from typing import Optional\n",
    "from dataclasses import dataclass, field\n",
    "\n",
    "\n",
    "def get_num_linkers(rdmol : Chem.Mol) -> int:\n",
    "    '''Count how many wild-type inter-molecule atoms are in a Mol'''\n",
    "    return sum(\n",
    "        (atom.GetAtomicNum() == 0)\n",
    "            for atom in rdmol.GetAtoms()\n",
    "    )\n",
    "\n",
    "@dataclass\n",
    "class MonomerFragmentInfo:\n",
    "    '''Naming and in-line chemical encodings for a monomer unit within a polymer chain'''\n",
    "    name   : str\n",
    "    smiles : str\n",
    "    alias  : Optional[str] = field(default=None)\n",
    "    parent_smiles : Optional[str] = field(default=None) # smiles of the unpolymerized, feedstock monomer this fragment is derived from\n",
    "    smarts        : Optional[str] = field(default=None)\n",
    "\n",
    "    n_atoms       : int = field(init=False)\n",
    "    functionality : int = field(init=False)\n",
    "    contribution  : int = field(init=False)\n",
    "\n",
    "    def __post_init__(self) -> None:\n",
    "        tempmol = self.rdmol\n",
    "        self.n_atoms = tempmol.GetNumAtoms()\n",
    "        self.functionality = get_num_linkers(tempmol)\n",
    "        self.contribution  = self.n_atoms - self.functionality\n",
    "\n",
    "    @property\n",
    "    def rdmol(self) -> Chem.Mol:\n",
    "        return Chem.MolFromSmiles(self.smiles, sanitize=False)"
   ]
  },
  {
   "cell_type": "code",
   "execution_count": 29,
   "metadata": {},
   "outputs": [
    {
     "data": {
      "image/png": "[encoded data removed]",
      "text/plain": [
       "<rdkit.Chem.rdchem.Mol at 0x7f5a3a4fc350>"
      ]
     },
     "metadata": {},
     "output_type": "display_data"
    },
    {
     "data": {
      "image/png": "[encoded data removed]",
      "text/plain": [
       "<rdkit.Chem.rdchem.Mol at 0x7f5a38c27610>"
      ]
     },
     "metadata": {},
     "output_type": "display_data"
    },
    {
     "data": {
      "image/png": "[encoded data removed]",
      "text/plain": [
       "<rdkit.Chem.rdchem.Mol at 0x7f5a38c27ae0>"
      ]
     },
     "metadata": {},
     "output_type": "display_data"
    },
    {
     "data": {
      "image/png": "[encoded data removed]",
      "text/plain": [
       "<rdkit.Chem.rdchem.Mol at 0x7f5a38c27c30>"
      ]
     },
     "metadata": {},
     "output_type": "display_data"
    }
   ],
   "source": [
    "from polymerist.monomers import MonomerGroup\n",
    "\n",
    "monogrp = MonomerGroup.from_file('poly(ethane-1,2-diol-co-furan-2,5-dicarboxylic acid).json')\n",
    "moldict, monosmiles = {}, {}\n",
    "for mononame, rdmol in monogrp.iter_rdmols():\n",
    "    display(rdmol)\n",
    "    moldict[   mononame] = rdmol\n",
    "    monosmiles[mononame] = Chem.MolToSmiles(rdmol)"
   ]
  },
  {
   "cell_type": "code",
   "execution_count": 30,
   "metadata": {},
   "outputs": [],
   "source": [
    "from string import ascii_uppercase\n",
    "\n",
    "parent_monomers = {\n",
    "    'ethane-1,2-diol' : 'OCCO',\n",
    "    'furan-2,5-dicarboxylic acid' : 'O=C(O)c1ccc(C(=O)O)o1',\n",
    "}\n",
    "monomer_aliases = {\n",
    "    mononame : lett\n",
    "        for mononame, lett in zip(parent_monomers.keys(), ascii_uppercase)\n",
    "}"
   ]
  },
  {
   "cell_type": "code",
   "execution_count": 79,
   "metadata": {},
   "outputs": [
    {
     "name": "stderr",
     "output_type": "stream",
     "text": [
      "Cleaned 10 SMARTS atom query aberrations introduced by RDKit\n",
      "Cleaned 14 SMARTS atom query aberrations introduced by RDKit\n",
      "Cleaned 10 SMARTS atom query aberrations introduced by RDKit\n",
      "Cleaned 13 SMARTS atom query aberrations introduced by RDKit\n"
     ]
    }
   ],
   "source": [
    "mono_infos = {}\n",
    "for mononame, smiles in monosmiles.items():\n",
    "    parent_mononame = mononame.split('_')[0]\n",
    "    parent_smiles = parent_monomers[parent_mononame]\n",
    "    parent_alias  = monomer_aliases[parent_mononame]\n",
    "\n",
    "    mono_info = MonomerFragmentInfo(\n",
    "        name=mononame,\n",
    "        smiles=smiles,\n",
    "        parent_smiles=parent_smiles,\n",
    "        smarts=specification.compliant_mol_SMARTS(smiles)\n",
    "    )\n",
    "    mono_info.alias = parent_alias.lower() if (mono_info.functionality == 1) else parent_alias.upper()\n",
    "    mono_infos[mono_info.alias] = mono_info"
   ]
  },
  {
   "cell_type": "code",
   "execution_count": 80,
   "metadata": {},
   "outputs": [
    {
     "data": {
      "text/plain": [
       "{'a': MonomerFragmentInfo(name='ethane-1,2-diol_TERM', smiles='[2*:1][O:2][C:3]([C:4]([O:5][H:10])([H:8])[H:9])([H:6])[H:7]', alias='a', parent_smiles='OCCO', smarts='[2*:1]-[#8D2+0:2]-[#6D4+0:3](-[#6D4+0:4](-[#8D2+0:5]-[#1D1+0:10])(-[#1D1+0:8])-[#1D1+0:9])(-[#1D1+0:6])-[#1D1+0:7]', n_atoms=10, functionality=1, contribution=9),\n",
       " 'b': MonomerFragmentInfo(name='furan-2,5-dicarboxylic acid_TERM', smiles='[*:1][C:2](=[O:3])[C:4]1=[C:11]([H:14])[C:10]([H:13])=[C:6]([C:7](=[O:8])[O:9][H:12])[O:5]1', alias='b', parent_smiles='O=C(O)c1ccc(C(=O)O)o1', smarts='[*:1]-[#6D3+0:2](=[#8D1+0:3])-[#6D3+0:4]1=[#6D3+0:11](-[#1D1+0:14])-[#6D3+0:10](-[#1D1+0:13])=[#6D3+0:6](-[#6D3+0:7](=[#8D1+0:8])-[#8D2+0:9]-[#1D1+0:12])-[#8D2+0:5]-1', n_atoms=14, functionality=1, contribution=13),\n",
       " 'A': MonomerFragmentInfo(name='ethane-1,2-diol_MID', smiles='[2*:1][O:2][C:3]([C:4]([O:5][2*:6])([H:9])[H:10])([H:7])[H:8]', alias='A', parent_smiles='OCCO', smarts='[2*:1]-[#8D2+0:2]-[#6D4+0:3](-[#6D4+0:4](-[#8D2+0:5]-[2*:6])(-[#1D1+0:9])-[#1D1+0:10])(-[#1D1+0:7])-[#1D1+0:8]', n_atoms=10, functionality=2, contribution=8),\n",
       " 'B': MonomerFragmentInfo(name='furan-2,5-dicarboxylic acid_MID', smiles='[*:1][C:2](=[O:3])[C:4]1=[C:11]([H:13])[C:10]([H:12])=[C:6]([C:7]([*:8])=[O:9])[O:5]1', alias='B', parent_smiles='O=C(O)c1ccc(C(=O)O)o1', smarts='[*:1]-[#6D3+0:2](=[#8D1+0:3])-[#6D3+0:4]1=[#6D3+0:11](-[#1D1+0:13])-[#6D3+0:10](-[#1D1+0:12])=[#6D3+0:6](-[#6D3+0:7](-[*:8])=[#8D1+0:9])-[#8D2+0:5]-1', n_atoms=13, functionality=2, contribution=11)}"
      ]
     },
     "execution_count": 80,
     "metadata": {},
     "output_type": "execute_result"
    }
   ],
   "source": [
    "mono_infos"
   ]
  },
  {
   "cell_type": "code",
   "execution_count": 164,
   "metadata": {},
   "outputs": [],
   "source": [
    "from typing import Generator\n",
    "from functools import partial\n",
    "\n",
    "\n",
    "ASCII_PRINTABLE = ''.join(chr(i) for i in range(33, 127)) # ASCII printable characters, minus SPACE (\" \", 32) and DELETE (127)\n",
    "\n",
    "def smallest_repeating_substring(string : str) -> str:\n",
    "    '''Return the shortest substring such that the passed string can be written as some number of repeats (including 1) of the substring\n",
    "    Will return the original string if no simpler decomposition exists'''\n",
    "    i = (2*string).find(string, 1, -1) # check if string matches itself in a cycle in non-trivial way (i.e more than just the two repeats)\n",
    "    return string if (i == -1) else string[:i]\n",
    "\n",
    "def parse_with_delimiters(string : str, start_char : str, end_char : str) -> Generator[str, None, None]:\n",
    "    '''Generates substring contained by starting and ending delimiting characters (and depth of substring) via pushdown automaton mechanism'''\n",
    "    stack : list[int] = []\n",
    "    for i, char in enumerate(string):\n",
    "        if char == start_char:\n",
    "            stack.append(i)\n",
    "        if (char == end_char) and stack:\n",
    "            start_idx = stack.pop()\n",
    "            yield string[start_idx+1:i], len(stack)\n",
    "\n",
    "parse_parenthesis     = partial(parse_with_delimiters, start_char='(', end_char=')')\n",
    "parse_square_brackets = partial(parse_with_delimiters, start_char='[', end_char=']')\n",
    "parse_curly_brackets  = partial(parse_with_delimiters, start_char='{', end_char='}')"
   ]
  },
  {
   "cell_type": "code",
   "execution_count": 189,
   "metadata": {},
   "outputs": [],
   "source": [
    "test = '[a][A]([A])[B][A]([A][B]([A][A])[B][C])[A][C][b]'\n",
    "test2 = test.replace('A', 'A2').replace('B', 'B2').replace('a', 'A1').replace('b', 'B1').replace('C', 'OTHER')"
   ]
  },
  {
   "cell_type": "code",
   "execution_count": 190,
   "metadata": {},
   "outputs": [
    {
     "data": {
      "text/plain": [
       "'[A1][A2]([A2])[B2][A2]([A2][B2]([A2][A2])[B2][OTHER])[A2][OTHER][B1]'"
      ]
     },
     "execution_count": 190,
     "metadata": {},
     "output_type": "execute_result"
    }
   ],
   "source": [
    "test2"
   ]
  },
  {
   "cell_type": "code",
   "execution_count": 191,
   "metadata": {},
   "outputs": [],
   "source": [
    "from polymerist.genutils.iteration import sliding_window\n",
    "from itertools import chain"
   ]
  },
  {
   "cell_type": "code",
   "execution_count": 262,
   "metadata": {},
   "outputs": [],
   "source": [
    "def parse_monograph_string(monostring : str, node_start_idx : int=0) -> nx.Graph:\n",
    "    '''Parse a SMILES-like monomer graph string and read it into a networkX Graph'''\n",
    "    G = nx.Graph()\n",
    "    branch_stack : list[int] = []\n",
    "    mononame = ''\n",
    "    prev_idx, curr_idx = None, node_start_idx - 1 # initial with no previous node and the current node being before the starting index\n",
    "    \n",
    "    for char in monostring.replace('-', ''):\n",
    "        if char == '[':                         # 1) if reached a new monomer block...\n",
    "            mononame = ''                       # clear the current monomer name\n",
    "            curr_idx += 1                       # and increment the index\n",
    "        elif char == ']':                       # 2) if reached the end of a monomer block...\n",
    "            G.add_node(curr_idx, monomer_name=mononame) # add a new node with the current index and name\n",
    "            if prev_idx is not None: \n",
    "                G.add_edge(curr_idx, prev_idx)  # if at least one node exists, link the new node to the prior node\n",
    "            prev_idx = curr_idx                 # advance the previous node index, or set it if this is the first node \n",
    "        elif char == '(':\n",
    "            branch_stack.append(curr_idx)       # save the current index to the stack before proceeding with traversal\n",
    "        elif char == ')':                       # 4) if exiting a branch...\n",
    "            prev_idx = branch_stack.pop()       # retrieve the last saved position after exiting a branch\n",
    "        else:                                   # 5) otherwise... \n",
    "            mononame += char                    # must be inside a monomer block; in that case, just extend the current name\n",
    "        \n",
    "    return G\n"
   ]
  },
  {
   "cell_type": "code",
   "execution_count": 306,
   "metadata": {},
   "outputs": [
    {
     "name": "stdout",
     "output_type": "stream",
     "text": [
      "[C][C][C]([A][A])[C][C][C]([B][B])[C][C][C]([D][D])[C][C]\n"
     ]
    }
   ],
   "source": [
    "test3 = 'CCC(AA)CCC(BB)CCC(DD)CC'\n",
    "for char in 'ABCD':\n",
    "    test3 = test3.replace(char, f'[{char}]')\n",
    "print(test3)"
   ]
  },
  {
   "cell_type": "code",
   "execution_count": 307,
   "metadata": {},
   "outputs": [
    {
     "data": {
      "image/png": "[encoded data removed]",
      "text/plain": [
       "<Figure size 640x480 with 1 Axes>"
      ]
     },
     "metadata": {},
     "output_type": "display_data"
    }
   ],
   "source": [
    "G = parse_monograph_string(test3)\n",
    "\n",
    "nx.draw(G, with_labels=True)\n",
    "# nx.draw(G, with_labels=True, labels=nx.get_node_attributes(G, 'monomer_name'))"
   ]
  },
  {
   "cell_type": "code",
   "execution_count": 324,
   "metadata": {},
   "outputs": [],
   "source": [
    "def parse_monomer_graph_to_string(monograph : nx.Graph, start_node : int=0) -> str:\n",
    "    '''Convert a monomer graph into a SMILES-like monomer string'''\n",
    "    branch_dict = {\n",
    "        node_idx : '('*(len(successors) - 1)\n",
    "            for node_idx, successors in nx.dfs_successors(monograph, source=start_node).items()\n",
    "    }\n",
    "\n",
    "    return ''.join(\n",
    "        f'[{G.nodes[node_id][\"monomer_name\"]}]{branch_dict.get(node_id, \")\")}'\n",
    "            for node_id in nx.dfs_preorder_nodes(monograph, source=start_node)\n",
    "    )[:-1]"
   ]
  },
  {
   "cell_type": "code",
   "execution_count": 359,
   "metadata": {},
   "outputs": [
    {
     "data": {
      "text/plain": [
       "({10: [7, 11],\n",
       "  7: [6, 8],\n",
       "  6: [5],\n",
       "  5: [2],\n",
       "  2: [1, 3],\n",
       "  1: [0],\n",
       "  3: [4],\n",
       "  8: [9],\n",
       "  11: [12],\n",
       "  12: [13, 15],\n",
       "  13: [14],\n",
       "  15: [16]},\n",
       " [10, 7, 6, 5, 2, 1, 0, 3, 4, 8, 9, 11, 12, 13, 14, 15, 16])"
      ]
     },
     "execution_count": 359,
     "metadata": {},
     "output_type": "execute_result"
    }
   ],
   "source": [
    "src = 10\n",
    "order = nx.dfs_successors(G, source=src)\n",
    "order, list(nx.dfs_preorder_nodes(G, source=src))"
   ]
  },
  {
   "cell_type": "code",
   "execution_count": 360,
   "metadata": {},
   "outputs": [
    {
     "name": "stdout",
     "output_type": "stream",
     "text": [
      "10 C\n",
      "[7]\n",
      "7 C(C\n",
      "[6]\n",
      "6 C(C(C\n",
      "[5]\n",
      "5 C(C(CC\n",
      "[2]\n",
      "2 C(C(CCC\n",
      "[1]\n",
      "1 C(C(CCC(C\n",
      "[0]\n",
      "0 C(C(CCC(CC\n",
      "[]\n"
     ]
    }
   ],
   "source": [
    "stack = [src]\n",
    "out = ''\n",
    "while stack:\n",
    "    i = stack.pop()\n",
    "    out += f'{G.nodes[i][\"monomer_name\"]}'\n",
    "    print(i, out)\n",
    "\n",
    "    if i in order:\n",
    "        if (len(order[i]) > 1):\n",
    "            out += '('\n",
    "        stack.append(order[i].pop(0))\n",
    "    else:\n",
    "        out += ')'\n",
    "    print(stack)"
   ]
  },
  {
   "cell_type": "code",
   "execution_count": 361,
   "metadata": {},
   "outputs": [
    {
     "data": {
      "text/plain": [
       "'C(C(CCC(CC)'"
      ]
     },
     "execution_count": 361,
     "metadata": {},
     "output_type": "execute_result"
    }
   ],
   "source": [
    "out"
   ]
  },
  {
   "cell_type": "code",
   "execution_count": 345,
   "metadata": {},
   "outputs": [
    {
     "name": "stdout",
     "output_type": "stream",
     "text": [
      "[C]([C]([C][C][C]([C][C])[A][A])[B][B])[C][C]([D][D])[C][C]\n"
     ]
    },
    {
     "data": {
      "image/png": "[encoded data removed]",
      "text/plain": [
       "<Figure size 640x480 with 1 Axes>"
      ]
     },
     "metadata": {},
     "output_type": "display_data"
    }
   ],
   "source": [
    "s = parse_monomer_graph_to_string(G, start_node=src)\n",
    "print(s)\n",
    "H = parse_monograph_string(s)\n",
    "\n",
    "nx.draw(H, with_labels=True)\n",
    "# nx.draw(H, with_labels=True, labels=nx.get_node_attributes(G, 'monomer_name'))"
   ]
  },
  {
   "cell_type": "code",
   "execution_count": 213,
   "metadata": {},
   "outputs": [
    {
     "data": {
      "text/plain": [
       "{0: 'A1',\n",
       " 1: 'A2',\n",
       " 2: 'A2',\n",
       " 3: 'B2',\n",
       " 4: 'A2',\n",
       " 5: 'A2',\n",
       " 6: 'B2',\n",
       " 7: 'A2',\n",
       " 8: 'A2',\n",
       " 9: 'B2',\n",
       " 10: 'OTHER',\n",
       " 11: 'A2',\n",
       " 12: 'OTHER',\n",
       " 13: 'B1'}"
      ]
     },
     "execution_count": 213,
     "metadata": {},
     "output_type": "execute_result"
    }
   ],
   "source": []
  },
  {
   "cell_type": "code",
   "execution_count": null,
   "metadata": {},
   "outputs": [],
   "source": [
    "    for i, char in enumerate(monoiter, start=node_start_idx):\n",
    "        if char == '[':\n",
    "            char = next(monoiter, '')\n",
    "            name = ''\n",
    "            while char != ']':\n",
    "                name += char\n",
    "                char = next(monoiter, '')\n",
    "        print(i, name)\n",
    "        \n"
   ]
  },
  {
   "cell_type": "code",
   "execution_count": 179,
   "metadata": {},
   "outputs": [],
   "source": [
    "l = list(parse_square_brackets(test))"
   ]
  },
  {
   "cell_type": "code",
   "execution_count": 181,
   "metadata": {},
   "outputs": [
    {
     "data": {
      "text/plain": [
       "14"
      ]
     },
     "execution_count": 181,
     "metadata": {},
     "output_type": "execute_result"
    }
   ],
   "source": [
    "len(l)"
   ]
  },
  {
   "cell_type": "code",
   "execution_count": null,
   "metadata": {},
   "outputs": [],
   "source": [
    "    \n",
    "\n",
    "    num_monos    : int = 0\n",
    "    unique_monos : set = set()\n",
    "    for i, (mono_name, depth) in enumerate(parse_square_brackets(monostring)):\n",
    "        G.add_node(i, monomer_name=mono_name)\n",
    "\n",
    "        unique_monos.add(mono_name)\n",
    "        num_monos += 1\n",
    "        if depth > 0:\n",
    "            raise ValueError('Cannot nest aliases for monomers (too deeply-nested square brackets)')\n",
    "        \n",
    "    return G\n",
    "    \n",
    "G = parse_monograph_string(test)"
   ]
  },
  {
   "cell_type": "code",
   "execution_count": 160,
   "metadata": {},
   "outputs": [
    {
     "data": {
      "image/png": "[encoded data removed]",
      "text/plain": [
       "<Figure size 640x480 with 1 Axes>"
      ]
     },
     "metadata": {},
     "output_type": "display_data"
    }
   ],
   "source": [
    "nx.draw(G, with_labels=True)"
   ]
  },
  {
   "cell_type": "code",
   "execution_count": 81,
   "metadata": {},
   "outputs": [
    {
     "data": {
      "text/plain": [
       "['a', 'B', 'A', 'B', 'A', 'B', 'A', 'B', 'A', 'b']"
      ]
     },
     "execution_count": 81,
     "metadata": {},
     "output_type": "execute_result"
    }
   ],
   "source": [
    "from itertools import cycle\n",
    "\n",
    "DOP = 10\n",
    "seq = ['a'] + ['B', 'A']*int((DOP-2)/2) + ['b']\n",
    "seq"
   ]
  },
  {
   "cell_type": "code",
   "execution_count": 122,
   "metadata": {},
   "outputs": [],
   "source": []
  },
  {
   "cell_type": "code",
   "execution_count": 123,
   "metadata": {},
   "outputs": [
    {
     "data": {
      "text/plain": [
       "'aBABABABAb'"
      ]
     },
     "execution_count": 123,
     "metadata": {},
     "output_type": "execute_result"
    }
   ],
   "source": [
    "s = ''.join(seq)\n",
    "s"
   ]
  },
  {
   "cell_type": "code",
   "execution_count": 128,
   "metadata": {},
   "outputs": [
    {
     "name": "stdout",
     "output_type": "stream",
     "text": [
      "Help on built-in function next in module builtins:\n",
      "\n",
      "next(...)\n",
      "    next(iterator[, default])\n",
      "    \n",
      "    Return the next item from the iterator. If default is given and the iterator\n",
      "    is exhausted, it is returned instead of raising StopIteration.\n",
      "\n"
     ]
    }
   ],
   "source": [
    "help(next)"
   ]
  },
  {
   "cell_type": "code",
   "execution_count": 130,
   "metadata": {},
   "outputs": [
    {
     "data": {
      "text/plain": [
       "'!\"#$%&\\'()*+,-./0123456789:;<=>?@ABCDEFGHIJKLMNOPQRSTUVWXYZ[\\\\]^_`abcdefghijklmnopqrstuvwxyz{|}~'"
      ]
     },
     "execution_count": 130,
     "metadata": {},
     "output_type": "execute_result"
    }
   ],
   "source": []
  },
  {
   "cell_type": "code",
   "execution_count": 125,
   "metadata": {},
   "outputs": [
    {
     "data": {
      "text/plain": [
       "'BA'"
      ]
     },
     "execution_count": 125,
     "metadata": {},
     "output_type": "execute_result"
    }
   ],
   "source": [
    "smallest_repeating_substring(s[1:-1])"
   ]
  },
  {
   "cell_type": "code",
   "execution_count": 70,
   "metadata": {},
   "outputs": [
    {
     "data": {
      "image/png": "[encoded data removed]",
      "text/plain": [
       "<Figure size 640x480 with 1 Axes>"
      ]
     },
     "metadata": {},
     "output_type": "display_data"
    }
   ],
   "source": [
    "n = 10\n",
    "t = 5\n",
    "\n",
    "G = nx.path_graph(len(seq))\n",
    "attrs = {\n",
    "    i : mono_infos[alias].__dict__\n",
    "        for i, alias in enumerate(seq)\n",
    "}\n",
    "nx.set_node_attributes(G, attrs)\n",
    "\n",
    "nx.draw(G, with_labels=True)"
   ]
  },
  {
   "cell_type": "code",
   "execution_count": 71,
   "metadata": {},
   "outputs": [
    {
     "data": {
      "text/plain": [
       "{'name': 'ethane-1,2-diol_TERM',\n",
       " 'smiles': '[2*:1][O:2][C:3]([C:4]([O:5][H:10])([H:8])[H:9])([H:6])[H:7]',\n",
       " 'alias': 'A1',\n",
       " 'parent_smiles': 'OCCO',\n",
       " 'smarts': '[2*:1]-[#8D2+0:2]-[#6D4+0:3](-[#6D4+0:4](-[#8D2+0:5]-[#1D1+0:10])(-[#1D1+0:8])-[#1D1+0:9])(-[#1D1+0:6])-[#1D1+0:7]',\n",
       " 'n_atoms': 10,\n",
       " 'functionality': 1,\n",
       " 'contribution': 9}"
      ]
     },
     "execution_count": 71,
     "metadata": {},
     "output_type": "execute_result"
    }
   ],
   "source": [
    "G.nodes[0]"
   ]
  },
  {
   "cell_type": "code",
   "execution_count": 73,
   "metadata": {},
   "outputs": [
    {
     "data": {
      "text/plain": [
       "DegreeView({0: 1, 1: 2, 2: 2, 3: 2, 4: 2, 5: 2, 6: 2, 7: 2, 8: 2, 9: 1})"
      ]
     },
     "execution_count": 73,
     "metadata": {},
     "output_type": "execute_result"
    }
   ],
   "source": [
    "G.degree"
   ]
  },
  {
   "cell_type": "code",
   "execution_count": 75,
   "metadata": {},
   "outputs": [
    {
     "data": {
      "text/plain": [
       "{0: 1, 1: 2, 2: 2, 3: 2, 4: 2, 5: 2, 6: 2, 7: 2, 8: 2, 9: 2}"
      ]
     },
     "execution_count": 75,
     "metadata": {},
     "output_type": "execute_result"
    }
   ],
   "source": [
    "nx.get_node_attributes(G, 'functionality')"
   ]
  },
  {
   "cell_type": "code",
   "execution_count": 61,
   "metadata": {},
   "outputs": [
    {
     "data": {
      "text/plain": [
       "[0, 1, 2, 3, 4, 5, 6, 7, 8, 9, 14, 13, 12, 11, 10]"
      ]
     },
     "execution_count": 61,
     "metadata": {},
     "output_type": "execute_result"
    }
   ],
   "source": [
    "list(nx.dfs_preorder_nodes(G))"
   ]
  },
  {
   "cell_type": "code",
   "execution_count": 57,
   "metadata": {},
   "outputs": [
    {
     "data": {
      "image/png": "[encoded data removed]",
      "text/plain": [
       "<Figure size 640x480 with 1 Axes>"
      ]
     },
     "metadata": {},
     "output_type": "display_data"
    }
   ],
   "source": [
    "tree = nx.dfs_tree(G)\n",
    "nx.draw_planar(tree, with_labels=True)"
   ]
  },
  {
   "cell_type": "code",
   "execution_count": null,
   "metadata": {},
   "outputs": [],
   "source": [
    "\n",
    "T = nx.path_graph(5)\n",
    "G = nx.compose(G, T)"
   ]
  },
  {
   "cell_type": "code",
   "execution_count": 39,
   "metadata": {},
   "outputs": [],
   "source": []
  },
  {
   "cell_type": "code",
   "execution_count": 40,
   "metadata": {},
   "outputs": [
    {
     "data": {
      "image/png": "[encoded data removed]",
      "text/plain": [
       "<Figure size 640x480 with 1 Axes>"
      ]
     },
     "metadata": {},
     "output_type": "display_data"
    }
   ],
   "source": [
    "nx.draw(G)"
   ]
  },
  {
   "cell_type": "code",
   "execution_count": null,
   "metadata": {},
   "outputs": [],
   "source": [
    "from string import ascii_uppercase\n",
    "\n",
    "for let in ascii_uppercase:\n",
    "    print(let)"
   ]
  },
  {
   "cell_type": "code",
   "execution_count": null,
   "metadata": {},
   "outputs": [],
   "source": [
    "from polymerist.genutils.iteration import iter_len\n",
    "\n",
    "\n",
    "\n",
    "\n",
    "for name, mol in mol_dict.items():\n",
    "    print(get_num_linkers(mol), mol.GetNumAtoms())"
   ]
  },
  {
   "cell_type": "code",
   "execution_count": null,
   "metadata": {},
   "outputs": [],
   "source": []
  },
  {
   "cell_type": "markdown",
   "metadata": {},
   "source": [
    "# Developing more robust IBIS which can handle rings"
   ]
  },
  {
   "cell_type": "code",
   "execution_count": null,
   "metadata": {},
   "outputs": [],
   "source": [
    "import json\n",
    "import pandas as pd\n",
    "from pathlib import Path\n",
    "\n",
    "from polymerist.rdutils.reactions import reactions\n",
    "\n",
    "import networkx as nx\n",
    "from rdkit import Chem\n",
    "\n",
    "from polymerist.rdutils.rdtypes import RDMol\n",
    "from polymerist.rdutils.rdgraphs import rdmol_to_networkx\n",
    "from polymerist.rdutils.rdkdraw import set_rdkdraw_size, disable_substruct_highlights\n",
    "from polymerist.rdutils.reactions import reactors, reactions, fragment"
   ]
  },
  {
   "cell_type": "markdown",
   "metadata": {},
   "source": [
    "## Load rxn reference data"
   ]
  },
  {
   "cell_type": "code",
   "execution_count": null,
   "metadata": {},
   "outputs": [],
   "source": [
    "# Static Paths\n",
    "RAW_DATA_DIR  = Path('monomer_data_raw')\n",
    "FMT_DATA_DIR  = Path('monomer_data_formatted')\n",
    "PROC_DATA_DIR = Path('monomer_data_processed')\n",
    "RXN_FILES_DIR = Path('poly_rxns')\n",
    "\n",
    "with (RXN_FILES_DIR / 'rxn_groups.json').open('r') as file: # load table of functional group for each reaction\n",
    "    rxn_groups = json.load(file)\n",
    "\n",
    "rxns = {\n",
    "    rxnname : reactions.AnnotatedReaction.from_rxnfile(RXN_FILES_DIR / f'{rxnname}.rxn')\n",
    "        for rxnname in rxn_groups.keys()\n",
    "}"
   ]
  },
  {
   "cell_type": "code",
   "execution_count": null,
   "metadata": {},
   "outputs": [],
   "source": [
    "df = pd.read_csv(PROC_DATA_DIR / 'monomer_data_MASTER.csv', index_col=[0,1])\n",
    "frames_by_mech = {\n",
    "    mechanism : df.xs(mechanism)\n",
    "        for mechanism in df.index.unique(level=0)\n",
    "}"
   ]
  },
  {
   "cell_type": "markdown",
   "metadata": {},
   "source": [
    "## Individual reaction"
   ]
  },
  {
   "cell_type": "code",
   "execution_count": null,
   "metadata": {},
   "outputs": [],
   "source": [
    "from polymerist.monomers import specification\n",
    "from polymerist.rdutils.rdkdraw import set_rdkdraw_size\n",
    "set_rdkdraw_size(300, 3/2)\n",
    "\n",
    "\n",
    "# mech = 'polyurethane_isocyanate'\n",
    "mech = 'polyamide'\n",
    "mech = 'polyurethane_nonisocyanate'\n",
    "mech = 'polyester'\n",
    "mech = 'polycarbonate_phosgene'\n",
    "mech = 'polyimide'\n",
    "# mech = 'vinyl'\n",
    "\n",
    "frame = frames_by_mech[mech]\n",
    "row = frame.iloc[3]\n",
    "rxn = rxns[mech]\n",
    "reactor = reactors.PolymerizationReactor(rxn)\n",
    "display(rxn)\n",
    "\n",
    "reactants = []\n",
    "for index in range(2):\n",
    "    smi = row[f'smiles_monomer_{index}']\n",
    "    exp_smi = specification.expanded_SMILES(smi, assign_map_nums=False)\n",
    "    mol = Chem.MolFromSmiles(exp_smi, sanitize=False)\n",
    "    display(mol)\n",
    "\n",
    "    reactants.append(mol)"
   ]
  },
  {
   "cell_type": "code",
   "execution_count": null,
   "metadata": {},
   "outputs": [],
   "source": [
    "set_rdkdraw_size(500)\n",
    "\n",
    "products = reactor.react(reactants)\n",
    "for product in products:\n",
    "    Chem.SanitizeMol(product, sanitizeOps=specification.SANITIZE_AS_KEKULE)\n",
    "    display(product)"
   ]
  },
  {
   "cell_type": "code",
   "execution_count": null,
   "metadata": {},
   "outputs": [],
   "source": [
    "G = rdmol_to_networkx(product)\n",
    "\n",
    "elem_colors = {\n",
    "    'C' : 'gray',\n",
    "    'O' : 'red',\n",
    "    'N' : 'blue',\n",
    "    'H' : 'green',\n",
    "    'Cl' : 'purple'\n",
    "}\n",
    "\n",
    "nx.draw(\n",
    "    G,\n",
    "    pos=nx.spring_layout(G),\n",
    "    node_color=[elem_colors[symbol] for symbol in nx.get_node_attributes(G, 'symbol').values()],\n",
    "    with_labels=True\n",
    ")"
   ]
  },
  {
   "cell_type": "code",
   "execution_count": null,
   "metadata": {},
   "outputs": [],
   "source": [
    "S = G.subgraph(nx.get_node_attributes(G, 'molRxnRole').keys())\n",
    "# S = G.subgraph(i for i, symbol in nx.get_node_attributes(G, 'atomic_num').items() if symbol > 1)\n",
    "\n",
    "pos = nx.spring_layout(S)\n",
    "nx.draw(\n",
    "    S,\n",
    "    pos=pos,\n",
    "    node_color=[elem_colors[symbol] for symbol in nx.get_node_attributes(S, 'symbol').values()],\n",
    "    with_labels=True\n",
    ")\n",
    "\n",
    "edge_labels = { # label by RDKit bond number\n",
    "    (u, v) : data['idx']\n",
    "        for u, v, data in S.edges(data=True)\n",
    "}\n",
    "# edge_labels = { # label by distint chains in chain decomposition\n",
    "#     (u, v) : i\n",
    "#         for i, chain in enumerate(nx.chain_decomposition(S)) \n",
    "#             for u, v in chain\n",
    "# }\n",
    "list(nx.chain_decomposition(S))\n",
    "_ = nx.draw_networkx_edge_labels(\n",
    "    S,\n",
    "    pos=pos,\n",
    "    edge_labels=edge_labels\n",
    ")"
   ]
  },
  {
   "cell_type": "code",
   "execution_count": null,
   "metadata": {},
   "outputs": [],
   "source": [
    "nx.get_node_attributes(S, 'was_dummy').keys(), nx.get_node_attributes(S, 'molRxnRole').keys()"
   ]
  },
  {
   "cell_type": "code",
   "execution_count": null,
   "metadata": {},
   "outputs": [],
   "source": [
    "from itertools import combinations\n",
    "from polymerist.genutils.iteration import sliding_window\n",
    "\n",
    "node_pairs_to_edges = lambda pairs : [S.edges[*edge]['idx'] for edge in pairs]\n",
    "\n",
    "\n",
    "bridges = set(node_pairs_to_edges(nx.bridges(S)))\n",
    "former_bh_ids = nx.get_node_attributes(S, 'was_dummy').keys() # not checking for heavies here\n",
    "new_bond_ids = {i for i in rxn.product_info_maps[0].new_bond_ids_to_map_nums}\n",
    "\n",
    "for bh_id_pair in combinations(former_bh_ids, 2):\n",
    "    path_edges = node_pairs_to_edges(nx.utils.pairwise(nx.shortest_path(S, *bh_id_pair)))\n",
    "    print(bh_id_pair, path_edges, set.intersection(set(path_edges), bridges))"
   ]
  },
  {
   "cell_type": "code",
   "execution_count": null,
   "metadata": {},
   "outputs": [],
   "source": [
    "from openff.interchange import Interchange"
   ]
  },
  {
   "cell_type": "code",
   "execution_count": null,
   "metadata": {},
   "outputs": [],
   "source": [
    "new_bond_ids"
   ]
  },
  {
   "cell_type": "code",
   "execution_count": null,
   "metadata": {},
   "outputs": [],
   "source": [
    "former_bh_ids = nx.get_node_attributes(S, 'was_dummy').keys() # not checking for heavies here"
   ]
  },
  {
   "cell_type": "code",
   "execution_count": null,
   "metadata": {},
   "outputs": [],
   "source": [
    "\n",
    "bridge_edge_ids = [G.edges[*edge]['idx'] for edge in bridges]\n",
    "new_edge_ids = [i for i in rxn.product_info_maps[0].new_bond_ids_to_map_nums]\n",
    "former_bh_ids = nx.get_node_attributes(S, 'was_dummy').keys() # not checking for heavies here\n",
    "\n",
    "bh_paths = {}\n",
    "bh_bridges = {}\n",
    "for bh_id_pair in combinations(former_bh_ids, 2):\n",
    "    paths = [\n",
    "        [S.edges[*path_edges]['idx'] for path_edges in path]\n",
    "            for path in nx.all_simple_edge_paths(S, *bh_id_pair) \n",
    "    ]\n",
    "    bh_paths[bh_id_pair] = paths\n",
    "\n",
    "    \n"
   ]
  },
  {
   "cell_type": "code",
   "execution_count": null,
   "metadata": {},
   "outputs": [],
   "source": [
    "list(sliding_window(nx.shortest_path(S, 1, 7), n=2))"
   ]
  },
  {
   "cell_type": "code",
   "execution_count": null,
   "metadata": {},
   "outputs": [],
   "source": [
    "bridges"
   ]
  },
  {
   "cell_type": "code",
   "execution_count": null,
   "metadata": {},
   "outputs": [],
   "source": [
    "Chem.GetShortestPath(product, 0,12)"
   ]
  },
  {
   "cell_type": "code",
   "execution_count": null,
   "metadata": {},
   "outputs": [],
   "source": [
    "nx.shortest_path(G, 0, 12)"
   ]
  },
  {
   "cell_type": "code",
   "execution_count": null,
   "metadata": {},
   "outputs": [],
   "source": [
    "bridges"
   ]
  },
  {
   "cell_type": "code",
   "execution_count": null,
   "metadata": {},
   "outputs": [],
   "source": [
    "\n",
    "class CutBridgesNearReactingAtoms(reactors.IBIS):\n",
    "    '''IBIS which looks for bridges occurring within the activate portion of a reaction product to minimize the number of cuts made'''\n",
    "    def locate_intermonomer_bonds(self, product: RDMol, product_info: reactors.RxnProductInfo) -> reactors.Generator[int, None, None]:\n",
    "        return super().locate_intermonomer_bonds(product, product_info)"
   ]
  },
  {
   "cell_type": "code",
   "execution_count": null,
   "metadata": {},
   "outputs": [],
   "source": [
    "def test():\n",
    "    former_bh_ids = [atom_id for match in prod.GetSubstructMatches(fragment.HEAVY_FORMER_LINKER_QUERY) for atom_id in match]\n",
    "    bridge_bond_ids = {prod.GetBondBetweenAtoms(*pair).GetIdx() for pair in bridges}\n",
    "    print(bridge_bond_ids)\n",
    "    new_bond_ids = set(rxn.product_info_maps[0].new_bond_ids_to_map_nums)\n",
    "\n",
    "    new_bridge_bond_ids = set.intersection(bridge_bond_ids, new_bond_ids)\n",
    "    if new_bridge_bond_ids:\n",
    "        yield from new_bridge_bond_ids\n",
    "    else:\n",
    "        for bh_id_pair in combinations(former_bh_ids, 2):\n",
    "            for path in nx.all_simple_edge_paths(S, *bh_id_pair):\n",
    "                path_edges = set(S.edges[*pair]['idx'] for pair in path)\n",
    "                if set.intersection(path_edges, new_bond_ids):\n",
    "                    yield from set.intersection(path_edges, bridge_bond_ids)"
   ]
  },
  {
   "cell_type": "code",
   "execution_count": null,
   "metadata": {},
   "outputs": [],
   "source": [
    "BUFFER = '='*10\n",
    "for i, (dimers, frags) in enumerate(reactor.propagate(reactants)):\n",
    "    print(f'{BUFFER}STEP {i}{BUFFER}')\n",
    "    for j, dim in enumerate(dimers):\n",
    "        print(f'Dimer {i}-{j}')\n",
    "        display(dim)\n",
    "    bins = []\n",
    "    for j, frag in enumerate(frags):\n",
    "        print(f'Fragment {i}-{j}')\n",
    "        display(frag)"
   ]
  },
  {
   "cell_type": "code",
   "execution_count": null,
   "metadata": {},
   "outputs": [],
   "source": []
  }
 ],
 "metadata": {
  "kernelspec": {
   "display_name": "polymerist-env-updated",
   "language": "python",
   "name": "python3"
  },
  "language_info": {
   "codemirror_mode": {
    "name": "ipython",
    "version": 3
   },
   "file_extension": ".py",
   "mimetype": "text/x-python",
   "name": "python",
   "nbconvert_exporter": "python",
   "pygments_lexer": "ipython3",
   "version": "3.11.0"
  }
 },
 "nbformat": 4,
 "nbformat_minor": 2
}
