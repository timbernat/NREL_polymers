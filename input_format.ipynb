{
 "cells": [
  {
   "cell_type": "markdown",
   "metadata": {},
   "source": [
    "# Core Imports"
   ]
  },
  {
   "cell_type": "code",
   "execution_count": 1,
   "metadata": {},
   "outputs": [],
   "source": [
    "# Generic Imports\n",
    "from ast import literal_eval\n",
    "\n",
    "# Numeric imports\n",
    "import matplotlib.pyplot as plt\n",
    "import pandas as pd\n",
    "\n",
    "# File I/O\n",
    "from pathlib import Path\n",
    "\n",
    "# Cheminformatics\n",
    "from rdkit import Chem\n",
    "from rdkit.Chem.Draw import IPythonConsole\n",
    "\n",
    "DIM    = 300\n",
    "ASPECT = 3/2\n",
    "IPythonConsole.molSize = (int(ASPECT*DIM), DIM)   # Change image size\n",
    "\n",
    "# Static Paths\n",
    "RAW_DATA_DIR  = Path('monomer_data_raw')\n",
    "FMT_DATA_DIR  = Path('monomer_data_formatted')\n",
    "PROC_DATA_DIR = Path('monomer_data_processed')\n",
    "RXN_FILES_DIR = Path('poly_rxns')\n",
    "# RXN_FILES_DIR = Path('rxn_smarts')"
   ]
  },
  {
   "cell_type": "markdown",
   "metadata": {},
   "source": [
    "# Reformatting data to be compliant with monomer pipeline"
   ]
  },
  {
   "cell_type": "code",
   "execution_count": null,
   "metadata": {},
   "outputs": [],
   "source": [
    "decoder_dict = { # de-stringify stored tuples\n",
    "    'monomers' : literal_eval,\n",
    "    'Monomers' : literal_eval,\n",
    "}\n",
    "\n",
    "# input_data_path = RAW_DATA_DIR / 'nipu_urethanes.csv'\n",
    "input_data_path = RAW_DATA_DIR / '221010_trainingdata_DP-18_expanded.csv'\n",
    "\n",
    "raw_df = pd.read_csv(input_data_path, converters=decoder_dict) \n",
    "raw_df"
   ]
  },
  {
   "cell_type": "markdown",
   "metadata": {},
   "source": [
    "## Save reformatted copy for further processing"
   ]
  },
  {
   "cell_type": "code",
   "execution_count": null,
   "metadata": {},
   "outputs": [],
   "source": [
    "new_col_names = {\n",
    "    'Chemistry' : 'mechanism',\n",
    "    'Monomers'  : 'smiles_monomer'\n",
    "}\n",
    "\n",
    "fmt_df = raw_df.rename(new_col_names, axis='columns')\n",
    "fmt_df['smiles_monomer'] = fmt_df['smiles_monomer'].map(lambda smi : '.'.join(smi) if isinstance(smi, tuple) else smi)\n",
    "fmt_df"
   ]
  },
  {
   "cell_type": "code",
   "execution_count": null,
   "metadata": {},
   "outputs": [],
   "source": [
    "fmt_data_path = FMT_DATA_DIR / f'{input_data_path.stem}_FMT.csv'\n",
    "fmt_df.to_csv(fmt_data_path, index=False)"
   ]
  },
  {
   "cell_type": "markdown",
   "metadata": {},
   "source": [
    "# Producing combined master dataset from individual processed datasets "
   ]
  },
  {
   "cell_type": "code",
   "execution_count": 2,
   "metadata": {},
   "outputs": [],
   "source": [
    "dsets_to_combine_paths = [\n",
    "    'nipu_urethanes_FILTERED.csv',\n",
    "    '20231114_polyid_data_density_DP2-6 - 1,2 monomers_FILTERED.csv'\n",
    "]\n",
    "\n",
    "master = pd.concat(\n",
    "    [\n",
    "        pd.read_csv(PROC_DATA_DIR / path_name, index_col=0)\n",
    "            for path_name in dsets_to_combine_paths\n",
    "    ], axis=0\n",
    ")\n",
    "\n",
    "master.to_csv(PROC_DATA_DIR / 'monomer_data_MASTER.csv')"
   ]
  },
  {
   "cell_type": "code",
   "execution_count": null,
   "metadata": {},
   "outputs": [],
   "source": []
  }
 ],
 "metadata": {
  "kernelspec": {
   "display_name": "openff-dev-updated",
   "language": "python",
   "name": "python3"
  },
  "language_info": {
   "codemirror_mode": {
    "name": "ipython",
    "version": 3
   },
   "file_extension": ".py",
   "mimetype": "text/x-python",
   "name": "python",
   "nbconvert_exporter": "python",
   "pygments_lexer": "ipython3",
   "version": "3.1.0"
  },
  "orig_nbformat": 4
 },
 "nbformat": 4,
 "nbformat_minor": 2
}
