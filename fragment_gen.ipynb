{
 "cells": [
  {
   "cell_type": "markdown",
   "metadata": {},
   "source": [
    "# Core Imports"
   ]
  },
  {
   "cell_type": "code",
   "execution_count": 1,
   "metadata": {},
   "outputs": [
    {
     "name": "stderr",
     "output_type": "stream",
     "text": [
      "/home/timber/miniconda3/envs/openff-dev-updated/lib/python3.10/site-packages/numpy/core/getlimits.py:518: UserWarning: The value of the smallest subnormal for <class 'numpy.float64'> type is zero.\n",
      "  setattr(self, word, getattr(machar, word).flat[0])\n",
      "/home/timber/miniconda3/envs/openff-dev-updated/lib/python3.10/site-packages/numpy/core/getlimits.py:89: UserWarning: The value of the smallest subnormal for <class 'numpy.float64'> type is zero.\n",
      "  return self._float_to_str(self.smallest_subnormal)\n",
      "/home/timber/miniconda3/envs/openff-dev-updated/lib/python3.10/site-packages/numpy/core/getlimits.py:518: UserWarning: The value of the smallest subnormal for <class 'numpy.float32'> type is zero.\n",
      "  setattr(self, word, getattr(machar, word).flat[0])\n",
      "/home/timber/miniconda3/envs/openff-dev-updated/lib/python3.10/site-packages/numpy/core/getlimits.py:89: UserWarning: The value of the smallest subnormal for <class 'numpy.float32'> type is zero.\n",
      "  return self._float_to_str(self.smallest_subnormal)\n",
      "Warning on use of the timeseries module: If the inherent timescales of the system are long compared to those being analyzed, this statistical inefficiency may be an underestimate.  The estimate presumes the use of many statistically independent samples.  Tests should be performed to assess whether this condition is satisfied.   Be cautious in the interpretation of the data.\n",
      "WARNING:root:Warning: importing 'simtk.openmm' is deprecated.  Import 'openmm' instead.\n"
     ]
    }
   ],
   "source": [
    "# Custom Imports\n",
    "from polysaccharide import general\n",
    "from polysaccharide.general import optional_in_place\n",
    "from polysaccharide.extratypes import ResidueSmarts\n",
    "\n",
    "from polysaccharide.molutils import reactions\n",
    "from polysaccharide.molutils.rdmol.rdtypes import *\n",
    "from polysaccharide.molutils.rdmol import rdcompare, rdconvert, rdkdraw, rdcompare, rdprops, rdbond, rdlabels\n",
    "\n",
    "from polysaccharide.polymer import monomer as monoutils\n",
    "from polysaccharide.polymer.monomer import MonomerInfo\n",
    "\n",
    "# Generic Imports\n",
    "import re\n",
    "from functools import partial, cached_property\n",
    "from collections import defaultdict\n",
    "from itertools import combinations, chain\n",
    "from ast import literal_eval\n",
    "\n",
    "# Numeric imports\n",
    "import pandas as pd\n",
    "import numpy as np\n",
    "\n",
    "# File I/O\n",
    "from pathlib import Path\n",
    "import csv, json, openpyxl\n",
    "\n",
    "# Typing and Subclassing\n",
    "from typing import Any, Callable, ClassVar, Generator, Iterable, Optional, Union\n",
    "from dataclasses import dataclass, field\n",
    "from abc import ABC, abstractmethod, abstractproperty\n",
    "from openmm.unit import Unit, Quantity\n",
    "\n",
    "# Cheminformatics\n",
    "from rdkit import Chem\n",
    "from rdkit.Chem import rdChemReactions\n",
    "\n",
    "# Static Paths\n",
    "RAW_DATA_PATH = Path('raw_monomer_data')\n",
    "PROC_DATA_PATH = Path('processed_monomer_data')\n",
    "RXN_FILES_PATH = Path('rxn_smarts')"
   ]
  },
  {
   "cell_type": "markdown",
   "metadata": {},
   "source": [
    "# Inspecting NREL Urethanes"
   ]
  },
  {
   "cell_type": "markdown",
   "metadata": {},
   "source": [
    "## Loading pre-processed data"
   ]
  },
  {
   "cell_type": "code",
   "execution_count": 2,
   "metadata": {},
   "outputs": [],
   "source": [
    "digroup_table = pd.read_csv(PROC_DATA_PATH / 'clean_smarts_digroup.csv', index_col=[0])\n",
    "tables_by_chem = {\n",
    "    chemistry : digroup_table[digroup_table['Chemistry'] == chemistry].dropna(axis=1).reset_index(drop=True)\n",
    "        for chemistry in set(digroup_table['Chemistry'])\n",
    "}"
   ]
  },
  {
   "cell_type": "markdown",
   "metadata": {},
   "source": [
    "## Loading reaction mechanisms"
   ]
  },
  {
   "cell_type": "code",
   "execution_count": 3,
   "metadata": {},
   "outputs": [],
   "source": [
    "# defining reacting functional groups\n",
    "reaction_pairs = {\n",
    "    'NIPU' : ('cyclocarbonate', 'amine'),\n",
    "    'urethane' : ('isocyanate', 'hydroxyl')\n",
    "}"
   ]
  },
  {
   "cell_type": "code",
   "execution_count": 4,
   "metadata": {},
   "outputs": [],
   "source": [
    "from_smarts = True#False\n",
    "\n",
    "# from SMARTS\n",
    "if from_smarts:\n",
    "    with (RXN_FILES_PATH / 'rxn_smarts.json').open('r') as rxn_file:\n",
    "        rxns = {\n",
    "            chemistry : reactions.AnnotatedReaction.from_smarts(rxn_SMARTS)\n",
    "                for chemistry, rxn_SMARTS in json.load(rxn_file).items()\n",
    "        }\n",
    "else:\n",
    "    # from files\n",
    "    rxns = {\n",
    "        chemistry : reactions.AnnotatedReaction.from_rxnfile(RXN_FILES_PATH / f'{chemistry}.rxn')\n",
    "            for chemistry in reaction_pairs.keys()\n",
    "    }"
   ]
  },
  {
   "cell_type": "code",
   "execution_count": 5,
   "metadata": {},
   "outputs": [
    {
     "data": {
      "text/plain": [
       "'[#8:1]=[#6:2]=[#7&D2:3]-[*:4].[#8:5](-[#1:6])-[*:7]>>[#8:1]=[#6:2](-[#7&D2:3](-[*:4])-[#1:6])-[#8:5]-[*:7]'"
      ]
     },
     "execution_count": 5,
     "metadata": {},
     "output_type": "execute_result"
    }
   ],
   "source": [
    "rdChemReactions.ReactionToSmarts(rxns['urethane'])"
   ]
  },
  {
   "cell_type": "markdown",
   "metadata": {},
   "source": [
    "# Polymerizing and generating fragments"
   ]
  },
  {
   "cell_type": "code",
   "execution_count": 6,
   "metadata": {},
   "outputs": [],
   "source": [
    "show = False #True\n",
    "mono_info_dir = Path('monomer_files')\n",
    "mono_info_dir.mkdir(exist_ok=True)\n",
    "\n",
    "rdkdraw.set_rdkdraw_size(400, 3/2)\n",
    "\n",
    "for chemistry, smarts_table in tables_by_chem.items():\n",
    "    chem_dir = mono_info_dir / chemistry\n",
    "    chem_dir.mkdir(exist_ok=True)\n",
    "\n",
    "    for i, sample in smarts_table.iterrows():\n",
    "        # look up reactive groups and pathway by chemistry\n",
    "        rxn_group_names = reaction_pairs[chemistry]\n",
    "        rxn = rxns[chemistry]\n",
    "\n",
    "        # read reactant monomers from digroup_table\n",
    "        initial_reactants = []\n",
    "        for j, group_name in enumerate(rxn_group_names):\n",
    "            reactant = Chem.MolFromSmarts(sample[group_name])\n",
    "            for atom in reactant.GetAtoms():\n",
    "                atom.SetProp('reactant_group', group_name)\n",
    "            \n",
    "            initial_reactants.append(reactant)\n",
    "        mono_info = MonomerInfo()\n",
    "\n",
    "        # first round of polymerization (initiation)\n",
    "        reactor = reactions.PolymerizationReactor(rxn)\n",
    "        for dimer, frags in reactor.propagate(initial_reactants):\n",
    "            dimer = rdconvert.SMILESConverter().convert(dimer) # hacky workaround for RDKit nitrogen bond order SMARTS bug\n",
    "            num_dimer_ports = monoutils.count_ports_in_rdmol(dimer)\n",
    "            if num_dimer_ports > 0:\n",
    "                mono_info.monomers[f'DIMER_{num_dimer_ports}_PORT'] = Chem.MolToSmarts(dimer)\n",
    "\n",
    "            for assoc_group_name, rdfragment in zip(rxn_group_names, frags):\n",
    "                rdfragment = rdconvert.SMILESConverter().convert(rdfragment) # hacky workaround for RDKit nitrogen bond order SMARTS bug\n",
    "                rdlabels.clear_atom_isotopes(rdfragment, in_place=True)\n",
    "\n",
    "                affix = 'TERM' if monoutils.is_term_by_rdmol(rdfragment) else 'MID'\n",
    "                mono_info.monomers[f'{assoc_group_name}_{affix}'] = Chem.MolToSmarts(rdfragment)\n",
    "\n",
    "        # add serial map numbers to monomer fragment SMARTS and save to file\n",
    "        for monomer_tag, smarts in mono_info.monomers.items():\n",
    "            monomer = Chem.MolFromSmarts(smarts)\n",
    "            Chem.Kekulize(monomer, clearAromaticFlags=True) # esnures that aromatic rings are handled correctly\n",
    "            rdlabels.assign_ordered_atom_map_nums(monomer, in_place=True)\n",
    "            mono_info.monomers[monomer_tag] = Chem.MolToSmarts(monomer).replace('#0', '*') # ensure wild atoms are marked correctly (rather than as undefined atoms)\n",
    "        mono_info.to_file(chem_dir / f'{chemistry}_{i}.json')"
   ]
  },
  {
   "cell_type": "code",
   "execution_count": null,
   "metadata": {},
   "outputs": [],
   "source": []
  }
 ],
 "metadata": {
  "kernelspec": {
   "display_name": "openff-dev-updated",
   "language": "python",
   "name": "python3"
  },
  "language_info": {
   "codemirror_mode": {
    "name": "ipython",
    "version": 3
   },
   "file_extension": ".py",
   "mimetype": "text/x-python",
   "name": "python",
   "nbconvert_exporter": "python",
   "pygments_lexer": "ipython3",
   "version": "3.10.9"
  },
  "orig_nbformat": 4
 },
 "nbformat": 4,
 "nbformat_minor": 2
}
