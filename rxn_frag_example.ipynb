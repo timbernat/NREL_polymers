{
 "cells": [
  {
   "cell_type": "markdown",
   "metadata": {},
   "source": [
    "# Imports"
   ]
  },
  {
   "cell_type": "code",
   "execution_count": null,
   "metadata": {},
   "outputs": [],
   "source": [
    "## Logging and Shell\n",
    "import logging\n",
    "logging.basicConfig(\n",
    "    level=logging.ERROR,\n",
    "    force=True\n",
    ")\n",
    "\n",
    "## Numeric imports\n",
    "import pandas as pd\n",
    "\n",
    "## File I/O\n",
    "from pathlib import Path\n",
    "import json\n",
    "\n",
    "# Cheminformatics\n",
    "from rdkit import Chem\n",
    "from rdkit.Chem.Draw import IPythonConsole\n",
    "\n",
    "DIM    = 300\n",
    "ASPECT = 3/2\n",
    "IPythonConsole.molSize = (int(ASPECT*DIM), DIM)   # Change image size\n",
    "\n",
    "# Custom imports\n",
    "from polymerist.monomers import specification\n",
    "from polymerist.rdutils.reactions import reactions\n",
    "\n",
    "# Static Paths\n",
    "RAW_DATA_DIR  = Path('monomer_data_raw')\n",
    "FMT_DATA_DIR  = Path('monomer_data_formatted')\n",
    "PROC_DATA_DIR = Path('monomer_data_processed')\n",
    "RXN_FILES_DIR = Path('poly_rxns')\n",
    "\n",
    "PDB_OUT_DIR   = Path('pdb_files')\n",
    "PDB_OUT_DIR.mkdir(exist_ok=True)\n",
    "\n",
    "MONO_INFO_DIR = Path('monomer_fragments')\n",
    "MONO_INFO_DIR.mkdir(exist_ok=True)"
   ]
  },
  {
   "cell_type": "markdown",
   "metadata": {},
   "source": [
    "# Load monomer and rxn data "
   ]
  },
  {
   "cell_type": "code",
   "execution_count": null,
   "metadata": {},
   "outputs": [],
   "source": [
    "input_data_path = PROC_DATA_DIR / '20231114_polyid_data_density_DP2-6 - 1,2 monomers_FILTERED.csv'\n",
    "# input_data_path = PROC_DATA_DIR / 'nipu_urethanes_FILTERED.csv'\n",
    "df = pd.read_csv(input_data_path, index_col=0)"
   ]
  },
  {
   "cell_type": "code",
   "execution_count": null,
   "metadata": {},
   "outputs": [],
   "source": [
    "blacklisted_rxns = ['imide']#, 'vinyl']\n",
    "df = df[df.mechanism.map(lambda s : s not in blacklisted_rxns)]"
   ]
  },
  {
   "cell_type": "code",
   "execution_count": null,
   "metadata": {},
   "outputs": [],
   "source": [
    "keys = ['rxn_name']\n",
    "\n",
    "df_grouper = df.groupby(keys)\n",
    "frames = {\n",
    "    mech : df_grouper.get_group(mech)\n",
    "        for mech in df_grouper.groups\n",
    "}"
   ]
  },
  {
   "cell_type": "markdown",
   "metadata": {},
   "source": [
    "## Load pre-defined reactions with functional group and name backmap"
   ]
  },
  {
   "cell_type": "code",
   "execution_count": null,
   "metadata": {},
   "outputs": [],
   "source": [
    "with (RXN_FILES_DIR / 'rxn_groups.json').open('r') as file: # load table of functional group for each reaction\n",
    "    rxn_groups = json.load(file)\n",
    "\n",
    "rxns = {\n",
    "    rxnname : reactions.AnnotatedReaction.from_rxnfile(RXN_FILES_DIR / f'{rxnname}.rxn')\n",
    "        for rxnname in rxn_groups.keys()\n",
    "}"
   ]
  },
  {
   "cell_type": "markdown",
   "metadata": {},
   "source": [
    "# Polymerizing fragments"
   ]
  },
  {
   "cell_type": "markdown",
   "metadata": {},
   "source": [
    "## Example for polymerization of individual molecule"
   ]
  },
  {
   "cell_type": "code",
   "execution_count": null,
   "metadata": {},
   "outputs": [],
   "source": [
    "mechname = 'polyurethane_isocyanate'\n",
    "frame = frames[mechname]\n",
    "row = frame.loc[frame.index[0]]\n",
    "rxn_pathway = rxns[mechname]\n",
    "\n",
    "named_reactants = {}\n",
    "for i in range(2):\n",
    "    reactant = Chem.MolFromSmiles(row[f'smiles_monomer_{i}'], sanitize=False)\n",
    "    Chem.SanitizeMol(reactant, sanitizeOps=specification.SANITIZE_AS_KEKULE)\n",
    "    display(reactant)\n",
    "    named_reactants[ row[f'IUPAC_name_monomer_{i}'] ] = reactant\n",
    "\n",
    "reactants = [i for i in named_reactants.values()]"
   ]
  },
  {
   "cell_type": "code",
   "execution_count": null,
   "metadata": {},
   "outputs": [],
   "source": [
    "from polymerist.rdutils.amalgamation import portlib\n",
    "from polymerist.rdutils.reactions import reactors\n",
    "\n",
    "display(rxn_pathway)\n",
    "reactor = reactors.PolymerizationReactor(rxn_pathway)\n",
    "for (dimer, pair) in reactor.propagate(reactants):\n",
    "    display(dimer)\n",
    "    for frag in pair:\n",
    "        display(frag)\n",
    "\n",
    "    print('='*50)"
   ]
  },
  {
   "cell_type": "code",
   "execution_count": null,
   "metadata": {},
   "outputs": [],
   "source": []
  }
 ],
 "metadata": {
  "kernelspec": {
   "display_name": "openff-dev-updated",
   "language": "python",
   "name": "python3"
  },
  "language_info": {
   "codemirror_mode": {
    "name": "ipython",
    "version": 3
   },
   "file_extension": ".py",
   "mimetype": "text/x-python",
   "name": "python",
   "nbconvert_exporter": "python",
   "pygments_lexer": "ipython3",
   "version": "3.11.5"
  },
  "orig_nbformat": 4
 },
 "nbformat": 4,
 "nbformat_minor": 2
}
