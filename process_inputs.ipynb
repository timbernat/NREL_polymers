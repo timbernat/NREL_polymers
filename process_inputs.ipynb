{
 "cells": [
  {
   "cell_type": "markdown",
   "metadata": {},
   "source": [
    "# Core Imports"
   ]
  },
  {
   "cell_type": "code",
   "execution_count": null,
   "metadata": {},
   "outputs": [],
   "source": [
    "# Generic Imports\n",
    "import re\n",
    "from functools import partial, cached_property\n",
    "from collections import defaultdict\n",
    "from itertools import combinations, chain\n",
    "from ast import literal_eval\n",
    "\n",
    "# Numeric imports\n",
    "import matplotlib.pyplot as plt\n",
    "import pandas as pd\n",
    "import numpy as np\n",
    "\n",
    "# File I/O\n",
    "from pathlib import Path\n",
    "import csv, json, openpyxl\n",
    "\n",
    "# Typing and Subclassing\n",
    "from typing import Any, Callable, ClassVar, Generator, Iterable, Optional, Union\n",
    "from dataclasses import dataclass, field\n",
    "from abc import ABC, abstractmethod, abstractproperty\n",
    "from openmm.unit import Unit, Quantity\n",
    "\n",
    "# Cheminformatics\n",
    "from rdkit import Chem\n",
    "from rdkit.Chem import rdChemReactions\n",
    "from rdkit.Chem.Draw import IPythonConsole\n",
    "\n",
    "DIM    = 300\n",
    "ASPECT = 3/2\n",
    "IPythonConsole.molSize = (int(ASPECT*DIM), DIM)   # Change image size\n",
    "\n",
    "# Static Paths\n",
    "RAW_DATA_DIR  = Path('raw_monomer_data')\n",
    "PROC_DATA_DIR = Path('processed_monomer_data')\n",
    "RXN_FILES_DIR = Path('poly_rxns')\n",
    "# RXN_FILES_DIR = Path('rxn_smarts')"
   ]
  },
  {
   "cell_type": "markdown",
   "metadata": {},
   "source": [
    "# Inspecting and filtering expanded dataset"
   ]
  },
  {
   "cell_type": "code",
   "execution_count": null,
   "metadata": {},
   "outputs": [],
   "source": [
    "from polymerist.monomers import specification\n",
    "\n",
    "input_data_path = RAW_DATA_DIR / '20231114_polyid_data_density_DP2-6 - 1,2 monomers.csv'\n",
    "df = pd.read_csv(input_data_path)"
   ]
  },
  {
   "cell_type": "markdown",
   "metadata": {},
   "source": [
    "## Filter by number of monomer fragments in monomer SMILES"
   ]
  },
  {
   "cell_type": "markdown",
   "metadata": {},
   "source": [
    "### Verify that the num_monomers fields is accurate"
   ]
  },
  {
   "cell_type": "code",
   "execution_count": null,
   "metadata": {},
   "outputs": [],
   "source": [
    "num_mols_in_smiles = lambda smiles : len(\n",
    "    Chem.GetMolFrags(\n",
    "        Chem.MolFromSmiles(smiles)\n",
    "    )\n",
    ")\n",
    "\n",
    "reported_num_monomers = df['num_monomers']\n",
    "actual_num_monomers   = df.apply(lambda row : num_mols_in_smiles(row['smiles_monomer']), axis=1)\n",
    "\n",
    "assert( (reported_num_monomers == actual_num_monomers).all() )"
   ]
  },
  {
   "cell_type": "code",
   "execution_count": null,
   "metadata": {},
   "outputs": [],
   "source": [
    "df = df[df['num_monomers'] == 2]\n",
    "display(df)"
   ]
  },
  {
   "cell_type": "markdown",
   "metadata": {},
   "source": [
    "## Filter by chemistry"
   ]
  },
  {
   "cell_type": "markdown",
   "metadata": {},
   "source": [
    "### Insert column of expanded monomer SMILES for combined mols"
   ]
  },
  {
   "cell_type": "code",
   "execution_count": null,
   "metadata": {},
   "outputs": [],
   "source": [
    "col_labels = df.columns.to_list()\n",
    "# col_labels.insert(1, 'smiles_expanded')\n",
    "# df = df.reindex(columns=col_labels) # this need to be done BEFORE actually inserting the new column to avoid duplication\n",
    "df.insert(\n",
    "    loc=1,\n",
    "    column='smiles_expanded',\n",
    "    value=df['smiles_monomer'].apply(lambda smiles : specification.expanded_SMILES(smiles, assign_map_nums=False))\n",
    ")"
   ]
  },
  {
   "cell_type": "markdown",
   "metadata": {},
   "source": [
    "### Remove entries which contain any undesired atoms"
   ]
  },
  {
   "cell_type": "code",
   "execution_count": null,
   "metadata": {},
   "outputs": [],
   "source": [
    "from rdkit.Chem import rdqueries\n",
    "from polymerist.rdutils.smileslib import queries\n",
    "\n",
    "atom_queries = {\n",
    "    'silicon' : Chem.MolFromSmarts('[Si]'),\n",
    "    'sulfur'  : Chem.MolFromSmarts('[S]'),\n",
    "    'metal'   : queries.SPECIAL_QUERY_MOLS['metal'],\n",
    "    # 'halogen' : queries.SPECIAL_QUERY_MOLS['halogen'],\n",
    "}"
   ]
  },
  {
   "cell_type": "code",
   "execution_count": null,
   "metadata": {},
   "outputs": [],
   "source": [
    "undes_atoms_present = df.apply(lambda row : \n",
    "    queries.matching_dict_from_substruct_dict(Chem.MolFromSmiles(row['smiles_expanded'], sanitize=False), atom_queries).values(),\n",
    "    axis=1,\n",
    "    result_type='expand'\n",
    ")\n",
    "\n",
    "df[[f'{atom_chem}_present' for atom_chem in atom_queries.keys()]] = undes_atoms_present"
   ]
  },
  {
   "cell_type": "code",
   "execution_count": null,
   "metadata": {},
   "outputs": [],
   "source": [
    "df = df[~undes_atoms_present.any(axis=1)]"
   ]
  },
  {
   "cell_type": "markdown",
   "metadata": {},
   "source": [
    "## Filter by reactive functional groups, placing fragments in correct order"
   ]
  },
  {
   "cell_type": "markdown",
   "metadata": {},
   "source": [
    "### Load pre-defined functional group SMARTS queries"
   ]
  },
  {
   "cell_type": "code",
   "execution_count": null,
   "metadata": {},
   "outputs": [],
   "source": [
    "with Path('poly_rxns/fn_group_smarts.json').open('r') as file:\n",
    "    fn_group_smarts = json.load(file)\n",
    "\n",
    "fn_groups = {\n",
    "    group_name : Chem.MolFromSmarts(smarts)\n",
    "        for group_name, smarts in fn_group_smarts.items()\n",
    "}"
   ]
  },
  {
   "cell_type": "markdown",
   "metadata": {},
   "source": [
    "### Backmap reactions and their functional groups"
   ]
  },
  {
   "cell_type": "code",
   "execution_count": null,
   "metadata": {},
   "outputs": [],
   "source": [
    "from polymerist.rdutils.reactions import reactions\n",
    "\n",
    "rxn_backmap = { # map NREL dataset mechanism names to pre-made rxn template names\n",
    "    'amide'     : 'polyamide',\n",
    "    'carbonate' : 'polycarbonate_phosgene',\n",
    "    'ester'     : 'polyester',\n",
    "    'imide'     : 'polyimide',\n",
    "    'urethane'  : 'polyurethane_isocyanate',\n",
    "    'NIPU'      : 'polyurethane_nonisocyanate',\n",
    "    'vinyl'     : 'polyvinyl_head_tail'\n",
    "}\n",
    "\n",
    "assert(set(df['mechanism'].unique()).issubset(set(rxn_backmap.keys()))) # verify that we've mapped all reactions\n",
    "\n",
    "backmap_path = RXN_FILES_DIR / 'rxn_backmap.json'\n",
    "with backmap_path.open('w') as backmap_file:\n",
    "    json.dump(rxn_backmap, backmap_file, indent=4)"
   ]
  },
  {
   "cell_type": "code",
   "execution_count": null,
   "metadata": {},
   "outputs": [],
   "source": [
    "rxns = {\n",
    "    rxnname : reactions.AnnotatedReaction.from_rxnfile(RXN_FILES_DIR / f'{rxnname}.rxn')\n",
    "        for rxnname in rxn_backmap.values()\n",
    "}\n",
    "\n",
    "with (RXN_FILES_DIR / 'rxn_groups.json').open('r') as file: # load table of functional group for each reaction\n",
    "    rxn_groups = json.load(file)"
   ]
  },
  {
   "cell_type": "code",
   "execution_count": null,
   "metadata": {},
   "outputs": [],
   "source": [
    "df.insert( # insert column applying backmap to listed mechanism name\n",
    "    loc=df.columns.to_list().index('mechanism') + 1, # insert after existing mechanism column\n",
    "    column='rxn_name',\n",
    "    value=df.mechanism.map(rxn_backmap)\n",
    ")"
   ]
  },
  {
   "cell_type": "markdown",
   "metadata": {},
   "source": [
    "### Identify if fragments match a defined rxn, and if so, in what order they should appear"
   ]
  },
  {
   "cell_type": "code",
   "execution_count": null,
   "metadata": {},
   "outputs": [],
   "source": [
    "from polymerist.maths.combinatorics.sequences import bin_ids_forming_sequence\n",
    "\n",
    "def get_ordered_monomer_fragments(row : pd.Series) -> list[Optional[str], Optional[str]]:\n",
    "    '''Returns expanded SMILES each individual monomer in the correct order for their respective reaction\n",
    "    or all NoneType if no such match can be found'''\n",
    "    targ_groups = rxn_groups[rxn_backmap[row.mechanism]]\n",
    "    frag_smiles = row['smiles_expanded'].split('.') # easier in practice than generating fragments of combined mol, turning fragments to SMILES, and expanding those SMILES\n",
    "    choice_bins = [\n",
    "        queries.matching_labels_from_substruct_dict(Chem.MolFromSmiles(smiles, sanitize=False), fn_groups)\n",
    "            for smiles in frag_smiles\n",
    "    ]\n",
    "\n",
    "    nfrags = len(frag_smiles) # avoids relying on prior data sanitization\n",
    "    # nfrags = row['num_monomers']\n",
    "    all_indices = set(range(nfrags))\n",
    "\n",
    "    for ids in bin_ids_forming_sequence(sequence=targ_groups, choice_bins=choice_bins):\n",
    "        if set(ids) == all_indices:\n",
    "            return [frag_smiles[i] for i in ids] # return fragments in the order defined by the sequence\n",
    "    else:\n",
    "        return [None for _ in all_indices] # return all None if no covering order is found"
   ]
  },
  {
   "cell_type": "markdown",
   "metadata": {},
   "source": [
    "### Insert individual monomers into table, remove rows with no monomers"
   ]
  },
  {
   "cell_type": "code",
   "execution_count": null,
   "metadata": {},
   "outputs": [],
   "source": [
    "reacting_monomers = df.apply(get_ordered_monomer_fragments, axis=1, result_type='expand')\n",
    "for (i, col) in reacting_monomers.items():\n",
    "    df.insert(\n",
    "        loc=i+3,\n",
    "        column=f'smiles_expanded_monomer_{i+1}',\n",
    "        value=col\n",
    "    )\n",
    "\n",
    "df = df[reacting_monomers.notnull().all(axis=1)]"
   ]
  },
  {
   "cell_type": "markdown",
   "metadata": {},
   "source": [
    "## Filtering by IUPAC name query to chemical databases"
   ]
  },
  {
   "cell_type": "code",
   "execution_count": null,
   "metadata": {},
   "outputs": [],
   "source": [
    "import cirpy\n",
    "import pubchempy as pcp\n",
    "import chemspipy as csp\n",
    "\n",
    "def get_IUPAC_name(smiles : str) -> Optional[str]:\n",
    "    '''Attempts to fetch the IUPAC name for the molecule described by a SMILES string from online chemical resolution services\n",
    "    Returns the fetched IUPAC name, or NoneType if both queries are unsuccessful'''\n",
    "    try:\n",
    "        pcquery = pcp.get_compounds(smiles, namespace='smiles')\n",
    "        pccomp = pcquery.pop()\n",
    "        return getattr(pccomp, 'iupac_name')\n",
    "    except Exception as e:\n",
    "        print(type(e), e)\n",
    "        return None"
   ]
  },
  {
   "cell_type": "code",
   "execution_count": null,
   "metadata": {},
   "outputs": [],
   "source": [
    "IUPAC_names = df[['smiles_expanded_monomer_1', 'smiles_expanded_monomer_2']].map(get_IUPAC_name) # this takes a while due to the HTTP query\n",
    "IUPAC_names"
   ]
  },
  {
   "cell_type": "code",
   "execution_count": null,
   "metadata": {},
   "outputs": [],
   "source": [
    "IUPAC_names.columns = (0, 1)\n",
    "for (i, col) in IUPAC_names.items():\n",
    "    df.insert(\n",
    "        loc=i+5,\n",
    "        column=f'IUPAC_monomer_{i+1}',\n",
    "        value=col\n",
    "    )\n",
    "\n",
    "df = df[IUPAC_names.notnull().all(axis=1)]"
   ]
  },
  {
   "cell_type": "markdown",
   "metadata": {},
   "source": [
    "## Save filtered DataFrame for next steps to avoid reprocessing"
   ]
  },
  {
   "cell_type": "code",
   "execution_count": null,
   "metadata": {},
   "outputs": [],
   "source": [
    "out_data_path = PROC_DATA_DIR / '20231114_polyid_data_density_FILTERED.csv'\n",
    "df.to_csv(out_data_path)"
   ]
  },
  {
   "cell_type": "code",
   "execution_count": null,
   "metadata": {},
   "outputs": [],
   "source": []
  }
 ],
 "metadata": {
  "kernelspec": {
   "display_name": "openff-dev-updated",
   "language": "python",
   "name": "python3"
  },
  "language_info": {
   "codemirror_mode": {
    "name": "ipython",
    "version": 3
   },
   "file_extension": ".py",
   "mimetype": "text/x-python",
   "name": "python",
   "nbconvert_exporter": "python",
   "pygments_lexer": "ipython3",
   "version": "3.11.5"
  },
  "orig_nbformat": 4
 },
 "nbformat": 4,
 "nbformat_minor": 2
}
