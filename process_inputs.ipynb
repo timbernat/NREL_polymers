{
 "cells": [
  {
   "cell_type": "markdown",
   "metadata": {},
   "source": [
    "# Core Imports"
   ]
  },
  {
   "cell_type": "code",
   "execution_count": 1,
   "metadata": {},
   "outputs": [],
   "source": [
    "# Generic Imports\n",
    "import re\n",
    "from functools import partial, cached_property\n",
    "from collections import defaultdict\n",
    "from itertools import combinations, chain\n",
    "from ast import literal_eval\n",
    "\n",
    "# Numeric imports\n",
    "import pandas as pd\n",
    "import numpy as np\n",
    "\n",
    "# File I/O\n",
    "from pathlib import Path\n",
    "import csv, json, openpyxl\n",
    "\n",
    "# Typing and Subclassing\n",
    "from typing import Any, Callable, ClassVar, Generator, Iterable, Optional, Union\n",
    "from dataclasses import dataclass, field\n",
    "from abc import ABC, abstractmethod, abstractproperty\n",
    "from openmm.unit import Unit, Quantity\n",
    "\n",
    "# Cheminformatics\n",
    "from rdkit import Chem\n",
    "from rdkit.Chem import rdChemReactions\n",
    "from rdkit.Chem.Draw import IPythonConsole\n",
    "\n",
    "DIM = 300\n",
    "ASPECT = 3/2\n",
    "IPythonConsole.molSize = (int(ASPECT*DIM), DIM)   # Change image size\n",
    "\n",
    "# Static Paths\n",
    "RAW_DATA_PATH = Path('raw_monomer_data')\n",
    "PROC_DATA_PATH = Path('processed_monomer_data')\n",
    "RXN_FILES_PATH = Path('rxn_smarts')"
   ]
  },
  {
   "cell_type": "markdown",
   "metadata": {},
   "source": [
    "# Preprocessing and cleaning up NREL Urethane data"
   ]
  },
  {
   "cell_type": "markdown",
   "metadata": {},
   "source": [
    "## Loading and inspecting raw data"
   ]
  },
  {
   "cell_type": "code",
   "execution_count": 2,
   "metadata": {},
   "outputs": [],
   "source": [
    "p = RAW_DATA_PATH / 'nipu_urethanes.xlsx'\n",
    "raw_table = pd.read_excel(p) # load from .xlsx file\n",
    "raw_table['Monomers'] = raw_table['Monomers'].apply(literal_eval) # convert string of tuples into proper tuples\n",
    "\n",
    "nipus     = raw_table[raw_table['Chemistry'] == 'NIPU'    ]\n",
    "urethanes = raw_table[raw_table['Chemistry'] == 'urethane']\n",
    "\n",
    "nipus_mono     = nipus['Monomers'].reset_index(drop=True) # extract monomers and renumber subset in-order\n",
    "urethanes_mono = urethanes['Monomers'].reset_index(drop=True) # extract monomers and renumber subset in-order"
   ]
  },
  {
   "cell_type": "code",
   "execution_count": 3,
   "metadata": {},
   "outputs": [],
   "source": [
    "# targ_mono = nipus_mono\n",
    "targ_mono = {}\n",
    "\n",
    "for i, monos in targ_mono.items():\n",
    "    try:\n",
    "        mono1, mono2 = monos\n",
    "        display(Chem.MolFromSmiles(mono1))\n",
    "        \n",
    "        print('='*50)\n",
    "    except ValueError:\n",
    "        print(f'Row {i} failed')"
   ]
  },
  {
   "cell_type": "markdown",
   "metadata": {},
   "source": [
    "## Classify each monomer pair by respective reactive functional group"
   ]
  },
  {
   "cell_type": "code",
   "execution_count": 4,
   "metadata": {},
   "outputs": [],
   "source": [
    "with (RXN_FILES_PATH / 'fn_group_smarts.json').open('r') as fn_group_file:\n",
    "    fn_group_SMARTS = json.load(fn_group_file)\n",
    "    fn_groups = {\n",
    "        group_name : Chem.MolFromSmarts(SMARTS)\n",
    "            for group_name, SMARTS in fn_group_SMARTS.items()\n",
    "    }\n",
    "\n",
    "reaction_pairs = {\n",
    "    'NIPU' : ('cyclocarbonate', 'amine'),\n",
    "    'urethane' : ('isocyanate', 'hydroxyl')\n",
    "}\n",
    "\n",
    "all_results = []\n",
    "digroup_only_results = []\n",
    "for i, (chemistry, monomer_pair) in raw_table.iterrows():\n",
    "    monomer_entry = {\n",
    "        'Chemistry' : chemistry\n",
    "    }\n",
    "\n",
    "    too_many_sites = False\n",
    "    for SMILES in monomer_pair:\n",
    "        rdmol = Chem.MolFromSmiles(SMILES)\n",
    "        rdmol = Chem.AddHs(rdmol)\n",
    "        Chem.Kekulize(rdmol, clearAromaticFlags=True) # ensure aromatic rings are treated as simply single-double (simplifies structure matching)\n",
    "\n",
    "        for group_name, fn_group in fn_groups.items():\n",
    "            matches = rdmol.GetSubstructMatches(fn_group)\n",
    "            if matches and (group_name in reaction_pairs[chemistry]):\n",
    "                monomer_entry[group_name] = Chem.MolToSmarts(rdmol)\n",
    "            too_many_sites |= (len(matches) > 2) # OR with previous result; single true will make result true\n",
    "        \n",
    "    all_results.append(monomer_entry)\n",
    "    if not too_many_sites:        \n",
    "        digroup_only_results.append(monomer_entry)"
   ]
  },
  {
   "cell_type": "markdown",
   "metadata": {},
   "source": [
    "## Save to csv files for future reference"
   ]
  },
  {
   "cell_type": "code",
   "execution_count": 5,
   "metadata": {},
   "outputs": [],
   "source": [
    "all_table = pd.DataFrame.from_records(all_results)\n",
    "digroup_only_table = pd.DataFrame.from_records(digroup_only_results)\n",
    "\n",
    "all_table.to_csv(PROC_DATA_PATH / 'clean_smarts_all.csv')\n",
    "digroup_only_table.to_csv(PROC_DATA_PATH / 'clean_smarts_digroup.csv')"
   ]
  }
 ],
 "metadata": {
  "kernelspec": {
   "display_name": "openff-dev-updated",
   "language": "python",
   "name": "python3"
  },
  "language_info": {
   "codemirror_mode": {
    "name": "ipython",
    "version": 3
   },
   "file_extension": ".py",
   "mimetype": "text/x-python",
   "name": "python",
   "nbconvert_exporter": "python",
   "pygments_lexer": "ipython3",
   "version": "3.11.5"
  },
  "orig_nbformat": 4
 },
 "nbformat": 4,
 "nbformat_minor": 2
}
