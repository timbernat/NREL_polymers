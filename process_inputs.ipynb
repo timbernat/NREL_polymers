{
 "cells": [
  {
   "cell_type": "markdown",
   "metadata": {},
   "source": [
    "# Core Imports"
   ]
  },
  {
   "cell_type": "code",
   "execution_count": null,
   "metadata": {},
   "outputs": [],
   "source": [
    "# Generic Imports\n",
    "import re\n",
    "from functools import partial, cached_property\n",
    "from collections import defaultdict\n",
    "from itertools import combinations, chain\n",
    "from ast import literal_eval\n",
    "\n",
    "# Numeric imports\n",
    "import matplotlib.pyplot as plt\n",
    "import pandas as pd\n",
    "import numpy as np\n",
    "\n",
    "# File I/O\n",
    "from pathlib import Path\n",
    "import csv, json, openpyxl\n",
    "\n",
    "# Typing and Subclassing\n",
    "from typing import Any, Callable, ClassVar, Generator, Iterable, Optional, Union\n",
    "from dataclasses import dataclass, field\n",
    "from abc import ABC, abstractmethod, abstractproperty\n",
    "from openmm.unit import Unit, Quantity\n",
    "\n",
    "# Cheminformatics\n",
    "from rdkit import Chem\n",
    "from rdkit.Chem import rdChemReactions\n",
    "from rdkit.Chem.Draw import IPythonConsole\n",
    "\n",
    "import pubchempy as pcp\n",
    "\n",
    "DIM    = 300\n",
    "ASPECT = 3/2\n",
    "IPythonConsole.molSize = (int(ASPECT*DIM), DIM)   # Change image size\n",
    "\n",
    "# Static Paths\n",
    "RAW_DATA_PATH  = Path('raw_monomer_data')\n",
    "PROC_DATA_PATH = Path('processed_monomer_data')\n",
    "# RXN_FILES_PATH = Path('rxn_smarts')\n",
    "RXN_FILES_PATH = Path('poly_rxns')"
   ]
  },
  {
   "cell_type": "markdown",
   "metadata": {},
   "source": [
    "# Inspecting expanded dataset"
   ]
  },
  {
   "cell_type": "code",
   "execution_count": null,
   "metadata": {},
   "outputs": [],
   "source": [
    "data_path = RAW_DATA_PATH / '20231114_polyid_data_density_DP2-6 - 1,2 monomers.csv'\n",
    "df = pd.read_csv(data_path)\n",
    "df"
   ]
  },
  {
   "cell_type": "markdown",
   "metadata": {},
   "source": [
    "## Sorting by polymerization mechanism"
   ]
  },
  {
   "cell_type": "code",
   "execution_count": null,
   "metadata": {},
   "outputs": [],
   "source": [
    "key = 'mechanism'\n",
    "\n",
    "df_grouper = df.groupby(key)\n",
    "counts = df_grouper.size().to_dict()\n",
    "frames = {\n",
    "    mech : df_grouper.get_group(mech)\n",
    "        for mech in df_grouper.groups\n",
    "}"
   ]
  },
  {
   "cell_type": "code",
   "execution_count": null,
   "metadata": {},
   "outputs": [],
   "source": [
    "plt.bar(counts.keys(), counts.values())\n",
    "plt.title(f'Number of SMILES by {key} ({len(df)} total)')"
   ]
  },
  {
   "cell_type": "code",
   "execution_count": null,
   "metadata": {},
   "outputs": [],
   "source": [
    "for mech, frame in frames.items():\n",
    "    print(mech, frame['num_monomers'].unique())"
   ]
  },
  {
   "cell_type": "markdown",
   "metadata": {},
   "source": [
    "## Adding chemical database-queried IUPAC names (if possible)"
   ]
  },
  {
   "cell_type": "code",
   "execution_count": null,
   "metadata": {},
   "outputs": [],
   "source": [
    "from polymerist.chemdbqueries import cactus\n",
    "\n",
    "n = 2\n",
    "for chemistry, frame in frames.items():\n",
    "    print(chemistry.upper())\n",
    "    for idx, row in frame.head(n).iterrows():\n",
    "        monomer_smiles = row['smiles_monomer']\n",
    "        monomer = Chem.MolFromSmiles(monomer_smiles)\n",
    "        id_name = f'{row[\"mechanism\"]}-{idx}'\n",
    "        \n",
    "        print('\\t', id_name)\n",
    "        display(monomer)\n",
    "        print(monomer_smiles.split('.'))\n",
    "\n",
    "        iupac_names = []\n",
    "        for frag in Chem.GetMolFrags(monomer, asMols=True):\n",
    "            smiles = Chem.MolToSmiles(frag)\n",
    "\n",
    "            try: # \n",
    "                iupac_name = cactus.query_NIH_CACTUS(smiles, prop='iupac_name')\n",
    "            except cactus.NoCACTUSDataFound:\n",
    "                pcquery = pcp.get_compounds(smiles, namespace='smiles')\n",
    "                pccomp = pcquery.pop()\n",
    "                iupac_name = getattr(pccomp, 'iupac_name')\n",
    "            except:\n",
    "                iupac_name = None\n",
    "\n",
    "            iupac_names.append(iupac_name)\n",
    "            print(iupac_name, smiles, sep=' : ')\n",
    "        # frame.loc[\n",
    "        # print(iupac_names)\n",
    "    print('='*50)"
   ]
  },
  {
   "cell_type": "markdown",
   "metadata": {},
   "source": [
    "## Filtering by substructure query"
   ]
  },
  {
   "cell_type": "code",
   "execution_count": null,
   "metadata": {},
   "outputs": [],
   "source": [
    "with Path('poly_rxns/fn_group_smarts.json').open('r') as file:\n",
    "    fn_group_smarts = json.load(file)\n",
    "\n",
    "fn_groups = {\n",
    "    group_name : Chem.MolFromSmarts(smarts)\n",
    "        for group_name, smarts in fn_group_smarts.items()\n",
    "}"
   ]
  },
  {
   "cell_type": "code",
   "execution_count": 30,
   "metadata": {},
   "outputs": [],
   "source": [
    "from rdkit.Chem import rdqueries\n",
    "from polymerist.rdutils.smileslib import queries\n",
    "\n",
    "\n",
    "chemical_blacklist = {\n",
    "    'silicon' : Chem.MolFromSmarts('[Si]'),\n",
    "    'sulfur'  : Chem.MolFromSmarts('[S]'),\n",
    "    'metal'   : queries.SPECIAL_QUERY_MOLS['metal'],\n",
    "    # 'halogen' : queries.SPECIAL_QUERY_MOLS['halogen'],\n",
    "}"
   ]
  },
  {
   "cell_type": "code",
   "execution_count": 33,
   "metadata": {},
   "outputs": [],
   "source": [
    "from typing import Generator\n",
    "from polymerist.rdutils.rdtypes import RDMol\n",
    "from polymerist.monomers import specification\n",
    "\n",
    "\n",
    "def matches_substruct_dict(target_mol : RDMol, substruct_queries : dict[str, RDMol]) -> dict[str, bool]:\n",
    "    '''Takes an RDMol and a dict of labelled SMARTS substruct queries and returns a dict of bools with the same labels indicating whether each match is present'''\n",
    "    return {\n",
    "        matchmol_name : target_mol.HasSubstructMatch(matchmol)\n",
    "            for matchmol_name, matchmol in substruct_queries.items()\n",
    "    }\n",
    "\n",
    "def matching_substruct_labels(target_mol : RDMol, substruct_queries : dict[str, RDMol]) -> Generator[str, None, None]:\n",
    "    for matchmol_name, matchmol in substruct_queries.items():\n",
    "        if target_mol.HasSubstructMatch(matchmol):\n",
    "            yield matchmol_name"
   ]
  },
  {
   "cell_type": "code",
   "execution_count": 48,
   "metadata": {},
   "outputs": [],
   "source": [
    "to_exclude_by_chemistry = df.apply(lambda row : any(matching_substruct_labels(Chem.MolFromSmiles(row['smiles_monomer'], sanitize=False), chemical_blacklist)), axis=1).to_numpy()\n",
    "exclude_by_chemistry = df.loc[ to_exclude_by_chemistry, :]\n",
    "include_by_chemistry = df.loc[~to_exclude_by_chemistry, :]"
   ]
  },
  {
   "cell_type": "code",
   "execution_count": null,
   "metadata": {},
   "outputs": [],
   "source": [
    "all_elems = set()\n",
    "# target_query = \n",
    "target_query = \n",
    "# target_query = silicon_query\n",
    "\n",
    "for i, row in df.iterrows():\n",
    "    smiles = row['smiles_monomer']\n",
    "    mol = Chem.MolFromSmiles(smiles)\n",
    "    elems = set(\n",
    "        atom.GetSymbol()\n",
    "            for atom in mol.GetAtoms()\n",
    "    )\n",
    "\n",
    "    if mol.HasSubstructMatch(target_query):\n",
    "        print(row['mechanism'], i)\n",
    "        display(mol)\n",
    "\n",
    "    all_elems |= elems"
   ]
  },
  {
   "cell_type": "markdown",
   "metadata": {},
   "source": [
    "## Visually inspecting monomer and oligomer units"
   ]
  },
  {
   "cell_type": "code",
   "execution_count": null,
   "metadata": {},
   "outputs": [],
   "source": [
    "from polymerist.monomers import specification\n",
    "\n",
    "mech = 'ester'\n",
    "# mech = 'carbonate'\n",
    "# mech = 'urethane'\n",
    "# mech = 'vinyl'\n",
    "# mech = 'imide'\n",
    "\n",
    "# ids = (23, 223)\n",
    "ids = ()\n",
    "n = 10\n",
    "\n",
    "spacer = '=' * 25\n",
    "frame = frames[mech]\n",
    "\n",
    "test = defaultdict(list)\n",
    "smaller = set()\n",
    "for idx, row in frame.head(n).iterrows():\n",
    "    if (not ids) or (idx in ids):\n",
    "        # extract and visualize structures\n",
    "        print(f'\\n{spacer} {row[\"mechanism\"]}-{idx} {spacer}\\n')\n",
    "        monomer_smiles = row['smiles_monomer']\n",
    "        monomer_smiles = specification.expanded_SMILES(monomer_smiles, assign_map_nums=False)\n",
    "        monomer = Chem.MolFromSmiles(monomer_smiles, sanitize=False)\n",
    "        display(monomer)\n",
    "\n",
    "        # dimer_smiles  = row['smiles_polymer_DP2']\n",
    "        # dimer = Chem.MolFromSmiles(dimer_smiles)\n",
    "        # display(dimer)\n",
    "\n",
    "        # trimer_smiles = row['smiles_polymer_DP3']\n",
    "        # trimer = Chem.MolFromSmiles(trimer_smiles)\n",
    "        # display(trimer)\n",
    "\n",
    "        # other info\n",
    "\n",
    "        num_monos = row['num_monomers']\n",
    "        frags = Chem.GetMolFrags(monomer, asMols=True)\n",
    "        count_monos = len(frags)\n",
    "        assert(num_monos == count_monos) # sanity check\n",
    "\n",
    "        for frag in frags:\n",
    "            pcquery = pcp.get_compounds(Chem.MolToSmiles(frag), namespace='smiles')\n",
    "            pccomp = pcquery.pop()\n",
    "            print(pccomp.iupac_name)\n",
    "\n",
    "        test[count_monos].append(monomer)"
   ]
  },
  {
   "cell_type": "code",
   "execution_count": null,
   "metadata": {},
   "outputs": [],
   "source": [
    "monomer"
   ]
  },
  {
   "cell_type": "markdown",
   "metadata": {},
   "source": [
    "# Testing Reactions"
   ]
  },
  {
   "cell_type": "code",
   "execution_count": null,
   "metadata": {},
   "outputs": [],
   "source": [
    "rxn_lookup = { # map NREL dataset mechanism names to pre-made rxn template names\n",
    "    'amide'     : 'polyamide',\n",
    "    'carbonate' : 'polycarbonate_phosgene',\n",
    "    'ester'     : 'polyester',\n",
    "    'imide'     : 'polyimide',\n",
    "    'urethane'  : 'polyurethane_isocyanate',\n",
    "    'vinyl'     : 'polyvinyl_head_tail'\n",
    "}\n",
    "\n",
    "assert(set(rxn_lookup.keys()) == set(df_grouper.groups.keys())) # verify that we've mapped all reactions"
   ]
  },
  {
   "cell_type": "code",
   "execution_count": null,
   "metadata": {},
   "outputs": [],
   "source": [
    "for p in Path('poly_rxns').iterdir():\n",
    "    if p.suffix == '.rxn':\n",
    "        print(p.stem)"
   ]
  },
  {
   "cell_type": "code",
   "execution_count": null,
   "metadata": {},
   "outputs": [],
   "source": [
    "RXN_FILE_PATH"
   ]
  },
  {
   "cell_type": "code",
   "execution_count": null,
   "metadata": {},
   "outputs": [],
   "source": [
    "from polymerist.rdutils.reactions import reactions, reactors\n",
    "\n",
    "rxn_path = RX\n",
    "rxn = reactions.AnnotatedReaction.from_rxnfile(r)\n",
    "rxn"
   ]
  },
  {
   "cell_type": "code",
   "execution_count": null,
   "metadata": {},
   "outputs": [],
   "source": [
    "from polymerist.monomers import specification\n",
    "\n",
    "exp_smiles = specification.expanded_SMILES(monomer_smiles, assign_map_nums=False)\n",
    "reactant = Chem.MolFromSmiles(exp_smiles, sanitize=False)\n",
    "display(reactant)"
   ]
  },
  {
   "cell_type": "code",
   "execution_count": null,
   "metadata": {},
   "outputs": [],
   "source": [
    "reactor = reactors.PolymerizationReactor(rxn)\n",
    "for dimer, frags in reactor.propagate([reactant, reactant]):\n",
    "    display(dimer)\n",
    "    for frag in frags:\n",
    "        display(frag)"
   ]
  },
  {
   "cell_type": "markdown",
   "metadata": {},
   "source": [
    "# Preprocessing and cleaning up NREL Urethane data"
   ]
  },
  {
   "cell_type": "markdown",
   "metadata": {},
   "source": [
    "## Loading and inspecting raw data"
   ]
  },
  {
   "cell_type": "code",
   "execution_count": null,
   "metadata": {},
   "outputs": [],
   "source": [
    "p = RAW_DATA_PATH / 'nipu_urethanes.xlsx'\n",
    "raw_table = pd.read_excel(p) # load from .xlsx file\n",
    "raw_table['Monomers'] = raw_table['Monomers'].apply(literal_eval) # convert string of tuples into proper tuples\n",
    "\n",
    "nipus     = raw_table[raw_table['Chemistry'] == 'NIPU'    ]\n",
    "urethanes = raw_table[raw_table['Chemistry'] == 'urethane']\n",
    "\n",
    "nipus_mono     = nipus['Monomers'].reset_index(drop=True) # extract monomers and renumber subset in-order\n",
    "urethanes_mono = urethanes['Monomers'].reset_index(drop=True) # extract monomers and renumber subset in-order"
   ]
  },
  {
   "cell_type": "code",
   "execution_count": null,
   "metadata": {},
   "outputs": [],
   "source": [
    "raw_table"
   ]
  },
  {
   "cell_type": "code",
   "execution_count": null,
   "metadata": {},
   "outputs": [],
   "source": [
    "# targ_mono = nipus_mono\n",
    "targ_mono = {}\n",
    "\n",
    "for i, monos in targ_mono.items():\n",
    "    try:\n",
    "        mono1, mono2 = monos\n",
    "        display(Chem.MolFromSmiles(mono1))\n",
    "        \n",
    "        print('='*50)\n",
    "    except ValueError:\n",
    "        print(f'Row {i} failed')"
   ]
  },
  {
   "cell_type": "markdown",
   "metadata": {},
   "source": [
    "## Classify each monomer pair by respective reactive functional group"
   ]
  },
  {
   "cell_type": "code",
   "execution_count": null,
   "metadata": {},
   "outputs": [],
   "source": [
    "with (RXN_FILES_PATH / 'fn_group_smarts.json').open('r') as fn_group_file:\n",
    "    fn_group_SMARTS = json.load(fn_group_file)\n",
    "    fn_groups = {\n",
    "        group_name : Chem.MolFromSmarts(SMARTS)\n",
    "            for group_name, SMARTS in fn_group_SMARTS.items()\n",
    "    }\n",
    "\n",
    "reaction_pairs = {\n",
    "    'NIPU' : ('cyclocarbonate', 'amine'),\n",
    "    'urethane' : ('isocyanate', 'hydroxyl')\n",
    "}\n",
    "\n",
    "all_results = []\n",
    "digroup_only_results = []\n",
    "for i, (chemistry, monomer_pair) in raw_table.iterrows():\n",
    "    monomer_entry = {\n",
    "        'Chemistry' : chemistry\n",
    "    }\n",
    "\n",
    "    too_many_sites = False\n",
    "    for SMILES in monomer_pair:\n",
    "        rdmol = Chem.MolFromSmiles(SMILES)\n",
    "        rdmol = Chem.AddHs(rdmol)\n",
    "        Chem.Kekulize(rdmol, clearAromaticFlags=True) # ensure aromatic rings are treated as simply single-double (simplifies structure matching)\n",
    "\n",
    "        for group_name, fn_group in fn_groups.items():\n",
    "            matches = rdmol.GetSubstructMatches(fn_group)\n",
    "            if matches and (group_name in reaction_pairs[chemistry]):\n",
    "                monomer_entry[group_name] = Chem.MolToSmarts(rdmol)\n",
    "            too_many_sites |= (len(matches) > 2) # OR with previous result; single true will make result true\n",
    "        \n",
    "    all_results.append(monomer_entry)\n",
    "    if not too_many_sites:        \n",
    "        digroup_only_results.append(monomer_entry)"
   ]
  },
  {
   "cell_type": "markdown",
   "metadata": {},
   "source": [
    "## Save to csv files for future reference"
   ]
  },
  {
   "cell_type": "code",
   "execution_count": null,
   "metadata": {},
   "outputs": [],
   "source": [
    "all_table = pd.DataFrame.from_records(all_results)\n",
    "digroup_only_table = pd.DataFrame.from_records(digroup_only_results)\n",
    "\n",
    "all_table.to_csv(PROC_DATA_PATH / 'clean_smarts_all.csv')\n",
    "digroup_only_table.to_csv(PROC_DATA_PATH / 'clean_smarts_digroup.csv')"
   ]
  },
  {
   "cell_type": "code",
   "execution_count": null,
   "metadata": {},
   "outputs": [],
   "source": []
  }
 ],
 "metadata": {
  "kernelspec": {
   "display_name": "openff-dev-updated",
   "language": "python",
   "name": "python3"
  },
  "language_info": {
   "codemirror_mode": {
    "name": "ipython",
    "version": 3
   },
   "file_extension": ".py",
   "mimetype": "text/x-python",
   "name": "python",
   "nbconvert_exporter": "python",
   "pygments_lexer": "ipython3",
   "version": "3.11.5"
  },
  "orig_nbformat": 4
 },
 "nbformat": 4,
 "nbformat_minor": 2
}
