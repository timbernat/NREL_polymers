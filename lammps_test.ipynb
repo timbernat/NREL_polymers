{
 "cells": [
  {
   "cell_type": "code",
   "execution_count": null,
   "metadata": {},
   "outputs": [],
   "source": [
    "import lammps\n",
    "\n",
    "from pathlib import Path\n",
    "import pandas as pd"
   ]
  },
  {
   "cell_type": "markdown",
   "metadata": {},
   "source": [
    "## Defining constants"
   ]
  },
  {
   "cell_type": "code",
   "execution_count": null,
   "metadata": {},
   "outputs": [],
   "source": [
    "ENERGY_EVAL_INP = '''\n",
    "units real\n",
    "atom_style full\n",
    "\n",
    "dimension 3\n",
    "boundary p p p\n",
    "\n",
    "pair_style lj/cut/coul/cut 19.99999 19.99999\n",
    "pair_modify mix geometric\n",
    "\n",
    "bond_style hybrid harmonic\n",
    "angle_style hybrid harmonic\n",
    "dihedral_style hybrid fourier\n",
    "improper_style cvff\n",
    "special_bonds lj 0.0 0.0 0.5 coul 0.0 0.0 0.5\n",
    "\n",
    "read_data $INP_FILE\n",
    "thermo_style yaml ebond eangle edihed eimp epair evdwl ecoul elong etail pe ke etotal\n",
    "run 0\n",
    "'''\n",
    "\n",
    "E_ALL = {\n",
    "    'Bond'              : 'ebond',\n",
    "    'Angle'             : 'eangle',\n",
    "    'Dihedral'          : 'edihed',\n",
    "    'Impropers'         : 'eimp',\n",
    "    'vdW pairwise'      : 'evdwl',\n",
    "    'Pairwise'          : 'epair',\n",
    "    'Coulomb'           : 'ecoul',\n",
    "    'Ranged k-space'    : 'elong',\n",
    "    'vdW ranged (kcal)' : 'etail',\n",
    "    'Potential'         : 'pe',\n",
    "    'Kinetic'           : 'ke',\n",
    "    'Total'             : 'etotal'\n",
    "}\n",
    "\n",
    "E_TO_REPORT = {\n",
    "    'Nonbonded (kcal/mol)' : 'epair',\n",
    "    'Bond (kcal/mol)'      : 'ebond',\n",
    "    'Angle (kcal/mol)'     : 'eangle',\n",
    "    'Torsion (kcal/mol)'   : 'edihed',\n",
    "    'Impropers (kcal/mol)' : 'eimp',\n",
    "    'Potential (kcal/mol)' : 'pe',\n",
    "    'Kinetic (kcal/mol)'   : 'ke',\n",
    "    # 'Total (kcal/mol)'     : 'etotal'\n",
    "}"
   ]
  },
  {
   "cell_type": "code",
   "execution_count": null,
   "metadata": {},
   "outputs": [],
   "source": [
    "lammps_dir = Path('LAMMPS')\n",
    "\n",
    "records = {}\n",
    "for subdir in lammps_dir.iterdir():\n",
    "    if subdir.is_dir():\n",
    "        chemistry = subdir.name\n",
    "        for lammps_file in subdir.iterdir():\n",
    "            mol_name = lammps_file.stem\n",
    "            with lammps.lammps() as lmp: # need to create new lammps() object instance for each run\n",
    "                lmp.commands_string( ENERGY_EVAL_INP.replace('$INP_FILE', str(lammps_file)) )\n",
    "                rep_energies = {\n",
    "                    label : lmp.get_thermo(prop_tag)\n",
    "                        for label, prop_tag in E_TO_REPORT.items()\n",
    "                }\n",
    "\n",
    "            records[(chemistry, mol_name)] = rep_energies"
   ]
  },
  {
   "cell_type": "code",
   "execution_count": null,
   "metadata": {},
   "outputs": [],
   "source": [
    "df = pd.DataFrame.from_dict(records, 'index')\n",
    "df.index.names  = ['Chemistry', 'Molecule'] # ensure index labels are labelled consistently\n",
    "df.to_csv(lammps_dir/'LAMMPS_PEs.csv')"
   ]
  },
  {
   "cell_type": "code",
   "execution_count": null,
   "metadata": {},
   "outputs": [],
   "source": []
  }
 ],
 "metadata": {
  "kernelspec": {
   "display_name": "lammps_env",
   "language": "python",
   "name": "python3"
  },
  "language_info": {
   "codemirror_mode": {
    "name": "ipython",
    "version": 3
   },
   "file_extension": ".py",
   "mimetype": "text/x-python",
   "name": "python",
   "nbconvert_exporter": "python",
   "pygments_lexer": "ipython3",
   "version": "3.11.4"
  },
  "orig_nbformat": 4
 },
 "nbformat": 4,
 "nbformat_minor": 2
}
