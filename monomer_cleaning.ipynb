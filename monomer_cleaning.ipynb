{
 "cells": [
  {
   "cell_type": "markdown",
   "metadata": {},
   "source": [
    "# Core Imports"
   ]
  },
  {
   "cell_type": "code",
   "execution_count": 10,
   "metadata": {},
   "outputs": [],
   "source": [
    "# Custom Imports\n",
    "from polysaccharide import general\n",
    "from polysaccharide.general import optional_in_place\n",
    "from polysaccharide.extratypes import ResidueSmarts\n",
    "\n",
    "from polysaccharide.molutils import reactions\n",
    "from polysaccharide.molutils.rdmol.rdtypes import *\n",
    "from polysaccharide.molutils.rdmol import rdcompare, rdconvert, rdkdraw, rdcompare, rdprops, rdbond, rdlabels\n",
    "\n",
    "from polysaccharide.polymer import monomer\n",
    "from polysaccharide.polymer.monomer import MonomerInfo\n",
    "\n",
    "# Generic Imports\n",
    "import re\n",
    "from functools import partial, cached_property\n",
    "from collections import defaultdict\n",
    "from itertools import combinations, chain\n",
    "from ast import literal_eval\n",
    "\n",
    "# Numeric imports\n",
    "import pandas as pd\n",
    "import numpy as np\n",
    "\n",
    "# File I/O\n",
    "from pathlib import Path\n",
    "import csv, json, openpyxl\n",
    "\n",
    "# Typing and Subclassing\n",
    "from typing import Any, Callable, ClassVar, Generator, Iterable, Optional, Union\n",
    "from dataclasses import dataclass, field\n",
    "from abc import ABC, abstractmethod, abstractproperty\n",
    "from openmm.unit import Unit, Quantity\n",
    "\n",
    "# Cheminformatics\n",
    "from rdkit import Chem\n",
    "from rdkit.Chem import rdChemReactions\n",
    "\n",
    "# Static Paths\n",
    "RAW_DATA_PATH = Path('raw_monomer_data')\n",
    "PROC_DATA_PATH = Path('processed_monomer_data')\n",
    "RXN_FILES_PATH = Path('rxn_smarts')"
   ]
  },
  {
   "cell_type": "markdown",
   "metadata": {},
   "source": [
    "# Preprocessing and cleaning up NREL Urethane data"
   ]
  },
  {
   "cell_type": "markdown",
   "metadata": {},
   "source": [
    "## Loading and inspecting raw data"
   ]
  },
  {
   "cell_type": "code",
   "execution_count": 2,
   "metadata": {},
   "outputs": [],
   "source": [
    "p = RAW_DATA_PATH / 'nipu_urethanes.xlsx'\n",
    "raw_table = pd.read_excel(p) # load from .xlsx file\n",
    "raw_table['Monomers'] = raw_table['Monomers'].apply(literal_eval) # convert string of tuples into proper tuples\n",
    "\n",
    "nipus     = raw_table[raw_table['Chemistry'] == 'NIPU'    ]\n",
    "urethanes = raw_table[raw_table['Chemistry'] == 'urethane']\n",
    "\n",
    "nipus_mono     = nipus['Monomers'].reset_index(drop=True) # extract monomers and renumber subset in-order\n",
    "urethanes_mono = urethanes['Monomers'].reset_index(drop=True) # extract monomers and renumber subset in-order"
   ]
  },
  {
   "cell_type": "code",
   "execution_count": 3,
   "metadata": {},
   "outputs": [],
   "source": [
    "rdkdraw.set_rdkdraw_size(300, 3/2)\n",
    "# targ_mono = nipus_mono\n",
    "targ_mono = {}\n",
    "\n",
    "for i, monos in targ_mono.items():\n",
    "    try:\n",
    "        mono1, mono2 = monos\n",
    "        display(Chem.MolFromSmiles(mono1))\n",
    "        \n",
    "        print('='*50)\n",
    "    except ValueError:\n",
    "        print(f'Row {i} failed')"
   ]
  },
  {
   "cell_type": "markdown",
   "metadata": {},
   "source": [
    "## Classify each monomer pair by respective reactive functional group"
   ]
  },
  {
   "cell_type": "code",
   "execution_count": 11,
   "metadata": {},
   "outputs": [],
   "source": [
    "with (RXN_FILES_PATH / 'fn_group_smarts.json').open('r') as fn_group_file:\n",
    "    fn_group_SMARTS = json.load(fn_group_file)\n",
    "    fn_groups = {\n",
    "        group_name : Chem.MolFromSmarts(SMARTS)\n",
    "            for group_name, SMARTS in fn_group_SMARTS.items()\n",
    "    }\n",
    "\n",
    "reaction_pairs = {\n",
    "    'NIPU' : ('cyclocarbonate', 'amine'),\n",
    "    'urethane' : ('isocyanate', 'hydroxyl')\n",
    "}\n",
    "\n",
    "all_results = []\n",
    "digroup_only_results = []\n",
    "for i, (chemistry, monomer_pair) in raw_table.iterrows():\n",
    "    monomer_entry = {\n",
    "        'Chemistry' : chemistry\n",
    "    }\n",
    "\n",
    "    too_many_sites = False\n",
    "    for SMILES in monomer_pair:\n",
    "        rdmol = Chem.MolFromSmiles(SMILES)\n",
    "        rdmol = Chem.AddHs(rdmol)\n",
    "\n",
    "        for group_name, fn_group in fn_groups.items():\n",
    "            matches = rdmol.GetSubstructMatches(fn_group)\n",
    "            if matches and (group_name in reaction_pairs[chemistry]):\n",
    "                monomer_entry[group_name] = Chem.MolToSmarts(rdmol)\n",
    "            too_many_sites |= (len(matches) > 2) # OR with previous result; single true will make result true\n",
    "        \n",
    "    all_results.append(monomer_entry)\n",
    "    if not too_many_sites:        \n",
    "        digroup_only_results.append(monomer_entry)"
   ]
  },
  {
   "cell_type": "markdown",
   "metadata": {},
   "source": [
    "## Save to csv files for future reference"
   ]
  },
  {
   "cell_type": "code",
   "execution_count": null,
   "metadata": {},
   "outputs": [],
   "source": [
    "\n",
    "all_table = pd.DataFrame.from_records(all_results)\n",
    "digroup_only_table = pd.DataFrame.from_records(digroup_only_results)\n",
    "\n",
    "all_table.to_csv(PROC_DATA_PATH / 'clean_smarts_all.csv')\n",
    "digroup_only_table.to_csv(PROC_DATA_PATH / 'clean_smarts_digroup.csv')"
   ]
  },
  {
   "cell_type": "code",
   "execution_count": 14,
   "metadata": {},
   "outputs": [
    {
     "data": {
      "text/html": [
       "<div>\n",
       "<style scoped>\n",
       "    .dataframe tbody tr th:only-of-type {\n",
       "        vertical-align: middle;\n",
       "    }\n",
       "\n",
       "    .dataframe tbody tr th {\n",
       "        vertical-align: top;\n",
       "    }\n",
       "\n",
       "    .dataframe thead th {\n",
       "        text-align: right;\n",
       "    }\n",
       "</style>\n",
       "<table border=\"1\" class=\"dataframe\">\n",
       "  <thead>\n",
       "    <tr style=\"text-align: right;\">\n",
       "      <th></th>\n",
       "      <th>Chemistry</th>\n",
       "      <th>amine</th>\n",
       "      <th>cyclocarbonate</th>\n",
       "      <th>hydroxyl</th>\n",
       "      <th>isocyanate</th>\n",
       "    </tr>\n",
       "  </thead>\n",
       "  <tbody>\n",
       "    <tr>\n",
       "      <th>0</th>\n",
       "      <td>NIPU</td>\n",
       "      <td>[#7](-[#6](-[#6](-[#6](-[#6](-[#7](-[H])-[H])(...</td>\n",
       "      <td>[#6](-[#6](-[#6](-[#6](-[#6](-[#6](-[#6](-[#6]...</td>\n",
       "      <td>NaN</td>\n",
       "      <td>NaN</td>\n",
       "    </tr>\n",
       "    <tr>\n",
       "      <th>1</th>\n",
       "      <td>NIPU</td>\n",
       "      <td>[#7](-[#6](-[#6](-[#6](-[#7](-[#6](-[#6](-[#6]...</td>\n",
       "      <td>[#6](-[#6](-[#6](-[#6](-[#6](-[#6](-[#6](-[#6]...</td>\n",
       "      <td>NaN</td>\n",
       "      <td>NaN</td>\n",
       "    </tr>\n",
       "    <tr>\n",
       "      <th>2</th>\n",
       "      <td>NIPU</td>\n",
       "      <td>[#6](-[#6](-[#6](-[#6](-[#6](-[#6](-[#7](-[#6]...</td>\n",
       "      <td>[#8]=[#6]1-[#8]-[#6](-[#6](-[#6](-[#8]-[#6](-[...</td>\n",
       "      <td>NaN</td>\n",
       "      <td>NaN</td>\n",
       "    </tr>\n",
       "    <tr>\n",
       "      <th>3</th>\n",
       "      <td>NIPU</td>\n",
       "      <td>[#6](-[#6](-[#6](-[#6](-[#6](-[#6](-[#6](-[#6]...</td>\n",
       "      <td>[#8]=[#6]1-[#8]-[#6](-[#6](-[#6](-[#8]-[#6](-[...</td>\n",
       "      <td>NaN</td>\n",
       "      <td>NaN</td>\n",
       "    </tr>\n",
       "    <tr>\n",
       "      <th>4</th>\n",
       "      <td>NIPU</td>\n",
       "      <td>[#7](-[#6](-[#6](-[#8]-[#6](-[#6](-[#8]-[#6](-...</td>\n",
       "      <td>[#6](-[#6](-[#6](-[#6](-[#6](-[#6](-[#6](-[#6]...</td>\n",
       "      <td>NaN</td>\n",
       "      <td>NaN</td>\n",
       "    </tr>\n",
       "    <tr>\n",
       "      <th>...</th>\n",
       "      <td>...</td>\n",
       "      <td>...</td>\n",
       "      <td>...</td>\n",
       "      <td>...</td>\n",
       "      <td>...</td>\n",
       "    </tr>\n",
       "    <tr>\n",
       "      <th>71</th>\n",
       "      <td>urethane</td>\n",
       "      <td>NaN</td>\n",
       "      <td>NaN</td>\n",
       "      <td>[#8](-[#6](-[#6](-[#6](-[#6](-[#6](-[#6](-[#8]...</td>\n",
       "      <td>[#8]=[#6]=[#7]-[#6](-[#6](-[#6](-[#6](-[#6](-[...</td>\n",
       "    </tr>\n",
       "    <tr>\n",
       "      <th>72</th>\n",
       "      <td>urethane</td>\n",
       "      <td>NaN</td>\n",
       "      <td>NaN</td>\n",
       "      <td>[#8](-[#6](-[#6](-[#8]-[H])(-[H])-[H])(-[H])-[...</td>\n",
       "      <td>[#8]=[#6]=[#7]-[#6]1:[#6](:[#6](:[#6](-[#6](-[...</td>\n",
       "    </tr>\n",
       "    <tr>\n",
       "      <th>73</th>\n",
       "      <td>urethane</td>\n",
       "      <td>NaN</td>\n",
       "      <td>NaN</td>\n",
       "      <td>[#8](-[#6](-[#6](-[#6](-[#6](-[#8]-[H])(-[H])-...</td>\n",
       "      <td>[#8]=[#6]=[#7]-[#6](-[#6](-[#6](-[#6](-[#6](-[...</td>\n",
       "    </tr>\n",
       "    <tr>\n",
       "      <th>74</th>\n",
       "      <td>urethane</td>\n",
       "      <td>NaN</td>\n",
       "      <td>NaN</td>\n",
       "      <td>[#8](-[#6](-[#6](-[#8]-[H])(-[H])-[H])(-[H])-[...</td>\n",
       "      <td>[#8]=[#6]=[#7]-[#6](-[#6](-[#6](-[#6](-[#6](-[...</td>\n",
       "    </tr>\n",
       "    <tr>\n",
       "      <th>75</th>\n",
       "      <td>urethane</td>\n",
       "      <td>NaN</td>\n",
       "      <td>NaN</td>\n",
       "      <td>[#8](-[#6](-[#6]1(-[#6](-[#6](-[#6](-[#6](-[#8...</td>\n",
       "      <td>[#6](-[#6]1(-[#6](-[H])(-[H])-[H])-[#6](-[#6](...</td>\n",
       "    </tr>\n",
       "  </tbody>\n",
       "</table>\n",
       "<p>76 rows × 5 columns</p>\n",
       "</div>"
      ],
      "text/plain": [
       "   Chemistry                                              amine  \\\n",
       "0       NIPU  [#7](-[#6](-[#6](-[#6](-[#6](-[#7](-[H])-[H])(...   \n",
       "1       NIPU  [#7](-[#6](-[#6](-[#6](-[#7](-[#6](-[#6](-[#6]...   \n",
       "2       NIPU  [#6](-[#6](-[#6](-[#6](-[#6](-[#6](-[#7](-[#6]...   \n",
       "3       NIPU  [#6](-[#6](-[#6](-[#6](-[#6](-[#6](-[#6](-[#6]...   \n",
       "4       NIPU  [#7](-[#6](-[#6](-[#8]-[#6](-[#6](-[#8]-[#6](-...   \n",
       "..       ...                                                ...   \n",
       "71  urethane                                                NaN   \n",
       "72  urethane                                                NaN   \n",
       "73  urethane                                                NaN   \n",
       "74  urethane                                                NaN   \n",
       "75  urethane                                                NaN   \n",
       "\n",
       "                                       cyclocarbonate  \\\n",
       "0   [#6](-[#6](-[#6](-[#6](-[#6](-[#6](-[#6](-[#6]...   \n",
       "1   [#6](-[#6](-[#6](-[#6](-[#6](-[#6](-[#6](-[#6]...   \n",
       "2   [#8]=[#6]1-[#8]-[#6](-[#6](-[#6](-[#8]-[#6](-[...   \n",
       "3   [#8]=[#6]1-[#8]-[#6](-[#6](-[#6](-[#8]-[#6](-[...   \n",
       "4   [#6](-[#6](-[#6](-[#6](-[#6](-[#6](-[#6](-[#6]...   \n",
       "..                                                ...   \n",
       "71                                                NaN   \n",
       "72                                                NaN   \n",
       "73                                                NaN   \n",
       "74                                                NaN   \n",
       "75                                                NaN   \n",
       "\n",
       "                                             hydroxyl  \\\n",
       "0                                                 NaN   \n",
       "1                                                 NaN   \n",
       "2                                                 NaN   \n",
       "3                                                 NaN   \n",
       "4                                                 NaN   \n",
       "..                                                ...   \n",
       "71  [#8](-[#6](-[#6](-[#6](-[#6](-[#6](-[#6](-[#8]...   \n",
       "72  [#8](-[#6](-[#6](-[#8]-[H])(-[H])-[H])(-[H])-[...   \n",
       "73  [#8](-[#6](-[#6](-[#6](-[#6](-[#8]-[H])(-[H])-...   \n",
       "74  [#8](-[#6](-[#6](-[#8]-[H])(-[H])-[H])(-[H])-[...   \n",
       "75  [#8](-[#6](-[#6]1(-[#6](-[#6](-[#6](-[#6](-[#8...   \n",
       "\n",
       "                                           isocyanate  \n",
       "0                                                 NaN  \n",
       "1                                                 NaN  \n",
       "2                                                 NaN  \n",
       "3                                                 NaN  \n",
       "4                                                 NaN  \n",
       "..                                                ...  \n",
       "71  [#8]=[#6]=[#7]-[#6](-[#6](-[#6](-[#6](-[#6](-[...  \n",
       "72  [#8]=[#6]=[#7]-[#6]1:[#6](:[#6](:[#6](-[#6](-[...  \n",
       "73  [#8]=[#6]=[#7]-[#6](-[#6](-[#6](-[#6](-[#6](-[...  \n",
       "74  [#8]=[#6]=[#7]-[#6](-[#6](-[#6](-[#6](-[#6](-[...  \n",
       "75  [#6](-[#6]1(-[#6](-[H])(-[H])-[H])-[#6](-[#6](...  \n",
       "\n",
       "[76 rows x 5 columns]"
      ]
     },
     "execution_count": 14,
     "metadata": {},
     "output_type": "execute_result"
    }
   ],
   "source": [
    "pd.read_csv(PROC_DATA_PATH / 'clean_smarts_digroup.csv', index_col=[0])"
   ]
  },
  {
   "cell_type": "markdown",
   "metadata": {},
   "source": [
    "## Testing reaction replacement rules"
   ]
  },
  {
   "cell_type": "markdown",
   "metadata": {},
   "source": [
    "## Loading reaction mechanisms"
   ]
  },
  {
   "cell_type": "code",
   "execution_count": 5,
   "metadata": {},
   "outputs": [],
   "source": [
    "# from SMARTS\n",
    "with (RXN_FILES_PATH / 'rxn_smarts.json').open('r') as rxn_file:\n",
    "    rxn_smarts = json.load(rxn_file)\n",
    "    rxns = {\n",
    "        chemistry : reactions.AnnotatedReaction.from_smarts(rxn_SMARTS)\n",
    "            for chemistry, rxn_SMARTS in rxn_smarts.items()\n",
    "    }"
   ]
  },
  {
   "cell_type": "code",
   "execution_count": 8,
   "metadata": {},
   "outputs": [],
   "source": [
    "# from files\n",
    "rxns = {\n",
    "    chemistry : reactions.AnnotatedReaction.from_rxnfile(RXN_FILES_PATH / f'{chemistry}.rxn')\n",
    "        for chemistry in reaction_pairs.keys()\n",
    "}\n"
   ]
  },
  {
   "cell_type": "code",
   "execution_count": 9,
   "metadata": {},
   "outputs": [
    {
     "data": {
      "image/png": "[encoded data removed]",
      "text/plain": [
       "<rdkit.Chem.rdChemReactions.ChemicalReaction at 0x7f895d644820>"
      ]
     },
     "execution_count": 9,
     "metadata": {},
     "output_type": "execute_result"
    }
   ],
   "source": [
    "rxns['NIPU']"
   ]
  },
  {
   "cell_type": "markdown",
   "metadata": {},
   "source": [
    "## Polymerizing and generating fragments"
   ]
  },
  {
   "cell_type": "code",
   "execution_count": null,
   "metadata": {},
   "outputs": [],
   "source": [
    "# for j, sample in digroup_only_table.tail(2).iterrows():\n",
    "# for j, sample in digroup_only_table.head(5).iterrows():\n",
    "\n",
    "rdkdraw.set_rdkdraw_size(400, 3/2)\n",
    "for sample in (digroup_only_table.iloc[2], digroup_only_table.iloc[-2]):\n",
    "    # look up reactive groups and pathway by chemistry\n",
    "    chemistry = sample['Chemistry']\n",
    "    rxn_grp_names = reaction_pairs[chemistry]\n",
    "    rxn = rxns[chemistry]\n",
    "\n",
    "    # read reactant monomers from digroup_only_table\n",
    "    reactants = []\n",
    "    for i, group_name in enumerate(rxn_grp_names):\n",
    "        reactant = Chem.MolFromSmarts(sample[group_name])\n",
    "        for atom in reactant.GetAtoms():\n",
    "            atom.SetProp('reactant_group', group_name)\n",
    "        \n",
    "        reactants.append(reactant)\n",
    "    mono_info = MonomerInfo()\n",
    "\n",
    "    # first round of polymerization (initiation)\n",
    "    reactor_1 = reactions.PolymerizationReactor(rxn, reactants=reactants)\n",
    "    reactor_1.react()\n",
    "    display(reactor_1.polymerized_fragments(separate=False))\n",
    "\n",
    "    mono_info.monomers[f'{\"_\".join(rxn_grp_names)}_DIMER'] = Chem.MolToSmarts(rdlabels.clear_atom_map_nums(reactor_1.product, in_place=False))\n",
    "    for assoc_group_name, rdfragment in zip(rxn_grp_names, reactor_1.polymerized_fragments(separate=True)):\n",
    "        rdlabels.clear_atom_isotopes(rdfragment, in_place=True)\n",
    "        mono_info.monomers[f'{assoc_group_name}_TERM'] = Chem.MolToSmarts(rdfragment)\n",
    "\n",
    "    # second round of polymerization (propagation)\n",
    "    reactor_2 = reactions.PolymerizationReactor(rxn, reactor_1.polymerized_fragments(separate=True))\n",
    "    reactor_2.react()\n",
    "    display(reactor_2.polymerized_fragments(separate=False))\n",
    "\n",
    "    for assoc_group_name, rdfragment in zip(rxn_grp_names, reactor_2.polymerized_fragments(separate=True)):\n",
    "        rdlabels.clear_atom_isotopes(rdfragment, in_place=True)\n",
    "        mono_info.monomers[f'{assoc_group_name}_MID'] = Chem.MolToSmarts(rdfragment)\n",
    "\n",
    "    # add serial map numbers to monomer fragment SMARTS\n",
    "    for monomer_tag, smarts in mono_info.monomers.items():\n",
    "        monomer = Chem.MolFromSmarts(smarts)\n",
    "        rdlabels.assign_ordered_atom_map_nums(monomer, in_place=True)\n",
    "        mono_info.monomers[monomer_tag] = Chem.MolToSmarts(monomer)\n",
    "\n",
    "mono_info"
   ]
  },
  {
   "cell_type": "code",
   "execution_count": null,
   "metadata": {},
   "outputs": [],
   "source": []
  }
 ],
 "metadata": {
  "kernelspec": {
   "display_name": "openff-dev-updated",
   "language": "python",
   "name": "python3"
  },
  "language_info": {
   "codemirror_mode": {
    "name": "ipython",
    "version": 3
   },
   "file_extension": ".py",
   "mimetype": "text/x-python",
   "name": "python",
   "nbconvert_exporter": "python",
   "pygments_lexer": "ipython3",
   "version": "3.10.9"
  },
  "orig_nbformat": 4
 },
 "nbformat": 4,
 "nbformat_minor": 2
}
