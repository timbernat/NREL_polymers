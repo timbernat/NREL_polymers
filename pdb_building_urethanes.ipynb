{
 "cells": [
  {
   "cell_type": "markdown",
   "metadata": {},
   "source": [
    "# Core Imports"
   ]
  },
  {
   "cell_type": "code",
   "execution_count": null,
   "metadata": {},
   "outputs": [],
   "source": [
    "# Custom Imports\n",
    "...\n",
    "\n",
    "# File I/O\n",
    "from pathlib import Path\n",
    "\n",
    "# Cheminformatics\n",
    "from rdkit import Chem"
   ]
  },
  {
   "cell_type": "code",
   "execution_count": null,
   "metadata": {},
   "outputs": [],
   "source": [
    "# Static Paths\n",
    "RAW_DATA_PATH  = Path('raw_monomer_data')\n",
    "PROC_DATA_PATH = Path('processed_monomer_data')\n",
    "RXN_FILES_PATH = Path('rxn_smarts')\n",
    "MONO_INFO_DIR  = Path('monomer_files')"
   ]
  },
  {
   "cell_type": "markdown",
   "metadata": {},
   "source": [
    "# File and chemistry type definitions"
   ]
  },
  {
   "cell_type": "code",
   "execution_count": null,
   "metadata": {},
   "outputs": [],
   "source": [
    "# defining reacting functional groups\n",
    "reaction_pairs = {\n",
    "    'NIPU' : ('cyclocarbonate', 'amine'),\n",
    "    'urethane' : ('isocyanate', 'hydroxyl')\n",
    "}\n",
    "# chemistries = ('urethane', 'NIPU')\n",
    "chemistries = [i for i in reaction_pairs.keys()]"
   ]
  },
  {
   "cell_type": "markdown",
   "metadata": {},
   "source": [
    "# Building PDB files from monomer fragments"
   ]
  },
  {
   "cell_type": "code",
   "execution_count": null,
   "metadata": {},
   "outputs": [],
   "source": [
    "from polymerist.genutils.containers import RecursiveDict\n",
    "from polymerist.genutils.fileutils.pathutils import asstrpath\n",
    "\n",
    "from polymerist.monomers import MonomerGroup\n",
    "from polymerist.polymers import building\n",
    "\n",
    "\n",
    "pdb_dir = Path('pdb_files')\n",
    "pdb_dir.mkdir(exist_ok=True)\n",
    "\n",
    "DOP = 10\n",
    "\n",
    "failed = RecursiveDict()\n",
    "for chemistry in chemistries:\n",
    "    mono_src_dir = MONO_INFO_DIR / chemistry\n",
    "    chem_dir = pdb_dir / chemistry\n",
    "    chem_dir.mkdir(exist_ok=True)\n",
    "\n",
    "    for mono_path in mono_src_dir.iterdir():\n",
    "        monogrp = MonomerGroup.from_file(mono_path)\n",
    "        try:\n",
    "            polymer = building.build_linear_polymer(monomers=monogrp, DOP=DOP, sequence='AB')  \n",
    "            savepath = chem_dir / f'{mono_path.stem}.pdb'\n",
    "            building.mbmol_to_openmm_pdb(savepath, polymer)\n",
    "            \n",
    "            # polymer.save(asstrpath(savepath))\n",
    "        except Exception as e:\n",
    "            failed[chemistry][e.__class__.__name__][mono_path.stem] = monogrp"
   ]
  },
  {
   "cell_type": "markdown",
   "metadata": {},
   "source": [
    "## Testing sanitization of monomers prior to mbuild conversion"
   ]
  },
  {
   "cell_type": "code",
   "execution_count": null,
   "metadata": {},
   "outputs": [],
   "source": [
    "from polymerist.rdutils import rdkdraw\n",
    "from polymerist.rdutils.amalgamation.bonding import hydrogenate_rdmol_ports\n",
    "from polymerist.rdutils.labeling import molwise\n",
    "\n",
    "from polymerist.monomers import specification\n",
    "rdkdraw.set_rdkdraw_size(300, 3/2)\n",
    "\n",
    "\n",
    "chemistry = 'urethane'\n",
    "idx = 20\n",
    "\n",
    "monogrp = MonomerGroup.from_file(MONO_INFO_DIR / chemistry / f'{chemistry}_{idx}.json')\n",
    "\n",
    "mbmols = {}\n",
    "def show(monogrp : MonomerGroup) -> None:\n",
    "    for resname, mol in monogrp.iter_rdmols():\n",
    "        # mol = molwise.clear_atom_map_nums(mol, in_place=False)\n",
    "        # Chem.SanitizeMol(mol, sanitizeOps=specification.SANITIZE_AS_KEKULE)\n",
    "        print(resname)\n",
    "        display(mol)\n",
    "\n",
    "        mbmol, linker_ids = building.mbmol_from_mono_rdmol(mol)\n",
    "        mbmols[resname] = mbmol\n",
    "        # mbmol, ports = building.mbmol_from_mono_smarts(new_smarts)\n",
    "        # prot_mol = hydrogenate_rdmol_ports(mol, in_place=False)\n",
    "\n",
    "show(monogrp)"
   ]
  },
  {
   "cell_type": "code",
   "execution_count": null,
   "metadata": {},
   "outputs": [],
   "source": [
    "for resname, mol in monogrp.iter_rdmols():\n",
    "    print(resname)\n",
    "    display(mol)"
   ]
  },
  {
   "cell_type": "code",
   "execution_count": null,
   "metadata": {},
   "outputs": [],
   "source": []
  }
 ],
 "metadata": {
  "kernelspec": {
   "display_name": "openff-dev-updated",
   "language": "python",
   "name": "python3"
  },
  "language_info": {
   "codemirror_mode": {
    "name": "ipython",
    "version": 3
   },
   "file_extension": ".py",
   "mimetype": "text/x-python",
   "name": "python",
   "nbconvert_exporter": "python",
   "pygments_lexer": "ipython3",
   "version": "3.11.5"
  },
  "orig_nbformat": 4
 },
 "nbformat": 4,
 "nbformat_minor": 2
}
