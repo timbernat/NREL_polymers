{
 "cells": [
  {
   "cell_type": "markdown",
   "metadata": {},
   "source": [
    "# Imports"
   ]
  },
  {
   "cell_type": "code",
   "execution_count": null,
   "metadata": {},
   "outputs": [],
   "source": [
    "## Logging and Shell\n",
    "import logging\n",
    "logging.basicConfig(\n",
    "    level=logging.ERROR,\n",
    "    force=True\n",
    ")\n",
    "\n",
    "## Generic imports\n",
    "from collections import defaultdict\n",
    "import pandas as pd\n",
    "\n",
    "## File I/O\n",
    "from pathlib import Path\n",
    "import json\n",
    "\n",
    "# Cheminformatics\n",
    "from rdkit import Chem\n",
    "from rdkit.Chem.Draw import IPythonConsole\n",
    "\n",
    "from openff.toolkit import Topology\n",
    "from openff.toolkit.utils.exceptions import IncorrectNumConformersWarning\n",
    "\n",
    "# Custom Imports\n",
    "from polymerist.maths.greek import GREEK_PREFIXES\n",
    "from polymerist.genutils.containers import RecursiveDict\n",
    "\n",
    "from polymerist.rdutils.reactions import reactions, reactors\n",
    "from polymerist.rdutils import rdkdraw\n",
    "\n",
    "DIM    = 300\n",
    "ASPECT = 3/2\n",
    "rdkdraw.set_rdkdraw_size(DIM, ASPECT)\n",
    "\n",
    "from polymerist.monomers import specification, MonomerGroup\n",
    "from polymerist.residues.partition import partition\n",
    "from polymerist.polymers import building\n",
    "\n",
    "from polymerist.openfftools import topology\n",
    "from polymerist.openfftools.pcharge import MolCharger\n",
    "\n",
    "# catch annoying warnings\n",
    "import warnings \n",
    "warnings.catch_warnings(record=True)\n",
    "warnings.filterwarnings('ignore', category=IncorrectNumConformersWarning)"
   ]
  },
  {
   "cell_type": "code",
   "execution_count": null,
   "metadata": {},
   "outputs": [],
   "source": [
    "# Static Paths\n",
    "RAW_DATA_DIR  = Path('monomer_data_raw')\n",
    "FMT_DATA_DIR  = Path('monomer_data_formatted')\n",
    "PROC_DATA_DIR = Path('monomer_data_processed')\n",
    "RXN_FILES_DIR = Path('poly_rxns')\n",
    "\n",
    "PDB_OUT_DIR   = Path('pdb_files')\n",
    "MONO_OUT_DIR  = Path('monomer_fragments')\n",
    "TOPO_OUT_DIR  = Path('Topologies')"
   ]
  },
  {
   "cell_type": "markdown",
   "metadata": {},
   "source": [
    "# Load monomer and rxn data "
   ]
  },
  {
   "cell_type": "code",
   "execution_count": null,
   "metadata": {},
   "outputs": [],
   "source": [
    "# input_data_path = PROC_DATA_DIR / '20231114_polyid_data_density_DP2-6 - 1,2 monomers_FILTERED.csv'\n",
    "# input_data_path = PROC_DATA_DIR / 'nipu_urethanes_FILTERED.csv'\n",
    "input_data_path = PROC_DATA_DIR / 'monomer_data_MASTER.csv'\n",
    "df = pd.read_csv(input_data_path, index_col=0)"
   ]
  },
  {
   "cell_type": "markdown",
   "metadata": {},
   "source": [
    "## Load pre-defined reactions with functional group and name backmap"
   ]
  },
  {
   "cell_type": "code",
   "execution_count": null,
   "metadata": {},
   "outputs": [],
   "source": [
    "keys = ['rxn_name']\n",
    "\n",
    "blacklisted_rxns = ['imide']#, 'vinyl']\n",
    "df = df[df.mechanism.map(lambda s : s not in blacklisted_rxns)]\n",
    "\n",
    "df_grouper = df.groupby(keys)\n",
    "frames = {\n",
    "    mech : df_grouper.get_group(mech)\n",
    "        for mech in df_grouper.groups\n",
    "}"
   ]
  },
  {
   "cell_type": "code",
   "execution_count": null,
   "metadata": {},
   "outputs": [],
   "source": [
    "with (RXN_FILES_DIR / 'rxn_groups.json').open('r') as file: # load table of functional group for each reaction\n",
    "    rxn_groups = json.load(file)\n",
    "\n",
    "rxns = {\n",
    "    rxnname : reactions.AnnotatedReaction.from_rxnfile(RXN_FILES_DIR / f'{rxnname}.rxn')\n",
    "        for rxnname in rxn_groups.keys()\n",
    "}"
   ]
  },
  {
   "cell_type": "markdown",
   "metadata": {},
   "source": [
    "# Auto-generating monomer fragments and Topologies"
   ]
  },
  {
   "cell_type": "markdown",
   "metadata": {},
   "source": [
    "## Set up and format progress bars to track build status"
   ]
  },
  {
   "cell_type": "code",
   "execution_count": null,
   "metadata": {},
   "outputs": [],
   "source": [
    "from time import sleep\n",
    "from rich.progress import Progress\n",
    "from rich.progress import (\n",
    "    BarColumn,\n",
    "    Progress,\n",
    "    SpinnerColumn,\n",
    "    TaskProgressColumn,\n",
    "    TextColumn,\n",
    "    TimeElapsedColumn,\n",
    "    TimeRemainingColumn,\n",
    ")\n",
    "from rich.console import Group\n",
    "from rich.live import Live\n",
    "\n",
    "# status of individual task\n",
    "status_readout = Progress(\n",
    "    'STATUS:',\n",
    "    TextColumn(\n",
    "        '[purple]{task.fields[action]}'\n",
    "    ),\n",
    "    '...'\n",
    ")\n",
    "status_id = status_readout.add_task('[green]Current compound:', action='')\n",
    "\n",
    "# textual display of the name of the curent polymer\n",
    "compound_readout = Progress(\n",
    "    TextColumn(\n",
    "        'Current compound ({task.completed} / {task.total}):'\n",
    "    ),\n",
    "    TextColumn(\n",
    "        '[blue]{task.fields[polymer_name]}',\n",
    "        justify='right'\n",
    "    )\n",
    ")\n",
    "curr_compound_id  = compound_readout.add_task('[green]Current compound:', polymer_name='')\n",
    "\n",
    "# progress over distinct classes of mechanism\n",
    "overall_progress = Progress(\n",
    "    SpinnerColumn(),\n",
    "    \"[progress.description]{task.description}\",\n",
    "    BarColumn(\n",
    "        \n",
    "    ),\n",
    "    TaskProgressColumn(),\n",
    "    TextColumn(\n",
    "        '({task.completed} / {task.total})'\n",
    "    ),\n",
    "    'At:',\n",
    "    TimeElapsedColumn(),\n",
    ")\n",
    "curr_mechanism_id = overall_progress.add_task('[blue]Reaction mechanism(s)', start=True, total=len(frames))\n",
    "\n",
    "# individual progress bars within each mechanism\n",
    "mechanism_progress = Progress(\n",
    "    \"[progress.description]{task.description}\",\n",
    "    BarColumn(),\n",
    "    TaskProgressColumn(),\n",
    "    TextColumn(\n",
    "        '({task.completed} / {task.total})'\n",
    "    ),\n",
    "    'At:',\n",
    "    TimeElapsedColumn(),\n",
    ")\n",
    "total_compounds = 0\n",
    "mech_task_ids = {} # preprocess dataframes by mechanism to determine progress bar layout and task lengths\n",
    "for rxn_name, rxn_df in frames.items():\n",
    "    num_compounds = len(rxn_df)\n",
    "    mech_task_ids[rxn_name] = mechanism_progress.add_task(f'[cyan]{rxn_name}', start=True, total=len(rxn_df))\n",
    "    total_compounds += num_compounds\n",
    "compound_readout.update(curr_compound_id, total=total_compounds)\n",
    "\n",
    "# combine progess readouts into unified live console\n",
    "group = Group(\n",
    "    status_readout,\n",
    "    compound_readout,\n",
    "    overall_progress,\n",
    "    mechanism_progress,\n",
    ")"
   ]
  },
  {
   "cell_type": "markdown",
   "metadata": {},
   "source": [
    "## Polymerize all SMILES into fragments, generate PDB topologies, then parameterize chemical and nonbonded info "
   ]
  },
  {
   "cell_type": "code",
   "execution_count": 11,
   "metadata": {},
   "outputs": [
    {
     "data": {
      "application/vnd.jupyter.widget-view+json": {
       "model_id": "416cb9ff6e13488b8e389274a8741e89",
       "version_major": 2,
       "version_minor": 0
      },
      "text/plain": [
       "Output()"
      ]
     },
     "metadata": {},
     "output_type": "display_data"
    },
    {
     "data": {
      "text/html": [
       "<pre style=\"white-space:pre;overflow-x:auto;line-height:normal;font-family:Menlo,'DejaVu Sans Mono',consolas,'Courier New',monospace\">/home/timber/miniconda3/envs/polymerist-env/lib/python3.11/site-packages/dgl/heterograph.py:92: DGLWarning: \n",
       "Recommend creating graphs by `dgl.graph(data)` instead of `dgl.DGLGraph(data)`.\n",
       "  dgl_warning(\n",
       "</pre>\n"
      ],
      "text/plain": [
       "/home/timber/miniconda3/envs/polymerist-env/lib/python3.11/site-packages/dgl/heterograph.py:92: DGLWarning: \n",
       "Recommend creating graphs by `dgl.graph(data)` instead of `dgl.DGLGraph(data)`.\n",
       "  dgl_warning(\n"
      ]
     },
     "metadata": {},
     "output_type": "display_data"
    },
    {
     "name": "stderr",
     "output_type": "stream",
     "text": [
      "Warning: Truncating title to 80 characters for poly(4-[4-[4-[1-[4-[4-(4-aminophenyl)-2-(trifluoromethyl)phenoxy]phenyl]cyclohexyl]phenoxy]-3-(trifluoromethyl)phenyl]aniline-co-Benzene-1,3-dicarboxylic acid)\n"
     ]
    },
    {
     "name": "stderr",
     "output_type": "stream",
     "text": [
      "Warning: Truncating title to 80 characters for poly(4-[4-[6'-[4-(4-aminophenyl)-2-(trifluoromethyl)phenoxy]spiro[fluorene-9,9'-xanthene]-3'-yl]oxy-3-(trifluoromethyl)phenyl]aniline-co-4-[2-(4-carboxyphenyl)-1,1,1,3,3,3-hexafluoropropan-2-yl]benzoic acid)\n"
     ]
    },
    {
     "name": "stderr",
     "output_type": "stream",
     "text": [
      "Warning: Truncating title to 80 characters for poly(4-[4-[4-[2-[4-[4-(4-aminophenyl)-2-(trifluoromethyl)phenoxy]phenyl]-1,1,1,3,3,3-hexafluoropropan-2-yl]phenoxy]-3-(trifluoromethyl)phenyl]aniline-co-Benzene-1,3-dicarboxylic acid)\n"
     ]
    },
    {
     "name": "stderr",
     "output_type": "stream",
     "text": [
      "Warning: Truncating title to 80 characters for poly(4-[2-(4-aminophenyl)-1,1,1,3,3,3-hexafluoropropan-2-yl]aniline-co-1-(4-carboxyphenyl)-1,3,3-trimethyl-2H-indene-5-carboxylic acid)\n"
     ]
    },
    {
     "name": "stderr",
     "output_type": "stream",
     "text": [
      "Warning: Truncating title to 80 characters for poly(benzene-1,4-diamine-co-1-(4-carboxyphenyl)-1,3,3-trimethyl-2H-indene-5-carboxylic acid)\n"
     ]
    },
    {
     "name": "stderr",
     "output_type": "stream",
     "text": [
      "Warning: Truncating title to 80 characters for poly(benzene-1,3-diamine-co-1-(4-carboxyphenyl)-1,3,3-trimethyl-2H-indene-5-carboxylic acid)\n"
     ]
    },
    {
     "name": "stderr",
     "output_type": "stream",
     "text": [
      "Warning: Truncating title to 80 characters for poly(4-(4-amino-2-methylphenyl)-3-methylaniline-co-5-(3-carboxy-4-methoxycarbonylbenzoyl)-2-methoxycarbonylbenzoic acid)\n"
     ]
    },
    {
     "name": "stderr",
     "output_type": "stream",
     "text": [
      "Warning: Truncating title to 80 characters for poly(4-[4-[4-[9-[4-[4-(4-aminophenyl)-2-(trifluoromethyl)phenoxy]phenyl]fluoren-9-yl]phenoxy]-3-(trifluoromethyl)phenyl]aniline-co-Benzene-1,3-dicarboxylic acid)\n"
     ]
    },
    {
     "name": "stderr",
     "output_type": "stream",
     "text": [
      "Warning: Truncating title to 80 characters for poly(naphthalene-1,5-diamine-co-1-(4-carboxyphenyl)-1,3,3-trimethyl-2H-indene-5-carboxylic acid)\n"
     ]
    },
    {
     "name": "stderr",
     "output_type": "stream",
     "text": [
      "Warning: Truncating title to 80 characters for poly(4-(4-aminophenoxy)aniline-co-1-(4-carboxyphenyl)-1,3,3-trimethyl-2H-indene-5-carboxylic acid)\n"
     ]
    },
    {
     "name": "stderr",
     "output_type": "stream",
     "text": [
      "Warning: Truncating title to 80 characters for poly(4-[4-[4-[1-[4-[4-(4-aminophenyl)-2-(trifluoromethyl)phenoxy]phenyl]cyclohexyl]phenoxy]-3-(trifluoromethyl)phenyl]aniline-co-4-[2-(4-carboxyphenyl)-1,1,1,3,3,3-hexafluoropropan-2-yl]benzoic acid)\n"
     ]
    },
    {
     "name": "stderr",
     "output_type": "stream",
     "text": [
      "Warning: Truncating title to 80 characters for poly(4-[4-[4-[2-[4-[4-(4-aminophenyl)-2-(trifluoromethyl)phenoxy]phenyl]propan-2-yl]phenoxy]-3-(trifluoromethyl)phenyl]aniline-co-Benzene-1,3-dicarboxylic acid)\n"
     ]
    },
    {
     "name": "stderr",
     "output_type": "stream",
     "text": [
      "Warning: Truncating title to 80 characters for poly(4-[4-[6'-[4-(4-aminophenyl)-2-(trifluoromethyl)phenoxy]spiro[fluorene-9,9'-xanthene]-3'-yl]oxy-3-(trifluoromethyl)phenyl]aniline-co-Terephthalic acid)\n"
     ]
    },
    {
     "name": "stderr",
     "output_type": "stream",
     "text": [
      "Warning: Truncating title to 80 characters for poly(4-[4-[6'-[4-(4-aminophenyl)-2-(trifluoromethyl)phenoxy]spiro[fluorene-9,9'-xanthene]-3'-yl]oxy-3-(trifluoromethyl)phenyl]aniline-co-Benzene-1,3-dicarboxylic acid)\n"
     ]
    },
    {
     "name": "stderr",
     "output_type": "stream",
     "text": [
      "Warning: Truncating title to 80 characters for poly(4-[4-[4-[1-[4-[4-(4-aminophenyl)-2-(trifluoromethyl)phenoxy]phenyl]cyclohexyl]phenoxy]-3-(trifluoromethyl)phenyl]aniline-co-5-tert-butylbenzene-1,3-dicarboxylic acid)\n"
     ]
    },
    {
     "name": "stderr",
     "output_type": "stream",
     "text": [
      "Warning: Truncating title to 80 characters for poly(4-[4-[4-[1-[4-[4-(4-aminophenyl)-2-(trifluoromethyl)phenoxy]phenyl]cyclohexyl]phenoxy]-3-(trifluoromethyl)phenyl]aniline-co-Terephthalic acid)\n"
     ]
    },
    {
     "name": "stderr",
     "output_type": "stream",
     "text": [
      "Warning: Truncating title to 80 characters for poly(4-[1,1,1,3,3,3-hexafluoro-2-(4-hydroxyphenyl)propan-2-yl]phenol-co-Carbonyl dichloride)\n"
     ]
    },
    {
     "name": "stderr",
     "output_type": "stream",
     "text": [
      "Warning: Truncating title to 80 characters for poly(2,6-dibromo-4-[2-(3,5-dibromo-4-hydroxyphenyl)propan-2-yl]phenol-co-Carbonyl dichloride)\n"
     ]
    },
    {
     "name": "stderr",
     "output_type": "stream",
     "text": [
      "Warning: Truncating title to 80 characters for poly(2,6-dibromo-4-[2-(3,5-dibromo-4-hydroxyphenyl)-1,1,1,3,3,3-hexafluoropropan-2-yl]phenol-co-Carbonyl dichloride)\n"
     ]
    },
    {
     "name": "stderr",
     "output_type": "stream",
     "text": [
      "Warning: Truncating title to 80 characters for poly(4-[1,1,1,3,3,3-hexafluoro-2-(4-hydroxy-3,5-dimethylphenyl)propan-2-yl]-2,6-dimethylphenol-co-Carbonyl dichloride)\n"
     ]
    },
    {
     "name": "stderr",
     "output_type": "stream",
     "text": [
      "Warning: Truncating title to 80 characters for poly(4-[6-(4-hydroxyphenyl)-6-bicyclo[2.2.1]heptanyl]phenol-co-Carbonyl dichloride)\n"
     ]
    },
    {
     "name": "stderr",
     "output_type": "stream",
     "text": [
      "Warning: Truncating title to 80 characters for poly(4-[2-(4-hydroxy-3-propan-2-ylphenyl)propan-2-yl]-2-propan-2-ylphenol-co-Carbonyl dichloride)\n"
     ]
    },
    {
     "name": "stderr",
     "output_type": "stream",
     "text": [
      "Warning: Truncating title to 80 characters for poly(3,3,3',3'-tetramethyl-1,1'-spirobi[2H-indene]-5,5'-diol-co-Carbonyl dichloride)\n"
     ]
    },
    {
     "name": "stderr",
     "output_type": "stream",
     "text": [
      "Warning: Truncating title to 80 characters for poly(1,1,1',1'-tetramethyl-3,3'-spirobi[2H-indene]-5,5'-diol-co-Carbonyl dichloride)\n"
     ]
    },
    {
     "name": "stderr",
     "output_type": "stream",
     "text": [
      "Warning: Truncating title to 80 characters for poly(4-[2-(4-hydroxy-3-methylphenyl)propan-2-yl]-2-methylphenol-co-Carbonyl dichloride)\n"
     ]
    },
    {
     "name": "stderr",
     "output_type": "stream",
     "text": [
      "Warning: Truncating title to 80 characters for poly(4-[4-(4-hydroxy-3-methylphenyl)heptan-4-yl]-2-methylphenol-co-Carbonyl dichloride)\n"
     ]
    },
    {
     "name": "stderr",
     "output_type": "stream",
     "text": [
      "Warning: Truncating title to 80 characters for poly(2-ethyl-4-[2-(3-ethyl-4-hydroxyphenyl)propan-2-yl]phenol-co-Carbonyl dichloride)\n"
     ]
    },
    {
     "name": "stderr",
     "output_type": "stream",
     "text": [
      "Warning: Truncating title to 80 characters for poly(2,6-dichloro-4-[2-(3,5-dichloro-4-hydroxyphenyl)propan-2-yl]phenol-co-Carbonyl dichloride)\n"
     ]
    },
    {
     "name": "stderr",
     "output_type": "stream",
     "text": [
      "Warning: Truncating title to 80 characters for poly(1,6-Diisocyanatohexane-co-[8-(hydroxymethyl)-4-tricyclo[5.2.1.02,6]decanyl]methanol)\n"
     ]
    },
    {
     "name": "stderr",
     "output_type": "stream",
     "text": [
      "Warning: Truncating title to 80 characters for poly(5-Isocyanato-1-(isocyanatomethyl)-1,3,3-trimethylcyclohexane-co-4-[[4-[(4-hydroxyphenyl)iminomethyl]phenyl]methylideneamino]phenol)\n"
     ]
    },
    {
     "name": "stderr",
     "output_type": "stream",
     "text": [
      "Warning: Truncating title to 80 characters for poly(1-isocyanato-4-[(4-isocyanatophenyl)methyl]benzene-co-2-(2-hydroxyethyl-phenylamino)ethanol)\n"
     ]
    },
    {
     "name": "stderr",
     "output_type": "stream",
     "text": [
      "Warning: Truncating title to 80 characters for poly(1,3-Bis(isocyanatomethyl)cyclohexane-co-[4-(hydroxymethyl)cyclohexyl]methanol)\n"
     ]
    },
    {
     "name": "stderr",
     "output_type": "stream",
     "text": [
      "Warning: Truncating title to 80 characters for poly(5-Isocyanato-1-(isocyanatomethyl)-1,3,3-trimethylcyclohexane-co-2-[2-[2-(2-hydroxyethoxy)ethoxy]ethoxy]ethanol)\n"
     ]
    },
    {
     "name": "stderr",
     "output_type": "stream",
     "text": [
      "Warning: Truncating title to 80 characters for poly(5-Isocyanato-1-(isocyanatomethyl)-1,3,3-trimethylcyclohexane-co-Butane-1,4-diol)\n"
     ]
    },
    {
     "name": "stderr",
     "output_type": "stream",
     "text": [
      "Warning: Truncating title to 80 characters for poly(5-Isocyanato-1-(isocyanatomethyl)-1,3,3-trimethylcyclohexane-co-Ethane-1,2-diol)\n"
     ]
    },
    {
     "data": {
      "text/html": [
       "<pre style=\"white-space:pre;overflow-x:auto;line-height:normal;font-family:Menlo,'DejaVu Sans Mono',consolas,'Courier New',monospace\">[17:01:17] Explicit valence for atom # 19 N, 4, is greater than permitted\n",
       "</pre>\n"
      ],
      "text/plain": [
       "[17:01:17] Explicit valence for atom # 19 N, 4, is greater than permitted\n"
      ]
     },
     "metadata": {},
     "output_type": "display_data"
    },
    {
     "data": {
      "text/html": [
       "<pre style=\"white-space:pre;overflow-x:auto;line-height:normal;font-family:Menlo,'DejaVu Sans Mono',consolas,'Courier New',monospace\">poly(1-isocyanato-4-[(4-isocyanatophenyl)methyl]benzene-co-2-[2-hydroxyethyl-[4-(4-nitrophenyl)diazenylphenyl]amino\n",
       "]ethanol) : Explicit valence for atom # 19 N, 4, is greater than permitted\n",
       "</pre>\n"
      ],
      "text/plain": [
       "poly(1-isocyanato-4-[(4-isocyanatophenyl)methyl]benzene-co-2-[2-hydroxyethyl-[4-(4-nitrophenyl)diazenylphenyl]amino\n",
       "]ethanol) : Explicit valence for atom # 19 N, 4, is greater than permitted\n"
      ]
     },
     "metadata": {},
     "output_type": "display_data"
    },
    {
     "name": "stderr",
     "output_type": "stream",
     "text": [
      "Warning: Truncating title to 80 characters for poly(5-Isocyanato-1-(isocyanatomethyl)-1,3,3-trimethylcyclohexane-co-Propane-1,3-diol)\n"
     ]
    },
    {
     "name": "stderr",
     "output_type": "stream",
     "text": [
      "Warning: Truncating title to 80 characters for poly(5-isocyanato-2-[4-[6-[4-(5-isocyanato-1,3-dioxoisoindol-2-yl)phenyl]-4-(4-phenylphenyl)pyridin-2-yl]phenyl]isoindole-1,3-dione-co-benzene-1,3-diol)\n"
     ]
    },
    {
     "name": "stderr",
     "output_type": "stream",
     "text": [
      "Warning: Truncating title to 80 characters for poly(1-isocyanato-4-[(4-isocyanatophenyl)methyl]benzene-co-4-[[4-[(4-hydroxyphenyl)iminomethyl]phenyl]methylideneamino]phenol)\n"
     ]
    },
    {
     "name": "stderr",
     "output_type": "stream",
     "text": [
      "Warning: Truncating title to 80 characters for poly(2,4-Diisocyanato-1-methylbenzene-co-6-[4-[4-(6-hydroxyhexoxy)phenyl]phenoxy]hexan-1-ol)\n"
     ]
    },
    {
     "name": "stderr",
     "output_type": "stream",
     "text": [
      "Warning: Truncating title to 80 characters for poly(5-Isocyanato-1-(isocyanatomethyl)-1,3,3-trimethylcyclohexane-co-HEXANE-1,6-DIOL)\n"
     ]
    },
    {
     "name": "stderr",
     "output_type": "stream",
     "text": [
      "Warning: Truncating title to 80 characters for poly(4-[6-[(2-oxo-1,3-dioxolan-4-yl)methoxy]hexoxymethyl]-1,3-dioxolan-2-one-co-[3-(aminomethyl)phenyl]methanamine)\n"
     ]
    },
    {
     "name": "stderr",
     "output_type": "stream",
     "text": [
      "Warning: Truncating title to 80 characters for poly(4-[[4-[2-[4-[(2-oxo-1,3-dioxolan-4-yl)methoxy]phenyl]propan-2-yl]phenoxy]methyl]-1,3-dioxolan-2-one-co-dodecane-1,12-diamine)\n"
     ]
    },
    {
     "name": "stderr",
     "output_type": "stream",
     "text": [
      "Warning: Truncating title to 80 characters for poly(4-[[4-[(2-oxo-1,3-dioxolan-4-yl)methoxy]phenoxy]methyl]-1,3-dioxolan-2-one-co-HEXANE-1,6-DIAMINE)\n"
     ]
    },
    {
     "data": {
      "text/html": [
       "<pre style=\"white-space:pre;overflow-x:auto;line-height:normal;font-family:Menlo,'DejaVu Sans Mono',consolas,'Courier New',monospace\"></pre>\n"
      ],
      "text/plain": []
     },
     "metadata": {},
     "output_type": "display_data"
    },
    {
     "name": "stdout",
     "output_type": "stream",
     "text": [
      "RecursiveDict(<class 'polymerist.genutils.containers.RecursiveDict'>,\n",
      "              {3: RecursiveDict(<class 'polymerist.genutils.containers.RecursiveDict'>,\n",
      "                                {'polyurethane_isocyanate': RecursiveDict(<class 'polymerist.genutils.containers.RecursiveDict'>,\n",
      "                                                                          {'poly(1-isocyanato-4-[(4-isocyanatophenyl)methyl]benzene-co-2-[2-hydroxyethyl-[4-(4-nitrophenyl)diazenylphenyl]amino]ethanol)': 'AtomValenceException'})})})\n"
     ]
    }
   ],
   "source": [
    "import numpy as np\n",
    "from openff.toolkit import Molecule, Topology\n",
    "from openff.toolkit.utils.exceptions import UnassignedChemistryInPDBError\n",
    "\n",
    "from polymerist.genutils.fileutils import filetree\n",
    "from polymerist.maths.lattices import generate_int_lattice\n",
    "\n",
    "from polymerist.rdutils.rdcoords import tiling\n",
    "from polymerist.rdutils.rdprops import copy_rd_props\n",
    "\n",
    "\n",
    "# Parameters\n",
    "DOP : int= 3\n",
    "clear_existing : bool = True\n",
    "charge_method = 'Espaloma-AM1-BCC'\n",
    "lattice_sizes : list[np.ndarray] = [\n",
    "    np.array([5, 5, 5])\n",
    "]\n",
    "\n",
    "# create directories\n",
    "TOPLEVEL_DIRS = (\n",
    "    MONO_OUT_DIR,\n",
    "    PDB_OUT_DIR,\n",
    "    TOPO_OUT_DIR,\n",
    ")\n",
    "\n",
    "for dir in TOPLEVEL_DIRS:\n",
    "    if clear_existing and dir.exists():\n",
    "        filetree.clear_dir(dir)\n",
    "    dir.mkdir(exist_ok=True)\n",
    "\n",
    "nmer_name = f'{GREEK_PREFIXES[DOP]}mers'\n",
    "N_MER_DIR_PDB  = PDB_OUT_DIR  / nmer_name \n",
    "N_MER_DIR_TOPO = TOPO_OUT_DIR / nmer_name \n",
    "\n",
    "N_MER_DIR_PDB.mkdir(exist_ok=True)\n",
    "N_MER_DIR_TOPO.mkdir(exist_ok=True)\n",
    "\n",
    "# preprocess parameters\n",
    "charger = MolCharger.subclass_registry[charge_method]()\n",
    "lattices = {\n",
    "    'x'.join(str(i) for i in lattice_size) : generate_int_lattice(*lattice_size)\n",
    "        for lattice_size in lattice_sizes\n",
    "}\n",
    "\n",
    "# set up data structures for global output\n",
    "frag_registry = RecursiveDict()\n",
    "failed_param  = RecursiveDict()\n",
    "unmatched_pdb_mols = defaultdict(defaultdict)\n",
    "\n",
    "# execute build loop\n",
    "num_successful : int = 0\n",
    "with Live(group, refresh_per_second=10) as live:\n",
    "    # ensure bars start at 0\n",
    "    for pbar in group.renderables: \n",
    "        for task_id in pbar.task_ids:\n",
    "            pbar.reset(task_id)\n",
    "\n",
    "    for rxn_name, rxn_df in frames.items():\n",
    "        # look up reactive groups and pathway by rxn_name\n",
    "        mech_task_id = mech_task_ids[rxn_name]\n",
    "        rxn_pathway = rxns[rxn_name]\n",
    "        reactor = reactors.PolymerizationReactor(rxn_pathway)\n",
    "        \n",
    "        # initialize output directories\n",
    "        mono_dir : Path = MONO_OUT_DIR / rxn_name\n",
    "        mono_dir.mkdir(exist_ok=True)\n",
    "\n",
    "        pdb_dir : Path = N_MER_DIR_PDB / rxn_name\n",
    "        pdb_dir.mkdir(exist_ok=True)\n",
    "\n",
    "        topo_dir_indiv : Path = N_MER_DIR_TOPO / 'individual' / rxn_name\n",
    "        topo_dir_indiv.mkdir(exist_ok=True, parents=True)\n",
    "\n",
    "        topo_dirs_latt : dict[str, Path] = {} # prepopulate unified directories for each lattice size, as provided\n",
    "        for lattice_str in lattices:\n",
    "            topo_dir_latt = N_MER_DIR_TOPO / lattice_str / rxn_name\n",
    "            topo_dir_latt.mkdir(exist_ok=True, parents=True)\n",
    "            topo_dirs_latt[lattice_str] = topo_dir_latt\n",
    "\n",
    "        for (i, row) in rxn_df.iterrows():\n",
    "        # 0) load reactants with IUPAC names from chemical table\n",
    "            status_readout.update(status_id, action='Gathering reactants')\n",
    "            named_reactants = {}\n",
    "            for j in range(2):\n",
    "                reactant = Chem.MolFromSmiles(row[f'smiles_monomer_{j}'], sanitize=False)\n",
    "                Chem.SanitizeMol(reactant, sanitizeOps=specification.SANITIZE_AS_KEKULE)\n",
    "                named_reactants[ row[f'IUPAC_name_monomer_{j}'] ] = reactant\n",
    "            initial_reactants = [reactants for reactants in named_reactants.values()] # must convert to list to pass to ChemicalReaction\n",
    "\n",
    "            polymer_name = f'poly({\"-co-\".join(named_reactants.keys())})' # TODO : make sure this conforms to IUPAC standards for naming\n",
    "            compound_readout.update(curr_compound_id, polymer_name=polymer_name)\n",
    "            frag_registry[rxn_name][i] = polymer_name\n",
    "\n",
    "        # 1) use rxn template to polymerize monomers into all possible fragments\n",
    "            status_readout.update(status_id, action='Fragmenting via reaction mechanism')\n",
    "            monogrp = MonomerGroup()\n",
    "            for dimer, frags in reactor.propagate(initial_reactants):\n",
    "                for assoc_group_name, rdfragment in zip(named_reactants.keys(), frags):\n",
    "                    # generate spec-compliant SMARTS\n",
    "                    raw_smiles = Chem.MolToSmiles(rdfragment)\n",
    "                    exp_smiles = specification.expanded_SMILES(raw_smiles)\n",
    "                    spec_smarts = specification.compliant_mol_SMARTS(exp_smiles)\n",
    "\n",
    "                    # record to monomer group\n",
    "                    affix = 'TERM' if MonomerGroup.is_terminal(rdfragment) else 'MID'\n",
    "                    monogrp.monomers[f'{assoc_group_name}_{affix}'] = [spec_smarts]\n",
    "\n",
    "            status_readout.update(status_id, action='Saving monomer fragments...')\n",
    "            monogrp.to_file(mono_dir / f'{polymer_name}.json')\n",
    "\n",
    "            try:\n",
    "            # 2) generate PDB file from fragments\n",
    "                status_readout.update(status_id, action='Generating PDB file')\n",
    "                polymer = building.build_linear_polymer(monomers=monogrp, DOP=DOP, sequence='AB')  \n",
    "                mol_pdb_path = pdb_dir / f'{polymer_name}.pdb'\n",
    "                building.mbmol_to_openmm_pdb(mol_pdb_path, polymer)\n",
    "\n",
    "            # 3) Parameterize topology and generate SDF \n",
    "                status_readout.update(status_id, action='Partitioning topology by fragments')\n",
    "                offtop = Topology.from_pdb(mol_pdb_path, _custom_substructures=monogrp.monomers)\n",
    "                was_partitioned = partition(offtop)\n",
    "                assert(was_partitioned)\n",
    "\n",
    "                status_readout.update(status_id, action='Assigning partial charges')\n",
    "                offmol = topology.get_largest_offmol(offtop)\n",
    "                offmol.name = polymer_name\n",
    "                cmol = charger.charge_molecule(offmol)\n",
    "\n",
    "                status_readout.update(status_id, action='Saving individual parameterized topology to SDF')\n",
    "                offtop = cmol.to_topology()\n",
    "                sdf_path = topo_dir_indiv / f'{polymer_name}.sdf'\n",
    "                topology.topology_to_sdf(sdf_path, offtop)\n",
    "\n",
    "                # also generate tiled lattices if specified\n",
    "                for lattice_str, lattice in lattices.items():\n",
    "                    status_readout.update(status_id, action=f'Generating tiled {lattice_str} topology')\n",
    "                    tiled_rdmol = tiling.tile_lattice_with_rdmol(cmol.to_rdkit(), lattice)\n",
    "\n",
    "                    tiled_offmols = [] \n",
    "                    for tiled_mol_copy in Chem.GetMolFrags(tiled_rdmol, asMols=True, sanitizeFrags=False):\n",
    "                        copy_rd_props(tiled_rdmol, tiled_mol_copy) # ensure each individual fragment preserves the information of the parent molecule\n",
    "                        tiled_offmols.append(\n",
    "                            Molecule.from_rdkit(\n",
    "                                rdmol=tiled_mol_copy,\n",
    "                                allow_undefined_stereo=True,\n",
    "                                hydrogens_are_explicit=True\n",
    "                            )\n",
    "                        )\n",
    "                    tiled_offtop = Topology.from_molecules(tiled_offmols)\n",
    "\n",
    "                    status_readout.update(status_id, action=f'Saving {lattice_str} parameterized topology to SDF')\n",
    "                    sdf_path_latt = topo_dir_latt / f'{polymer_name}.sdf'\n",
    "                    topology.topology_to_sdf(sdf_path_latt, tiled_offtop)\n",
    "                    num_successful += 1\n",
    "\n",
    "            except UnassignedChemistryInPDBError as pdb_error:\n",
    "                unmatched_pdb_mols[DOP][rxn_name][polymer_name] = monogrp\n",
    "                continue # skip to next compounds, don't proceed with parameterization\n",
    "            except Exception as other_exception:\n",
    "                failed_param[DOP][rxn_name][polymer_name] = other_exception.__class__.__name__\n",
    "                print(f'{polymer_name} : {other_exception}')\n",
    "            finally:\n",
    "                mechanism_progress.advance(mech_task_id)\n",
    "                compound_readout.advance(curr_compound_id)\n",
    "            \n",
    "        overall_progress.advance(curr_mechanism_id, advance=1)\n",
    "    \n",
    "    # Ensure readout are current at end of process\n",
    "    compound_readout.update(curr_compound_id, polymer_name=f'Completed! ({num_successful}/{total_compounds} successful)')\n",
    "    sleep(0.1) # needed to give final bar enough time to catch up\n",
    "\n",
    "# global output after processing\n",
    "with (MONO_OUT_DIR / 'dataset_backmap.json').open('w') as file:\n",
    "    json.dump(frag_registry, file, indent=4)\n",
    "\n",
    "print(failed_param)"
   ]
  },
  {
   "cell_type": "code",
   "execution_count": null,
   "metadata": {},
   "outputs": [],
   "source": []
  }
 ],
 "metadata": {
  "kernelspec": {
   "display_name": "openff-dev-updated",
   "language": "python",
   "name": "python3"
  },
  "language_info": {
   "codemirror_mode": {
    "name": "ipython",
    "version": 3
   },
   "file_extension": ".py",
   "mimetype": "text/x-python",
   "name": "python",
   "nbconvert_exporter": "python",
   "pygments_lexer": "ipython3",
   "version": "3.11.5"
  },
  "orig_nbformat": 4
 },
 "nbformat": 4,
 "nbformat_minor": 2
}
