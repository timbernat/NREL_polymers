{
 "cells": [
  {
   "cell_type": "markdown",
   "metadata": {},
   "source": [
    "# Imports"
   ]
  },
  {
   "cell_type": "code",
   "execution_count": null,
   "metadata": {},
   "outputs": [],
   "source": [
    "## Logging and Shell\n",
    "import logging\n",
    "logging.basicConfig(\n",
    "    level=logging.ERROR,\n",
    "    force=True\n",
    ")\n",
    "\n",
    "## Numeric imports\n",
    "import pandas as pd\n",
    "\n",
    "## File I/O\n",
    "from pathlib import Path\n",
    "import json\n",
    "\n",
    "# Cheminformatics\n",
    "from rdkit import Chem\n",
    "from rdkit.Chem.Draw import IPythonConsole\n",
    "\n",
    "DIM    = 300\n",
    "ASPECT = 3/2\n",
    "IPythonConsole.molSize = (int(ASPECT*DIM), DIM)   # Change image size\n",
    "\n",
    "# Custom imports\n",
    "from polymerist.monomers import specification\n",
    "from polymerist.rdutils.reactions import reactions\n",
    "\n",
    "# Static Paths\n",
    "RAW_DATA_DIR  = Path('raw_monomer_data')\n",
    "PROC_DATA_DIR = Path('processed_monomer_data')\n",
    "RXN_FILES_DIR = Path('poly_rxns')\n",
    "# RXN_FILES_DIR = Path('rxn_smarts')"
   ]
  },
  {
   "cell_type": "markdown",
   "metadata": {},
   "source": [
    "# Load monomer and rxn data "
   ]
  },
  {
   "cell_type": "code",
   "execution_count": null,
   "metadata": {},
   "outputs": [],
   "source": [
    "input_data_path = PROC_DATA_DIR / '20231114_polyid_data_density_FILTERED.csv'\n",
    "df = pd.read_csv(input_data_path, index_col=0)"
   ]
  },
  {
   "cell_type": "markdown",
   "metadata": {},
   "source": [
    "## Load pre-defined functional group SMARTS queries"
   ]
  },
  {
   "cell_type": "code",
   "execution_count": null,
   "metadata": {},
   "outputs": [],
   "source": [
    "with Path('poly_rxns/fn_group_smarts.json').open('r') as file:\n",
    "    fn_group_smarts = json.load(file)\n",
    "\n",
    "fn_groups = {\n",
    "    group_name : Chem.MolFromSmarts(smarts)\n",
    "        for group_name, smarts in fn_group_smarts.items()\n",
    "}"
   ]
  },
  {
   "cell_type": "markdown",
   "metadata": {},
   "source": [
    "## Load pre-defined reactions with functional group and name backmap"
   ]
  },
  {
   "cell_type": "code",
   "execution_count": null,
   "metadata": {},
   "outputs": [],
   "source": [
    "with (RXN_FILES_DIR / 'rxn_backmap.json').open('r') as file: # load table of functional group for each reaction\n",
    "    rxn_backmap = json.load(file)\n",
    "\n",
    "with (RXN_FILES_DIR / 'rxn_groups.json').open('r') as file: # load table of functional group for each reaction\n",
    "    rxn_groups = json.load(file)\n",
    "\n",
    "rxns = {\n",
    "    rxnname : reactions.AnnotatedReaction.from_rxnfile(RXN_FILES_DIR / f'{rxnname}.rxn')\n",
    "        for rxnname in rxn_backmap.values()\n",
    "}"
   ]
  },
  {
   "cell_type": "code",
   "execution_count": null,
   "metadata": {},
   "outputs": [],
   "source": [
    "whitelisted_rxns = ['amide', 'urethane', 'ester', 'carbonate']\n",
    "df = df[df.mechanism.map(lambda s : s in whitelisted_rxns)]"
   ]
  },
  {
   "cell_type": "markdown",
   "metadata": {},
   "source": [
    "## Group by mechanism"
   ]
  },
  {
   "cell_type": "code",
   "execution_count": null,
   "metadata": {},
   "outputs": [],
   "source": [
    "keys = ['mechanism']\n",
    "\n",
    "df_grouper = df.groupby(keys)\n",
    "frames = {\n",
    "    mech : df_grouper.get_group(mech)\n",
    "        for mech in df_grouper.groups\n",
    "}"
   ]
  },
  {
   "cell_type": "markdown",
   "metadata": {},
   "source": [
    "# Polymerizing fragments"
   ]
  },
  {
   "cell_type": "markdown",
   "metadata": {},
   "source": [
    "## Example for polymerization of individual molecule"
   ]
  },
  {
   "cell_type": "code",
   "execution_count": null,
   "metadata": {},
   "outputs": [],
   "source": [
    "# mechname = 'ester'\n",
    "mechname = 'amide'\n",
    "# mechname = 'carbonate'\n",
    "# mechname = 'vinyl'\n",
    "# mechname = 'imide'\n",
    "\n",
    "frame = frames[mechname]\n",
    "row = frame.loc[frame.index[1]]\n",
    "\n",
    "mechname = rxn_backmap[row['mechanism']]\n",
    "print(mechname)\n",
    "\n",
    "rxn_pathway = rxns[mechname]\n",
    "named_reactants = {}\n",
    "for i in (1, 2):\n",
    "    reactant = Chem.MolFromSmiles(row[f'smiles_expanded_monomer_{i}'], sanitize=False)\n",
    "    Chem.SanitizeMol(reactant, sanitizeOps=specification.SANITIZE_AS_KEKULE)\n",
    "    display(reactant)\n",
    "    named_reactants[ row[f'IUPAC_monomer_{i}'] ] = reactant\n",
    "\n",
    "reactants = [i for i in named_reactants.values()]"
   ]
  },
  {
   "cell_type": "code",
   "execution_count": null,
   "metadata": {},
   "outputs": [],
   "source": [
    "from polymerist.rdutils.amalgamation import portlib\n",
    "from polymerist.rdutils.reactions import reactors\n",
    "\n",
    "reactor = reactors.PolymerizationReactor(rxn_pathway)\n",
    "for (dimer, pair) in reactor.propagate(reactants):\n",
    "    display(dimer)\n",
    "    for frag in pair:\n",
    "        display(frag)\n",
    "\n",
    "    print('='*50)"
   ]
  },
  {
   "cell_type": "markdown",
   "metadata": {},
   "source": [
    "## Polymerize all SMILES into well-specified fragments with ports"
   ]
  },
  {
   "cell_type": "code",
   "execution_count": null,
   "metadata": {},
   "outputs": [],
   "source": [
    "from polymerist.monomers import MonomerGroup\n",
    "from polymerist.monomers import specification\n",
    "from polymerist.genutils.containers import RecursiveDict\n",
    "\n",
    "\n",
    "# MONO_INFO_DIR  : Path = Path('monomer_files')\n",
    "MONO_INFO_DIR  : Path = Path('monomer_fragments')\n",
    "MONO_INFO_DIR.mkdir(exist_ok=True)\n",
    "\n",
    "frag_registry = RecursiveDict()\n",
    "for (i, row) in df.iterrows():\n",
    "    # look up reactive groups and pathway by chemistry\n",
    "    mechname = rxn_backmap[row['mechanism']]\n",
    "    rxn_pathway = rxns[mechname]\n",
    "\n",
    "    chem_dir : Path = MONO_INFO_DIR / mechname\n",
    "    chem_dir.mkdir(exist_ok=True)\n",
    "\n",
    "    # load reactants with IUPAC names from chemical table\n",
    "    named_reactants = {}\n",
    "    for j in (1, 2):\n",
    "        reactant = Chem.MolFromSmiles(row[f'smiles_expanded_monomer_{j}'], sanitize=False)\n",
    "        Chem.SanitizeMol(reactant, sanitizeOps=specification.SANITIZE_AS_KEKULE)\n",
    "        named_reactants[ row[f'IUPAC_monomer_{j}'] ] = reactant\n",
    "\n",
    "    # polymer_name = f'poly({\",\".join(named_reactants.keys())})' # TODO : make sure this conforms to IUPAC standards for naming\n",
    "    polymer_name = f'poly({\"-co-\".join(named_reactants.keys())})' # TODO : make sure this conforms to IUPAC standards for naming\n",
    "    initial_reactants = [reactants for reactants in named_reactants.values()] # must convert to list\n",
    "    frag_registry[mechname][i] = polymer_name\n",
    "\n",
    "    # first round of polymerization (initiation)\n",
    "    monogrp = MonomerGroup()\n",
    "    reactor = reactors.PolymerizationReactor(rxn_pathway)\n",
    "    for dimer, frags in reactor.propagate(initial_reactants):\n",
    "        for assoc_group_name, rdfragment in zip(named_reactants.keys(), frags):\n",
    "            # generate spec-compliant SMARTS\n",
    "            raw_smiles = Chem.MolToSmiles(rdfragment)\n",
    "            exp_smiles = specification.expanded_SMILES(raw_smiles)\n",
    "            spec_smarts = specification.compliant_mol_SMARTS(exp_smiles)\n",
    "\n",
    "            # record to monomer group\n",
    "            affix = 'TERM' if MonomerGroup.is_terminal(rdfragment) else 'MID'\n",
    "            monogrp.monomers[f'{assoc_group_name}_{affix}'] = [spec_smarts]\n",
    "\n",
    "    monogrp.to_file(chem_dir / f'{polymer_name}.json')\n",
    "\n",
    "with (MONO_INFO_DIR / 'dataset_backmap.json').open('w') as file:\n",
    "    json.dump(frag_registry, file, indent=4)"
   ]
  },
  {
   "cell_type": "markdown",
   "metadata": {},
   "source": [
    "# Building PDB files from monomer fragments"
   ]
  },
  {
   "cell_type": "code",
   "execution_count": null,
   "metadata": {},
   "outputs": [],
   "source": [
    "from polymerist.maths.greek import GREEK_PREFIXES\n",
    "from polymerist.polymers import building\n",
    "\n",
    "\n",
    "master_pdb_dir = Path('pdb_files_new')\n",
    "master_pdb_dir.mkdir(exist_ok=True)\n",
    "\n",
    "DOP = 5\n",
    "\n",
    "pdb_dir = master_pdb_dir / f'{GREEK_PREFIXES[DOP]}mers'\n",
    "pdb_dir.mkdir(exist_ok=True)\n",
    "\n",
    "failed = RecursiveDict()\n",
    "for chemistry in rxn_groups.keys():\n",
    "    mono_src_dir = MONO_INFO_DIR / chemistry\n",
    "    if not mono_src_dir.exists():\n",
    "        continue\n",
    "\n",
    "    chem_dir = pdb_dir / chemistry\n",
    "    chem_dir.mkdir(exist_ok=True)\n",
    "\n",
    "    for mono_path in mono_src_dir.iterdir():\n",
    "        monogrp = MonomerGroup.from_file(mono_path)\n",
    "        try:\n",
    "            polymer = building.build_linear_polymer(monomers=monogrp, DOP=DOP, sequence='AB')  \n",
    "            savepath = chem_dir / f'{mono_path.stem}.pdb'\n",
    "            building.mbmol_to_openmm_pdb(savepath, polymer)\n",
    "            \n",
    "            # polymer.save(asstrpath(savepath))\n",
    "        except Exception as e:\n",
    "            failed[DOP][chemistry][e.__class__.__name__][mono_path.stem] = monogrp"
   ]
  },
  {
   "cell_type": "code",
   "execution_count": null,
   "metadata": {},
   "outputs": [],
   "source": [
    "failed"
   ]
  },
  {
   "cell_type": "code",
   "execution_count": null,
   "metadata": {},
   "outputs": [],
   "source": []
  }
 ],
 "metadata": {
  "kernelspec": {
   "display_name": "openff-dev-updated",
   "language": "python",
   "name": "python3"
  },
  "language_info": {
   "codemirror_mode": {
    "name": "ipython",
    "version": 3
   },
   "file_extension": ".py",
   "mimetype": "text/x-python",
   "name": "python",
   "nbconvert_exporter": "python",
   "pygments_lexer": "ipython3",
   "version": "3.10.9"
  },
  "orig_nbformat": 4
 },
 "nbformat": 4,
 "nbformat_minor": 2
}
