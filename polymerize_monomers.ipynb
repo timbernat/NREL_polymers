{
 "cells": [
  {
   "cell_type": "markdown",
   "metadata": {},
   "source": [
    "# Imports"
   ]
  },
  {
   "cell_type": "code",
   "execution_count": null,
   "metadata": {},
   "outputs": [],
   "source": [
    "## Logging and Shell\n",
    "import logging\n",
    "logging.basicConfig(\n",
    "    level=logging.INFO,\n",
    "    force=True\n",
    ")\n",
    "\n",
    "## Numeric imports\n",
    "import pandas as pd\n",
    "\n",
    "## File I/O\n",
    "from pathlib import Path\n",
    "import json\n",
    "\n",
    "## Cheminformatics\n",
    "from rdkit import Chem"
   ]
  },
  {
   "cell_type": "markdown",
   "metadata": {},
   "source": [
    "# Param input"
   ]
  },
  {
   "cell_type": "code",
   "execution_count": null,
   "metadata": {},
   "outputs": [],
   "source": [
    "mono_data_path : Path = Path('processed_monomer_data') / 'clean_smarts_digroup.csv'\n",
    "rxn_mech_dir   : Path = Path('rxn_smarts')\n",
    "\n",
    "rxns_from_smarts : bool = True#False"
   ]
  },
  {
   "cell_type": "markdown",
   "metadata": {},
   "source": [
    "## Load processed monomer starting structures"
   ]
  },
  {
   "cell_type": "code",
   "execution_count": null,
   "metadata": {},
   "outputs": [],
   "source": [
    "logging.info(f'Loading processed data from {mono_data_path.stem}')\n",
    "digroup_table = pd.read_csv(mono_data_path, index_col=[0])\n",
    "tables_by_chem = {\n",
    "    chemistry : digroup_table[digroup_table['Chemistry'] == chemistry].dropna(axis=1).reset_index(drop=True)\n",
    "        for chemistry in set(digroup_table['Chemistry'])\n",
    "}"
   ]
  },
  {
   "cell_type": "code",
   "execution_count": null,
   "metadata": {},
   "outputs": [],
   "source": [
    "digroup_table"
   ]
  },
  {
   "cell_type": "markdown",
   "metadata": {},
   "source": [
    "## Load rxn mechanisms"
   ]
  },
  {
   "cell_type": "code",
   "execution_count": null,
   "metadata": {},
   "outputs": [],
   "source": [
    "from polymerist.rdutils.reactions import reactions, reactors\n",
    "\n",
    "\n",
    "reaction_pairs = {\n",
    "    'NIPU' : ('cyclocarbonate', 'amine'),\n",
    "    'urethane' : ('isocyanate', 'hydroxyl')\n",
    "}\n",
    "\n",
    "logging.info(f'Loading reaction mechanisms (from {\"SMARTS\" if rxns_from_smarts else \"MDL files\"})')\n",
    "if rxns_from_smarts:\n",
    "    with (rxn_mech_dir / 'rxn_smarts.json').open('r') as rxn_file:\n",
    "        rxns = {\n",
    "            chemistry : reactions.AnnotatedReaction.from_smarts(rxn_SMARTS)\n",
    "                for chemistry, rxn_SMARTS in json.load(rxn_file).items()\n",
    "        }\n",
    "else:\n",
    "    # from files\n",
    "    rxns = {\n",
    "        chemistry : reactions.AnnotatedReaction.from_rxnfile(rxn_mech_dir / f'{chemistry}.rxn')\n",
    "            for chemistry in reaction_pairs.keys()\n",
    "    }"
   ]
  },
  {
   "cell_type": "markdown",
   "metadata": {},
   "source": [
    "# Polymerizing fragments"
   ]
  },
  {
   "cell_type": "markdown",
   "metadata": {},
   "source": [
    "## Example for polymerization of individual molecule"
   ]
  },
  {
   "cell_type": "code",
   "execution_count": null,
   "metadata": {},
   "outputs": [],
   "source": [
    "chemistry = 'urethane'\n",
    "idx = 3\n",
    "\n",
    "rxn_pathway = rxns[chemistry]\n",
    "chem_tab = tables_by_chem[chemistry]\n",
    "chem_entry = chem_tab.loc[idx]\n",
    "\n",
    "reactants = {\n",
    "    react_name : Chem.MolFromSmarts(chem_entry[react_name])\n",
    "        for react_name in reaction_pairs[chemistry]\n",
    "}\n",
    "\n",
    "reactor = reactors.PolymerizationReactor(rxn_pathway)\n",
    "for (dimer, pair) in reactor.propagate([i for i in reactants.values()]):\n",
    "    display(dimer)\n",
    "    for frag in pair:\n",
    "        display(frag)\n",
    "    print('='*50)"
   ]
  },
  {
   "cell_type": "markdown",
   "metadata": {},
   "source": [
    "## Polymerize all SMILES into well-specified fragments with ports"
   ]
  },
  {
   "cell_type": "code",
   "execution_count": null,
   "metadata": {},
   "outputs": [],
   "source": [
    "from polymerist.monomers import MonomerGroup\n",
    "from polymerist.monomers import specification\n",
    "from polymerist.rdutils.labeling import molwise\n",
    "\n",
    "\n",
    "mono_info_dir  : Path = Path('monomer_files')\n",
    "mono_info_dir.mkdir(exist_ok=True)\n",
    "\n",
    "for chemistry, smarts_table in tables_by_chem.items():\n",
    "    chem_dir = mono_info_dir / chemistry\n",
    "    chem_dir.mkdir(exist_ok=True)\n",
    "\n",
    "    for i, sample in smarts_table.iterrows():\n",
    "        logging.info(f'Generating fragments for {chemistry} #{i}')\n",
    "        # look up reactive groups and pathway by chemistry\n",
    "        rxn_group_names = reaction_pairs[chemistry]\n",
    "        rxn = rxns[chemistry]\n",
    "\n",
    "        # read reactant monomers from digroup_table\n",
    "        initial_reactants = []\n",
    "        for j, group_name in enumerate(rxn_group_names):\n",
    "            reactant = Chem.MolFromSmiles(sample[group_name], sanitize=False)\n",
    "            for atom in reactant.GetAtoms():\n",
    "                atom.SetProp('reactant_group', group_name)\n",
    "            \n",
    "            initial_reactants.append(reactant)\n",
    "        monogrp = MonomerGroup()\n",
    "\n",
    "        # first round of polymerization (initiation)\n",
    "        reactor = reactors.PolymerizationReactor(rxn)\n",
    "        for dimer, frags in reactor.propagate(initial_reactants):\n",
    "            for assoc_group_name, rdfragment in zip(rxn_group_names, frags):\n",
    "                # label and sanitize fragments\n",
    "                molwise.clear_atom_isotopes(rdfragment, in_place=True)\n",
    "                molwise.assign_ordered_atom_map_nums(rdfragment, in_place=True) # number monomers\n",
    "                Chem.Kekulize(rdfragment, clearAromaticFlags=True) # convert aromatic bonds to single-double\n",
    "                Chem.SanitizeMol(rdfragment, sanitizeOps=specification.SANITIZE_AS_KEKULE)\n",
    "\n",
    "                # generate spec-compliant SMARTS\n",
    "                raw_smarts = Chem.MolToSmarts(rdfragment)\n",
    "                spec_smarts = specification.compliant_mol_SMARTS(smarts=raw_smarts)\n",
    "\n",
    "                # record to monomer group\n",
    "                affix = 'TERM' if MonomerGroup.is_terminal(rdfragment) else 'MID'\n",
    "                monogrp.monomers[f'{assoc_group_name}_{affix}'] = [spec_smarts]\n",
    "\n",
    "        monogrp.to_file(chem_dir / f'{chemistry}_{i}.json')"
   ]
  },
  {
   "cell_type": "code",
   "execution_count": null,
   "metadata": {},
   "outputs": [],
   "source": []
  }
 ],
 "metadata": {
  "kernelspec": {
   "display_name": "openff-dev-updated",
   "language": "python",
   "name": "python3"
  },
  "language_info": {
   "codemirror_mode": {
    "name": "ipython",
    "version": 3
   },
   "file_extension": ".py",
   "mimetype": "text/x-python",
   "name": "python",
   "nbconvert_exporter": "python",
   "pygments_lexer": "ipython3",
   "version": "3.11.5"
  },
  "orig_nbformat": 4
 },
 "nbformat": 4,
 "nbformat_minor": 2
}
