{
 "cells": [
  {
   "cell_type": "markdown",
   "metadata": {},
   "source": [
    "# Core Imports"
   ]
  },
  {
   "cell_type": "code",
   "execution_count": 1,
   "metadata": {},
   "outputs": [
    {
     "name": "stderr",
     "output_type": "stream",
     "text": [
      "/home/timber/miniconda3/envs/openff-dev-updated/lib/python3.10/site-packages/numpy/core/getlimits.py:518: UserWarning: The value of the smallest subnormal for <class 'numpy.float64'> type is zero.\n",
      "  setattr(self, word, getattr(machar, word).flat[0])\n",
      "/home/timber/miniconda3/envs/openff-dev-updated/lib/python3.10/site-packages/numpy/core/getlimits.py:89: UserWarning: The value of the smallest subnormal for <class 'numpy.float64'> type is zero.\n",
      "  return self._float_to_str(self.smallest_subnormal)\n",
      "/home/timber/miniconda3/envs/openff-dev-updated/lib/python3.10/site-packages/numpy/core/getlimits.py:518: UserWarning: The value of the smallest subnormal for <class 'numpy.float32'> type is zero.\n",
      "  setattr(self, word, getattr(machar, word).flat[0])\n",
      "/home/timber/miniconda3/envs/openff-dev-updated/lib/python3.10/site-packages/numpy/core/getlimits.py:89: UserWarning: The value of the smallest subnormal for <class 'numpy.float32'> type is zero.\n",
      "  return self._float_to_str(self.smallest_subnormal)\n",
      "Warning on use of the timeseries module: If the inherent timescales of the system are long compared to those being analyzed, this statistical inefficiency may be an underestimate.  The estimate presumes the use of many statistically independent samples.  Tests should be performed to assess whether this condition is satisfied.   Be cautious in the interpretation of the data.\n",
      "WARNING:root:Warning: importing 'simtk.openmm' is deprecated.  Import 'openmm' instead.\n"
     ]
    }
   ],
   "source": [
    "# Custom Imports\n",
    "from polysaccharide import general\n",
    "from polysaccharide.extratypes import ResidueSmarts\n",
    "\n",
    "from polysaccharide.molutils import reactions\n",
    "from polysaccharide.molutils.rdmol.rdtypes import *\n",
    "from polysaccharide.molutils.rdmol import rdcompare, rdconvert, rdkdraw, rdcompare, rdprops, rdbond, rdlabels\n",
    "\n",
    "from polysaccharide.polymer import monomer\n",
    "from polysaccharide.polymer.monomer import MonomerInfo\n",
    "\n",
    "# Generic Imports\n",
    "import re\n",
    "from functools import partial, cached_property\n",
    "from collections import defaultdict\n",
    "from itertools import combinations, chain\n",
    "from ast import literal_eval\n",
    "\n",
    "# Numeric imports\n",
    "import pandas as pd\n",
    "import numpy as np\n",
    "\n",
    "# File I/O\n",
    "from pathlib import Path\n",
    "import csv, json, openpyxl\n",
    "\n",
    "# Typing and Subclassing\n",
    "from typing import Any, Callable, ClassVar, Generator, Iterable, Optional, Union\n",
    "from dataclasses import dataclass, field\n",
    "from abc import ABC, abstractmethod, abstractproperty\n",
    "from openmm.unit import Unit, Quantity\n",
    "\n",
    "# Cheminformatics\n",
    "from rdkit import Chem\n",
    "from rdkit.Chem import rdChemReactions\n",
    "\n",
    "# Static Paths\n",
    "RAW_DATA_PATH = Path('raw_monomer_data')\n",
    "RXN_FILES_PATH = Path('rxn_smarts')"
   ]
  },
  {
   "cell_type": "markdown",
   "metadata": {},
   "source": [
    "# Inspecting NREL Urethanes"
   ]
  },
  {
   "cell_type": "markdown",
   "metadata": {},
   "source": [
    "## Loading and inspecting raw data"
   ]
  },
  {
   "cell_type": "code",
   "execution_count": 4,
   "metadata": {},
   "outputs": [],
   "source": [
    "p = RAW_DATA_PATH / 'nipu_urethanes.xlsx'\n",
    "raw_table = pd.read_excel(p) # load from .xlsx file\n",
    "raw_table['Monomers'] = raw_table['Monomers'].apply(literal_eval) # convert string of tuples into proper tuples\n",
    "\n",
    "nipus     = raw_table[raw_table['Chemistry'] == 'NIPU'    ]\n",
    "urethanes = raw_table[raw_table['Chemistry'] == 'urethane']\n",
    "\n",
    "nipus_mono     = nipus['Monomers'].reset_index(drop=True) # extract monomers and renumber subset in-order\n",
    "urethanes_mono = urethanes['Monomers'].reset_index(drop=True) # extract monomers and renumber subset in-order"
   ]
  },
  {
   "cell_type": "code",
   "execution_count": 2,
   "metadata": {},
   "outputs": [],
   "source": [
    "rdkdraw.set_rdkdraw_size(300, 3/2)\n",
    "# targ_mono = nipus_mono\n",
    "targ_mono = {}\n",
    "\n",
    "for i, monos in targ_mono.items():\n",
    "    try:\n",
    "        mono1, mono2 = monos\n",
    "        display(Chem.MolFromSmiles(mono1))\n",
    "        \n",
    "        print('='*50)\n",
    "    except ValueError:\n",
    "        print(f'Row {i} failed')"
   ]
  },
  {
   "cell_type": "markdown",
   "metadata": {},
   "source": [
    "## Classify each monomer pair by respective reactive functional group"
   ]
  },
  {
   "cell_type": "code",
   "execution_count": 5,
   "metadata": {},
   "outputs": [],
   "source": [
    "with (RXN_FILES_PATH / 'fn_group_smarts.json').open('r') as fn_group_file:\n",
    "    fn_group_SMARTS = json.load(fn_group_file)\n",
    "    fn_groups = {\n",
    "        group_name : Chem.MolFromSmarts(SMARTS)\n",
    "            for group_name, SMARTS in fn_group_SMARTS.items()\n",
    "    }\n",
    "\n",
    "reaction_pairs = {\n",
    "    'NIPU' : ('cyclocarbonate', 'amine'),\n",
    "    'urethane' : ('isocyanate', 'hydroxyl')\n",
    "}\n",
    "\n",
    "all_results = []\n",
    "digroup_only_results = []\n",
    "for i, (chemistry, monomer_pair) in raw_table.iterrows():\n",
    "    monomer_entry = {\n",
    "        'Chemistry' : chemistry\n",
    "    }\n",
    "\n",
    "    too_many_sites = False\n",
    "    for SMILES in monomer_pair:\n",
    "        rdmol = Chem.MolFromSmiles(SMILES)\n",
    "        rdmol = Chem.AddHs(rdmol)\n",
    "\n",
    "        for group_name, fn_group in fn_groups.items():\n",
    "            matches = rdmol.GetSubstructMatches(fn_group)\n",
    "            if matches and (group_name in reaction_pairs[chemistry]):\n",
    "                monomer_entry[group_name] = Chem.MolToSmarts(rdmol)\n",
    "            too_many_sites |= (len(matches) > 2) # OR with previous result; single true will make result true\n",
    "        \n",
    "    all_results.append(monomer_entry)\n",
    "    if not too_many_sites:        \n",
    "        digroup_only_results.append(monomer_entry)\n",
    "\n",
    "all_table = pd.DataFrame.from_records(all_results)\n",
    "digroup_table = pd.DataFrame.from_records(digroup_only_results)"
   ]
  },
  {
   "cell_type": "markdown",
   "metadata": {},
   "source": [
    "## Testing reaction replacement rules"
   ]
  },
  {
   "cell_type": "code",
   "execution_count": 6,
   "metadata": {},
   "outputs": [],
   "source": [
    "with (RXN_FILES_PATH / 'rxn_smarts.json').open('r') as rxn_file:\n",
    "    rxn_smarts = json.load(rxn_file)\n",
    "    rxns = {\n",
    "        chemistry : reactions.AnnotatedReaction.from_smarts(rxn_SMARTS)\n",
    "            for chemistry, rxn_SMARTS in rxn_smarts.items()\n",
    "    }"
   ]
  },
  {
   "cell_type": "code",
   "execution_count": 26,
   "metadata": {},
   "outputs": [],
   "source": [
    "rxn_r_map4 = \"\"\"$RXN\n",
    "\n",
    "      Mrv1902  070320191331\n",
    "\n",
    "  2  1\n",
    "$MOL\n",
    "\n",
    "  Mrv1902 07031913312D          \n",
    "\n",
    "  3  2  0  0  0  0            999 V2000\n",
    "   -4.5670   -0.2063    0.0000 C   0  0  0  0  0  0  0  0  0  2  0  0\n",
    "   -5.2815    0.2062    0.0000 O   0  0  0  0  0  0  0  0  0  1  0  0\n",
    "   -3.8525    0.2063    0.0000 O   0  0  0  2  0  0  0  0  0  0  0  0\n",
    "  1  2  2  0  0  0  0\n",
    "  1  3  1  0  0  0  0\n",
    "M  MRV SMA   3 [#8H1]\n",
    "M  END\n",
    "$MOL\n",
    "\n",
    "  Mrv1902 07031913312D          \n",
    "\n",
    "  2  1  0  0  0  0            999 V2000\n",
    "   -1.1418    0.0687    0.0000 N   0  0  0  0  0  0  0  0  0  3  0  0\n",
    "   -1.9668    0.0687    0.0000 R   0  0  0  0  0  0  0  0  0  4  0  0\n",
    "  1  2  1  0  0  0  0\n",
    "M  END\n",
    "$MOL\n",
    "\n",
    "  Mrv1902 07031913312D          \n",
    "\n",
    "  4  3  0  0  0  0            999 V2000\n",
    "    4.4565   -0.3572    0.0000 C   0  0  0  0  0  0  0  0  0  2  0  0\n",
    "    5.2815   -0.3572    0.0000 O   0  0  0  0  0  0  0  0  0  1  0  0\n",
    "    4.0439    0.3572    0.0000 N   0  0  0  0  0  0  0  0  0  3  0  0\n",
    "    3.2190    0.3572    0.0000 R   0  0  0  0  0  0  0  0  0  4  0  0\n",
    "  1  2  2  0  0  0  0\n",
    "  1  3  1  0  0  0  0\n",
    "  3  4  1  0  0  0  0\n",
    "M  END\n",
    "\"\"\"\n",
    "\n",
    "rxn = rdChemReactions.ReactionFromRxnBlock(rxn_r_map4)"
   ]
  },
  {
   "cell_type": "code",
   "execution_count": 27,
   "metadata": {},
   "outputs": [
    {
     "data": {
      "image/png": "[encoded data removed]",
      "text/plain": [
       "<rdkit.Chem.rdchem.Mol at 0x7f6b1e0a4ac0>"
      ]
     },
     "metadata": {},
     "output_type": "display_data"
    },
    {
     "data": {
      "text/plain": [
       "'[#7:3]-[*:4]'"
      ]
     },
     "execution_count": 27,
     "metadata": {},
     "output_type": "execute_result"
    }
   ],
   "source": [
    "mol = rxn.GetReactantTemplate(1)\n",
    "display(mol)\n",
    "Chem.MolToSmarts(mol)"
   ]
  },
  {
   "cell_type": "code",
   "execution_count": 28,
   "metadata": {},
   "outputs": [
    {
     "data": {
      "text/plain": [
       "('R', 0)"
      ]
     },
     "execution_count": 28,
     "metadata": {},
     "output_type": "execute_result"
    }
   ],
   "source": [
    "atom = mol.GetAtomWithIdx(1)\n",
    "\n",
    "atom.GetSymbol(), atom.GetAtomicNum()"
   ]
  },
  {
   "cell_type": "code",
   "execution_count": 30,
   "metadata": {},
   "outputs": [
    {
     "data": {
      "text/plain": [
       "['__call__',\n",
       " '__class__',\n",
       " '__delattr__',\n",
       " '__dir__',\n",
       " '__doc__',\n",
       " '__eq__',\n",
       " '__format__',\n",
       " '__func__',\n",
       " '__ge__',\n",
       " '__get__',\n",
       " '__getattribute__',\n",
       " '__gt__',\n",
       " '__hash__',\n",
       " '__init__',\n",
       " '__init_subclass__',\n",
       " '__le__',\n",
       " '__lt__',\n",
       " '__ne__',\n",
       " '__new__',\n",
       " '__reduce__',\n",
       " '__reduce_ex__',\n",
       " '__repr__',\n",
       " '__self__',\n",
       " '__setattr__',\n",
       " '__sizeof__',\n",
       " '__str__',\n",
       " '__subclasshook__']"
      ]
     },
     "execution_count": 30,
     "metadata": {},
     "output_type": "execute_result"
    }
   ],
   "source": [
    "dir(atom.GetPDBResidueInfo)"
   ]
  },
  {
   "cell_type": "code",
   "execution_count": 12,
   "metadata": {},
   "outputs": [
    {
     "data": {
      "text/plain": [
       "'$RXN\\n\\n      RDKit\\n\\n  2  1\\n$MOL\\n\\n     RDKit          2D\\n\\n  4  3  0  0  0  0  0  0  0  0999 V2000\\n    3.8971    0.7500    0.0000 O   0  0  0  0  0  0  0  0  0  1  0  0\\n    2.5981   -0.0000    0.0000 C   0  0  0  0  0  0  0  0  0  2  0  0\\n    1.2990    0.7500    0.0000 N   0  0  0  0  0  0  0  0  0  3  0  0\\n    0.0000    0.0000    0.0000 *   0  0  0  0  0  0  0  0  0  4  0  0\\n  1  2  2  0\\n  2  3  2  0\\n  3  4  1  0\\nV    4 [*:4]\\nM  END\\n$MOL\\n\\n     RDKit          2D\\n\\n  3  2  0  0  0  0  0  0  0  0999 V2000\\n    1.2990    0.7500    0.0000 O   0  0  0  0  0  0  0  0  0  5  0  0\\n    2.5981   -0.0000    0.0000 H   0  0  0  0  0  0  0  0  0  6  0  0\\n    0.0000    0.0000    0.0000 *   0  0  0  0  0  0  0  0  0  7  0  0\\n  1  2  1  0\\n  1  3  1  0\\nV    3 [*:7]\\nM  END\\n$MOL\\n\\n     RDKit          2D\\n\\n  7  6  0  0  0  0  0  0  0  0999 V2000\\n    3.8971    0.7500    0.0000 O   0  0  0  0  0  0  0  0  0  1  0  0\\n    2.5981   -0.0000    0.0000 C   0  0  0  0  0  0  0  0  0  2  0  0\\n    1.2990    0.7500    0.0000 N   0  0  0  0  0  0  0  0  0  3  0  0\\n    0.0000    0.0000    0.0000 *   0  0  0  0  0  0  0  0  0  4  0  0\\n    1.2990    2.2500    0.0000 H   0  0  0  0  0  0  0  0  0  6  0  0\\n    2.5981   -1.5000    0.0000 O   0  0  0  0  0  0  0  0  0  5  0  0\\n    3.8971   -2.2500    0.0000 *   0  0  0  0  0  0  0  0  0  7  0  0\\n  1  2  2  0\\n  2  3  1  0\\n  3  4  1  0\\n  3  5  1  0\\n  2  6  1  0\\n  6  7  1  0\\nV    4 [*:4]\\nV    7 [*:7]\\nM  END\\n'"
      ]
     },
     "execution_count": 12,
     "metadata": {},
     "output_type": "execute_result"
    }
   ],
   "source": [
    "rxn = rxns['urethane']\n",
    "\n",
    "rdChemReactions.ReactionToRxnBlock(rxn)"
   ]
  },
  {
   "cell_type": "code",
   "execution_count": 21,
   "metadata": {},
   "outputs": [
    {
     "name": "stdout",
     "output_type": "stream",
     "text": [
      "\n",
      "     RDKit          2D\n",
      "\n",
      "  4  3  0  0  0  0  0  0  0  0999 V2000\n",
      "    3.8971    0.7500    0.0000 O   0  0  0  0  0  0  0  0  0  1  0  0\n",
      "    2.5981   -0.0000    0.0000 C   0  0  0  0  0  0  0  0  0  2  0  0\n",
      "    1.2990    0.7500    0.0000 N   0  0  0  0  0  0  0  0  0  3  0  0\n",
      "    0.0000    0.0000    0.0000 ALA   0  0  0  0  0  0  0  0  0  4  0  0\n",
      "  1  2  2  0\n",
      "  2  3  2  0\n",
      "  3  4  1  0\n",
      "V    4 [ALA:4]\n",
      "M  END\n",
      "\n"
     ]
    }
   ],
   "source": [
    "block = Chem.MolToMolBlock(rxn.GetReactantTemplate(0))\n",
    "block = block.replace('*', 'ALA')\n",
    "\n",
    "print(block)"
   ]
  },
  {
   "cell_type": "code",
   "execution_count": 22,
   "metadata": {},
   "outputs": [
    {
     "name": "stderr",
     "output_type": "stream",
     "text": [
      "[17:32:49] \n",
      "\n",
      "****\n",
      "Post-condition Violation\n",
      "Element 'ALA' not found\n",
      "Violation occurred on line 93 in file /project/build/temp.linux-x86_64-cpython-310/rdkit/Code/GraphMol/PeriodicTable.h\n",
      "Failed Expression: anum > -1\n",
      "****\n",
      "\n",
      "[17:32:49] Element 'ALA' not found\n"
     ]
    }
   ],
   "source": [
    "Chem.MolFromMolBlock(block)"
   ]
  },
  {
   "cell_type": "code",
   "execution_count": null,
   "metadata": {},
   "outputs": [],
   "source": [
    "# for j, sample in digroup_table.tail(2).iterrows():\n",
    "# for j, sample in digroup_table.head(5).iterrows():\n",
    "\n",
    "rdkdraw.set_rdkdraw_size(400, 3/2)\n",
    "for sample in (digroup_table.iloc[2], digroup_table.iloc[-2]):\n",
    "    # look up reactive groups and pathway by chemistry\n",
    "    chemistry = sample['Chemistry']\n",
    "    rxn_grp_names = reaction_pairs[chemistry]\n",
    "    rxn = rxns[chemistry]\n",
    "\n",
    "    # read reactant monomers from digroup_table\n",
    "    reactants = []\n",
    "    for i, group_name in enumerate(rxn_grp_names):\n",
    "        reactant = Chem.MolFromSmarts(sample[group_name])\n",
    "        for atom in reactant.GetAtoms():\n",
    "            atom.SetProp('reactant_group', group_name)\n",
    "        \n",
    "        reactants.append(reactant)\n",
    "    mono_info = MonomerInfo()\n",
    "\n",
    "    # first round of polymerization (initiation)\n",
    "    reactor_1 = reactions.PolymerizationReactor(rxn, reactants=reactants)\n",
    "    reactor_1.react()\n",
    "    display(reactor_1.polymerized_fragments(separate=False))\n",
    "\n",
    "    mono_info.monomers[f'{\"_\".join(rxn_grp_names)}_DIMER'] = Chem.MolToSmarts(rdlabels.clear_atom_map_nums(reactor_1.product, in_place=False))\n",
    "    for assoc_group_name, rdfragment in zip(rxn_grp_names, reactor_1.polymerized_fragments(separate=True)):\n",
    "        rdlabels.clear_atom_isotopes(rdfragment, in_place=True)\n",
    "        mono_info.monomers[f'{assoc_group_name}_TERM'] = Chem.MolToSmarts(rdfragment)\n",
    "\n",
    "    # second round of polymerization (propagation)\n",
    "    reactor_2 = reactions.PolymerizationReactor(rxn, reactor_1.polymerized_fragments(separate=True))\n",
    "    reactor_2.react()\n",
    "    display(reactor_2.polymerized_fragments(separate=False))\n",
    "\n",
    "    for assoc_group_name, rdfragment in zip(rxn_grp_names, reactor_2.polymerized_fragments(separate=True)):\n",
    "        rdlabels.clear_atom_isotopes(rdfragment, in_place=True)\n",
    "        mono_info.monomers[f'{assoc_group_name}_MID'] = Chem.MolToSmarts(rdfragment)\n",
    "\n",
    "    # add serial map numbers to monomer fragment SMARTS\n",
    "    for monomer_tag, smarts in mono_info.monomers.items():\n",
    "        monomer = Chem.MolFromSmarts(smarts)\n",
    "        rdlabels.assign_ordered_atom_map_nums(monomer, in_place=True)\n",
    "        mono_info.monomers[monomer_tag] = Chem.MolToSmarts(monomer)\n",
    "\n",
    "mono_info"
   ]
  },
  {
   "cell_type": "code",
   "execution_count": null,
   "metadata": {},
   "outputs": [],
   "source": []
  }
 ],
 "metadata": {
  "kernelspec": {
   "display_name": "openff-dev-updated",
   "language": "python",
   "name": "python3"
  },
  "language_info": {
   "codemirror_mode": {
    "name": "ipython",
    "version": 3
   },
   "file_extension": ".py",
   "mimetype": "text/x-python",
   "name": "python",
   "nbconvert_exporter": "python",
   "pygments_lexer": "ipython3",
   "version": "3.10.9"
  },
  "orig_nbformat": 4
 },
 "nbformat": 4,
 "nbformat_minor": 2
}
