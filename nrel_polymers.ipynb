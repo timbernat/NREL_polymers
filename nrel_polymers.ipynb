{
 "cells": [
  {
   "cell_type": "markdown",
   "metadata": {},
   "source": [
    "# Core Imports"
   ]
  },
  {
   "cell_type": "code",
   "execution_count": null,
   "metadata": {},
   "outputs": [],
   "source": [
    "# Custom Imports\n",
    "from polysaccharide import general\n",
    "from polysaccharide.general import optional_in_place\n",
    "from polysaccharide.extratypes import ResidueSmarts\n",
    "\n",
    "from polysaccharide.molutils import reactions\n",
    "from polysaccharide.molutils.rdmol.rdtypes import *\n",
    "from polysaccharide.molutils.rdmol import rdcompare, rdconvert, rdkdraw, rdcompare, rdprops, rdbond, rdlabels\n",
    "\n",
    "from polysaccharide.polymer import monomer as monoutils\n",
    "from polysaccharide.polymer.monomer import MonomerInfo\n",
    "from polysaccharide.polymer.management import PolymerManager\n",
    "\n",
    "from polysaccharide.polymer import building\n",
    "import mbuild as mb\n",
    "\n",
    "# Generic Imports\n",
    "import re\n",
    "from functools import partial, cached_property\n",
    "from collections import defaultdict\n",
    "from itertools import combinations, chain\n",
    "from ast import literal_eval\n",
    "\n",
    "# Numeric imports\n",
    "import pandas as pd\n",
    "import numpy as np\n",
    "\n",
    "# File I/O\n",
    "from pathlib import Path\n",
    "import csv, json, openpyxl\n",
    "\n",
    "# Typing and Subclassing\n",
    "from typing import Any, Callable, ClassVar, Generator, Iterable, Optional, Union\n",
    "from dataclasses import dataclass, field\n",
    "from abc import ABC, abstractmethod, abstractproperty\n",
    "from openmm.unit import Unit, Quantity\n",
    "\n",
    "# Cheminformatics\n",
    "from rdkit import Chem\n",
    "from rdkit.Chem import rdChemReactions\n",
    "\n",
    "from openff.toolkit import ForceField\n",
    "from openff.toolkit.topology import Topology, Molecule\n",
    "\n",
    "# Static Paths\n",
    "RAW_DATA_PATH  = Path('raw_monomer_data')\n",
    "PROC_DATA_PATH = Path('processed_monomer_data')\n",
    "RXN_FILES_PATH = Path('rxn_smarts')\n",
    "MONO_INFO_DIR  = Path('monomer_files')"
   ]
  },
  {
   "cell_type": "markdown",
   "metadata": {},
   "source": [
    "# File and chemistry type definitions"
   ]
  },
  {
   "cell_type": "code",
   "execution_count": null,
   "metadata": {},
   "outputs": [],
   "source": [
    "pdb_path = Path('pdb_files')\n",
    "pdb_path.mkdir(exist_ok=True)\n",
    "\n",
    "coll_path = Path('Collections')\n",
    "coll_path.mkdir(exist_ok=True)\n",
    "\n",
    "lammps_path = Path('LAMMPS')\n",
    "lammps_path.mkdir(exist_ok=True)\n",
    "\n",
    "omm_path = Path('OpenMM')\n",
    "omm_path.mkdir(exist_ok=True)"
   ]
  },
  {
   "cell_type": "code",
   "execution_count": null,
   "metadata": {},
   "outputs": [],
   "source": [
    "# defining reacting functional groups\n",
    "reaction_pairs = {\n",
    "    'NIPU' : ('cyclocarbonate', 'amine'),\n",
    "    'urethane' : ('isocyanate', 'hydroxyl')\n",
    "}\n",
    "# chemistries = ('urethane', 'NIPU')\n",
    "chemistries = [i for i in reaction_pairs.keys()]"
   ]
  },
  {
   "cell_type": "markdown",
   "metadata": {},
   "source": [
    "# Collating urethanes into collections and generating Interchange files"
   ]
  },
  {
   "cell_type": "markdown",
   "metadata": {},
   "source": [
    "## Saving topologies to single location"
   ]
  },
  {
   "cell_type": "code",
   "execution_count": null,
   "metadata": {},
   "outputs": [],
   "source": [
    "from tqdm.notebook import tqdm\n",
    "from polysaccharide.charging.application import MolCharger\n",
    "\n",
    "\n",
    "chg_method = 'Espaloma_AM1BCC'\n",
    "\n",
    "topo_dir = Path('Topologies')\n",
    "topo_dir.mkdir(exist_ok=True)\n",
    "\n",
    "failed_topo  = defaultdict(lambda : defaultdict(list))\n",
    "for chemistry in chemistries:\n",
    "    chem_path = coll_path / chemistry\n",
    "    chem_dir = topo_dir / chemistry\n",
    "    chem_dir.mkdir(exist_ok=True)\n",
    "\n",
    "    mgr = PolymerManager(chem_path)\n",
    "    for mol_name, polymer in ( progress := tqdm(mgr.polymers.items()) ):\n",
    "        progress.set_postfix_str(f'{chemistry} : {mol_name}')\n",
    "        try:\n",
    "            chgr = MolCharger.subclass_registry[chg_method]()\n",
    "            polymer.assert_charges_for(chgr, strict=True, return_cmol=False)\n",
    "\n",
    "            sdf_path = polymer.structure_files_chgd[chg_method]\n",
    "            cmol = polymer.charged_offmol_from_sdf(chg_method)\n",
    "            cmol.to_file(str(chem_dir / f'{mol_name}.sdf'), file_format='SDF')\n",
    "\n",
    "        except AttributeError as a:\n",
    "            print(a)\n",
    "\n",
    "        except Exception as e:\n",
    "            print(e)\n",
    "            failed_topo[chemistry][e.__class__.__name__].append(mol_name)"
   ]
  },
  {
   "cell_type": "markdown",
   "metadata": {},
   "source": [
    "## Generating Interchange dict"
   ]
  },
  {
   "cell_type": "code",
   "execution_count": null,
   "metadata": {},
   "outputs": [],
   "source": [
    "from openforcefields.openforcefields import get_forcefield_dirs_paths\n",
    "\n",
    "# specify forcefield\n",
    "OPENFF_DIR = Path(get_forcefield_dirs_paths()[0])\n",
    "\n",
    "# ff_name = 'openff-2.0.0.offxml'\n",
    "ff_name = 'openff_unconstrained-2.0.0.offxml'\n",
    "ff_path = OPENFF_DIR / ff_name\n",
    "forcefield = ForceField(ff_path)\n",
    "\n",
    "# Interchange generation\n",
    "success_ics = defaultdict(defaultdict)\n",
    "failed_ics  = defaultdict(list)\n",
    "\n",
    "for chemistry in chemistries:\n",
    "    chem_dir = topo_dir / chemistry\n",
    "    progress = tqdm([path for path in chem_dir.iterdir()]) # unpack into list for progress bar\n",
    "    for sdf_path in progress:\n",
    "        mol_name = sdf_path.stem\n",
    "        progress.set_postfix_str(f'{chemistry} : {mol_name}')\n",
    "\n",
    "        offmol = Molecule.from_file(sdf_path)\n",
    "        offtop = Topology.from_molecules(offmol) \n",
    "\n",
    "        try:\n",
    "            ic = forcefield.create_interchange(offtop, charge_from_molecules=[offmol])\n",
    "            success_ics[chemistry][mol_name] = ic\n",
    "        except Exception as e:\n",
    "            print(e)\n",
    "            failed_ics[e.__class__.__name__].append(sdf_path)\n",
    "\n",
    "for err_name, err_list in failed_ics.items():\n",
    "    for sdf_path in err_list:\n",
    "        sdf_path.unlink() # delete dud files"
   ]
  },
  {
   "cell_type": "markdown",
   "metadata": {},
   "source": [
    "# Running OpenMM simulations"
   ]
  },
  {
   "cell_type": "markdown",
   "metadata": {},
   "source": [
    "## Defining utility functions"
   ]
  },
  {
   "cell_type": "code",
   "execution_count": null,
   "metadata": {},
   "outputs": [],
   "source": [
    "from openmm import XmlSerializer\n",
    "from openmm import System, Context, State\n",
    "from openmm import Integrator, Force\n",
    "from openmm.app import Simulation\n",
    "from openmm.unit import nanometer\n",
    "\n",
    "from openff.interchange import Interchange\n",
    "from openff.units import unit as offunit\n",
    "\n",
    "from polysaccharide.simulation.ensemble import EnsembleSimulationFactory\n",
    "from polysaccharide.simulation.records import SimulationParameters\n",
    "\n",
    "DEFAULT_STATE_PARAMS : dict[str, bool] = {\n",
    "    'getPositions'  : True,\n",
    "    'getVelocities' : True,\n",
    "    'getForces'     : True,\n",
    "    'getEnergy'     : True,\n",
    "    'getParameters' : True,\n",
    "    'getParameterDerivatives' : False,\n",
    "    'getIntegratorParameters' : False\n",
    "}\n",
    "\n",
    "\n",
    "def serialize_state_and_sys(sim : Simulation, out_dir : Path, out_name : str, state_params : dict[str, bool]=DEFAULT_STATE_PARAMS) -> None:\n",
    "    '''For saving State and System info of a Simulation to disc'''\n",
    "    sim_dict = {\n",
    "        'system' : sim.system,\n",
    "        'state' : sim.context.getState(**state_params)\n",
    "    }\n",
    "    \n",
    "    for affix, save_data in sim_dict.items():\n",
    "        save_path = out_dir / f'{out_name}_{affix}.xml'\n",
    "        save_path.touch()\n",
    "\n",
    "        with save_path.open('w') as file:\n",
    "            file.write( XmlSerializer.serialize(save_data) )\n",
    "\n",
    "def apply_state_to_context(state : State, context : Context) -> None:\n",
    "    '''For applying saved State data to an existing OpenMM Simulation'''\n",
    "    context.setPeriodicBoxVectors(*state.getPeriodicBoxVectors())\n",
    "    context.setPositions(state.getPositions())\n",
    "    context.setVelocities(state.getVelocities())\n",
    "    context.setTime(state.getTime())\n",
    "\n",
    "    context.reinitialize(preserveState=True)    \n",
    "\n",
    "def load_openmm_system(sys_path : Path, extra_forces : Optional[Union[Force, Iterable[Force]]]=None, sep_force_grps : bool=True, remove_constrs : bool=False) -> System:\n",
    "    '''Load and configure a serialized OpenMM system, with optional additional parameters'''\n",
    "    assert(sys_path.suffix == '.xml')\n",
    "    with sys_path.open('r') as file:\n",
    "        ommsys = XmlSerializer.deserialize(file.read())\n",
    "\n",
    "    if extra_forces: # deliberately sparse to handle both Nonetype and empty list\n",
    "        for force in extra_forces: \n",
    "            ommsys.addForce(force)\n",
    "\n",
    "    if sep_force_grps:\n",
    "        for i, force in enumerate(ommsys.getForces()):\n",
    "            force.setForceGroup(i)\n",
    "\n",
    "    if remove_constrs:\n",
    "        for i in range(ommsys.getNumConstraints())[::-1]: # need to remove in reverse order to avoid having prior constraints \"fall back down\"\n",
    "            ommsys.removeConstraint(i)\n",
    "\n",
    "    return ommsys\n",
    "\n",
    "def create_simulation2(interchange : Interchange, integrator : Integrator, forces : Optional[Iterable[Force]]=None,\n",
    "                        sep_force_grps : bool=True, remove_constrs : bool=True, combine_nonbonded_forces : bool=True) -> Simulation:\n",
    "    '''Specifies configuration for an OpenMM Simulation - Interchange load alows many routes for creation'''\n",
    "    openmm_sys = interchange.to_openmm(combine_nonbonded_forces=combine_nonbonded_forces) \n",
    "    openmm_top = interchange.topology.to_openmm()\n",
    "    openmm_pos = interchange.positions.m_as(offunit.nanometer) * nanometer\n",
    "\n",
    "    if forces: # deliberately sparse to handle both Nonetype and empty list\n",
    "        for force in forces: \n",
    "            openmm_sys.addForce(force)\n",
    "\n",
    "    if sep_force_grps:\n",
    "        for i, force in enumerate(openmm_sys.getForces()):\n",
    "            force.setForceGroup(i)\n",
    "\n",
    "    if remove_constrs:\n",
    "        for i in range(openmm_sys.getNumConstraints())[::-1]: # need to remove in reverse order to avoid having prior constraints \"fall back down\"\n",
    "            openmm_sys.removeConstraint(i)\n",
    "\n",
    "    simulation = Simulation(openmm_top, openmm_sys, integrator)\n",
    "    simulation.context.setPositions(openmm_pos)\n",
    "\n",
    "    return simulation\n",
    "\n",
    "def openmm_sim_from_files(top_file : Path, sys_file : Path, state_file : Path, sim_params : SimulationParameters, sep_force_grps : bool=True, remove_constrs : bool=False, box_vectors : Optional[np.ndarray]=None) -> Simulation:\n",
    "    '''Load an OpenMM simulation object from serialized Topology, System, and State'''\n",
    "    offmol = Molecule.from_file(top_file)\n",
    "    offtop = Topology.from_molecules(offmol)\n",
    "    if box_vectors is not None:\n",
    "        offtop.box_vectors = box_vectors\n",
    "    ommtop = offtop.to_openmm()\n",
    "\n",
    "\n",
    "    # define ensemble-specific forces and Integrator\n",
    "    ens_fac = EnsembleSimulationFactory.subclass_registry[sim_params.ensemble.upper()]()\n",
    "    integrator = ens_fac.integrator(sim_params)\n",
    "    forces     = ens_fac.forces(    sim_params)\n",
    "\n",
    "    # load and configure System\n",
    "    ommsys = load_openmm_system(sys_file, extra_forces=forces, sep_force_grps=sep_force_grps, remove_constrs=remove_constrs)\n",
    "\n",
    "    # putting it all together into a Simulation\n",
    "    return Simulation(\n",
    "        topology=ommtop,\n",
    "        system=ommsys,\n",
    "        integrator=integrator,\n",
    "        state=state_file\n",
    "    )\n",
    "\n",
    "# load and apply State\n",
    "# with state_file.open('r') as file:\n",
    "#     ommstate = XmlSerializer.deserialize(file.read())\n",
    "# apply_state_to_context(ommstate, sim.context)"
   ]
  },
  {
   "cell_type": "markdown",
   "metadata": {},
   "source": [
    "## Manually create OpenMM sims from Interchange"
   ]
  },
  {
   "cell_type": "code",
   "execution_count": null,
   "metadata": {},
   "outputs": [],
   "source": [
    "# specifying simulation and ensemble parameters\n",
    "from openmm.app import Simulation\n",
    "from openmm import NonbondedForce, CustomNonbondedForce\n",
    "from openmm import MonteCarloBarostat, LangevinMiddleIntegrator\n",
    "\n",
    "from openmm.unit import atmosphere, kelvin\n",
    "from openmm.unit import femtosecond, picosecond\n",
    "from openff.units import unit as offunit\n",
    "\n",
    "# Box sizes\n",
    "BOX_VECS = np.eye(3) * 10 * nanometer\n",
    "\n",
    "# Long-range parameters\n",
    "CUTOFF = 2.0 * nanometer\n",
    "# CUTOFF_METHOD = NonbondedForce.NoCutoff\n",
    "# CUTOFF_METHOD = NonbondedForce.CutoffNonPeriodic\n",
    "CUTOFF_METHOD = NonbondedForce.CutoffPeriodic\n",
    "\n",
    "DISPERSION = False\n",
    "SWITCHING  = False\n",
    "\n",
    "# Thermodynamic/integrator parameters\n",
    "T = 300*kelvin\n",
    "P = 1*atmosphere\n",
    "\n",
    "timestep = 2*femtosecond\n",
    "friction = 1*picosecond**-1\n",
    "\n",
    "# ======================================\n",
    "\n",
    "force_names = (\n",
    "    'vdW pairwise',\n",
    "    'Electrostatic',\n",
    "    '1-4 LJ',\n",
    "    '1-4 Coulomb',\n",
    "    'Torsion',\n",
    "    'Angle',\n",
    "    'Bond'\n",
    ")\n",
    "\n",
    "# looping over all urethanes\n",
    "omm_sims = defaultdict(defaultdict)\n",
    "for chemistry, ic_dict in success_ics.items():\n",
    "    for mol_name, interchange in (progress := tqdm(ic_dict.items())):\n",
    "        progress.set_postfix_str(f'{chemistry} : {mol_name}')\n",
    "        \n",
    "        # specifying thermo/baro to determine ensemble\n",
    "        integrator = LangevinMiddleIntegrator(T, friction, timestep)\n",
    "        # extra_forces = [MonteCarloBarostat(P, T, baro_freq)]\n",
    "        extra_forces = None\n",
    "\n",
    "        # loading OpenMM sim components from Interchange\n",
    "        omm_top = interchange.topology.to_openmm()\n",
    "        omm_sys = interchange.to_openmm(combine_nonbonded_forces=False)\n",
    "        omm_pos = interchange.positions.m_as(offunit.nanometer)\n",
    "\n",
    "        ## Setting box vectors for periodic forces\n",
    "        omm_top.setPeriodicBoxVectors(BOX_VECS)\n",
    "        omm_sys.setDefaultPeriodicBoxVectors(*BOX_VECS)\n",
    "\n",
    "        # configuring bound Force objects\n",
    "        if extra_forces:\n",
    "            for force in extra_forces:\n",
    "                omm_sys.addForce(force)\n",
    "\n",
    "        ## number all forces into separate force groups for separability\n",
    "        for i, force in enumerate(omm_sys.getForces()):\n",
    "            force.setForceGroup(i)\n",
    "\n",
    "        ## Add labels to default forces\n",
    "        for force, name in zip(omm_sys.getForces(), force_names):\n",
    "            force.setName(name)\n",
    "\n",
    "        ## reconfiguring non-bonded forces\n",
    "        ### Custom nonbonded\n",
    "        nonbond_custom = omm_sys.getForce(0)\n",
    "        assert(isinstance(nonbond_custom, CustomNonbondedForce))\n",
    "\n",
    "        nonbond_custom.setCutoffDistance(CUTOFF)\n",
    "        nonbond_custom.setUseSwitchingFunction(SWITCHING)\n",
    "        nonbond_custom.setNonbondedMethod(CUTOFF_METHOD)\n",
    "        nonbond_custom.setUseLongRangeCorrection(DISPERSION)\n",
    " \n",
    "        ### Default nonbonded\n",
    "        nonbond = omm_sys.getForce(1)\n",
    "        assert(isinstance(nonbond, NonbondedForce))\n",
    "\n",
    "        nonbond.setCutoffDistance(CUTOFF)\n",
    "        nonbond.setNonbondedMethod(CUTOFF_METHOD)\n",
    "        nonbond.setUseSwitchingFunction(SWITCHING)\n",
    "        nonbond.setUseDispersionCorrection(DISPERSION)\n",
    "\n",
    "        # create and register simulation\n",
    "        sim = Simulation(omm_top, omm_sys, integrator)\n",
    "        sim.context.setPositions(omm_pos)\n",
    "        omm_sims[chemistry][mol_name] = sim"
   ]
  },
  {
   "cell_type": "markdown",
   "metadata": {},
   "source": [
    "## Serialize OpenMM simulations to file"
   ]
  },
  {
   "cell_type": "code",
   "execution_count": null,
   "metadata": {},
   "outputs": [],
   "source": [
    "# specifying simulation and ensemble parameters\n",
    "omm_dir = Path('OpenMM_newest')\n",
    "omm_dir.mkdir(exist_ok=True)\n",
    "\n",
    "# looping over all urethanes\n",
    "for chemistry, sim_dict in omm_sims.items():\n",
    "    chem_dir = omm_dir / chemistry\n",
    "    chem_dir.mkdir(exist_ok=True)\n",
    "\n",
    "    for mol_name, sim in (progress := tqdm(sim_dict.items())):\n",
    "        progress.set_postfix_str(f'{chemistry} : {mol_name}')\n",
    "        interchange = success_ics[chemistry][mol_name]\n",
    "\n",
    "        # creating directories\n",
    "        mol_dir = chem_dir / mol_name \n",
    "        mol_dir.mkdir(exist_ok=True)\n",
    "\n",
    "        # serialize Topology, System, and State for reloading\n",
    "        sdf_out_path = mol_dir / f'{mol_name}_topology.sdf'\n",
    "        sdf_out_path.touch()\n",
    "        for mol in interchange.topology.molecules: # use OpenFF format for saving Molecules (much more convenient to work with)\n",
    "            mol.to_file(str(sdf_out_path), file_format='SDF')\n",
    "        serialize_state_and_sys(sim, out_dir=mol_dir, out_name=mol_name)"
   ]
  },
  {
   "cell_type": "markdown",
   "metadata": {},
   "source": [
    "## Loading simulations from file"
   ]
  },
  {
   "cell_type": "code",
   "execution_count": null,
   "metadata": {},
   "outputs": [],
   "source": [
    "from polysaccharide.simulation.records import SimulationParameters\n",
    "\n",
    "\n",
    "CUTOFF = 2.0 * nanometer\n",
    "BOX_VECS = np.eye(3) * 10 * nanometer\n",
    "\n",
    "# parameters\n",
    "sep_force_grps : bool = True\n",
    "remove_constrs : bool = False\n",
    "\n",
    "# paths\n",
    "# omm_dir = Path('OpenMM')\n",
    "omm_dir = Path('OpenMM_unconstrained')\n",
    "sp_path = Path('debug_sim_NVT.json')\n",
    "\n",
    "# iterate over serialized directory tree and load\n",
    "sim_params = SimulationParameters.from_file(sp_path)\n",
    "\n",
    "omm_sims = defaultdict(defaultdict)\n",
    "for subdir in omm_dir.iterdir():\n",
    "    if subdir.is_dir():\n",
    "        chemistry = subdir.name\n",
    "        for mol_dir in subdir.iterdir():\n",
    "            mol_name = mol_dir.name\n",
    "\n",
    "            state_file = mol_dir / f'{mol_name}_state.xml'\n",
    "            sys_file   = mol_dir / f'{mol_name}_system.xml'\n",
    "            top_file   = mol_dir / f'{mol_name}_topology.sdf'\n",
    "\n",
    "            sim = openmm_sim_from_files(\n",
    "                top_file,\n",
    "                sys_file,\n",
    "                state_file,\n",
    "                sim_params,\n",
    "                sep_force_grps=sep_force_grps,\n",
    "                remove_constrs=remove_constrs,\n",
    "            )\n",
    "\n",
    "            omm_sims[chemistry][mol_name] = sim"
   ]
  },
  {
   "cell_type": "markdown",
   "metadata": {},
   "source": [
    "## Evaluating starting structure energies"
   ]
  },
  {
   "cell_type": "code",
   "execution_count": null,
   "metadata": {},
   "outputs": [],
   "source": [
    "from openmm.unit import kilojoule_per_mole, kilocalorie_per_mole\n",
    "\n",
    "\n",
    "NULL_ENERGY = 0.0*kilojoule_per_mole\n",
    "PRECISION : int = 4\n",
    "\n",
    "data_dicts = []\n",
    "for chemistry, mol_dict in omm_sims.items():\n",
    "    for mol_name, sim in (progress := tqdm(mol_dict.items())):\n",
    "        progress.set_postfix_str(f'{chemistry} : {mol_name}')\n",
    "        \n",
    "        # extract total and component energies from OpenMM force groups\n",
    "        data_dict = {\n",
    "            'Chemistry' : chemistry,\n",
    "            'Molecule'  : mol_name\n",
    "        }\n",
    "        omm_energies = {}\n",
    "\n",
    "        ## Total Potential\n",
    "        overall_state = sim.context.getState(getEnergy=True) # get total potential energy\n",
    "        PE = overall_state.getPotentialEnergy()\n",
    "        omm_energies['Potential'] = PE\n",
    "\n",
    "        ## Total Kinetic (to verify no integration is being done)\n",
    "        KE = overall_state.getKineticEnergy()\n",
    "        omm_energies['Kinetic'] = KE\n",
    "        assert(KE == NULL_ENERGY)\n",
    "\n",
    "        ## Individual force contributions\n",
    "        for i, force in enumerate(sim.system.getForces()):\n",
    "            state = sim.context.getState(getEnergy=True, groups={i})\n",
    "            omm_energies[force.getName()] = state.getPotentialEnergy()\n",
    "\n",
    "        # reformat to desired units and precision\n",
    "        omm_energies_kcal = {}\n",
    "        for contrib_name, energy_kj in omm_energies.items():\n",
    "            energy_kcal = energy_kj.in_units_of(kilocalorie_per_mole)\n",
    "            omm_energies_kcal[f'{contrib_name} ({energy_kcal.unit.get_symbol()})'] = round(energy_kcal._value, PRECISION)\n",
    "\n",
    "        # compile data\n",
    "        data_dict = {**data_dict, **omm_energies_kcal}\n",
    "        data_dicts.append(data_dict)\n",
    "\n",
    "omm_table = pd.DataFrame.from_records(data_dicts)\n",
    "omm_table.sort_values('Molecule', inplace=True)\n",
    "omm_table.set_index(['Chemistry', 'Molecule'], inplace=True)\n",
    "omm_table.to_csv(omm_dir / f'{omm_dir.name}_PEs.csv')"
   ]
  },
  {
   "cell_type": "markdown",
   "metadata": {},
   "source": [
    "# Comparing energies"
   ]
  },
  {
   "cell_type": "code",
   "execution_count": null,
   "metadata": {},
   "outputs": [],
   "source": [
    "pd.options.display.float_format = '{:.4f}'.format # disable scientific notation\n",
    "\n",
    "omm_path = Path('OpenMM_newest/OpenMM_newest_PEs.csv')\n",
    "omm_table = pd.read_csv(omm_path, index_col=(0,1))\n",
    "omm_table = omm_table.sort_index(axis=1)\n",
    "\n",
    "lmp_path = Path('LAMMPS/LAMMPS_PEs.csv')\n",
    "lmp_table = pd.read_csv(lmp_path, index_col=(0,1))\n",
    "lmp_table['Torsion (kcal/mol)'] = lmp_table['Dihedral (kcal/mol)'] + lmp_table['Impropers (kcal/mol)']\n",
    "\n",
    "lmp_table.drop(columns=['Dihedral (kcal/mol)', 'Impropers (kcal/mol)'], inplace=True)\n",
    "lmp_table.drop(columns=['Ranged k-space (kcal/mol)', 'vdW ranged (kcal/mol)', 'Total (kcal/mol)', 'Pairwise (kcal/mol)'], inplace=True)\n",
    "lmp_table = lmp_table.sort_index(axis=1)"
   ]
  },
  {
   "cell_type": "code",
   "execution_count": null,
   "metadata": {},
   "outputs": [],
   "source": [
    "omm_table"
   ]
  },
  {
   "cell_type": "code",
   "execution_count": null,
   "metadata": {},
   "outputs": [],
   "source": [
    "lmp_table"
   ]
  },
  {
   "cell_type": "code",
   "execution_count": null,
   "metadata": {},
   "outputs": [],
   "source": [
    "common_cols = ['Angle (kcal/mol)', 'Bond (kcal/mol)', 'Torsion (kcal/mol)', 'Kinetic (kcal/mol)']\n",
    "\n",
    "omm_redux = omm_table.drop(columns=common_cols)\n",
    "lmp_redux = lmp_table.drop(columns=common_cols)"
   ]
  },
  {
   "cell_type": "code",
   "execution_count": null,
   "metadata": {},
   "outputs": [],
   "source": [
    "omm_table[common_cols] - lmp_table[common_cols]"
   ]
  },
  {
   "cell_type": "code",
   "execution_count": null,
   "metadata": {},
   "outputs": [],
   "source": [
    "omm_redux"
   ]
  },
  {
   "cell_type": "code",
   "execution_count": null,
   "metadata": {},
   "outputs": [],
   "source": [
    "lmp_redux"
   ]
  },
  {
   "cell_type": "code",
   "execution_count": null,
   "metadata": {},
   "outputs": [],
   "source": [
    "compare_cols = ['vdW pairwise (kcal/mol)', 'Potential (kcal/mol)']\n",
    "\n",
    "(omm_redux[compare_cols] - lmp_redux[compare_cols]) / omm_redux[compare_cols]*100"
   ]
  },
  {
   "cell_type": "code",
   "execution_count": null,
   "metadata": {},
   "outputs": [],
   "source": [
    "omm_redux['1-4 Coulomb (kcal/mol)'] + omm_redux['Electrostatic (kcal/mol)'] - lmp_redux['Coulomb (kcal/mol)']"
   ]
  },
  {
   "cell_type": "markdown",
   "metadata": {},
   "source": [
    "## Comparing energies from constrained and unconstrained FFs"
   ]
  },
  {
   "cell_type": "code",
   "execution_count": null,
   "metadata": {},
   "outputs": [],
   "source": [
    "e_tables = {\n",
    "    platform : pd.read_csv(Path(platform) / f'{platform}_PEs.csv', index_col=(0, 1))\n",
    "        for platform in ('LAMMPS', 'OpenMM', 'OpenMM_unconstrained')\n",
    "}"
   ]
  },
  {
   "cell_type": "code",
   "execution_count": null,
   "metadata": {},
   "outputs": [],
   "source": [
    "cols = [\n",
    "    'Nonbonded (kcal/mol)',\n",
    "    'Bond (kcal/mol)',\n",
    "    'Angle (kcal/mol)',\n",
    "    'Torsion (kcal/mol)',\n",
    "    'Potential (kcal/mol)',\n",
    "    'Kinetic (kcal/mol)',\n",
    "]\n",
    "\n",
    "e_tables.pop('OpenMM')\n",
    "for src, tab in e_tables.items():\n",
    "    print(src)\n",
    "    display(tab[cols])"
   ]
  },
  {
   "cell_type": "code",
   "execution_count": null,
   "metadata": {},
   "outputs": [],
   "source": [
    "diff = e_tables['OpenMM_unconstrained'] - e_tables['LAMMPS']\n",
    "diff"
   ]
  },
  {
   "cell_type": "code",
   "execution_count": null,
   "metadata": {},
   "outputs": [],
   "source": [
    "diff['Torsion (kcal/mol)'] - e_tables['LAMMPS']['Impropers (kcal/mol)']"
   ]
  },
  {
   "cell_type": "code",
   "execution_count": null,
   "metadata": {},
   "outputs": [],
   "source": [
    "df_unconstr.loc[[('urethane', 'urethane_0'), ('urethane', 'urethane_1'), ('urethane', 'urethane_41')]]"
   ]
  },
  {
   "cell_type": "code",
   "execution_count": null,
   "metadata": {},
   "outputs": [],
   "source": [
    "nonbond = sim.system.getForce(0)\n",
    "nonbond.getCutoffDistance()"
   ]
  },
  {
   "cell_type": "code",
   "execution_count": null,
   "metadata": {},
   "outputs": [],
   "source": [
    "nonbond.getName()"
   ]
  },
  {
   "cell_type": "code",
   "execution_count": null,
   "metadata": {},
   "outputs": [],
   "source": [
    "data_dicts = []\n",
    "for chemistry, mol_dict in omm_sims.items():\n",
    "    print(chemistry)\n",
    "    for mol_name, sim in mol_dict.items():\n",
    "        print(mol_name)\n",
    "        nonbond = sim.system.getForce(0)\n",
    "        assert(nonbond.getName() == 'NonbondedForce')\n",
    "        print(nonbond.getCutoffDistance())"
   ]
  },
  {
   "cell_type": "code",
   "execution_count": null,
   "metadata": {},
   "outputs": [],
   "source": [
    "import matplotlib.pyplot as plt\n",
    "\n",
    "bond_diffs = e_diff['HarmonicBond (kcal/mol)'].to_numpy()\n",
    "plt.hist(bond_diffs, bins=20)\n",
    "plt.xlim(bond_diffs.min(), bond_diffs.max())\n",
    "plt.xlabel(f'{general.GREEK_UPPER[\"delta\"]}E_bond const vs unconst')\n",
    "plt.ylabel('Count')"
   ]
  },
  {
   "cell_type": "markdown",
   "metadata": {},
   "source": [
    "## Comparing ParmEd energy decomposition to native OpenMM force-group-based decomposition"
   ]
  },
  {
   "cell_type": "code",
   "execution_count": null,
   "metadata": {},
   "outputs": [],
   "source": [
    "import parmed\n",
    "from openmm.openmm import Force\n",
    "\n",
    "NULL_ENERGY = 0.0*kilojoule_per_mole\n",
    "\n",
    "sim = omm_sims['urethane']['urethane_41']\n",
    "# assign and initialize unique force groups for simulation\n",
    "for i, force in enumerate(sim.system.getForces()):\n",
    "    force.setForceGroup(i)\n",
    "    # print(force.getName(), force.getForceGroup())\n",
    "sim.context.reinitialize(preserveState=True) # need to reinitialize to get force labelling changes to \"stick\"\n",
    "\n",
    "# energies from OpenMM force groups\n",
    "print('\\nOpenMM:')\n",
    "print('='*30)\n",
    "omm_energies = {}\n",
    "\n",
    "## extract total energies for state\n",
    "overall_state = sim.context.getState(getEnergy=True) # get total potential energy\n",
    "PE = overall_state.getPotentialEnergy()\n",
    "omm_energies['Total Potential Energy'] = PE\n",
    "\n",
    "KE = overall_state.getKineticEnergy()\n",
    "assert(KE == NULL_ENERGY)\n",
    "\n",
    "for i, force in enumerate(sim.system.getForces()):\n",
    "    state = sim.context.getState(getEnergy=True, groups={i})\n",
    "    force_name = force.getName().removesuffix('Force')\n",
    "    pe = state.getPotentialEnergy()\n",
    "\n",
    "    omm_energies[force_name] = pe\n",
    "    print(f'{force_name} : {pe}')\n",
    "\n",
    "## converting name to match with ParmEd for comparison\n",
    "namemap = {\n",
    "    'Nonbonded' : 'bond',\n",
    "    'PeriodicTorsion' : 'angle',\n",
    "    'HarmonicAngle' : 'dihedral',\n",
    "    'HarmonicBond' : 'urey_bradley',\n",
    "    'Total Potential Energy' : 'total'\n",
    "}\n",
    "compat_omm_energies = {\n",
    "    namemap[contrib] : energy\n",
    "        for contrib, energy in omm_energies.items()\n",
    "}\n",
    "\n",
    "total = sum(omm_energies.values(), start=NULL_ENERGY) # need \"seed\" to have Quantity datatype to sum\n",
    "print(f'{general.GREEK_UPPER[\"delta\"]}E_contrib: ', PE - total)\n",
    "\n",
    "# ParmEd energy decomposition\n",
    "print('\\nParmEd:')\n",
    "print('='*30)\n",
    "parm_energies = {}\n",
    "parm_struct = parmed.openmm.load_topology(sim.topology, sim.system)\n",
    "for contrib, energy_val in parmed.openmm.energy_decomposition(parm_struct, sim.context).items():\n",
    "    parm_energies[contrib] = energy = energy_val*kilocalorie_per_mole # assign proper units\n",
    "    print(contrib, energy.in_units_of(kilojoule_per_mole))"
   ]
  },
  {
   "cell_type": "markdown",
   "metadata": {},
   "source": [
    "## Minimizing and running single integration step, then evaluating energies from reporter"
   ]
  },
  {
   "cell_type": "code",
   "execution_count": null,
   "metadata": {},
   "outputs": [],
   "source": [
    "import re\n",
    "from openmm.unit import kilojoule_per_mole, kilocalorie_per_mole\n",
    "\n",
    "from polysaccharide.simulation import preparation\n",
    "from polysaccharide.simulation.records import SimulationParameters\n",
    "from polysaccharide.simulation.ensemble import EnsembleSimulationFactory\n",
    "\n",
    "STRIP_BEFORE_PARENS = re.compile(r'(.*?)(?=\\s*\\(.*\\))')\n",
    "PRECISION = 3 # number of decimals to round reported energies to\n",
    "\n",
    "omm_dir = Path('OpenMM_no_sim')\n",
    "omm_dir.mkdir(exist_ok=True)\n",
    "\n",
    "\n",
    "# selecting simulation parameters and ensemble\n",
    "sp_path = Path('debug_sim_NVT.json')\n",
    "sim_params = SimulationParameters.from_file(sp_path)\n",
    "ens_fac = EnsembleSimulationFactory.subclass_registry[sim_params.ensemble.upper()]()\n",
    "\n",
    "data_by_mol = []\n",
    "omm_sims = defaultdict(defaultdict)\n",
    "# looping over all urethanes\n",
    "for chemistry, ic_dict in success_ics.items():\n",
    "    chem_dir = omm_dir / chemistry\n",
    "    chem_dir.mkdir(exist_ok=True)\n",
    "\n",
    "    for mol_name, interchange in ic_dict.items():\n",
    "        data_dict = {\n",
    "            'Chemistry' : chemistry,\n",
    "            'Molecule'  : mol_name\n",
    "        }\n",
    "\n",
    "        # creating directories\n",
    "        mol_dir = chem_dir / mol_name \n",
    "        mol_dir.mkdir(exist_ok=True)\n",
    "\n",
    "        sim_file_dir = mol_dir / f'{mol_name}_sim'\n",
    "        sim_file_dir.mkdir(exist_ok=True, parents=True)\n",
    "\n",
    "        # creating simulation and associated files\n",
    "        sim = ens_fac.create_simulation(interchange, sim_params)\n",
    "        sim_paths = preparation.prepare_simulation_paths(output_folder=sim_file_dir, output_name=mol_name, sim_params=sim_params)\n",
    "        reporters = preparation.prepare_simulation_reporters(sim_paths, sim_params)\n",
    "        preparation.config_simulation(sim, reporters, checkpoint_path=sim_paths.checkpoint)\n",
    "\n",
    "        # energy min and single-step integration\n",
    "        sim.minimizeEnergy()\n",
    "        sim.step(1)\n",
    "\n",
    "        # extracting energies\n",
    "\n",
    "        state_data = pd.read_csv(sim_paths.state_data)\n",
    "        energies = {}\n",
    "        for key in ('Potential Energy (kJ/mole)', 'Kinetic Energy (kJ/mole)'):\n",
    "            tag = re.search(STRIP_BEFORE_PARENS, key).group(0)\n",
    "            E_kj_val = state_data[key][0]\n",
    "            E_kj = E_kj_val * kilojoule_per_mole\n",
    "            E_kcal = E_kj.in_units_of(kilocalorie_per_mole)\n",
    "\n",
    "            for energy in (E_kj, E_kcal):\n",
    "                energies[f'{tag} ({energy.unit.get_symbol()})'] = energy._value\n",
    "        \n",
    "        data_dict.update(**energies)\n",
    "        data_by_mol.append(data_dict)\n",
    "\n",
    "# collate energies into DataFrame        \n",
    "df = pd.DataFrame.from_records(data_by_mol)\n",
    "df = df.sort_values('Molecule')\n",
    "\n",
    "# round energy values down to desired precision\n",
    "round_fn = lambda x : round(x, PRECISION)\n",
    "\n",
    "for col_name, col in df.items():\n",
    "    try:\n",
    "        df[col_name] = col.apply(round_fn) # attempt to round column and replace with rounded values\n",
    "    except TypeError:\n",
    "        pass\n",
    "\n",
    "# save energies to file\n",
    "energy_file = omm_dir / 'energies_1_step.csv'\n",
    "df.to_csv(energy_file, index=False)"
   ]
  },
  {
   "cell_type": "markdown",
   "metadata": {},
   "source": [
    "## Checking for successful residue covers of newly-generated PDB Topologies"
   ]
  },
  {
   "cell_type": "code",
   "execution_count": null,
   "metadata": {},
   "outputs": [],
   "source": [
    "chemistry = 'urethane'\n",
    "\n",
    "mgr = PolymerManager(coll_path / chemistry)\n",
    "mol_names = failed_interchanges[chemistry]['UnmatchedAtomsError']\n",
    "\n",
    "offmols = {\n",
    "    mol_name : mgr.polymers[mol_name].offmol_matched(strict=False)\n",
    "        for mol_name in mol_names\n",
    "}"
   ]
  },
  {
   "cell_type": "code",
   "execution_count": null,
   "metadata": {},
   "outputs": [],
   "source": [
    "sizes = {\n",
    "    mol_name : offmol.n_atoms\n",
    "        for mol_name, offmol in sorted(offmols.items(), key=lambda x : x[1].n_atoms)\n",
    "}"
   ]
  },
  {
   "cell_type": "code",
   "execution_count": null,
   "metadata": {},
   "outputs": [],
   "source": [
    "\n",
    "pdir = mgr.polymers['urethane_6']\n",
    "# pdir = mgr.polymers['NIPU_8']\n",
    "# pdir.offmol_matched(strict=True)\n",
    "\n",
    "for atom in offmol.atoms:\n",
    "    if not atom.metadata['already_matched']:\n",
    "        print(atom.metadata)"
   ]
  },
  {
   "cell_type": "code",
   "execution_count": null,
   "metadata": {},
   "outputs": [],
   "source": [
    "mgr = PolymerManager(coll_path / 'NIPU')\n",
    "\n",
    "offmols = {}\n",
    "unmatched = []\n",
    "for mol_name, polymer in mgr.polymers.items():\n",
    "    try:\n",
    "        offmols[mol_name] = polymer.offmol\n",
    "    except:\n",
    "        unmatched.append(mol_name)"
   ]
  },
  {
   "cell_type": "code",
   "execution_count": null,
   "metadata": {},
   "outputs": [],
   "source": [
    "for mol_name in unmatched:\n",
    "    print(mol_name)\n",
    "    polymer = mgr.polymers[mol_name]\n",
    "    offmol = polymer.offmol_matched(strict=False)\n",
    "    \n",
    "    for atom in offmol.atoms:\n",
    "        if not atom.metadata['already_matched']:\n",
    "            print('\\t', atom.metadata)"
   ]
  },
  {
   "cell_type": "markdown",
   "metadata": {},
   "source": [
    "# Experimenting with SDF files"
   ]
  },
  {
   "cell_type": "code",
   "execution_count": null,
   "metadata": {},
   "outputs": [],
   "source": [
    "benz = Chem.MolFromSmiles('C1ccccC=1')\n",
    "benz = Chem.AddHs(benz)\n",
    "benz.SetDoubleProp('stuff', 3.14)\n",
    "benz"
   ]
  },
  {
   "cell_type": "code",
   "execution_count": null,
   "metadata": {},
   "outputs": [],
   "source": [
    "block2k = Chem.MolToMolFile(benz, 'test_2k.sdf')\n",
    "block3k = Chem.MolToV3KMolFile(benz, 'test_3k.sdf')"
   ]
  },
  {
   "cell_type": "code",
   "execution_count": null,
   "metadata": {},
   "outputs": [],
   "source": [
    "block2kforce = Chem.MolToMolFile(benz, 'test_2k_force.sdf', forceV3000=True)"
   ]
  },
  {
   "cell_type": "code",
   "execution_count": null,
   "metadata": {},
   "outputs": [],
   "source": [
    "with Chem.SDWriter('test_sdw.sdf') as sdwriter:\n",
    "    sdwriter.SetForceV3000(True)\n",
    "    print(sdwriter.GetForceV3000())\n",
    "\n",
    "    sdwriter.write(benz)"
   ]
  },
  {
   "cell_type": "code",
   "execution_count": null,
   "metadata": {},
   "outputs": [],
   "source": [
    "with Chem.SDMolSupplier('sdf_testing/test_off_rd.sdf', sanitize=False) as suppl:\n",
    "    mols = [mol for mol in suppl]\n",
    "\n",
    "targ = mols[0]\n",
    "targ"
   ]
  },
  {
   "cell_type": "code",
   "execution_count": null,
   "metadata": {},
   "outputs": [],
   "source": [
    "omol = Molecule.from_rdkit(benz)\n",
    "omol.generate_conformers(n_conformers=1)\n",
    "omol.visualize(backend='nglview')"
   ]
  },
  {
   "cell_type": "code",
   "execution_count": null,
   "metadata": {},
   "outputs": [],
   "source": [
    "from polysaccharide import filetree\n",
    "from polysaccharide import TOOLKITS\n",
    "\n",
    "\n",
    "p = Path('sdf_testing/test_off_rd.sdf')\n",
    "tkwrap = TOOLKITS['The RDKit']\n",
    "\n",
    "omol.properties['series'] = (1,2,3)\n",
    "omol.to_file(\n",
    "    general.asstrpath(p),\n",
    "    file_format=filetree.dotless(p.suffix),\n",
    "    toolkit_registry=tkwrap\n",
    ")"
   ]
  },
  {
   "cell_type": "code",
   "execution_count": null,
   "metadata": {},
   "outputs": [],
   "source": [
    "omol_load = Molecule.from_file(\n",
    "    general.asstrpath(p),\n",
    "    file_format=filetree.dotless(p.suffix),\n",
    "    toolkit_registry=tkwrap\n",
    ")"
   ]
  },
  {
   "cell_type": "code",
   "execution_count": null,
   "metadata": {},
   "outputs": [],
   "source": []
  }
 ],
 "metadata": {
  "kernelspec": {
   "display_name": "openff-dev-updated",
   "language": "python",
   "name": "python3"
  },
  "language_info": {
   "codemirror_mode": {
    "name": "ipython",
    "version": 3
   },
   "file_extension": ".py",
   "mimetype": "text/x-python",
   "name": "python",
   "nbconvert_exporter": "python",
   "pygments_lexer": "ipython3",
   "version": "3.10.9"
  },
  "orig_nbformat": 4
 },
 "nbformat": 4,
 "nbformat_minor": 2
}
