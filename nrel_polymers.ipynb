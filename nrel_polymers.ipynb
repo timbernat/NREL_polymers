{
 "cells": [
  {
   "cell_type": "markdown",
   "metadata": {},
   "source": [
    "# Core Imports"
   ]
  },
  {
   "cell_type": "code",
   "execution_count": 24,
   "metadata": {},
   "outputs": [],
   "source": [
    "# Custom Imports\n",
    "from polysaccharide import general\n",
    "from polysaccharide.general import optional_in_place\n",
    "from polysaccharide.extratypes import ResidueSmarts\n",
    "\n",
    "from polysaccharide.molutils import reactions\n",
    "from polysaccharide.molutils.rdmol.rdtypes import *\n",
    "from polysaccharide.molutils.rdmol import rdcompare, rdconvert, rdkdraw, rdcompare, rdprops, rdbond, rdlabels\n",
    "\n",
    "from polysaccharide.polymer import monomer as monoutils\n",
    "from polysaccharide.polymer.monomer import MonomerInfo\n",
    "\n",
    "from polysaccharide.polymer import building\n",
    "import mbuild as mb\n",
    "\n",
    "# Generic Imports\n",
    "import re\n",
    "from functools import partial, cached_property\n",
    "from collections import defaultdict\n",
    "from itertools import combinations, chain\n",
    "from ast import literal_eval\n",
    "\n",
    "# Numeric imports\n",
    "import pandas as pd\n",
    "import numpy as np\n",
    "\n",
    "# File I/O\n",
    "from pathlib import Path\n",
    "import csv, json, openpyxl\n",
    "\n",
    "# Typing and Subclassing\n",
    "from typing import Any, Callable, ClassVar, Generator, Iterable, Optional, Union\n",
    "from dataclasses import dataclass, field\n",
    "from abc import ABC, abstractmethod, abstractproperty\n",
    "from openmm.unit import Unit, Quantity\n",
    "\n",
    "# Cheminformatics\n",
    "from rdkit import Chem\n",
    "from rdkit.Chem import rdChemReactions\n",
    "\n",
    "# Static Paths\n",
    "RAW_DATA_PATH  = Path('raw_monomer_data')\n",
    "PROC_DATA_PATH = Path('processed_monomer_data')\n",
    "RXN_FILES_PATH = Path('rxn_smarts')\n",
    "MONO_INFO_DIR  = Path('monomer_files')"
   ]
  },
  {
   "cell_type": "markdown",
   "metadata": {},
   "source": [
    "# Building PDB files from monomer fragments"
   ]
  },
  {
   "cell_type": "code",
   "execution_count": 25,
   "metadata": {},
   "outputs": [],
   "source": [
    "# defining reacting functional groups\n",
    "reaction_pairs = {\n",
    "    'NIPU' : ('cyclocarbonate', 'amine'),\n",
    "    'urethane' : ('isocyanate', 'hydroxyl')\n",
    "}"
   ]
  },
  {
   "cell_type": "code",
   "execution_count": 26,
   "metadata": {},
   "outputs": [
    {
     "name": "stderr",
     "output_type": "stream",
     "text": [
      "/home/timber/miniconda3/envs/openff-dev-updated/lib/python3.10/site-packages/mbuild/conversion.py:1736: UserWarning: The bond orders will be guessed using pybelOBMol.PerceviedBondOrders()\n",
      "  warn(\n"
     ]
    }
   ],
   "source": [
    "from polysaccharide.polymer.exceptions import SubstructMatchFailedError\n",
    "\n",
    "pdb_path = Path('pdb_files')\n",
    "pdb_path.mkdir(exist_ok=True)\n",
    "\n",
    "DOP = 10\n",
    "chemistries = ('urethane',)\n",
    "\n",
    "failed = defaultdict(defaultdict)\n",
    "match_failed = {}\n",
    "too_long = {}\n",
    "for chemistry in chemistries:\n",
    "    mono_src_dir = MONO_INFO_DIR / chemistry\n",
    "    pdb_out_dir = pdb_path / chemistry\n",
    "    pdb_out_dir.mkdir(exist_ok=True)\n",
    "\n",
    "    for mono_path in mono_src_dir.iterdir():\n",
    "        mono_info = MonomerInfo.from_file(mono_path)\n",
    "        mono_subset = {\n",
    "            resname : SMARTS\n",
    "                for resname, SMARTS in mono_info.SMARTS.items()\n",
    "                    if 'DIMER' not in resname # withdraw dimers\n",
    "        }\n",
    "\n",
    "        try:\n",
    "            polymer = building.build_linear_polymer(mono_subset, DOP=DOP, sequence='AB')  \n",
    "            savepath = pdb_out_dir / f'{mono_path.stem}.pdb'\n",
    "            polymer.save(general.asstrpath(savepath))\n",
    "        except SubstructMatchFailedError:\n",
    "            failed[chemistry]['match_failed'][mono_path.stem] = mono_info\n",
    "        except OSError:\n",
    "            failed[chemistry]['too_long'][mono_path.stem] = mono_info"
   ]
  },
  {
   "cell_type": "code",
   "execution_count": null,
   "metadata": {},
   "outputs": [],
   "source": [
    "def show(mono_info : MonomerInfo) -> None:\n",
    "    for resname, smarts in mono_info.SMARTS.items():\n",
    "        print(resname)\n",
    "        display(Chem.MolFromSmarts(smarts))\n",
    "\n",
    "mono_info = match_failed['urethane_1']\n",
    "show(mono_info)"
   ]
  },
  {
   "cell_type": "markdown",
   "metadata": {},
   "source": [
    "# Generating managed polymer collections "
   ]
  },
  {
   "cell_type": "code",
   "execution_count": 34,
   "metadata": {},
   "outputs": [],
   "source": [
    "from polysaccharide.polymer.management import PolymerManager\n",
    "\n",
    "coll_path = Path('Collections')\n",
    "coll_path.mkdir(exist_ok=True)\n",
    "\n",
    "for chemistry in chemistries:\n",
    "    chem_path = coll_path / chemistry\n",
    "    chem_path.mkdir(exist_ok=True)\n",
    "\n",
    "    mgr = PolymerManager(chem_path)\n",
    "    mgr.populate_collection(pdb_path / chemistry, MONO_INFO_DIR / chemistry)"
   ]
  },
  {
   "cell_type": "code",
   "execution_count": null,
   "metadata": {},
   "outputs": [],
   "source": []
  }
 ],
 "metadata": {
  "kernelspec": {
   "display_name": "openff-dev-updated",
   "language": "python",
   "name": "python3"
  },
  "language_info": {
   "codemirror_mode": {
    "name": "ipython",
    "version": 3
   },
   "file_extension": ".py",
   "mimetype": "text/x-python",
   "name": "python",
   "nbconvert_exporter": "python",
   "pygments_lexer": "ipython3",
   "version": "3.10.9"
  },
  "orig_nbformat": 4
 },
 "nbformat": 4,
 "nbformat_minor": 2
}
