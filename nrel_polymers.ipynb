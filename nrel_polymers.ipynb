{
 "cells": [
  {
   "cell_type": "markdown",
   "metadata": {},
   "source": [
    "# Core Imports"
   ]
  },
  {
   "cell_type": "code",
   "execution_count": 1,
   "metadata": {},
   "outputs": [
    {
     "name": "stderr",
     "output_type": "stream",
     "text": [
      "/home/timber/miniconda3/envs/openff-dev-updated/lib/python3.10/site-packages/numpy/core/getlimits.py:518: UserWarning: The value of the smallest subnormal for <class 'numpy.float64'> type is zero.\n",
      "  setattr(self, word, getattr(machar, word).flat[0])\n",
      "/home/timber/miniconda3/envs/openff-dev-updated/lib/python3.10/site-packages/numpy/core/getlimits.py:89: UserWarning: The value of the smallest subnormal for <class 'numpy.float64'> type is zero.\n",
      "  return self._float_to_str(self.smallest_subnormal)\n",
      "/home/timber/miniconda3/envs/openff-dev-updated/lib/python3.10/site-packages/numpy/core/getlimits.py:518: UserWarning: The value of the smallest subnormal for <class 'numpy.float32'> type is zero.\n",
      "  setattr(self, word, getattr(machar, word).flat[0])\n",
      "/home/timber/miniconda3/envs/openff-dev-updated/lib/python3.10/site-packages/numpy/core/getlimits.py:89: UserWarning: The value of the smallest subnormal for <class 'numpy.float32'> type is zero.\n",
      "  return self._float_to_str(self.smallest_subnormal)\n",
      "Warning on use of the timeseries module: If the inherent timescales of the system are long compared to those being analyzed, this statistical inefficiency may be an underestimate.  The estimate presumes the use of many statistically independent samples.  Tests should be performed to assess whether this condition is satisfied.   Be cautious in the interpretation of the data.\n",
      "WARNING:root:Warning: importing 'simtk.openmm' is deprecated.  Import 'openmm' instead.\n"
     ]
    }
   ],
   "source": [
    "# Custom Imports\n",
    "from polysaccharide import general\n",
    "from polysaccharide.general import optional_in_place\n",
    "from polysaccharide.extratypes import ResidueSmarts\n",
    "\n",
    "from polysaccharide.molutils import reactions\n",
    "from polysaccharide.molutils.rdmol.rdtypes import *\n",
    "from polysaccharide.molutils.rdmol import rdcompare, rdconvert, rdkdraw, rdcompare, rdprops, rdbond, rdlabels\n",
    "\n",
    "from polysaccharide.polymer import monomer as monoutils\n",
    "from polysaccharide.polymer.monomer import MonomerInfo\n",
    "from polysaccharide.polymer.management import PolymerManager\n",
    "\n",
    "from polysaccharide.polymer import building\n",
    "import mbuild as mb\n",
    "\n",
    "# Generic Imports\n",
    "import re\n",
    "from functools import partial, cached_property\n",
    "from collections import defaultdict\n",
    "from itertools import combinations, chain\n",
    "from ast import literal_eval\n",
    "\n",
    "# Numeric imports\n",
    "import pandas as pd\n",
    "import numpy as np\n",
    "\n",
    "# File I/O\n",
    "from pathlib import Path\n",
    "import csv, json, openpyxl\n",
    "\n",
    "# Typing and Subclassing\n",
    "from typing import Any, Callable, ClassVar, Generator, Iterable, Optional, Union\n",
    "from dataclasses import dataclass, field\n",
    "from abc import ABC, abstractmethod, abstractproperty\n",
    "from openmm.unit import Unit, Quantity\n",
    "\n",
    "# Cheminformatics\n",
    "from rdkit import Chem\n",
    "from rdkit.Chem import rdChemReactions\n",
    "\n",
    "from openff.toolkit import ForceField\n",
    "from openff.toolkit.topology import Topology, Molecule\n",
    "\n",
    "# Static Paths\n",
    "RAW_DATA_PATH  = Path('raw_monomer_data')\n",
    "PROC_DATA_PATH = Path('processed_monomer_data')\n",
    "RXN_FILES_PATH = Path('rxn_smarts')\n",
    "MONO_INFO_DIR  = Path('monomer_files')"
   ]
  },
  {
   "cell_type": "markdown",
   "metadata": {},
   "source": [
    "# File and chemistry type definitions"
   ]
  },
  {
   "cell_type": "code",
   "execution_count": 2,
   "metadata": {},
   "outputs": [],
   "source": [
    "pdb_path = Path('pdb_files')\n",
    "pdb_path.mkdir(exist_ok=True)\n",
    "\n",
    "coll_path = Path('Collections')\n",
    "coll_path.mkdir(exist_ok=True)\n",
    "\n",
    "lammps_path = Path('LAMMPS')\n",
    "lammps_path.mkdir(exist_ok=True)"
   ]
  },
  {
   "cell_type": "code",
   "execution_count": 3,
   "metadata": {},
   "outputs": [],
   "source": [
    "# defining reacting functional groups\n",
    "reaction_pairs = {\n",
    "    'NIPU' : ('cyclocarbonate', 'amine'),\n",
    "    'urethane' : ('isocyanate', 'hydroxyl')\n",
    "}\n",
    "# chemistries = ('urethane', 'NIPU')\n",
    "chemistries = [i for i in reaction_pairs.keys()]"
   ]
  },
  {
   "cell_type": "markdown",
   "metadata": {},
   "source": [
    "# Building PDB files from monomer fragments"
   ]
  },
  {
   "cell_type": "code",
   "execution_count": null,
   "metadata": {},
   "outputs": [],
   "source": [
    "from polysaccharide.polymer.exceptions import SubstructMatchFailedError\n",
    "\n",
    "DOP = 10\n",
    "\n",
    "failed = general.RecursiveDict()\n",
    "for chemistry in chemistries:\n",
    "    mono_src_dir = MONO_INFO_DIR / chemistry\n",
    "    pdb_out_dir = pdb_path / chemistry\n",
    "    pdb_out_dir.mkdir(exist_ok=True)\n",
    "\n",
    "    for mono_path in mono_src_dir.iterdir():\n",
    "        mono_info = MonomerInfo.from_file(mono_path)\n",
    "        try:\n",
    "            polymer = building.build_linear_polymer(mono_info.SMARTS, DOP=DOP, sequence='AB')  \n",
    "            savepath = pdb_out_dir / f'{mono_path.stem}.pdb'\n",
    "            polymer.save(general.asstrpath(savepath))\n",
    "        except Exception as e:\n",
    "            failed[chemistry][e.__class__.__name__][mono_path.stem] = mono_info"
   ]
  },
  {
   "cell_type": "code",
   "execution_count": null,
   "metadata": {},
   "outputs": [],
   "source": [
    "failed"
   ]
  },
  {
   "cell_type": "markdown",
   "metadata": {},
   "source": [
    "## Testing sanitization of monomers prior to mbuild conversion"
   ]
  },
  {
   "cell_type": "code",
   "execution_count": null,
   "metadata": {},
   "outputs": [],
   "source": [
    "rdkdraw.set_rdkdraw_size(500, 3/2)\n",
    "cvtr = rdconvert.SMILESConverter()\n",
    "\n",
    "chemistry = 'urethane'\n",
    "idx = 10\n",
    "\n",
    "mono_info = MonomerInfo.from_file(MONO_INFO_DIR / chemistry / f'{chemistry}_{idx}.json')\n",
    "\n",
    "mbmols = {}\n",
    "def show(mono_info : MonomerInfo) -> None:\n",
    "    for resname, smarts in mono_info.SMARTS.items():\n",
    "        print(resname, smarts)\n",
    "        mol = Chem.MolFromSmarts(smarts)\n",
    "        mol = cvtr.convert(mol)\n",
    "        Chem.SanitizeMol(mol)\n",
    "        rdlabels.clear_atom_map_nums(mol, in_place=True)\n",
    "        display(mol)\n",
    "\n",
    "        # mbmol, ports = building.mbmol_from_mono_smarts(new_smarts)\n",
    "\n",
    "        prot_mol = rdbond.hydrogenate_rdmol_ports(mol, in_place=False)\n",
    "        mbmols[resname] = mb.conversion.from_rdkit(prot_mol)\n",
    "\n",
    "show(mono_info)"
   ]
  },
  {
   "cell_type": "markdown",
   "metadata": {},
   "source": [
    "# Collating urethanes into collections and generating Interchange files"
   ]
  },
  {
   "cell_type": "markdown",
   "metadata": {},
   "source": [
    "## Populating collections from newly-generated PDBs and monomers"
   ]
  },
  {
   "cell_type": "code",
   "execution_count": null,
   "metadata": {},
   "outputs": [],
   "source": [
    "for chemistry in chemistries:\n",
    "    chem_path = coll_path / chemistry\n",
    "    chem_path.mkdir(exist_ok=True)\n",
    "\n",
    "    mgr = PolymerManager(chem_path)\n",
    "    mgr.populate_collection(pdb_path / chemistry, MONO_INFO_DIR / chemistry)"
   ]
  },
  {
   "cell_type": "markdown",
   "metadata": {},
   "source": [
    "## Generating LAMMPS files via Interchange for both collections"
   ]
  },
  {
   "cell_type": "code",
   "execution_count": 4,
   "metadata": {},
   "outputs": [],
   "source": [
    "from polysaccharide import OPENFF_DIR\n",
    "from polysaccharide.charging.application import MolCharger\n",
    "\n",
    "# specify forcefield\n",
    "ff_name = 'openff-2.0.0.offxml'\n",
    "ff_path = OPENFF_DIR / ff_name\n",
    "forcefield = ForceField(ff_path)\n",
    "\n",
    "# specify charging method\n",
    "chg_method = 'Espaloma_AM1BCC'"
   ]
  },
  {
   "cell_type": "code",
   "execution_count": 11,
   "metadata": {},
   "outputs": [
    {
     "data": {
      "application/vnd.jupyter.widget-view+json": {
       "model_id": "91e227a5c7494d42a00d2e30982b7d3d",
       "version_major": 2,
       "version_minor": 0
      },
      "text/plain": [
       "  0%|          | 0/6 [00:00<?, ?it/s]"
      ]
     },
     "metadata": {},
     "output_type": "display_data"
    },
    {
     "name": "stderr",
     "output_type": "stream",
     "text": [
      "WARNING:polysaccharide.polymer.representation:Found no existing \"Espaloma_AM1BCC\" partial charges for \"NIPU_8\"\n"
     ]
    },
    {
     "name": "stderr",
     "output_type": "stream",
     "text": [
      "WARNING:polysaccharide.polymer.representation:Found no existing \"Espaloma_AM1BCC\" partial charges for \"NIPU_10\"\n",
      "WARNING:polysaccharide.polymer.representation:Found no existing \"Espaloma_AM1BCC\" partial charges for \"NIPU_12\"\n",
      "/home/timber/Documents/Python/openff-workspace/openff-toolkit/openff/toolkit/utils/base_wrapper.py:256: IncorrectNumConformersWarning: Molecule 'Molecule with name '' and SMILES '[H]c1c(c2c(c(c1[H])O(C([H])([H])C3(C(OC4=O56C7(=C5(O6C(C8(C(OC9=O15C6(=C1(O5C(C1(C(OC5=O%10%11C%12(=C%10(O%11C(C%10(C(OC%11=O%13%14C%15(=C%13(O%14C(C%13(C(OC%14=O%16%17C%18(=C%16(O%17C(C%16(C(OC%17=O%19%20C%21(=C%19(O%20C(C(C(OC%19=O%20%22C%23(=C%20(O%22C([H])([H])C([H])(C([H])([H])OC(=O)N([H])C([H])([H])C([H])([H])OC([H])([H])C([H])([H])OC([H])([H])C([H])([H])N([H])[H])O[H])C(=C(C(=C%23([H])O%16[H])[H])OC(C(OC(=O)N(C(C(OC(C(OC(C(N%19[H])([H])[H])([H])[H])([H])[H])([H])[H])([H])[H])([H])[H])[H])([H])C([H])([H])O[H])([H])[H])[H])[H])([H])[H])([H])O[H])([H])[H])C(=C(C(=C%21([H])O%13[H])[H])OC(C(OC(=O)N(C(C(OC(C(OC(C(N%17[H])([H])[H])([H])[H])([H])[H])([H])[H])([H])[H])([H])[H])[H])([H])C([H])([H])O[H])([H])[H])[H])[H])([H])[H])[H])([H])[H])C(=C(C(=C%18([H])O%10[H])[H])OC(C(OC(=O)N(C(C(OC(C(OC(C(N%14[H])([H])[H])([H])[H])([H])[H])([H])[H])([H])[H])([H])[H])[H])([H])C([H])([H])O[H])([H])[H])[H])[H])([H])[H])[H])([H])[H])C(=C(C(=C%15([H])O1[H])[H])OC(C(OC(=O)N(C(C(OC(C(OC(C(N%11[H])([H])[H])([H])[H])([H])[H])([H])[H])([H])[H])([H])[H])[H])([H])C([H])([H])O[H])([H])[H])[H])[H])([H])[H])[H])([H])[H])C(=C(C(=C%12([H])O8[H])[H])OC(C(OC(=O)N(C(C(OC(C(OC(C(N5[H])([H])[H])([H])[H])([H])[H])([H])[H])([H])[H])([H])[H])[H])([H])C([H])([H])O[H])([H])[H])[H])[H])([H])[H])[H])([H])[H])C(=C(C(=C6([H])O3[H])[H])OC(C(OC(=O)N(C(C(OC(C(OC(C(N9[H])([H])[H])([H])[H])([H])[H])([H])[H])([H])[H])([H])[H])[H])([H])C([H])([H])O[H])([H])[H])[H])[H])([H])[H])[H])([H])[H])C(=C(C(=C7[H])[H])OC(C(OC(=O)N(C(C(OC(C(OC(C(N4[H])([H])[H])([H])[H])([H])[H])([H])[H])([H])[H])([H])[H])[H])([H])C([H])([H])O[H])([H])[H])[H])[H])([H])[H])[H])O=C(N(C(C(OC(C(OC(C(N(C(=O)OC(C(O2)([H])[H])([H])C([H])([H])O[H])[H])([H])[H])([H])[H])([H])[H])([H])[H])([H])[H])([H])[H])[H])OC([H])(C([H])([H])O[H])C([H])([H])Oc1c(c(c(c(c1[H])OC([H])([H])C1(C(OC(=O)O1)([H])[H])[H])[H])[H])[H])[H])[H]'' has 1 conformers, but charge method 'espaloma-am1bcc' expects exactly 0.\n",
      "  warnings.warn(wrong_confs_msg, IncorrectNumConformersWarning)\n",
      "WARNING:polysaccharide.polymer.representation:Found no existing \"Espaloma_AM1BCC\" partial charges for \"NIPU_9\"\n"
     ]
    },
    {
     "data": {
      "application/vnd.jupyter.widget-view+json": {
       "model_id": "478c734ec1e24cf192f6cf62efb14716",
       "version_major": 2,
       "version_minor": 0
      },
      "text/plain": [
       "  0%|          | 0/63 [00:00<?, ?it/s]"
      ]
     },
     "metadata": {},
     "output_type": "display_data"
    },
    {
     "name": "stderr",
     "output_type": "stream",
     "text": [
      "WARNING:polysaccharide.polymer.representation:Found no existing \"Espaloma_AM1BCC\" partial charges for \"urethane_56\"\n",
      "WARNING:polysaccharide.polymer.representation:Found no existing \"Espaloma_AM1BCC\" partial charges for \"urethane_46\"\n",
      "WARNING:polysaccharide.polymer.representation:Found no existing \"Espaloma_AM1BCC\" partial charges for \"urethane_32\"\n",
      "WARNING:polysaccharide.polymer.representation:Found no existing \"Espaloma_AM1BCC\" partial charges for \"urethane_16\"\n",
      "WARNING:polysaccharide.polymer.representation:Found no existing \"Espaloma_AM1BCC\" partial charges for \"urethane_25\"\n",
      "WARNING:polysaccharide.polymer.representation:Found no existing \"Espaloma_AM1BCC\" partial charges for \"urethane_50\"\n",
      "WARNING:polysaccharide.polymer.representation:Found no existing \"Espaloma_AM1BCC\" partial charges for \"urethane_26\"\n",
      "WARNING:polysaccharide.polymer.representation:Found no existing \"Espaloma_AM1BCC\" partial charges for \"urethane_62\"\n",
      "WARNING:polysaccharide.polymer.representation:Found no existing \"Espaloma_AM1BCC\" partial charges for \"urethane_58\"\n",
      "WARNING:polysaccharide.polymer.representation:Found no existing \"Espaloma_AM1BCC\" partial charges for \"urethane_38\"\n",
      "WARNING:polysaccharide.polymer.representation:Found no existing \"Espaloma_AM1BCC\" partial charges for \"urethane_3\"\n",
      "WARNING:polysaccharide.polymer.representation:Found no existing \"Espaloma_AM1BCC\" partial charges for \"urethane_5\"\n",
      "WARNING:polysaccharide.polymer.representation:Found no existing \"Espaloma_AM1BCC\" partial charges for \"urethane_21\"\n",
      "WARNING:polysaccharide.polymer.representation:Found no existing \"Espaloma_AM1BCC\" partial charges for \"urethane_34\"\n",
      "WARNING:polysaccharide.polymer.representation:Found no existing \"Espaloma_AM1BCC\" partial charges for \"urethane_53\"\n",
      "WARNING:polysaccharide.polymer.representation:Found no existing \"Espaloma_AM1BCC\" partial charges for \"urethane_55\"\n",
      "Warning: Internal CIP error: node limit reached for atom IDX: 136, NODES: 137788\n",
      "Warning: Internal CIP error: node limit reached for atom IDX: 250, NODES: 137788\n",
      "Warning: Internal CIP error: node limit reached for atom IDX: 364, NODES: 137788\n",
      "Warning: Internal CIP error: node limit reached for atom IDX: 478, NODES: 137788\n",
      "Warning: Internal CIP error: node limit reached for atom IDX: 592, NODES: 137788\n",
      "Warning: Internal CIP error: node limit reached for atom IDX: 706, NODES: 137788\n",
      "Warning: Internal CIP error: node limit reached for atom IDX: 136, NODES: 137788\n",
      "Warning: Internal CIP error: node limit reached for atom IDX: 250, NODES: 137788\n",
      "Warning: Internal CIP error: node limit reached for atom IDX: 364, NODES: 137788\n",
      "Warning: Internal CIP error: node limit reached for atom IDX: 478, NODES: 137788\n",
      "Warning: Internal CIP error: node limit reached for atom IDX: 592, NODES: 137788\n",
      "Warning: Internal CIP error: node limit reached for atom IDX: 706, NODES: 137788\n",
      "WARNING:polysaccharide.polymer.representation:Found no existing \"Espaloma_AM1BCC\" partial charges for \"urethane_28\"\n",
      "WARNING:polysaccharide.polymer.representation:Found no existing \"Espaloma_AM1BCC\" partial charges for \"urethane_31\"\n",
      "Warning: Internal CIP error: node limit reached for atom IDX: 140, NODES: 138716\n",
      "Warning: Internal CIP error: node limit reached for atom IDX: 201, NODES: 135716\n",
      "Warning: Internal CIP error: node limit reached for atom IDX: 258, NODES: 138716\n",
      "Warning: Internal CIP error: node limit reached for atom IDX: 319, NODES: 135716\n",
      "Warning: Internal CIP error: node limit reached for atom IDX: 376, NODES: 138716\n",
      "Warning: Internal CIP error: node limit reached for atom IDX: 437, NODES: 135716\n",
      "Warning: Internal CIP error: node limit reached for atom IDX: 494, NODES: 138716\n",
      "Warning: Internal CIP error: node limit reached for atom IDX: 555, NODES: 135716\n",
      "Warning: Internal CIP error: node limit reached for atom IDX: 612, NODES: 138716\n",
      "Warning: Internal CIP error: node limit reached for atom IDX: 673, NODES: 135716\n",
      "Warning: Internal CIP error: node limit reached for atom IDX: 730, NODES: 138716\n",
      "Warning: Internal CIP error: node limit reached for atom IDX: 791, NODES: 135716\n",
      "Warning: Internal CIP error: node limit reached for atom IDX: 140, NODES: 138716\n",
      "Warning: Internal CIP error: node limit reached for atom IDX: 201, NODES: 135716\n",
      "Warning: Internal CIP error: node limit reached for atom IDX: 258, NODES: 138716\n",
      "Warning: Internal CIP error: node limit reached for atom IDX: 319, NODES: 135716\n",
      "Warning: Internal CIP error: node limit reached for atom IDX: 376, NODES: 138716\n",
      "Warning: Internal CIP error: node limit reached for atom IDX: 437, NODES: 135716\n",
      "Warning: Internal CIP error: node limit reached for atom IDX: 494, NODES: 138716\n",
      "Warning: Internal CIP error: node limit reached for atom IDX: 555, NODES: 135716\n",
      "Warning: Internal CIP error: node limit reached for atom IDX: 612, NODES: 138716\n",
      "Warning: Internal CIP error: node limit reached for atom IDX: 673, NODES: 135716\n",
      "Warning: Internal CIP error: node limit reached for atom IDX: 730, NODES: 138716\n",
      "Warning: Internal CIP error: node limit reached for atom IDX: 791, NODES: 135716\n",
      "WARNING:polysaccharide.polymer.representation:Found no existing \"Espaloma_AM1BCC\" partial charges for \"urethane_20\"\n",
      "WARNING:polysaccharide.polymer.representation:Found no existing \"Espaloma_AM1BCC\" partial charges for \"urethane_37\"\n",
      "WARNING:polysaccharide.polymer.representation:Found no existing \"Espaloma_AM1BCC\" partial charges for \"urethane_57\"\n",
      "WARNING:polysaccharide.polymer.representation:Found no existing \"Espaloma_AM1BCC\" partial charges for \"urethane_23\"\n",
      "WARNING:polysaccharide.polymer.representation:Found no existing \"Espaloma_AM1BCC\" partial charges for \"urethane_59\"\n",
      "WARNING:polysaccharide.polymer.representation:Found no existing \"Espaloma_AM1BCC\" partial charges for \"urethane_18\"\n",
      "WARNING:polysaccharide.polymer.representation:Found no existing \"Espaloma_AM1BCC\" partial charges for \"urethane_36\"\n",
      "Warning: Internal CIP error: node limit reached for atom IDX: 136, NODES: 137788\n",
      "Warning: Internal CIP error: node limit reached for atom IDX: 250, NODES: 137788\n",
      "Warning: Internal CIP error: node limit reached for atom IDX: 364, NODES: 137788\n",
      "Warning: Internal CIP error: node limit reached for atom IDX: 478, NODES: 137788\n",
      "Warning: Internal CIP error: node limit reached for atom IDX: 592, NODES: 137788\n",
      "Warning: Internal CIP error: node limit reached for atom IDX: 706, NODES: 137788\n",
      "Warning: Internal CIP error: node limit reached for atom IDX: 136, NODES: 137788\n",
      "Warning: Internal CIP error: node limit reached for atom IDX: 250, NODES: 137788\n",
      "Warning: Internal CIP error: node limit reached for atom IDX: 364, NODES: 137788\n",
      "Warning: Internal CIP error: node limit reached for atom IDX: 478, NODES: 137788\n",
      "Warning: Internal CIP error: node limit reached for atom IDX: 592, NODES: 137788\n",
      "Warning: Internal CIP error: node limit reached for atom IDX: 706, NODES: 137788\n",
      "WARNING:polysaccharide.polymer.representation:Found no existing \"Espaloma_AM1BCC\" partial charges for \"urethane_61\"\n",
      "WARNING:polysaccharide.polymer.representation:Found no existing \"Espaloma_AM1BCC\" partial charges for \"urethane_7\"\n",
      "WARNING:polysaccharide.polymer.representation:Found no existing \"Espaloma_AM1BCC\" partial charges for \"urethane_60\"\n",
      "WARNING:polysaccharide.polymer.representation:Found no existing \"Espaloma_AM1BCC\" partial charges for \"urethane_33\"\n",
      "WARNING:polysaccharide.polymer.representation:Found no existing \"Espaloma_AM1BCC\" partial charges for \"urethane_19\"\n",
      "WARNING:polysaccharide.polymer.representation:Found no existing \"Espaloma_AM1BCC\" partial charges for \"urethane_39\"\n",
      "WARNING:polysaccharide.polymer.representation:Found no existing \"Espaloma_AM1BCC\" partial charges for \"urethane_13\"\n",
      "WARNING:polysaccharide.polymer.representation:Found no existing \"Espaloma_AM1BCC\" partial charges for \"urethane_43\"\n",
      "WARNING:polysaccharide.polymer.representation:Found no existing \"Espaloma_AM1BCC\" partial charges for \"urethane_40\"\n",
      "WARNING:polysaccharide.polymer.representation:Found no existing \"Espaloma_AM1BCC\" partial charges for \"urethane_54\"\n"
     ]
    }
   ],
   "source": [
    "from tqdm.notebook import tqdm\n",
    "\n",
    "failed_interchanges = defaultdict(lambda : defaultdict(list))\n",
    "for chemistry in chemistries:\n",
    "    chem_path = coll_path / chemistry\n",
    "    lmp_dir = lammps_path / chemistry\n",
    "    lmp_dir.mkdir(exist_ok=True)\n",
    "\n",
    "    mgr = PolymerManager(chem_path)\n",
    "    for mol_name, polymer in ( progress := tqdm(mgr.polymers.items()) ):\n",
    "        progress.set_postfix_str(f'{chemistry} : {mol_name}')\n",
    "        try:\n",
    "            chgr = MolCharger.subclass_registry[chg_method]()\n",
    "            polymer.assert_charges_for(chgr, strict=True, return_cmol=False)\n",
    "\n",
    "            sdf_path = polymer.structure_files_chgd[chg_method]\n",
    "            cmol = polymer.charged_offmol_from_sdf(chg_method)\n",
    "            offtop = Topology.from_molecules(cmol) # load topology from SDF file\n",
    "\n",
    "            ic = forcefield.create_interchange(offtop, charge_from_molecules=[cmol])\n",
    "            ic.to_lammps(lmp_dir / f'{mol_name}.lammps')\n",
    "        except Exception as e:\n",
    "            failed_interchanges[chemistry][e.__class__.__name__].append(mol_name)"
   ]
  },
  {
   "cell_type": "code",
   "execution_count": 13,
   "metadata": {},
   "outputs": [
    {
     "name": "stdout",
     "output_type": "stream",
     "text": [
      "Help on method from_molecules in module openff.toolkit.topology.topology:\n",
      "\n",
      "from_molecules(molecules: Union[openff.toolkit.topology.molecule.Molecule, List[openff.toolkit.topology.molecule.Molecule]]) -> 'Topology' method of abc.ABCMeta instance\n",
      "    Create a new Topology object containing one copy of each of the specified molecule(s).\n",
      "    \n",
      "    Parameters\n",
      "    ----------\n",
      "    molecules : Molecule or iterable of Molecules\n",
      "        One or more molecules to be added to the Topology\n",
      "    \n",
      "    Returns\n",
      "    -------\n",
      "    topology : Topology\n",
      "        The Topology created from the specified molecule(s)\n",
      "\n"
     ]
    }
   ],
   "source": [
    "help(Topology.from_molecules)"
   ]
  },
  {
   "cell_type": "code",
   "execution_count": 12,
   "metadata": {},
   "outputs": [
    {
     "data": {
      "text/plain": [
       "defaultdict(<function __main__.<lambda>()>,\n",
       "            {'NIPU': defaultdict(list,\n",
       "                         {'UnmatchedAtomsError': ['NIPU_8',\n",
       "                           'NIPU_10',\n",
       "                           'NIPU_9'],\n",
       "                          'KeyError': ['NIPU_12']}),\n",
       "             'urethane': defaultdict(list,\n",
       "                         {'UnassignedValenceParameterException': ['urethane_4',\n",
       "                           'urethane_11',\n",
       "                           'urethane_30',\n",
       "                           'urethane_27'],\n",
       "                          'UnmatchedAtomsError': ['urethane_56',\n",
       "                           'urethane_46',\n",
       "                           'urethane_32',\n",
       "                           'urethane_16',\n",
       "                           'urethane_25',\n",
       "                           'urethane_50',\n",
       "                           'urethane_26',\n",
       "                           'urethane_62',\n",
       "                           'urethane_58',\n",
       "                           'urethane_38',\n",
       "                           'urethane_3',\n",
       "                           'urethane_5',\n",
       "                           'urethane_21',\n",
       "                           'urethane_34',\n",
       "                           'urethane_53',\n",
       "                           'urethane_55',\n",
       "                           'urethane_28',\n",
       "                           'urethane_31',\n",
       "                           'urethane_20',\n",
       "                           'urethane_37',\n",
       "                           'urethane_57',\n",
       "                           'urethane_23',\n",
       "                           'urethane_59',\n",
       "                           'urethane_18',\n",
       "                           'urethane_36',\n",
       "                           'urethane_61',\n",
       "                           'urethane_7',\n",
       "                           'urethane_60',\n",
       "                           'urethane_33',\n",
       "                           'urethane_19',\n",
       "                           'urethane_39',\n",
       "                           'urethane_13',\n",
       "                           'urethane_43',\n",
       "                           'urethane_40',\n",
       "                           'urethane_54'],\n",
       "                          'UndefinedStereochemistryError': ['urethane_9',\n",
       "                           'urethane_49',\n",
       "                           'urethane_12']})})"
      ]
     },
     "execution_count": 12,
     "metadata": {},
     "output_type": "execute_result"
    }
   ],
   "source": [
    "failed_interchanges"
   ]
  },
  {
   "cell_type": "markdown",
   "metadata": {},
   "source": [
    "## Checking for successful residue covers of newly-generated PDB Topologies"
   ]
  },
  {
   "cell_type": "code",
   "execution_count": null,
   "metadata": {},
   "outputs": [],
   "source": [
    "mgr = PolymerManager(coll_path / 'urethane')\n",
    "pdir = mgr.polymers['urethane_6']\n",
    "# pdir = mgr.polymers['NIPU_8']\n",
    "offmol = pdir.offmol_matched(strict=False)\n",
    "# pdir.offmol_matched(strict=True)\n",
    "\n",
    "for atom in offmol.atoms:\n",
    "    if not atom.metadata['already_matched']:\n",
    "        print(atom.metadata)"
   ]
  },
  {
   "cell_type": "code",
   "execution_count": null,
   "metadata": {},
   "outputs": [],
   "source": [
    "mgr = PolymerManager(coll_path / 'NIPU')\n",
    "\n",
    "offmols = {}\n",
    "unmatched = []\n",
    "for mol_name, polymer in mgr.polymers.items():\n",
    "    try:\n",
    "        offmols[mol_name] = polymer.offmol\n",
    "    except:\n",
    "        unmatched.append(mol_name)"
   ]
  },
  {
   "cell_type": "code",
   "execution_count": null,
   "metadata": {},
   "outputs": [],
   "source": [
    "unmatched"
   ]
  },
  {
   "cell_type": "code",
   "execution_count": null,
   "metadata": {},
   "outputs": [],
   "source": [
    "for mol_name in unmatched:\n",
    "    print(mol_name)\n",
    "    polymer = mgr.polymers[mol_name]\n",
    "    offmol = polymer.offmol_matched(strict=False)\n",
    "    \n",
    "    for atom in offmol.atoms:\n",
    "        if not atom.metadata['already_matched']:\n",
    "            print('\\t', atom.metadata)"
   ]
  },
  {
   "cell_type": "code",
   "execution_count": null,
   "metadata": {},
   "outputs": [],
   "source": [
    "offmols"
   ]
  },
  {
   "cell_type": "code",
   "execution_count": null,
   "metadata": {},
   "outputs": [],
   "source": []
  }
 ],
 "metadata": {
  "kernelspec": {
   "display_name": "openff-dev-updated",
   "language": "python",
   "name": "python3"
  },
  "language_info": {
   "codemirror_mode": {
    "name": "ipython",
    "version": 3
   },
   "file_extension": ".py",
   "mimetype": "text/x-python",
   "name": "python",
   "nbconvert_exporter": "python",
   "pygments_lexer": "ipython3",
   "version": "3.10.9"
  },
  "orig_nbformat": 4
 },
 "nbformat": 4,
 "nbformat_minor": 2
}
