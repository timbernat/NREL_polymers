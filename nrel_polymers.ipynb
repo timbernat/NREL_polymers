{
 "cells": [
  {
   "cell_type": "markdown",
   "metadata": {},
   "source": [
    "# Core Imports"
   ]
  },
  {
   "cell_type": "code",
   "execution_count": 3,
   "metadata": {},
   "outputs": [],
   "source": [
    "# Custom Imports\n",
    "from polysaccharide import general\n",
    "from polysaccharide.general import optional_in_place\n",
    "from polysaccharide.extratypes import ResidueSmarts\n",
    "\n",
    "from polysaccharide.molutils import reactions\n",
    "from polysaccharide.molutils.rdmol.rdtypes import *\n",
    "from polysaccharide.molutils.rdmol import rdcompare, rdconvert, rdkdraw, rdcompare, rdprops, rdbond, rdlabels\n",
    "\n",
    "from polysaccharide.polymer import monomer as monoutils\n",
    "from polysaccharide.polymer.monomer import MonomerInfo\n",
    "from polysaccharide.polymer.management import PolymerManager\n",
    "\n",
    "from polysaccharide.polymer import building\n",
    "import mbuild as mb\n",
    "\n",
    "# Generic Imports\n",
    "import re\n",
    "from functools import partial, cached_property\n",
    "from collections import defaultdict\n",
    "from itertools import combinations, chain\n",
    "from ast import literal_eval\n",
    "\n",
    "# Numeric imports\n",
    "import pandas as pd\n",
    "import numpy as np\n",
    "\n",
    "# File I/O\n",
    "from pathlib import Path\n",
    "import csv, json, openpyxl\n",
    "\n",
    "# Typing and Subclassing\n",
    "from typing import Any, Callable, ClassVar, Generator, Iterable, Optional, Union\n",
    "from dataclasses import dataclass, field\n",
    "from abc import ABC, abstractmethod, abstractproperty\n",
    "from openmm.unit import Unit, Quantity\n",
    "\n",
    "# Cheminformatics\n",
    "from rdkit import Chem\n",
    "from rdkit.Chem import rdChemReactions\n",
    "\n",
    "from openff.toolkit import ForceField\n",
    "from openff.toolkit.topology import Topology, Molecule\n",
    "\n",
    "# Static Paths\n",
    "RAW_DATA_PATH  = Path('raw_monomer_data')\n",
    "PROC_DATA_PATH = Path('processed_monomer_data')\n",
    "RXN_FILES_PATH = Path('rxn_smarts')\n",
    "MONO_INFO_DIR  = Path('monomer_files')"
   ]
  },
  {
   "cell_type": "markdown",
   "metadata": {},
   "source": [
    "# File and chemistry type definitions"
   ]
  },
  {
   "cell_type": "code",
   "execution_count": 4,
   "metadata": {},
   "outputs": [],
   "source": [
    "pdb_path = Path('pdb_files')\n",
    "pdb_path.mkdir(exist_ok=True)\n",
    "\n",
    "coll_path = Path('Collections')\n",
    "coll_path.mkdir(exist_ok=True)\n",
    "\n",
    "lammps_path = Path('LAMMPS')\n",
    "lammps_path.mkdir(exist_ok=True)\n",
    "\n",
    "omm_path = Path('OpenMM')\n",
    "omm_path.mkdir(exist_ok=True)"
   ]
  },
  {
   "cell_type": "code",
   "execution_count": 5,
   "metadata": {},
   "outputs": [],
   "source": [
    "# defining reacting functional groups\n",
    "reaction_pairs = {\n",
    "    'NIPU' : ('cyclocarbonate', 'amine'),\n",
    "    'urethane' : ('isocyanate', 'hydroxyl')\n",
    "}\n",
    "# chemistries = ('urethane', 'NIPU')\n",
    "chemistries = [i for i in reaction_pairs.keys()]"
   ]
  },
  {
   "cell_type": "markdown",
   "metadata": {},
   "source": [
    "# Collating urethanes into collections and generating Interchange files"
   ]
  },
  {
   "cell_type": "markdown",
   "metadata": {},
   "source": [
    "## Generating LAMMPS files via Interchange for both collections"
   ]
  },
  {
   "cell_type": "code",
   "execution_count": 4,
   "metadata": {},
   "outputs": [],
   "source": [
    "from polysaccharide import OPENFF_DIR\n",
    "from polysaccharide.charging.application import MolCharger\n",
    "\n",
    "# specify forcefield\n",
    "ff_name = 'openff-2.0.0.offxml'\n",
    "ff_path = OPENFF_DIR / ff_name\n",
    "forcefield = ForceField(ff_path)\n",
    "\n",
    "# specify charging method\n",
    "chg_method = 'Espaloma_AM1BCC'"
   ]
  },
  {
   "cell_type": "code",
   "execution_count": null,
   "metadata": {},
   "outputs": [],
   "source": [
    "from tqdm.notebook import tqdm\n",
    "\n",
    "success_ics = defaultdict(defaultdict)\n",
    "failed_ics  = defaultdict(lambda : defaultdict(list))\n",
    "\n",
    "for chemistry in chemistries:\n",
    "    chem_path = coll_path / chemistry\n",
    "    lmp_dir = lammps_path / chemistry\n",
    "    lmp_dir.mkdir(exist_ok=True)\n",
    "\n",
    "    mgr = PolymerManager(chem_path)\n",
    "    for mol_name, polymer in ( progress := tqdm(mgr.polymers.items()) ):\n",
    "        progress.set_postfix_str(f'{chemistry} : {mol_name}')\n",
    "        try:\n",
    "            chgr = MolCharger.subclass_registry[chg_method]()\n",
    "            polymer.assert_charges_for(chgr, strict=True, return_cmol=False)\n",
    "\n",
    "            sdf_path = polymer.structure_files_chgd[chg_method]\n",
    "            cmol = polymer.charged_offmol_from_sdf(chg_method)\n",
    "            offtop = Topology.from_molecules(cmol) # load topology from SDF file\n",
    "\n",
    "            ic = forcefield.create_interchange(offtop, charge_from_molecules=[cmol])\n",
    "            success_ics[chemistry][mol_name] = ic\n",
    "            # ic.to_lammps(lmp_dir / f'{mol_name}.lammps')\n",
    "\n",
    "        except AttributeError as a:\n",
    "            print(a)\n",
    "\n",
    "        except Exception as e:\n",
    "            print(e)\n",
    "            failed_ics[chemistry][e.__class__.__name__].append(mol_name)"
   ]
  },
  {
   "cell_type": "code",
   "execution_count": null,
   "metadata": {},
   "outputs": [],
   "source": [
    "success_ics, failed_ics"
   ]
  },
  {
   "cell_type": "markdown",
   "metadata": {},
   "source": [
    "# Running OpenMM simulations"
   ]
  },
  {
   "cell_type": "markdown",
   "metadata": {},
   "source": [
    "## Defining utility functions"
   ]
  },
  {
   "cell_type": "code",
   "execution_count": 6,
   "metadata": {},
   "outputs": [],
   "source": [
    "import openmm\n",
    "\n",
    "from openmm import XmlSerializer\n",
    "from openmm import System, Context, State\n",
    "from openmm import Integrator, Force\n",
    "from openmm.app import Simulation\n",
    "\n",
    "DEFAULT_STATE_PARAMS : dict[str, bool] = {\n",
    "    'getPositions'  : True,\n",
    "    'getVelocities' : True,\n",
    "    'getForces'     : True,\n",
    "    'getEnergy'     : True,\n",
    "    'getParameters' : True,\n",
    "    'getParameterDerivatives' : False,\n",
    "    'getIntegratorParameters' : False\n",
    "}\n",
    "\n",
    "\n",
    "\n",
    "def serialize_state_and_sys(sim : Simulation, out_dir : Path, out_name : str, state_params : dict[str, bool]=DEFAULT_STATE_PARAMS) -> None:\n",
    "    '''For saving State and System info of a Simulation to disc'''\n",
    "    sim_dict = {\n",
    "        'system' : sim.system,\n",
    "        'state' : sim.context.getState(**state_params)\n",
    "    }\n",
    "    \n",
    "    for affix, save_data in sim_dict.items():\n",
    "        save_path = out_dir / f'{out_name}_{affix}.xml'\n",
    "        save_path.touch()\n",
    "\n",
    "        with save_path.open('w') as file:\n",
    "            file.write( XmlSerializer.serialize(save_data) )\n",
    "\n",
    "def apply_state_to_context(state : State, context : Context) -> None:\n",
    "    '''For applying saved State data to an existing OpenMM Simulation'''\n",
    "    context.setPeriodicBoxVectors(*state.getPeriodicBoxVectors())\n",
    "    context.setPositions(state.getPositions())\n",
    "    context.setVelocities(state.getVelocities())\n",
    "    context.setTime(state.getTime())\n",
    "\n",
    "    context.reinitialize(preserveState=True)    \n",
    "\n",
    "def load_openmm_system(sys_path : Path, extra_forces : Optional[Union[Force, Iterable[Force]]]=None, sep_force_grps : bool=True, remove_constrs : bool=False) -> System:\n",
    "    '''Load and configure a serialized OpenMM system, with optional additional parameters'''\n",
    "    assert(sys_path.suffix == '.xml')\n",
    "    with sys_path.open('r') as file:\n",
    "        ommsys = XmlSerializer.deserialize(file.read())\n",
    "\n",
    "    if extra_forces: # deliberately sparse to handle both Nonetype and empty list\n",
    "        for force in extra_forces: \n",
    "            ommsys.addForce(force)\n",
    "\n",
    "    if sep_force_grps:\n",
    "        for i, force in enumerate(ommsys.getForces()):\n",
    "            force.setForceGroup(i)\n",
    "\n",
    "    if remove_constrs:\n",
    "        for i in range(ommsys.getNumConstraints())[::-1]: # need to remove in reverse order to avoid having prior constraints \"fall back down\"\n",
    "            ommsys.removeConstraint(i)\n",
    "\n",
    "    return ommsys"
   ]
  },
  {
   "cell_type": "markdown",
   "metadata": {},
   "source": [
    "## Serialize OpenMM simulations to file"
   ]
  },
  {
   "cell_type": "code",
   "execution_count": 43,
   "metadata": {},
   "outputs": [],
   "source": [
    "# specifying simulation and ensemble parameters\n",
    "from openmm.unit import kilojoule_per_mole, kilocalorie_per_mole\n",
    "from shutil import copyfile\n",
    "from copy import deepcopy\n",
    "\n",
    "from polysaccharide import filetree\n",
    "from polysaccharide.simulation.records import SimulationParameters\n",
    "from polysaccharide.simulation.ensemble import EnsembleSimulationFactory\n",
    "\n",
    "\n",
    "omm_dir = Path('OpenMM_no_sim')\n",
    "omm_dir.mkdir(exist_ok=True)\n",
    "\n",
    "# selecting simulation parameters and ensemble\n",
    "sp_path = Path('debug_sim_NVT.json')\n",
    "sim_params = SimulationParameters.from_file(sp_path)\n",
    "ens_fac = EnsembleSimulationFactory.subclass_registry[sim_params.ensemble.upper()]()"
   ]
  },
  {
   "cell_type": "code",
   "execution_count": null,
   "metadata": {},
   "outputs": [],
   "source": [
    "# looping over all urethanes\n",
    "omm_sims = defaultdict(defaultdict)\n",
    "for chemistry, ic_dict in success_ics.items():\n",
    "    mgr = PolymerManager(coll_path / chemistry)\n",
    "    chem_dir = omm_dir / chemistry\n",
    "    chem_dir.mkdir(exist_ok=True)\n",
    "\n",
    "    for mol_name, interchange in ic_dict.items():\n",
    "        data_dict = {\n",
    "            'Chemistry' : chemistry,\n",
    "            'Molecule'  : mol_name\n",
    "        }\n",
    "\n",
    "        # creating directories\n",
    "        mol_dir = chem_dir / mol_name \n",
    "        mol_dir.mkdir(exist_ok=True)\n",
    "\n",
    "        # creating simulation and associated files\n",
    "        polymer = mgr.polymers[mol_name]\n",
    "        sdf_path = polymer.structure_files_chgd[chg_method]\n",
    "\n",
    "        # create and register simulation\n",
    "        sim = ens_fac.create_simulation(interchange, sim_params)\n",
    "        omm_sims[chemistry][mol_name] = sim\n",
    "\n",
    "        # serialize Topology, System, and State for reloading\n",
    "        sdf_out_path = mol_dir / f'{mol_name}_topology.sdf'\n",
    "        copyfile(sdf_path, sdf_out_path)\n",
    "        serialize_state_and_sys(sim, out_dir=mol_dir, out_name=mol_name)"
   ]
  },
  {
   "cell_type": "markdown",
   "metadata": {},
   "source": [
    "## Loading simulations from file"
   ]
  },
  {
   "cell_type": "code",
   "execution_count": 7,
   "metadata": {},
   "outputs": [],
   "source": [
    "from openmm import XmlSerializer\n",
    "from openmm import Force\n",
    "\n",
    "from polysaccharide import filetree\n",
    "from polysaccharide.simulation.records import SimulationParameters\n",
    "from polysaccharide.simulation.ensemble import EnsembleSimulationFactory\n",
    "\n",
    "\n",
    "# parameters\n",
    "sep_force_grps : bool = True\n",
    "remove_constrs : bool = True\n",
    "\n",
    "chemistry = 'urethane'\n",
    "mol_name = 'urethane_2'\n",
    "\n",
    "# defining paths\n",
    "sp_path = Path('debug_sim_NVT.json')\n",
    "omm_dir = Path('OpenMM_no_sim')\n",
    "omm_dir.mkdir(exist_ok=True)\n",
    "\n",
    "ser_dir = omm_dir / chemistry / mol_name\n",
    "\n",
    "# define files\n",
    "state_file = ser_dir / f'{mol_name}_state.xml'\n",
    "sys_file   = ser_dir / f'{mol_name}_system.xml'\n",
    "top_file   = ser_dir / f'{mol_name}_topology.sdf'\n",
    "\n",
    "# load Topology via OpenFF\n",
    "offmol = Molecule.from_file(top_file)\n",
    "offtop = Topology.from_molecules(offmol)\n",
    "ommtop = offtop.to_openmm()\n",
    "\n",
    "# define ensemble-specific forces and Integrator\n",
    "sim_params = SimulationParameters.from_file(sp_path)\n",
    "ens_fac = EnsembleSimulationFactory.subclass_registry[sim_params.ensemble.upper()]()\n",
    "\n",
    "integrator = ens_fac.integrator(sim_params)\n",
    "forces     = ens_fac.forces   (sim_params)\n",
    "\n",
    "# load and configure System\n",
    "ommsys = load_openmm_system(sys_file, extra_forces=forces, sep_force_grps=sep_force_grps, remove_constrs=remove_constrs)\n",
    "\n",
    "# putting it all together into a Simulation\n",
    "sim = Simulation(\n",
    "    topology=ommtop,\n",
    "    system=ommsys,\n",
    "    integrator=integrator,\n",
    "    state=state_file\n",
    ")\n",
    "\n",
    "# load and apply State\n",
    "# with state_file.open('r') as file:\n",
    "#     ommstate = XmlSerializer.deserialize(file.read())\n",
    "# apply_state_to_context(ommstate, sim.context)"
   ]
  },
  {
   "cell_type": "code",
   "execution_count": 51,
   "metadata": {},
   "outputs": [],
   "source": [
    "eval_state = sim.context.getState(getEnergy=True)"
   ]
  },
  {
   "cell_type": "code",
   "execution_count": 53,
   "metadata": {},
   "outputs": [
    {
     "data": {
      "text/plain": [
       "Quantity(value=2270780.5927342256, unit=kilocalorie/mole)"
      ]
     },
     "execution_count": 53,
     "metadata": {},
     "output_type": "execute_result"
    }
   ],
   "source": [
    "eval_state.getPotentialEnergy().in_units_of(kilocalorie_per_mole)"
   ]
  },
  {
   "cell_type": "code",
   "execution_count": null,
   "metadata": {},
   "outputs": [],
   "source": [
    "from openff.interchange import Interchange\n",
    "from openmm import Integrator, Force\n",
    "\n",
    "from openmm.unit import nanometer\n",
    "from openff.units import unit as offunit\n",
    "\n",
    "def create_simulation2(interchange : Interchange, integrator : Integrator, forces : Optional[Iterable[Force]]=None,\n",
    "                        sep_force_grps : bool=True, remove_constrs : bool=True, combine_nonbonded_forces : bool=True) -> Simulation:\n",
    "    '''Specifies configuration for an OpenMM Simulation - Interchange load alows many routes for creation'''\n",
    "    openmm_sys = interchange.to_openmm(combine_nonbonded_forces=combine_nonbonded_forces) \n",
    "    openmm_top = interchange.topology.to_openmm()\n",
    "    openmm_pos = interchange.positions.m_as(offunit.nanometer) * nanometer\n",
    "\n",
    "    if forces: # deliberately sparse to handle both Nonetype and empty list\n",
    "        for force in forces: \n",
    "            openmm_sys.addForce(force)\n",
    "\n",
    "    if sep_force_grps:\n",
    "        for i, force in enumerate(openmm_sys.getForces()):\n",
    "            force.setForceGroup(i)\n",
    "\n",
    "    if remove_constrs:\n",
    "        for i in range(openmm_sys.getNumConstraints())[::-1]: # need to remove in reverse order to avoid having prior constraints \"fall back down\"\n",
    "            openmm_sys.removeConstraint(i)\n",
    "\n",
    "    simulation = Simulation(openmm_top, openmm_sys, integrator)\n",
    "    simulation.context.setPositions(openmm_pos)\n",
    "\n",
    "    return simulation"
   ]
  },
  {
   "cell_type": "markdown",
   "metadata": {},
   "source": [
    "## Probing NonbondedForce"
   ]
  },
  {
   "cell_type": "code",
   "execution_count": 58,
   "metadata": {},
   "outputs": [],
   "source": [
    "nonbond = sim.system.getForce(0)"
   ]
  },
  {
   "cell_type": "code",
   "execution_count": 62,
   "metadata": {},
   "outputs": [
    {
     "data": {
      "text/plain": [
       "828"
      ]
     },
     "execution_count": 62,
     "metadata": {},
     "output_type": "execute_result"
    }
   ],
   "source": [
    "nonbond.getNumParticles()"
   ]
  },
  {
   "cell_type": "code",
   "execution_count": 73,
   "metadata": {},
   "outputs": [
    {
     "data": {
      "text/plain": [
       "[Quantity(value=0.02025200054049492, unit=elementary charge),\n",
       " Quantity(value=0.337953176162662, unit=nanometer),\n",
       " Quantity(value=0.45538911611061844, unit=kilojoule/mole)]"
      ]
     },
     "execution_count": 73,
     "metadata": {},
     "output_type": "execute_result"
    }
   ],
   "source": [
    "nonbond.getParticleParameters(4)"
   ]
  },
  {
   "cell_type": "code",
   "execution_count": 97,
   "metadata": {},
   "outputs": [
    {
     "data": {
      "text/html": [
       "<div>\n",
       "<style scoped>\n",
       "    .dataframe tbody tr th:only-of-type {\n",
       "        vertical-align: middle;\n",
       "    }\n",
       "\n",
       "    .dataframe tbody tr th {\n",
       "        vertical-align: top;\n",
       "    }\n",
       "\n",
       "    .dataframe thead th {\n",
       "        text-align: right;\n",
       "    }\n",
       "</style>\n",
       "<table border=\"1\" class=\"dataframe\">\n",
       "  <thead>\n",
       "    <tr style=\"text-align: right;\">\n",
       "      <th></th>\n",
       "      <th>Atom name</th>\n",
       "      <th>Element</th>\n",
       "      <th>Partial charge</th>\n",
       "      <th>LJ_σ</th>\n",
       "      <th>LJ_ε</th>\n",
       "    </tr>\n",
       "  </thead>\n",
       "  <tbody>\n",
       "    <tr>\n",
       "      <th>0</th>\n",
       "      <td>C1x</td>\n",
       "      <td>C</td>\n",
       "      <td>0.7763530015945435 e</td>\n",
       "      <td>0.34806468869450646 nm</td>\n",
       "      <td>0.3635030558377792 kJ/mol</td>\n",
       "    </tr>\n",
       "    <tr>\n",
       "      <th>1</th>\n",
       "      <td>O1x</td>\n",
       "      <td>O</td>\n",
       "      <td>-0.6556079983711243 e</td>\n",
       "      <td>0.3039812205065809 nm</td>\n",
       "      <td>0.8795023257036865 kJ/mol</td>\n",
       "    </tr>\n",
       "    <tr>\n",
       "      <th>2</th>\n",
       "      <td>N1x</td>\n",
       "      <td>N</td>\n",
       "      <td>-0.47651898860931396 e</td>\n",
       "      <td>0.3206876023663901 nm</td>\n",
       "      <td>0.7016212989374017 kJ/mol</td>\n",
       "    </tr>\n",
       "    <tr>\n",
       "      <th>3</th>\n",
       "      <td>H1x</td>\n",
       "      <td>H</td>\n",
       "      <td>0.3168550133705139 e</td>\n",
       "      <td>0.11034276772973167 nm</td>\n",
       "      <td>0.058955968900150965 kJ/mol</td>\n",
       "    </tr>\n",
       "    <tr>\n",
       "      <th>4</th>\n",
       "      <td>C2x</td>\n",
       "      <td>C</td>\n",
       "      <td>0.02025200054049492 e</td>\n",
       "      <td>0.337953176162662 nm</td>\n",
       "      <td>0.45538911611061844 kJ/mol</td>\n",
       "    </tr>\n",
       "    <tr>\n",
       "      <th>...</th>\n",
       "      <td>...</td>\n",
       "      <td>...</td>\n",
       "      <td>...</td>\n",
       "      <td>...</td>\n",
       "      <td>...</td>\n",
       "    </tr>\n",
       "    <tr>\n",
       "      <th>823</th>\n",
       "      <td>H503x</td>\n",
       "      <td>H</td>\n",
       "      <td>0.020533999428153038 e</td>\n",
       "      <td>0.2583225710839196 nm</td>\n",
       "      <td>0.068656285380106 kJ/mol</td>\n",
       "    </tr>\n",
       "    <tr>\n",
       "      <th>824</th>\n",
       "      <td>H504x</td>\n",
       "      <td>H</td>\n",
       "      <td>0.020533999428153038 e</td>\n",
       "      <td>0.2583225710839196 nm</td>\n",
       "      <td>0.068656285380106 kJ/mol</td>\n",
       "    </tr>\n",
       "    <tr>\n",
       "      <th>825</th>\n",
       "      <td>N18x</td>\n",
       "      <td>N</td>\n",
       "      <td>-0.6973109841346741 e</td>\n",
       "      <td>0.3206876023663901 nm</td>\n",
       "      <td>0.7016212989374017 kJ/mol</td>\n",
       "    </tr>\n",
       "    <tr>\n",
       "      <th>826</th>\n",
       "      <td>C270x</td>\n",
       "      <td>C</td>\n",
       "      <td>0.5900880098342896 e</td>\n",
       "      <td>0.33996695084235345 nm</td>\n",
       "      <td>0.87864 kJ/mol</td>\n",
       "    </tr>\n",
       "    <tr>\n",
       "      <th>827</th>\n",
       "      <td>O36x</td>\n",
       "      <td>O</td>\n",
       "      <td>-0.5328570008277893 e</td>\n",
       "      <td>0.3039812205065809 nm</td>\n",
       "      <td>0.8795023257036865 kJ/mol</td>\n",
       "    </tr>\n",
       "  </tbody>\n",
       "</table>\n",
       "<p>828 rows × 5 columns</p>\n",
       "</div>"
      ],
      "text/plain": [
       "    Atom name Element          Partial charge                    LJ_σ  \\\n",
       "0         C1x       C    0.7763530015945435 e  0.34806468869450646 nm   \n",
       "1         O1x       O   -0.6556079983711243 e   0.3039812205065809 nm   \n",
       "2         N1x       N  -0.47651898860931396 e   0.3206876023663901 nm   \n",
       "3         H1x       H    0.3168550133705139 e  0.11034276772973167 nm   \n",
       "4         C2x       C   0.02025200054049492 e    0.337953176162662 nm   \n",
       "..        ...     ...                     ...                     ...   \n",
       "823     H503x       H  0.020533999428153038 e   0.2583225710839196 nm   \n",
       "824     H504x       H  0.020533999428153038 e   0.2583225710839196 nm   \n",
       "825      N18x       N   -0.6973109841346741 e   0.3206876023663901 nm   \n",
       "826     C270x       C    0.5900880098342896 e  0.33996695084235345 nm   \n",
       "827      O36x       O   -0.5328570008277893 e   0.3039812205065809 nm   \n",
       "\n",
       "                            LJ_ε  \n",
       "0      0.3635030558377792 kJ/mol  \n",
       "1      0.8795023257036865 kJ/mol  \n",
       "2      0.7016212989374017 kJ/mol  \n",
       "3    0.058955968900150965 kJ/mol  \n",
       "4     0.45538911611061844 kJ/mol  \n",
       "..                           ...  \n",
       "823     0.068656285380106 kJ/mol  \n",
       "824     0.068656285380106 kJ/mol  \n",
       "825    0.7016212989374017 kJ/mol  \n",
       "826               0.87864 kJ/mol  \n",
       "827    0.8795023257036865 kJ/mol  \n",
       "\n",
       "[828 rows x 5 columns]"
      ]
     },
     "execution_count": 97,
     "metadata": {},
     "output_type": "execute_result"
    }
   ],
   "source": [
    "SIG = general.GREEK_LOWER['sigma']\n",
    "EPS = general.GREEK_LOWER['epsilon']\n",
    "\n",
    "records = []\n",
    "for atom in sim.topology.atoms():\n",
    "    charge, sigma, epsilon = nonbond.getParticleParameters(atom.index)\n",
    "    records.append({\n",
    "        'Atom name' : atom.name,\n",
    "        'Element' : atom.element.symbol,\n",
    "        'Partial charge' : charge,\n",
    "        f'LJ_{SIG}' : sigma,\n",
    "        f'LJ_{EPS}' : epsilon\n",
    "    })\n",
    "\n",
    "lj_dframe = pd.DataFrame.from_records(records)\n",
    "lj_dframe"
   ]
  },
  {
   "cell_type": "code",
   "execution_count": 96,
   "metadata": {},
   "outputs": [
    {
     "data": {
      "text/plain": [
       "'σ'"
      ]
     },
     "execution_count": 96,
     "metadata": {},
     "output_type": "execute_result"
    }
   ],
   "source": [
    "general.GREEK_LOWER['sigma']"
   ]
  },
  {
   "cell_type": "code",
   "execution_count": 94,
   "metadata": {},
   "outputs": [
    {
     "data": {
      "text/plain": [
       "'C1x'"
      ]
     },
     "execution_count": 94,
     "metadata": {},
     "output_type": "execute_result"
    }
   ],
   "source": [
    "atoms[0].name"
   ]
  },
  {
   "cell_type": "code",
   "execution_count": 92,
   "metadata": {},
   "outputs": [],
   "source": [
    "targ_elem = 'C'\n",
    "\n",
    "targ_atoms = [\n",
    "    (atom.index, atom)\n",
    "        for atom in sim.topology.atoms()\n",
    "            if atom.element.symbol == targ_elem\n",
    "]"
   ]
  },
  {
   "cell_type": "code",
   "execution_count": null,
   "metadata": {},
   "outputs": [],
   "source": [
    "for (index, atom) in targ_atoms:\n",
    "    print(atom, nonbond.getParticleParameters(index))"
   ]
  },
  {
   "cell_type": "code",
   "execution_count": 8,
   "metadata": {},
   "outputs": [
    {
     "data": {
      "text/plain": [
       "[<openmm.openmm.NonbondedForce; proxy of <Swig Object of type 'OpenMM::NonbondedForce *' at 0x7f49310a1050> >,\n",
       " <openmm.openmm.PeriodicTorsionForce; proxy of <Swig Object of type 'OpenMM::PeriodicTorsionForce *' at 0x7f49310a0b70> >,\n",
       " <openmm.openmm.HarmonicAngleForce; proxy of <Swig Object of type 'OpenMM::HarmonicAngleForce *' at 0x7f49310a1020> >,\n",
       " <openmm.openmm.HarmonicBondForce; proxy of <Swig Object of type 'OpenMM::HarmonicBondForce *' at 0x7f49310a3ab0> >]"
      ]
     },
     "execution_count": 8,
     "metadata": {},
     "output_type": "execute_result"
    }
   ],
   "source": [
    "sim.system.getForces()"
   ]
  },
  {
   "cell_type": "code",
   "execution_count": 11,
   "metadata": {},
   "outputs": [],
   "source": [
    "bonded = sim.system.getForce(3)"
   ]
  },
  {
   "cell_type": "markdown",
   "metadata": {},
   "source": [
    "## Evaluating starting structure energies"
   ]
  },
  {
   "cell_type": "code",
   "execution_count": null,
   "metadata": {},
   "outputs": [],
   "source": [
    "NULL_ENERGY = 0.0*kilojoule_per_mole\n",
    "PRECISION : int = 4\n",
    "\n",
    "remove_constrs : bool = True\n",
    "\n",
    "data_dicts = []\n",
    "for chemistry, mol_dict in omm_sims.items():\n",
    "    for mol_name, sim in mol_dict.items():\n",
    "        # assign and initialize unique force groups for simulation\n",
    "        for i, force in enumerate(sim.system.getForces()):\n",
    "            force.setForceGroup(i)\n",
    "            # print(force.getName(), force.getForceGroup())\n",
    "        sim.context.reinitialize(preserveState=True) # need to reinitialize to get force labelling changes to \"stick\"\n",
    "\n",
    "        # remove constraints\n",
    "        if remove_constrs:\n",
    "            for i in range(sim.system.getNumConstraints())[::-1]: # need to remove in reverse order to avoid having prior constraints \"fall back down\"\n",
    "                sim.system.removeConstraint(i)\n",
    "            sim.context.reinitialize(preserveState=True)\n",
    "\n",
    "        # extract total and component energies from OpenMM force groups\n",
    "        data_dict = {\n",
    "            'Chemistry' : chemistry,\n",
    "            'Molecule'  : mol_name\n",
    "        }\n",
    "        omm_energies = {}\n",
    "\n",
    "        overall_state = sim.context.getState(getEnergy=True) # get total potential energy\n",
    "        PE = overall_state.getPotentialEnergy()\n",
    "        omm_energies['Total'] = PE\n",
    "\n",
    "        KE = overall_state.getKineticEnergy()\n",
    "        assert(KE == NULL_ENERGY)\n",
    "\n",
    "        for i, force in enumerate(sim.system.getForces()):\n",
    "            state = sim.context.getState(getEnergy=True, groups={i})\n",
    "            force_name = force.getName().removesuffix('Force')\n",
    "            omm_energies[force_name] = state.getPotentialEnergy()\n",
    "\n",
    "        # reformat\n",
    "        omm_energies_kcal = {}\n",
    "        for contrib, energy_kj in omm_energies.items():\n",
    "            energy_kcal = energy_kj.in_units_of(kilocalorie_per_mole)\n",
    "            omm_energies_kcal[f'{contrib} ({energy_kcal.unit.get_symbol()})'] = round(energy_kcal._value, PRECISION)\n",
    "\n",
    "        # compiling data\n",
    "        data_dict = {**data_dict, **omm_energies_kcal}\n",
    "        data_dicts.append(data_dict)\n",
    "\n",
    "df = pd.DataFrame.from_records(data_dicts)\n",
    "df.sort_values('Molecule', inplace=True, drop=True)\n",
    "df.to_csv(omm_dir / 'Potential_energies_unconstrained.csv', index=False)"
   ]
  },
  {
   "cell_type": "markdown",
   "metadata": {},
   "source": [
    "## Testing effect of removing constraints on energies"
   ]
  },
  {
   "cell_type": "code",
   "execution_count": null,
   "metadata": {},
   "outputs": [],
   "source": [
    "ic = ic_dict['urethane_44']\n",
    "integrator = ens_fac.integrator(sim_params)\n",
    "forces = ens_fac.forces(sim_params)"
   ]
  },
  {
   "cell_type": "code",
   "execution_count": null,
   "metadata": {},
   "outputs": [],
   "source": [
    "simm = create_simulation2(ic, integrator, forces=forces, sep_force_grps=True, remove_constrs=True, combine_nonbonded_forces=True)"
   ]
  },
  {
   "cell_type": "code",
   "execution_count": null,
   "metadata": {},
   "outputs": [],
   "source": [
    "simm.system.getNumConstraints()"
   ]
  },
  {
   "cell_type": "code",
   "execution_count": null,
   "metadata": {},
   "outputs": [],
   "source": [
    "overall_state = simm.context.getState(getEnergy=True) # get total potential energy\n",
    "PE = overall_state.getPotentialEnergy()\n",
    "omm_energies['Total'] = PE\n",
    "\n",
    "KE = overall_state.getKineticEnergy()\n",
    "assert(KE == NULL_ENERGY)\n",
    "\n",
    "for i, force in enumerate(simm.system.getForces()):\n",
    "    state = simm.context.getState(getEnergy=True, groups={i})\n",
    "    force_name = force.getName().removesuffix('Force')\n",
    "    omm_energies[force_name] = state.getPotentialEnergy()\n",
    "\n",
    "# reformat\n",
    "omm_energies_kcal = {}\n",
    "for contrib, energy_kj in omm_energies.items():\n",
    "    energy_kcal = energy_kj.in_units_of(kilocalorie_per_mole)\n",
    "    omm_energies_kcal[f'{contrib} ({energy_kcal.unit.get_symbol()})'] = round(energy_kcal._value, PRECISION)\n"
   ]
  },
  {
   "cell_type": "code",
   "execution_count": null,
   "metadata": {},
   "outputs": [],
   "source": [
    "omm_energies_kcal"
   ]
  },
  {
   "cell_type": "code",
   "execution_count": null,
   "metadata": {},
   "outputs": [],
   "source": [
    "for i in range(sim.system.getNumConstraints())[::-1]:\n",
    "    print(sim.system.getConstraintParameters(i))\n",
    "    sim.system.removeConstraint(i)"
   ]
  },
  {
   "cell_type": "code",
   "execution_count": null,
   "metadata": {},
   "outputs": [],
   "source": [
    "list(range(5)[::-1])"
   ]
  },
  {
   "cell_type": "code",
   "execution_count": null,
   "metadata": {},
   "outputs": [],
   "source": [
    "sim.system.getNumConstraints()"
   ]
  },
  {
   "cell_type": "code",
   "execution_count": null,
   "metadata": {},
   "outputs": [],
   "source": [
    "sim.system.getConstraintParameters(359)"
   ]
  },
  {
   "cell_type": "markdown",
   "metadata": {},
   "source": [
    "## Comparing ParmEd energy decomposition to native OpenMM force-group-based decomposition"
   ]
  },
  {
   "cell_type": "code",
   "execution_count": null,
   "metadata": {},
   "outputs": [],
   "source": [
    "import parmed\n",
    "from openmm.openmm import Force\n",
    "\n",
    "NULL_ENERGY = 0.0*kilojoule_per_mole\n",
    "\n",
    "sim = omm_sims['urethane']['urethane_41']\n",
    "# assign and initialize unique force groups for simulation\n",
    "for i, force in enumerate(sim.system.getForces()):\n",
    "    force.setForceGroup(i)\n",
    "    # print(force.getName(), force.getForceGroup())\n",
    "sim.context.reinitialize(preserveState=True) # need to reinitialize to get force labelling changes to \"stick\"\n",
    "\n",
    "# energies from OpenMM force groups\n",
    "print('\\nOpenMM:')\n",
    "print('='*30)\n",
    "omm_energies = {}\n",
    "\n",
    "## extract total energies for state\n",
    "overall_state = sim.context.getState(getEnergy=True) # get total potential energy\n",
    "PE = overall_state.getPotentialEnergy()\n",
    "omm_energies['Total Potential Energy'] = PE\n",
    "\n",
    "KE = overall_state.getKineticEnergy()\n",
    "assert(KE == NULL_ENERGY)\n",
    "\n",
    "for i, force in enumerate(sim.system.getForces()):\n",
    "    state = sim.context.getState(getEnergy=True, groups={i})\n",
    "    force_name = force.getName().removesuffix('Force')\n",
    "    pe = state.getPotentialEnergy()\n",
    "\n",
    "    omm_energies[force_name] = pe\n",
    "    print(f'{force_name} : {pe}')\n",
    "\n",
    "## converting name to match with ParmEd for comparison\n",
    "namemap = {\n",
    "    'Nonbonded' : 'bond',\n",
    "    'PeriodicTorsion' : 'angle',\n",
    "    'HarmonicAngle' : 'dihedral',\n",
    "    'HarmonicBond' : 'urey_bradley',\n",
    "    'Total Potential Energy' : 'total'\n",
    "}\n",
    "compat_omm_energies = {\n",
    "    namemap[contrib] : energy\n",
    "        for contrib, energy in omm_energies.items()\n",
    "}\n",
    "\n",
    "total = sum(omm_energies.values(), start=NULL_ENERGY) # need \"seed\" to have Quantity datatype to sum\n",
    "print(f'{general.GREEK_UPPER[\"delta\"]}E_contrib: ', PE - total)\n",
    "\n",
    "# ParmEd energy decomposition\n",
    "print('\\nParmEd:')\n",
    "print('='*30)\n",
    "parm_energies = {}\n",
    "parm_struct = parmed.openmm.load_topology(sim.topology, sim.system)\n",
    "for contrib, energy_val in parmed.openmm.energy_decomposition(parm_struct, sim.context).items():\n",
    "    parm_energies[contrib] = energy = energy_val*kilocalorie_per_mole # assign proper units\n",
    "    print(contrib, energy.in_units_of(kilojoule_per_mole))"
   ]
  },
  {
   "cell_type": "markdown",
   "metadata": {},
   "source": [
    "## Minimizing and running single integration step, then evaluating energies from reporter"
   ]
  },
  {
   "cell_type": "code",
   "execution_count": null,
   "metadata": {},
   "outputs": [],
   "source": [
    "import re\n",
    "from openmm.unit import kilojoule_per_mole, kilocalorie_per_mole\n",
    "\n",
    "from polysaccharide.simulation import preparation\n",
    "from polysaccharide.simulation.records import SimulationParameters\n",
    "from polysaccharide.simulation.ensemble import EnsembleSimulationFactory\n",
    "\n",
    "STRIP_BEFORE_PARENS = re.compile(r'(.*?)(?=\\s*\\(.*\\))')\n",
    "PRECISION = 3 # number of decimals to round reported energies to\n",
    "\n",
    "omm_dir = Path('OpenMM_no_sim')\n",
    "omm_dir.mkdir(exist_ok=True)\n",
    "\n",
    "\n",
    "# selecting simulation parameters and ensemble\n",
    "sp_path = Path('debug_sim_NVT.json')\n",
    "sim_params = SimulationParameters.from_file(sp_path)\n",
    "ens_fac = EnsembleSimulationFactory.subclass_registry[sim_params.ensemble.upper()]()\n",
    "\n",
    "data_by_mol = []\n",
    "omm_sims = defaultdict(defaultdict)\n",
    "# looping over all urethanes\n",
    "for chemistry, ic_dict in success_ics.items():\n",
    "    chem_dir = omm_dir / chemistry\n",
    "    chem_dir.mkdir(exist_ok=True)\n",
    "\n",
    "    for mol_name, interchange in ic_dict.items():\n",
    "        data_dict = {\n",
    "            'Chemistry' : chemistry,\n",
    "            'Molecule'  : mol_name\n",
    "        }\n",
    "\n",
    "        # creating directories\n",
    "        mol_dir = chem_dir / mol_name \n",
    "        mol_dir.mkdir(exist_ok=True)\n",
    "\n",
    "        sim_file_dir = mol_dir / f'{mol_name}_sim'\n",
    "        sim_file_dir.mkdir(exist_ok=True, parents=True)\n",
    "\n",
    "        # creating simulation and associated files\n",
    "        sim = ens_fac.create_simulation(interchange, sim_params)\n",
    "        sim_paths = preparation.prepare_simulation_paths(output_folder=sim_file_dir, output_name=mol_name, sim_params=sim_params)\n",
    "        reporters = preparation.prepare_simulation_reporters(sim_paths, sim_params)\n",
    "        preparation.config_simulation(sim, reporters, checkpoint_path=sim_paths.checkpoint)\n",
    "\n",
    "        # energy min and single-step integration\n",
    "        sim.minimizeEnergy()\n",
    "        sim.step(1)\n",
    "\n",
    "        # extracting energies\n",
    "\n",
    "        state_data = pd.read_csv(sim_paths.state_data)\n",
    "        energies = {}\n",
    "        for key in ('Potential Energy (kJ/mole)', 'Kinetic Energy (kJ/mole)'):\n",
    "            tag = re.search(STRIP_BEFORE_PARENS, key).group(0)\n",
    "            E_kj_val = state_data[key][0]\n",
    "            E_kj = E_kj_val * kilojoule_per_mole\n",
    "            E_kcal = E_kj.in_units_of(kilocalorie_per_mole)\n",
    "\n",
    "            for energy in (E_kj, E_kcal):\n",
    "                energies[f'{tag} ({energy.unit.get_symbol()})'] = energy._value\n",
    "        \n",
    "        data_dict.update(**energies)\n",
    "        data_by_mol.append(data_dict)\n",
    "\n",
    "# collate energies into DataFrame        \n",
    "df = pd.DataFrame.from_records(data_by_mol)\n",
    "df = df.sort_values('Molecule')\n",
    "\n",
    "# round energy values down to desired precision\n",
    "round_fn = lambda x : round(x, PRECISION)\n",
    "\n",
    "for col_name, col in df.items():\n",
    "    try:\n",
    "        df[col_name] = col.apply(round_fn) # attempt to round column and replace with rounded values\n",
    "    except TypeError:\n",
    "        pass\n",
    "\n",
    "# save energies to file\n",
    "energy_file = omm_dir / 'energies_1_step.csv'\n",
    "df.to_csv(energy_file, index=False)"
   ]
  },
  {
   "cell_type": "markdown",
   "metadata": {},
   "source": [
    "# Inspecting which molecules fail and succeed and why"
   ]
  },
  {
   "cell_type": "code",
   "execution_count": null,
   "metadata": {},
   "outputs": [],
   "source": [
    "import re\n",
    "regex = re.compile(r'\\A(\\w+_\\d+)')\n",
    "\n",
    "diff = {}\n",
    "for chemistry, succ_names in success_ics.items():\n",
    "    chem_dir = coll_path / chemistry\n",
    "    for sdf_path in chem_dir.glob('**/*.sdf'):\n",
    "        mol_name = re.search(regex, sdf_path.stem).group()\n",
    "        if mol_name not in succ_names:\n",
    "            diff.append(mol_name)"
   ]
  },
  {
   "cell_type": "markdown",
   "metadata": {},
   "source": [
    "## Checking for successful residue covers of newly-generated PDB Topologies"
   ]
  },
  {
   "cell_type": "code",
   "execution_count": null,
   "metadata": {},
   "outputs": [],
   "source": [
    "chemistry = 'urethane'\n",
    "\n",
    "mgr = PolymerManager(coll_path / chemistry)\n",
    "mol_names = failed_interchanges[chemistry]['UnmatchedAtomsError']\n",
    "\n",
    "offmols = {\n",
    "    mol_name : mgr.polymers[mol_name].offmol_matched(strict=False)\n",
    "        for mol_name in mol_names\n",
    "}"
   ]
  },
  {
   "cell_type": "code",
   "execution_count": null,
   "metadata": {},
   "outputs": [],
   "source": [
    "sizes = {\n",
    "    mol_name : offmol.n_atoms\n",
    "        for mol_name, offmol in sorted(offmols.items(), key=lambda x : x[1].n_atoms)\n",
    "}"
   ]
  },
  {
   "cell_type": "code",
   "execution_count": null,
   "metadata": {},
   "outputs": [],
   "source": [
    "sizes"
   ]
  },
  {
   "cell_type": "code",
   "execution_count": null,
   "metadata": {},
   "outputs": [],
   "source": [
    "\n",
    "pdir = mgr.polymers['urethane_6']\n",
    "# pdir = mgr.polymers['NIPU_8']\n",
    "# pdir.offmol_matched(strict=True)\n",
    "\n",
    "for atom in offmol.atoms:\n",
    "    if not atom.metadata['already_matched']:\n",
    "        print(atom.metadata)"
   ]
  },
  {
   "cell_type": "code",
   "execution_count": null,
   "metadata": {},
   "outputs": [],
   "source": [
    "mgr = PolymerManager(coll_path / 'NIPU')\n",
    "\n",
    "offmols = {}\n",
    "unmatched = []\n",
    "for mol_name, polymer in mgr.polymers.items():\n",
    "    try:\n",
    "        offmols[mol_name] = polymer.offmol\n",
    "    except:\n",
    "        unmatched.append(mol_name)"
   ]
  },
  {
   "cell_type": "code",
   "execution_count": null,
   "metadata": {},
   "outputs": [],
   "source": [
    "for mol_name in unmatched:\n",
    "    print(mol_name)\n",
    "    polymer = mgr.polymers[mol_name]\n",
    "    offmol = polymer.offmol_matched(strict=False)\n",
    "    \n",
    "    for atom in offmol.atoms:\n",
    "        if not atom.metadata['already_matched']:\n",
    "            print('\\t', atom.metadata)"
   ]
  },
  {
   "cell_type": "markdown",
   "metadata": {},
   "source": [
    "# Experimenting with SDF files"
   ]
  },
  {
   "cell_type": "code",
   "execution_count": null,
   "metadata": {},
   "outputs": [],
   "source": [
    "benz = Chem.MolFromSmiles('C1ccccC=1')\n",
    "benz = Chem.AddHs(benz)\n",
    "benz.SetDoubleProp('stuff', 3.14)\n",
    "benz"
   ]
  },
  {
   "cell_type": "code",
   "execution_count": null,
   "metadata": {},
   "outputs": [],
   "source": [
    "block2k = Chem.MolToMolFile(benz, 'test_2k.sdf')\n",
    "block3k = Chem.MolToV3KMolFile(benz, 'test_3k.sdf')"
   ]
  },
  {
   "cell_type": "code",
   "execution_count": null,
   "metadata": {},
   "outputs": [],
   "source": [
    "block2kforce = Chem.MolToMolFile(benz, 'test_2k_force.sdf', forceV3000=True)"
   ]
  },
  {
   "cell_type": "code",
   "execution_count": null,
   "metadata": {},
   "outputs": [],
   "source": [
    "with Chem.SDWriter('test_sdw.sdf') as sdwriter:\n",
    "    sdwriter.SetForceV3000(True)\n",
    "    print(sdwriter.GetForceV3000())\n",
    "\n",
    "    sdwriter.write(benz)"
   ]
  },
  {
   "cell_type": "code",
   "execution_count": null,
   "metadata": {},
   "outputs": [],
   "source": [
    "with Chem.SDMolSupplier('sdf_testing/test_off_rd.sdf', sanitize=False) as suppl:\n",
    "    mols = [mol for mol in suppl]\n",
    "\n",
    "targ = mols[0]\n",
    "targ"
   ]
  },
  {
   "cell_type": "code",
   "execution_count": null,
   "metadata": {},
   "outputs": [],
   "source": [
    "omol = Molecule.from_rdkit(benz)\n",
    "omol.generate_conformers(n_conformers=1)\n",
    "omol.visualize(backend='nglview')"
   ]
  },
  {
   "cell_type": "code",
   "execution_count": null,
   "metadata": {},
   "outputs": [],
   "source": [
    "from polysaccharide import filetree\n",
    "from polysaccharide import TOOLKITS\n",
    "\n",
    "\n",
    "p = Path('sdf_testing/test_off_rd.sdf')\n",
    "tkwrap = TOOLKITS['The RDKit']\n",
    "\n",
    "omol.properties['series'] = (1,2,3)\n",
    "omol.to_file(\n",
    "    general.asstrpath(p),\n",
    "    file_format=filetree.dotless(p.suffix),\n",
    "    toolkit_registry=tkwrap\n",
    ")"
   ]
  },
  {
   "cell_type": "code",
   "execution_count": null,
   "metadata": {},
   "outputs": [],
   "source": [
    "omol_load = Molecule.from_file(\n",
    "    general.asstrpath(p),\n",
    "    file_format=filetree.dotless(p.suffix),\n",
    "    toolkit_registry=tkwrap\n",
    ")"
   ]
  },
  {
   "cell_type": "code",
   "execution_count": null,
   "metadata": {},
   "outputs": [],
   "source": []
  },
  {
   "cell_type": "code",
   "execution_count": null,
   "metadata": {},
   "outputs": [],
   "source": [
    "omol_load.properties"
   ]
  },
  {
   "cell_type": "code",
   "execution_count": null,
   "metadata": {},
   "outputs": [],
   "source": [
    "help(tkwrap.to_file)"
   ]
  },
  {
   "cell_type": "code",
   "execution_count": null,
   "metadata": {},
   "outputs": [],
   "source": [
    "help(omol.to_file)"
   ]
  },
  {
   "cell_type": "code",
   "execution_count": null,
   "metadata": {},
   "outputs": [],
   "source": []
  },
  {
   "cell_type": "code",
   "execution_count": null,
   "metadata": {},
   "outputs": [],
   "source": []
  }
 ],
 "metadata": {
  "kernelspec": {
   "display_name": "openff-dev-updated",
   "language": "python",
   "name": "python3"
  },
  "language_info": {
   "codemirror_mode": {
    "name": "ipython",
    "version": 3
   },
   "file_extension": ".py",
   "mimetype": "text/x-python",
   "name": "python",
   "nbconvert_exporter": "python",
   "pygments_lexer": "ipython3",
   "version": "3.10.9"
  },
  "orig_nbformat": 4
 },
 "nbformat": 4,
 "nbformat_minor": 2
}
