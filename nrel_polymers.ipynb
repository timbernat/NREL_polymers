{
 "cells": [
  {
   "cell_type": "code",
   "execution_count": null,
   "metadata": {},
   "outputs": [],
   "source": [
    "import numpy as np\n",
    "from pathlib import Path\n",
    "\n",
    "# OpenFF\n",
    "from openff.interchange import Interchange\n",
    "from openff.toolkit import Topology, Molecule, ForceField\n",
    "from openforcefields.openforcefields import get_forcefield_dirs_paths\n",
    "\n",
    "# OpenMM\n",
    "from openmm import Integrator, VerletIntegrator, LangevinMiddleIntegrator\n",
    "from openmm.openmm import Force, MonteCarloBarostat\n",
    "from openmm.app import Simulation\n",
    "\n",
    "from openmm.unit import kelvin, atmosphere, picosecond, femtosecond\n",
    "\n",
    "\n",
    "ff_path = Path(get_forcefield_dirs_paths()[0]) / 'openff-2.0.0.offxml'\n",
    "ff = ForceField(ff_path)\n",
    "\n",
    "sdf = Path('Collections/urethane/urethane_41/urethane_41/SDF/urethane_41_charged_Espaloma_AM1BCC.sdf')\n",
    "offmol = Molecule.from_file(sdf)\n",
    "top = Topology.from_molecules(offmol)\n",
    "top_bbox = top.get_positions().ptp(axis=0)\n",
    "top.box_vectors = np.diag(top_bbox.magnitude) * top_bbox.units # convert to diagonal matrix\n",
    "\n",
    "integ = LangevinMiddleIntegrator(300*kelvin, 1/picosecond, 1*femtosecond)\n",
    "ic = Interchange.from_smirnoff(ff, top, charge_from_molecules=[offmol])\n",
    "sim = ic.to_openmm_simulation(integrator=integ)\n",
    "\n",
    "barostat = MonteCarloBarostat(1*atmosphere, 300*kelvin)\n",
    "sim.system.addForce(barostat)\n",
    "sim.context.reinitialize(preserveState=True)"
   ]
  },
  {
   "cell_type": "markdown",
   "metadata": {},
   "source": [
    "# Core Imports"
   ]
  },
  {
   "cell_type": "code",
   "execution_count": 1,
   "metadata": {},
   "outputs": [
    {
     "name": "stderr",
     "output_type": "stream",
     "text": [
      "/home/timber/miniconda3/envs/openff-dev-updated/lib/python3.10/site-packages/numpy/core/getlimits.py:518: UserWarning: The value of the smallest subnormal for <class 'numpy.float64'> type is zero.\n",
      "  setattr(self, word, getattr(machar, word).flat[0])\n",
      "/home/timber/miniconda3/envs/openff-dev-updated/lib/python3.10/site-packages/numpy/core/getlimits.py:89: UserWarning: The value of the smallest subnormal for <class 'numpy.float64'> type is zero.\n",
      "  return self._float_to_str(self.smallest_subnormal)\n",
      "/home/timber/miniconda3/envs/openff-dev-updated/lib/python3.10/site-packages/numpy/core/getlimits.py:518: UserWarning: The value of the smallest subnormal for <class 'numpy.float32'> type is zero.\n",
      "  setattr(self, word, getattr(machar, word).flat[0])\n",
      "/home/timber/miniconda3/envs/openff-dev-updated/lib/python3.10/site-packages/numpy/core/getlimits.py:89: UserWarning: The value of the smallest subnormal for <class 'numpy.float32'> type is zero.\n",
      "  return self._float_to_str(self.smallest_subnormal)\n",
      "Warning on use of the timeseries module: If the inherent timescales of the system are long compared to those being analyzed, this statistical inefficiency may be an underestimate.  The estimate presumes the use of many statistically independent samples.  Tests should be performed to assess whether this condition is satisfied.   Be cautious in the interpretation of the data.\n",
      "WARNING:root:Warning: importing 'simtk.openmm' is deprecated.  Import 'openmm' instead.\n"
     ]
    }
   ],
   "source": [
    "# Custom Imports\n",
    "from polysaccharide import general\n",
    "from polysaccharide.general import optional_in_place\n",
    "from polysaccharide.extratypes import ResidueSmarts\n",
    "\n",
    "from polysaccharide.molutils import reactions\n",
    "from polysaccharide.molutils.rdmol.rdtypes import *\n",
    "from polysaccharide.molutils.rdmol import rdcompare, rdconvert, rdkdraw, rdcompare, rdprops, rdbond, rdlabels\n",
    "\n",
    "from polysaccharide.polymer import monomer as monoutils\n",
    "from polysaccharide.polymer.monomer import MonomerInfo\n",
    "from polysaccharide.polymer.management import PolymerManager\n",
    "\n",
    "from polysaccharide.polymer import building\n",
    "import mbuild as mb\n",
    "\n",
    "# Generic Imports\n",
    "import re\n",
    "from functools import partial, cached_property\n",
    "from collections import defaultdict\n",
    "from itertools import combinations, chain\n",
    "from ast import literal_eval\n",
    "\n",
    "# Numeric imports\n",
    "import pandas as pd\n",
    "import numpy as np\n",
    "\n",
    "# File I/O\n",
    "from pathlib import Path\n",
    "import csv, json, openpyxl\n",
    "\n",
    "# Typing and Subclassing\n",
    "from typing import Any, Callable, ClassVar, Generator, Iterable, Optional, Union\n",
    "from dataclasses import dataclass, field\n",
    "from abc import ABC, abstractmethod, abstractproperty\n",
    "from openmm.unit import Unit, Quantity\n",
    "\n",
    "# Cheminformatics\n",
    "from rdkit import Chem\n",
    "from rdkit.Chem import rdChemReactions\n",
    "\n",
    "from openff.toolkit import ForceField\n",
    "from openff.toolkit.topology import Topology, Molecule\n",
    "\n",
    "# Static Paths\n",
    "RAW_DATA_PATH  = Path('raw_monomer_data')\n",
    "PROC_DATA_PATH = Path('processed_monomer_data')\n",
    "RXN_FILES_PATH = Path('rxn_smarts')\n",
    "MONO_INFO_DIR  = Path('monomer_files')"
   ]
  },
  {
   "cell_type": "markdown",
   "metadata": {},
   "source": [
    "# File and chemistry type definitions"
   ]
  },
  {
   "cell_type": "code",
   "execution_count": 2,
   "metadata": {},
   "outputs": [],
   "source": [
    "pdb_path = Path('pdb_files')\n",
    "pdb_path.mkdir(exist_ok=True)\n",
    "\n",
    "coll_path = Path('Collections')\n",
    "coll_path.mkdir(exist_ok=True)\n",
    "\n",
    "lammps_path = Path('LAMMPS')\n",
    "lammps_path.mkdir(exist_ok=True)\n",
    "\n",
    "omm_path = Path('OpenMM')\n",
    "omm_path.mkdir(exist_ok=True)"
   ]
  },
  {
   "cell_type": "code",
   "execution_count": 3,
   "metadata": {},
   "outputs": [],
   "source": [
    "# defining reacting functional groups\n",
    "reaction_pairs = {\n",
    "    'NIPU' : ('cyclocarbonate', 'amine'),\n",
    "    'urethane' : ('isocyanate', 'hydroxyl')\n",
    "}\n",
    "# chemistries = ('urethane', 'NIPU')\n",
    "chemistries = [i for i in reaction_pairs.keys()]"
   ]
  },
  {
   "cell_type": "markdown",
   "metadata": {},
   "source": [
    "# Collating urethanes into collections and generating Interchange files"
   ]
  },
  {
   "cell_type": "markdown",
   "metadata": {},
   "source": [
    "## Generating LAMMPS files via Interchange for both collections"
   ]
  },
  {
   "cell_type": "code",
   "execution_count": 5,
   "metadata": {},
   "outputs": [],
   "source": [
    "from polysaccharide import OPENFF_DIR\n",
    "from polysaccharide.charging.application import MolCharger\n",
    "\n",
    "# specify forcefield\n",
    "ff_name = 'openff-2.0.0.offxml'\n",
    "ff_path = OPENFF_DIR / ff_name\n",
    "forcefield = ForceField(ff_path)\n",
    "\n",
    "# specify charging method\n",
    "chg_method = 'Espaloma_AM1BCC'"
   ]
  },
  {
   "cell_type": "code",
   "execution_count": null,
   "metadata": {},
   "outputs": [],
   "source": [
    "from tqdm.notebook import tqdm\n",
    "\n",
    "success_ics = defaultdict(defaultdict)\n",
    "failed_ics  = defaultdict(lambda : defaultdict(list))\n",
    "\n",
    "for chemistry in chemistries:\n",
    "    chem_path = coll_path / chemistry\n",
    "    lmp_dir = lammps_path / chemistry\n",
    "    lmp_dir.mkdir(exist_ok=True)\n",
    "\n",
    "    mgr = PolymerManager(chem_path)\n",
    "    for mol_name, polymer in ( progress := tqdm(mgr.polymers.items()) ):\n",
    "        progress.set_postfix_str(f'{chemistry} : {mol_name}')\n",
    "        try:\n",
    "            chgr = MolCharger.subclass_registry[chg_method]()\n",
    "            polymer.assert_charges_for(chgr, strict=True, return_cmol=False)\n",
    "\n",
    "            sdf_path = polymer.structure_files_chgd[chg_method]\n",
    "            cmol = polymer.charged_offmol_from_sdf(chg_method)\n",
    "            offtop = Topology.from_molecules(cmol) # load topology from SDF file\n",
    "\n",
    "            ic = forcefield.create_interchange(offtop, charge_from_molecules=[cmol])\n",
    "            success_ics[chemistry][mol_name] = ic\n",
    "            # ic.to_lammps(lmp_dir / f'{mol_name}.lammps')\n",
    "\n",
    "        except AttributeError as a:\n",
    "            print(a)\n",
    "\n",
    "        except Exception as e:\n",
    "            print(e)\n",
    "            failed_ics[chemistry][e.__class__.__name__].append(mol_name)"
   ]
  },
  {
   "cell_type": "code",
   "execution_count": null,
   "metadata": {},
   "outputs": [],
   "source": [
    "success_ics, failed_ics"
   ]
  },
  {
   "cell_type": "markdown",
   "metadata": {},
   "source": [
    "# Running OpenMM simulations"
   ]
  },
  {
   "cell_type": "markdown",
   "metadata": {},
   "source": [
    "## Converting interchanges into OpenMM Simulations"
   ]
  },
  {
   "cell_type": "code",
   "execution_count": 8,
   "metadata": {},
   "outputs": [],
   "source": [
    "import re\n",
    "from openmm.unit import kilojoule_per_mole, kilocalorie_per_mole\n",
    "\n",
    "from polysaccharide.simulation import preparation\n",
    "from polysaccharide.simulation.records import SimulationParameters\n",
    "from polysaccharide.simulation.ensemble import EnsembleSimulationFactory\n",
    "\n",
    "STRIP_BEFORE_PARENS = re.compile(r'(.*?)(?=\\s*\\(.*\\))')\n",
    "PRECISION = 3 # number of decimals to round reported energies to\n",
    "\n",
    "omm_dir = Path('OpenMM_no_sim')\n",
    "omm_dir.mkdir(exist_ok=True)\n",
    "\n",
    "\n",
    "# selecting simulation parameters and ensemble\n",
    "sp_path = Path('debug_sim_NVT.json')\n",
    "sim_params = SimulationParameters.from_file(sp_path)\n",
    "ens_fac = EnsembleSimulationFactory.subclass_registry[sim_params.ensemble.upper()]()\n",
    "\n",
    "data_by_mol = []\n",
    "omm_sims = defaultdict(defaultdict)\n",
    "# looping over all urethanes\n",
    "for chemistry, ic_dict in success_ics.items():\n",
    "    chem_dir = omm_dir / chemistry\n",
    "    chem_dir.mkdir(exist_ok=True)\n",
    "\n",
    "    for mol_name, interchange in ic_dict.items():\n",
    "        data_dict = {\n",
    "            'Chemistry' : chemistry,\n",
    "            'Molecule'  : mol_name\n",
    "        }\n",
    "\n",
    "        # creating directories\n",
    "        mol_dir = chem_dir / mol_name \n",
    "        mol_dir.mkdir(exist_ok=True)\n",
    "\n",
    "        sim_file_dir = mol_dir / f'{mol_name}_sim'\n",
    "        sim_file_dir.mkdir(exist_ok=True, parents=True)\n",
    "\n",
    "        # creating simulation and associated files\n",
    "        sim = ens_fac.create_simulation(interchange, sim_params)\n",
    "        omm_sims[chemistry][mol_name] = sim"
   ]
  },
  {
   "cell_type": "markdown",
   "metadata": {},
   "source": [
    "## Comparing ParmEd energy decomposition to native OpenMM force-group-based decomposition"
   ]
  },
  {
   "cell_type": "code",
   "execution_count": 125,
   "metadata": {},
   "outputs": [
    {
     "name": "stdout",
     "output_type": "stream",
     "text": [
      "\n",
      "OpenMM:\n",
      "==============================\n",
      "Nonbonded : 12111.4853515625 kJ/mol\n",
      "PeriodicTorsion : 1397.86279296875 kJ/mol\n",
      "HarmonicAngle : 7520.576171875 kJ/mol\n",
      "HarmonicBond : 2309.107421875 kJ/mol\n",
      "ΔE_contrib:  -23339.03173828125 kJ/mol\n",
      "\n",
      "ParmEd:\n",
      "==============================\n",
      "bond 12111.4853515625 kJ/mol\n",
      "angle 1397.86279296875 kJ/mol\n",
      "dihedral 7520.576171874999 kJ/mol\n",
      "urey_bradley 2309.107421875 kJ/mol\n",
      "total 23339.03125 kJ/mol\n"
     ]
    }
   ],
   "source": [
    "import parmed\n",
    "from openmm.openmm import Force\n",
    "\n",
    "NULL_ENERGY = 0.0*kilojoule_per_mole\n",
    "\n",
    "sim = omm_sims['urethane']['urethane_41']\n",
    "# assign and initialize unique force groups for simulation\n",
    "for i, force in enumerate(sim.system.getForces()):\n",
    "    force.setForceGroup(i)\n",
    "    # print(force.getName(), force.getForceGroup())\n",
    "sim.context.reinitialize(preserveState=True) # need to reinitialize to get force labelling changes to \"stick\"\n",
    "\n",
    "# energies from OpenMM force groups\n",
    "print('\\nOpenMM:')\n",
    "print('='*30)\n",
    "omm_energies = {}\n",
    "\n",
    "## extract total energies for state\n",
    "overall_state = sim.context.getState(getEnergy=True) # get total potential energy\n",
    "PE = overall_state.getPotentialEnergy()\n",
    "omm_energies['Total Potential Energy'] = PE\n",
    "\n",
    "KE = overall_state.getKineticEnergy()\n",
    "assert(KE == NULL_ENERGY)\n",
    "\n",
    "for i, force in enumerate(sim.system.getForces()):\n",
    "    state = sim.context.getState(getEnergy=True, groups={i})\n",
    "    force_name = force.getName().removesuffix('Force')\n",
    "    pe = state.getPotentialEnergy()\n",
    "\n",
    "    omm_energies[force_name] = pe\n",
    "    print(f'{force_name} : {pe}')\n",
    "\n",
    "## converting name to match with ParmEd for comparison\n",
    "namemap = {\n",
    "    'Nonbonded' : 'bond',\n",
    "    'PeriodicTorsion' : 'angle',\n",
    "    'HarmonicAngle' : 'dihedral',\n",
    "    'HarmonicBond' : 'urey_bradley',\n",
    "    'Total Potential Energy' : 'total'\n",
    "}\n",
    "compat_omm_energies = {\n",
    "    namemap[contrib] : energy\n",
    "        for contrib, energy in omm_energies.items()\n",
    "}\n",
    "\n",
    "total = sum(omm_energies.values(), start=NULL_ENERGY) # need \"seed\" to have Quantity datatype to sum\n",
    "print(f'{general.GREEK_UPPER[\"delta\"]}E_contrib: ', PE - total)\n",
    "\n",
    "# ParmEd energy decomposition\n",
    "print('\\nParmEd:')\n",
    "print('='*30)\n",
    "parm_energies = {}\n",
    "parm_struct = parmed.openmm.load_topology(sim.topology, sim.system)\n",
    "for contrib, energy_val in parmed.openmm.energy_decomposition(parm_struct, sim.context).items():\n",
    "    parm_energies[contrib] = energy = energy_val*kilocalorie_per_mole # assign proper units\n",
    "    print(contrib, energy.in_units_of(kilojoule_per_mole))"
   ]
  },
  {
   "cell_type": "markdown",
   "metadata": {},
   "source": [
    "## Minimizing and running single integration step, then evaluating energies from reporter"
   ]
  },
  {
   "cell_type": "code",
   "execution_count": null,
   "metadata": {},
   "outputs": [],
   "source": [
    "import re\n",
    "from openmm.unit import kilojoule_per_mole, kilocalorie_per_mole\n",
    "\n",
    "from polysaccharide.simulation import preparation\n",
    "from polysaccharide.simulation.records import SimulationParameters\n",
    "from polysaccharide.simulation.ensemble import EnsembleSimulationFactory\n",
    "\n",
    "STRIP_BEFORE_PARENS = re.compile(r'(.*?)(?=\\s*\\(.*\\))')\n",
    "PRECISION = 3 # number of decimals to round reported energies to\n",
    "\n",
    "omm_dir = Path('OpenMM_no_sim')\n",
    "omm_dir.mkdir(exist_ok=True)\n",
    "\n",
    "\n",
    "# selecting simulation parameters and ensemble\n",
    "sp_path = Path('debug_sim_NVT.json')\n",
    "sim_params = SimulationParameters.from_file(sp_path)\n",
    "ens_fac = EnsembleSimulationFactory.subclass_registry[sim_params.ensemble.upper()]()\n",
    "\n",
    "data_by_mol = []\n",
    "omm_sims = defaultdict(defaultdict)\n",
    "# looping over all urethanes\n",
    "for chemistry, ic_dict in success_ics.items():\n",
    "    chem_dir = omm_dir / chemistry\n",
    "    chem_dir.mkdir(exist_ok=True)\n",
    "\n",
    "    for mol_name, interchange in ic_dict.items():\n",
    "        data_dict = {\n",
    "            'Chemistry' : chemistry,\n",
    "            'Molecule'  : mol_name\n",
    "        }\n",
    "\n",
    "        # creating directories\n",
    "        mol_dir = chem_dir / mol_name \n",
    "        mol_dir.mkdir(exist_ok=True)\n",
    "\n",
    "        sim_file_dir = mol_dir / f'{mol_name}_sim'\n",
    "        sim_file_dir.mkdir(exist_ok=True, parents=True)\n",
    "\n",
    "        # creating simulation and associated files\n",
    "        sim = ens_fac.create_simulation(interchange, sim_params)\n",
    "        sim_paths = preparation.prepare_simulation_paths(output_folder=sim_file_dir, output_name=mol_name, sim_params=sim_params)\n",
    "        reporters = preparation.prepare_simulation_reporters(sim_paths, sim_params)\n",
    "        preparation.config_simulation(sim, reporters, checkpoint_path=sim_paths.checkpoint)\n",
    "\n",
    "        # energy min and single-step integration\n",
    "        sim.minimizeEnergy()\n",
    "        sim.step(1)\n",
    "\n",
    "        # extracting energies\n",
    "\n",
    "        state_data = pd.read_csv(sim_paths.state_data)\n",
    "        energies = {}\n",
    "        for key in ('Potential Energy (kJ/mole)', 'Kinetic Energy (kJ/mole)'):\n",
    "            tag = re.search(STRIP_BEFORE_PARENS, key).group(0)\n",
    "            E_kj_val = state_data[key][0]\n",
    "            E_kj = E_kj_val * kilojoule_per_mole\n",
    "            E_kcal = E_kj.in_units_of(kilocalorie_per_mole)\n",
    "\n",
    "            for energy in (E_kj, E_kcal):\n",
    "                energies[f'{tag} ({energy.unit.get_symbol()})'] = energy._value\n",
    "        \n",
    "        data_dict.update(**energies)\n",
    "        data_by_mol.append(data_dict)\n",
    "\n",
    "# collate energies into DataFrame        \n",
    "df = pd.DataFrame.from_records(data_by_mol)\n",
    "df = df.sort_values('Molecule')\n",
    "\n",
    "# round energy values down to desired precision\n",
    "round_fn = lambda x : round(x, PRECISION)\n",
    "\n",
    "for col_name, col in df.items():\n",
    "    try:\n",
    "        df[col_name] = col.apply(round_fn) # attempt to round column and replace with rounded values\n",
    "    except TypeError:\n",
    "        pass\n",
    "\n",
    "# save energies to file\n",
    "energy_file = omm_dir / 'energies_1_step.csv'\n",
    "df.to_csv(energy_file, index=False)"
   ]
  },
  {
   "cell_type": "markdown",
   "metadata": {},
   "source": [
    "## Playing with OpenMM serialization"
   ]
  },
  {
   "cell_type": "code",
   "execution_count": null,
   "metadata": {},
   "outputs": [],
   "source": [
    "s = sim.context.getState(getEnergy=True)\n",
    "ser = XmlSerializer.serialize(s)\n",
    "print(ser)"
   ]
  },
  {
   "cell_type": "code",
   "execution_count": null,
   "metadata": {},
   "outputs": [],
   "source": [
    "state_params : dict[str, bool] = {\n",
    "    'getPositions'  : True,\n",
    "    'getVelocities' : True,\n",
    "    'getForces'     : False,\n",
    "    'getEnergy'     : True,\n",
    "    'getParameters' : True,\n",
    "    'getParameterDerivatives' : False,\n",
    "    'getIntegratorParameters' : False\n",
    "}\n",
    "\n",
    "state = sim.context.getState(**state_params)"
   ]
  },
  {
   "cell_type": "code",
   "execution_count": null,
   "metadata": {},
   "outputs": [],
   "source": [
    "from openmm import XmlSerializer\n",
    "\n",
    "with (mol_dir / 'system.xml').open('w') as file:\n",
    "    ser_str = XmlSerializer.serialize(sim.system)\n",
    "    file.write(ser_str)\n",
    "\n",
    "with (mol_dir / 'state.xml').open('w') as file:\n",
    "    ser_str = XmlSerializer.serialize(state)\n",
    "    file.write(ser_str)"
   ]
  },
  {
   "cell_type": "code",
   "execution_count": null,
   "metadata": {},
   "outputs": [],
   "source": [
    "for force in sim.system.getForces():\n",
    "    print(force.getName(), force.getForceGroup())"
   ]
  },
  {
   "cell_type": "markdown",
   "metadata": {},
   "source": [
    "# Inspecting which molecules fail and succeed and why"
   ]
  },
  {
   "cell_type": "code",
   "execution_count": null,
   "metadata": {},
   "outputs": [],
   "source": [
    "import re\n",
    "regex = re.compile(r'\\A(\\w+_\\d+)')\n",
    "\n",
    "diff = {}\n",
    "for chemistry, succ_names in success_ics.items():\n",
    "    chem_dir = coll_path / chemistry\n",
    "    for sdf_path in chem_dir.glob('**/*.sdf'):\n",
    "        mol_name = re.search(regex, sdf_path.stem).group()\n",
    "        if mol_name not in succ_names:\n",
    "            diff.append(mol_name)"
   ]
  },
  {
   "cell_type": "markdown",
   "metadata": {},
   "source": [
    "## Checking for successful residue covers of newly-generated PDB Topologies"
   ]
  },
  {
   "cell_type": "code",
   "execution_count": null,
   "metadata": {},
   "outputs": [],
   "source": [
    "chemistry = 'urethane'\n",
    "\n",
    "mgr = PolymerManager(coll_path / chemistry)\n",
    "mol_names = failed_interchanges[chemistry]['UnmatchedAtomsError']\n",
    "\n",
    "offmols = {\n",
    "    mol_name : mgr.polymers[mol_name].offmol_matched(strict=False)\n",
    "        for mol_name in mol_names\n",
    "}"
   ]
  },
  {
   "cell_type": "code",
   "execution_count": null,
   "metadata": {},
   "outputs": [],
   "source": [
    "sizes = {\n",
    "    mol_name : offmol.n_atoms\n",
    "        for mol_name, offmol in sorted(offmols.items(), key=lambda x : x[1].n_atoms)\n",
    "}"
   ]
  },
  {
   "cell_type": "code",
   "execution_count": null,
   "metadata": {},
   "outputs": [],
   "source": [
    "sizes"
   ]
  },
  {
   "cell_type": "code",
   "execution_count": null,
   "metadata": {},
   "outputs": [],
   "source": [
    "\n",
    "pdir = mgr.polymers['urethane_6']\n",
    "# pdir = mgr.polymers['NIPU_8']\n",
    "# pdir.offmol_matched(strict=True)\n",
    "\n",
    "for atom in offmol.atoms:\n",
    "    if not atom.metadata['already_matched']:\n",
    "        print(atom.metadata)"
   ]
  },
  {
   "cell_type": "code",
   "execution_count": null,
   "metadata": {},
   "outputs": [],
   "source": [
    "mgr = PolymerManager(coll_path / 'NIPU')\n",
    "\n",
    "offmols = {}\n",
    "unmatched = []\n",
    "for mol_name, polymer in mgr.polymers.items():\n",
    "    try:\n",
    "        offmols[mol_name] = polymer.offmol\n",
    "    except:\n",
    "        unmatched.append(mol_name)"
   ]
  },
  {
   "cell_type": "code",
   "execution_count": null,
   "metadata": {},
   "outputs": [],
   "source": [
    "for mol_name in unmatched:\n",
    "    print(mol_name)\n",
    "    polymer = mgr.polymers[mol_name]\n",
    "    offmol = polymer.offmol_matched(strict=False)\n",
    "    \n",
    "    for atom in offmol.atoms:\n",
    "        if not atom.metadata['already_matched']:\n",
    "            print('\\t', atom.metadata)"
   ]
  },
  {
   "cell_type": "markdown",
   "metadata": {},
   "source": [
    "# Experimenting with SDF files"
   ]
  },
  {
   "cell_type": "code",
   "execution_count": null,
   "metadata": {},
   "outputs": [],
   "source": [
    "benz = Chem.MolFromSmiles('C1ccccC=1')\n",
    "benz = Chem.AddHs(benz)\n",
    "benz.SetDoubleProp('stuff', 3.14)\n",
    "benz"
   ]
  },
  {
   "cell_type": "code",
   "execution_count": null,
   "metadata": {},
   "outputs": [],
   "source": [
    "block2k = Chem.MolToMolFile(benz, 'test_2k.sdf')\n",
    "block3k = Chem.MolToV3KMolFile(benz, 'test_3k.sdf')"
   ]
  },
  {
   "cell_type": "code",
   "execution_count": null,
   "metadata": {},
   "outputs": [],
   "source": [
    "block2kforce = Chem.MolToMolFile(benz, 'test_2k_force.sdf', forceV3000=True)"
   ]
  },
  {
   "cell_type": "code",
   "execution_count": null,
   "metadata": {},
   "outputs": [],
   "source": [
    "with Chem.SDWriter('test_sdw.sdf') as sdwriter:\n",
    "    sdwriter.SetForceV3000(True)\n",
    "    print(sdwriter.GetForceV3000())\n",
    "\n",
    "    sdwriter.write(benz)"
   ]
  },
  {
   "cell_type": "code",
   "execution_count": null,
   "metadata": {},
   "outputs": [],
   "source": [
    "with Chem.SDMolSupplier('sdf_testing/test_off_rd.sdf', sanitize=False) as suppl:\n",
    "    mols = [mol for mol in suppl]\n",
    "\n",
    "targ = mols[0]\n",
    "targ"
   ]
  },
  {
   "cell_type": "code",
   "execution_count": null,
   "metadata": {},
   "outputs": [],
   "source": [
    "omol = Molecule.from_rdkit(benz)\n",
    "omol.generate_conformers(n_conformers=1)\n",
    "omol.visualize(backend='nglview')"
   ]
  },
  {
   "cell_type": "code",
   "execution_count": null,
   "metadata": {},
   "outputs": [],
   "source": [
    "from polysaccharide import filetree\n",
    "from polysaccharide import TOOLKITS\n",
    "\n",
    "\n",
    "p = Path('sdf_testing/test_off_rd.sdf')\n",
    "tkwrap = TOOLKITS['The RDKit']\n",
    "\n",
    "omol.properties['series'] = (1,2,3)\n",
    "omol.to_file(\n",
    "    general.asstrpath(p),\n",
    "    file_format=filetree.dotless(p.suffix),\n",
    "    toolkit_registry=tkwrap\n",
    ")"
   ]
  },
  {
   "cell_type": "code",
   "execution_count": null,
   "metadata": {},
   "outputs": [],
   "source": [
    "omol_load = Molecule.from_file(\n",
    "    general.asstrpath(p),\n",
    "    file_format=filetree.dotless(p.suffix),\n",
    "    toolkit_registry=tkwrap\n",
    ")"
   ]
  },
  {
   "cell_type": "code",
   "execution_count": null,
   "metadata": {},
   "outputs": [],
   "source": []
  },
  {
   "cell_type": "code",
   "execution_count": null,
   "metadata": {},
   "outputs": [],
   "source": [
    "omol_load.properties"
   ]
  },
  {
   "cell_type": "code",
   "execution_count": null,
   "metadata": {},
   "outputs": [],
   "source": [
    "help(tkwrap.to_file)"
   ]
  },
  {
   "cell_type": "code",
   "execution_count": null,
   "metadata": {},
   "outputs": [],
   "source": [
    "help(omol.to_file)"
   ]
  },
  {
   "cell_type": "code",
   "execution_count": null,
   "metadata": {},
   "outputs": [],
   "source": []
  },
  {
   "cell_type": "code",
   "execution_count": null,
   "metadata": {},
   "outputs": [],
   "source": []
  }
 ],
 "metadata": {
  "kernelspec": {
   "display_name": "openff-dev-updated",
   "language": "python",
   "name": "python3"
  },
  "language_info": {
   "codemirror_mode": {
    "name": "ipython",
    "version": 3
   },
   "file_extension": ".py",
   "mimetype": "text/x-python",
   "name": "python",
   "nbconvert_exporter": "python",
   "pygments_lexer": "ipython3",
   "version": "3.10.9"
  },
  "orig_nbformat": 4
 },
 "nbformat": 4,
 "nbformat_minor": 2
}
