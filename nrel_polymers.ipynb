{
 "cells": [
  {
   "cell_type": "markdown",
   "metadata": {},
   "source": [
    "# Core Imports"
   ]
  },
  {
   "cell_type": "code",
   "execution_count": null,
   "metadata": {},
   "outputs": [],
   "source": [
    "# Custom Imports\n",
    "from polysaccharide import general\n",
    "from polysaccharide.general import optional_in_place\n",
    "from polysaccharide.extratypes import ResidueSmarts\n",
    "\n",
    "from polysaccharide.molutils import reactions\n",
    "from polysaccharide.molutils.rdmol.rdtypes import *\n",
    "from polysaccharide.molutils.rdmol import rdcompare, rdconvert, rdkdraw, rdcompare, rdprops, rdbond, rdlabels\n",
    "\n",
    "from polysaccharide.polymer import monomer as monoutils\n",
    "from polysaccharide.polymer.monomer import MonomerInfo\n",
    "from polysaccharide.polymer.management import PolymerManager\n",
    "\n",
    "from polysaccharide.polymer import building\n",
    "import mbuild as mb\n",
    "\n",
    "# Generic Imports\n",
    "import re\n",
    "from functools import partial, cached_property\n",
    "from collections import defaultdict\n",
    "from itertools import combinations, chain\n",
    "from ast import literal_eval\n",
    "\n",
    "# Numeric imports\n",
    "import pandas as pd\n",
    "import numpy as np\n",
    "\n",
    "# File I/O\n",
    "from pathlib import Path\n",
    "import csv, json, openpyxl\n",
    "\n",
    "# Typing and Subclassing\n",
    "from typing import Any, Callable, ClassVar, Generator, Iterable, Optional, Union\n",
    "from dataclasses import dataclass, field\n",
    "from abc import ABC, abstractmethod, abstractproperty\n",
    "from openmm.unit import Unit, Quantity\n",
    "\n",
    "# Cheminformatics\n",
    "from rdkit import Chem\n",
    "from rdkit.Chem import rdChemReactions\n",
    "\n",
    "from openff.toolkit import ForceField\n",
    "from openff.toolkit.topology import Topology, Molecule\n",
    "\n",
    "# Static Paths\n",
    "RAW_DATA_PATH  = Path('raw_monomer_data')\n",
    "PROC_DATA_PATH = Path('processed_monomer_data')\n",
    "RXN_FILES_PATH = Path('rxn_smarts')\n",
    "MONO_INFO_DIR  = Path('monomer_files')"
   ]
  },
  {
   "cell_type": "markdown",
   "metadata": {},
   "source": [
    "# File and chemistry type definitions"
   ]
  },
  {
   "cell_type": "code",
   "execution_count": 135,
   "metadata": {},
   "outputs": [],
   "source": [
    "pdb_path = Path('pdb_files')\n",
    "pdb_path.mkdir(exist_ok=True)\n",
    "\n",
    "coll_path = Path('Collections')\n",
    "coll_path.mkdir(exist_ok=True)\n",
    "\n",
    "lammps_path = Path('LAMMPS')\n",
    "lammps_path.mkdir(exist_ok=True)\n",
    "\n",
    "omm_path = Path('OpenMM')\n",
    "omm_path.mkdir(exist_ok=True)"
   ]
  },
  {
   "cell_type": "code",
   "execution_count": null,
   "metadata": {},
   "outputs": [],
   "source": [
    "# defining reacting functional groups\n",
    "reaction_pairs = {\n",
    "    'NIPU' : ('cyclocarbonate', 'amine'),\n",
    "    'urethane' : ('isocyanate', 'hydroxyl')\n",
    "}\n",
    "# chemistries = ('urethane', 'NIPU')\n",
    "chemistries = [i for i in reaction_pairs.keys()]"
   ]
  },
  {
   "cell_type": "markdown",
   "metadata": {},
   "source": [
    "# Building PDB files from monomer fragments"
   ]
  },
  {
   "cell_type": "code",
   "execution_count": null,
   "metadata": {},
   "outputs": [],
   "source": [
    "from polysaccharide.polymer.exceptions import SubstructMatchFailedError\n",
    "\n",
    "DOP = 10\n",
    "\n",
    "failed = general.RecursiveDict()\n",
    "for chemistry in chemistries:\n",
    "    mono_src_dir = MONO_INFO_DIR / chemistry\n",
    "    pdb_out_dir = pdb_path / chemistry\n",
    "    pdb_out_dir.mkdir(exist_ok=True)\n",
    "\n",
    "    for mono_path in mono_src_dir.iterdir():\n",
    "        mono_info = MonomerInfo.from_file(mono_path)\n",
    "        try:\n",
    "            polymer = building.build_linear_polymer(mono_info.SMARTS, DOP=DOP, sequence='AB')  \n",
    "            savepath = pdb_out_dir / f'{mono_path.stem}.pdb'\n",
    "            polymer.save(general.asstrpath(savepath))\n",
    "        except Exception as e:\n",
    "            failed[chemistry][e.__class__.__name__][mono_path.stem] = mono_info"
   ]
  },
  {
   "cell_type": "code",
   "execution_count": null,
   "metadata": {},
   "outputs": [],
   "source": [
    "failed"
   ]
  },
  {
   "cell_type": "markdown",
   "metadata": {},
   "source": [
    "## Testing sanitization of monomers prior to mbuild conversion"
   ]
  },
  {
   "cell_type": "code",
   "execution_count": null,
   "metadata": {},
   "outputs": [],
   "source": [
    "rdkdraw.set_rdkdraw_size(500, 3/2)\n",
    "cvtr = rdconvert.SMILESConverter()\n",
    "\n",
    "chemistry = 'urethane'\n",
    "idx = 10\n",
    "\n",
    "mono_info = MonomerInfo.from_file(MONO_INFO_DIR / chemistry / f'{chemistry}_{idx}.json')\n",
    "\n",
    "mbmols = {}\n",
    "def show(mono_info : MonomerInfo) -> None:\n",
    "    for resname, smarts in mono_info.SMARTS.items():\n",
    "        print(resname, smarts)\n",
    "        mol = Chem.MolFromSmarts(smarts)\n",
    "        mol = cvtr.convert(mol)\n",
    "        Chem.SanitizeMol(mol)\n",
    "        rdlabels.clear_atom_map_nums(mol, in_place=True)\n",
    "        display(mol)\n",
    "\n",
    "        # mbmol, ports = building.mbmol_from_mono_smarts(new_smarts)\n",
    "\n",
    "        prot_mol = rdbond.hydrogenate_rdmol_ports(mol, in_place=False)\n",
    "        mbmols[resname] = mb.conversion.from_rdkit(prot_mol)\n",
    "\n",
    "show(mono_info)"
   ]
  },
  {
   "cell_type": "markdown",
   "metadata": {},
   "source": [
    "# Collating urethanes into collections and generating Interchange files"
   ]
  },
  {
   "cell_type": "markdown",
   "metadata": {},
   "source": [
    "## Populating collections from newly-generated PDBs and monomers"
   ]
  },
  {
   "cell_type": "code",
   "execution_count": null,
   "metadata": {},
   "outputs": [],
   "source": [
    "for chemistry in chemistries:\n",
    "    chem_path = coll_path / chemistry\n",
    "    chem_path.mkdir(exist_ok=True)\n",
    "\n",
    "    mgr = PolymerManager(chem_path)\n",
    "    mgr.populate_collection(pdb_path / chemistry, MONO_INFO_DIR / chemistry)"
   ]
  },
  {
   "cell_type": "markdown",
   "metadata": {},
   "source": [
    "## Generating LAMMPS files via Interchange for both collections"
   ]
  },
  {
   "cell_type": "code",
   "execution_count": null,
   "metadata": {},
   "outputs": [],
   "source": [
    "from polysaccharide import OPENFF_DIR\n",
    "from polysaccharide.charging.application import MolCharger\n",
    "\n",
    "# specify forcefield\n",
    "ff_name = 'openff-2.0.0.offxml'\n",
    "ff_path = OPENFF_DIR / ff_name\n",
    "forcefield = ForceField(ff_path)\n",
    "\n",
    "# specify charging method\n",
    "chg_method = 'Espaloma_AM1BCC'"
   ]
  },
  {
   "cell_type": "code",
   "execution_count": null,
   "metadata": {},
   "outputs": [],
   "source": [
    "from tqdm.notebook import tqdm\n",
    "\n",
    "success_ics = defaultdict(defaultdict)\n",
    "failed_ics  = defaultdict(lambda : defaultdict(list))\n",
    "\n",
    "for chemistry in chemistries:\n",
    "    chem_path = coll_path / chemistry\n",
    "    lmp_dir = lammps_path / chemistry\n",
    "    lmp_dir.mkdir(exist_ok=True)\n",
    "\n",
    "    mgr = PolymerManager(chem_path)\n",
    "    for mol_name, polymer in ( progress := tqdm(mgr.polymers.items()) ):\n",
    "        progress.set_postfix_str(f'{chemistry} : {mol_name}')\n",
    "        try:\n",
    "            chgr = MolCharger.subclass_registry[chg_method]()\n",
    "            polymer.assert_charges_for(chgr, strict=True, return_cmol=False)\n",
    "\n",
    "            sdf_path = polymer.structure_files_chgd[chg_method]\n",
    "            cmol = polymer.charged_offmol_from_sdf(chg_method)\n",
    "            offtop = Topology.from_molecules(cmol) # load topology from SDF file\n",
    "\n",
    "            ic = forcefield.create_interchange(offtop, charge_from_molecules=[cmol])\n",
    "            success_ics[chemistry][mol_name] = ic\n",
    "            # ic.to_lammps(lmp_dir / f'{mol_name}.lammps')\n",
    "\n",
    "        except AttributeError as a:\n",
    "            print(a)\n",
    "\n",
    "        except Exception as e:\n",
    "            print(e)\n",
    "            failed_ics[chemistry][e.__class__.__name__].append(mol_name)"
   ]
  },
  {
   "cell_type": "code",
   "execution_count": null,
   "metadata": {},
   "outputs": [],
   "source": [
    "success_ics, failed_ics"
   ]
  },
  {
   "cell_type": "markdown",
   "metadata": {},
   "source": [
    "# Running OpenMM simulations"
   ]
  },
  {
   "cell_type": "code",
   "execution_count": 136,
   "metadata": {},
   "outputs": [],
   "source": [
    "import re\n",
    "from openmm.unit import kilojoule_per_mole, kilocalorie_per_mole\n",
    "\n",
    "from polysaccharide.simulation import preparation\n",
    "from polysaccharide.simulation.records import SimulationParameters\n",
    "from polysaccharide.simulation.ensemble import EnsembleSimulationFactory\n",
    "\n",
    "STRIP_BEFORE_PARENS = re.compile(r'(.*?)(?=\\s*\\(.*\\))')\n",
    "PRECISION = 3 # number of decimals to round reported energies to\n",
    "\n",
    "\n",
    "# selecting simulation parameters and ensemble\n",
    "sp_path = Path('debug_sim_NVT.json')\n",
    "sim_params = SimulationParameters.from_file(sp_path)\n",
    "ens_fac = EnsembleSimulationFactory.subclass_registry[sim_params.ensemble.upper()]()\n",
    "\n",
    "data_by_mol = []\n",
    "# looping over all urethanes\n",
    "for chemistry, ic_dict in success_ics.items():\n",
    "    chem_dir = omm_path / chemistry\n",
    "    chem_dir.mkdir(exist_ok=True)\n",
    "\n",
    "    for mol_name, interchange in ic_dict.items():\n",
    "        data_dict = {\n",
    "            'Chemistry' : chemistry,\n",
    "            'Molecule'  : mol_name\n",
    "        }\n",
    "\n",
    "        # creating directories\n",
    "        mol_dir = chem_dir / mol_name \n",
    "        mol_dir.mkdir(exist_ok=True)\n",
    "\n",
    "        sim_file_dir = mol_dir / f'{mol_name}_sim'\n",
    "        sim_file_dir.mkdir(exist_ok=True, parents=True)\n",
    "\n",
    "        # creating simulation and associated files\n",
    "        sim = ens_fac.create_simulation(interchange, sim_params)\n",
    "        sim_paths = preparation.prepare_simulation_paths(output_folder=sim_file_dir, output_name=mol_name, sim_params=sim_params)\n",
    "        reporters = preparation.prepare_simulation_reporters(sim_paths, sim_params)\n",
    "        preparation.config_simulation(sim, reporters, checkpoint_path=sim_paths.checkpoint)\n",
    "\n",
    "        # energy min and single-step integration\n",
    "        sim.minimizeEnergy()\n",
    "        sim.step(1)\n",
    "\n",
    "        # extracting energies\n",
    "\n",
    "        state_data = pd.read_csv(sim_paths.state_data)\n",
    "        energies = {}\n",
    "        for key in ('Potential Energy (kJ/mole)', 'Kinetic Energy (kJ/mole)'):\n",
    "            tag = re.search(STRIP_BEFORE_PARENS, key).group(0)\n",
    "            E_kj_val = state_data[key][0]\n",
    "            E_kj = E_kj_val * kilojoule_per_mole\n",
    "            E_kcal = E_kj.in_units_of(kilocalorie_per_mole)\n",
    "\n",
    "            for energy in (E_kj, E_kcal):\n",
    "                energies[f'{tag} ({energy.unit.get_symbol()})'] = energy._value\n",
    "        \n",
    "        data_dict.update(**energies)\n",
    "        data_by_mol.append(data_dict)\n",
    "\n",
    "# collate energies into DataFrame        \n",
    "df = pd.DataFrame.from_records(data_by_mol)\n",
    "df = df.sort_values('Molecule')\n",
    "\n",
    "# round energy values down to desired precision\n",
    "round_fn = lambda x : round(x, PRECISION)\n",
    "\n",
    "for col_name, col in df.items():\n",
    "    try:\n",
    "        df[col_name] = col.apply(round_fn) # attempt to round column and replace with rounded values\n",
    "    except TypeError:\n",
    "        pass\n",
    "\n",
    "# save energies to file\n",
    "energy_file = omm_path / 'energies_1_step.csv'\n",
    "df.to_csv(energy_file, index=False)"
   ]
  },
  {
   "cell_type": "code",
   "execution_count": 137,
   "metadata": {},
   "outputs": [
    {
     "data": {
      "text/html": [
       "<div>\n",
       "<style scoped>\n",
       "    .dataframe tbody tr th:only-of-type {\n",
       "        vertical-align: middle;\n",
       "    }\n",
       "\n",
       "    .dataframe tbody tr th {\n",
       "        vertical-align: top;\n",
       "    }\n",
       "\n",
       "    .dataframe thead th {\n",
       "        text-align: right;\n",
       "    }\n",
       "</style>\n",
       "<table border=\"1\" class=\"dataframe\">\n",
       "  <thead>\n",
       "    <tr style=\"text-align: right;\">\n",
       "      <th></th>\n",
       "      <th>Chemistry</th>\n",
       "      <th>Molecule</th>\n",
       "      <th>Potential Energy (kJ/mol)</th>\n",
       "      <th>Potential Energy (kcal/mol)</th>\n",
       "      <th>Kinetic Energy (kJ/mol)</th>\n",
       "      <th>Kinetic Energy (kcal/mol)</th>\n",
       "    </tr>\n",
       "  </thead>\n",
       "  <tbody>\n",
       "    <tr>\n",
       "      <th>0</th>\n",
       "      <td>NIPU</td>\n",
       "      <td>NIPU_11</td>\n",
       "      <td>1256.003</td>\n",
       "      <td>300.192</td>\n",
       "      <td>6.943</td>\n",
       "      <td>1.659</td>\n",
       "    </tr>\n",
       "    <tr>\n",
       "      <th>1</th>\n",
       "      <td>NIPU</td>\n",
       "      <td>NIPU_2</td>\n",
       "      <td>302.227</td>\n",
       "      <td>72.234</td>\n",
       "      <td>13.951</td>\n",
       "      <td>3.334</td>\n",
       "    </tr>\n",
       "    <tr>\n",
       "      <th>16</th>\n",
       "      <td>urethane</td>\n",
       "      <td>urethane_0</td>\n",
       "      <td>4355.840</td>\n",
       "      <td>1041.071</td>\n",
       "      <td>13.791</td>\n",
       "      <td>3.296</td>\n",
       "    </tr>\n",
       "    <tr>\n",
       "      <th>9</th>\n",
       "      <td>urethane</td>\n",
       "      <td>urethane_1</td>\n",
       "      <td>-1396.220</td>\n",
       "      <td>-333.704</td>\n",
       "      <td>6.962</td>\n",
       "      <td>1.664</td>\n",
       "    </tr>\n",
       "    <tr>\n",
       "      <th>15</th>\n",
       "      <td>urethane</td>\n",
       "      <td>urethane_10</td>\n",
       "      <td>2262.249</td>\n",
       "      <td>540.690</td>\n",
       "      <td>6.767</td>\n",
       "      <td>1.617</td>\n",
       "    </tr>\n",
       "    <tr>\n",
       "      <th>14</th>\n",
       "      <td>urethane</td>\n",
       "      <td>urethane_14</td>\n",
       "      <td>3613.522</td>\n",
       "      <td>863.652</td>\n",
       "      <td>10.349</td>\n",
       "      <td>2.474</td>\n",
       "    </tr>\n",
       "    <tr>\n",
       "      <th>11</th>\n",
       "      <td>urethane</td>\n",
       "      <td>urethane_15</td>\n",
       "      <td>1234.156</td>\n",
       "      <td>294.970</td>\n",
       "      <td>6.683</td>\n",
       "      <td>1.597</td>\n",
       "    </tr>\n",
       "    <tr>\n",
       "      <th>21</th>\n",
       "      <td>urethane</td>\n",
       "      <td>urethane_17</td>\n",
       "      <td>-4639.427</td>\n",
       "      <td>-1108.850</td>\n",
       "      <td>12.257</td>\n",
       "      <td>2.929</td>\n",
       "    </tr>\n",
       "    <tr>\n",
       "      <th>17</th>\n",
       "      <td>urethane</td>\n",
       "      <td>urethane_2</td>\n",
       "      <td>3438.307</td>\n",
       "      <td>821.775</td>\n",
       "      <td>10.594</td>\n",
       "      <td>2.532</td>\n",
       "    </tr>\n",
       "    <tr>\n",
       "      <th>12</th>\n",
       "      <td>urethane</td>\n",
       "      <td>urethane_22</td>\n",
       "      <td>10704.400</td>\n",
       "      <td>2558.413</td>\n",
       "      <td>14.111</td>\n",
       "      <td>3.373</td>\n",
       "    </tr>\n",
       "    <tr>\n",
       "      <th>18</th>\n",
       "      <td>urethane</td>\n",
       "      <td>urethane_24</td>\n",
       "      <td>1448.819</td>\n",
       "      <td>346.276</td>\n",
       "      <td>6.470</td>\n",
       "      <td>1.546</td>\n",
       "    </tr>\n",
       "    <tr>\n",
       "      <th>20</th>\n",
       "      <td>urethane</td>\n",
       "      <td>urethane_29</td>\n",
       "      <td>-3010.601</td>\n",
       "      <td>-719.551</td>\n",
       "      <td>5.268</td>\n",
       "      <td>1.259</td>\n",
       "    </tr>\n",
       "    <tr>\n",
       "      <th>13</th>\n",
       "      <td>urethane</td>\n",
       "      <td>urethane_35</td>\n",
       "      <td>-3110.063</td>\n",
       "      <td>-743.323</td>\n",
       "      <td>5.709</td>\n",
       "      <td>1.364</td>\n",
       "    </tr>\n",
       "    <tr>\n",
       "      <th>8</th>\n",
       "      <td>urethane</td>\n",
       "      <td>urethane_41</td>\n",
       "      <td>5926.864</td>\n",
       "      <td>1416.555</td>\n",
       "      <td>13.731</td>\n",
       "      <td>3.282</td>\n",
       "    </tr>\n",
       "    <tr>\n",
       "      <th>4</th>\n",
       "      <td>urethane</td>\n",
       "      <td>urethane_42</td>\n",
       "      <td>-6035.782</td>\n",
       "      <td>-1442.587</td>\n",
       "      <td>11.771</td>\n",
       "      <td>2.813</td>\n",
       "    </tr>\n",
       "    <tr>\n",
       "      <th>3</th>\n",
       "      <td>urethane</td>\n",
       "      <td>urethane_44</td>\n",
       "      <td>-2332.144</td>\n",
       "      <td>-557.396</td>\n",
       "      <td>8.527</td>\n",
       "      <td>2.038</td>\n",
       "    </tr>\n",
       "    <tr>\n",
       "      <th>10</th>\n",
       "      <td>urethane</td>\n",
       "      <td>urethane_45</td>\n",
       "      <td>5768.486</td>\n",
       "      <td>1378.701</td>\n",
       "      <td>13.874</td>\n",
       "      <td>3.316</td>\n",
       "    </tr>\n",
       "    <tr>\n",
       "      <th>22</th>\n",
       "      <td>urethane</td>\n",
       "      <td>urethane_47</td>\n",
       "      <td>-2564.910</td>\n",
       "      <td>-613.028</td>\n",
       "      <td>9.547</td>\n",
       "      <td>2.282</td>\n",
       "    </tr>\n",
       "    <tr>\n",
       "      <th>6</th>\n",
       "      <td>urethane</td>\n",
       "      <td>urethane_48</td>\n",
       "      <td>-3613.922</td>\n",
       "      <td>-863.748</td>\n",
       "      <td>14.545</td>\n",
       "      <td>3.476</td>\n",
       "    </tr>\n",
       "    <tr>\n",
       "      <th>19</th>\n",
       "      <td>urethane</td>\n",
       "      <td>urethane_51</td>\n",
       "      <td>772.540</td>\n",
       "      <td>184.641</td>\n",
       "      <td>6.243</td>\n",
       "      <td>1.492</td>\n",
       "    </tr>\n",
       "    <tr>\n",
       "      <th>7</th>\n",
       "      <td>urethane</td>\n",
       "      <td>urethane_52</td>\n",
       "      <td>1123.946</td>\n",
       "      <td>268.629</td>\n",
       "      <td>7.409</td>\n",
       "      <td>1.771</td>\n",
       "    </tr>\n",
       "    <tr>\n",
       "      <th>5</th>\n",
       "      <td>urethane</td>\n",
       "      <td>urethane_6</td>\n",
       "      <td>-186.203</td>\n",
       "      <td>-44.504</td>\n",
       "      <td>8.848</td>\n",
       "      <td>2.115</td>\n",
       "    </tr>\n",
       "    <tr>\n",
       "      <th>2</th>\n",
       "      <td>urethane</td>\n",
       "      <td>urethane_8</td>\n",
       "      <td>207.336</td>\n",
       "      <td>49.555</td>\n",
       "      <td>6.515</td>\n",
       "      <td>1.557</td>\n",
       "    </tr>\n",
       "  </tbody>\n",
       "</table>\n",
       "</div>"
      ],
      "text/plain": [
       "   Chemistry     Molecule  Potential Energy (kJ/mol)  \\\n",
       "0       NIPU      NIPU_11                   1256.003   \n",
       "1       NIPU       NIPU_2                    302.227   \n",
       "16  urethane   urethane_0                   4355.840   \n",
       "9   urethane   urethane_1                  -1396.220   \n",
       "15  urethane  urethane_10                   2262.249   \n",
       "14  urethane  urethane_14                   3613.522   \n",
       "11  urethane  urethane_15                   1234.156   \n",
       "21  urethane  urethane_17                  -4639.427   \n",
       "17  urethane   urethane_2                   3438.307   \n",
       "12  urethane  urethane_22                  10704.400   \n",
       "18  urethane  urethane_24                   1448.819   \n",
       "20  urethane  urethane_29                  -3010.601   \n",
       "13  urethane  urethane_35                  -3110.063   \n",
       "8   urethane  urethane_41                   5926.864   \n",
       "4   urethane  urethane_42                  -6035.782   \n",
       "3   urethane  urethane_44                  -2332.144   \n",
       "10  urethane  urethane_45                   5768.486   \n",
       "22  urethane  urethane_47                  -2564.910   \n",
       "6   urethane  urethane_48                  -3613.922   \n",
       "19  urethane  urethane_51                    772.540   \n",
       "7   urethane  urethane_52                   1123.946   \n",
       "5   urethane   urethane_6                   -186.203   \n",
       "2   urethane   urethane_8                    207.336   \n",
       "\n",
       "    Potential Energy (kcal/mol)  Kinetic Energy (kJ/mol)  \\\n",
       "0                       300.192                    6.943   \n",
       "1                        72.234                   13.951   \n",
       "16                     1041.071                   13.791   \n",
       "9                      -333.704                    6.962   \n",
       "15                      540.690                    6.767   \n",
       "14                      863.652                   10.349   \n",
       "11                      294.970                    6.683   \n",
       "21                    -1108.850                   12.257   \n",
       "17                      821.775                   10.594   \n",
       "12                     2558.413                   14.111   \n",
       "18                      346.276                    6.470   \n",
       "20                     -719.551                    5.268   \n",
       "13                     -743.323                    5.709   \n",
       "8                      1416.555                   13.731   \n",
       "4                     -1442.587                   11.771   \n",
       "3                      -557.396                    8.527   \n",
       "10                     1378.701                   13.874   \n",
       "22                     -613.028                    9.547   \n",
       "6                      -863.748                   14.545   \n",
       "19                      184.641                    6.243   \n",
       "7                       268.629                    7.409   \n",
       "5                       -44.504                    8.848   \n",
       "2                        49.555                    6.515   \n",
       "\n",
       "    Kinetic Energy (kcal/mol)  \n",
       "0                       1.659  \n",
       "1                       3.334  \n",
       "16                      3.296  \n",
       "9                       1.664  \n",
       "15                      1.617  \n",
       "14                      2.474  \n",
       "11                      1.597  \n",
       "21                      2.929  \n",
       "17                      2.532  \n",
       "12                      3.373  \n",
       "18                      1.546  \n",
       "20                      1.259  \n",
       "13                      1.364  \n",
       "8                       3.282  \n",
       "4                       2.813  \n",
       "3                       2.038  \n",
       "10                      3.316  \n",
       "22                      2.282  \n",
       "6                       3.476  \n",
       "19                      1.492  \n",
       "7                       1.771  \n",
       "5                       2.115  \n",
       "2                       1.557  "
      ]
     },
     "execution_count": 137,
     "metadata": {},
     "output_type": "execute_result"
    }
   ],
   "source": [
    "df.reset_"
   ]
  },
  {
   "cell_type": "code",
   "execution_count": null,
   "metadata": {},
   "outputs": [],
   "source": [
    "s = sim.context.getState(getEnergy=True)\n",
    "ser = XmlSerializer.serialize(s)\n",
    "print(ser)"
   ]
  },
  {
   "cell_type": "code",
   "execution_count": null,
   "metadata": {},
   "outputs": [],
   "source": [
    "df = pd.read_csv(sim_paths.state_data)\n",
    "df"
   ]
  },
  {
   "cell_type": "code",
   "execution_count": null,
   "metadata": {},
   "outputs": [],
   "source": [
    "sim_params"
   ]
  },
  {
   "cell_type": "code",
   "execution_count": null,
   "metadata": {},
   "outputs": [],
   "source": [
    "state_params : dict[str, bool] = {\n",
    "    'getPositions'  : True,\n",
    "    'getVelocities' : True,\n",
    "    'getForces'     : False,\n",
    "    'getEnergy'     : True,\n",
    "    'getParameters' : True,\n",
    "    'getParameterDerivatives' : False,\n",
    "    'getIntegratorParameters' : False\n",
    "}\n",
    "\n",
    "state = sim.context.getState(**state_params)"
   ]
  },
  {
   "cell_type": "code",
   "execution_count": null,
   "metadata": {},
   "outputs": [],
   "source": [
    "from openmm import XmlSerializer\n",
    "\n",
    "with (mol_dir / 'system.xml').open('w') as file:\n",
    "    ser_str = XmlSerializer.serialize(sim.system)\n",
    "    file.write(ser_str)\n",
    "\n",
    "with (mol_dir / 'state.xml').open('w') as file:\n",
    "    ser_str = XmlSerializer.serialize(state)\n",
    "    file.write(ser_str)"
   ]
  },
  {
   "cell_type": "code",
   "execution_count": null,
   "metadata": {},
   "outputs": [],
   "source": [
    "for force in sim.system.getForces():\n",
    "    print(force.getName(), force.getForceGroup())"
   ]
  },
  {
   "cell_type": "code",
   "execution_count": null,
   "metadata": {},
   "outputs": [],
   "source": [
    "help(sim.context.getState)"
   ]
  },
  {
   "cell_type": "code",
   "execution_count": null,
   "metadata": {},
   "outputs": [],
   "source": [
    "state.getEne"
   ]
  },
  {
   "cell_type": "code",
   "execution_count": null,
   "metadata": {},
   "outputs": [],
   "source": [
    "dir(force)"
   ]
  },
  {
   "cell_type": "markdown",
   "metadata": {},
   "source": [
    "# Inspecting which molecules fail and succeed and why"
   ]
  },
  {
   "cell_type": "code",
   "execution_count": null,
   "metadata": {},
   "outputs": [],
   "source": [
    "import re\n",
    "regex = re.compile(r'\\A(\\w+_\\d+)')\n",
    "\n",
    "diff = {}\n",
    "for chemistry, succ_names in success_ics.items():\n",
    "    chem_dir = coll_path / chemistry\n",
    "    for sdf_path in chem_dir.glob('**/*.sdf'):\n",
    "        mol_name = re.search(regex, sdf_path.stem).group()\n",
    "        if mol_name not in succ_names:\n",
    "            diff.append(mol_name)"
   ]
  },
  {
   "cell_type": "markdown",
   "metadata": {},
   "source": [
    "## Checking for successful residue covers of newly-generated PDB Topologies"
   ]
  },
  {
   "cell_type": "code",
   "execution_count": null,
   "metadata": {},
   "outputs": [],
   "source": [
    "chemistry = 'urethane'\n",
    "\n",
    "mgr = PolymerManager(coll_path / chemistry)\n",
    "mol_names = failed_interchanges[chemistry]['UnmatchedAtomsError']\n",
    "\n",
    "offmols = {\n",
    "    mol_name : mgr.polymers[mol_name].offmol_matched(strict=False)\n",
    "        for mol_name in mol_names\n",
    "}"
   ]
  },
  {
   "cell_type": "code",
   "execution_count": null,
   "metadata": {},
   "outputs": [],
   "source": [
    "sizes = {\n",
    "    mol_name : offmol.n_atoms\n",
    "        for mol_name, offmol in sorted(offmols.items(), key=lambda x : x[1].n_atoms)\n",
    "}"
   ]
  },
  {
   "cell_type": "code",
   "execution_count": null,
   "metadata": {},
   "outputs": [],
   "source": [
    "sizes"
   ]
  },
  {
   "cell_type": "code",
   "execution_count": null,
   "metadata": {},
   "outputs": [],
   "source": [
    "\n",
    "pdir = mgr.polymers['urethane_6']\n",
    "# pdir = mgr.polymers['NIPU_8']\n",
    "# pdir.offmol_matched(strict=True)\n",
    "\n",
    "for atom in offmol.atoms:\n",
    "    if not atom.metadata['already_matched']:\n",
    "        print(atom.metadata)"
   ]
  },
  {
   "cell_type": "code",
   "execution_count": null,
   "metadata": {},
   "outputs": [],
   "source": [
    "mgr = PolymerManager(coll_path / 'NIPU')\n",
    "\n",
    "offmols = {}\n",
    "unmatched = []\n",
    "for mol_name, polymer in mgr.polymers.items():\n",
    "    try:\n",
    "        offmols[mol_name] = polymer.offmol\n",
    "    except:\n",
    "        unmatched.append(mol_name)"
   ]
  },
  {
   "cell_type": "code",
   "execution_count": null,
   "metadata": {},
   "outputs": [],
   "source": [
    "for mol_name in unmatched:\n",
    "    print(mol_name)\n",
    "    polymer = mgr.polymers[mol_name]\n",
    "    offmol = polymer.offmol_matched(strict=False)\n",
    "    \n",
    "    for atom in offmol.atoms:\n",
    "        if not atom.metadata['already_matched']:\n",
    "            print('\\t', atom.metadata)"
   ]
  },
  {
   "cell_type": "markdown",
   "metadata": {},
   "source": [
    "# Experimenting with SDF files"
   ]
  },
  {
   "cell_type": "code",
   "execution_count": null,
   "metadata": {},
   "outputs": [],
   "source": [
    "benz = Chem.MolFromSmiles('C1ccccC=1')\n",
    "benz = Chem.AddHs(benz)\n",
    "benz.SetDoubleProp('stuff', 3.14)\n",
    "benz"
   ]
  },
  {
   "cell_type": "code",
   "execution_count": null,
   "metadata": {},
   "outputs": [],
   "source": [
    "block2k = Chem.MolToMolFile(benz, 'test_2k.sdf')\n",
    "block3k = Chem.MolToV3KMolFile(benz, 'test_3k.sdf')"
   ]
  },
  {
   "cell_type": "code",
   "execution_count": null,
   "metadata": {},
   "outputs": [],
   "source": [
    "block2kforce = Chem.MolToMolFile(benz, 'test_2k_force.sdf', forceV3000=True)"
   ]
  },
  {
   "cell_type": "code",
   "execution_count": null,
   "metadata": {},
   "outputs": [],
   "source": [
    "with Chem.SDWriter('test_sdw.sdf') as sdwriter:\n",
    "    sdwriter.SetForceV3000(True)\n",
    "    print(sdwriter.GetForceV3000())\n",
    "\n",
    "    sdwriter.write(benz)"
   ]
  },
  {
   "cell_type": "code",
   "execution_count": null,
   "metadata": {},
   "outputs": [],
   "source": [
    "with Chem.SDMolSupplier('sdf_testing/test_off_rd.sdf', sanitize=False) as suppl:\n",
    "    mols = [mol for mol in suppl]\n",
    "\n",
    "targ = mols[0]\n",
    "targ"
   ]
  },
  {
   "cell_type": "code",
   "execution_count": null,
   "metadata": {},
   "outputs": [],
   "source": [
    "omol = Molecule.from_rdkit(benz)\n",
    "omol.generate_conformers(n_conformers=1)\n",
    "omol.visualize(backend='nglview')"
   ]
  },
  {
   "cell_type": "code",
   "execution_count": null,
   "metadata": {},
   "outputs": [],
   "source": [
    "from polysaccharide import filetree\n",
    "from polysaccharide import TOOLKITS\n",
    "\n",
    "\n",
    "p = Path('sdf_testing/test_off_rd.sdf')\n",
    "tkwrap = TOOLKITS['The RDKit']\n",
    "\n",
    "omol.properties['series'] = (1,2,3)\n",
    "omol.to_file(\n",
    "    general.asstrpath(p),\n",
    "    file_format=filetree.dotless(p.suffix),\n",
    "    toolkit_registry=tkwrap\n",
    ")"
   ]
  },
  {
   "cell_type": "code",
   "execution_count": null,
   "metadata": {},
   "outputs": [],
   "source": [
    "omol_load = Molecule.from_file(\n",
    "    general.asstrpath(p),\n",
    "    file_format=filetree.dotless(p.suffix),\n",
    "    toolkit_registry=tkwrap\n",
    ")"
   ]
  },
  {
   "cell_type": "code",
   "execution_count": null,
   "metadata": {},
   "outputs": [],
   "source": []
  },
  {
   "cell_type": "code",
   "execution_count": null,
   "metadata": {},
   "outputs": [],
   "source": [
    "omol_load.properties"
   ]
  },
  {
   "cell_type": "code",
   "execution_count": null,
   "metadata": {},
   "outputs": [],
   "source": [
    "help(tkwrap.to_file)"
   ]
  },
  {
   "cell_type": "code",
   "execution_count": null,
   "metadata": {},
   "outputs": [],
   "source": [
    "help(omol.to_file)"
   ]
  },
  {
   "cell_type": "code",
   "execution_count": null,
   "metadata": {},
   "outputs": [],
   "source": []
  },
  {
   "cell_type": "code",
   "execution_count": null,
   "metadata": {},
   "outputs": [],
   "source": []
  }
 ],
 "metadata": {
  "kernelspec": {
   "display_name": "openff-dev-updated",
   "language": "python",
   "name": "python3"
  },
  "language_info": {
   "codemirror_mode": {
    "name": "ipython",
    "version": 3
   },
   "file_extension": ".py",
   "mimetype": "text/x-python",
   "name": "python",
   "nbconvert_exporter": "python",
   "pygments_lexer": "ipython3",
   "version": "3.10.9"
  },
  "orig_nbformat": 4
 },
 "nbformat": 4,
 "nbformat_minor": 2
}
